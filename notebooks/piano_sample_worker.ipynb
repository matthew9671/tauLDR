{
 "cells": [
  {
   "cell_type": "code",
   "execution_count": 1,
   "id": "c932cafe",
   "metadata": {},
   "outputs": [],
   "source": [
    "from importlib import reload\n",
    "import sys\n",
    "sys.path.insert(0, '../')\n",
    "\n",
    "# sys.path.remove(\"/home/users/yixiuz/.local/lib/python3.9/site-packages\")\n",
    "sys.path.append(\"/home/groups/swl1/yixiuz/torch_fid/lib/python3.9/site-packages\")\n",
    "sys.path.append(\"/home/groups/swl1/yixiuz/torch_fid/bin\")"
   ]
  },
  {
   "cell_type": "code",
   "execution_count": null,
   "id": "b040a5d9",
   "metadata": {},
   "outputs": [],
   "source": []
  },
  {
   "cell_type": "code",
   "execution_count": 2,
   "id": "7592bcfb",
   "metadata": {},
   "outputs": [
    {
     "name": "stderr",
     "output_type": "stream",
     "text": [
      "2024-05-20 23:23:28.171627: I tensorflow/core/platform/cpu_feature_guard.cc:193] This TensorFlow binary is optimized with oneAPI Deep Neural Network Library (oneDNN) to use the following CPU instructions in performance-critical operations:  AVX2 FMA\n",
      "To enable them in other operations, rebuild TensorFlow with the appropriate compiler flags.\n",
      "2024-05-20 23:23:28.285803: W tensorflow/compiler/xla/stream_executor/platform/default/dso_loader.cc:64] Could not load dynamic library 'libcudart.so.11.0'; dlerror: libcudart.so.11.0: cannot open shared object file: No such file or directory; LD_LIBRARY_PATH: /share/software/user/open/cudnn/8.9.0.131/lib:/usr/lib64/nvidia:/share/software/user/open/cuda/12.2.0/targets/x86_64-linux/lib:/share/software/user/open/cuda/12.2.0/lib64:/share/software/user/open/cuda/12.2.0/nvvm/lib64:/share/software/user/open/cuda/12.2.0/extras/Debugger/lib64:/share/software/user/open/cuda/12.2.0/extras/CUPTI/lib64:/share/software/user/open/python/3.9.0/lib:/share/software/user/open/libffi/3.2.1/lib64:/share/software/user/open/sqlite/3.44.2/lib:/share/software/user/open/readline/8.2/lib:/share/software/user/open/ncurses/6.4/lib:/share/software/user/open/tcltk/8.6.6/lib:/share/software/user/open/libressl/3.2.1/lib:/share/software/user/open/zlib/1.2.11/lib\n",
      "2024-05-20 23:23:28.285846: I tensorflow/compiler/xla/stream_executor/cuda/cudart_stub.cc:29] Ignore above cudart dlerror if you do not have a GPU set up on your machine.\n",
      "2024-05-20 23:23:30.267942: W tensorflow/compiler/xla/stream_executor/platform/default/dso_loader.cc:64] Could not load dynamic library 'libnvinfer.so.7'; dlerror: libnvinfer.so.7: cannot open shared object file: No such file or directory; LD_LIBRARY_PATH: /share/software/user/open/cudnn/8.9.0.131/lib:/usr/lib64/nvidia:/share/software/user/open/cuda/12.2.0/targets/x86_64-linux/lib:/share/software/user/open/cuda/12.2.0/lib64:/share/software/user/open/cuda/12.2.0/nvvm/lib64:/share/software/user/open/cuda/12.2.0/extras/Debugger/lib64:/share/software/user/open/cuda/12.2.0/extras/CUPTI/lib64:/share/software/user/open/python/3.9.0/lib:/share/software/user/open/libffi/3.2.1/lib64:/share/software/user/open/sqlite/3.44.2/lib:/share/software/user/open/readline/8.2/lib:/share/software/user/open/ncurses/6.4/lib:/share/software/user/open/tcltk/8.6.6/lib:/share/software/user/open/libressl/3.2.1/lib:/share/software/user/open/zlib/1.2.11/lib\n",
      "2024-05-20 23:23:30.268106: W tensorflow/compiler/xla/stream_executor/platform/default/dso_loader.cc:64] Could not load dynamic library 'libnvinfer_plugin.so.7'; dlerror: libnvinfer_plugin.so.7: cannot open shared object file: No such file or directory; LD_LIBRARY_PATH: /share/software/user/open/cudnn/8.9.0.131/lib:/usr/lib64/nvidia:/share/software/user/open/cuda/12.2.0/targets/x86_64-linux/lib:/share/software/user/open/cuda/12.2.0/lib64:/share/software/user/open/cuda/12.2.0/nvvm/lib64:/share/software/user/open/cuda/12.2.0/extras/Debugger/lib64:/share/software/user/open/cuda/12.2.0/extras/CUPTI/lib64:/share/software/user/open/python/3.9.0/lib:/share/software/user/open/libffi/3.2.1/lib64:/share/software/user/open/sqlite/3.44.2/lib:/share/software/user/open/readline/8.2/lib:/share/software/user/open/ncurses/6.4/lib:/share/software/user/open/tcltk/8.6.6/lib:/share/software/user/open/libressl/3.2.1/lib:/share/software/user/open/zlib/1.2.11/lib\n",
      "2024-05-20 23:23:30.268117: W tensorflow/compiler/tf2tensorrt/utils/py_utils.cc:38] TF-TRT Warning: Cannot dlopen some TensorRT libraries. If you would like to use Nvidia GPU with TensorRT, please make sure the missing libraries mentioned above are installed properly.\n"
     ]
    }
   ],
   "source": [
    "import matplotlib\n",
    "import torch\n",
    "import torch.nn as nn\n",
    "import torch.nn.functional as F\n",
    "import ml_collections\n",
    "\n",
    "import lib.utils.bookkeeping as bookkeeping\n",
    "from pathlib import Path\n",
    "import numpy as np\n",
    "import matplotlib.pyplot as plt\n",
    "\n",
    "import lib.utils.utils as utils\n",
    "import lib.models.models as models\n",
    "import lib.models.model_utils as model_utils\n",
    "import lib.datasets.datasets as datasets\n",
    "import lib.datasets.dataset_utils as dataset_utils\n",
    "import lib.sampling.sampling as sampling\n",
    "import lib.sampling.sampling_utils as sampling_utils\n",
    "\n",
    "import config.eval.piano_hollow as piano\n",
    "\n",
    "%matplotlib inline\n",
    "\n",
    "eval_cfg = piano.get_config()\n",
    "train_cfg = bookkeeping.load_ml_collections(Path(eval_cfg.train_config_path))\n",
    "\n",
    "for item in eval_cfg.train_config_overrides:\n",
    "    utils.set_in_nested_dict(train_cfg, item[0], item[1])\n",
    "\n",
    "S = train_cfg.data.S\n",
    "# device = torch.device(eval_cfg.device)\n",
    "device = torch.device(\"cuda\")\n",
    "\n",
    "model = model_utils.create_model(train_cfg, device)\n",
    "\n",
    "loaded_state = torch.load(Path(eval_cfg.checkpoint_path),\n",
    "    map_location=device)\n",
    "\n",
    "modified_model_state = utils.remove_module_from_keys(loaded_state['model'])\n",
    "model.load_state_dict(modified_model_state)\n",
    "\n",
    "model.eval()\n",
    "\n",
    "dataset = dataset_utils.get_dataset(eval_cfg, device)\n",
    "data = dataset.data\n",
    "test_dataset = np.load(eval_cfg.sampler.test_dataset)\n",
    "condition_dim = eval_cfg.sampler.condition_dim\n",
    "descramble_key = np.loadtxt(eval_cfg.pianoroll_dataset_path + '/descramble_key.txt')\n",
    "# The mask stays the same\n",
    "descramble_key = np.concatenate([descramble_key, np.array([descramble_key.shape[0]])], axis=0)\n",
    "\n",
    "def descramble(samples):\n",
    "    return descramble_key[samples.flatten()].reshape(*samples.shape)\n",
    "\n",
    "descrambled_test_dataset = descramble(test_dataset)"
   ]
  },
  {
   "cell_type": "code",
   "execution_count": 3,
   "id": "f7f22528",
   "metadata": {},
   "outputs": [],
   "source": [
    "from eval import outliers, get_dist, hellinger, eval_mse_stats, save_results\n",
    "from tqdm import tqdm"
   ]
  },
  {
   "cell_type": "code",
   "execution_count": 4,
   "id": "b30a20d9",
   "metadata": {},
   "outputs": [],
   "source": [
    "def run_experiments(num_repeats, sample_size, batch_size, \n",
    "                    results_file,\n",
    "                   method, g_steps, tau_steps, \n",
    "                    c_steps, c_stepsize, corrector):\n",
    "    \n",
    "    tqdm._instances.clear()\n",
    "\n",
    "    # Specific to each method\n",
    "    eval_cfg.sampler.num_steps = tau_steps\n",
    "    eval_cfg.sampler.updates_per_eval = g_steps\n",
    "    \n",
    "    # Generic corrector fields\n",
    "    eval_cfg.sampler.num_corrector_steps = c_steps\n",
    "    eval_cfg.sampler.corrector_entry_time = 0.9\n",
    "    eval_cfg.sampler.corrector_step_size_multiplier = c_stepsize\n",
    "    eval_cfg.sampler.balancing_function = corrector\n",
    "\n",
    "    if method == \"gillespies\":\n",
    "        eval_cfg.sampler.name = \"ConditionalPCMultiGillespies\"\n",
    "    elif method == \"tauleaping\":\n",
    "        eval_cfg.sampler.name = \"ConditionalPCTauLeapingAbsorbingInformed\"\n",
    "    else:\n",
    "        assert(False)\n",
    "\n",
    "    sampler = sampling_utils.get_sampler(eval_cfg)\n",
    "\n",
    "    results = []\n",
    "\n",
    "    test_size = sample_size\n",
    "    \n",
    "    for _ in range(num_repeats):\n",
    "        \n",
    "        try:\n",
    "            h_dists = []\n",
    "            outlier_rates = []\n",
    "            for start in range(0, test_size, batch_size):\n",
    "                end = min(start + batch_size, test_size)\n",
    "                size = end - start\n",
    "\n",
    "                conditioner = torch.from_numpy(test_dataset[start:end, :condition_dim]).to(device)\n",
    "                samples, out = sampler.sample(model, size, 0, conditioner)\n",
    "                # !Important to descramble!\n",
    "                samples = descramble(samples)\n",
    "\n",
    "                for i in range(size):\n",
    "                    h = hellinger(descrambled_test_dataset[start+i, :], samples[i, :], S)\n",
    "                    r = outliers(descrambled_test_dataset[start+i, :], samples[i, :], S)\n",
    "                    h_dists.append(h)\n",
    "                    outlier_rates.append(r)\n",
    "            # !\n",
    "            D = eval_cfg.data.shape[0] - eval_cfg.sampler.condition_dim\n",
    "            if method == \"gillespies\":\n",
    "                nfe = D / eval_cfg.sampler.updates_per_eval\n",
    "            elif method == \"tauleaping\":\n",
    "                nfe = eval_cfg.sampler.num_steps\n",
    "            nfe += nfe * eval_cfg.sampler.corrector_entry_time * eval_cfg.sampler.num_corrector_steps\n",
    "\n",
    "            new_result = {\n",
    "                    'method': method,\n",
    "                    'g_steps': 0 if method != \"gillespies\" else eval_cfg.sampler.updates_per_eval,\n",
    "                    'tau_steps': 0 if method != \"tauleaping\" else eval_cfg.sampler.num_steps,\n",
    "                    'use_corrector': eval_cfg.sampler.corrector_entry_time > 0 \n",
    "                                 and eval_cfg.sampler.num_corrector_steps > 0,\n",
    "                    'corrector': eval_cfg.sampler.balancing_function,\n",
    "                    'c_stepsize': eval_cfg.sampler.corrector_step_size_multiplier,\n",
    "                    'c_steps': eval_cfg.sampler.num_corrector_steps,\n",
    "                    'nfe': nfe,\n",
    "                    'h_dist': np.mean(h_dists),\n",
    "                    'outlier_rate': np.mean(outlier_rates),\n",
    "                }\n",
    "            print(new_result)\n",
    "            results.append(new_result)\n",
    "        except Exception as e:\n",
    "            # Handle the error and print the error message\n",
    "            print(f\"An error occurred: {e}\")\n",
    "            \n",
    "\n",
    "    save_results(results, results_file)"
   ]
  },
  {
   "cell_type": "code",
   "execution_count": 5,
   "id": "19cfadf4",
   "metadata": {
    "collapsed": true
   },
   "outputs": [
    {
     "name": "stderr",
     "output_type": "stream",
     "text": [
      "49it [00:01, 34.43it/s]\n"
     ]
    },
    {
     "name": "stdout",
     "output_type": "stream",
     "text": [
      "{'method': 'tauleaping', 'g_steps': 0, 'tau_steps': 50, 'use_corrector': True, 'corrector': 'mpf', 'c_stepsize': 1.0, 'c_steps': 2, 'nfe': 140.0, 'h_dist': 0.26276069890124965, 'outlier_rate': 0.077734375}\n"
     ]
    },
    {
     "name": "stderr",
     "output_type": "stream",
     "text": [
      "49it [00:01, 37.88it/s]\n"
     ]
    },
    {
     "name": "stdout",
     "output_type": "stream",
     "text": [
      "{'method': 'tauleaping', 'g_steps': 0, 'tau_steps': 50, 'use_corrector': True, 'corrector': 'mpf', 'c_stepsize': 1.0, 'c_steps': 2, 'nfe': 140.0, 'h_dist': 0.26873401892136234, 'outlier_rate': 0.0921875}\n",
      "Experiment results saved to  piano_results_test.csv\n"
     ]
    },
    {
     "name": "stderr",
     "output_type": "stream",
     "text": [
      "9it [00:00, 54.73it/s]\n"
     ]
    },
    {
     "ename": "KeyboardInterrupt",
     "evalue": "",
     "output_type": "error",
     "traceback": [
      "\u001b[0;31m---------------------------------------------------------------------------\u001b[0m",
      "\u001b[0;31mKeyboardInterrupt\u001b[0m                         Traceback (most recent call last)",
      "\u001b[0;32m/tmp/ipykernel_32351/3106793741.py\u001b[0m in \u001b[0;36m<module>\u001b[0;34m\u001b[0m\n\u001b[1;32m     22\u001b[0m         \u001b[0mtau_steps\u001b[0m \u001b[0;34m=\u001b[0m \u001b[0mnum_sample_steps\u001b[0m\u001b[0;34m[\u001b[0m\u001b[0;36m0\u001b[0m\u001b[0;34m]\u001b[0m\u001b[0;34m\u001b[0m\u001b[0;34m\u001b[0m\u001b[0m\n\u001b[1;32m     23\u001b[0m         \u001b[0mc_steps\u001b[0m \u001b[0;34m=\u001b[0m \u001b[0mcorrector_steps\u001b[0m\u001b[0;34m\u001b[0m\u001b[0;34m\u001b[0m\u001b[0m\n\u001b[0;32m---> 24\u001b[0;31m         run_experiments(num_repeats=num_repeats, \n\u001b[0m\u001b[1;32m     25\u001b[0m                         \u001b[0msample_size\u001b[0m\u001b[0;34m=\u001b[0m\u001b[0msample_size\u001b[0m\u001b[0;34m,\u001b[0m \u001b[0mbatch_size\u001b[0m\u001b[0;34m=\u001b[0m\u001b[0mbatch_size\u001b[0m\u001b[0;34m,\u001b[0m\u001b[0;34m\u001b[0m\u001b[0;34m\u001b[0m\u001b[0m\n\u001b[1;32m     26\u001b[0m                         \u001b[0mresults_file\u001b[0m\u001b[0;34m=\u001b[0m\u001b[0mresults_file\u001b[0m\u001b[0;34m,\u001b[0m\u001b[0;34m\u001b[0m\u001b[0;34m\u001b[0m\u001b[0m\n",
      "\u001b[0;32m/tmp/ipykernel_32351/2777453409.py\u001b[0m in \u001b[0;36mrun_experiments\u001b[0;34m(num_repeats, sample_size, batch_size, results_file, method, g_steps, tau_steps, c_steps, c_stepsize, corrector)\u001b[0m\n\u001b[1;32m     39\u001b[0m \u001b[0;34m\u001b[0m\u001b[0m\n\u001b[1;32m     40\u001b[0m                 \u001b[0mconditioner\u001b[0m \u001b[0;34m=\u001b[0m \u001b[0mtorch\u001b[0m\u001b[0;34m.\u001b[0m\u001b[0mfrom_numpy\u001b[0m\u001b[0;34m(\u001b[0m\u001b[0mtest_dataset\u001b[0m\u001b[0;34m[\u001b[0m\u001b[0mstart\u001b[0m\u001b[0;34m:\u001b[0m\u001b[0mend\u001b[0m\u001b[0;34m,\u001b[0m \u001b[0;34m:\u001b[0m\u001b[0mcondition_dim\u001b[0m\u001b[0;34m]\u001b[0m\u001b[0;34m)\u001b[0m\u001b[0;34m.\u001b[0m\u001b[0mto\u001b[0m\u001b[0;34m(\u001b[0m\u001b[0mdevice\u001b[0m\u001b[0;34m)\u001b[0m\u001b[0;34m\u001b[0m\u001b[0;34m\u001b[0m\u001b[0m\n\u001b[0;32m---> 41\u001b[0;31m                 \u001b[0msamples\u001b[0m\u001b[0;34m,\u001b[0m \u001b[0mout\u001b[0m \u001b[0;34m=\u001b[0m \u001b[0msampler\u001b[0m\u001b[0;34m.\u001b[0m\u001b[0msample\u001b[0m\u001b[0;34m(\u001b[0m\u001b[0mmodel\u001b[0m\u001b[0;34m,\u001b[0m \u001b[0msize\u001b[0m\u001b[0;34m,\u001b[0m \u001b[0;36m0\u001b[0m\u001b[0;34m,\u001b[0m \u001b[0mconditioner\u001b[0m\u001b[0;34m)\u001b[0m\u001b[0;34m\u001b[0m\u001b[0;34m\u001b[0m\u001b[0m\n\u001b[0m\u001b[1;32m     42\u001b[0m                 \u001b[0;31m# !Important to descramble!\u001b[0m\u001b[0;34m\u001b[0m\u001b[0;34m\u001b[0m\u001b[0;34m\u001b[0m\u001b[0m\n\u001b[1;32m     43\u001b[0m                 \u001b[0msamples\u001b[0m \u001b[0;34m=\u001b[0m \u001b[0mdescramble\u001b[0m\u001b[0;34m(\u001b[0m\u001b[0msamples\u001b[0m\u001b[0;34m)\u001b[0m\u001b[0;34m\u001b[0m\u001b[0;34m\u001b[0m\u001b[0m\n",
      "\u001b[0;32m/home/groups/swl1/yixiuz/torch_fid/tauLDR/lib/sampling/sampling.py\u001b[0m in \u001b[0;36msample\u001b[0;34m(self, model, N, num_intermediates, conditioner)\u001b[0m\n\u001b[1;32m   1268\u001b[0m                 \u001b[0;32mif\u001b[0m \u001b[0mt\u001b[0m \u001b[0;34m<=\u001b[0m \u001b[0mcorrector_entry_time\u001b[0m\u001b[0;34m:\u001b[0m\u001b[0;34m\u001b[0m\u001b[0;34m\u001b[0m\u001b[0m\n\u001b[1;32m   1269\u001b[0m                     \u001b[0;32mfor\u001b[0m \u001b[0mcstep\u001b[0m \u001b[0;32min\u001b[0m \u001b[0mrange\u001b[0m\u001b[0;34m(\u001b[0m\u001b[0mnum_corrector_steps\u001b[0m\u001b[0;34m)\u001b[0m\u001b[0;34m:\u001b[0m\u001b[0;34m\u001b[0m\u001b[0;34m\u001b[0m\u001b[0m\n\u001b[0;32m-> 1270\u001b[0;31m                         \u001b[0mforward_rates\u001b[0m\u001b[0;34m,\u001b[0m \u001b[0mtranspose_forward_rates\u001b[0m\u001b[0;34m,\u001b[0m \u001b[0mreverse_rates\u001b[0m\u001b[0;34m,\u001b[0m \u001b[0m_\u001b[0m\u001b[0;34m,\u001b[0m \u001b[0mscores\u001b[0m \u001b[0;34m=\u001b[0m \u001b[0mget_rates\u001b[0m\u001b[0;34m(\u001b[0m\u001b[0mx\u001b[0m\u001b[0;34m,\u001b[0m \u001b[0mt\u001b[0m\u001b[0;34m-\u001b[0m\u001b[0mh\u001b[0m\u001b[0;34m)\u001b[0m\u001b[0;34m\u001b[0m\u001b[0;34m\u001b[0m\u001b[0m\n\u001b[0m\u001b[1;32m   1271\u001b[0m                         \u001b[0;32mif\u001b[0m \u001b[0mbalancing_function\u001b[0m \u001b[0;32mis\u001b[0m \u001b[0;32mNone\u001b[0m\u001b[0;34m:\u001b[0m\u001b[0;34m\u001b[0m\u001b[0;34m\u001b[0m\u001b[0m\n\u001b[1;32m   1272\u001b[0m                             \u001b[0;31m# We're using the default corrector\u001b[0m\u001b[0;34m\u001b[0m\u001b[0;34m\u001b[0m\u001b[0;34m\u001b[0m\u001b[0m\n",
      "\u001b[0;32m/home/groups/swl1/yixiuz/torch_fid/tauLDR/lib/sampling/sampling.py\u001b[0m in \u001b[0;36mget_rates\u001b[0;34m(in_x, in_t)\u001b[0m\n\u001b[1;32m   1213\u001b[0m \u001b[0;34m\u001b[0m\u001b[0m\n\u001b[1;32m   1214\u001b[0m                     \u001b[0mmodel_input\u001b[0m \u001b[0;34m=\u001b[0m \u001b[0mtorch\u001b[0m\u001b[0;34m.\u001b[0m\u001b[0mconcat\u001b[0m\u001b[0;34m(\u001b[0m\u001b[0;34m(\u001b[0m\u001b[0mconditioner\u001b[0m\u001b[0;34m,\u001b[0m \u001b[0min_x\u001b[0m\u001b[0;34m)\u001b[0m\u001b[0;34m,\u001b[0m \u001b[0mdim\u001b[0m\u001b[0;34m=\u001b[0m\u001b[0;36m1\u001b[0m\u001b[0;34m)\u001b[0m\u001b[0;34m\u001b[0m\u001b[0;34m\u001b[0m\u001b[0m\n\u001b[0;32m-> 1215\u001b[0;31m                     \u001b[0mp0t\u001b[0m \u001b[0;34m=\u001b[0m \u001b[0mF\u001b[0m\u001b[0;34m.\u001b[0m\u001b[0msoftmax\u001b[0m\u001b[0;34m(\u001b[0m\u001b[0mmodel\u001b[0m\u001b[0;34m(\u001b[0m\u001b[0mmodel_input\u001b[0m\u001b[0;34m,\u001b[0m \u001b[0min_t\u001b[0m \u001b[0;34m*\u001b[0m \u001b[0mtorch\u001b[0m\u001b[0;34m.\u001b[0m\u001b[0mones\u001b[0m\u001b[0;34m(\u001b[0m\u001b[0;34m(\u001b[0m\u001b[0mN\u001b[0m\u001b[0;34m,\u001b[0m\u001b[0;34m)\u001b[0m\u001b[0;34m,\u001b[0m \u001b[0mdevice\u001b[0m\u001b[0;34m=\u001b[0m\u001b[0mdevice\u001b[0m\u001b[0;34m)\u001b[0m\u001b[0;34m)\u001b[0m\u001b[0;34m,\u001b[0m \u001b[0mdim\u001b[0m\u001b[0;34m=\u001b[0m\u001b[0;36m2\u001b[0m\u001b[0;34m)\u001b[0m \u001b[0;31m# (N, D, S)\u001b[0m\u001b[0;34m\u001b[0m\u001b[0;34m\u001b[0m\u001b[0m\n\u001b[0m\u001b[1;32m   1216\u001b[0m                     \u001b[0mp0t\u001b[0m \u001b[0;34m=\u001b[0m \u001b[0mp0t\u001b[0m\u001b[0;34m[\u001b[0m\u001b[0;34m:\u001b[0m\u001b[0;34m,\u001b[0m \u001b[0mcondition_dim\u001b[0m\u001b[0;34m:\u001b[0m\u001b[0;34m,\u001b[0m \u001b[0;34m:\u001b[0m\u001b[0;34m]\u001b[0m\u001b[0;34m\u001b[0m\u001b[0;34m\u001b[0m\u001b[0m\n\u001b[1;32m   1217\u001b[0m \u001b[0;34m\u001b[0m\u001b[0m\n",
      "\u001b[0;32m/home/groups/swl1/yixiuz/torch_fid/lib/python3.9/site-packages/torch/nn/modules/module.py\u001b[0m in \u001b[0;36m_wrapped_call_impl\u001b[0;34m(self, *args, **kwargs)\u001b[0m\n\u001b[1;32m   1509\u001b[0m             \u001b[0;32mreturn\u001b[0m \u001b[0mself\u001b[0m\u001b[0;34m.\u001b[0m\u001b[0m_compiled_call_impl\u001b[0m\u001b[0;34m(\u001b[0m\u001b[0;34m*\u001b[0m\u001b[0margs\u001b[0m\u001b[0;34m,\u001b[0m \u001b[0;34m**\u001b[0m\u001b[0mkwargs\u001b[0m\u001b[0;34m)\u001b[0m  \u001b[0;31m# type: ignore[misc]\u001b[0m\u001b[0;34m\u001b[0m\u001b[0;34m\u001b[0m\u001b[0m\n\u001b[1;32m   1510\u001b[0m         \u001b[0;32melse\u001b[0m\u001b[0;34m:\u001b[0m\u001b[0;34m\u001b[0m\u001b[0;34m\u001b[0m\u001b[0m\n\u001b[0;32m-> 1511\u001b[0;31m             \u001b[0;32mreturn\u001b[0m \u001b[0mself\u001b[0m\u001b[0;34m.\u001b[0m\u001b[0m_call_impl\u001b[0m\u001b[0;34m(\u001b[0m\u001b[0;34m*\u001b[0m\u001b[0margs\u001b[0m\u001b[0;34m,\u001b[0m \u001b[0;34m**\u001b[0m\u001b[0mkwargs\u001b[0m\u001b[0;34m)\u001b[0m\u001b[0;34m\u001b[0m\u001b[0;34m\u001b[0m\u001b[0m\n\u001b[0m\u001b[1;32m   1512\u001b[0m \u001b[0;34m\u001b[0m\u001b[0m\n\u001b[1;32m   1513\u001b[0m     \u001b[0;32mdef\u001b[0m \u001b[0m_call_impl\u001b[0m\u001b[0;34m(\u001b[0m\u001b[0mself\u001b[0m\u001b[0;34m,\u001b[0m \u001b[0;34m*\u001b[0m\u001b[0margs\u001b[0m\u001b[0;34m,\u001b[0m \u001b[0;34m**\u001b[0m\u001b[0mkwargs\u001b[0m\u001b[0;34m)\u001b[0m\u001b[0;34m:\u001b[0m\u001b[0;34m\u001b[0m\u001b[0;34m\u001b[0m\u001b[0m\n",
      "\u001b[0;32m/home/groups/swl1/yixiuz/torch_fid/lib/python3.9/site-packages/torch/nn/modules/module.py\u001b[0m in \u001b[0;36m_call_impl\u001b[0;34m(self, *args, **kwargs)\u001b[0m\n\u001b[1;32m   1518\u001b[0m                 \u001b[0;32mor\u001b[0m \u001b[0m_global_backward_pre_hooks\u001b[0m \u001b[0;32mor\u001b[0m \u001b[0m_global_backward_hooks\u001b[0m\u001b[0;34m\u001b[0m\u001b[0;34m\u001b[0m\u001b[0m\n\u001b[1;32m   1519\u001b[0m                 or _global_forward_hooks or _global_forward_pre_hooks):\n\u001b[0;32m-> 1520\u001b[0;31m             \u001b[0;32mreturn\u001b[0m \u001b[0mforward_call\u001b[0m\u001b[0;34m(\u001b[0m\u001b[0;34m*\u001b[0m\u001b[0margs\u001b[0m\u001b[0;34m,\u001b[0m \u001b[0;34m**\u001b[0m\u001b[0mkwargs\u001b[0m\u001b[0;34m)\u001b[0m\u001b[0;34m\u001b[0m\u001b[0;34m\u001b[0m\u001b[0m\n\u001b[0m\u001b[1;32m   1521\u001b[0m \u001b[0;34m\u001b[0m\u001b[0m\n\u001b[1;32m   1522\u001b[0m         \u001b[0;32mtry\u001b[0m\u001b[0;34m:\u001b[0m\u001b[0;34m\u001b[0m\u001b[0;34m\u001b[0m\u001b[0m\n",
      "\u001b[0;32m/home/groups/swl1/yixiuz/torch_fid/tauLDR/lib/models/models.py\u001b[0m in \u001b[0;36mforward\u001b[0;34m(self, x, times)\u001b[0m\n\u001b[1;32m    582\u001b[0m         \u001b[0mS\u001b[0m \u001b[0;34m=\u001b[0m \u001b[0mself\u001b[0m\u001b[0;34m.\u001b[0m\u001b[0mS\u001b[0m\u001b[0;34m\u001b[0m\u001b[0;34m\u001b[0m\u001b[0m\n\u001b[1;32m    583\u001b[0m \u001b[0;34m\u001b[0m\u001b[0m\n\u001b[0;32m--> 584\u001b[0;31m         \u001b[0mlogits\u001b[0m \u001b[0;34m=\u001b[0m \u001b[0mself\u001b[0m\u001b[0;34m.\u001b[0m\u001b[0mnet\u001b[0m\u001b[0;34m(\u001b[0m\u001b[0mx\u001b[0m\u001b[0;34m.\u001b[0m\u001b[0mlong\u001b[0m\u001b[0;34m(\u001b[0m\u001b[0;34m)\u001b[0m\u001b[0;34m,\u001b[0m \u001b[0mtimes\u001b[0m\u001b[0;34m.\u001b[0m\u001b[0mlong\u001b[0m\u001b[0;34m(\u001b[0m\u001b[0;34m)\u001b[0m\u001b[0;34m)\u001b[0m \u001b[0;31m# (B, D, S)\u001b[0m\u001b[0;34m\u001b[0m\u001b[0;34m\u001b[0m\u001b[0m\n\u001b[0m\u001b[1;32m    585\u001b[0m \u001b[0;34m\u001b[0m\u001b[0m\n\u001b[1;32m    586\u001b[0m         \u001b[0;32mreturn\u001b[0m \u001b[0mlogits\u001b[0m\u001b[0;34m\u001b[0m\u001b[0;34m\u001b[0m\u001b[0m\n",
      "\u001b[0;32m/home/groups/swl1/yixiuz/torch_fid/lib/python3.9/site-packages/torch/nn/modules/module.py\u001b[0m in \u001b[0;36m_wrapped_call_impl\u001b[0;34m(self, *args, **kwargs)\u001b[0m\n\u001b[1;32m   1509\u001b[0m             \u001b[0;32mreturn\u001b[0m \u001b[0mself\u001b[0m\u001b[0;34m.\u001b[0m\u001b[0m_compiled_call_impl\u001b[0m\u001b[0;34m(\u001b[0m\u001b[0;34m*\u001b[0m\u001b[0margs\u001b[0m\u001b[0;34m,\u001b[0m \u001b[0;34m**\u001b[0m\u001b[0mkwargs\u001b[0m\u001b[0;34m)\u001b[0m  \u001b[0;31m# type: ignore[misc]\u001b[0m\u001b[0;34m\u001b[0m\u001b[0;34m\u001b[0m\u001b[0m\n\u001b[1;32m   1510\u001b[0m         \u001b[0;32melse\u001b[0m\u001b[0;34m:\u001b[0m\u001b[0;34m\u001b[0m\u001b[0;34m\u001b[0m\u001b[0m\n\u001b[0;32m-> 1511\u001b[0;31m             \u001b[0;32mreturn\u001b[0m \u001b[0mself\u001b[0m\u001b[0;34m.\u001b[0m\u001b[0m_call_impl\u001b[0m\u001b[0;34m(\u001b[0m\u001b[0;34m*\u001b[0m\u001b[0margs\u001b[0m\u001b[0;34m,\u001b[0m \u001b[0;34m**\u001b[0m\u001b[0mkwargs\u001b[0m\u001b[0;34m)\u001b[0m\u001b[0;34m\u001b[0m\u001b[0;34m\u001b[0m\u001b[0m\n\u001b[0m\u001b[1;32m   1512\u001b[0m \u001b[0;34m\u001b[0m\u001b[0m\n\u001b[1;32m   1513\u001b[0m     \u001b[0;32mdef\u001b[0m \u001b[0m_call_impl\u001b[0m\u001b[0;34m(\u001b[0m\u001b[0mself\u001b[0m\u001b[0;34m,\u001b[0m \u001b[0;34m*\u001b[0m\u001b[0margs\u001b[0m\u001b[0;34m,\u001b[0m \u001b[0;34m**\u001b[0m\u001b[0mkwargs\u001b[0m\u001b[0;34m)\u001b[0m\u001b[0;34m:\u001b[0m\u001b[0;34m\u001b[0m\u001b[0;34m\u001b[0m\u001b[0m\n",
      "\u001b[0;32m/home/groups/swl1/yixiuz/torch_fid/lib/python3.9/site-packages/torch/nn/modules/module.py\u001b[0m in \u001b[0;36m_call_impl\u001b[0;34m(self, *args, **kwargs)\u001b[0m\n\u001b[1;32m   1518\u001b[0m                 \u001b[0;32mor\u001b[0m \u001b[0m_global_backward_pre_hooks\u001b[0m \u001b[0;32mor\u001b[0m \u001b[0m_global_backward_hooks\u001b[0m\u001b[0;34m\u001b[0m\u001b[0;34m\u001b[0m\u001b[0m\n\u001b[1;32m   1519\u001b[0m                 or _global_forward_hooks or _global_forward_pre_hooks):\n\u001b[0;32m-> 1520\u001b[0;31m             \u001b[0;32mreturn\u001b[0m \u001b[0mforward_call\u001b[0m\u001b[0;34m(\u001b[0m\u001b[0;34m*\u001b[0m\u001b[0margs\u001b[0m\u001b[0;34m,\u001b[0m \u001b[0;34m**\u001b[0m\u001b[0mkwargs\u001b[0m\u001b[0;34m)\u001b[0m\u001b[0;34m\u001b[0m\u001b[0;34m\u001b[0m\u001b[0m\n\u001b[0m\u001b[1;32m   1521\u001b[0m \u001b[0;34m\u001b[0m\u001b[0m\n\u001b[1;32m   1522\u001b[0m         \u001b[0;32mtry\u001b[0m\u001b[0;34m:\u001b[0m\u001b[0;34m\u001b[0m\u001b[0;34m\u001b[0m\u001b[0m\n",
      "\u001b[0;32m/home/groups/swl1/yixiuz/torch_fid/tauLDR/lib/networks/hollow_transformers.py\u001b[0m in \u001b[0;36mforward\u001b[0;34m(self, x, times)\u001b[0m\n\u001b[1;32m    315\u001b[0m         \u001b[0;31m# for encoder_layer in self.encoder_layers:\u001b[0m\u001b[0;34m\u001b[0m\u001b[0;34m\u001b[0m\u001b[0;34m\u001b[0m\u001b[0m\n\u001b[1;32m    316\u001b[0m         \u001b[0;32mfor\u001b[0m \u001b[0mi\u001b[0m \u001b[0;32min\u001b[0m \u001b[0mrange\u001b[0m\u001b[0;34m(\u001b[0m\u001b[0mlen\u001b[0m\u001b[0;34m(\u001b[0m\u001b[0mself\u001b[0m\u001b[0;34m.\u001b[0m\u001b[0mdouble_encoder_layers\u001b[0m\u001b[0;34m)\u001b[0m\u001b[0;34m)\u001b[0m\u001b[0;34m:\u001b[0m\u001b[0;34m\u001b[0m\u001b[0;34m\u001b[0m\u001b[0m\n\u001b[0;32m--> 317\u001b[0;31m             \u001b[0mxf\u001b[0m\u001b[0;34m,\u001b[0m \u001b[0mxb\u001b[0m \u001b[0;34m=\u001b[0m \u001b[0mself\u001b[0m\u001b[0;34m.\u001b[0m\u001b[0mdouble_encoder_layers\u001b[0m\u001b[0;34m[\u001b[0m\u001b[0mi\u001b[0m\u001b[0;34m]\u001b[0m\u001b[0;34m(\u001b[0m\u001b[0mxf\u001b[0m\u001b[0;34m,\u001b[0m \u001b[0mxb\u001b[0m\u001b[0;34m,\u001b[0m \u001b[0mtemb\u001b[0m\u001b[0;34m)\u001b[0m\u001b[0;34m\u001b[0m\u001b[0;34m\u001b[0m\u001b[0m\n\u001b[0m\u001b[1;32m    318\u001b[0m             \u001b[0;32mif\u001b[0m \u001b[0;34m(\u001b[0m\u001b[0mi\u001b[0m\u001b[0;34m+\u001b[0m\u001b[0;36m1\u001b[0m\u001b[0;34m)\u001b[0m \u001b[0;34m%\u001b[0m \u001b[0mself\u001b[0m\u001b[0;34m.\u001b[0m\u001b[0mnum_layers_per_mixed\u001b[0m \u001b[0;34m==\u001b[0m \u001b[0;36m0\u001b[0m\u001b[0;34m:\u001b[0m\u001b[0;34m\u001b[0m\u001b[0;34m\u001b[0m\u001b[0m\n\u001b[1;32m    319\u001b[0m                 \u001b[0mxb_flipped\u001b[0m \u001b[0;34m=\u001b[0m \u001b[0mtorch\u001b[0m\u001b[0;34m.\u001b[0m\u001b[0mflip\u001b[0m\u001b[0;34m(\u001b[0m\u001b[0mxb\u001b[0m\u001b[0;34m,\u001b[0m \u001b[0;34m[\u001b[0m\u001b[0;36m1\u001b[0m\u001b[0;34m]\u001b[0m\u001b[0;34m)\u001b[0m\u001b[0;34m\u001b[0m\u001b[0;34m\u001b[0m\u001b[0m\n",
      "\u001b[0;32m/home/groups/swl1/yixiuz/torch_fid/lib/python3.9/site-packages/torch/nn/modules/module.py\u001b[0m in \u001b[0;36m_wrapped_call_impl\u001b[0;34m(self, *args, **kwargs)\u001b[0m\n\u001b[1;32m   1509\u001b[0m             \u001b[0;32mreturn\u001b[0m \u001b[0mself\u001b[0m\u001b[0;34m.\u001b[0m\u001b[0m_compiled_call_impl\u001b[0m\u001b[0;34m(\u001b[0m\u001b[0;34m*\u001b[0m\u001b[0margs\u001b[0m\u001b[0;34m,\u001b[0m \u001b[0;34m**\u001b[0m\u001b[0mkwargs\u001b[0m\u001b[0;34m)\u001b[0m  \u001b[0;31m# type: ignore[misc]\u001b[0m\u001b[0;34m\u001b[0m\u001b[0;34m\u001b[0m\u001b[0m\n\u001b[1;32m   1510\u001b[0m         \u001b[0;32melse\u001b[0m\u001b[0;34m:\u001b[0m\u001b[0;34m\u001b[0m\u001b[0;34m\u001b[0m\u001b[0m\n\u001b[0;32m-> 1511\u001b[0;31m             \u001b[0;32mreturn\u001b[0m \u001b[0mself\u001b[0m\u001b[0;34m.\u001b[0m\u001b[0m_call_impl\u001b[0m\u001b[0;34m(\u001b[0m\u001b[0;34m*\u001b[0m\u001b[0margs\u001b[0m\u001b[0;34m,\u001b[0m \u001b[0;34m**\u001b[0m\u001b[0mkwargs\u001b[0m\u001b[0;34m)\u001b[0m\u001b[0;34m\u001b[0m\u001b[0;34m\u001b[0m\u001b[0m\n\u001b[0m\u001b[1;32m   1512\u001b[0m \u001b[0;34m\u001b[0m\u001b[0m\n\u001b[1;32m   1513\u001b[0m     \u001b[0;32mdef\u001b[0m \u001b[0m_call_impl\u001b[0m\u001b[0;34m(\u001b[0m\u001b[0mself\u001b[0m\u001b[0;34m,\u001b[0m \u001b[0;34m*\u001b[0m\u001b[0margs\u001b[0m\u001b[0;34m,\u001b[0m \u001b[0;34m**\u001b[0m\u001b[0mkwargs\u001b[0m\u001b[0;34m)\u001b[0m\u001b[0;34m:\u001b[0m\u001b[0;34m\u001b[0m\u001b[0;34m\u001b[0m\u001b[0m\n",
      "\u001b[0;32m/home/groups/swl1/yixiuz/torch_fid/lib/python3.9/site-packages/torch/nn/modules/module.py\u001b[0m in \u001b[0;36m_call_impl\u001b[0;34m(self, *args, **kwargs)\u001b[0m\n\u001b[1;32m   1518\u001b[0m                 \u001b[0;32mor\u001b[0m \u001b[0m_global_backward_pre_hooks\u001b[0m \u001b[0;32mor\u001b[0m \u001b[0m_global_backward_hooks\u001b[0m\u001b[0;34m\u001b[0m\u001b[0;34m\u001b[0m\u001b[0m\n\u001b[1;32m   1519\u001b[0m                 or _global_forward_hooks or _global_forward_pre_hooks):\n\u001b[0;32m-> 1520\u001b[0;31m             \u001b[0;32mreturn\u001b[0m \u001b[0mforward_call\u001b[0m\u001b[0;34m(\u001b[0m\u001b[0;34m*\u001b[0m\u001b[0margs\u001b[0m\u001b[0;34m,\u001b[0m \u001b[0;34m**\u001b[0m\u001b[0mkwargs\u001b[0m\u001b[0;34m)\u001b[0m\u001b[0;34m\u001b[0m\u001b[0;34m\u001b[0m\u001b[0m\n\u001b[0m\u001b[1;32m   1521\u001b[0m \u001b[0;34m\u001b[0m\u001b[0m\n\u001b[1;32m   1522\u001b[0m         \u001b[0;32mtry\u001b[0m\u001b[0;34m:\u001b[0m\u001b[0;34m\u001b[0m\u001b[0;34m\u001b[0m\u001b[0m\n",
      "\u001b[0;32m/home/groups/swl1/yixiuz/torch_fid/tauLDR/lib/networks/hollow_transformers.py\u001b[0m in \u001b[0;36mforward\u001b[0;34m(self, x1, x2, temb)\u001b[0m\n\u001b[1;32m    188\u001b[0m         \u001b[0mx1\u001b[0m \u001b[0;34m=\u001b[0m \u001b[0mself\u001b[0m\u001b[0;34m.\u001b[0m\u001b[0mnorm2\u001b[0m\u001b[0;34m(\u001b[0m\u001b[0mx1\u001b[0m \u001b[0;34m+\u001b[0m \u001b[0mself\u001b[0m\u001b[0;34m.\u001b[0m\u001b[0m_ff_block\u001b[0m\u001b[0;34m(\u001b[0m\u001b[0mx1\u001b[0m\u001b[0;34m)\u001b[0m\u001b[0;34m)\u001b[0m\u001b[0;34m\u001b[0m\u001b[0;34m\u001b[0m\u001b[0m\n\u001b[1;32m    189\u001b[0m         \u001b[0mx1\u001b[0m \u001b[0;34m=\u001b[0m \u001b[0mfilm_params\u001b[0m\u001b[0;34m[\u001b[0m\u001b[0;34m:\u001b[0m\u001b[0;34m,\u001b[0m \u001b[0;32mNone\u001b[0m\u001b[0;34m,\u001b[0m \u001b[0;36m0\u001b[0m\u001b[0;34m:\u001b[0m\u001b[0mK\u001b[0m\u001b[0;34m]\u001b[0m \u001b[0;34m*\u001b[0m \u001b[0mx1\u001b[0m \u001b[0;34m+\u001b[0m \u001b[0mfilm_params\u001b[0m\u001b[0;34m[\u001b[0m\u001b[0;34m:\u001b[0m\u001b[0;34m,\u001b[0m \u001b[0;32mNone\u001b[0m\u001b[0;34m,\u001b[0m \u001b[0mK\u001b[0m\u001b[0;34m:\u001b[0m\u001b[0;34m]\u001b[0m\u001b[0;34m\u001b[0m\u001b[0;34m\u001b[0m\u001b[0m\n\u001b[0;32m--> 190\u001b[0;31m         \u001b[0mx2\u001b[0m \u001b[0;34m=\u001b[0m \u001b[0mself\u001b[0m\u001b[0;34m.\u001b[0m\u001b[0mnorm2\u001b[0m\u001b[0;34m(\u001b[0m\u001b[0mx2\u001b[0m \u001b[0;34m+\u001b[0m \u001b[0mself\u001b[0m\u001b[0;34m.\u001b[0m\u001b[0m_ff_block\u001b[0m\u001b[0;34m(\u001b[0m\u001b[0mx2\u001b[0m\u001b[0;34m)\u001b[0m\u001b[0;34m)\u001b[0m\u001b[0;34m\u001b[0m\u001b[0;34m\u001b[0m\u001b[0m\n\u001b[0m\u001b[1;32m    191\u001b[0m         \u001b[0mx2\u001b[0m \u001b[0;34m=\u001b[0m \u001b[0mfilm_params\u001b[0m\u001b[0;34m[\u001b[0m\u001b[0;34m:\u001b[0m\u001b[0;34m,\u001b[0m \u001b[0;32mNone\u001b[0m\u001b[0;34m,\u001b[0m \u001b[0;36m0\u001b[0m\u001b[0;34m:\u001b[0m\u001b[0mK\u001b[0m\u001b[0;34m]\u001b[0m \u001b[0;34m*\u001b[0m \u001b[0mx2\u001b[0m \u001b[0;34m+\u001b[0m \u001b[0mfilm_params\u001b[0m\u001b[0;34m[\u001b[0m\u001b[0;34m:\u001b[0m\u001b[0;34m,\u001b[0m \u001b[0;32mNone\u001b[0m\u001b[0;34m,\u001b[0m \u001b[0mK\u001b[0m\u001b[0;34m:\u001b[0m\u001b[0;34m]\u001b[0m\u001b[0;34m\u001b[0m\u001b[0;34m\u001b[0m\u001b[0m\n\u001b[1;32m    192\u001b[0m \u001b[0;34m\u001b[0m\u001b[0m\n",
      "\u001b[0;32m/home/groups/swl1/yixiuz/torch_fid/lib/python3.9/site-packages/torch/nn/modules/module.py\u001b[0m in \u001b[0;36m__getattr__\u001b[0;34m(self, name)\u001b[0m\n\u001b[1;32m   1673\u001b[0m     \u001b[0;31m# See full discussion on the problems with returning `Union` here\u001b[0m\u001b[0;34m\u001b[0m\u001b[0;34m\u001b[0m\u001b[0;34m\u001b[0m\u001b[0m\n\u001b[1;32m   1674\u001b[0m     \u001b[0;31m# https://github.com/microsoft/pyright/issues/4213\u001b[0m\u001b[0;34m\u001b[0m\u001b[0;34m\u001b[0m\u001b[0;34m\u001b[0m\u001b[0m\n\u001b[0;32m-> 1675\u001b[0;31m     \u001b[0;32mdef\u001b[0m \u001b[0m__getattr__\u001b[0m\u001b[0;34m(\u001b[0m\u001b[0mself\u001b[0m\u001b[0;34m,\u001b[0m \u001b[0mname\u001b[0m\u001b[0;34m:\u001b[0m \u001b[0mstr\u001b[0m\u001b[0;34m)\u001b[0m \u001b[0;34m->\u001b[0m \u001b[0mAny\u001b[0m\u001b[0;34m:\u001b[0m\u001b[0;34m\u001b[0m\u001b[0;34m\u001b[0m\u001b[0m\n\u001b[0m\u001b[1;32m   1676\u001b[0m         \u001b[0;32mif\u001b[0m \u001b[0;34m'_parameters'\u001b[0m \u001b[0;32min\u001b[0m \u001b[0mself\u001b[0m\u001b[0;34m.\u001b[0m\u001b[0m__dict__\u001b[0m\u001b[0;34m:\u001b[0m\u001b[0;34m\u001b[0m\u001b[0;34m\u001b[0m\u001b[0m\n\u001b[1;32m   1677\u001b[0m             \u001b[0m_parameters\u001b[0m \u001b[0;34m=\u001b[0m \u001b[0mself\u001b[0m\u001b[0;34m.\u001b[0m\u001b[0m__dict__\u001b[0m\u001b[0;34m[\u001b[0m\u001b[0;34m'_parameters'\u001b[0m\u001b[0;34m]\u001b[0m\u001b[0;34m\u001b[0m\u001b[0;34m\u001b[0m\u001b[0m\n",
      "\u001b[0;31mKeyboardInterrupt\u001b[0m: "
     ]
    }
   ],
   "source": [
    "results_file = 'piano_results_test.csv'\n",
    "\n",
    "num_repeats = 2\n",
    "sample_size = 10\n",
    "batch_size = 10\n",
    "\n",
    "methods = [\"tauleaping\", \n",
    "           \"gillespies\"]\n",
    "\n",
    "updates_per_evals = [3, 2, 1]\n",
    "num_sample_steps = [50, 100, 200]\n",
    "\n",
    "correctors = [\"mpf\", \"barker\", \"birthdeath\"]\n",
    "corrector_stepsizes = [1.0, 1.0, 0.1]\n",
    "corrector_steps = 2\n",
    "\n",
    "for method in methods:\n",
    "    for i in range(len(correctors)):\n",
    "        corrector = correctors[i]\n",
    "        c_stepsize = corrector_stepsizes[i]\n",
    "        g_steps = updates_per_evals[0]\n",
    "        tau_steps = num_sample_steps[0]\n",
    "        c_steps = corrector_steps\n",
    "        run_experiments(num_repeats=num_repeats, \n",
    "                        sample_size=sample_size, batch_size=batch_size,\n",
    "                        results_file=results_file,\n",
    "                        method=method, \n",
    "                        g_steps=g_steps, \n",
    "                        tau_steps=tau_steps, \n",
    "                        c_steps=c_steps, \n",
    "                        c_stepsize=c_stepsize, \n",
    "                        corrector=corrector)"
   ]
  },
  {
   "cell_type": "code",
   "execution_count": 10,
   "id": "ae7d256f",
   "metadata": {
    "scrolled": true
   },
   "outputs": [
    {
     "name": "stdout",
     "output_type": "stream",
     "text": [
      "Set method to  tauleaping\n",
      "Set i to  1\n",
      "Set j to  2\n"
     ]
    },
    {
     "name": "stderr",
     "output_type": "stream",
     "text": [
      "199it [00:24,  8.05it/s]\n",
      "199it [00:24,  8.04it/s]\n",
      "199it [00:24,  8.04it/s]\n",
      "199it [00:24,  8.04it/s]\n",
      "199it [00:21,  9.17it/s]\n"
     ]
    },
    {
     "name": "stdout",
     "output_type": "stream",
     "text": [
      "{'method': 'tauleaping', 'g_steps': 0, 'tau_steps': 200, 'use_corrector': True, 'corrector': 'birthdeath', 'c_stepsize': 1.0, 'c_steps': 1, 'nfe': 380.0, 'h_dist': 0.3895817793680062, 'outlier_rate': 0.1367669257451182}\n"
     ]
    },
    {
     "name": "stderr",
     "output_type": "stream",
     "text": [
      "199it [00:24,  8.04it/s]\n",
      "199it [00:24,  8.04it/s]\n",
      "199it [00:24,  8.04it/s]\n",
      "199it [00:24,  8.04it/s]\n",
      "199it [00:21,  9.17it/s]\n"
     ]
    },
    {
     "name": "stdout",
     "output_type": "stream",
     "text": [
      "{'method': 'tauleaping', 'g_steps': 0, 'tau_steps': 200, 'use_corrector': True, 'corrector': 'birthdeath', 'c_stepsize': 1.0, 'c_steps': 1, 'nfe': 380.0, 'h_dist': 0.38892195933411616, 'outlier_rate': 0.13530158016443988}\n"
     ]
    },
    {
     "name": "stderr",
     "output_type": "stream",
     "text": [
      "199it [00:24,  8.04it/s]\n",
      "199it [00:24,  8.04it/s]\n",
      "199it [00:24,  8.04it/s]\n",
      "199it [00:24,  8.05it/s]\n",
      "199it [00:21,  9.17it/s]\n"
     ]
    },
    {
     "name": "stdout",
     "output_type": "stream",
     "text": [
      "{'method': 'tauleaping', 'g_steps': 0, 'tau_steps': 200, 'use_corrector': True, 'corrector': 'birthdeath', 'c_stepsize': 1.0, 'c_steps': 1, 'nfe': 380.0, 'h_dist': 0.3891974685911025, 'outlier_rate': 0.13589173304213772}\n",
      "Experiment results saved to  piano_results.csv\n"
     ]
    },
    {
     "name": "stderr",
     "output_type": "stream",
     "text": [
      "99it [00:12,  8.07it/s]\n",
      "99it [00:12,  8.07it/s]\n",
      "99it [00:12,  8.07it/s]\n",
      "99it [00:12,  8.07it/s]\n",
      "99it [00:10,  9.20it/s]\n"
     ]
    },
    {
     "name": "stdout",
     "output_type": "stream",
     "text": [
      "{'method': 'tauleaping', 'g_steps': 0, 'tau_steps': 100, 'use_corrector': True, 'corrector': 'birthdeath', 'c_stepsize': 1.0, 'c_steps': 1, 'nfe': 190.0, 'h_dist': 0.39731147772006364, 'outlier_rate': 0.1468717882836588}\n"
     ]
    },
    {
     "name": "stderr",
     "output_type": "stream",
     "text": [
      "99it [00:12,  8.07it/s]\n",
      "99it [00:12,  8.07it/s]\n",
      "99it [00:12,  8.07it/s]\n",
      "99it [00:12,  8.06it/s]\n",
      "99it [00:10,  9.20it/s]\n"
     ]
    },
    {
     "name": "stdout",
     "output_type": "stream",
     "text": [
      "{'method': 'tauleaping', 'g_steps': 0, 'tau_steps': 100, 'use_corrector': True, 'corrector': 'birthdeath', 'c_stepsize': 1.0, 'c_steps': 1, 'nfe': 190.0, 'h_dist': 0.39658826364426414, 'outlier_rate': 0.14644222122302158}\n"
     ]
    },
    {
     "name": "stderr",
     "output_type": "stream",
     "text": [
      "99it [00:12,  8.07it/s]\n",
      "99it [00:12,  8.06it/s]\n",
      "99it [00:12,  8.07it/s]\n",
      "99it [00:12,  8.07it/s]\n",
      "99it [00:10,  9.19it/s]\n"
     ]
    },
    {
     "name": "stdout",
     "output_type": "stream",
     "text": [
      "{'method': 'tauleaping', 'g_steps': 0, 'tau_steps': 100, 'use_corrector': True, 'corrector': 'birthdeath', 'c_stepsize': 1.0, 'c_steps': 1, 'nfe': 190.0, 'h_dist': 0.39663724962365776, 'outlier_rate': 0.14594841983556012}\n",
      "Experiment results saved to  piano_results.csv\n"
     ]
    },
    {
     "name": "stderr",
     "output_type": "stream",
     "text": [
      "199it [00:24,  8.04it/s]\n",
      "199it [00:24,  8.05it/s]\n",
      "199it [00:24,  8.05it/s]\n",
      "199it [00:24,  8.04it/s]\n",
      "199it [00:21,  9.17it/s]\n"
     ]
    },
    {
     "name": "stdout",
     "output_type": "stream",
     "text": [
      "{'method': 'tauleaping', 'g_steps': 0, 'tau_steps': 200, 'use_corrector': True, 'corrector': 'birthdeath', 'c_stepsize': 1.0, 'c_steps': 1, 'nfe': 380.0, 'h_dist': 0.39204431835326015, 'outlier_rate': 0.1385895747687564}\n"
     ]
    },
    {
     "name": "stderr",
     "output_type": "stream",
     "text": [
      "199it [00:24,  8.04it/s]\n",
      "199it [00:24,  8.04it/s]\n",
      "199it [00:24,  8.04it/s]\n",
      "199it [00:24,  8.05it/s]\n",
      "199it [00:21,  9.17it/s]\n"
     ]
    },
    {
     "name": "stdout",
     "output_type": "stream",
     "text": [
      "{'method': 'tauleaping', 'g_steps': 0, 'tau_steps': 200, 'use_corrector': True, 'corrector': 'birthdeath', 'c_stepsize': 1.0, 'c_steps': 1, 'nfe': 380.0, 'h_dist': 0.38825645167402417, 'outlier_rate': 0.13665853031860226}\n"
     ]
    },
    {
     "name": "stderr",
     "output_type": "stream",
     "text": [
      "199it [00:24,  8.04it/s]\n",
      "199it [00:24,  8.04it/s]\n",
      "199it [00:24,  8.04it/s]\n",
      "199it [00:24,  8.04it/s]\n",
      "199it [00:21,  9.17it/s]\n"
     ]
    },
    {
     "name": "stdout",
     "output_type": "stream",
     "text": [
      "{'method': 'tauleaping', 'g_steps': 0, 'tau_steps': 200, 'use_corrector': True, 'corrector': 'birthdeath', 'c_stepsize': 1.0, 'c_steps': 1, 'nfe': 380.0, 'h_dist': 0.39027293874426866, 'outlier_rate': 0.13688736510791366}\n",
      "Experiment results saved to  piano_results.csv\n"
     ]
    },
    {
     "name": "stderr",
     "output_type": "stream",
     "text": [
      "49it [00:06,  8.12it/s]\n",
      "49it [00:06,  8.12it/s]\n",
      "49it [00:06,  8.11it/s]\n",
      "49it [00:06,  8.11it/s]\n",
      "49it [00:05,  9.25it/s]\n"
     ]
    },
    {
     "name": "stdout",
     "output_type": "stream",
     "text": [
      "{'method': 'tauleaping', 'g_steps': 0, 'tau_steps': 50, 'use_corrector': True, 'corrector': 'birthdeath', 'c_stepsize': 1.0, 'c_steps': 1, 'nfe': 95.0, 'h_dist': 0.4099244987025735, 'outlier_rate': 0.16475703365878724}\n"
     ]
    },
    {
     "name": "stderr",
     "output_type": "stream",
     "text": [
      "49it [00:06,  8.11it/s]\n",
      "49it [00:06,  8.11it/s]\n",
      "49it [00:06,  8.12it/s]\n",
      "49it [00:06,  8.12it/s]\n",
      "49it [00:05,  9.25it/s]\n"
     ]
    },
    {
     "name": "stdout",
     "output_type": "stream",
     "text": [
      "{'method': 'tauleaping', 'g_steps': 0, 'tau_steps': 50, 'use_corrector': True, 'corrector': 'birthdeath', 'c_stepsize': 1.0, 'c_steps': 1, 'nfe': 95.0, 'h_dist': 0.4078106589597794, 'outlier_rate': 0.1629062821171634}\n"
     ]
    },
    {
     "name": "stderr",
     "output_type": "stream",
     "text": [
      "49it [00:06,  8.11it/s]\n",
      "49it [00:06,  8.11it/s]\n",
      "49it [00:06,  8.12it/s]\n",
      "49it [00:06,  8.11it/s]\n",
      "49it [00:05,  9.24it/s]\n"
     ]
    },
    {
     "name": "stdout",
     "output_type": "stream",
     "text": [
      "{'method': 'tauleaping', 'g_steps': 0, 'tau_steps': 50, 'use_corrector': True, 'corrector': 'birthdeath', 'c_stepsize': 1.0, 'c_steps': 1, 'nfe': 95.0, 'h_dist': 0.40887057656543824, 'outlier_rate': 0.16223182168550873}\n",
      "Experiment results saved to  piano_results.csv\n"
     ]
    },
    {
     "name": "stderr",
     "output_type": "stream",
     "text": [
      "99it [00:12,  8.07it/s]\n",
      "99it [00:12,  8.07it/s]\n",
      "99it [00:12,  8.07it/s]\n",
      "99it [00:12,  8.07it/s]\n",
      "99it [00:10,  9.20it/s]\n"
     ]
    },
    {
     "name": "stdout",
     "output_type": "stream",
     "text": [
      "{'method': 'tauleaping', 'g_steps': 0, 'tau_steps': 100, 'use_corrector': True, 'corrector': 'birthdeath', 'c_stepsize': 1.0, 'c_steps': 1, 'nfe': 190.0, 'h_dist': 0.39737911664527015, 'outlier_rate': 0.14675536356628982}\n"
     ]
    },
    {
     "name": "stderr",
     "output_type": "stream",
     "text": [
      "99it [00:12,  8.07it/s]\n",
      "99it [00:12,  8.06it/s]\n",
      "99it [00:12,  8.06it/s]\n",
      "99it [00:12,  8.07it/s]\n",
      "99it [00:10,  9.20it/s]\n"
     ]
    },
    {
     "name": "stdout",
     "output_type": "stream",
     "text": [
      "{'method': 'tauleaping', 'g_steps': 0, 'tau_steps': 100, 'use_corrector': True, 'corrector': 'birthdeath', 'c_stepsize': 1.0, 'c_steps': 1, 'nfe': 190.0, 'h_dist': 0.39604994381279146, 'outlier_rate': 0.14573564362795477}\n"
     ]
    },
    {
     "name": "stderr",
     "output_type": "stream",
     "text": [
      "99it [00:12,  8.07it/s]\n",
      "99it [00:12,  8.07it/s]\n",
      "99it [00:12,  8.06it/s]\n",
      "99it [00:12,  8.07it/s]\n",
      "99it [00:10,  9.19it/s]\n"
     ]
    },
    {
     "name": "stdout",
     "output_type": "stream",
     "text": [
      "{'method': 'tauleaping', 'g_steps': 0, 'tau_steps': 100, 'use_corrector': True, 'corrector': 'birthdeath', 'c_stepsize': 1.0, 'c_steps': 1, 'nfe': 190.0, 'h_dist': 0.3975292531922859, 'outlier_rate': 0.14817253340184994}\n",
      "Experiment results saved to  piano_results.csv\n"
     ]
    },
    {
     "name": "stderr",
     "output_type": "stream",
     "text": [
      "199it [00:24,  8.04it/s]\n",
      "199it [00:24,  8.04it/s]\n",
      "199it [00:24,  8.04it/s]\n",
      "199it [00:24,  8.05it/s]\n",
      "199it [00:21,  9.17it/s]\n"
     ]
    },
    {
     "name": "stdout",
     "output_type": "stream",
     "text": [
      "{'method': 'tauleaping', 'g_steps': 0, 'tau_steps': 200, 'use_corrector': True, 'corrector': 'birthdeath', 'c_stepsize': 1.0, 'c_steps': 1, 'nfe': 380.0, 'h_dist': 0.38920610335091615, 'outlier_rate': 0.13794321685508737}\n"
     ]
    },
    {
     "name": "stderr",
     "output_type": "stream",
     "text": [
      "199it [00:24,  8.05it/s]\n",
      "199it [00:24,  8.04it/s]\n",
      "199it [00:24,  8.04it/s]\n",
      "199it [00:24,  8.04it/s]\n",
      "199it [00:21,  9.17it/s]\n"
     ]
    },
    {
     "name": "stdout",
     "output_type": "stream",
     "text": [
      "{'method': 'tauleaping', 'g_steps': 0, 'tau_steps': 200, 'use_corrector': True, 'corrector': 'birthdeath', 'c_stepsize': 1.0, 'c_steps': 1, 'nfe': 380.0, 'h_dist': 0.3875745015104827, 'outlier_rate': 0.13571910328879752}\n"
     ]
    },
    {
     "name": "stderr",
     "output_type": "stream",
     "text": [
      "199it [00:24,  8.04it/s]\n",
      "199it [00:24,  8.04it/s]\n",
      "199it [00:24,  8.05it/s]\n",
      "199it [00:24,  8.04it/s]\n",
      "199it [00:21,  9.17it/s]\n"
     ]
    },
    {
     "name": "stdout",
     "output_type": "stream",
     "text": [
      "{'method': 'tauleaping', 'g_steps': 0, 'tau_steps': 200, 'use_corrector': True, 'corrector': 'birthdeath', 'c_stepsize': 1.0, 'c_steps': 1, 'nfe': 380.0, 'h_dist': 0.38814563170675204, 'outlier_rate': 0.13661035457348408}\n",
      "Experiment results saved to  piano_results.csv\n"
     ]
    },
    {
     "name": "stderr",
     "output_type": "stream",
     "text": [
      "225it [00:09, 24.90it/s]                         \n",
      "225it [00:09, 24.93it/s]                         \n",
      "225it [00:09, 24.95it/s]                         \n",
      "225it [00:09, 24.94it/s]                         \n",
      "225it [00:07, 28.43it/s]                         \n"
     ]
    },
    {
     "name": "stdout",
     "output_type": "stream",
     "text": [
      "{'method': 'gillespies', 'g_steps': 3, 'tau_steps': 0, 'use_corrector': True, 'corrector': 'mpf', 'c_stepsize': 1.0, 'c_steps': 1, 'nfe': 141.86666666666667, 'h_dist': 0.42657475456740873, 'outlier_rate': 0.10025774023638233}\n"
     ]
    },
    {
     "name": "stderr",
     "output_type": "stream",
     "text": [
      "225it [00:09, 24.95it/s]                         \n",
      "225it [00:09, 24.94it/s]                         \n",
      "225it [00:09, 24.95it/s]                         \n",
      "225it [00:09, 24.95it/s]                         \n",
      "225it [00:07, 28.42it/s]                         \n"
     ]
    },
    {
     "name": "stdout",
     "output_type": "stream",
     "text": [
      "{'method': 'gillespies', 'g_steps': 3, 'tau_steps': 0, 'use_corrector': True, 'corrector': 'mpf', 'c_stepsize': 1.0, 'c_steps': 1, 'nfe': 141.86666666666667, 'h_dist': 0.42747986426359097, 'outlier_rate': 0.10039022353545735}\n"
     ]
    },
    {
     "name": "stderr",
     "output_type": "stream",
     "text": [
      "225it [00:09, 24.94it/s]                         \n",
      "225it [00:09, 24.94it/s]                         \n",
      "225it [00:09, 24.95it/s]                         \n",
      "225it [00:09, 24.95it/s]                         \n",
      "225it [00:07, 28.43it/s]                         \n"
     ]
    },
    {
     "name": "stdout",
     "output_type": "stream",
     "text": [
      "{'method': 'gillespies', 'g_steps': 3, 'tau_steps': 0, 'use_corrector': True, 'corrector': 'mpf', 'c_stepsize': 1.0, 'c_steps': 1, 'nfe': 141.86666666666667, 'h_dist': 0.4264484264676189, 'outlier_rate': 0.10078365878725591}\n",
      "Experiment results saved to  piano_results.csv\n"
     ]
    },
    {
     "name": "stderr",
     "output_type": "stream",
     "text": [
      "100%|██████████| 224/224 [00:13<00:00, 16.77it/s]\n",
      "100%|██████████| 224/224 [00:13<00:00, 16.76it/s]\n",
      "100%|██████████| 224/224 [00:13<00:00, 16.78it/s]\n",
      "100%|██████████| 224/224 [00:13<00:00, 16.76it/s]\n",
      "100%|██████████| 224/224 [00:11<00:00, 19.12it/s]\n"
     ]
    },
    {
     "name": "stdout",
     "output_type": "stream",
     "text": [
      "{'method': 'gillespies', 'g_steps': 2, 'tau_steps': 0, 'use_corrector': True, 'corrector': 'mpf', 'c_stepsize': 1.0, 'c_steps': 1, 'nfe': 212.8, 'h_dist': 0.4349140052627014, 'outlier_rate': 0.09879640930113052}\n"
     ]
    },
    {
     "name": "stderr",
     "output_type": "stream",
     "text": [
      "100%|██████████| 224/224 [00:13<00:00, 16.77it/s]\n",
      "100%|██████████| 224/224 [00:13<00:00, 16.78it/s]\n",
      "100%|██████████| 224/224 [00:13<00:00, 16.78it/s]\n",
      "100%|██████████| 224/224 [00:13<00:00, 16.77it/s]\n",
      "100%|██████████| 224/224 [00:11<00:00, 19.12it/s]\n"
     ]
    },
    {
     "name": "stdout",
     "output_type": "stream",
     "text": [
      "{'method': 'gillespies', 'g_steps': 2, 'tau_steps': 0, 'use_corrector': True, 'corrector': 'mpf', 'c_stepsize': 1.0, 'c_steps': 1, 'nfe': 212.8, 'h_dist': 0.43526272590684256, 'outlier_rate': 0.09964349948612539}\n"
     ]
    },
    {
     "name": "stderr",
     "output_type": "stream",
     "text": [
      "100%|██████████| 224/224 [00:13<00:00, 16.76it/s]\n",
      "100%|██████████| 224/224 [00:13<00:00, 16.77it/s]\n",
      "100%|██████████| 224/224 [00:13<00:00, 16.77it/s]\n",
      "100%|██████████| 224/224 [00:13<00:00, 16.77it/s]\n",
      "100%|██████████| 224/224 [00:11<00:00, 19.12it/s]\n"
     ]
    },
    {
     "name": "stdout",
     "output_type": "stream",
     "text": [
      "{'method': 'gillespies', 'g_steps': 2, 'tau_steps': 0, 'use_corrector': True, 'corrector': 'mpf', 'c_stepsize': 1.0, 'c_steps': 1, 'nfe': 212.8, 'h_dist': 0.4346663398570644, 'outlier_rate': 0.0978328943987667}\n",
      "Experiment results saved to  piano_results.csv\n"
     ]
    },
    {
     "name": "stderr",
     "output_type": "stream",
     "text": [
      "100%|██████████| 224/224 [00:26<00:00,  8.44it/s]\n",
      "100%|██████████| 224/224 [00:26<00:00,  8.44it/s]\n",
      "100%|██████████| 224/224 [00:26<00:00,  8.44it/s]\n",
      "100%|██████████| 224/224 [00:26<00:00,  8.43it/s]\n",
      "100%|██████████| 224/224 [00:23<00:00,  9.62it/s]\n"
     ]
    },
    {
     "name": "stdout",
     "output_type": "stream",
     "text": [
      "{'method': 'gillespies', 'g_steps': 1, 'tau_steps': 0, 'use_corrector': True, 'corrector': 'mpf', 'c_stepsize': 1.0, 'c_steps': 1, 'nfe': 425.6, 'h_dist': 0.4686659707936425, 'outlier_rate': 0.09597812821171633}\n"
     ]
    },
    {
     "name": "stderr",
     "output_type": "stream",
     "text": [
      "100%|██████████| 224/224 [00:26<00:00,  8.44it/s]\n",
      "100%|██████████| 224/224 [00:26<00:00,  8.43it/s]\n",
      "100%|██████████| 224/224 [00:26<00:00,  8.44it/s]\n",
      "100%|██████████| 224/224 [00:26<00:00,  8.44it/s]\n",
      "100%|██████████| 224/224 [00:23<00:00,  9.62it/s]\n"
     ]
    },
    {
     "name": "stdout",
     "output_type": "stream",
     "text": [
      "{'method': 'gillespies', 'g_steps': 1, 'tau_steps': 0, 'use_corrector': True, 'corrector': 'mpf', 'c_stepsize': 1.0, 'c_steps': 1, 'nfe': 425.6, 'h_dist': 0.46807478138064806, 'outlier_rate': 0.09672485226104831}\n"
     ]
    },
    {
     "name": "stderr",
     "output_type": "stream",
     "text": [
      "100%|██████████| 224/224 [00:26<00:00,  8.43it/s]\n",
      "100%|██████████| 224/224 [00:26<00:00,  8.43it/s]\n",
      "100%|██████████| 224/224 [00:26<00:00,  8.44it/s]\n",
      "100%|██████████| 224/224 [00:26<00:00,  8.43it/s]\n",
      "100%|██████████| 224/224 [00:23<00:00,  9.62it/s]\n"
     ]
    },
    {
     "name": "stdout",
     "output_type": "stream",
     "text": [
      "{'method': 'gillespies', 'g_steps': 1, 'tau_steps': 0, 'use_corrector': True, 'corrector': 'mpf', 'c_stepsize': 1.0, 'c_steps': 1, 'nfe': 425.6, 'h_dist': 0.4687776038530961, 'outlier_rate': 0.0964719295991778}\n",
      "Experiment results saved to  piano_results.csv\n"
     ]
    },
    {
     "name": "stderr",
     "output_type": "stream",
     "text": [
      "225it [00:09, 24.95it/s]                         \n",
      "225it [00:09, 24.95it/s]                         \n",
      "225it [00:09, 24.54it/s]                         \n",
      "225it [00:09, 24.95it/s]                         \n",
      "225it [00:07, 28.43it/s]                         \n"
     ]
    },
    {
     "name": "stdout",
     "output_type": "stream",
     "text": [
      "{'method': 'gillespies', 'g_steps': 3, 'tau_steps': 0, 'use_corrector': True, 'corrector': 'birthdeath', 'c_stepsize': 1.0, 'c_steps': 1, 'nfe': 141.86666666666667, 'h_dist': 0.3842213739123969, 'outlier_rate': 0.1250722636176773}\n"
     ]
    },
    {
     "name": "stderr",
     "output_type": "stream",
     "text": [
      "225it [00:09, 24.95it/s]                         \n",
      "225it [00:09, 24.96it/s]                         \n",
      "225it [00:09, 24.96it/s]                         \n",
      "225it [00:09, 24.94it/s]                         \n",
      "225it [00:07, 28.42it/s]                         \n"
     ]
    },
    {
     "name": "stdout",
     "output_type": "stream",
     "text": [
      "{'method': 'gillespies', 'g_steps': 3, 'tau_steps': 0, 'use_corrector': True, 'corrector': 'birthdeath', 'c_stepsize': 1.0, 'c_steps': 1, 'nfe': 141.86666666666667, 'h_dist': 0.38826917044072234, 'outlier_rate': 0.1290869090441932}\n"
     ]
    },
    {
     "name": "stderr",
     "output_type": "stream",
     "text": [
      "225it [00:09, 24.93it/s]                         \n",
      "225it [00:09, 24.96it/s]                         \n",
      "225it [00:09, 24.96it/s]                         \n",
      "225it [00:09, 24.95it/s]                         \n",
      "225it [00:07, 28.43it/s]                         \n"
     ]
    },
    {
     "name": "stdout",
     "output_type": "stream",
     "text": [
      "{'method': 'gillespies', 'g_steps': 3, 'tau_steps': 0, 'use_corrector': True, 'corrector': 'birthdeath', 'c_stepsize': 1.0, 'c_steps': 1, 'nfe': 141.86666666666667, 'h_dist': 0.38724230613588, 'outlier_rate': 0.1274971094552929}\n",
      "Experiment results saved to  piano_results.csv\n"
     ]
    },
    {
     "name": "stderr",
     "output_type": "stream",
     "text": [
      "100%|██████████| 224/224 [00:13<00:00, 16.77it/s]\n",
      "100%|██████████| 224/224 [00:13<00:00, 16.77it/s]\n",
      "100%|██████████| 224/224 [00:13<00:00, 16.78it/s]\n",
      "100%|██████████| 224/224 [00:13<00:00, 16.78it/s]\n",
      "100%|██████████| 224/224 [00:11<00:00, 19.12it/s]\n"
     ]
    },
    {
     "name": "stdout",
     "output_type": "stream",
     "text": [
      "{'method': 'gillespies', 'g_steps': 2, 'tau_steps': 0, 'use_corrector': True, 'corrector': 'birthdeath', 'c_stepsize': 1.0, 'c_steps': 1, 'nfe': 212.8, 'h_dist': 0.38867368186891643, 'outlier_rate': 0.1221496017471737}\n"
     ]
    },
    {
     "name": "stderr",
     "output_type": "stream",
     "text": [
      "100%|██████████| 224/224 [00:13<00:00, 16.78it/s]\n",
      "100%|██████████| 224/224 [00:13<00:00, 16.77it/s]\n",
      "100%|██████████| 224/224 [00:13<00:00, 16.78it/s]\n",
      "100%|██████████| 224/224 [00:13<00:00, 16.78it/s]\n",
      "100%|██████████| 224/224 [00:11<00:00, 19.08it/s]\n"
     ]
    },
    {
     "name": "stdout",
     "output_type": "stream",
     "text": [
      "{'method': 'gillespies', 'g_steps': 2, 'tau_steps': 0, 'use_corrector': True, 'corrector': 'birthdeath', 'c_stepsize': 1.0, 'c_steps': 1, 'nfe': 212.8, 'h_dist': 0.38689096624316177, 'outlier_rate': 0.1211941161356629}\n"
     ]
    },
    {
     "name": "stderr",
     "output_type": "stream",
     "text": [
      "100%|██████████| 224/224 [00:13<00:00, 16.78it/s]\n",
      "100%|██████████| 224/224 [00:13<00:00, 16.78it/s]\n",
      "100%|██████████| 224/224 [00:13<00:00, 16.78it/s]\n",
      "100%|██████████| 224/224 [00:13<00:00, 16.77it/s]\n",
      "100%|██████████| 224/224 [00:11<00:00, 19.12it/s]\n"
     ]
    },
    {
     "name": "stdout",
     "output_type": "stream",
     "text": [
      "{'method': 'gillespies', 'g_steps': 2, 'tau_steps': 0, 'use_corrector': True, 'corrector': 'birthdeath', 'c_stepsize': 1.0, 'c_steps': 1, 'nfe': 212.8, 'h_dist': 0.3885452279959102, 'outlier_rate': 0.12451422790339157}\n",
      "Experiment results saved to  piano_results.csv\n"
     ]
    },
    {
     "name": "stderr",
     "output_type": "stream",
     "text": [
      "100%|██████████| 224/224 [00:26<00:00,  8.44it/s]\n",
      "100%|██████████| 224/224 [00:26<00:00,  8.43it/s]\n",
      "100%|██████████| 224/224 [00:26<00:00,  8.44it/s]\n",
      "100%|██████████| 224/224 [00:26<00:00,  8.44it/s]\n",
      "100%|██████████| 224/224 [00:23<00:00,  9.63it/s]\n"
     ]
    },
    {
     "name": "stdout",
     "output_type": "stream",
     "text": [
      "{'method': 'gillespies', 'g_steps': 1, 'tau_steps': 0, 'use_corrector': True, 'corrector': 'birthdeath', 'c_stepsize': 1.0, 'c_steps': 1, 'nfe': 425.6, 'h_dist': 0.40758003625370715, 'outlier_rate': 0.12162769784172661}\n"
     ]
    },
    {
     "name": "stderr",
     "output_type": "stream",
     "text": [
      "100%|██████████| 224/224 [00:26<00:00,  8.44it/s]\n",
      "100%|██████████| 224/224 [00:26<00:00,  8.44it/s]\n",
      "100%|██████████| 224/224 [00:26<00:00,  8.44it/s]\n",
      "100%|██████████| 224/224 [00:26<00:00,  8.44it/s]\n",
      "100%|██████████| 224/224 [00:23<00:00,  9.63it/s]\n"
     ]
    },
    {
     "name": "stdout",
     "output_type": "stream",
     "text": [
      "{'method': 'gillespies', 'g_steps': 1, 'tau_steps': 0, 'use_corrector': True, 'corrector': 'birthdeath', 'c_stepsize': 1.0, 'c_steps': 1, 'nfe': 425.6, 'h_dist': 0.4055975524150832, 'outlier_rate': 0.12103754496402877}\n"
     ]
    },
    {
     "name": "stderr",
     "output_type": "stream",
     "text": [
      "100%|██████████| 224/224 [00:26<00:00,  8.44it/s]\n",
      "100%|██████████| 224/224 [00:26<00:00,  8.44it/s]\n",
      "100%|██████████| 224/224 [00:26<00:00,  8.44it/s]\n",
      "100%|██████████| 224/224 [00:26<00:00,  8.44it/s]\n",
      "100%|██████████| 224/224 [00:23<00:00,  9.62it/s]"
     ]
    },
    {
     "name": "stdout",
     "output_type": "stream",
     "text": [
      "{'method': 'gillespies', 'g_steps': 1, 'tau_steps': 0, 'use_corrector': True, 'corrector': 'birthdeath', 'c_stepsize': 1.0, 'c_steps': 1, 'nfe': 425.6, 'h_dist': 0.4041708022907073, 'outlier_rate': 0.12036709917780061}\n",
      "Experiment results saved to  piano_results.csv\n"
     ]
    },
    {
     "name": "stderr",
     "output_type": "stream",
     "text": [
      "\n"
     ]
    }
   ],
   "source": [
    "results_file = 'piano_results.csv'\n",
    "\n",
    "num_repeats = 3\n",
    "sample_size = test_dataset.shape[0]\n",
    "batch_size = 200\n",
    "\n",
    "methods = [\"tauleaping\", \n",
    "           \"gillespies\"]\n",
    "\n",
    "updates_per_evals = [3, 2, 1]\n",
    "num_sample_steps = [50, 100, 200]\n",
    "\n",
    "# Remove Barker for now because it keeps NaNing out for some reason...\n",
    "correctors = [\"mpf\", \"birthdeath\"]\n",
    "corrector_stepsizes = [1.0, 1.0, 0.1]\n",
    "corrector_steps = 1\n",
    "\n",
    "start_flag = True\n",
    "start_method = \"tauleaping\"\n",
    "start_i = 1\n",
    "start_j = 2\n",
    "\n",
    "# 1 corrector step\n",
    "c_steps = 1\n",
    "for method in methods:\n",
    "    \n",
    "    if start_flag:\n",
    "        method = start_method\n",
    "        print(\"Set method to \", method)\n",
    "    \n",
    "    for i in range(len(correctors)):\n",
    "        \n",
    "        if start_flag:\n",
    "            i = start_i\n",
    "            print(\"Set i to \", i)\n",
    "        \n",
    "        corrector = correctors[i]\n",
    "        c_stepsize = corrector_stepsizes[i]\n",
    "        \n",
    "        for j in range(len(updates_per_evals)):\n",
    "        \n",
    "            if start_flag:\n",
    "                j = start_j\n",
    "                print(\"Set j to \", j)\n",
    "                start_flag = False\n",
    "        \n",
    "            g_steps = updates_per_evals[j]\n",
    "            tau_steps = num_sample_steps[j]\n",
    "            \n",
    "            run_experiments(num_repeats=num_repeats, \n",
    "                            sample_size=sample_size, batch_size=batch_size,\n",
    "                            results_file=results_file,\n",
    "                            method=method, \n",
    "                            g_steps=g_steps, \n",
    "                            tau_steps=tau_steps, \n",
    "                            c_steps=c_steps, \n",
    "                            c_stepsize=c_stepsize, \n",
    "                            corrector=corrector)"
   ]
  },
  {
   "cell_type": "code",
   "execution_count": null,
   "id": "053b6d01",
   "metadata": {},
   "outputs": [],
   "source": [
    "# {'method': 'tauleaping', 'g_steps': 0, 'tau_steps': 50, 'use_corrector': True, 'corrector': 'barker', 'c_stepsize': 1.0, 'c_steps': 1, 'nfe': 95.0, 'h_dist': 0.39283093610583686, 'outlier_rate': 0.14403343396711202}"
   ]
  },
  {
   "cell_type": "code",
   "execution_count": 12,
   "id": "980fee0c",
   "metadata": {},
   "outputs": [
    {
     "name": "stderr",
     "output_type": "stream",
     "text": [
      "49it [00:06,  8.11it/s]\n",
      "49it [00:06,  8.11it/s]\n",
      "49it [00:06,  8.11it/s]\n",
      "49it [00:06,  8.08it/s]\n",
      "49it [00:05,  9.25it/s]\n"
     ]
    },
    {
     "name": "stdout",
     "output_type": "stream",
     "text": [
      "{'method': 'tauleaping', 'g_steps': 0, 'tau_steps': 50, 'use_corrector': True, 'corrector': 'mpf', 'c_stepsize': 0.1, 'c_steps': 1, 'nfe': 95.0, 'h_dist': 0.3758049477484741, 'outlier_rate': 0.12196492805755396}\n"
     ]
    },
    {
     "name": "stderr",
     "output_type": "stream",
     "text": [
      "49it [00:06,  8.10it/s]\n",
      "49it [00:06,  8.11it/s]\n",
      "49it [00:06,  8.11it/s]\n",
      "49it [00:06,  8.11it/s]\n",
      "49it [00:05,  9.24it/s]\n"
     ]
    },
    {
     "name": "stdout",
     "output_type": "stream",
     "text": [
      "{'method': 'tauleaping', 'g_steps': 0, 'tau_steps': 50, 'use_corrector': True, 'corrector': 'mpf', 'c_stepsize': 0.1, 'c_steps': 1, 'nfe': 95.0, 'h_dist': 0.3773988839585045, 'outlier_rate': 0.12406860226104831}\n"
     ]
    },
    {
     "name": "stderr",
     "output_type": "stream",
     "text": [
      "49it [00:06,  8.11it/s]\n",
      "49it [00:06,  8.11it/s]\n",
      "49it [00:06,  8.10it/s]\n",
      "49it [00:06,  8.11it/s]\n",
      "49it [00:05,  9.24it/s]\n"
     ]
    },
    {
     "name": "stdout",
     "output_type": "stream",
     "text": [
      "{'method': 'tauleaping', 'g_steps': 0, 'tau_steps': 50, 'use_corrector': True, 'corrector': 'mpf', 'c_stepsize': 0.1, 'c_steps': 1, 'nfe': 95.0, 'h_dist': 0.3774965594382992, 'outlier_rate': 0.12326968782117163}\n",
      "Experiment results saved to  piano_results.csv\n"
     ]
    },
    {
     "name": "stderr",
     "output_type": "stream",
     "text": [
      "99it [00:12,  8.06it/s]\n",
      "99it [00:12,  8.07it/s]\n",
      "99it [00:12,  8.06it/s]\n",
      "99it [00:12,  8.06it/s]\n",
      "99it [00:10,  9.17it/s]\n"
     ]
    },
    {
     "name": "stdout",
     "output_type": "stream",
     "text": [
      "{'method': 'tauleaping', 'g_steps': 0, 'tau_steps': 100, 'use_corrector': True, 'corrector': 'mpf', 'c_stepsize': 0.1, 'c_steps': 1, 'nfe': 190.0, 'h_dist': 0.37997724189867127, 'outlier_rate': 0.12376348920863309}\n"
     ]
    },
    {
     "name": "stderr",
     "output_type": "stream",
     "text": [
      "99it [00:12,  8.06it/s]\n",
      "99it [00:12,  8.06it/s]\n",
      "99it [00:12,  8.06it/s]\n",
      "99it [00:12,  8.06it/s]\n",
      "99it [00:10,  9.20it/s]\n"
     ]
    },
    {
     "name": "stdout",
     "output_type": "stream",
     "text": [
      "{'method': 'tauleaping', 'g_steps': 0, 'tau_steps': 100, 'use_corrector': True, 'corrector': 'mpf', 'c_stepsize': 0.1, 'c_steps': 1, 'nfe': 190.0, 'h_dist': 0.3765542722724657, 'outlier_rate': 0.12284012076053442}\n"
     ]
    },
    {
     "name": "stderr",
     "output_type": "stream",
     "text": [
      "99it [00:12,  8.06it/s]\n",
      "99it [00:12,  8.06it/s]\n",
      "99it [00:12,  8.07it/s]\n",
      "99it [00:12,  8.06it/s]\n",
      "99it [00:10,  9.18it/s]\n"
     ]
    },
    {
     "name": "stdout",
     "output_type": "stream",
     "text": [
      "{'method': 'tauleaping', 'g_steps': 0, 'tau_steps': 100, 'use_corrector': True, 'corrector': 'mpf', 'c_stepsize': 0.1, 'c_steps': 1, 'nfe': 190.0, 'h_dist': 0.3764579435659651, 'outlier_rate': 0.12109776464542651}\n",
      "Experiment results saved to  piano_results.csv\n"
     ]
    },
    {
     "name": "stderr",
     "output_type": "stream",
     "text": [
      "199it [00:24,  8.04it/s]\n",
      "199it [00:24,  8.04it/s]\n",
      "199it [00:24,  8.04it/s]\n",
      "199it [00:24,  8.04it/s]\n",
      "199it [00:21,  9.16it/s]\n"
     ]
    },
    {
     "name": "stdout",
     "output_type": "stream",
     "text": [
      "{'method': 'tauleaping', 'g_steps': 0, 'tau_steps': 200, 'use_corrector': True, 'corrector': 'mpf', 'c_stepsize': 0.1, 'c_steps': 1, 'nfe': 380.0, 'h_dist': 0.37741809633956086, 'outlier_rate': 0.12286019398766701}\n"
     ]
    },
    {
     "name": "stderr",
     "output_type": "stream",
     "text": [
      "199it [00:24,  8.04it/s]\n",
      "199it [00:24,  8.04it/s]\n",
      "199it [00:24,  8.04it/s]\n",
      "199it [00:24,  8.04it/s]\n",
      "199it [00:21,  9.17it/s]\n"
     ]
    },
    {
     "name": "stdout",
     "output_type": "stream",
     "text": [
      "{'method': 'tauleaping', 'g_steps': 0, 'tau_steps': 200, 'use_corrector': True, 'corrector': 'mpf', 'c_stepsize': 0.1, 'c_steps': 1, 'nfe': 380.0, 'h_dist': 0.377459958983804, 'outlier_rate': 0.12327771711202466}\n"
     ]
    },
    {
     "name": "stderr",
     "output_type": "stream",
     "text": [
      "199it [00:24,  8.04it/s]\n",
      "199it [00:24,  8.04it/s]\n",
      "199it [00:24,  8.04it/s]\n",
      "199it [00:24,  8.04it/s]\n",
      "199it [00:21,  9.16it/s]\n"
     ]
    },
    {
     "name": "stdout",
     "output_type": "stream",
     "text": [
      "{'method': 'tauleaping', 'g_steps': 0, 'tau_steps': 200, 'use_corrector': True, 'corrector': 'mpf', 'c_stepsize': 0.1, 'c_steps': 1, 'nfe': 380.0, 'h_dist': 0.37759645925735796, 'outlier_rate': 0.12330581963001028}\n",
      "Experiment results saved to  piano_results.csv\n"
     ]
    },
    {
     "name": "stderr",
     "output_type": "stream",
     "text": [
      "49it [00:06,  8.11it/s]\n",
      "40it [00:04,  8.01it/s]\n"
     ]
    },
    {
     "name": "stdout",
     "output_type": "stream",
     "text": [
      "An error occurred: Expected parameter rate (Tensor of shape (200, 224, 130)) of distribution Poisson(rate: torch.Size([200, 224, 130])) to satisfy the constraint GreaterThanEq(lower_bound=0.0), but found invalid values:\n",
      "tensor([[[0.0000e+00, 0.0000e+00, 0.0000e+00,  ..., 0.0000e+00,\n",
      "          0.0000e+00, 4.5841e-04],\n",
      "         [0.0000e+00, 0.0000e+00, 0.0000e+00,  ..., 0.0000e+00,\n",
      "          0.0000e+00, 4.5850e-04],\n",
      "         [0.0000e+00, 0.0000e+00, 0.0000e+00,  ..., 0.0000e+00,\n",
      "          0.0000e+00, 4.5842e-04],\n",
      "         ...,\n",
      "         [0.0000e+00, 0.0000e+00, 0.0000e+00,  ..., 0.0000e+00,\n",
      "          0.0000e+00, 4.6818e-04],\n",
      "         [5.5507e-27, 3.2985e-25, 1.0023e-26,  ..., 1.4300e-26,\n",
      "          4.3755e-18, 0.0000e+00],\n",
      "         [0.0000e+00, 0.0000e+00, 0.0000e+00,  ..., 0.0000e+00,\n",
      "          0.0000e+00, 4.5841e-04]],\n",
      "\n",
      "        [[0.0000e+00, 0.0000e+00, 0.0000e+00,  ..., 0.0000e+00,\n",
      "          0.0000e+00, 5.1627e-04],\n",
      "         [2.8313e-27, 4.9746e-29, 3.0613e-34,  ..., 1.6186e-35,\n",
      "          3.0049e-28, 0.0000e+00],\n",
      "         [0.0000e+00, 0.0000e+00, 0.0000e+00,  ..., 0.0000e+00,\n",
      "          0.0000e+00, 4.6344e-04],\n",
      "         ...,\n",
      "         [3.1237e-18, 1.9405e-17, 2.9203e-18,  ..., 4.8678e-17,\n",
      "          4.1843e-18, 0.0000e+00],\n",
      "         [0.0000e+00, 0.0000e+00, 0.0000e+00,  ..., 0.0000e+00,\n",
      "          0.0000e+00, 4.5841e-04],\n",
      "         [0.0000e+00, 0.0000e+00, 0.0000e+00,  ..., 0.0000e+00,\n",
      "          0.0000e+00, 4.5841e-04]],\n",
      "\n",
      "        [[0.0000e+00, 0.0000e+00, 0.0000e+00,  ..., 0.0000e+00,\n",
      "          0.0000e+00, 4.5841e-04],\n",
      "         [0.0000e+00, 0.0000e+00, 0.0000e+00,  ..., 0.0000e+00,\n",
      "          0.0000e+00, 4.5841e-04],\n",
      "         [0.0000e+00, 0.0000e+00, 0.0000e+00,  ..., 0.0000e+00,\n",
      "          0.0000e+00, 4.5841e-04],\n",
      "         ...,\n",
      "         [0.0000e+00, 0.0000e+00, 0.0000e+00,  ..., 0.0000e+00,\n",
      "          0.0000e+00, 4.5841e-04],\n",
      "         [0.0000e+00, 0.0000e+00, 0.0000e+00,  ..., 0.0000e+00,\n",
      "          0.0000e+00, 4.5841e-04],\n",
      "         [0.0000e+00, 0.0000e+00, 0.0000e+00,  ..., 0.0000e+00,\n",
      "          0.0000e+00, 4.5841e-04]],\n",
      "\n",
      "        ...,\n",
      "\n",
      "        [[9.3605e-32, 4.4581e-30, 6.9603e-29,  ..., 1.1433e-30,\n",
      "          5.4860e-17, 0.0000e+00],\n",
      "         [0.0000e+00, 0.0000e+00, 0.0000e+00,  ..., 0.0000e+00,\n",
      "          0.0000e+00, 4.5841e-04],\n",
      "         [0.0000e+00, 0.0000e+00, 0.0000e+00,  ..., 0.0000e+00,\n",
      "          0.0000e+00, 4.5841e-04],\n",
      "         ...,\n",
      "         [0.0000e+00, 0.0000e+00, 0.0000e+00,  ..., 0.0000e+00,\n",
      "          0.0000e+00, 4.5841e-04],\n",
      "         [0.0000e+00, 0.0000e+00, 0.0000e+00,  ..., 0.0000e+00,\n",
      "          0.0000e+00, 4.5842e-04],\n",
      "         [0.0000e+00, 0.0000e+00, 0.0000e+00,  ..., 0.0000e+00,\n",
      "          0.0000e+00, 4.7168e-04]],\n",
      "\n",
      "        [[0.0000e+00, 0.0000e+00, 0.0000e+00,  ..., 0.0000e+00,\n",
      "          0.0000e+00, 4.5841e-04],\n",
      "         [0.0000e+00, 0.0000e+00, 0.0000e+00,  ..., 0.0000e+00,\n",
      "          0.0000e+00, 4.5943e-04],\n",
      "         [0.0000e+00, 0.0000e+00, 0.0000e+00,  ..., 0.0000e+00,\n",
      "          0.0000e+00, 8.2336e-04],\n",
      "         ...,\n",
      "         [0.0000e+00, 0.0000e+00, 0.0000e+00,  ..., 0.0000e+00,\n",
      "          0.0000e+00, 4.6823e-04],\n",
      "         [0.0000e+00, 0.0000e+00, 0.0000e+00,  ..., 0.0000e+00,\n",
      "          0.0000e+00, 4.5849e-04],\n",
      "         [0.0000e+00, 0.0000e+00, 0.0000e+00,  ..., 0.0000e+00,\n",
      "          0.0000e+00, 4.5841e-04]],\n",
      "\n",
      "        [[0.0000e+00, 0.0000e+00, 0.0000e+00,  ..., 0.0000e+00,\n",
      "          0.0000e+00, 4.5841e-04],\n",
      "         [0.0000e+00, 0.0000e+00, 0.0000e+00,  ..., 0.0000e+00,\n",
      "          0.0000e+00, 4.5841e-04],\n",
      "         [0.0000e+00, 0.0000e+00, 0.0000e+00,  ..., 0.0000e+00,\n",
      "          0.0000e+00, 4.5841e-04],\n",
      "         ...,\n",
      "         [0.0000e+00, 0.0000e+00, 0.0000e+00,  ..., 0.0000e+00,\n",
      "          0.0000e+00, 4.5841e-04],\n",
      "         [0.0000e+00, 0.0000e+00, 0.0000e+00,  ..., 0.0000e+00,\n",
      "          0.0000e+00, 4.5841e-04],\n",
      "         [0.0000e+00, 0.0000e+00, 0.0000e+00,  ..., 0.0000e+00,\n",
      "          0.0000e+00, 4.5841e-04]]], device='cuda:0')\n"
     ]
    },
    {
     "name": "stderr",
     "output_type": "stream",
     "text": [
      "49it [00:06,  8.11it/s]\n",
      "49it [00:06,  8.11it/s]\n",
      "49it [00:06,  8.10it/s]\n",
      "44it [00:05,  7.95it/s]\n"
     ]
    },
    {
     "name": "stdout",
     "output_type": "stream",
     "text": [
      "An error occurred: Expected parameter rate (Tensor of shape (200, 224, 130)) of distribution Poisson(rate: torch.Size([200, 224, 130])) to satisfy the constraint GreaterThanEq(lower_bound=0.0), but found invalid values:\n",
      "tensor([[[6.9199e-24, 7.1110e-20, 2.8575e-22,  ..., 2.5898e-18,\n",
      "          3.3633e-18, 0.0000e+00],\n",
      "         [2.2978e-26, 8.5923e-23, 1.3990e-23,  ..., 2.2359e-21,\n",
      "          3.5647e-22, 0.0000e+00],\n",
      "         [0.0000e+00, 0.0000e+00, 0.0000e+00,  ..., 0.0000e+00,\n",
      "          0.0000e+00, 2.4223e-04],\n",
      "         ...,\n",
      "         [0.0000e+00, 0.0000e+00, 0.0000e+00,  ..., 0.0000e+00,\n",
      "          0.0000e+00, 2.4212e-04],\n",
      "         [0.0000e+00, 0.0000e+00, 0.0000e+00,  ..., 0.0000e+00,\n",
      "          0.0000e+00, 2.4212e-04],\n",
      "         [0.0000e+00, 0.0000e+00, 0.0000e+00,  ..., 0.0000e+00,\n",
      "          0.0000e+00, 2.4212e-04]],\n",
      "\n",
      "        [[0.0000e+00, 0.0000e+00, 0.0000e+00,  ..., 0.0000e+00,\n",
      "          0.0000e+00, 2.4212e-04],\n",
      "         [0.0000e+00, 0.0000e+00, 0.0000e+00,  ..., 0.0000e+00,\n",
      "          0.0000e+00, 2.4212e-04],\n",
      "         [0.0000e+00, 0.0000e+00, 0.0000e+00,  ..., 0.0000e+00,\n",
      "          0.0000e+00, 2.4212e-04],\n",
      "         ...,\n",
      "         [0.0000e+00, 0.0000e+00, 0.0000e+00,  ..., 0.0000e+00,\n",
      "          0.0000e+00, 2.4212e-04],\n",
      "         [0.0000e+00, 0.0000e+00, 0.0000e+00,  ..., 0.0000e+00,\n",
      "          0.0000e+00, 2.4212e-04],\n",
      "         [0.0000e+00, 0.0000e+00, 0.0000e+00,  ..., 0.0000e+00,\n",
      "          0.0000e+00, 2.4212e-04]],\n",
      "\n",
      "        [[0.0000e+00, 0.0000e+00, 0.0000e+00,  ..., 0.0000e+00,\n",
      "          0.0000e+00, 2.4555e-04],\n",
      "         [0.0000e+00, 0.0000e+00, 0.0000e+00,  ..., 0.0000e+00,\n",
      "          0.0000e+00, 2.4574e-04],\n",
      "         [0.0000e+00, 0.0000e+00, 0.0000e+00,  ..., 0.0000e+00,\n",
      "          0.0000e+00, 2.4530e-04],\n",
      "         ...,\n",
      "         [8.3719e-28, 9.1547e-29, 2.4364e-28,  ..., 5.8410e-29,\n",
      "          1.1508e-22, 0.0000e+00],\n",
      "         [0.0000e+00, 0.0000e+00, 0.0000e+00,  ..., 0.0000e+00,\n",
      "          0.0000e+00, 2.4212e-04],\n",
      "         [0.0000e+00, 0.0000e+00, 0.0000e+00,  ..., 0.0000e+00,\n",
      "          0.0000e+00, 2.4212e-04]],\n",
      "\n",
      "        ...,\n",
      "\n",
      "        [[0.0000e+00, 0.0000e+00, 0.0000e+00,  ..., 0.0000e+00,\n",
      "          0.0000e+00, 3.2475e-04],\n",
      "         [0.0000e+00, 0.0000e+00, 0.0000e+00,  ..., 0.0000e+00,\n",
      "          0.0000e+00, 2.4628e-04],\n",
      "         [0.0000e+00, 0.0000e+00, 0.0000e+00,  ..., 0.0000e+00,\n",
      "          0.0000e+00, 2.5796e-04],\n",
      "         ...,\n",
      "         [0.0000e+00, 0.0000e+00, 0.0000e+00,  ..., 0.0000e+00,\n",
      "          0.0000e+00, 2.4212e-04],\n",
      "         [0.0000e+00, 0.0000e+00, 0.0000e+00,  ..., 0.0000e+00,\n",
      "          0.0000e+00, 2.4232e-04],\n",
      "         [0.0000e+00, 0.0000e+00, 0.0000e+00,  ..., 0.0000e+00,\n",
      "          0.0000e+00, 2.2197e-03]],\n",
      "\n",
      "        [[0.0000e+00, 0.0000e+00, 0.0000e+00,  ..., 0.0000e+00,\n",
      "          0.0000e+00, 2.7000e-04],\n",
      "         [1.0218e-22, 3.6754e-22, 2.0135e-23,  ..., 3.9423e-25,\n",
      "          1.1594e-16, 0.0000e+00],\n",
      "         [0.0000e+00, 0.0000e+00, 0.0000e+00,  ..., 0.0000e+00,\n",
      "          0.0000e+00, 2.2173e-03],\n",
      "         ...,\n",
      "         [0.0000e+00, 0.0000e+00, 0.0000e+00,  ..., 0.0000e+00,\n",
      "          0.0000e+00, 2.5379e-04],\n",
      "         [0.0000e+00, 0.0000e+00, 0.0000e+00,  ..., 0.0000e+00,\n",
      "          0.0000e+00, 2.1621e-03],\n",
      "         [1.7462e-25, 2.9023e-26, 4.7474e-25,  ..., 7.4478e-23,\n",
      "          4.4808e-18, 0.0000e+00]],\n",
      "\n",
      "        [[0.0000e+00, 0.0000e+00, 0.0000e+00,  ..., 0.0000e+00,\n",
      "          0.0000e+00, 2.4212e-04],\n",
      "         [0.0000e+00, 0.0000e+00, 0.0000e+00,  ..., 0.0000e+00,\n",
      "          0.0000e+00, 2.4212e-04],\n",
      "         [0.0000e+00, 0.0000e+00, 0.0000e+00,  ..., 0.0000e+00,\n",
      "          0.0000e+00, 2.4212e-04],\n",
      "         ...,\n",
      "         [0.0000e+00, 0.0000e+00, 0.0000e+00,  ..., 0.0000e+00,\n",
      "          0.0000e+00, 2.4212e-04],\n",
      "         [0.0000e+00, 0.0000e+00, 0.0000e+00,  ..., 0.0000e+00,\n",
      "          0.0000e+00, 2.4212e-04],\n",
      "         [0.0000e+00, 0.0000e+00, 0.0000e+00,  ..., 0.0000e+00,\n",
      "          0.0000e+00, 2.4212e-04]]], device='cuda:0')\n"
     ]
    },
    {
     "name": "stderr",
     "output_type": "stream",
     "text": [
      "49it [00:06,  8.11it/s]\n",
      "38it [00:04,  8.03it/s]\n"
     ]
    },
    {
     "name": "stdout",
     "output_type": "stream",
     "text": [
      "An error occurred: Expected parameter rate (Tensor of shape (200, 224, 130)) of distribution Poisson(rate: torch.Size([200, 224, 130])) to satisfy the constraint GreaterThanEq(lower_bound=0.0), but found invalid values:\n",
      "tensor([[[0.0000e+00, 0.0000e+00, 0.0000e+00,  ..., 0.0000e+00,\n",
      "          0.0000e+00, 5.8317e-04],\n",
      "         [0.0000e+00, 0.0000e+00, 0.0000e+00,  ..., 0.0000e+00,\n",
      "          0.0000e+00, 5.8319e-04],\n",
      "         [0.0000e+00, 0.0000e+00, 0.0000e+00,  ..., 0.0000e+00,\n",
      "          0.0000e+00, 5.8317e-04],\n",
      "         ...,\n",
      "         [0.0000e+00, 0.0000e+00, 0.0000e+00,  ..., 0.0000e+00,\n",
      "          0.0000e+00, 5.9341e-04],\n",
      "         [0.0000e+00, 0.0000e+00, 0.0000e+00,  ..., 0.0000e+00,\n",
      "          0.0000e+00, 5.8317e-04],\n",
      "         [0.0000e+00, 0.0000e+00, 0.0000e+00,  ..., 0.0000e+00,\n",
      "          0.0000e+00, 5.8317e-04]],\n",
      "\n",
      "        [[4.8201e-32, 4.5229e-32, 4.1774e-39,  ..., 5.8606e-40,\n",
      "          2.3114e-36, 0.0000e+00],\n",
      "         [0.0000e+00, 0.0000e+00, 0.0000e+00,  ..., 0.0000e+00,\n",
      "          0.0000e+00, 5.8318e-04],\n",
      "         [0.0000e+00, 0.0000e+00, 0.0000e+00,  ..., 0.0000e+00,\n",
      "          0.0000e+00, 5.8907e-04],\n",
      "         ...,\n",
      "         [0.0000e+00, 0.0000e+00, 0.0000e+00,  ..., 0.0000e+00,\n",
      "          0.0000e+00, 5.9006e-04],\n",
      "         [5.5289e-19, 6.8203e-18, 9.5809e-19,  ..., 4.5054e-19,\n",
      "          5.6381e-18, 0.0000e+00],\n",
      "         [2.7212e-17, 3.0092e-16, 1.5294e-17,  ..., 1.1995e-16,\n",
      "          4.1055e-16, 0.0000e+00]],\n",
      "\n",
      "        [[0.0000e+00, 0.0000e+00, 0.0000e+00,  ..., 0.0000e+00,\n",
      "          0.0000e+00, 5.8317e-04],\n",
      "         [0.0000e+00, 0.0000e+00, 0.0000e+00,  ..., 0.0000e+00,\n",
      "          0.0000e+00, 5.8317e-04],\n",
      "         [0.0000e+00, 0.0000e+00, 0.0000e+00,  ..., 0.0000e+00,\n",
      "          0.0000e+00, 5.8317e-04],\n",
      "         ...,\n",
      "         [0.0000e+00, 0.0000e+00, 0.0000e+00,  ..., 0.0000e+00,\n",
      "          0.0000e+00, 5.8317e-04],\n",
      "         [0.0000e+00, 0.0000e+00, 0.0000e+00,  ..., 0.0000e+00,\n",
      "          0.0000e+00, 1.2273e-03],\n",
      "         [0.0000e+00, 0.0000e+00, 0.0000e+00,  ..., 0.0000e+00,\n",
      "          0.0000e+00, 2.5608e-03]],\n",
      "\n",
      "        ...,\n",
      "\n",
      "        [[0.0000e+00, 0.0000e+00, 0.0000e+00,  ..., 0.0000e+00,\n",
      "          0.0000e+00, 5.8317e-04],\n",
      "         [0.0000e+00, 0.0000e+00, 0.0000e+00,  ..., 0.0000e+00,\n",
      "          0.0000e+00, 5.8333e-04],\n",
      "         [9.8458e-27, 4.8027e-27, 8.9418e-26,  ..., 4.8926e-26,\n",
      "          2.8459e-22, 0.0000e+00],\n",
      "         ...,\n",
      "         [0.0000e+00, 0.0000e+00, 0.0000e+00,  ..., 0.0000e+00,\n",
      "          0.0000e+00, 5.8342e-04],\n",
      "         [0.0000e+00, 0.0000e+00, 0.0000e+00,  ..., 0.0000e+00,\n",
      "          0.0000e+00, 5.8358e-04],\n",
      "         [0.0000e+00, 0.0000e+00, 0.0000e+00,  ..., 0.0000e+00,\n",
      "          0.0000e+00, 5.9431e-04]],\n",
      "\n",
      "        [[0.0000e+00, 0.0000e+00, 0.0000e+00,  ..., 0.0000e+00,\n",
      "          0.0000e+00, 5.8317e-04],\n",
      "         [0.0000e+00, 0.0000e+00, 0.0000e+00,  ..., 0.0000e+00,\n",
      "          0.0000e+00, 2.0912e-03],\n",
      "         [0.0000e+00, 0.0000e+00, 0.0000e+00,  ..., 0.0000e+00,\n",
      "          0.0000e+00, 5.9216e-04],\n",
      "         ...,\n",
      "         [0.0000e+00, 0.0000e+00, 0.0000e+00,  ..., 0.0000e+00,\n",
      "          0.0000e+00, 1.3319e-03],\n",
      "         [0.0000e+00, 0.0000e+00, 0.0000e+00,  ..., 0.0000e+00,\n",
      "          0.0000e+00, 5.8452e-04],\n",
      "         [4.3959e-21, 3.8993e-20, 2.7521e-20,  ..., 2.7420e-15,\n",
      "          9.2621e-17, 0.0000e+00]],\n",
      "\n",
      "        [[1.3284e-24, 1.0628e-28, 4.6334e-28,  ..., 5.8315e-26,\n",
      "          2.1610e-28, 0.0000e+00],\n",
      "         [0.0000e+00, 0.0000e+00, 0.0000e+00,  ..., 0.0000e+00,\n",
      "          0.0000e+00, 5.9946e-04],\n",
      "         [0.0000e+00, 0.0000e+00, 0.0000e+00,  ..., 0.0000e+00,\n",
      "          0.0000e+00, 6.4142e-04],\n",
      "         ...,\n",
      "         [0.0000e+00, 0.0000e+00, 0.0000e+00,  ..., 0.0000e+00,\n",
      "          0.0000e+00, 5.8317e-04],\n",
      "         [0.0000e+00, 0.0000e+00, 0.0000e+00,  ..., 0.0000e+00,\n",
      "          0.0000e+00, 5.8318e-04],\n",
      "         [6.3625e-20, 7.1376e-22, 1.4086e-26,  ..., 1.8610e-25,\n",
      "          8.2909e-22, 0.0000e+00]]], device='cuda:0')\n",
      "Experiment results saved to  piano_results.csv\n"
     ]
    },
    {
     "name": "stderr",
     "output_type": "stream",
     "text": [
      "99it [00:12,  8.06it/s]\n",
      "99it [00:12,  8.05it/s]\n",
      "98it [00:12,  7.98it/s]\n"
     ]
    },
    {
     "name": "stdout",
     "output_type": "stream",
     "text": [
      "An error occurred: Expected parameter rate (Tensor of shape (200, 224, 130)) of distribution Poisson(rate: torch.Size([200, 224, 130])) to satisfy the constraint GreaterThanEq(lower_bound=0.0), but found invalid values:\n",
      "tensor([[[8.3632e-37, 2.0954e-32, 4.9630e-34,  ..., 4.6437e-34,\n",
      "          1.9063e-31, 0.0000e+00],\n",
      "         [0.0000e+00, 0.0000e+00, 0.0000e+00,  ..., 0.0000e+00,\n",
      "          0.0000e+00, 2.0302e-05],\n",
      "         [0.0000e+00, 0.0000e+00, 0.0000e+00,  ..., 0.0000e+00,\n",
      "          0.0000e+00, 2.0161e-05],\n",
      "         ...,\n",
      "         [0.0000e+00, 0.0000e+00, 0.0000e+00,  ..., 0.0000e+00,\n",
      "          0.0000e+00, 2.0161e-05],\n",
      "         [0.0000e+00, 0.0000e+00, 0.0000e+00,  ..., 0.0000e+00,\n",
      "          0.0000e+00, 2.0161e-05],\n",
      "         [0.0000e+00, 0.0000e+00, 0.0000e+00,  ..., 0.0000e+00,\n",
      "          0.0000e+00, 2.0161e-05]],\n",
      "\n",
      "        [[0.0000e+00, 0.0000e+00, 0.0000e+00,  ..., 0.0000e+00,\n",
      "          0.0000e+00, 2.0335e-05],\n",
      "         [0.0000e+00, 0.0000e+00, 0.0000e+00,  ..., 0.0000e+00,\n",
      "          0.0000e+00, 2.0341e-05],\n",
      "         [0.0000e+00, 0.0000e+00, 0.0000e+00,  ..., 0.0000e+00,\n",
      "          0.0000e+00, 2.1966e-05],\n",
      "         ...,\n",
      "         [0.0000e+00, 0.0000e+00, 0.0000e+00,  ..., 0.0000e+00,\n",
      "          0.0000e+00, 2.0161e-05],\n",
      "         [0.0000e+00, 0.0000e+00, 0.0000e+00,  ..., 0.0000e+00,\n",
      "          0.0000e+00, 2.2279e-05],\n",
      "         [0.0000e+00, 0.0000e+00, 0.0000e+00,  ..., 0.0000e+00,\n",
      "          0.0000e+00, 2.0166e-05]],\n",
      "\n",
      "        [[0.0000e+00, 0.0000e+00, 0.0000e+00,  ..., 0.0000e+00,\n",
      "          0.0000e+00, 2.0161e-05],\n",
      "         [0.0000e+00, 0.0000e+00, 0.0000e+00,  ..., 0.0000e+00,\n",
      "          0.0000e+00, 2.0161e-05],\n",
      "         [0.0000e+00, 0.0000e+00, 0.0000e+00,  ..., 0.0000e+00,\n",
      "          0.0000e+00, 2.0161e-05],\n",
      "         ...,\n",
      "         [0.0000e+00, 0.0000e+00, 0.0000e+00,  ..., 0.0000e+00,\n",
      "          0.0000e+00, 2.0161e-05],\n",
      "         [0.0000e+00, 0.0000e+00, 0.0000e+00,  ..., 0.0000e+00,\n",
      "          0.0000e+00, 2.0161e-05],\n",
      "         [0.0000e+00, 0.0000e+00, 0.0000e+00,  ..., 0.0000e+00,\n",
      "          0.0000e+00, 2.0161e-05]],\n",
      "\n",
      "        ...,\n",
      "\n",
      "        [[0.0000e+00, 0.0000e+00, 0.0000e+00,  ..., 0.0000e+00,\n",
      "          0.0000e+00, 1.0080e-04],\n",
      "         [0.0000e+00, 0.0000e+00, 0.0000e+00,  ..., 0.0000e+00,\n",
      "          0.0000e+00, 2.1004e-05],\n",
      "         [0.0000e+00, 0.0000e+00, 0.0000e+00,  ..., 0.0000e+00,\n",
      "          0.0000e+00, 9.4370e-04],\n",
      "         ...,\n",
      "         [0.0000e+00, 0.0000e+00, 0.0000e+00,  ..., 0.0000e+00,\n",
      "          0.0000e+00, 2.2631e-04],\n",
      "         [0.0000e+00, 0.0000e+00, 0.0000e+00,  ..., 0.0000e+00,\n",
      "          0.0000e+00, 2.0345e-05],\n",
      "         [0.0000e+00, 0.0000e+00, 0.0000e+00,  ..., 0.0000e+00,\n",
      "          0.0000e+00, 2.0621e-05]],\n",
      "\n",
      "        [[0.0000e+00, 0.0000e+00, 0.0000e+00,  ..., 0.0000e+00,\n",
      "          0.0000e+00, 2.0161e-05],\n",
      "         [0.0000e+00, 0.0000e+00, 0.0000e+00,  ..., 0.0000e+00,\n",
      "          0.0000e+00, 2.0161e-05],\n",
      "         [0.0000e+00, 0.0000e+00, 0.0000e+00,  ..., 0.0000e+00,\n",
      "          0.0000e+00, 2.0161e-05],\n",
      "         ...,\n",
      "         [0.0000e+00, 0.0000e+00, 0.0000e+00,  ..., 0.0000e+00,\n",
      "          0.0000e+00, 2.0454e-05],\n",
      "         [0.0000e+00, 0.0000e+00, 0.0000e+00,  ..., 0.0000e+00,\n",
      "          0.0000e+00, 2.0397e-05],\n",
      "         [0.0000e+00, 0.0000e+00, 0.0000e+00,  ..., 0.0000e+00,\n",
      "          0.0000e+00, 2.0161e-05]],\n",
      "\n",
      "        [[0.0000e+00, 0.0000e+00, 0.0000e+00,  ..., 0.0000e+00,\n",
      "          0.0000e+00, 2.0169e-05],\n",
      "         [0.0000e+00, 0.0000e+00, 0.0000e+00,  ..., 0.0000e+00,\n",
      "          0.0000e+00, 2.0714e-05],\n",
      "         [2.3519e-22, 1.9233e-23, 4.1452e-28,  ..., 2.3302e-22,\n",
      "          5.3844e-19, 0.0000e+00],\n",
      "         ...,\n",
      "         [0.0000e+00, 0.0000e+00, 0.0000e+00,  ..., 0.0000e+00,\n",
      "          0.0000e+00, 2.0821e-05],\n",
      "         [0.0000e+00, 0.0000e+00, 0.0000e+00,  ..., 0.0000e+00,\n",
      "          0.0000e+00, 2.0167e-05],\n",
      "         [0.0000e+00, 0.0000e+00, 0.0000e+00,  ..., 0.0000e+00,\n",
      "          0.0000e+00, 2.4342e-05]]], device='cuda:0')\n"
     ]
    },
    {
     "name": "stderr",
     "output_type": "stream",
     "text": [
      "99it [00:12,  8.05it/s]\n",
      "99it [00:12,  8.05it/s]\n",
      "99it [00:12,  8.06it/s]\n",
      "99it [00:12,  8.06it/s]\n",
      "97it [00:10,  9.10it/s]\n"
     ]
    },
    {
     "name": "stdout",
     "output_type": "stream",
     "text": [
      "An error occurred: Expected parameter rate (Tensor of shape (173, 224, 130)) of distribution Poisson(rate: torch.Size([173, 224, 130])) to satisfy the constraint GreaterThanEq(lower_bound=0.0), but found invalid values:\n",
      "tensor([[[0.0000e+00, 0.0000e+00, 0.0000e+00,  ..., 0.0000e+00,\n",
      "          0.0000e+00, 3.0447e-05],\n",
      "         [0.0000e+00, 0.0000e+00, 0.0000e+00,  ..., 0.0000e+00,\n",
      "          0.0000e+00, 3.0447e-05],\n",
      "         [0.0000e+00, 0.0000e+00, 0.0000e+00,  ..., 0.0000e+00,\n",
      "          0.0000e+00, 3.0447e-05],\n",
      "         ...,\n",
      "         [0.0000e+00, 0.0000e+00, 0.0000e+00,  ..., 0.0000e+00,\n",
      "          0.0000e+00, 3.0449e-05],\n",
      "         [0.0000e+00, 0.0000e+00, 0.0000e+00,  ..., 0.0000e+00,\n",
      "          0.0000e+00, 3.0453e-05],\n",
      "         [0.0000e+00, 0.0000e+00, 0.0000e+00,  ..., 0.0000e+00,\n",
      "          0.0000e+00, 3.0451e-05]],\n",
      "\n",
      "        [[0.0000e+00, 0.0000e+00, 0.0000e+00,  ..., 0.0000e+00,\n",
      "          0.0000e+00, 3.0447e-05],\n",
      "         [0.0000e+00, 0.0000e+00, 0.0000e+00,  ..., 0.0000e+00,\n",
      "          0.0000e+00, 3.0447e-05],\n",
      "         [0.0000e+00, 0.0000e+00, 0.0000e+00,  ..., 0.0000e+00,\n",
      "          0.0000e+00, 3.0447e-05],\n",
      "         ...,\n",
      "         [6.7513e-23, 1.8147e-22, 1.0875e-26,  ..., 2.6169e-23,\n",
      "          3.8494e-21, 0.0000e+00],\n",
      "         [0.0000e+00, 0.0000e+00, 0.0000e+00,  ..., 0.0000e+00,\n",
      "          0.0000e+00, 3.0490e-05],\n",
      "         [9.8333e-27, 3.1242e-28, 4.6795e-29,  ..., 3.2374e-28,\n",
      "          2.7207e-22, 0.0000e+00]],\n",
      "\n",
      "        [[1.6779e-28, 1.6189e-23, 4.6898e-30,  ..., 2.1177e-28,\n",
      "          2.9316e-21, 0.0000e+00],\n",
      "         [0.0000e+00, 0.0000e+00, 0.0000e+00,  ..., 0.0000e+00,\n",
      "          0.0000e+00, 3.0448e-05],\n",
      "         [0.0000e+00, 0.0000e+00, 0.0000e+00,  ..., 0.0000e+00,\n",
      "          0.0000e+00, 3.0454e-05],\n",
      "         ...,\n",
      "         [0.0000e+00, 0.0000e+00, 0.0000e+00,  ..., 0.0000e+00,\n",
      "          0.0000e+00, 3.0452e-05],\n",
      "         [0.0000e+00, 0.0000e+00, 0.0000e+00,  ..., 0.0000e+00,\n",
      "          0.0000e+00, 3.0447e-05],\n",
      "         [0.0000e+00, 0.0000e+00, 0.0000e+00,  ..., 0.0000e+00,\n",
      "          0.0000e+00, 3.0447e-05]],\n",
      "\n",
      "        ...,\n",
      "\n",
      "        [[0.0000e+00, 0.0000e+00, 0.0000e+00,  ..., 0.0000e+00,\n",
      "          0.0000e+00, 1.0194e-03],\n",
      "         [0.0000e+00, 0.0000e+00, 0.0000e+00,  ..., 0.0000e+00,\n",
      "          0.0000e+00, 3.1047e-05],\n",
      "         [0.0000e+00, 0.0000e+00, 0.0000e+00,  ..., 0.0000e+00,\n",
      "          0.0000e+00, 1.0161e-03],\n",
      "         ...,\n",
      "         [0.0000e+00, 0.0000e+00, 0.0000e+00,  ..., 0.0000e+00,\n",
      "          0.0000e+00, 3.0447e-05],\n",
      "         [0.0000e+00, 0.0000e+00, 0.0000e+00,  ..., 0.0000e+00,\n",
      "          0.0000e+00, 1.0194e-03],\n",
      "         [0.0000e+00, 0.0000e+00, 0.0000e+00,  ..., 0.0000e+00,\n",
      "          0.0000e+00, 2.3945e-04]],\n",
      "\n",
      "        [[0.0000e+00, 0.0000e+00, 0.0000e+00,  ..., 0.0000e+00,\n",
      "          0.0000e+00, 3.0447e-05],\n",
      "         [0.0000e+00, 0.0000e+00, 0.0000e+00,  ..., 0.0000e+00,\n",
      "          0.0000e+00, 3.0447e-05],\n",
      "         [0.0000e+00, 0.0000e+00, 0.0000e+00,  ..., 0.0000e+00,\n",
      "          0.0000e+00, 3.6472e-05],\n",
      "         ...,\n",
      "         [0.0000e+00, 0.0000e+00, 0.0000e+00,  ..., 0.0000e+00,\n",
      "          0.0000e+00, 3.0447e-05],\n",
      "         [0.0000e+00, 0.0000e+00, 0.0000e+00,  ..., 0.0000e+00,\n",
      "          0.0000e+00, 3.0447e-05],\n",
      "         [0.0000e+00, 0.0000e+00, 0.0000e+00,  ..., 0.0000e+00,\n",
      "          0.0000e+00, 3.0447e-05]],\n",
      "\n",
      "        [[0.0000e+00, 0.0000e+00, 0.0000e+00,  ..., 0.0000e+00,\n",
      "          0.0000e+00, 3.0450e-05],\n",
      "         [0.0000e+00, 0.0000e+00, 0.0000e+00,  ..., 0.0000e+00,\n",
      "          0.0000e+00, 3.0470e-05],\n",
      "         [0.0000e+00, 0.0000e+00, 0.0000e+00,  ..., 0.0000e+00,\n",
      "          0.0000e+00, 3.0447e-05],\n",
      "         ...,\n",
      "         [0.0000e+00, 0.0000e+00, 0.0000e+00,  ..., 0.0000e+00,\n",
      "          0.0000e+00, 3.1195e-05],\n",
      "         [4.6425e-29, 3.6091e-29, 4.2023e-33,  ..., 3.3468e-29,\n",
      "          4.0872e-25, 0.0000e+00],\n",
      "         [0.0000e+00, 0.0000e+00, 0.0000e+00,  ..., 0.0000e+00,\n",
      "          0.0000e+00, 3.0549e-05]]], device='cuda:0')\n"
     ]
    },
    {
     "name": "stderr",
     "output_type": "stream",
     "text": [
      "99it [00:12,  8.06it/s]\n",
      "99it [00:12,  8.06it/s]\n",
      "99it [00:12,  8.05it/s]\n",
      "99it [00:12,  8.06it/s]\n",
      "99it [00:10,  9.19it/s]\n"
     ]
    },
    {
     "name": "stdout",
     "output_type": "stream",
     "text": [
      "{'method': 'tauleaping', 'g_steps': 0, 'tau_steps': 100, 'use_corrector': True, 'corrector': 'barker', 'c_stepsize': 0.1, 'c_steps': 1, 'nfe': 190.0, 'h_dist': 0.39133605205402694, 'outlier_rate': 0.14125128468653647}\n",
      "Experiment results saved to  piano_results.csv\n"
     ]
    },
    {
     "name": "stderr",
     "output_type": "stream",
     "text": [
      "195it [00:24,  8.00it/s]\n"
     ]
    },
    {
     "name": "stdout",
     "output_type": "stream",
     "text": [
      "An error occurred: Expected parameter rate (Tensor of shape (200, 224, 130)) of distribution Poisson(rate: torch.Size([200, 224, 130])) to satisfy the constraint GreaterThanEq(lower_bound=0.0), but found invalid values:\n",
      "tensor([[[0.0000e+00, 0.0000e+00, 0.0000e+00,  ..., 0.0000e+00,\n",
      "          0.0000e+00, 1.5495e-05],\n",
      "         [0.0000e+00, 0.0000e+00, 0.0000e+00,  ..., 0.0000e+00,\n",
      "          0.0000e+00, 1.6078e-05],\n",
      "         [0.0000e+00, 0.0000e+00, 0.0000e+00,  ..., 0.0000e+00,\n",
      "          0.0000e+00, 2.8085e-05],\n",
      "         ...,\n",
      "         [0.0000e+00, 0.0000e+00, 0.0000e+00,  ..., 0.0000e+00,\n",
      "          0.0000e+00, 1.6709e-05],\n",
      "         [0.0000e+00, 0.0000e+00, 0.0000e+00,  ..., 0.0000e+00,\n",
      "          0.0000e+00, 1.5201e-05],\n",
      "         [0.0000e+00, 0.0000e+00, 0.0000e+00,  ..., 0.0000e+00,\n",
      "          0.0000e+00, 1.5200e-05]],\n",
      "\n",
      "        [[0.0000e+00, 0.0000e+00, 0.0000e+00,  ..., 0.0000e+00,\n",
      "          0.0000e+00, 1.5199e-05],\n",
      "         [0.0000e+00, 0.0000e+00, 0.0000e+00,  ..., 0.0000e+00,\n",
      "          0.0000e+00, 1.5201e-05],\n",
      "         [0.0000e+00, 0.0000e+00, 0.0000e+00,  ..., 0.0000e+00,\n",
      "          0.0000e+00, 1.5199e-05],\n",
      "         ...,\n",
      "         [0.0000e+00, 0.0000e+00, 0.0000e+00,  ..., 0.0000e+00,\n",
      "          0.0000e+00, 1.5198e-05],\n",
      "         [0.0000e+00, 0.0000e+00, 0.0000e+00,  ..., 0.0000e+00,\n",
      "          0.0000e+00, 1.5199e-05],\n",
      "         [0.0000e+00, 0.0000e+00, 0.0000e+00,  ..., 0.0000e+00,\n",
      "          0.0000e+00, 1.5198e-05]],\n",
      "\n",
      "        [[0.0000e+00, 0.0000e+00, 0.0000e+00,  ..., 0.0000e+00,\n",
      "          0.0000e+00, 1.7888e-05],\n",
      "         [0.0000e+00, 0.0000e+00, 0.0000e+00,  ..., 0.0000e+00,\n",
      "          0.0000e+00, 1.5203e-05],\n",
      "         [0.0000e+00, 0.0000e+00, 0.0000e+00,  ..., 0.0000e+00,\n",
      "          0.0000e+00, 1.5717e-05],\n",
      "         ...,\n",
      "         [0.0000e+00, 0.0000e+00, 0.0000e+00,  ..., 0.0000e+00,\n",
      "          0.0000e+00, 1.6065e-05],\n",
      "         [0.0000e+00, 0.0000e+00, 0.0000e+00,  ..., 0.0000e+00,\n",
      "          0.0000e+00, 2.3822e-04],\n",
      "         [0.0000e+00, 0.0000e+00, 0.0000e+00,  ..., 0.0000e+00,\n",
      "          0.0000e+00, 1.5235e-05]],\n",
      "\n",
      "        ...,\n",
      "\n",
      "        [[0.0000e+00, 0.0000e+00, 0.0000e+00,  ..., 0.0000e+00,\n",
      "          0.0000e+00, 1.5198e-05],\n",
      "         [0.0000e+00, 0.0000e+00, 0.0000e+00,  ..., 0.0000e+00,\n",
      "          0.0000e+00, 1.5198e-05],\n",
      "         [0.0000e+00, 0.0000e+00, 0.0000e+00,  ..., 0.0000e+00,\n",
      "          0.0000e+00, 1.5198e-05],\n",
      "         ...,\n",
      "         [0.0000e+00, 0.0000e+00, 0.0000e+00,  ..., 0.0000e+00,\n",
      "          0.0000e+00, 1.5198e-05],\n",
      "         [0.0000e+00, 0.0000e+00, 0.0000e+00,  ..., 0.0000e+00,\n",
      "          0.0000e+00, 1.5198e-05],\n",
      "         [0.0000e+00, 0.0000e+00, 0.0000e+00,  ..., 0.0000e+00,\n",
      "          0.0000e+00, 1.5198e-05]],\n",
      "\n",
      "        [[0.0000e+00, 0.0000e+00, 0.0000e+00,  ..., 0.0000e+00,\n",
      "          0.0000e+00, 1.5542e-05],\n",
      "         [0.0000e+00, 0.0000e+00, 0.0000e+00,  ..., 0.0000e+00,\n",
      "          0.0000e+00, 1.5564e-05],\n",
      "         [0.0000e+00, 0.0000e+00, 0.0000e+00,  ..., 0.0000e+00,\n",
      "          0.0000e+00, 1.5507e-05],\n",
      "         ...,\n",
      "         [0.0000e+00, 0.0000e+00, 0.0000e+00,  ..., 0.0000e+00,\n",
      "          0.0000e+00, 1.5293e-05],\n",
      "         [0.0000e+00, 0.0000e+00, 0.0000e+00,  ..., 0.0000e+00,\n",
      "          0.0000e+00, 3.1302e-05],\n",
      "         [0.0000e+00, 0.0000e+00, 0.0000e+00,  ..., 0.0000e+00,\n",
      "          0.0000e+00, 1.6857e-05]],\n",
      "\n",
      "        [[0.0000e+00, 0.0000e+00, 0.0000e+00,  ..., 0.0000e+00,\n",
      "          0.0000e+00, 1.5198e-05],\n",
      "         [0.0000e+00, 0.0000e+00, 0.0000e+00,  ..., 0.0000e+00,\n",
      "          0.0000e+00, 1.5198e-05],\n",
      "         [0.0000e+00, 0.0000e+00, 0.0000e+00,  ..., 0.0000e+00,\n",
      "          0.0000e+00, 1.5198e-05],\n",
      "         ...,\n",
      "         [0.0000e+00, 0.0000e+00, 0.0000e+00,  ..., 0.0000e+00,\n",
      "          0.0000e+00, 1.5198e-05],\n",
      "         [0.0000e+00, 0.0000e+00, 0.0000e+00,  ..., 0.0000e+00,\n",
      "          0.0000e+00, 1.5198e-05],\n",
      "         [0.0000e+00, 0.0000e+00, 0.0000e+00,  ..., 0.0000e+00,\n",
      "          0.0000e+00, 1.5199e-05]]], device='cuda:0')\n"
     ]
    },
    {
     "name": "stderr",
     "output_type": "stream",
     "text": [
      "199it [00:24,  8.04it/s]\n",
      "199it [00:24,  8.03it/s]\n",
      "199it [00:24,  8.04it/s]\n",
      "199it [00:24,  8.04it/s]\n",
      "199it [00:21,  9.15it/s]\n"
     ]
    },
    {
     "name": "stdout",
     "output_type": "stream",
     "text": [
      "{'method': 'tauleaping', 'g_steps': 0, 'tau_steps': 200, 'use_corrector': True, 'corrector': 'barker', 'c_stepsize': 0.1, 'c_steps': 1, 'nfe': 380.0, 'h_dist': 0.3849378033988077, 'outlier_rate': 0.13386032245632065}\n"
     ]
    },
    {
     "name": "stderr",
     "output_type": "stream",
     "text": [
      "199it [00:24,  8.03it/s]\n",
      "199it [00:24,  8.04it/s]\n",
      "199it [00:24,  8.03it/s]\n",
      "199it [00:24,  8.04it/s]\n",
      "199it [00:21,  9.16it/s]\n"
     ]
    },
    {
     "name": "stdout",
     "output_type": "stream",
     "text": [
      "{'method': 'tauleaping', 'g_steps': 0, 'tau_steps': 200, 'use_corrector': True, 'corrector': 'barker', 'c_stepsize': 0.1, 'c_steps': 1, 'nfe': 380.0, 'h_dist': 0.38387794611499804, 'outlier_rate': 0.13139533016443988}\n",
      "Experiment results saved to  piano_results.csv\n"
     ]
    },
    {
     "name": "stderr",
     "output_type": "stream",
     "text": [
      "225it [00:09, 24.95it/s]                         \n",
      "225it [00:09, 24.92it/s]                         \n",
      "225it [00:09, 24.95it/s]                         \n",
      "225it [00:09, 24.93it/s]                         \n",
      "225it [00:07, 28.36it/s]                         \n"
     ]
    },
    {
     "name": "stdout",
     "output_type": "stream",
     "text": [
      "{'method': 'gillespies', 'g_steps': 3, 'tau_steps': 0, 'use_corrector': True, 'corrector': 'mpf', 'c_stepsize': 0.1, 'c_steps': 1, 'nfe': 141.86666666666667, 'h_dist': 0.3746713508336934, 'outlier_rate': 0.10664504110996917}\n"
     ]
    },
    {
     "name": "stderr",
     "output_type": "stream",
     "text": [
      "225it [00:09, 24.95it/s]                         \n",
      "225it [00:09, 24.95it/s]                         \n",
      "225it [00:09, 24.93it/s]                         \n",
      "225it [00:09, 24.94it/s]                         \n",
      "225it [00:07, 28.41it/s]                         \n"
     ]
    },
    {
     "name": "stdout",
     "output_type": "stream",
     "text": [
      "{'method': 'gillespies', 'g_steps': 3, 'tau_steps': 0, 'use_corrector': True, 'corrector': 'mpf', 'c_stepsize': 0.1, 'c_steps': 1, 'nfe': 141.86666666666667, 'h_dist': 0.3741630006541626, 'outlier_rate': 0.10654066032887975}\n"
     ]
    },
    {
     "name": "stderr",
     "output_type": "stream",
     "text": [
      "225it [00:09, 24.95it/s]                         \n",
      "225it [00:09, 24.92it/s]                         \n",
      "225it [00:09, 24.91it/s]                         \n",
      "225it [00:09, 24.95it/s]                         \n",
      "225it [00:07, 28.38it/s]                         \n"
     ]
    },
    {
     "name": "stdout",
     "output_type": "stream",
     "text": [
      "{'method': 'gillespies', 'g_steps': 3, 'tau_steps': 0, 'use_corrector': True, 'corrector': 'mpf', 'c_stepsize': 0.1, 'c_steps': 1, 'nfe': 141.86666666666667, 'h_dist': 0.3742552452643994, 'outlier_rate': 0.10824688463514902}\n",
      "Experiment results saved to  piano_results.csv\n"
     ]
    },
    {
     "name": "stderr",
     "output_type": "stream",
     "text": [
      "100%|██████████| 224/224 [00:13<00:00, 16.77it/s]\n",
      "100%|██████████| 224/224 [00:13<00:00, 16.77it/s]\n",
      "100%|██████████| 224/224 [00:13<00:00, 16.76it/s]\n",
      "100%|██████████| 224/224 [00:13<00:00, 16.78it/s]\n",
      "100%|██████████| 224/224 [00:11<00:00, 19.12it/s]\n"
     ]
    },
    {
     "name": "stdout",
     "output_type": "stream",
     "text": [
      "{'method': 'gillespies', 'g_steps': 2, 'tau_steps': 0, 'use_corrector': True, 'corrector': 'mpf', 'c_stepsize': 0.1, 'c_steps': 1, 'nfe': 212.8, 'h_dist': 0.3768961045763252, 'outlier_rate': 0.10963193730729702}\n"
     ]
    },
    {
     "name": "stderr",
     "output_type": "stream",
     "text": [
      "100%|██████████| 224/224 [00:13<00:00, 16.77it/s]\n",
      "100%|██████████| 224/224 [00:13<00:00, 16.75it/s]\n",
      "100%|██████████| 224/224 [00:13<00:00, 16.75it/s]\n",
      "100%|██████████| 224/224 [00:13<00:00, 16.76it/s]\n",
      "100%|██████████| 224/224 [00:11<00:00, 19.13it/s]\n"
     ]
    },
    {
     "name": "stdout",
     "output_type": "stream",
     "text": [
      "{'method': 'gillespies', 'g_steps': 2, 'tau_steps': 0, 'use_corrector': True, 'corrector': 'mpf', 'c_stepsize': 0.1, 'c_steps': 1, 'nfe': 212.8, 'h_dist': 0.37639601848267845, 'outlier_rate': 0.10896149152106886}\n"
     ]
    },
    {
     "name": "stderr",
     "output_type": "stream",
     "text": [
      "100%|██████████| 224/224 [00:13<00:00, 16.77it/s]\n",
      "100%|██████████| 224/224 [00:13<00:00, 16.76it/s]\n",
      "100%|██████████| 224/224 [00:13<00:00, 16.77it/s]\n",
      "100%|██████████| 224/224 [00:13<00:00, 16.75it/s]\n",
      "100%|██████████| 224/224 [00:11<00:00, 19.12it/s]\n"
     ]
    },
    {
     "name": "stdout",
     "output_type": "stream",
     "text": [
      "{'method': 'gillespies', 'g_steps': 2, 'tau_steps': 0, 'use_corrector': True, 'corrector': 'mpf', 'c_stepsize': 0.1, 'c_steps': 1, 'nfe': 212.8, 'h_dist': 0.37749591988017084, 'outlier_rate': 0.108114401336074}\n",
      "Experiment results saved to  piano_results.csv\n"
     ]
    },
    {
     "name": "stderr",
     "output_type": "stream",
     "text": [
      "100%|██████████| 224/224 [00:26<00:00,  8.43it/s]\n",
      "100%|██████████| 224/224 [00:26<00:00,  8.43it/s]\n",
      "100%|██████████| 224/224 [00:26<00:00,  8.43it/s]\n",
      "100%|██████████| 224/224 [00:26<00:00,  8.43it/s]\n",
      "100%|██████████| 224/224 [00:23<00:00,  9.62it/s]\n"
     ]
    },
    {
     "name": "stdout",
     "output_type": "stream",
     "text": [
      "{'method': 'gillespies', 'g_steps': 1, 'tau_steps': 0, 'use_corrector': True, 'corrector': 'mpf', 'c_stepsize': 0.1, 'c_steps': 1, 'nfe': 425.6, 'h_dist': 0.3864188160252722, 'outlier_rate': 0.10850783658787255}\n"
     ]
    },
    {
     "name": "stderr",
     "output_type": "stream",
     "text": [
      "100%|██████████| 224/224 [00:26<00:00,  8.42it/s]\n",
      "100%|██████████| 224/224 [00:26<00:00,  8.43it/s]\n",
      "100%|██████████| 224/224 [00:26<00:00,  8.43it/s]\n",
      "100%|██████████| 224/224 [00:26<00:00,  8.43it/s]\n",
      "100%|██████████| 224/224 [00:23<00:00,  9.61it/s]\n"
     ]
    },
    {
     "name": "stdout",
     "output_type": "stream",
     "text": [
      "{'method': 'gillespies', 'g_steps': 1, 'tau_steps': 0, 'use_corrector': True, 'corrector': 'mpf', 'c_stepsize': 0.1, 'c_steps': 1, 'nfe': 425.6, 'h_dist': 0.3862917275614546, 'outlier_rate': 0.10898959403905448}\n"
     ]
    },
    {
     "name": "stderr",
     "output_type": "stream",
     "text": [
      "100%|██████████| 224/224 [00:26<00:00,  8.43it/s]\n",
      "100%|██████████| 224/224 [00:26<00:00,  8.43it/s]\n",
      "100%|██████████| 224/224 [00:26<00:00,  8.44it/s]\n",
      "100%|██████████| 224/224 [00:26<00:00,  8.43it/s]\n",
      "100%|██████████| 224/224 [00:23<00:00,  9.61it/s]\n"
     ]
    },
    {
     "name": "stdout",
     "output_type": "stream",
     "text": [
      "{'method': 'gillespies', 'g_steps': 1, 'tau_steps': 0, 'use_corrector': True, 'corrector': 'mpf', 'c_stepsize': 0.1, 'c_steps': 1, 'nfe': 425.6, 'h_dist': 0.3853583490585927, 'outlier_rate': 0.10747205806783144}\n",
      "Experiment results saved to  piano_results.csv\n"
     ]
    },
    {
     "name": "stderr",
     "output_type": "stream",
     "text": [
      "225it [00:09, 24.93it/s]                         \n",
      "225it [00:09, 24.92it/s]                         \n",
      "225it [00:09, 24.93it/s]                         \n",
      "225it [00:09, 24.94it/s]                         \n",
      "225it [00:07, 28.38it/s]                         \n"
     ]
    },
    {
     "name": "stdout",
     "output_type": "stream",
     "text": [
      "{'method': 'gillespies', 'g_steps': 3, 'tau_steps': 0, 'use_corrector': True, 'corrector': 'barker', 'c_stepsize': 0.1, 'c_steps': 1, 'nfe': 141.86666666666667, 'h_dist': 0.3804734516751072, 'outlier_rate': 0.1304438591983556}\n"
     ]
    },
    {
     "name": "stderr",
     "output_type": "stream",
     "text": [
      "225it [00:09, 24.93it/s]                         \n",
      "225it [00:09, 24.94it/s]                         \n",
      "225it [00:09, 24.94it/s]                         \n",
      "225it [00:09, 24.93it/s]                         \n",
      "225it [00:07, 28.41it/s]                         \n"
     ]
    },
    {
     "name": "stdout",
     "output_type": "stream",
     "text": [
      "{'method': 'gillespies', 'g_steps': 3, 'tau_steps': 0, 'use_corrector': True, 'corrector': 'barker', 'c_stepsize': 0.1, 'c_steps': 1, 'nfe': 141.86666666666667, 'h_dist': 0.3789452958436771, 'outlier_rate': 0.12962487153134636}\n"
     ]
    },
    {
     "name": "stderr",
     "output_type": "stream",
     "text": [
      "225it [00:09, 24.94it/s]                         \n",
      "225it [00:09, 24.90it/s]                         \n",
      "225it [00:09, 24.94it/s]                         \n",
      "225it [00:09, 24.87it/s]                         \n",
      "225it [00:07, 28.41it/s]                         \n"
     ]
    },
    {
     "name": "stdout",
     "output_type": "stream",
     "text": [
      "{'method': 'gillespies', 'g_steps': 3, 'tau_steps': 0, 'use_corrector': True, 'corrector': 'barker', 'c_stepsize': 0.1, 'c_steps': 1, 'nfe': 141.86666666666667, 'h_dist': 0.378887308918806, 'outlier_rate': 0.12862121017471737}\n",
      "Experiment results saved to  piano_results.csv\n"
     ]
    },
    {
     "name": "stderr",
     "output_type": "stream",
     "text": [
      "100%|██████████| 224/224 [00:13<00:00, 16.76it/s]\n",
      "100%|██████████| 224/224 [00:13<00:00, 16.77it/s]\n",
      "100%|██████████| 224/224 [00:13<00:00, 16.76it/s]\n",
      "100%|██████████| 224/224 [00:13<00:00, 16.77it/s]\n",
      "100%|██████████| 224/224 [00:11<00:00, 19.10it/s]\n"
     ]
    },
    {
     "name": "stdout",
     "output_type": "stream",
     "text": [
      "{'method': 'gillespies', 'g_steps': 2, 'tau_steps': 0, 'use_corrector': True, 'corrector': 'barker', 'c_stepsize': 0.1, 'c_steps': 1, 'nfe': 212.8, 'h_dist': 0.37793870061712626, 'outlier_rate': 0.12844456577595068}\n"
     ]
    },
    {
     "name": "stderr",
     "output_type": "stream",
     "text": [
      "100%|██████████| 224/224 [00:13<00:00, 16.76it/s]\n",
      "100%|██████████| 224/224 [00:13<00:00, 16.76it/s]\n",
      "100%|██████████| 224/224 [00:13<00:00, 16.75it/s]\n",
      "100%|██████████| 224/224 [00:13<00:00, 16.76it/s]\n",
      "100%|██████████| 224/224 [00:11<00:00, 19.10it/s]\n"
     ]
    },
    {
     "name": "stdout",
     "output_type": "stream",
     "text": [
      "{'method': 'gillespies', 'g_steps': 2, 'tau_steps': 0, 'use_corrector': True, 'corrector': 'barker', 'c_stepsize': 0.1, 'c_steps': 1, 'nfe': 212.8, 'h_dist': 0.37790129559172203, 'outlier_rate': 0.12669819501541624}\n"
     ]
    },
    {
     "name": "stderr",
     "output_type": "stream",
     "text": [
      "100%|██████████| 224/224 [00:13<00:00, 16.77it/s]\n",
      "100%|██████████| 224/224 [00:13<00:00, 16.76it/s]\n",
      "100%|██████████| 224/224 [00:13<00:00, 16.76it/s]\n",
      "100%|██████████| 224/224 [00:13<00:00, 16.74it/s]\n",
      "100%|██████████| 224/224 [00:11<00:00, 19.11it/s]\n"
     ]
    },
    {
     "name": "stdout",
     "output_type": "stream",
     "text": [
      "{'method': 'gillespies', 'g_steps': 2, 'tau_steps': 0, 'use_corrector': True, 'corrector': 'barker', 'c_stepsize': 0.1, 'c_steps': 1, 'nfe': 212.8, 'h_dist': 0.3791796645077259, 'outlier_rate': 0.12864128340184994}\n",
      "Experiment results saved to  piano_results.csv\n"
     ]
    },
    {
     "name": "stderr",
     "output_type": "stream",
     "text": [
      "100%|██████████| 224/224 [00:26<00:00,  8.43it/s]\n",
      "100%|██████████| 224/224 [00:26<00:00,  8.43it/s]\n",
      "100%|██████████| 224/224 [00:26<00:00,  8.43it/s]\n",
      "100%|██████████| 224/224 [00:26<00:00,  8.43it/s]\n",
      "100%|██████████| 224/224 [00:23<00:00,  9.62it/s]\n"
     ]
    },
    {
     "name": "stdout",
     "output_type": "stream",
     "text": [
      "{'method': 'gillespies', 'g_steps': 1, 'tau_steps': 0, 'use_corrector': True, 'corrector': 'barker', 'c_stepsize': 0.1, 'c_steps': 1, 'nfe': 425.6, 'h_dist': 0.3778839336102783, 'outlier_rate': 0.12601971993833505}\n"
     ]
    },
    {
     "name": "stderr",
     "output_type": "stream",
     "text": [
      "100%|██████████| 224/224 [00:26<00:00,  8.42it/s]\n",
      "100%|██████████| 224/224 [00:26<00:00,  8.43it/s]\n",
      "100%|██████████| 224/224 [00:26<00:00,  8.43it/s]\n",
      "100%|██████████| 224/224 [00:26<00:00,  8.43it/s]\n",
      "100%|██████████| 224/224 [00:23<00:00,  9.62it/s]\n"
     ]
    },
    {
     "name": "stdout",
     "output_type": "stream",
     "text": [
      "{'method': 'gillespies', 'g_steps': 1, 'tau_steps': 0, 'use_corrector': True, 'corrector': 'barker', 'c_stepsize': 0.1, 'c_steps': 1, 'nfe': 425.6, 'h_dist': 0.3763683339189232, 'outlier_rate': 0.12506021968139774}\n"
     ]
    },
    {
     "name": "stderr",
     "output_type": "stream",
     "text": [
      "100%|██████████| 224/224 [00:26<00:00,  8.43it/s]\n",
      "100%|██████████| 224/224 [00:26<00:00,  8.43it/s]\n",
      "100%|██████████| 224/224 [00:26<00:00,  8.43it/s]\n",
      "100%|██████████| 224/224 [00:26<00:00,  8.43it/s]\n",
      "100%|██████████| 224/224 [00:23<00:00,  9.60it/s]"
     ]
    },
    {
     "name": "stdout",
     "output_type": "stream",
     "text": [
      "{'method': 'gillespies', 'g_steps': 1, 'tau_steps': 0, 'use_corrector': True, 'corrector': 'barker', 'c_stepsize': 0.1, 'c_steps': 1, 'nfe': 425.6, 'h_dist': 0.3778929674672552, 'outlier_rate': 0.12546971351490235}\n",
      "Experiment results saved to  piano_results.csv\n"
     ]
    },
    {
     "name": "stderr",
     "output_type": "stream",
     "text": [
      "\n"
     ]
    }
   ],
   "source": [
    "# Try different rates\n",
    "correctors = [\"mpf\", \"barker\"]\n",
    "corrector_stepsizes = [0.1, 0.1]\n",
    "\n",
    "for method in methods:\n",
    "    for i in range(len(correctors)):\n",
    "        \n",
    "        corrector = correctors[i]\n",
    "        c_stepsize = corrector_stepsizes[i]\n",
    "        \n",
    "        for j in range(len(updates_per_evals)):\n",
    "        \n",
    "            g_steps = updates_per_evals[j]\n",
    "            tau_steps = num_sample_steps[j]\n",
    "            \n",
    "            run_experiments(num_repeats=num_repeats, \n",
    "                            sample_size=sample_size, batch_size=batch_size,\n",
    "                            results_file=results_file,\n",
    "                            method=method, \n",
    "                            g_steps=g_steps, \n",
    "                            tau_steps=tau_steps, \n",
    "                            c_steps=c_steps, \n",
    "                            c_stepsize=c_stepsize, \n",
    "                            corrector=corrector)"
   ]
  },
  {
   "cell_type": "code",
   "execution_count": null,
   "id": "f1c06270",
   "metadata": {},
   "outputs": [],
   "source": []
  }
 ],
 "metadata": {
  "kernelspec": {
   "display_name": "Python 3",
   "language": "python",
   "name": "python3"
  },
  "language_info": {
   "codemirror_mode": {
    "name": "ipython",
    "version": 3
   },
   "file_extension": ".py",
   "mimetype": "text/x-python",
   "name": "python",
   "nbconvert_exporter": "python",
   "pygments_lexer": "ipython3",
   "version": "3.9.0"
  }
 },
 "nbformat": 4,
 "nbformat_minor": 5
}
