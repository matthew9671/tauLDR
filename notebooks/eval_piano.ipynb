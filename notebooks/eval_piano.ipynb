{
 "cells": [
  {
   "cell_type": "code",
   "execution_count": 1,
   "metadata": {},
   "outputs": [],
   "source": [
    "import sys\n",
    "sys.path.insert(0, '../')\n",
    "\n",
    "# sys.path.remove(\"/home/users/yixiuz/.local/lib/python3.9/site-packages\")\n",
    "sys.path.append(\"/home/groups/swl1/yixiuz/torch_fid/lib/python3.9/site-packages\")\n",
    "sys.path.append(\"/home/groups/swl1/yixiuz/torch_fid/bin\")"
   ]
  },
  {
   "cell_type": "code",
   "execution_count": 12,
   "metadata": {},
   "outputs": [
    {
     "data": {
      "text/plain": [
       "<module 'lib.sampling.sampling' from '../lib/sampling/sampling.py'>"
      ]
     },
     "execution_count": 12,
     "metadata": {},
     "output_type": "execute_result"
    }
   ],
   "source": [
    "from importlib import reload\n",
    "\n",
    "# reload(piano)\n",
    "# reload(sampling_utils)\n",
    "# reload(sampling)"
   ]
  },
  {
   "cell_type": "code",
   "execution_count": 13,
   "metadata": {
    "scrolled": false
   },
   "outputs": [],
   "source": [
    "import matplotlib\n",
    "import torch\n",
    "import torch.nn as nn\n",
    "import torch.nn.functional as F\n",
    "import ml_collections\n",
    "\n",
    "import lib.utils.bookkeeping as bookkeeping\n",
    "from pathlib import Path\n",
    "import numpy as np\n",
    "import matplotlib.pyplot as plt\n",
    "\n",
    "import lib.utils.utils as utils\n",
    "import lib.models.models as models\n",
    "import lib.models.model_utils as model_utils\n",
    "import lib.datasets.datasets as datasets\n",
    "import lib.datasets.dataset_utils as dataset_utils\n",
    "import lib.sampling.sampling as sampling\n",
    "import lib.sampling.sampling_utils as sampling_utils\n",
    "\n",
    "import config.eval.piano_hollow as piano\n",
    "\n",
    "%matplotlib inline\n",
    "\n",
    "eval_cfg = piano.get_config()\n",
    "train_cfg = bookkeeping.load_ml_collections(Path(eval_cfg.train_config_path))\n",
    "\n",
    "for item in eval_cfg.train_config_overrides:\n",
    "    utils.set_in_nested_dict(train_cfg, item[0], item[1])\n",
    "\n",
    "S = train_cfg.data.S\n",
    "# device = torch.device(eval_cfg.device)\n",
    "device = torch.device(\"cuda\")\n",
    "\n",
    "model = model_utils.create_model(train_cfg, device)\n",
    "\n",
    "loaded_state = torch.load(Path(eval_cfg.checkpoint_path),\n",
    "    map_location=device)\n",
    "\n",
    "modified_model_state = utils.remove_module_from_keys(loaded_state['model'])\n",
    "model.load_state_dict(modified_model_state)\n",
    "\n",
    "model.eval()\n",
    "\n",
    "dataset = dataset_utils.get_dataset(eval_cfg, device)\n",
    "data = dataset.data\n",
    "test_dataset = np.load(eval_cfg.sampler.test_dataset)\n",
    "condition_dim = eval_cfg.sampler.condition_dim\n",
    "descramble_key = np.loadtxt(eval_cfg.pianoroll_dataset_path + '/descramble_key.txt')\n",
    "# The mask stays the same\n",
    "descramble_key = np.concatenate([descramble_key, np.array([descramble_key.shape[0]])], axis=0)\n",
    "\n",
    "def descramble(samples):\n",
    "    return descramble_key[samples.flatten()].reshape(*samples.shape)\n",
    "\n",
    "descrambled_test_dataset = descramble(test_dataset)"
   ]
  },
  {
   "cell_type": "code",
   "execution_count": 14,
   "metadata": {},
   "outputs": [
    {
     "data": {
      "text/plain": [
       "checkpoint_path: /home/groups/swl1/yixiuz/torch_fid/experiments/piano/2024-05-14/00-36-56_piano_absorbing_hollow/checkpoints/ckpt_0000999999.pt\n",
       "data:\n",
       "  S: 130\n",
       "  batch_size: 64\n",
       "  name: LakhPianoroll\n",
       "  path: /home/groups/swl1/yixiuz/torch_fid/downloads/pianoroll_dataset/train.npy\n",
       "  shape:\n",
       "  - 256\n",
       "  shuffle: true\n",
       "device: cpu\n",
       "eval_name: piano\n",
       "pianoroll_dataset_path: /home/groups/swl1/yixiuz/torch_fid/downloads/pianoroll_dataset\n",
       "sampler:\n",
       "  balancing_function: mpf\n",
       "  condition_dim: 32\n",
       "  corrector_entry_time: 0.9\n",
       "  corrector_step_size_multiplier: 0.1\n",
       "  eps_ratio: 1.0e-09\n",
       "  initial_dist: absorbing\n",
       "  min_t: 0.01\n",
       "  name: ConditionalPCTauLeapingAbsorbingInformed\n",
       "  num_corrector_steps: 2\n",
       "  num_steps: 1000\n",
       "  reject_multiple_jumps: true\n",
       "  test_dataset: /home/groups/swl1/yixiuz/torch_fid/downloads/pianoroll_dataset/test.npy\n",
       "train_config_overrides:\n",
       "- - - device\n",
       "  - cpu\n",
       "- - - data\n",
       "    - path\n",
       "  - /home/groups/swl1/yixiuz/torch_fid/downloads/pianoroll_dataset/train.npy\n",
       "- - - distributed\n",
       "  - false\n",
       "train_config_path: /home/groups/swl1/yixiuz/torch_fid/experiments/piano/2024-05-14/00-36-56_piano_absorbing_hollow/config/config_001.yaml"
      ]
     },
     "execution_count": 14,
     "metadata": {},
     "output_type": "execute_result"
    }
   ],
   "source": [
    "eval_cfg"
   ]
  },
  {
   "cell_type": "code",
   "execution_count": 15,
   "metadata": {},
   "outputs": [],
   "source": [
    "from lib.sampling.sampling import compute_backward, get_initial_samples"
   ]
  },
  {
   "cell_type": "markdown",
   "metadata": {},
   "source": [
    "# Try to sample"
   ]
  },
  {
   "cell_type": "code",
   "execution_count": 16,
   "metadata": {},
   "outputs": [
    {
     "data": {
      "text/plain": [
       "130"
      ]
     },
     "execution_count": 16,
     "metadata": {},
     "output_type": "execute_result"
    }
   ],
   "source": [
    "S"
   ]
  },
  {
   "cell_type": "code",
   "execution_count": 17,
   "metadata": {},
   "outputs": [],
   "source": [
    "from eval import outliers, get_dist, hellinger, eval_mse_stats, save_results\n",
    "from tqdm import tqdm"
   ]
  },
  {
   "cell_type": "code",
   "execution_count": 28,
   "metadata": {},
   "outputs": [],
   "source": [
    "import pandas as pd\n",
    "import os\n",
    "import matplotlib.pyplot as plt\n",
    "from matplotlib.ticker import ScalarFormatter\n",
    "def create_tag(row):\n",
    "    return f\"{row['method']}-{row['c_steps']}-{row['corrector']}-{row['c_stepsize']}\"\n",
    "\n",
    "def update_tags(file_name):\n",
    "    # Read the existing data\n",
    "    if os.path.exists(file_name):\n",
    "        df = pd.read_csv(file_name)\n",
    "    else:\n",
    "        raise FileNotFoundError(f\"{file_name} does not exist.\")\n",
    "\n",
    "    \n",
    "\n",
    "    # Apply the tag function to each row\n",
    "    df['tag'] = df.apply(create_tag, axis=1)\n",
    "\n",
    "    # Save the updated data back to the CSV file\n",
    "    df.to_csv(file_name, index=False)\n",
    "\n",
    "    print(\"Tags added and results saved to\", file_name)\n",
    "    \n",
    "def make_plot_piano(file_name, metric, tag_filters=None):\n",
    "    results_df = pd.read_csv(file_name)\n",
    "\n",
    "    if tag_filters is not None:\n",
    "        results_df = results_df[results_df['tag'].isin(tags)]\n",
    "    \n",
    "    # Group data by method and cost\n",
    "    grouped = results_df.groupby(['tag', 'nfe'])\n",
    "\n",
    "    # Calculate mean and standard deviation for metric1\n",
    "    mean_metric1 = grouped[metric].mean().unstack()\n",
    "    std_metric1 = grouped[metric].std().unstack()\n",
    "\n",
    "    \n",
    "    # Plot the mean metric1 with cost on x-axis\n",
    "#     plt.figure()\n",
    "    fig, ax = plt.subplots(figsize=(10, 6))\n",
    "    for tag in mean_metric1.index:\n",
    "        print(tag)\n",
    "        mean_values = mean_metric1.loc[tag].dropna()\n",
    "        std_values = std_metric1.loc[tag].dropna()\n",
    "         \n",
    "        h = ax.plot(mean_values.index, mean_values, label=f'{tag}')[0]\n",
    "        ax.scatter(mean_values.index, mean_values, s=10, color=h.get_color())\n",
    "        ax.fill_between(mean_values.index, \n",
    "                         mean_values - std_values, \n",
    "                         mean_values + std_values, \n",
    "                         alpha=0.2)\n",
    "\n",
    "    plt.xscale('log')\n",
    "#     plt.yscale('log')\n",
    "    plt.xlabel('NFE')\n",
    "    if metric == 'h_dist':\n",
    "        plt.ylabel('Hellinger Distance')\n",
    "    elif metric == 'outlier_rate':\n",
    "        plt.ylabel('Proportion of Outliers')\n",
    "#     plt.title('Mean Metric 1 vs Cost for Different Methods')\n",
    "    plt.legend()\n",
    "    plt.grid(True)\n",
    "    plt.xticks([64, 128, 256, 512, 1024])\n",
    "    for axis in [ax.xaxis, ax.yaxis]:\n",
    "        axis.set_major_formatter(ScalarFormatter())\n",
    "    fig.set_facecolor(\"white\")\n",
    "    ax.set_facecolor(\"white\")\n",
    "    plt.show()"
   ]
  },
  {
   "cell_type": "code",
   "execution_count": 37,
   "metadata": {},
   "outputs": [
    {
     "name": "stdout",
     "output_type": "stream",
     "text": [
      "0\n"
     ]
    },
    {
     "name": "stderr",
     "output_type": "stream",
     "text": [
      "225it [00:04, 45.68it/s]                         "
     ]
    },
    {
     "name": "stdout",
     "output_type": "stream",
     "text": [
      "{'method': 'gillespies', 'g_steps': 3, 'tau_steps': 0, 'use_corrector': True, 'corrector': 'mpf', 'c_stepsize': 0.1, 'c_steps': 1, 'nfe': 162.13333333333333, 'h_dist': 0.37710429120727285, 'outlier_rate': 0.1043359375}\n",
      "Experiment results saved to  piano_results_test.csv\n"
     ]
    },
    {
     "name": "stderr",
     "output_type": "stream",
     "text": [
      "\n"
     ]
    }
   ],
   "source": [
    "tqdm._instances.clear()\n",
    "\n",
    "results_file = 'piano_results_test.csv'\n",
    "\n",
    "num_repeats = 1\n",
    "\n",
    "method = \"gillespies\"\n",
    "# method = \"tauleaping\"\n",
    "\n",
    "# Gillespies only\n",
    "eval_cfg.sampler.updates_per_eval = 3\n",
    "# Tau-leaping only\n",
    "eval_cfg.sampler.num_steps = 200\n",
    "\n",
    "# Generic corrector fields\n",
    "eval_cfg.sampler.num_corrector_steps = 1\n",
    "eval_cfg.sampler.corrector_entry_time = 0.9\n",
    "eval_cfg.sampler.corrector_step_size_multiplier = .1\n",
    "eval_cfg.sampler.balancing_function = \"mpf\"\n",
    "\n",
    "if method == \"gillespies\":\n",
    "    eval_cfg.sampler.name = \"ConditionalPCMultiGillespies\"\n",
    "elif method == \"tauleaping\":\n",
    "    eval_cfg.sampler.name = \"ConditionalPCTauLeapingAbsorbingInformed\"\n",
    "else:\n",
    "    assert(False)\n",
    "\n",
    "sampler = sampling_utils.get_sampler(eval_cfg)\n",
    "    \n",
    "results = []\n",
    "\n",
    "test_size = 100#test_dataset.shape[0]\n",
    "batch_size = 100\n",
    "\n",
    "conditioner = torch.from_numpy(test_dataset[0:batch_size, :condition_dim]).to(device)\n",
    "\n",
    "for _ in range(num_repeats):\n",
    "    \n",
    "    h_dists = []\n",
    "    outlier_rates = []\n",
    "    for start in range(0, test_size, batch_size):\n",
    "        print(start)\n",
    "        end = min(start + batch_size, test_size)\n",
    "        size = end - start\n",
    "        \n",
    "        conditioner = torch.from_numpy(test_dataset[start:end, :condition_dim]).to(device)\n",
    "        samples, out = sampler.sample(model, size, 0, conditioner)\n",
    "        samples = descramble(samples)\n",
    "        \n",
    "        for i in range(size):\n",
    "            h = hellinger(descrambled_test_dataset[start+i, :], samples[i, :], S-1)\n",
    "            r = outliers(descrambled_test_dataset[start+i, :], samples[i, :], S-1)\n",
    "            h_dists.append(h)\n",
    "            outlier_rates.append(r)\n",
    "\n",
    "    D = eval_cfg.data.shape[0]\n",
    "    if method == \"gillespies\":\n",
    "        nfe = D / eval_cfg.sampler.updates_per_eval\n",
    "    elif method == \"tauleaping\":\n",
    "        nfe = eval_cfg.sampler.num_steps\n",
    "    nfe += nfe * eval_cfg.sampler.corrector_entry_time * eval_cfg.sampler.num_corrector_steps\n",
    "\n",
    "    new_result = {\n",
    "                'method': method,\n",
    "                'g_steps': 0 if method != \"gillespies\" else eval_cfg.sampler.updates_per_eval,\n",
    "                'tau_steps': 0 if method != \"tauleaping\" else eval_cfg.sampler.num_steps,\n",
    "                'use_corrector': eval_cfg.sampler.corrector_entry_time > 0 \n",
    "                             and eval_cfg.sampler.num_corrector_steps > 0,\n",
    "                'corrector': eval_cfg.sampler.balancing_function,\n",
    "                'c_stepsize': eval_cfg.sampler.corrector_step_size_multiplier,\n",
    "                'c_steps': eval_cfg.sampler.num_corrector_steps,\n",
    "                'nfe': nfe,\n",
    "                'h_dist': np.mean(h_dists),\n",
    "                'outlier_rate': np.mean(outlier_rates),\n",
    "            }\n",
    "    print(new_result)\n",
    "    results.append(new_result)\n",
    "    \n",
    "save_results(results, results_file)"
   ]
  },
  {
   "cell_type": "code",
   "execution_count": 38,
   "metadata": {},
   "outputs": [],
   "source": [
    "tags = None"
   ]
  },
  {
   "cell_type": "code",
   "execution_count": 39,
   "metadata": {},
   "outputs": [
    {
     "name": "stdout",
     "output_type": "stream",
     "text": [
      "Tags added and results saved to piano_results_test.csv\n",
      "gillespies-1-mpf-0.1\n",
      "gillespies-1-mpf-2.0\n"
     ]
    },
    {
     "data": {
      "image/png": "[encoded data removed]",
      "text/plain": [
       "<Figure size 720x432 with 1 Axes>"
      ]
     },
     "metadata": {},
     "output_type": "display_data"
    },
    {
     "name": "stdout",
     "output_type": "stream",
     "text": [
      "gillespies-1-mpf-0.1\n",
      "gillespies-1-mpf-2.0\n"
     ]
    },
    {
     "data": {
      "image/png": "[encoded data removed]",
      "text/plain": [
       "<Figure size 720x432 with 1 Axes>"
      ]
     },
     "metadata": {},
     "output_type": "display_data"
    }
   ],
   "source": [
    "update_tags(results_file)\n",
    "make_plot_piano(results_file, 'outlier_rate', tag_filters=tags)\n",
    "make_plot_piano(results_file, 'h_dist', tag_filters=tags)"
   ]
  },
  {
   "cell_type": "code",
   "execution_count": 8,
   "metadata": {},
   "outputs": [],
   "source": [
    "# from tqdm import trange, tqdm\n",
    "\n",
    "# class ConditionalPCMultiGillespies():\n",
    "#     def __init__(self, cfg):\n",
    "#         self.cfg =cfg\n",
    "\n",
    "#     def sample(self, model, N, num_intermediates, conditioner):\n",
    "#         assert conditioner.shape[0] == N\n",
    "        \n",
    "#         condition_dim = self.cfg.sampler.condition_dim\n",
    "#         total_D = np.prod(self.cfg.data.shape)\n",
    "#         D = total_D - condition_dim\n",
    "        \n",
    "#         S = self.cfg.data.S\n",
    "#         scfg = self.cfg.sampler\n",
    "#         num_steps = scfg.num_steps\n",
    "#         min_t = scfg.min_t\n",
    "#         eps_ratio = scfg.eps_ratio\n",
    "#         initial_dist = scfg.initial_dist\n",
    "#         # Specific to Gillespies\n",
    "#         updates_per_eval = scfg.updates_per_eval\n",
    "        \n",
    "#         if initial_dist == 'gaussian':\n",
    "#             initial_dist_std  = model.Q_sigma\n",
    "#         else:\n",
    "#             initial_dist_std = None\n",
    "#         device = model.device\n",
    "        \n",
    "#         # Corrector stuff\n",
    "#         num_corrector_steps = scfg.num_corrector_steps\n",
    "#         corrector_step_size_multiplier = scfg.corrector_step_size_multiplier\n",
    "#         corrector_entry_time = scfg.corrector_entry_time\n",
    "#         if scfg.balancing_function == \"barker\":\n",
    "#             balancing_function = lambda score: score / (1 + score) \n",
    "#         elif scfg.balancing_function == \"mpf\":\n",
    "#             balancing_function = lambda score: torch.sqrt(score)\n",
    "#         elif scfg.balancing_function == \"birthdeath\":\n",
    "#             balancing_function = None\n",
    "#         else:\n",
    "#             print(\"Balancing function not found: \" + scfg.balancing_function)\n",
    "#             return\n",
    "\n",
    "#         # Now the batch is not syncronized anymore\n",
    "#         ts = 1.0 * torch.ones((N,), device=device)\n",
    "#         update_mask = ts > min_t\n",
    "#         num_updates = 0\n",
    "        \n",
    "#         with torch.no_grad():\n",
    "#             x = get_initial_samples(N, D, device, S, initial_dist,\n",
    "#                 initial_dist_std)\n",
    "\n",
    "#             x_hist = []\n",
    "#             x0_hist = []\n",
    "\n",
    "#             pbar = tqdm(total=D)\n",
    "#             while num_updates < D:\n",
    "\n",
    "#                 # Compute backward transition rate\n",
    "#                 qt0 = model.transition(ts) # (N, S, S)\n",
    "#                 rate = model.rate(ts) # (N, S, S)\n",
    "\n",
    "#                 model_input = torch.concat((conditioner, x), dim=1)\n",
    "#                 p0t = F.softmax(model(model_input, ts), dim=2) # (N, D, S)\n",
    "#                 p0t = p0t[:, condition_dim:, :]\n",
    "\n",
    "#                 Rf, RfT, Rb, x_0max, scores = compute_backward(qt0, rate, p0t, x)\n",
    "#                 # Rb: (N, D, S)\n",
    "#                 Rb[torch.arange(N, device=device).repeat_interleave(D),\n",
    "#                    torch.arange(D, device=device).repeat(N),\n",
    "#                    x.long().flatten()] = eps_ratio\n",
    "            \n",
    "#                 # Compute total rate (N, D)\n",
    "#                 Rb_sum = torch.sum(Rb, axis=2)\n",
    "#                 # Sample a holding time (N, D)\n",
    "#                 taus = torch.distributions.Exponential(Rb_sum).sample()\n",
    "#                 # Find the position of the shortest holding time for each dimension (N,)\n",
    "#                 ids_sorted = torch.argsort(taus, axis=1)\n",
    "#                 dts = torch.zeros((N,), device=device)\n",
    "                \n",
    "#                 for update in range(updates_per_eval):\n",
    "#                     # Make one round of updates\n",
    "#                     ids = ids_sorted[:, update]\n",
    "#                     # (N,)\n",
    "#                     dts = taus[torch.arange(N, device=device), ids] - dts\n",
    "\n",
    "#                     # Rates given the dimensions of transition (N, S)\n",
    "#                     rates_single = Rb[torch.arange(N, device=device),ids]\n",
    "#                     # Total rate given the dimensions of transition (N, 1)\n",
    "#                     rates_sum_single = torch.unsqueeze(Rb_sum[torch.arange(N, device=device),ids], 1)\n",
    "#                     # The targets of transition (N,)\n",
    "#                     updates = torch.multinomial(rates_single / rates_sum_single, 1)[:,0]\n",
    "#                     # Update ts\n",
    "#                     update_mask = update_mask & ((ts - dts * update_mask) > min_t)\n",
    "#                     ts -= dts * update_mask\n",
    "#                     # Update x\n",
    "#                     original = x[torch.arange(N, device=device), ids]\n",
    "#                     x[torch.arange(N, device=device), ids] = updates * update_mask + original * (~update_mask)\n",
    "#                     num_updates += 1\n",
    "#                     pbar.update(1)\n",
    "                    \n",
    "#                 # Corrector time\n",
    "#                 def get_rates(in_x, in_t):\n",
    "#                     qt0 = model.transition(in_t) # (N, S, S)\n",
    "#                     rate = model.rate(in_t) # (N, S, S)\n",
    "\n",
    "#                     p0t = F.softmax(model(in_x, in_t), dim=2) # (N, D, S)\n",
    "\n",
    "#                     denom_x = torch.ones_like(in_x) * (S-1)\n",
    "\n",
    "#                     forward_rates, transpose_forward_rates, reverse_rates, x_0max, scores = compute_backward(qt0, rate, p0t, in_x, denom_x=denom_x, eps=eps_ratio)\n",
    "                    \n",
    "#                     mask_positions = in_x == (S-1)\n",
    "#                     nonmask_positions = ~mask_positions\n",
    "\n",
    "#                     backward_score_to_curr = scores[\n",
    "#                         torch.arange(N, device=device).repeat_interleave(D),\n",
    "#                         torch.arange(D, device=device).repeat(N),\n",
    "#                         in_x.long().flatten()\n",
    "#                     ].view(N,D)\n",
    "#                     forward_score_from_curr = 1 / (backward_score_to_curr * nonmask_positions + mask_positions)\n",
    "#                     forward_score_from_curr *= nonmask_positions\n",
    "\n",
    "#                     scores = scores * mask_positions.unsqueeze(2)\n",
    "#                     scores[:,:,S-1] = forward_score_from_curr\n",
    "                    \n",
    "#                     forward_rates[\n",
    "#                         torch.arange(N, device=device).repeat_interleave(D),\n",
    "#                         torch.arange(D, device=device).repeat(N),\n",
    "#                         in_x.long().flatten()\n",
    "#                     ] = 0.0 \n",
    "#                     reverse_rates[\n",
    "#                         torch.arange(N, device=device).repeat_interleave(D),\n",
    "#                         torch.arange(D, device=device).repeat(N),\n",
    "#                         in_x.long().flatten()\n",
    "#                     ] = 0.0 \n",
    "                    \n",
    "#                     return forward_rates, transpose_forward_rates, reverse_rates, x_0max, scores\n",
    "                    \n",
    "#                 def take_poisson_step(in_x, in_reverse_rates, in_h):\n",
    "#                     diffs = torch.arange(S, device=device).view(1,1,S) - in_x.view(N,D,1)\n",
    "#                     poisson_dist = torch.distributions.poisson.Poisson(in_reverse_rates * in_h)\n",
    "#                     jump_nums = poisson_dist.sample()\n",
    "#                     adj_diffs = jump_nums * diffs\n",
    "#                     overall_jump = torch.sum(adj_diffs, dim=2)\n",
    "#                     unclip_x_new = in_x + overall_jump\n",
    "#                     x_new = torch.clamp(unclip_x_new, min=0, max=S-1)\n",
    "\n",
    "#                     return x_new\n",
    "\n",
    "#                 if num_updates >= (1-corrector_entry_time) * D:\n",
    "                    \n",
    "#                     h = 1/D\n",
    "                    \n",
    "#                     for cstep in range(num_corrector_steps):\n",
    "#                         forward_rates, transpose_forward_rates, reverse_rates, _, scores = get_rates(x, ts) # ts-h?\n",
    "#                         if balancing_function is None:\n",
    "#                             # We're using the default corrector\n",
    "#                             # which corresponds to birth-death Stein operator\n",
    "#                             corrector_rate = transpose_forward_rates + reverse_rates\n",
    "#                         else:\n",
    "#                             # We removed the one half here because it makes more sense for the absorbing\n",
    "#                             corrector_rate = (transpose_forward_rates + forward_rates) * balancing_function(scores)\n",
    "#                         # Only update dimensions with \n",
    "#                         corrector_rate *= update_mask.unsqueeze(1).unsqueeze(1)\n",
    "                            \n",
    "#                         corrector_rate[\n",
    "#                             torch.arange(N, device=device).repeat_interleave(D),\n",
    "#                             torch.arange(D, device=device).repeat(N),\n",
    "#                             x.long().flatten()\n",
    "#                         ] = eps_ratio\n",
    "                        \n",
    "#                         x = take_poisson_step(x, corrector_rate, \n",
    "#                             corrector_step_size_multiplier * h)\n",
    "                \n",
    "                \n",
    "#             model_input = torch.concat((conditioner, x), dim=1)\n",
    "#             p_0gt = F.softmax(model(model_input, min_t * torch.ones((N,), device=device)), dim=2) # (N, D, S)\n",
    "#             p_0gt = p_0gt[:, condition_dim:, :]\n",
    "            \n",
    "#             x_0max = torch.max(p_0gt, dim=2)[1]\n",
    "\n",
    "#             mask_positions = x == (S-1)\n",
    "#             nonmask_positions = ~mask_positions\n",
    "#             samples = nonmask_positions * x + mask_positions * x_0max\n",
    "            \n",
    "#             output = torch.concat((conditioner, samples), dim=1)\n",
    "            \n",
    "#             out = {\n",
    "#                 \"ts\": ts.cpu().numpy()\n",
    "#             }\n",
    "            \n",
    "#             return output.detach().cpu().numpy().astype(int), out"
   ]
  },
  {
   "cell_type": "code",
   "execution_count": 49,
   "metadata": {},
   "outputs": [],
   "source": [
    "# def get_dist(seq):\n",
    "#     S = 129\n",
    "#     L = seq.shape[0]\n",
    "#     one_hot = np.zeros((L, S))\n",
    "#     seq = np.array(seq, dtype=int)\n",
    "#     one_hot[np.arange(L), seq] = 1\n",
    "#     return np.sum(one_hot, axis=0) / L\n",
    "\n",
    "# def get_mask(seq):\n",
    "#     S = 129\n",
    "#     L = seq.shape[0]\n",
    "#     one_hot = np.zeros((L, S))\n",
    "#     seq = np.array(seq, dtype=int)\n",
    "#     one_hot[np.arange(L), seq] = 1\n",
    "#     return 1 - np.prod(1 - one_hot, axis=0)\n",
    "\n",
    "# def hellinger(seq1, seq2):\n",
    "#     d1, d2 = get_dist(seq1), get_dist(seq2)\n",
    "#     return np.sqrt(.5 * np.sum((d1 ** .5 - d2 ** .5) ** 2))\n",
    "\n",
    "# def outliers(ref, sample):\n",
    "#     ref_mask = get_mask(ref)\n",
    "#     sample_dist = get_dist(sample)\n",
    "#     return np.sum((1 - ref_mask) * sample_dist)"
   ]
  },
  {
   "cell_type": "code",
   "execution_count": 50,
   "metadata": {
    "collapsed": true
   },
   "outputs": [
    {
     "name": "stderr",
     "output_type": "stream",
     "text": [
      " 89%|████████▉ | 199/224 [00:02<00:00, 96.70it/s]"
     ]
    },
    {
     "ename": "KeyboardInterrupt",
     "evalue": "",
     "output_type": "error",
     "traceback": [
      "\u001b[0;31m---------------------------------------------------------------------------\u001b[0m",
      "\u001b[0;31mKeyboardInterrupt\u001b[0m                         Traceback (most recent call last)",
      "\u001b[0;32m/tmp/ipykernel_26075/235320168.py\u001b[0m in \u001b[0;36m<module>\u001b[0;34m\u001b[0m\n\u001b[1;32m     13\u001b[0m \u001b[0mtqdm\u001b[0m\u001b[0;34m.\u001b[0m\u001b[0m_instances\u001b[0m\u001b[0;34m.\u001b[0m\u001b[0mclear\u001b[0m\u001b[0;34m(\u001b[0m\u001b[0;34m)\u001b[0m\u001b[0;34m\u001b[0m\u001b[0;34m\u001b[0m\u001b[0m\n\u001b[1;32m     14\u001b[0m \u001b[0msampler\u001b[0m \u001b[0;34m=\u001b[0m \u001b[0mConditionalGillespies\u001b[0m\u001b[0;34m(\u001b[0m\u001b[0meval_cfg\u001b[0m\u001b[0;34m)\u001b[0m\u001b[0;34m\u001b[0m\u001b[0;34m\u001b[0m\u001b[0m\n\u001b[0;32m---> 15\u001b[0;31m \u001b[0msamples\u001b[0m\u001b[0;34m,\u001b[0m \u001b[0mts\u001b[0m \u001b[0;34m=\u001b[0m \u001b[0msampler\u001b[0m\u001b[0;34m.\u001b[0m\u001b[0msample\u001b[0m\u001b[0;34m(\u001b[0m\u001b[0mmodel\u001b[0m\u001b[0;34m,\u001b[0m \u001b[0mnum_samples\u001b[0m\u001b[0;34m,\u001b[0m \u001b[0;36m100\u001b[0m\u001b[0;34m,\u001b[0m \u001b[0mconditioner\u001b[0m\u001b[0;34m,\u001b[0m \u001b[0;34m)\u001b[0m\u001b[0;34m\u001b[0m\u001b[0;34m\u001b[0m\u001b[0m\n\u001b[0m\u001b[1;32m     16\u001b[0m \u001b[0msamples\u001b[0m \u001b[0;34m=\u001b[0m \u001b[0mdescramble\u001b[0m\u001b[0;34m(\u001b[0m\u001b[0msamples\u001b[0m\u001b[0;34m)\u001b[0m\u001b[0;34m\u001b[0m\u001b[0;34m\u001b[0m\u001b[0m\n",
      "\u001b[0;32m/tmp/ipykernel_26075/364166374.py\u001b[0m in \u001b[0;36msample\u001b[0;34m(self, model, N, num_intermediates, conditioner, updates_per_eval)\u001b[0m\n\u001b[1;32m     57\u001b[0m \u001b[0;34m\u001b[0m\u001b[0m\n\u001b[1;32m     58\u001b[0m                 \u001b[0mmodel_input\u001b[0m \u001b[0;34m=\u001b[0m \u001b[0mtorch\u001b[0m\u001b[0;34m.\u001b[0m\u001b[0mconcat\u001b[0m\u001b[0;34m(\u001b[0m\u001b[0;34m(\u001b[0m\u001b[0mconditioner\u001b[0m\u001b[0;34m,\u001b[0m \u001b[0mx\u001b[0m\u001b[0;34m)\u001b[0m\u001b[0;34m,\u001b[0m \u001b[0mdim\u001b[0m\u001b[0;34m=\u001b[0m\u001b[0;36m1\u001b[0m\u001b[0;34m)\u001b[0m\u001b[0;34m\u001b[0m\u001b[0;34m\u001b[0m\u001b[0m\n\u001b[0;32m---> 59\u001b[0;31m                 \u001b[0mp0t\u001b[0m \u001b[0;34m=\u001b[0m \u001b[0mF\u001b[0m\u001b[0;34m.\u001b[0m\u001b[0msoftmax\u001b[0m\u001b[0;34m(\u001b[0m\u001b[0mmodel\u001b[0m\u001b[0;34m(\u001b[0m\u001b[0mmodel_input\u001b[0m\u001b[0;34m,\u001b[0m \u001b[0mts\u001b[0m\u001b[0;34m)\u001b[0m\u001b[0;34m,\u001b[0m \u001b[0mdim\u001b[0m\u001b[0;34m=\u001b[0m\u001b[0;36m2\u001b[0m\u001b[0;34m)\u001b[0m \u001b[0;31m# (N, D, S)\u001b[0m\u001b[0;34m\u001b[0m\u001b[0;34m\u001b[0m\u001b[0m\n\u001b[0m\u001b[1;32m     60\u001b[0m                 \u001b[0mp0t\u001b[0m \u001b[0;34m=\u001b[0m \u001b[0mp0t\u001b[0m\u001b[0;34m[\u001b[0m\u001b[0;34m:\u001b[0m\u001b[0;34m,\u001b[0m \u001b[0mcondition_dim\u001b[0m\u001b[0;34m:\u001b[0m\u001b[0;34m,\u001b[0m \u001b[0;34m:\u001b[0m\u001b[0;34m]\u001b[0m\u001b[0;34m\u001b[0m\u001b[0;34m\u001b[0m\u001b[0m\n\u001b[1;32m     61\u001b[0m \u001b[0;34m\u001b[0m\u001b[0m\n",
      "\u001b[0;32m/home/groups/swl1/yixiuz/torch_fid/lib/python3.9/site-packages/torch/nn/modules/module.py\u001b[0m in \u001b[0;36m_wrapped_call_impl\u001b[0;34m(self, *args, **kwargs)\u001b[0m\n\u001b[1;32m   1509\u001b[0m             \u001b[0;32mreturn\u001b[0m \u001b[0mself\u001b[0m\u001b[0;34m.\u001b[0m\u001b[0m_compiled_call_impl\u001b[0m\u001b[0;34m(\u001b[0m\u001b[0;34m*\u001b[0m\u001b[0margs\u001b[0m\u001b[0;34m,\u001b[0m \u001b[0;34m**\u001b[0m\u001b[0mkwargs\u001b[0m\u001b[0;34m)\u001b[0m  \u001b[0;31m# type: ignore[misc]\u001b[0m\u001b[0;34m\u001b[0m\u001b[0;34m\u001b[0m\u001b[0m\n\u001b[1;32m   1510\u001b[0m         \u001b[0;32melse\u001b[0m\u001b[0;34m:\u001b[0m\u001b[0;34m\u001b[0m\u001b[0;34m\u001b[0m\u001b[0m\n\u001b[0;32m-> 1511\u001b[0;31m             \u001b[0;32mreturn\u001b[0m \u001b[0mself\u001b[0m\u001b[0;34m.\u001b[0m\u001b[0m_call_impl\u001b[0m\u001b[0;34m(\u001b[0m\u001b[0;34m*\u001b[0m\u001b[0margs\u001b[0m\u001b[0;34m,\u001b[0m \u001b[0;34m**\u001b[0m\u001b[0mkwargs\u001b[0m\u001b[0;34m)\u001b[0m\u001b[0;34m\u001b[0m\u001b[0;34m\u001b[0m\u001b[0m\n\u001b[0m\u001b[1;32m   1512\u001b[0m \u001b[0;34m\u001b[0m\u001b[0m\n\u001b[1;32m   1513\u001b[0m     \u001b[0;32mdef\u001b[0m \u001b[0m_call_impl\u001b[0m\u001b[0;34m(\u001b[0m\u001b[0mself\u001b[0m\u001b[0;34m,\u001b[0m \u001b[0;34m*\u001b[0m\u001b[0margs\u001b[0m\u001b[0;34m,\u001b[0m \u001b[0;34m**\u001b[0m\u001b[0mkwargs\u001b[0m\u001b[0;34m)\u001b[0m\u001b[0;34m:\u001b[0m\u001b[0;34m\u001b[0m\u001b[0;34m\u001b[0m\u001b[0m\n",
      "\u001b[0;32m/home/groups/swl1/yixiuz/torch_fid/lib/python3.9/site-packages/torch/nn/modules/module.py\u001b[0m in \u001b[0;36m_call_impl\u001b[0;34m(self, *args, **kwargs)\u001b[0m\n\u001b[1;32m   1518\u001b[0m                 \u001b[0;32mor\u001b[0m \u001b[0m_global_backward_pre_hooks\u001b[0m \u001b[0;32mor\u001b[0m \u001b[0m_global_backward_hooks\u001b[0m\u001b[0;34m\u001b[0m\u001b[0;34m\u001b[0m\u001b[0m\n\u001b[1;32m   1519\u001b[0m                 or _global_forward_hooks or _global_forward_pre_hooks):\n\u001b[0;32m-> 1520\u001b[0;31m             \u001b[0;32mreturn\u001b[0m \u001b[0mforward_call\u001b[0m\u001b[0;34m(\u001b[0m\u001b[0;34m*\u001b[0m\u001b[0margs\u001b[0m\u001b[0;34m,\u001b[0m \u001b[0;34m**\u001b[0m\u001b[0mkwargs\u001b[0m\u001b[0;34m)\u001b[0m\u001b[0;34m\u001b[0m\u001b[0;34m\u001b[0m\u001b[0m\n\u001b[0m\u001b[1;32m   1521\u001b[0m \u001b[0;34m\u001b[0m\u001b[0m\n\u001b[1;32m   1522\u001b[0m         \u001b[0;32mtry\u001b[0m\u001b[0;34m:\u001b[0m\u001b[0;34m\u001b[0m\u001b[0;34m\u001b[0m\u001b[0m\n",
      "\u001b[0;32m/home/groups/swl1/yixiuz/torch_fid/tauLDR/lib/models/models.py\u001b[0m in \u001b[0;36mforward\u001b[0;34m(self, x, times)\u001b[0m\n\u001b[1;32m    582\u001b[0m         \u001b[0mS\u001b[0m \u001b[0;34m=\u001b[0m \u001b[0mself\u001b[0m\u001b[0;34m.\u001b[0m\u001b[0mS\u001b[0m\u001b[0;34m\u001b[0m\u001b[0;34m\u001b[0m\u001b[0m\n\u001b[1;32m    583\u001b[0m \u001b[0;34m\u001b[0m\u001b[0m\n\u001b[0;32m--> 584\u001b[0;31m         \u001b[0mlogits\u001b[0m \u001b[0;34m=\u001b[0m \u001b[0mself\u001b[0m\u001b[0;34m.\u001b[0m\u001b[0mnet\u001b[0m\u001b[0;34m(\u001b[0m\u001b[0mx\u001b[0m\u001b[0;34m.\u001b[0m\u001b[0mlong\u001b[0m\u001b[0;34m(\u001b[0m\u001b[0;34m)\u001b[0m\u001b[0;34m,\u001b[0m \u001b[0mtimes\u001b[0m\u001b[0;34m.\u001b[0m\u001b[0mlong\u001b[0m\u001b[0;34m(\u001b[0m\u001b[0;34m)\u001b[0m\u001b[0;34m)\u001b[0m \u001b[0;31m# (B, D, S)\u001b[0m\u001b[0;34m\u001b[0m\u001b[0;34m\u001b[0m\u001b[0m\n\u001b[0m\u001b[1;32m    585\u001b[0m \u001b[0;34m\u001b[0m\u001b[0m\n\u001b[1;32m    586\u001b[0m         \u001b[0;32mreturn\u001b[0m \u001b[0mlogits\u001b[0m\u001b[0;34m\u001b[0m\u001b[0;34m\u001b[0m\u001b[0m\n",
      "\u001b[0;32m/home/groups/swl1/yixiuz/torch_fid/lib/python3.9/site-packages/torch/nn/modules/module.py\u001b[0m in \u001b[0;36m_wrapped_call_impl\u001b[0;34m(self, *args, **kwargs)\u001b[0m\n\u001b[1;32m   1509\u001b[0m             \u001b[0;32mreturn\u001b[0m \u001b[0mself\u001b[0m\u001b[0;34m.\u001b[0m\u001b[0m_compiled_call_impl\u001b[0m\u001b[0;34m(\u001b[0m\u001b[0;34m*\u001b[0m\u001b[0margs\u001b[0m\u001b[0;34m,\u001b[0m \u001b[0;34m**\u001b[0m\u001b[0mkwargs\u001b[0m\u001b[0;34m)\u001b[0m  \u001b[0;31m# type: ignore[misc]\u001b[0m\u001b[0;34m\u001b[0m\u001b[0;34m\u001b[0m\u001b[0m\n\u001b[1;32m   1510\u001b[0m         \u001b[0;32melse\u001b[0m\u001b[0;34m:\u001b[0m\u001b[0;34m\u001b[0m\u001b[0;34m\u001b[0m\u001b[0m\n\u001b[0;32m-> 1511\u001b[0;31m             \u001b[0;32mreturn\u001b[0m \u001b[0mself\u001b[0m\u001b[0;34m.\u001b[0m\u001b[0m_call_impl\u001b[0m\u001b[0;34m(\u001b[0m\u001b[0;34m*\u001b[0m\u001b[0margs\u001b[0m\u001b[0;34m,\u001b[0m \u001b[0;34m**\u001b[0m\u001b[0mkwargs\u001b[0m\u001b[0;34m)\u001b[0m\u001b[0;34m\u001b[0m\u001b[0;34m\u001b[0m\u001b[0m\n\u001b[0m\u001b[1;32m   1512\u001b[0m \u001b[0;34m\u001b[0m\u001b[0m\n\u001b[1;32m   1513\u001b[0m     \u001b[0;32mdef\u001b[0m \u001b[0m_call_impl\u001b[0m\u001b[0;34m(\u001b[0m\u001b[0mself\u001b[0m\u001b[0;34m,\u001b[0m \u001b[0;34m*\u001b[0m\u001b[0margs\u001b[0m\u001b[0;34m,\u001b[0m \u001b[0;34m**\u001b[0m\u001b[0mkwargs\u001b[0m\u001b[0;34m)\u001b[0m\u001b[0;34m:\u001b[0m\u001b[0;34m\u001b[0m\u001b[0;34m\u001b[0m\u001b[0m\n",
      "\u001b[0;32m/home/groups/swl1/yixiuz/torch_fid/lib/python3.9/site-packages/torch/nn/modules/module.py\u001b[0m in \u001b[0;36m_call_impl\u001b[0;34m(self, *args, **kwargs)\u001b[0m\n\u001b[1;32m   1518\u001b[0m                 \u001b[0;32mor\u001b[0m \u001b[0m_global_backward_pre_hooks\u001b[0m \u001b[0;32mor\u001b[0m \u001b[0m_global_backward_hooks\u001b[0m\u001b[0;34m\u001b[0m\u001b[0;34m\u001b[0m\u001b[0m\n\u001b[1;32m   1519\u001b[0m                 or _global_forward_hooks or _global_forward_pre_hooks):\n\u001b[0;32m-> 1520\u001b[0;31m             \u001b[0;32mreturn\u001b[0m \u001b[0mforward_call\u001b[0m\u001b[0;34m(\u001b[0m\u001b[0;34m*\u001b[0m\u001b[0margs\u001b[0m\u001b[0;34m,\u001b[0m \u001b[0;34m**\u001b[0m\u001b[0mkwargs\u001b[0m\u001b[0;34m)\u001b[0m\u001b[0;34m\u001b[0m\u001b[0;34m\u001b[0m\u001b[0m\n\u001b[0m\u001b[1;32m   1521\u001b[0m \u001b[0;34m\u001b[0m\u001b[0m\n\u001b[1;32m   1522\u001b[0m         \u001b[0;32mtry\u001b[0m\u001b[0;34m:\u001b[0m\u001b[0;34m\u001b[0m\u001b[0;34m\u001b[0m\u001b[0m\n",
      "\u001b[0;32m/home/groups/swl1/yixiuz/torch_fid/tauLDR/lib/networks/hollow_transformers.py\u001b[0m in \u001b[0;36mforward\u001b[0;34m(self, x, times)\u001b[0m\n\u001b[1;32m    315\u001b[0m         \u001b[0;31m# for encoder_layer in self.encoder_layers:\u001b[0m\u001b[0;34m\u001b[0m\u001b[0;34m\u001b[0m\u001b[0;34m\u001b[0m\u001b[0m\n\u001b[1;32m    316\u001b[0m         \u001b[0;32mfor\u001b[0m \u001b[0mi\u001b[0m \u001b[0;32min\u001b[0m \u001b[0mrange\u001b[0m\u001b[0;34m(\u001b[0m\u001b[0mlen\u001b[0m\u001b[0;34m(\u001b[0m\u001b[0mself\u001b[0m\u001b[0;34m.\u001b[0m\u001b[0mdouble_encoder_layers\u001b[0m\u001b[0;34m)\u001b[0m\u001b[0;34m)\u001b[0m\u001b[0;34m:\u001b[0m\u001b[0;34m\u001b[0m\u001b[0;34m\u001b[0m\u001b[0m\n\u001b[0;32m--> 317\u001b[0;31m             \u001b[0mxf\u001b[0m\u001b[0;34m,\u001b[0m \u001b[0mxb\u001b[0m \u001b[0;34m=\u001b[0m \u001b[0mself\u001b[0m\u001b[0;34m.\u001b[0m\u001b[0mdouble_encoder_layers\u001b[0m\u001b[0;34m[\u001b[0m\u001b[0mi\u001b[0m\u001b[0;34m]\u001b[0m\u001b[0;34m(\u001b[0m\u001b[0mxf\u001b[0m\u001b[0;34m,\u001b[0m \u001b[0mxb\u001b[0m\u001b[0;34m,\u001b[0m \u001b[0mtemb\u001b[0m\u001b[0;34m)\u001b[0m\u001b[0;34m\u001b[0m\u001b[0;34m\u001b[0m\u001b[0m\n\u001b[0m\u001b[1;32m    318\u001b[0m             \u001b[0;32mif\u001b[0m \u001b[0;34m(\u001b[0m\u001b[0mi\u001b[0m\u001b[0;34m+\u001b[0m\u001b[0;36m1\u001b[0m\u001b[0;34m)\u001b[0m \u001b[0;34m%\u001b[0m \u001b[0mself\u001b[0m\u001b[0;34m.\u001b[0m\u001b[0mnum_layers_per_mixed\u001b[0m \u001b[0;34m==\u001b[0m \u001b[0;36m0\u001b[0m\u001b[0;34m:\u001b[0m\u001b[0;34m\u001b[0m\u001b[0;34m\u001b[0m\u001b[0m\n\u001b[1;32m    319\u001b[0m                 \u001b[0mxb_flipped\u001b[0m \u001b[0;34m=\u001b[0m \u001b[0mtorch\u001b[0m\u001b[0;34m.\u001b[0m\u001b[0mflip\u001b[0m\u001b[0;34m(\u001b[0m\u001b[0mxb\u001b[0m\u001b[0;34m,\u001b[0m \u001b[0;34m[\u001b[0m\u001b[0;36m1\u001b[0m\u001b[0;34m]\u001b[0m\u001b[0;34m)\u001b[0m\u001b[0;34m\u001b[0m\u001b[0;34m\u001b[0m\u001b[0m\n",
      "\u001b[0;32m/home/groups/swl1/yixiuz/torch_fid/lib/python3.9/site-packages/torch/nn/modules/module.py\u001b[0m in \u001b[0;36m_wrapped_call_impl\u001b[0;34m(self, *args, **kwargs)\u001b[0m\n\u001b[1;32m   1509\u001b[0m             \u001b[0;32mreturn\u001b[0m \u001b[0mself\u001b[0m\u001b[0;34m.\u001b[0m\u001b[0m_compiled_call_impl\u001b[0m\u001b[0;34m(\u001b[0m\u001b[0;34m*\u001b[0m\u001b[0margs\u001b[0m\u001b[0;34m,\u001b[0m \u001b[0;34m**\u001b[0m\u001b[0mkwargs\u001b[0m\u001b[0;34m)\u001b[0m  \u001b[0;31m# type: ignore[misc]\u001b[0m\u001b[0;34m\u001b[0m\u001b[0;34m\u001b[0m\u001b[0m\n\u001b[1;32m   1510\u001b[0m         \u001b[0;32melse\u001b[0m\u001b[0;34m:\u001b[0m\u001b[0;34m\u001b[0m\u001b[0;34m\u001b[0m\u001b[0m\n\u001b[0;32m-> 1511\u001b[0;31m             \u001b[0;32mreturn\u001b[0m \u001b[0mself\u001b[0m\u001b[0;34m.\u001b[0m\u001b[0m_call_impl\u001b[0m\u001b[0;34m(\u001b[0m\u001b[0;34m*\u001b[0m\u001b[0margs\u001b[0m\u001b[0;34m,\u001b[0m \u001b[0;34m**\u001b[0m\u001b[0mkwargs\u001b[0m\u001b[0;34m)\u001b[0m\u001b[0;34m\u001b[0m\u001b[0;34m\u001b[0m\u001b[0m\n\u001b[0m\u001b[1;32m   1512\u001b[0m \u001b[0;34m\u001b[0m\u001b[0m\n\u001b[1;32m   1513\u001b[0m     \u001b[0;32mdef\u001b[0m \u001b[0m_call_impl\u001b[0m\u001b[0;34m(\u001b[0m\u001b[0mself\u001b[0m\u001b[0;34m,\u001b[0m \u001b[0;34m*\u001b[0m\u001b[0margs\u001b[0m\u001b[0;34m,\u001b[0m \u001b[0;34m**\u001b[0m\u001b[0mkwargs\u001b[0m\u001b[0;34m)\u001b[0m\u001b[0;34m:\u001b[0m\u001b[0;34m\u001b[0m\u001b[0;34m\u001b[0m\u001b[0m\n",
      "\u001b[0;32m/home/groups/swl1/yixiuz/torch_fid/lib/python3.9/site-packages/torch/nn/modules/module.py\u001b[0m in \u001b[0;36m_call_impl\u001b[0;34m(self, *args, **kwargs)\u001b[0m\n\u001b[1;32m   1518\u001b[0m                 \u001b[0;32mor\u001b[0m \u001b[0m_global_backward_pre_hooks\u001b[0m \u001b[0;32mor\u001b[0m \u001b[0m_global_backward_hooks\u001b[0m\u001b[0;34m\u001b[0m\u001b[0;34m\u001b[0m\u001b[0m\n\u001b[1;32m   1519\u001b[0m                 or _global_forward_hooks or _global_forward_pre_hooks):\n\u001b[0;32m-> 1520\u001b[0;31m             \u001b[0;32mreturn\u001b[0m \u001b[0mforward_call\u001b[0m\u001b[0;34m(\u001b[0m\u001b[0;34m*\u001b[0m\u001b[0margs\u001b[0m\u001b[0;34m,\u001b[0m \u001b[0;34m**\u001b[0m\u001b[0mkwargs\u001b[0m\u001b[0;34m)\u001b[0m\u001b[0;34m\u001b[0m\u001b[0;34m\u001b[0m\u001b[0m\n\u001b[0m\u001b[1;32m   1521\u001b[0m \u001b[0;34m\u001b[0m\u001b[0m\n\u001b[1;32m   1522\u001b[0m         \u001b[0;32mtry\u001b[0m\u001b[0;34m:\u001b[0m\u001b[0;34m\u001b[0m\u001b[0;34m\u001b[0m\u001b[0m\n",
      "\u001b[0;32m/home/groups/swl1/yixiuz/torch_fid/tauLDR/lib/networks/hollow_transformers.py\u001b[0m in \u001b[0;36mforward\u001b[0;34m(self, x1, x2, temb)\u001b[0m\n\u001b[1;32m    189\u001b[0m         \u001b[0mx1\u001b[0m \u001b[0;34m=\u001b[0m \u001b[0mfilm_params\u001b[0m\u001b[0;34m[\u001b[0m\u001b[0;34m:\u001b[0m\u001b[0;34m,\u001b[0m \u001b[0;32mNone\u001b[0m\u001b[0;34m,\u001b[0m \u001b[0;36m0\u001b[0m\u001b[0;34m:\u001b[0m\u001b[0mK\u001b[0m\u001b[0;34m]\u001b[0m \u001b[0;34m*\u001b[0m \u001b[0mx1\u001b[0m \u001b[0;34m+\u001b[0m \u001b[0mfilm_params\u001b[0m\u001b[0;34m[\u001b[0m\u001b[0;34m:\u001b[0m\u001b[0;34m,\u001b[0m \u001b[0;32mNone\u001b[0m\u001b[0;34m,\u001b[0m \u001b[0mK\u001b[0m\u001b[0;34m:\u001b[0m\u001b[0;34m]\u001b[0m\u001b[0;34m\u001b[0m\u001b[0;34m\u001b[0m\u001b[0m\n\u001b[1;32m    190\u001b[0m         \u001b[0mx2\u001b[0m \u001b[0;34m=\u001b[0m \u001b[0mself\u001b[0m\u001b[0;34m.\u001b[0m\u001b[0mnorm2\u001b[0m\u001b[0;34m(\u001b[0m\u001b[0mx2\u001b[0m \u001b[0;34m+\u001b[0m \u001b[0mself\u001b[0m\u001b[0;34m.\u001b[0m\u001b[0m_ff_block\u001b[0m\u001b[0;34m(\u001b[0m\u001b[0mx2\u001b[0m\u001b[0;34m)\u001b[0m\u001b[0;34m)\u001b[0m\u001b[0;34m\u001b[0m\u001b[0;34m\u001b[0m\u001b[0m\n\u001b[0;32m--> 191\u001b[0;31m         \u001b[0mx2\u001b[0m \u001b[0;34m=\u001b[0m \u001b[0mfilm_params\u001b[0m\u001b[0;34m[\u001b[0m\u001b[0;34m:\u001b[0m\u001b[0;34m,\u001b[0m \u001b[0;32mNone\u001b[0m\u001b[0;34m,\u001b[0m \u001b[0;36m0\u001b[0m\u001b[0;34m:\u001b[0m\u001b[0mK\u001b[0m\u001b[0;34m]\u001b[0m \u001b[0;34m*\u001b[0m \u001b[0mx2\u001b[0m \u001b[0;34m+\u001b[0m \u001b[0mfilm_params\u001b[0m\u001b[0;34m[\u001b[0m\u001b[0;34m:\u001b[0m\u001b[0;34m,\u001b[0m \u001b[0;32mNone\u001b[0m\u001b[0;34m,\u001b[0m \u001b[0mK\u001b[0m\u001b[0;34m:\u001b[0m\u001b[0;34m]\u001b[0m\u001b[0;34m\u001b[0m\u001b[0;34m\u001b[0m\u001b[0m\n\u001b[0m\u001b[1;32m    192\u001b[0m \u001b[0;34m\u001b[0m\u001b[0m\n\u001b[1;32m    193\u001b[0m         \u001b[0;32mreturn\u001b[0m \u001b[0mx1\u001b[0m\u001b[0;34m,\u001b[0m \u001b[0mx2\u001b[0m\u001b[0;34m\u001b[0m\u001b[0;34m\u001b[0m\u001b[0m\n",
      "\u001b[0;31mKeyboardInterrupt\u001b[0m: "
     ]
    }
   ],
   "source": [
    "# Sample with PC-multi-Gillespie's and evaluate\n",
    "num_samples = 5\n",
    "test_data_idx = 2\n",
    "conditioner = torch.from_numpy(test_dataset[test_data_idx, 0:condition_dim]).to(device).view(1, condition_dim)\n",
    "conditioner = conditioner.repeat(num_samples, 1)\n",
    "\n",
    "# play around with the sampler by overriding some configs\n",
    "eval_cfg.sampler.num_corrector_steps = 1\n",
    "eval_cfg.sampler.corrector_entry_time = 0.0\n",
    "eval_cfg.sampler.corrector_step_size_multiplier = .1\n",
    "eval_cfg.sampler.balancing_function = \"mpf\"\n",
    "\n",
    "tqdm._instances.clear()\n",
    "sampler = ConditionalGillespies(eval_cfg)\n",
    "samples, ts = sampler.sample(model, num_samples, 100, conditioner, )\n",
    "samples = descramble(samples)"
   ]
  },
  {
   "cell_type": "code",
   "execution_count": 27,
   "metadata": {},
   "outputs": [
    {
     "name": "stderr",
     "output_type": "stream",
     "text": [
      "100%|██████████| 224/224 [00:01<00:00, 203.61it/s]\n"
     ]
    }
   ],
   "source": [
    "# -------------- Sample the model ------------------\n",
    "num_samples = 5\n",
    "test_data_idx = 2\n",
    "conditioner = torch.from_numpy(test_dataset[test_data_idx, 0:condition_dim]).to(device).view(1, condition_dim)\n",
    "conditioner = conditioner.repeat(num_samples, 1)\n",
    "\n",
    "# play around with the sampler by overriding some configs\n",
    "# eval_cfg.sampler.balancing_function = \"birthdeath\"\n",
    "# eval_cfg.sampler.corrector_step_size_multiplier = 1.\n",
    "\n",
    "# sampler = sampling_utils.get_sampler(eval_cfg)\n",
    "# sampler = ConditionalTauLeaping(eval_cfg)\n",
    "sampler = ConditionalGillespies(eval_cfg)\n",
    "samples, ts = sampler.sample(model, num_samples, 100, conditioner)\n",
    "samples = descramble(samples)"
   ]
  },
  {
   "cell_type": "code",
   "execution_count": 12,
   "metadata": {},
   "outputs": [
    {
     "data": {
      "text/plain": [
       "(5, 256)"
      ]
     },
     "execution_count": 12,
     "metadata": {},
     "output_type": "execute_result"
    }
   ],
   "source": [
    "samples.shape"
   ]
  },
  {
   "cell_type": "code",
   "execution_count": null,
   "metadata": {},
   "outputs": [],
   "source": [
    "samples, hist = sampler.sample(model, num_samples, 100, conditioner)\n",
    "x_hist, x0_hist = hist[\"x\"], hist[\"x0\"]\n",
    "samples, x_hist, x0_hist = descramble(samples), descramble(x_hist), descramble(x0_hist)"
   ]
  },
  {
   "cell_type": "code",
   "execution_count": 169,
   "metadata": {},
   "outputs": [
    {
     "data": {
      "text/plain": [
       "<lib.sampling.sampling.ConditionalPCTauLeapingAbsorbingInformed at 0x7f94a6860730>"
      ]
     },
     "execution_count": 169,
     "metadata": {},
     "output_type": "execute_result"
    }
   ],
   "source": [
    "sampler"
   ]
  },
  {
   "cell_type": "code",
   "execution_count": 23,
   "metadata": {},
   "outputs": [
    {
     "data": {
      "image/png": "[encoded data removed]",
      "text/plain": [
       "<Figure size 432x288 with 1 Axes>"
      ]
     },
     "metadata": {
      "needs_background": "light"
     },
     "output_type": "display_data"
    }
   ],
   "source": [
    "idx = 0\n",
    "plt.scatter(np.arange(256), samples[2, :], alpha=0.3)\n",
    "# plt.scatter(np.arange(256), samples[1, :], alpha=0.3)\n",
    "# plt.scatter(np.arange(256), samples[2, :], alpha=0.3)\n",
    "plt.scatter(np.arange(256), descrambled_test_dataset[test_data_idx, :], alpha=0.3)\n",
    "plt.show()"
   ]
  },
  {
   "cell_type": "code",
   "execution_count": 14,
   "metadata": {},
   "outputs": [
    {
     "ename": "NameError",
     "evalue": "name 'x_hist' is not defined",
     "output_type": "error",
     "traceback": [
      "\u001b[0;31m---------------------------------------------------------------------------\u001b[0m",
      "\u001b[0;31mNameError\u001b[0m                                 Traceback (most recent call last)",
      "\u001b[0;32m/tmp/ipykernel_36258/3717864079.py\u001b[0m in \u001b[0;36m<module>\u001b[0;34m\u001b[0m\n\u001b[1;32m      1\u001b[0m \u001b[0mt\u001b[0m \u001b[0;34m=\u001b[0m \u001b[0;36m99\u001b[0m\u001b[0;34m\u001b[0m\u001b[0;34m\u001b[0m\u001b[0m\n\u001b[0;32m----> 2\u001b[0;31m \u001b[0mplt\u001b[0m\u001b[0;34m.\u001b[0m\u001b[0mscatter\u001b[0m\u001b[0;34m(\u001b[0m\u001b[0mnp\u001b[0m\u001b[0;34m.\u001b[0m\u001b[0marange\u001b[0m\u001b[0;34m(\u001b[0m\u001b[0;36m224\u001b[0m\u001b[0;34m)\u001b[0m\u001b[0;34m,\u001b[0m \u001b[0mx_hist\u001b[0m\u001b[0;34m[\u001b[0m\u001b[0mt\u001b[0m\u001b[0;34m,\u001b[0m \u001b[0;36m0\u001b[0m\u001b[0;34m]\u001b[0m\u001b[0;34m,\u001b[0m \u001b[0malpha\u001b[0m\u001b[0;34m=\u001b[0m\u001b[0;36m0.3\u001b[0m\u001b[0;34m)\u001b[0m\u001b[0;34m\u001b[0m\u001b[0;34m\u001b[0m\u001b[0m\n\u001b[0m\u001b[1;32m      3\u001b[0m \u001b[0mplt\u001b[0m\u001b[0;34m.\u001b[0m\u001b[0mscatter\u001b[0m\u001b[0;34m(\u001b[0m\u001b[0mnp\u001b[0m\u001b[0;34m.\u001b[0m\u001b[0marange\u001b[0m\u001b[0;34m(\u001b[0m\u001b[0;36m224\u001b[0m\u001b[0;34m)\u001b[0m\u001b[0;34m,\u001b[0m \u001b[0mx_hist\u001b[0m\u001b[0;34m[\u001b[0m\u001b[0mt\u001b[0m\u001b[0;34m,\u001b[0m \u001b[0;36m1\u001b[0m\u001b[0;34m]\u001b[0m\u001b[0;34m,\u001b[0m \u001b[0malpha\u001b[0m\u001b[0;34m=\u001b[0m\u001b[0;36m0.3\u001b[0m\u001b[0;34m)\u001b[0m\u001b[0;34m\u001b[0m\u001b[0;34m\u001b[0m\u001b[0m\n\u001b[1;32m      4\u001b[0m \u001b[0mplt\u001b[0m\u001b[0;34m.\u001b[0m\u001b[0mscatter\u001b[0m\u001b[0;34m(\u001b[0m\u001b[0mnp\u001b[0m\u001b[0;34m.\u001b[0m\u001b[0marange\u001b[0m\u001b[0;34m(\u001b[0m\u001b[0;36m224\u001b[0m\u001b[0;34m)\u001b[0m\u001b[0;34m,\u001b[0m \u001b[0mx_hist\u001b[0m\u001b[0;34m[\u001b[0m\u001b[0mt\u001b[0m\u001b[0;34m,\u001b[0m \u001b[0;36m2\u001b[0m\u001b[0;34m]\u001b[0m\u001b[0;34m,\u001b[0m \u001b[0malpha\u001b[0m\u001b[0;34m=\u001b[0m\u001b[0;36m0.3\u001b[0m\u001b[0;34m)\u001b[0m\u001b[0;34m\u001b[0m\u001b[0;34m\u001b[0m\u001b[0m\n",
      "\u001b[0;31mNameError\u001b[0m: name 'x_hist' is not defined"
     ]
    }
   ],
   "source": [
    "t = 99\n",
    "plt.scatter(np.arange(224), x_hist[t, 0], alpha=0.3)\n",
    "plt.scatter(np.arange(224), x_hist[t, 1], alpha=0.3)\n",
    "plt.scatter(np.arange(224), x_hist[t, 2], alpha=0.3)"
   ]
  },
  {
   "cell_type": "code",
   "execution_count": 21,
   "metadata": {},
   "outputs": [
    {
     "name": "stdout",
     "output_type": "stream",
     "text": [
      "0.23842151167343786\n",
      "0.0\n"
     ]
    }
   ],
   "source": [
    "print(hellinger(samples[4, condition_dim:], descrambled_test_dataset[test_data_idx, condition_dim:]))\n",
    "print(outliers(samples[4, condition_dim:], descrambled_test_dataset[test_data_idx, condition_dim:]))"
   ]
  },
  {
   "cell_type": "markdown",
   "metadata": {},
   "source": [
    "# Sample one sequence for each test data"
   ]
  },
  {
   "cell_type": "code",
   "execution_count": 46,
   "metadata": {},
   "outputs": [
    {
     "data": {
      "text/plain": [
       "device(type='cuda')"
      ]
     },
     "execution_count": 46,
     "metadata": {},
     "output_type": "execute_result"
    }
   ],
   "source": [
    "device"
   ]
  },
  {
   "cell_type": "code",
   "execution_count": 64,
   "metadata": {
    "scrolled": true
   },
   "outputs": [
    {
     "name": "stdout",
     "output_type": "stream",
     "text": [
      "0\n"
     ]
    },
    {
     "name": "stderr",
     "output_type": "stream",
     "text": [
      "100%|██████████| 224/224 [00:07<00:00, 30.09it/s]\n"
     ]
    },
    {
     "name": "stdout",
     "output_type": "stream",
     "text": [
      "batch: 0.3707175398062234 0.11546875\n",
      "100\n"
     ]
    },
    {
     "name": "stderr",
     "output_type": "stream",
     "text": [
      "100%|██████████| 224/224 [00:07<00:00, 30.10it/s]\n"
     ]
    },
    {
     "name": "stdout",
     "output_type": "stream",
     "text": [
      "batch: 0.3711175906218024 0.11662109375\n",
      "200\n"
     ]
    },
    {
     "name": "stderr",
     "output_type": "stream",
     "text": [
      "100%|██████████| 224/224 [00:07<00:00, 30.14it/s]\n"
     ]
    },
    {
     "name": "stdout",
     "output_type": "stream",
     "text": [
      "batch: 0.37023999723028744 0.11446614583333334\n",
      "300\n"
     ]
    },
    {
     "name": "stderr",
     "output_type": "stream",
     "text": [
      "100%|██████████| 224/224 [00:07<00:00, 30.12it/s]\n"
     ]
    },
    {
     "name": "stdout",
     "output_type": "stream",
     "text": [
      "batch: 0.3742979789320714 0.119150390625\n",
      "400\n"
     ]
    },
    {
     "name": "stderr",
     "output_type": "stream",
     "text": [
      "100%|██████████| 224/224 [00:07<00:00, 30.08it/s]\n"
     ]
    },
    {
     "name": "stdout",
     "output_type": "stream",
     "text": [
      "batch: 0.3738329625602685 0.1185546875\n",
      "500\n"
     ]
    },
    {
     "name": "stderr",
     "output_type": "stream",
     "text": [
      "100%|██████████| 224/224 [00:07<00:00, 30.11it/s]\n"
     ]
    },
    {
     "name": "stdout",
     "output_type": "stream",
     "text": [
      "batch: 0.3754565989831902 0.12227213541666666\n",
      "600\n"
     ]
    },
    {
     "name": "stderr",
     "output_type": "stream",
     "text": [
      "100%|██████████| 224/224 [00:07<00:00, 30.15it/s]\n"
     ]
    },
    {
     "name": "stdout",
     "output_type": "stream",
     "text": [
      "batch: 0.37441568642786877 0.12208705357142857\n",
      "700\n"
     ]
    },
    {
     "name": "stderr",
     "output_type": "stream",
     "text": [
      "100%|██████████| 224/224 [00:07<00:00, 30.12it/s]\n"
     ]
    },
    {
     "name": "stdout",
     "output_type": "stream",
     "text": [
      "batch: 0.37409939580473744 0.122900390625\n",
      "800\n"
     ]
    },
    {
     "name": "stderr",
     "output_type": "stream",
     "text": [
      "100%|██████████| 224/224 [00:07<00:00, 30.05it/s]\n"
     ]
    },
    {
     "name": "stdout",
     "output_type": "stream",
     "text": [
      "batch: 0.37179775346367844 0.11940538194444444\n",
      "900\n"
     ]
    },
    {
     "name": "stderr",
     "output_type": "stream",
     "text": [
      "100%|██████████| 224/224 [00:05<00:00, 39.05it/s]"
     ]
    },
    {
     "name": "stdout",
     "output_type": "stream",
     "text": [
      "batch: 0.3748716860979322 0.12049556783144913\n",
      "ConditionalPCTauLeapingAbsorbingInformed\n",
      "Hellinger distance 0.3748716860979322\n",
      "Proportion of outliers 0.12049556783144913\n"
     ]
    },
    {
     "name": "stderr",
     "output_type": "stream",
     "text": [
      "\n"
     ]
    }
   ],
   "source": [
    "tqdm._instances.clear()\n",
    "batch_size = 100\n",
    "\n",
    "# eval_cfg.sampler.name = \"ConditionalPCTauLeapingAbsorbingInformed\"\n",
    "# eval_cfg.sampler.balancing_function = \"birthdeath\"\n",
    "# eval_cfg.sampler.num_steps = 500\n",
    "# eval_cfg.sampler.corrector_step_size_multiplier = 0.5\n",
    "eval_cfg.sampler.num_corrector_steps = 1\n",
    "eval_cfg.sampler.corrector_entry_time = 0.9\n",
    "eval_cfg.sampler.corrector_step_size_multiplier = .2\n",
    "eval_cfg.sampler.balancing_function = \"barker\"\n",
    "\n",
    "# sampler = sampling_utils.get_sampler(eval_cfg)\n",
    "sampler = ConditionalGillespies(eval_cfg)\n",
    "test_size = test_dataset.shape[0]\n",
    "h_dists = []\n",
    "outlier_proportions = []\n",
    "for start in range(0, test_size, batch_size):\n",
    "    print(start)\n",
    "    end = min(start + batch_size, test_size)\n",
    "    size = end - start\n",
    "    \n",
    "    conditioner = torch.from_numpy(test_dataset[start:end, :condition_dim]).to(device)\n",
    "    samples, _ = sampler.sample(model, size, 1, conditioner, updates_per_eval=2)\n",
    "    samples = descramble(samples)\n",
    "\n",
    "    for i in range(size):\n",
    "        h = hellinger(descrambled_test_dataset[start+i, :], samples[i, :])\n",
    "        r = outliers(descrambled_test_dataset[start+i, :], samples[i, :])\n",
    "        h_dists.append(h)\n",
    "        outlier_proportions.append(r)\n",
    "        \n",
    "    print(\"batch:\", np.mean(h_dists), np.mean(outlier_proportions))\n",
    "        \n",
    "print(eval_cfg.sampler.name)\n",
    "print(\"Hellinger distance\", np.mean(h_dists))\n",
    "print(\"Proportion of outliers\", np.mean(outlier_proportions))"
   ]
  },
  {
   "cell_type": "code",
   "execution_count": 66,
   "metadata": {
    "scrolled": true
   },
   "outputs": [
    {
     "name": "stdout",
     "output_type": "stream",
     "text": [
      "0\n"
     ]
    },
    {
     "name": "stderr",
     "output_type": "stream",
     "text": [
      "100%|██████████| 224/224 [00:07<00:00, 30.09it/s]\n"
     ]
    },
    {
     "name": "stdout",
     "output_type": "stream",
     "text": [
      "batch: 0.36839183507166096 0.11203125\n",
      "100\n"
     ]
    },
    {
     "name": "stderr",
     "output_type": "stream",
     "text": [
      "100%|██████████| 224/224 [00:07<00:00, 30.13it/s]\n"
     ]
    },
    {
     "name": "stdout",
     "output_type": "stream",
     "text": [
      "batch: 0.36749378018312556 0.11287109375\n",
      "200\n"
     ]
    },
    {
     "name": "stderr",
     "output_type": "stream",
     "text": [
      "100%|██████████| 224/224 [00:07<00:00, 30.15it/s]\n"
     ]
    },
    {
     "name": "stdout",
     "output_type": "stream",
     "text": [
      "batch: 0.3673050709870709 0.1133203125\n",
      "300\n"
     ]
    },
    {
     "name": "stderr",
     "output_type": "stream",
     "text": [
      "100%|██████████| 224/224 [00:07<00:00, 30.14it/s]\n"
     ]
    },
    {
     "name": "stdout",
     "output_type": "stream",
     "text": [
      "batch: 0.3720713136406303 0.118095703125\n",
      "400\n"
     ]
    },
    {
     "name": "stderr",
     "output_type": "stream",
     "text": [
      "100%|██████████| 224/224 [00:07<00:00, 30.08it/s]\n"
     ]
    },
    {
     "name": "stdout",
     "output_type": "stream",
     "text": [
      "batch: 0.3722532665894587 0.1181328125\n",
      "500\n"
     ]
    },
    {
     "name": "stderr",
     "output_type": "stream",
     "text": [
      "100%|██████████| 224/224 [00:07<00:00, 30.14it/s]\n"
     ]
    },
    {
     "name": "stdout",
     "output_type": "stream",
     "text": [
      "batch: 0.37355208874377077 0.12198567708333333\n",
      "600\n"
     ]
    },
    {
     "name": "stderr",
     "output_type": "stream",
     "text": [
      "100%|██████████| 224/224 [00:07<00:00, 30.14it/s]\n"
     ]
    },
    {
     "name": "stdout",
     "output_type": "stream",
     "text": [
      "batch: 0.3737981490824307 0.12232700892857143\n",
      "700\n"
     ]
    },
    {
     "name": "stderr",
     "output_type": "stream",
     "text": [
      "100%|██████████| 224/224 [00:07<00:00, 30.15it/s]\n"
     ]
    },
    {
     "name": "stdout",
     "output_type": "stream",
     "text": [
      "batch: 0.3740336213325731 0.1241015625\n",
      "800\n"
     ]
    },
    {
     "name": "stderr",
     "output_type": "stream",
     "text": [
      "100%|██████████| 224/224 [00:07<00:00, 30.08it/s]\n"
     ]
    },
    {
     "name": "stdout",
     "output_type": "stream",
     "text": [
      "batch: 0.3725635302528838 0.12112413194444445\n",
      "900\n"
     ]
    },
    {
     "name": "stderr",
     "output_type": "stream",
     "text": [
      "100%|██████████| 224/224 [00:05<00:00, 39.10it/s]\n"
     ]
    },
    {
     "name": "stdout",
     "output_type": "stream",
     "text": [
      "batch: 0.37605804322262487 0.12308099948612539\n",
      "Hellinger distance 0.37605804322262487\n",
      "Proportion of outliers 0.12308099948612539\n",
      "0\n"
     ]
    },
    {
     "name": "stderr",
     "output_type": "stream",
     "text": [
      "100%|██████████| 224/224 [00:07<00:00, 30.13it/s]\n"
     ]
    },
    {
     "name": "stdout",
     "output_type": "stream",
     "text": [
      "batch: 0.35954674111224155 0.1055859375\n",
      "100\n"
     ]
    },
    {
     "name": "stderr",
     "output_type": "stream",
     "text": [
      "100%|██████████| 224/224 [00:07<00:00, 30.12it/s]\n"
     ]
    },
    {
     "name": "stdout",
     "output_type": "stream",
     "text": [
      "batch: 0.3671184555040304 0.1142578125\n",
      "200\n"
     ]
    },
    {
     "name": "stderr",
     "output_type": "stream",
     "text": [
      "100%|██████████| 224/224 [00:07<00:00, 29.97it/s]\n"
     ]
    },
    {
     "name": "stdout",
     "output_type": "stream",
     "text": [
      "batch: 0.36809687333108126 0.11403645833333333\n",
      "300\n"
     ]
    },
    {
     "name": "stderr",
     "output_type": "stream",
     "text": [
      "100%|██████████| 224/224 [00:07<00:00, 30.13it/s]\n"
     ]
    },
    {
     "name": "stdout",
     "output_type": "stream",
     "text": [
      "batch: 0.37452054291330056 0.1191015625\n",
      "400\n"
     ]
    },
    {
     "name": "stderr",
     "output_type": "stream",
     "text": [
      "100%|██████████| 224/224 [00:07<00:00, 30.12it/s]\n"
     ]
    },
    {
     "name": "stdout",
     "output_type": "stream",
     "text": [
      "batch: 0.3744757099398966 0.1186875\n",
      "500\n"
     ]
    },
    {
     "name": "stderr",
     "output_type": "stream",
     "text": [
      "100%|██████████| 224/224 [00:07<00:00, 30.14it/s]\n"
     ]
    },
    {
     "name": "stdout",
     "output_type": "stream",
     "text": [
      "batch: 0.3749249620680407 0.12125651041666667\n",
      "600\n"
     ]
    },
    {
     "name": "stderr",
     "output_type": "stream",
     "text": [
      "100%|██████████| 224/224 [00:07<00:00, 30.07it/s]\n"
     ]
    },
    {
     "name": "stdout",
     "output_type": "stream",
     "text": [
      "batch: 0.37413589179613993 0.12076450892857143\n",
      "700\n"
     ]
    },
    {
     "name": "stderr",
     "output_type": "stream",
     "text": [
      "100%|██████████| 224/224 [00:07<00:00, 30.13it/s]\n"
     ]
    },
    {
     "name": "stdout",
     "output_type": "stream",
     "text": [
      "batch: 0.37401155269339176 0.1227880859375\n",
      "800\n"
     ]
    },
    {
     "name": "stderr",
     "output_type": "stream",
     "text": [
      "100%|██████████| 224/224 [00:07<00:00, 30.12it/s]\n"
     ]
    },
    {
     "name": "stdout",
     "output_type": "stream",
     "text": [
      "batch: 0.3720914170537288 0.12008246527777777\n",
      "900\n"
     ]
    },
    {
     "name": "stderr",
     "output_type": "stream",
     "text": [
      "100%|██████████| 224/224 [00:05<00:00, 39.07it/s]\n"
     ]
    },
    {
     "name": "stdout",
     "output_type": "stream",
     "text": [
      "batch: 0.375651326948952 0.12185251798561152\n",
      "Hellinger distance 0.375651326948952\n",
      "Proportion of outliers 0.12185251798561152\n",
      "0\n"
     ]
    },
    {
     "name": "stderr",
     "output_type": "stream",
     "text": [
      "100%|██████████| 224/224 [00:07<00:00, 30.09it/s]\n"
     ]
    },
    {
     "name": "stdout",
     "output_type": "stream",
     "text": [
      "batch: 0.37100265103153957 0.1141796875\n",
      "100\n"
     ]
    },
    {
     "name": "stderr",
     "output_type": "stream",
     "text": [
      "100%|██████████| 224/224 [00:07<00:00, 30.14it/s]\n"
     ]
    },
    {
     "name": "stdout",
     "output_type": "stream",
     "text": [
      "batch: 0.37344351121878105 0.11763671875\n",
      "200\n"
     ]
    },
    {
     "name": "stderr",
     "output_type": "stream",
     "text": [
      "100%|██████████| 224/224 [00:07<00:00, 30.13it/s]\n"
     ]
    },
    {
     "name": "stdout",
     "output_type": "stream",
     "text": [
      "batch: 0.37179914898344485 0.11608072916666666\n",
      "300\n"
     ]
    },
    {
     "name": "stderr",
     "output_type": "stream",
     "text": [
      "100%|██████████| 224/224 [00:07<00:00, 30.14it/s]\n"
     ]
    },
    {
     "name": "stdout",
     "output_type": "stream",
     "text": [
      "batch: 0.375513059533872 0.1205859375\n",
      "400\n"
     ]
    },
    {
     "name": "stderr",
     "output_type": "stream",
     "text": [
      "100%|██████████| 224/224 [00:07<00:00, 30.09it/s]\n"
     ]
    },
    {
     "name": "stdout",
     "output_type": "stream",
     "text": [
      "batch: 0.3747844875355479 0.1207265625\n",
      "500\n"
     ]
    },
    {
     "name": "stderr",
     "output_type": "stream",
     "text": [
      "100%|██████████| 224/224 [00:07<00:00, 30.13it/s]\n"
     ]
    },
    {
     "name": "stdout",
     "output_type": "stream",
     "text": [
      "batch: 0.37578759601824235 0.12329427083333333\n",
      "600\n"
     ]
    },
    {
     "name": "stderr",
     "output_type": "stream",
     "text": [
      "100%|██████████| 224/224 [00:07<00:00, 30.11it/s]\n"
     ]
    },
    {
     "name": "stdout",
     "output_type": "stream",
     "text": [
      "batch: 0.37522180158347657 0.123046875\n",
      "700\n"
     ]
    },
    {
     "name": "stderr",
     "output_type": "stream",
     "text": [
      "100%|██████████| 224/224 [00:07<00:00, 30.14it/s]\n"
     ]
    },
    {
     "name": "stdout",
     "output_type": "stream",
     "text": [
      "batch: 0.3756784259029527 0.124814453125\n",
      "800\n"
     ]
    },
    {
     "name": "stderr",
     "output_type": "stream",
     "text": [
      "100%|██████████| 224/224 [00:07<00:00, 30.04it/s]\n"
     ]
    },
    {
     "name": "stdout",
     "output_type": "stream",
     "text": [
      "batch: 0.3737462978704444 0.12170572916666667\n",
      "900\n"
     ]
    },
    {
     "name": "stderr",
     "output_type": "stream",
     "text": [
      "100%|██████████| 224/224 [00:05<00:00, 38.79it/s]\n"
     ]
    },
    {
     "name": "stdout",
     "output_type": "stream",
     "text": [
      "batch: 0.3774043236554384 0.1231372045220966\n",
      "Hellinger distance 0.3774043236554384\n",
      "Proportion of outliers 0.1231372045220966\n",
      "0\n"
     ]
    },
    {
     "name": "stderr",
     "output_type": "stream",
     "text": [
      "100%|██████████| 224/224 [00:07<00:00, 30.12it/s]\n"
     ]
    },
    {
     "name": "stdout",
     "output_type": "stream",
     "text": [
      "batch: 0.3644869728667571 0.111328125\n",
      "100\n"
     ]
    },
    {
     "name": "stderr",
     "output_type": "stream",
     "text": [
      "100%|██████████| 224/224 [00:07<00:00, 30.13it/s]\n"
     ]
    },
    {
     "name": "stdout",
     "output_type": "stream",
     "text": [
      "batch: 0.36819564219621215 0.1165625\n",
      "200\n"
     ]
    },
    {
     "name": "stderr",
     "output_type": "stream",
     "text": [
      "100%|██████████| 224/224 [00:07<00:00, 30.11it/s]\n"
     ]
    },
    {
     "name": "stdout",
     "output_type": "stream",
     "text": [
      "batch: 0.36997567716151175 0.11498697916666667\n",
      "300\n"
     ]
    },
    {
     "name": "stderr",
     "output_type": "stream",
     "text": [
      "100%|██████████| 224/224 [00:07<00:00, 30.08it/s]\n"
     ]
    },
    {
     "name": "stdout",
     "output_type": "stream",
     "text": [
      "batch: 0.3753191952138144 0.120185546875\n",
      "400\n"
     ]
    },
    {
     "name": "stderr",
     "output_type": "stream",
     "text": [
      "100%|██████████| 224/224 [00:07<00:00, 30.12it/s]\n"
     ]
    },
    {
     "name": "stdout",
     "output_type": "stream",
     "text": [
      "batch: 0.37564328386567053 0.120375\n",
      "500\n"
     ]
    },
    {
     "name": "stderr",
     "output_type": "stream",
     "text": [
      "100%|██████████| 224/224 [00:07<00:00, 30.16it/s]\n"
     ]
    },
    {
     "name": "stdout",
     "output_type": "stream",
     "text": [
      "batch: 0.3771159453266117 0.12282552083333333\n",
      "600\n"
     ]
    },
    {
     "name": "stderr",
     "output_type": "stream",
     "text": [
      "100%|██████████| 224/224 [00:07<00:00, 30.13it/s]\n"
     ]
    },
    {
     "name": "stdout",
     "output_type": "stream",
     "text": [
      "batch: 0.3753122972826001 0.12182477678571428\n",
      "700\n"
     ]
    },
    {
     "name": "stderr",
     "output_type": "stream",
     "text": [
      "100%|██████████| 224/224 [00:07<00:00, 30.06it/s]\n"
     ]
    },
    {
     "name": "stdout",
     "output_type": "stream",
     "text": [
      "batch: 0.3750790201007436 0.122939453125\n",
      "800\n"
     ]
    },
    {
     "name": "stderr",
     "output_type": "stream",
     "text": [
      "100%|██████████| 224/224 [00:07<00:00, 30.15it/s]\n"
     ]
    },
    {
     "name": "stdout",
     "output_type": "stream",
     "text": [
      "batch: 0.3730420239210404 0.11993923611111111\n",
      "900\n"
     ]
    },
    {
     "name": "stderr",
     "output_type": "stream",
     "text": [
      "100%|██████████| 224/224 [00:05<00:00, 39.00it/s]\n"
     ]
    },
    {
     "name": "stdout",
     "output_type": "stream",
     "text": [
      "batch: 0.3759250593922216 0.12070031474820143\n",
      "Hellinger distance 0.3759250593922216\n",
      "Proportion of outliers 0.12070031474820143\n",
      "0\n"
     ]
    },
    {
     "name": "stderr",
     "output_type": "stream",
     "text": [
      "100%|██████████| 224/224 [00:07<00:00, 30.12it/s]\n"
     ]
    },
    {
     "name": "stdout",
     "output_type": "stream",
     "text": [
      "batch: 0.3711468291748934 0.1092578125\n",
      "100\n"
     ]
    },
    {
     "name": "stderr",
     "output_type": "stream",
     "text": [
      "100%|██████████| 224/224 [00:07<00:00, 30.08it/s]\n"
     ]
    },
    {
     "name": "stdout",
     "output_type": "stream",
     "text": [
      "batch: 0.3726021390753276 0.11453125\n",
      "200\n"
     ]
    },
    {
     "name": "stderr",
     "output_type": "stream",
     "text": [
      "100%|██████████| 224/224 [00:07<00:00, 30.14it/s]\n"
     ]
    },
    {
     "name": "stdout",
     "output_type": "stream",
     "text": [
      "batch: 0.37233675353546547 0.11381510416666667\n",
      "300\n"
     ]
    },
    {
     "name": "stderr",
     "output_type": "stream",
     "text": [
      "100%|██████████| 224/224 [00:07<00:00, 30.14it/s]\n"
     ]
    },
    {
     "name": "stdout",
     "output_type": "stream",
     "text": [
      "batch: 0.3778293168057957 0.119873046875\n",
      "400\n"
     ]
    },
    {
     "name": "stderr",
     "output_type": "stream",
     "text": [
      "100%|██████████| 224/224 [00:07<00:00, 30.13it/s]\n"
     ]
    },
    {
     "name": "stdout",
     "output_type": "stream",
     "text": [
      "batch: 0.37676788155380947 0.1189375\n",
      "500\n"
     ]
    },
    {
     "name": "stderr",
     "output_type": "stream",
     "text": [
      "100%|██████████| 224/224 [00:07<00:00, 29.88it/s]\n"
     ]
    },
    {
     "name": "stdout",
     "output_type": "stream",
     "text": [
      "batch: 0.3770745066636248 0.12181640625\n",
      "600\n"
     ]
    },
    {
     "name": "stderr",
     "output_type": "stream",
     "text": [
      "100%|██████████| 224/224 [00:07<00:00, 30.13it/s]\n"
     ]
    },
    {
     "name": "stdout",
     "output_type": "stream",
     "text": [
      "batch: 0.377267634630964 0.12247209821428572\n",
      "700\n"
     ]
    },
    {
     "name": "stderr",
     "output_type": "stream",
     "text": [
      "100%|██████████| 224/224 [00:07<00:00, 30.14it/s]\n"
     ]
    },
    {
     "name": "stdout",
     "output_type": "stream",
     "text": [
      "batch: 0.37698233335859904 0.124443359375\n",
      "800\n"
     ]
    },
    {
     "name": "stderr",
     "output_type": "stream",
     "text": [
      "100%|██████████| 224/224 [00:07<00:00, 30.12it/s]\n"
     ]
    },
    {
     "name": "stdout",
     "output_type": "stream",
     "text": [
      "batch: 0.3754196597298964 0.12149305555555556\n",
      "900\n"
     ]
    },
    {
     "name": "stderr",
     "output_type": "stream",
     "text": [
      "100%|██████████| 224/224 [00:05<00:00, 39.01it/s]"
     ]
    },
    {
     "name": "stdout",
     "output_type": "stream",
     "text": [
      "batch: 0.3781195802568118 0.12193281089414183\n",
      "Hellinger distance 0.3781195802568118\n",
      "Proportion of outliers 0.12193281089414183\n",
      "------------------------------\n",
      "Result summary over 5 runs:\n",
      "Hellinger distance: 0.37663166669520975pm0.0009591964691363689\n",
      "Proportion of outliers: 0.12214076952723536pm0.0009031235562586983\n"
     ]
    },
    {
     "name": "stderr",
     "output_type": "stream",
     "text": [
      "\n"
     ]
    }
   ],
   "source": [
    "batch_size = 100\n",
    "\n",
    "updates_per_eval = 2\n",
    "\n",
    "eval_cfg.sampler.num_corrector_steps = 1\n",
    "eval_cfg.sampler.corrector_entry_time = 0.9\n",
    "eval_cfg.sampler.corrector_step_size_multiplier = .2\n",
    "eval_cfg.sampler.balancing_function = \"barker\"\n",
    "\n",
    "# eval_cfg.sampler.num_corrector_steps = 1\n",
    "# eval_cfg.sampler.corrector_entry_time = 0.9\n",
    "# eval_cfg.sampler.corrector_step_size_multiplier = .1\n",
    "# eval_cfg.sampler.balancing_function = \"birthdeath\"\n",
    "\n",
    "sampler = ConditionalGillespies(eval_cfg)\n",
    "test_size = test_dataset.shape[0]\n",
    "\n",
    "all_h_dists = []\n",
    "all_outlier_proportions = []\n",
    "\n",
    "num_repeats = 5\n",
    "\n",
    "tqdm._instances.clear()\n",
    "\n",
    "for _ in range(num_repeats):\n",
    "    h_dists = []\n",
    "    outlier_proportions = []\n",
    "    for start in range(0, test_size, batch_size):\n",
    "        print(start)\n",
    "        end = min(start + batch_size, test_size)\n",
    "        size = end - start\n",
    "        \n",
    "        conditioner = torch.from_numpy(test_dataset[start:end, :condition_dim]).to(device)\n",
    "        samples, _ = sampler.sample(model, size, 1, conditioner, \n",
    "                                    updates_per_eval=updates_per_eval)\n",
    "        samples = descramble(samples)\n",
    "        for i in range(size):\n",
    "            h = hellinger(descrambled_test_dataset[start+i, :], samples[i, :])\n",
    "            r = outliers(descrambled_test_dataset[start+i, :], samples[i, :])\n",
    "            h_dists.append(h)\n",
    "            outlier_proportions.append(r)\n",
    "        print(\"batch:\", np.mean(h_dists), np.mean(outlier_proportions))\n",
    "            \n",
    "    print(\"Hellinger distance\", np.mean(h_dists))\n",
    "    print(\"Proportion of outliers\", np.mean(outlier_proportions))\n",
    "    all_h_dists.append(np.mean(h_dists))\n",
    "    all_outlier_proportions.append(np.mean(outlier_proportions))\n",
    "\n",
    "print(\"------------------------------\")\n",
    "print(\"Result summary over {} runs:\".format(num_repeats))\n",
    "print(\"Hellinger distance: {}pm{}\".format(np.mean(all_h_dists), np.std(all_h_dists)))\n",
    "print(\"Proportion of outliers: {}pm{}\".format(np.mean(all_outlier_proportions), \n",
    "                                              np.std(all_outlier_proportions)))"
   ]
  },
  {
   "cell_type": "code",
   "execution_count": null,
   "metadata": {},
   "outputs": [],
   "source": [
    "# Reg transformer, 3Gillespies 1ForwardBackward\n",
    "# Result summary over 5 runs:\n",
    "# Hellinger distance: 0.3757996870517339pm0.0014687256325569174\n",
    "# Proportion of outliers: 0.12672308581706065pm0.0009465965242336641"
   ]
  },
  {
   "cell_type": "code",
   "execution_count": null,
   "metadata": {},
   "outputs": [],
   "source": [
    "# Reg transformer, 1Gillespies\n",
    "# Result summary over 5 runs:\n",
    "# Hellinger distance: 0.3737476854935375pm0.00039314107832395627\n",
    "# Proportion of outliers: 0.12352903391572456pm0.0010288232129788825"
   ]
  },
  {
   "cell_type": "code",
   "execution_count": null,
   "metadata": {},
   "outputs": [],
   "source": [
    "# HollowTransformer, 2Gillespies1Barker(.2 rate)\n",
    "# Result summary over 5 runs:\n",
    "# Hellinger distance: 0.37663166669520975pm0.0009591964691363689\n",
    "# Proportion of outliers: 0.12214076952723536pm0.0009031235562586983"
   ]
  },
  {
   "cell_type": "code",
   "execution_count": null,
   "metadata": {},
   "outputs": [],
   "source": [
    "# HollowTransformer, 3Gillespies1MPF\n",
    "# Result summary over 5 runs:\n",
    "# Hellinger distance: 0.374410925623968pm0.0006068406145371651\n",
    "# Proportion of outliers: 0.10731388103802672pm0.001071086333231973"
   ]
  },
  {
   "cell_type": "code",
   "execution_count": null,
   "metadata": {},
   "outputs": [],
   "source": [
    "# HollowTransformer, 1Gillespies\n",
    "# Result summary over 5 runs:\n",
    "# Hellinger distance: 0.37623923435865125pm0.0016456965783516663\n",
    "# Proportion of outliers: 0.12239770683453237pm0.001163738725492646"
   ]
  },
  {
   "cell_type": "code",
   "execution_count": null,
   "metadata": {},
   "outputs": [],
   "source": [
    "# HollowTransformer (deep), 2Gillespies1MPF(.05rate)\n",
    "# Result summary over 5 runs:\n",
    "# Hellinger distance: 0.3767222809039338pm0.0004504722377853942\n",
    "# Proportion of outliers: 0.10441691289825283pm0.0008855656271487037"
   ]
  },
  {
   "cell_type": "code",
   "execution_count": null,
   "metadata": {},
   "outputs": [],
   "source": [
    "# HollowTransformer (deep), 3Gillespies1MPF\n",
    "# Result summary over 5 runs:\n",
    "# Hellinger distance: 0.37741502807366767pm0.0010161391671844433\n",
    "# Proportion of outliers: 0.10295959660842754pm0.0010606355871867193"
   ]
  },
  {
   "cell_type": "code",
   "execution_count": null,
   "metadata": {},
   "outputs": [],
   "source": [
    "# HollowTransformer (deep), 1Gillespies\n",
    "# Result summary over 5 runs:\n",
    "# Hellinger distance: 0.37566751329488485pm0.0006240929477967039\n",
    "# Proportion of outliers: 0.12277267471736897pm0.0007224193533914502"
   ]
  },
  {
   "cell_type": "code",
   "execution_count": null,
   "metadata": {},
   "outputs": [],
   "source": [
    "# Hollow architecture\n",
    "# 0.3780593881848551\n",
    "# 0.12651352132579652"
   ]
  }
 ],
 "metadata": {
  "interpreter": {
   "hash": "d812279b1f0eba895e4e8fd2794363aa6926394d8f60a753ee1f119ab02f570b"
  },
  "kernelspec": {
   "display_name": "Python 3",
   "language": "python",
   "name": "python3"
  },
  "language_info": {
   "codemirror_mode": {
    "name": "ipython",
    "version": 3
   },
   "file_extension": ".py",
   "mimetype": "text/x-python",
   "name": "python",
   "nbconvert_exporter": "python",
   "pygments_lexer": "ipython3",
   "version": "3.9.0"
  }
 },
 "nbformat": 4,
 "nbformat_minor": 2
}
