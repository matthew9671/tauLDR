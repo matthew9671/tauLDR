{
 "cells": [
  {
   "cell_type": "code",
   "execution_count": 1,
   "metadata": {},
   "outputs": [],
   "source": [
    "from importlib import reload\n",
    "import sys\n",
    "sys.path.insert(0, '../')\n",
    "\n",
    "# sys.path.remove(\"/home/users/yixiuz/.local/lib/python3.9/site-packages\")\n",
    "sys.path.append(\"/home/groups/swl1/yixiuz/torch_fid/lib/python3.9/site-packages\")\n",
    "sys.path.append(\"/home/groups/swl1/yixiuz/torch_fid/bin\")"
   ]
  },
  {
   "cell_type": "code",
   "execution_count": 4,
   "metadata": {},
   "outputs": [],
   "source": [
    "# %env TORCH_USE_CUDA_DSA 1\n",
    "# %env CUDA_LAUNCH_BLOCKING 1"
   ]
  },
  {
   "cell_type": "code",
   "execution_count": 210,
   "metadata": {},
   "outputs": [
    {
     "data": {
      "text/plain": [
       "<module 'lib.sampling.sampling' from '../lib/sampling/sampling.py'>"
      ]
     },
     "execution_count": 210,
     "metadata": {},
     "output_type": "execute_result"
    }
   ],
   "source": [
    "reload(sampling_utils)\n",
    "reload(sampling)\n",
    "# reload(eval_config)\n",
    "# reload(model_utils)\n",
    "# reload(models)\n",
    "# reload(dataset_utils)\n",
    "# reload(datasets)\n",
    "# reload(eval_config)"
   ]
  },
  {
   "cell_type": "code",
   "execution_count": 211,
   "metadata": {},
   "outputs": [],
   "source": [
    "import matplotlib\n",
    "import torch\n",
    "import torch.nn as nn\n",
    "import torch.nn.functional as F\n",
    "import ml_collections\n",
    "\n",
    "import config.eval.countdown as eval_config\n",
    "# import config.eval.genes_base as eval_config\n",
    "# import config.eval.genes_hollow as eval_config\n",
    "\n",
    "import lib.utils.bookkeeping as bookkeeping\n",
    "from pathlib import Path\n",
    "import numpy as np\n",
    "import matplotlib.pyplot as plt\n",
    "\n",
    "import lib.utils.utils as utils\n",
    "import lib.models.models as models\n",
    "import lib.models.model_utils as model_utils\n",
    "import lib.datasets.datasets as datasets\n",
    "import lib.datasets.dataset_utils as dataset_utils\n",
    "import lib.sampling.sampling as sampling\n",
    "import lib.sampling.sampling_utils as sampling_utils\n",
    "\n",
    "%matplotlib inline\n",
    "\n",
    "eval_cfg = eval_config.get_config()\n",
    "train_cfg = bookkeeping.load_ml_collections(Path(eval_cfg.train_config_path))\n",
    "\n",
    "for item in eval_cfg.train_config_overrides:\n",
    "    utils.set_in_nested_dict(train_cfg, item[0], item[1])\n",
    "\n",
    "S = train_cfg.data.S\n",
    "device = torch.device(eval_cfg.device)\n",
    "# device = torch.device('cpu')\n",
    "\n",
    "model = model_utils.create_model(train_cfg, device)\n",
    "\n",
    "loaded_state = torch.load(Path(eval_cfg.checkpoint_path),\n",
    "    map_location=device)\n",
    "\n",
    "modified_model_state = utils.remove_module_from_keys(loaded_state['model'])\n",
    "model.load_state_dict(modified_model_state)\n",
    "\n",
    "model.eval()\n",
    "\n",
    "dataset = dataset_utils.get_dataset(eval_cfg, device)\n",
    "data = dataset.data"
   ]
  },
  {
   "cell_type": "code",
   "execution_count": 212,
   "metadata": {
    "collapsed": true
   },
   "outputs": [
    {
     "ename": "ImportError",
     "evalue": "cannot import name 'eval_mse_stats' from 'eval' (../eval.py)",
     "output_type": "error",
     "traceback": [
      "\u001b[0;31m---------------------------------------------------------------------------\u001b[0m",
      "\u001b[0;31mImportError\u001b[0m                               Traceback (most recent call last)",
      "\u001b[0;32m/tmp/ipykernel_38860/2904199065.py\u001b[0m in \u001b[0;36m<module>\u001b[0;34m\u001b[0m\n\u001b[0;32m----> 1\u001b[0;31m \u001b[0;32mfrom\u001b[0m \u001b[0meval\u001b[0m \u001b[0;32mimport\u001b[0m \u001b[0mcount_mistakes\u001b[0m\u001b[0;34m,\u001b[0m \u001b[0mget_dist\u001b[0m\u001b[0;34m,\u001b[0m \u001b[0mhellinger\u001b[0m\u001b[0;34m,\u001b[0m \u001b[0meval_mse_stats\u001b[0m\u001b[0;34m\u001b[0m\u001b[0;34m\u001b[0m\u001b[0m\n\u001b[0m",
      "\u001b[0;31mImportError\u001b[0m: cannot import name 'eval_mse_stats' from 'eval' (../eval.py)"
     ]
    }
   ],
   "source": [
    "from eval import count_mistakes, get_dist, hellinger, eval_mse_stats"
   ]
  },
  {
   "cell_type": "code",
   "execution_count": 8,
   "metadata": {},
   "outputs": [],
   "source": [
    "# def count_mistakes(samples):\n",
    "#     \"\"\"\n",
    "#     sample: (N, L, S)\n",
    "#     \"\"\"\n",
    "#     num_positions = samples.shape[0] * samples.shape[1]\n",
    "#     return (np.sum(((samples[:,:-1] - samples[:,1:]) != 1) * (samples[:,:-1] != 0))) / num_positions\n",
    "\n",
    "# def get_dist(seq, S):\n",
    "#     L = seq.shape[0]\n",
    "#     one_hot = np.zeros((L, S))\n",
    "#     seq = np.array(seq, dtype=int)\n",
    "#     one_hot[np.arange(L), seq] = 1\n",
    "#     return np.sum(one_hot, axis=0) / L\n",
    "\n",
    "# def hellinger(seq1, seq2, S):\n",
    "#     d1, d2 = get_dist(seq1, S), get_dist(seq2, S)\n",
    "#     return np.sqrt(.5 * np.sum((d1 ** .5 - d2 ** .5) ** 2))"
   ]
  },
  {
   "cell_type": "code",
   "execution_count": 9,
   "metadata": {},
   "outputs": [],
   "source": [
    "# from scipy.stats import skew, kurtosis\n",
    "\n",
    "# # TODO: add autocorrelation?\n",
    "# def eval_mse_stats(dataset, samples):\n",
    "    \n",
    "#     true_samples = dataset.data.cpu().numpy()\n",
    "#     samples = np.clip(samples, 0, S-2)\n",
    "\n",
    "#     true_samples_scaled = dataset.rescale(true_samples)\n",
    "#     samples_scaled = dataset.rescale(samples)\n",
    "\n",
    "#     out = {\n",
    "#         \"mean\": np.mean(\n",
    "#             (np.mean(samples_scaled, axis=0) \n",
    "#            - np.mean(true_samples_scaled, axis=0))**2\n",
    "#         ),\n",
    "#         \"variance\": np.mean(\n",
    "#             (np.var(samples_scaled, axis=0) \n",
    "#            - np.var(true_samples_scaled, axis=0))**2\n",
    "#         ),\n",
    "#         \"skewness\": np.mean(\n",
    "#             (skew(samples_scaled) \n",
    "#            - skew(true_samples_scaled))**2\n",
    "#         ),\n",
    "#         \"kurtosis\": np.mean(\n",
    "#             (kurtosis(samples_scaled) \n",
    "#            - kurtosis(true_samples_scaled))**2\n",
    "#         ),\n",
    "#     }\n",
    "\n",
    "#     return out"
   ]
  },
  {
   "cell_type": "markdown",
   "metadata": {},
   "source": [
    "# Define and simplify the samplers"
   ]
  },
  {
   "cell_type": "code",
   "execution_count": 10,
   "metadata": {},
   "outputs": [],
   "source": [
    "from lib.sampling.sampling import compute_backward, get_initial_samples"
   ]
  },
  {
   "cell_type": "code",
   "execution_count": 17,
   "metadata": {},
   "outputs": [],
   "source": [
    "# Implement Gillespie's Algorithm\n",
    "# The basic idea is that, each dimension has a transition holding time that we know.\n",
    "# we'll just sample a holding time for each dimension, and take the smallest one to figure out the dimension of transition\n",
    "# After figuring out which dimension to make the transition in, the rest is simple: \n",
    "# we simply transition to the state according to the conditional probability\n",
    "from tqdm import trange, tqdm\n",
    "\n",
    "# class PCMultiGillespies():\n",
    "#     def __init__(self, cfg):\n",
    "#         self.cfg =cfg\n",
    "\n",
    "#     def sample(self, model, N, num_intermediates=0, updates_per_eval=1):\n",
    "#         t = 1.0\n",
    "#         D = np.prod(self.cfg.data.shape)\n",
    "#         S = self.cfg.data.S\n",
    "#         scfg = self.cfg.sampler\n",
    "#         num_steps = scfg.num_steps\n",
    "#         min_t = scfg.min_t\n",
    "#         eps_ratio = scfg.eps_ratio\n",
    "#         initial_dist = scfg.initial_dist\n",
    "        \n",
    "#         num_corrector_steps = scfg.num_corrector_steps\n",
    "#         corrector_step_size_multiplier = scfg.corrector_step_size_multiplier\n",
    "#         corrector_entry_time = scfg.corrector_entry_time\n",
    "#         if scfg.balancing_function == \"barker\":\n",
    "#             balancing_function = lambda score: score / (1 + score) \n",
    "#         elif scfg.balancing_function == \"mpf\":\n",
    "#             balancing_function = lambda score: torch.sqrt(score)\n",
    "#         elif scfg.balancing_function == \"birthdeath\":\n",
    "#             balancing_function = None\n",
    "#         else:\n",
    "#             print(\"Balancing function not found: \" + scfg.balancing_function)\n",
    "#             return\n",
    "        \n",
    "#         if initial_dist == 'gaussian':\n",
    "#             initial_dist_std  = model.Q_sigma\n",
    "#         else:\n",
    "#             initial_dist_std = None\n",
    "#         device = model.device\n",
    "\n",
    "#         # Now the batch is not syncronized anymore\n",
    "#         ts = t * torch.ones((N,), device=device)\n",
    "#         update_mask = ts > min_t\n",
    "#         num_updates = 0\n",
    "        \n",
    "#         with torch.no_grad():\n",
    "#             x = get_initial_samples(N, D, device, S, initial_dist,\n",
    "#                 initial_dist_std)\n",
    "\n",
    "#             x_hist = []\n",
    "#             x0_hist = []\n",
    "            \n",
    "#             pbar = tqdm(total=D)\n",
    "#             while num_updates < D:\n",
    "\n",
    "#                 # Compute backward transition rate\n",
    "#                 qt0 = model.transition(ts) # (N, S, S)\n",
    "#                 rate = model.rate(ts) # (N, S, S)\n",
    "\n",
    "#                 p0t = F.softmax(model(x, ts), dim=2) # (N, D, S)\n",
    "\n",
    "#                 Rf, RfT, Rb, x_0max, scores = compute_backward(qt0, rate, p0t, x)\n",
    "#                 # Rb: (N, D, S)\n",
    "#                 Rb[torch.arange(N, device=device).repeat_interleave(D),\n",
    "#                    torch.arange(D, device=device).repeat(N),\n",
    "#                    x.long().flatten()] = eps_ratio\n",
    "            \n",
    "#                 # Compute total rate (N, D)\n",
    "#                 Rb_sum = torch.sum(Rb, axis=2)\n",
    "#                 # Sample a holding time (N, D)\n",
    "#                 taus = torch.distributions.Exponential(Rb_sum).sample()\n",
    "#                 # Find the position of the shortest holding time for each dimension (N,)\n",
    "#                 ids_sorted = torch.argsort(taus, axis=1)\n",
    "#                 dts = torch.zeros((N,), device=device)\n",
    "                \n",
    "#                 for update in range(updates_per_eval):\n",
    "#                     # Make one round of updates\n",
    "#                     ids = ids_sorted[:, update]\n",
    "#                     # (N,)\n",
    "#                     dts = taus[torch.arange(N, device=device), ids] - dts\n",
    "\n",
    "#                     # Rates given the dimensions of transition (N, S)\n",
    "#                     rates_single = Rb[torch.arange(N, device=device),ids]\n",
    "#                     # Total rate given the dimensions of transition (N, 1)\n",
    "#                     rates_sum_single = torch.unsqueeze(Rb_sum[torch.arange(N, device=device),ids], 1)\n",
    "#                     # The targets of transition (N,)\n",
    "#                     updates = torch.multinomial(rates_single / rates_sum_single, 1)[:,0]\n",
    "#                     # Update ts\n",
    "#                     update_mask = update_mask & ((ts - dts * update_mask) > min_t)\n",
    "#                     ts -= dts * update_mask\n",
    "#                     # Update x\n",
    "#                     original = x[torch.arange(N, device=device), ids]\n",
    "#                     x[torch.arange(N, device=device), ids] = updates * update_mask + original * (~update_mask)\n",
    "#                     num_updates += 1\n",
    "#                     pbar.update(1)\n",
    "                    \n",
    "#                 def get_rates(in_x, in_t):\n",
    "#                     qt0 = model.transition(in_t) # (N, S, S)\n",
    "#                     rate = model.rate(in_t) # (N, S, S)\n",
    "\n",
    "#                     p0t = F.softmax(model(in_x, in_t), dim=2) # (N, D, S)\n",
    "\n",
    "#                     denom_x = torch.ones_like(in_x) * (S-1)\n",
    "\n",
    "#                     forward_rates, transpose_forward_rates, reverse_rates, x_0max, scores = compute_backward(qt0, rate, p0t, in_x, denom_x=denom_x, eps=eps_ratio)\n",
    "                    \n",
    "#                     mask_positions = in_x == (S-1)\n",
    "#                     nonmask_positions = ~mask_positions\n",
    "\n",
    "#                     backward_score_to_curr = scores[\n",
    "#                         torch.arange(N, device=device).repeat_interleave(D),\n",
    "#                         torch.arange(D, device=device).repeat(N),\n",
    "#                         in_x.long().flatten()\n",
    "#                     ].view(N,D)\n",
    "#                     forward_score_from_curr = 1 / (backward_score_to_curr * nonmask_positions + mask_positions)\n",
    "#                     forward_score_from_curr *= nonmask_positions\n",
    "\n",
    "#                     scores = scores * mask_positions.unsqueeze(2)\n",
    "#                     scores[:,:,S-1] = forward_score_from_curr\n",
    "                    \n",
    "#                     forward_rates[\n",
    "#                         torch.arange(N, device=device).repeat_interleave(D),\n",
    "#                         torch.arange(D, device=device).repeat(N),\n",
    "#                         in_x.long().flatten()\n",
    "#                     ] = 0.0 \n",
    "#                     reverse_rates[\n",
    "#                         torch.arange(N, device=device).repeat_interleave(D),\n",
    "#                         torch.arange(D, device=device).repeat(N),\n",
    "#                         in_x.long().flatten()\n",
    "#                     ] = 0.0 \n",
    "                    \n",
    "#                     return forward_rates, transpose_forward_rates, reverse_rates, x_0max, scores\n",
    "                    \n",
    "#                 def take_poisson_step(in_x, in_reverse_rates, in_h):\n",
    "#                     diffs = torch.arange(S, device=device).view(1,1,S) - in_x.view(N,D,1)\n",
    "#                     poisson_dist = torch.distributions.poisson.Poisson(in_reverse_rates * in_h)\n",
    "#                     jump_nums = poisson_dist.sample()\n",
    "#                     adj_diffs = jump_nums * diffs\n",
    "#                     overall_jump = torch.sum(adj_diffs, dim=2)\n",
    "#                     unclip_x_new = in_x + overall_jump\n",
    "#                     x_new = torch.clamp(unclip_x_new, min=0, max=S-1)\n",
    "\n",
    "#                     return x_new\n",
    "\n",
    "#                 if num_updates >= (1-corrector_entry_time) * D:\n",
    "                    \n",
    "#                     h = 1/D\n",
    "                    \n",
    "#                     for cstep in range(num_corrector_steps):\n",
    "#                         forward_rates, transpose_forward_rates, reverse_rates, _, scores = get_rates(x, ts) # ts-h?\n",
    "#                         if balancing_function is None:\n",
    "#                             # We're using the default corrector\n",
    "#                             # which corresponds to birth-death Stein operator\n",
    "#                             corrector_rate = transpose_forward_rates + reverse_rates\n",
    "#                         else:\n",
    "#                             # We removed the one half here because it makes more sense for the absorbing\n",
    "#                             corrector_rate = (transpose_forward_rates + forward_rates) * balancing_function(scores)\n",
    "#                         # Only update dimensions with \n",
    "#                         corrector_rate *= update_mask.unsqueeze(1).unsqueeze(1)\n",
    "                            \n",
    "#                         corrector_rate[\n",
    "#                             torch.arange(N, device=device).repeat_interleave(D),\n",
    "#                             torch.arange(D, device=device).repeat(N),\n",
    "#                             x.long().flatten()\n",
    "#                         ] = 0.0\n",
    "\n",
    "#                         x = take_poisson_step(x, corrector_rate, \n",
    "#                             corrector_step_size_multiplier * h)\n",
    "\n",
    "#             p_0gt = F.softmax(model(x, min_t * torch.ones((N,), device=device)), dim=2) # (N, D, S)\n",
    "#             x_0max = torch.max(p_0gt, dim=2)[1]\n",
    "\n",
    "#             mask_positions = x == (S-1)\n",
    "#             nonmask_positions = ~mask_positions\n",
    "#             samples = nonmask_positions * x + mask_positions * x_0max\n",
    "            \n",
    "#             out = {\n",
    "#                 \"ts\": ts.cpu().numpy()\n",
    "#             }\n",
    "            \n",
    "#             return samples.detach().cpu().numpy().astype(int), out"
   ]
  },
  {
   "cell_type": "markdown",
   "metadata": {},
   "source": [
    "# Perform multiple sampling runs and record results"
   ]
  },
  {
   "cell_type": "code",
   "execution_count": 18,
   "metadata": {},
   "outputs": [],
   "source": [
    "import pandas as pd\n",
    "import os\n",
    "import matplotlib.pyplot as plt\n",
    "\n",
    "def save_results(new_results, file_name):\n",
    "\n",
    "    # Convert the new results to a DataFrame\n",
    "    new_results_df = pd.DataFrame(new_results)\n",
    "\n",
    "    # Check if the results file already exists\n",
    "    if os.path.exists(file_name):\n",
    "        # If the file exists, read the existing data\n",
    "        existing_results_df = pd.read_csv(file_name)\n",
    "        # Append the new results to the existing data\n",
    "        updated_results_df = pd.concat([existing_results_df, new_results_df], ignore_index=True)\n",
    "    else:\n",
    "        # If the file does not exist, the new results are the updated results\n",
    "        updated_results_df = new_results_df\n",
    "\n",
    "    # Save the updated results to the file\n",
    "    updated_results_df.to_csv(file_name, index=False)\n",
    "\n",
    "    print(\"Experiment results saved to \", file_name)"
   ]
  },
  {
   "cell_type": "code",
   "execution_count": 161,
   "metadata": {},
   "outputs": [],
   "source": [
    "from matplotlib.ticker import ScalarFormatter\n",
    "\n",
    "def make_plot(file_name, metric, tag_filters=None):\n",
    "    results_df = pd.read_csv(file_name)\n",
    "\n",
    "#     tags = ['tauleaping-1', 'gillespies-1']\n",
    "#     filtered_df = df[df['tag'].isin(tags)]\n",
    "\n",
    "#     assert(False)\n",
    "\n",
    "    if tag_filters is not None:\n",
    "        results_df = results_df[results_df['tag'].isin(tags)]\n",
    "    \n",
    "    \n",
    "    \n",
    "    # Group data by method and cost\n",
    "    grouped = results_df.groupby(['tag', 'nfe'])\n",
    "\n",
    "    # Calculate mean and standard deviation for metric1\n",
    "    mean_metric1 = grouped[metric].mean().unstack()\n",
    "    std_metric1 = grouped[metric].std().unstack()\n",
    "\n",
    "    \n",
    "    # Plot the mean metric1 with cost on x-axis\n",
    "#     plt.figure()\n",
    "    fig, ax = plt.subplots(figsize=(10, 6))\n",
    "    for tag in mean_metric1.index:\n",
    "        print(tag)\n",
    "        mean_values = mean_metric1.loc[tag].dropna()\n",
    "        std_values = std_metric1.loc[tag].dropna()\n",
    "         \n",
    "        h = ax.plot(mean_values.index, mean_values, label=f'{tag}')[0]\n",
    "        ax.scatter(mean_values.index, mean_values, s=10, color=h.get_color())\n",
    "        ax.fill_between(mean_values.index, \n",
    "                         mean_values - std_values, \n",
    "                         mean_values + std_values, \n",
    "                         alpha=0.2)\n",
    "\n",
    "    plt.xscale('log')\n",
    "#     plt.yscale('log')\n",
    "    plt.xlabel('NFE')\n",
    "    if metric == 'h_dist':\n",
    "        plt.ylabel('Hellinger Distance')\n",
    "    elif metric == 'error_rate':\n",
    "        plt.ylabel('Proportion of Errors')\n",
    "#     plt.title('Mean Metric 1 vs Cost for Different Methods')\n",
    "    plt.legend()\n",
    "    plt.grid(True)\n",
    "    plt.xticks([64, 128, 256, 512, 1024])\n",
    "    for axis in [ax.xaxis, ax.yaxis]:\n",
    "        axis.set_major_formatter(ScalarFormatter())\n",
    "    fig.set_facecolor(\"white\")\n",
    "    ax.set_facecolor(\"white\")\n",
    "    plt.show()"
   ]
  },
  {
   "cell_type": "code",
   "execution_count": 124,
   "metadata": {},
   "outputs": [],
   "source": [
    "\n",
    "# Define a function to create tags based on the method and c_steps\n",
    "def create_tag(row):\n",
    "    return f\"{row['method']}-{row['c_steps']}-{row['corrector']}-{row['c_stepsize']}\"\n",
    "\n",
    "def update_tags(file_name):\n",
    "    # Read the existing data\n",
    "    if os.path.exists(file_name):\n",
    "        df = pd.read_csv(file_name)\n",
    "    else:\n",
    "        raise FileNotFoundError(f\"{file_name} does not exist.\")\n",
    "\n",
    "    \n",
    "\n",
    "    # Apply the tag function to each row\n",
    "    df['tag'] = df.apply(create_tag, axis=1)\n",
    "\n",
    "    # Save the updated data back to the CSV file\n",
    "    df.to_csv(file_name, index=False)\n",
    "\n",
    "    print(\"Tags added and results saved to\", file_name)\n",
    "    \n"
   ]
  },
  {
   "cell_type": "code",
   "execution_count": 216,
   "metadata": {},
   "outputs": [
    {
     "data": {
      "text/plain": [
       "'gillespies'"
      ]
     },
     "execution_count": 216,
     "metadata": {},
     "output_type": "execute_result"
    }
   ],
   "source": [
    "method"
   ]
  },
  {
   "cell_type": "code",
   "execution_count": 367,
   "metadata": {},
   "outputs": [
    {
     "name": "stderr",
     "output_type": "stream",
     "text": [
      "100%|██████████| 256/256 [00:25<00:00, 10.19it/s]\n"
     ]
    },
    {
     "name": "stdout",
     "output_type": "stream",
     "text": [
      "{'method': 'gillespies', 'g_steps': 1, 'tau_steps': 0, 'use_corrector': True, 'corrector': 'mpf', 'c_stepsize': 2.0, 'c_steps': 1, 'nfe': 486.4, 'h_dist': 0.04693287602723913, 'error_rate': 0.0011328125}\n"
     ]
    },
    {
     "name": "stderr",
     "output_type": "stream",
     "text": [
      "100%|██████████| 256/256 [00:25<00:00, 10.18it/s]\n"
     ]
    },
    {
     "name": "stdout",
     "output_type": "stream",
     "text": [
      "{'method': 'gillespies', 'g_steps': 1, 'tau_steps': 0, 'use_corrector': True, 'corrector': 'mpf', 'c_stepsize': 2.0, 'c_steps': 1, 'nfe': 486.4, 'h_dist': 0.049261120848757126, 'error_rate': 0.00109375}\n"
     ]
    },
    {
     "name": "stderr",
     "output_type": "stream",
     "text": [
      "100%|██████████| 256/256 [00:25<00:00, 10.20it/s]\n"
     ]
    },
    {
     "name": "stdout",
     "output_type": "stream",
     "text": [
      "{'method': 'gillespies', 'g_steps': 1, 'tau_steps': 0, 'use_corrector': True, 'corrector': 'mpf', 'c_stepsize': 2.0, 'c_steps': 1, 'nfe': 486.4, 'h_dist': 0.0447853136779277, 'error_rate': 0.0011328125}\n",
      "Experiment results saved to  countdown_results_fixed.csv\n",
      "Tags added and results saved to countdown_results_fixed.csv\n"
     ]
    }
   ],
   "source": [
    "tqdm._instances.clear()\n",
    "\n",
    "results_file = 'countdown_results_fixed.csv'\n",
    "\n",
    "num_repeats = 3\n",
    "\n",
    "sample_size = 100\n",
    "method = \"gillespies\"\n",
    "# method = \"tauleaping\"\n",
    "\n",
    "# Gillespies only\n",
    "updates_per_eval = 1\n",
    "# Tau-leaping only\n",
    "eval_cfg.sampler.num_steps = 200\n",
    "\n",
    "# Generic corrector fields\n",
    "eval_cfg.sampler.num_corrector_steps = 1\n",
    "eval_cfg.sampler.corrector_entry_time = 0.9\n",
    "eval_cfg.sampler.corrector_step_size_multiplier = 2.\n",
    "eval_cfg.sampler.balancing_function = \"mpf\"\n",
    "\n",
    "if method == \"gillespies\":\n",
    "    eval_cfg.sampler.name = \"PCMultiGillespies\"\n",
    "#     sampler = PCMultiGillespies(eval_cfg)\n",
    "elif method == \"tauleaping\":\n",
    "    eval_cfg.sampler.name = \"PCTauLeapingAbsorbingInformed\"\n",
    "else:\n",
    "    assert(False)\n",
    "\n",
    "sampler = sampling_utils.get_sampler(eval_cfg)\n",
    "    \n",
    "results = []\n",
    "\n",
    "for _ in range(num_repeats):\n",
    "    if method == \"gillespies\":\n",
    "        samples, out = sampler.sample(model, sample_size, updates_per_eval=updates_per_eval)\n",
    "    elif method == \"tauleaping\":\n",
    "        samples, out = sampler.sample(model, sample_size, 0)\n",
    "\n",
    "    data_flat = dataset.data.flatten().cpu().numpy()\n",
    "    h_dist = hellinger(data_flat, samples.flatten(), eval_cfg.data.S)\n",
    "    error_rate = count_mistakes(samples)\n",
    "\n",
    "    D = eval_cfg.data.shape[0]\n",
    "    if method == \"gillespies\":\n",
    "        nfe = D / updates_per_eval\n",
    "    elif method == \"tauleaping\":\n",
    "        nfe = eval_cfg.sampler.num_steps\n",
    "    nfe += nfe * eval_cfg.sampler.corrector_entry_time * eval_cfg.sampler.num_corrector_steps\n",
    "\n",
    "    new_result = {\n",
    "                'method': method,\n",
    "                'g_steps': 0 if method != \"gillespies\" else updates_per_eval,\n",
    "                'tau_steps': 0 if method != \"tauleaping\" else eval_cfg.sampler.num_steps,\n",
    "                'use_corrector': eval_cfg.sampler.corrector_entry_time > 0 \n",
    "                             and eval_cfg.sampler.num_corrector_steps > 0,\n",
    "                'corrector': eval_cfg.sampler.balancing_function,\n",
    "                'c_stepsize': eval_cfg.sampler.corrector_step_size_multiplier,\n",
    "                'c_steps': eval_cfg.sampler.num_corrector_steps,\n",
    "                'nfe': nfe,\n",
    "                'h_dist': h_dist,\n",
    "                'error_rate': error_rate,\n",
    "            }\n",
    "    print(new_result)\n",
    "    results.append(new_result)\n",
    "    \n",
    "save_results(results, results_file)\n",
    "update_tags(results_file)"
   ]
  },
  {
   "cell_type": "code",
   "execution_count": 376,
   "metadata": {},
   "outputs": [
    {
     "name": "stdout",
     "output_type": "stream",
     "text": [
      "<lib.sampling.sampling.PCMultiGillespies object at 0x7f2ab7fd5400>\n"
     ]
    }
   ],
   "source": [
    "# tags = [\n",
    "#     \"gillespies-1-birthdeath-0.1\",\n",
    "#     \"gillespies-2-birthdeath-0.1\",\n",
    "#     \"tauleaping-1-birthdeath-0.1\",\n",
    "#     \"tauleaping-2-birthdeath-0.1\"\n",
    "# ]\n",
    "tags = [\n",
    "#     \"gillespies-1-mpf-0.1\", \"gillespies-2-mpf-0.1\",\n",
    "#         \"gillespies-1-mpf-1.0\", \"gillespies-2-mpf-1.0\",\n",
    "    \"gillespies-1-mpf-2.0\", \"gillespies-2-mpf-2.0\",\n",
    "#     \"tauleaping-1-mpf-0.1\", \"tauleaping-2-mpf-0.1\",\n",
    "#     \"tauleaping-1-mpf-1.0\", \"tauleaping-2-mpf-1.0\",\n",
    "    \"tauleaping-1-mpf-2.0\", \"tauleaping-2-mpf-2.0\"\n",
    "]\n",
    "# tags = [\n",
    "#     \"gillespies-1-barker-1.0\", \"gillespies-2-barker-1.0\",\n",
    "#     \"tauleaping-1-barker-1.0\", \"tauleaping-2-barker-1.0\"\n",
    "# ]\n",
    "# tags = None\n",
    "print(sampler)"
   ]
  },
  {
   "cell_type": "code",
   "execution_count": 377,
   "metadata": {},
   "outputs": [
    {
     "name": "stdout",
     "output_type": "stream",
     "text": [
      "Tags added and results saved to countdown_results_fixed.csv\n",
      "gillespies-1-mpf-2.0\n",
      "gillespies-2-mpf-2.0\n",
      "tauleaping-1-mpf-2.0\n",
      "tauleaping-2-mpf-2.0\n"
     ]
    },
    {
     "data": {
      "image/png": "[encoded data removed]",
      "text/plain": [
       "<Figure size 720x432 with 1 Axes>"
      ]
     },
     "metadata": {},
     "output_type": "display_data"
    },
    {
     "name": "stdout",
     "output_type": "stream",
     "text": [
      "gillespies-1-mpf-2.0\n",
      "gillespies-2-mpf-2.0\n",
      "tauleaping-1-mpf-2.0\n",
      "tauleaping-2-mpf-2.0\n"
     ]
    },
    {
     "data": {
      "image/png": "[encoded data removed]",
      "text/plain": [
       "<Figure size 720x432 with 1 Axes>"
      ]
     },
     "metadata": {},
     "output_type": "display_data"
    }
   ],
   "source": [
    "update_tags(results_file)\n",
    "make_plot(results_file, 'error_rate', tag_filters=tags)\n",
    "make_plot(results_file, 'h_dist', tag_filters=tags)"
   ]
  },
  {
   "cell_type": "code",
   "execution_count": 325,
   "metadata": {},
   "outputs": [],
   "source": [
    "# existing_results_df = pd.read_csv(\"countdown_results_test.csv\")\n",
    "# existing_results_df = existing_results_df[existing_results_df[\"method\"]==\"gillespies\"]\n",
    "# fixed_results_df = pd.read_csv(results_file)\n",
    "# updated_results_df = pd.concat([existing_results_df, fixed_results_df], ignore_index=True)\n",
    "# updated_results_df.to_csv(results_file, index=False)"
   ]
  },
  {
   "cell_type": "code",
   "execution_count": 268,
   "metadata": {},
   "outputs": [
    {
     "data": {
      "text/plain": [
       "S: 33\n",
       "batch_size: 64\n",
       "data_size: 6400\n",
       "name: Countdown\n",
       "shape:\n",
       "- 256\n",
       "shuffle: true"
      ]
     },
     "execution_count": 268,
     "metadata": {},
     "output_type": "execute_result"
    }
   ],
   "source": [
    "eval_cfg.data"
   ]
  },
  {
   "cell_type": "code",
   "execution_count": 258,
   "metadata": {},
   "outputs": [],
   "source": [
    "id = 0"
   ]
  },
  {
   "cell_type": "code",
   "execution_count": 137,
   "metadata": {},
   "outputs": [
    {
     "data": {
      "text/plain": [
       "<matplotlib.image.AxesImage at 0x7f73d912d7f0>"
      ]
     },
     "execution_count": 137,
     "metadata": {},
     "output_type": "execute_result"
    },
    {
     "data": {
      "image/png": "[encoded data removed]",
      "text/plain": [
       "<Figure size 1440x720 with 1 Axes>"
      ]
     },
     "metadata": {
      "needs_background": "light"
     },
     "output_type": "display_data"
    }
   ],
   "source": [
    "id += 1\n",
    "plt.figure(figsize=(20, 10))\n",
    "plt.imshow(F.one_hot(torch.tensor(samples[id]), S).T)"
   ]
  },
  {
   "cell_type": "code",
   "execution_count": 128,
   "metadata": {},
   "outputs": [
    {
     "name": "stdout",
     "output_type": "stream",
     "text": [
      "0.0056640625\n"
     ]
    }
   ],
   "source": [
    "print(count_mistakes(samples))"
   ]
  },
  {
   "cell_type": "code",
   "execution_count": 129,
   "metadata": {},
   "outputs": [],
   "source": [
    "data_flat = dataset.data.flatten().cpu().numpy()\n",
    "samples_flat = samples.flatten()"
   ]
  },
  {
   "cell_type": "code",
   "execution_count": 130,
   "metadata": {},
   "outputs": [
    {
     "data": {
      "text/plain": [
       "0.027636434019605142"
      ]
     },
     "execution_count": 130,
     "metadata": {},
     "output_type": "execute_result"
    }
   ],
   "source": [
    "def get_dist(seq, S):\n",
    "    L = seq.shape[0]\n",
    "    one_hot = np.zeros((L, S))\n",
    "    seq = np.array(seq, dtype=int)\n",
    "    one_hot[np.arange(L), seq] = 1\n",
    "    return np.sum(one_hot, axis=0) / L\n",
    "\n",
    "def hellinger(seq1, seq2, S):\n",
    "    d1, d2 = get_dist(seq1, S), get_dist(seq2, S)\n",
    "    return np.sqrt(.5 * np.sum((d1 ** .5 - d2 ** .5) ** 2))\n",
    "\n",
    "hellinger(data_flat, samples_flat, eval_cfg.data.S)"
   ]
  },
  {
   "cell_type": "markdown",
   "metadata": {},
   "source": [
    "# Take the samples"
   ]
  },
  {
   "cell_type": "code",
   "execution_count": 10,
   "metadata": {
    "scrolled": true
   },
   "outputs": [
    {
     "name": "stdout",
     "output_type": "stream",
     "text": [
      "<lib.sampling.sampling.PCTauLeapingAbsorbingInformed object at 0x7f7858702370>\n"
     ]
    },
    {
     "name": "stderr",
     "output_type": "stream",
     "text": [
      "499it [01:14,  6.69it/s]\n"
     ]
    }
   ],
   "source": [
    "num_samples = 100\n",
    "eval_cfg.sampler.name = 'PCTauLeapingAbsorbingInformed'\n",
    "eval_cfg.sampler.corrector_step_size_multiplier = 2.\n",
    "eval_cfg.sampler.balancing_function = \"mpf\"\n",
    "sampler = sampling_utils.get_sampler(eval_cfg)\n",
    "print(sampler)\n",
    "samples, hist = sampler.sample(model, num_samples, 500,)"
   ]
  },
  {
   "cell_type": "code",
   "execution_count": 11,
   "metadata": {},
   "outputs": [],
   "source": [
    "x_hist = hist[\"x\"]\n",
    "x0_hist = hist[\"x0\"]\n",
    "c_rate_hist = hist[\"rc\"]"
   ]
  },
  {
   "cell_type": "code",
   "execution_count": 12,
   "metadata": {},
   "outputs": [
    {
     "name": "stdout",
     "output_type": "stream",
     "text": [
      "0.0005078125\n",
      "0.0005078125\n"
     ]
    }
   ],
   "source": [
    "# patch: process the samples by combining model prediction and current location\n",
    "print(count_mistakes(samples))\n",
    "is_mask = x_hist[-1] == (S-1)\n",
    "corrected_samples = is_mask * samples + (1 - is_mask) * x_hist[-1]\n",
    "print(count_mistakes(corrected_samples))"
   ]
  },
  {
   "cell_type": "code",
   "execution_count": 15,
   "metadata": {},
   "outputs": [
    {
     "data": {
      "text/plain": [
       "balancing_function: mpf\n",
       "corrector_entry_time: 0.9\n",
       "corrector_step_size_multiplier: 2.0\n",
       "eps_ratio: 1.0e-09\n",
       "initial_dist: absorbing\n",
       "min_t: 0.01\n",
       "name: PCTauLeapingAbsorbingInformed\n",
       "num_corrector_steps: 2\n",
       "num_steps: 500\n",
       "reject_multiple_jumps: true"
      ]
     },
     "execution_count": 15,
     "metadata": {},
     "output_type": "execute_result"
    }
   ],
   "source": [
    "eval_cfg.sampler"
   ]
  },
  {
   "cell_type": "code",
   "execution_count": 20,
   "metadata": {},
   "outputs": [
    {
     "data": {
      "text/plain": [
       "0.04670345126994198"
      ]
     },
     "execution_count": 20,
     "metadata": {},
     "output_type": "execute_result"
    }
   ],
   "source": [
    "data_flat = dataset.data.flatten().cpu().numpy()\n",
    "# samples_flat = corrected_samples.flatten()\n",
    "hellinger(data_flat, samples_flat, eval_cfg.data.S-1)"
   ]
  },
  {
   "cell_type": "markdown",
   "metadata": {},
   "source": [
    "# Examine the samples"
   ]
  },
  {
   "cell_type": "code",
   "execution_count": 21,
   "metadata": {},
   "outputs": [
    {
     "data": {
      "text/plain": [
       "2.0"
      ]
     },
     "execution_count": 21,
     "metadata": {},
     "output_type": "execute_result"
    }
   ],
   "source": [
    "eval_cfg.sampler.corrector_step_size_multiplier"
   ]
  },
  {
   "cell_type": "code",
   "execution_count": 22,
   "metadata": {},
   "outputs": [],
   "source": [
    "x_hist = hist[\"x\"]\n",
    "x0_hist = hist[\"x0\"]\n",
    "c_rate_hist = hist[\"rc\"]"
   ]
  },
  {
   "cell_type": "code",
   "execution_count": 24,
   "metadata": {},
   "outputs": [],
   "source": [
    "# np.sum(((samples[id,:-1] - samples[id,1:]) != 1) * (samples[id,:-1] != 0))"
   ]
  },
  {
   "cell_type": "code",
   "execution_count": 25,
   "metadata": {},
   "outputs": [],
   "source": [
    "l = -1\n",
    "id = -1"
   ]
  },
  {
   "cell_type": "code",
   "execution_count": 27,
   "metadata": {},
   "outputs": [
    {
     "data": {
      "text/plain": [
       "<matplotlib.image.AxesImage at 0x7f772019a610>"
      ]
     },
     "execution_count": 27,
     "metadata": {},
     "output_type": "execute_result"
    },
    {
     "data": {
      "image/png": "[encoded data removed]",
      "text/plain": [
       "<Figure size 1440x720 with 1 Axes>"
      ]
     },
     "metadata": {
      "needs_background": "light"
     },
     "output_type": "display_data"
    }
   ],
   "source": [
    "id += 1\n",
    "plt.figure(figsize=(20, 10))\n",
    "plt.imshow(F.one_hot(torch.tensor(x_hist[-1, id]), S).T)"
   ]
  },
  {
   "cell_type": "code",
   "execution_count": 40,
   "metadata": {},
   "outputs": [
    {
     "data": {
      "image/png": "[encoded data removed]",
      "text/plain": [
       "<Figure size 1440x288 with 1 Axes>"
      ]
     },
     "metadata": {
      "needs_background": "light"
     },
     "output_type": "display_data"
    }
   ],
   "source": [
    "id += 1\n",
    "fig, ax1 = plt.subplots(nrows=1, ncols=1, figsize=(20, 4))\n",
    "visualize_diff(ax1, samples[id], corrected_samples[id])"
   ]
  },
  {
   "cell_type": "code",
   "execution_count": 41,
   "metadata": {},
   "outputs": [],
   "source": [
    "l = 50"
   ]
  },
  {
   "cell_type": "code",
   "execution_count": 92,
   "metadata": {
    "scrolled": false
   },
   "outputs": [
    {
     "data": {
      "image/png": "[encoded data removed]",
      "text/plain": [
       "<Figure size 2880x432 with 2 Axes>"
      ]
     },
     "metadata": {},
     "output_type": "display_data"
    }
   ],
   "source": [
    "l += 1\n",
    "\n",
    "fig, ax2 = plt.subplots(nrows=1, ncols=1, figsize=(40, 6))\n",
    "# visualize_diff(ax1, x_hist[l, id], x_hist[l+1, id])\n",
    "ax2.set_title(\"step = {}/{}\".format(l, eval_cfg.sampler.num_steps))\n",
    "cr = c_rate_hist[l, id].T\n",
    "# one_hot = F.one_hot(torch.tensor(x_hist[l, id]), S).T.cpu().numpy()\n",
    "cat = ax2.imshow(cr, vmin=cr.min(), vmax=cr.max())\n",
    "\n",
    "x = x_hist[l, id]\n",
    "y = x_hist[l+1, id]\n",
    "diff_loc = x != y\n",
    "\n",
    "scale = (S-1) / eval_cfg.sampler.corrector_step_size_multiplier / 500\n",
    "# ax2.plot(S - 1 - cr[-1,:] * scale, color='c', alpha=.4)\n",
    "ax2.scatter(np.arange(cr.shape[1])[x<S-1], x[x<S-1], color=\"w\", marker=\"D\", s=10)\n",
    "ax2.scatter((np.arange(cr.shape[1]))[diff_loc * (x<S-1)], x[diff_loc * (x<S-1)], color=\"r\", marker=\"D\", s=10)\n",
    "ax2.scatter((np.arange(cr.shape[1]))[diff_loc * (y<S-1)], y[diff_loc * (y<S-1)], color=\"cyan\", marker=\"D\", s=10)\n",
    "fig.colorbar(cat, ax=ax2)\n",
    "fig.set_facecolor('white')"
   ]
  },
  {
   "cell_type": "code",
   "execution_count": 447,
   "metadata": {},
   "outputs": [
    {
     "data": {
      "text/plain": [
       "<matplotlib.image.AxesImage at 0x7fab53083340>"
      ]
     },
     "execution_count": 447,
     "metadata": {},
     "output_type": "execute_result"
    },
    {
     "data": {
      "image/png": "[encoded data removed]",
      "text/plain": [
       "<Figure size 1440x432 with 2 Axes>"
      ]
     },
     "metadata": {
      "needs_background": "light"
     },
     "output_type": "display_data"
    }
   ],
   "source": [
    "l -= 1\n",
    "fig, (ax1, ax2) = plt.subplots(nrows=2, ncols=1, figsize=(20, 6))\n",
    "\n",
    "# Plotting on the first axis\n",
    "ax1.imshow(F.one_hot(torch.tensor(x0_hist[l, id]), S).T)\n",
    "ax2.imshow(F.one_hot(torch.tensor(x_hist[l, id])).T)"
   ]
  },
  {
   "cell_type": "code",
   "execution_count": 194,
   "metadata": {},
   "outputs": [
    {
     "data": {
      "image/png": "[encoded data removed]",
      "text/plain": [
       "<Figure size 576x360 with 2 Axes>"
      ]
     },
     "metadata": {},
     "output_type": "display_data"
    }
   ],
   "source": [
    "fig, (ax1, ax2) = plt.subplots(nrows=1, ncols=2, figsize=(8, 5))\n",
    "\n",
    "# Plotting on the first axis\n",
    "ax1.imshow(F.one_hot(torch.tensor(x0_hist[id, 0, 80:100]), S).T)\n",
    "ax2.imshow(F.one_hot(torch.tensor(x_hist[id, 0, 80:100])).T)\n",
    "fig.set_facecolor('white')"
   ]
  },
  {
   "cell_type": "markdown",
   "metadata": {},
   "source": [
    "# Evaluate real sequence datasets"
   ]
  },
  {
   "cell_type": "code",
   "execution_count": 52,
   "metadata": {
    "scrolled": true
   },
   "outputs": [
    {
     "name": "stderr",
     "output_type": "stream",
     "text": [
      "100%|██████████| 60/60 [00:00<00:00, 62.99it/s]\n",
      "100%|██████████| 60/60 [00:00<00:00, 62.86it/s]\n",
      "100%|██████████| 60/60 [00:00<00:00, 62.98it/s]\n",
      "100%|██████████| 60/60 [00:00<00:00, 62.93it/s]\n",
      "100%|██████████| 60/60 [00:00<00:00, 63.01it/s]\n",
      "100%|██████████| 60/60 [00:00<00:00, 62.96it/s]\n",
      "100%|██████████| 60/60 [00:00<00:00, 63.06it/s]\n",
      "100%|██████████| 60/60 [00:00<00:00, 62.41it/s]\n",
      "100%|██████████| 60/60 [00:00<00:00, 62.70it/s]\n",
      "100%|██████████| 60/60 [00:00<00:00, 63.07it/s]\n",
      "100%|██████████| 60/60 [00:00<00:00, 63.07it/s]\n",
      "100%|██████████| 60/60 [00:00<00:00, 63.00it/s]\n",
      "100%|██████████| 60/60 [00:00<00:00, 63.02it/s]\n",
      "100%|██████████| 60/60 [00:00<00:00, 62.95it/s]\n",
      "100%|██████████| 60/60 [00:00<00:00, 62.85it/s]\n",
      "100%|██████████| 60/60 [00:00<00:00, 62.83it/s]\n",
      "100%|██████████| 60/60 [00:00<00:00, 63.05it/s]\n",
      "100%|██████████| 60/60 [00:00<00:00, 62.87it/s]\n",
      "100%|██████████| 60/60 [00:00<00:00, 63.07it/s]\n",
      "100%|██████████| 60/60 [00:00<00:00, 62.81it/s]"
     ]
    },
    {
     "name": "stdout",
     "output_type": "stream",
     "text": [
      "Mean: 1.0e-03 pm 3.4e-04\n",
      "Variance: 3.9e-04 pm 1.2e-04\n",
      "Skewness: 3.1e-02 pm 8.2e-03\n",
      "Kurtosis: 1.9e-01 pm 9.7e-02\n"
     ]
    },
    {
     "name": "stderr",
     "output_type": "stream",
     "text": [
      "\n"
     ]
    }
   ],
   "source": [
    "tqdm._instances.clear()\n",
    "\n",
    "num_samples = 500\n",
    "updates_per_eval = 5\n",
    "eval_cfg.sampler.num_corrector_steps = 1\n",
    "# eval_cfg.sampler.corrector_entry_time = 0.0\n",
    "eval_cfg.sampler.corrector_entry_time = 0.9\n",
    "eval_cfg.sampler.corrector_step_size_multiplier = .1\n",
    "eval_cfg.sampler.balancing_function = \"mpf\"\n",
    "sampler = Gillespies(eval_cfg)\n",
    "\n",
    "num_repeats = 20\n",
    "\n",
    "total_results = None\n",
    "for _ in range(num_repeats):\n",
    "    samples, ts = sampler.sample(model, num_samples, 0, updates_per_eval=updates_per_eval)\n",
    "    samples = np.clip(samples, 0, S-2)\n",
    "    out_dict = eval_mse_stats(dataset, samples)\n",
    "    if total_results is None:\n",
    "        total_results = {key: [out_dict[key]] for key in out_dict}\n",
    "    else:\n",
    "        for key, value in out_dict.items():\n",
    "            total_results[key].append(value)\n",
    "            \n",
    "metrics = [\"Mean\", \"Variance\", \"Skewness\", \"Kurtosis\"]\n",
    "for metric in metrics:\n",
    "    results = total_results[metric.lower()]\n",
    "    print(metric + \": {:.1e} pm {:.1e}\".format(np.mean(results), np.std(results)))"
   ]
  },
  {
   "cell_type": "code",
   "execution_count": null,
   "metadata": {},
   "outputs": [],
   "source": [
    "# Gene - hollow - 1Gillespies\n",
    "# Mean: 1.1e-03 pm 4.2e-04\n",
    "# Variance: 2.1e-04 pm 1.1e-04\n",
    "# Skewness: 2.8e-02 pm 8.1e-03\n",
    "# Kurtosis: 2.1e-01 pm 8.0e-02\n",
    "# pretty much identical with 2g1mpf"
   ]
  },
  {
   "cell_type": "code",
   "execution_count": null,
   "metadata": {},
   "outputs": [],
   "source": [
    "# Gene - hollow - 3Gillespies1mpf(rate=.5)\n",
    "# Mean: 1.7e-03 pm 8.1e-04\n",
    "# Variance: 2.9e-04 pm 1.6e-04\n",
    "# Skewness: 4.1e-02 pm 1.1e-02\n",
    "# Kurtosis: 1.5e-01 pm 4.3e-02\n",
    "# Worse."
   ]
  },
  {
   "cell_type": "code",
   "execution_count": null,
   "metadata": {},
   "outputs": [],
   "source": [
    "# Gene - hollow - 3Gillespies1mpf(rate=.1)\n",
    "# Mean: 9.3e-04 pm 3.9e-04\n",
    "# Variance: 1.7e-04 pm 5.8e-05\n",
    "# Skewness: 2.8e-02 pm 9.3e-03\n",
    "# Kurtosis: 1.6e-01 pm 1.2e-01\n",
    "# Pretty much identical lol"
   ]
  },
  {
   "cell_type": "code",
   "execution_count": null,
   "metadata": {},
   "outputs": [],
   "source": [
    "# Gene - hollow - 2Gillespies1mpf\n",
    "# Mean: 1.1e-03 pm 4.8e-04\n",
    "# Variance: 1.7e-04 pm 5.4e-05\n",
    "# Skewness: 3.2e-02 pm 8.4e-03\n",
    "# Kurtosis: 1.8e-01 pm 9.8e-02\n",
    "# We're taking 20 samples above this line\n",
    "# ----------------------------------------"
   ]
  },
  {
   "cell_type": "code",
   "execution_count": null,
   "metadata": {},
   "outputs": [],
   "source": [
    "# Gene - hollow - 2Gillespies1mpf(rate=1)\n",
    "# Bad."
   ]
  },
  {
   "cell_type": "code",
   "execution_count": null,
   "metadata": {},
   "outputs": [],
   "source": [
    "# Gene - hollow - 2Gillespies1Barker(rate=1)\n",
    "# Mean: 1.1e-03 pm 4.2e-04\n",
    "# Variance: 1.0e-04 pm 3.6e-05\n",
    "# Skewness: 5.3e-02 pm 1.8e-02\n",
    "# Kurtosis: 4.2e-01 pm 6.6e-02\n",
    "# Not much improvment... but less evaluations is good!"
   ]
  },
  {
   "cell_type": "code",
   "execution_count": null,
   "metadata": {},
   "outputs": [],
   "source": [
    "# Gene - hollow - 3Gillespies\n",
    "# Mean: 7.6e-04 pm 2.1e-04\n",
    "# Variance: 1.6e-04 pm 4.0e-05\n",
    "# Skewness: 2.5e-02 pm 4.4e-03\n",
    "# Kurtosis: 1.7e-01 pm 6.6e-02\n",
    "# Huh???"
   ]
  },
  {
   "cell_type": "code",
   "execution_count": null,
   "metadata": {},
   "outputs": [],
   "source": [
    "# Gene - hollow - 3Gillespies1mpf\n",
    "# Mean: 8.2e-04 pm 2.8e-04\n",
    "# Variance: 2.0e-04 pm 7.2e-05\n",
    "# Skewness: 2.8e-02 pm 6.5e-03\n",
    "# Kurtosis: 1.9e-01 pm 9.0e-02\n",
    "# Not much improvment... but less evaluations is good!"
   ]
  },
  {
   "cell_type": "code",
   "execution_count": null,
   "metadata": {},
   "outputs": [],
   "source": [
    "# Gene - hollow - 1Gillespies\n",
    "# Mean: 1.0e-03 pm 3.8e-04\n",
    "# Variance: 1.9e-04 pm 8.8e-05\n",
    "# Skewness: 2.7e-02 pm 6.6e-03\n",
    "# Kurtosis: 1.8e-01 pm 9.0e-02\n",
    "# Mean: 1.3e-03 pm 7.4e-04\n",
    "# Variance: 2.3e-04 pm 1.3e-04\n",
    "# Skewness: 3.0e-02 pm 1.2e-02\n",
    "# Kurtosis: 2.6e-01 pm 1.1e-01\n",
    "# Somehow this is already better??"
   ]
  },
  {
   "cell_type": "code",
   "execution_count": null,
   "metadata": {},
   "outputs": [],
   "source": [
    "# Gene - baseline - 1Gillespies\n",
    "# Mean: 1.3e-02 pm 4.1e-04\n",
    "# Variance: 1.3e-02 pm 2.4e-04\n",
    "# Skewness: 3.3e-01 pm 1.9e-02\n",
    "# Kurtosis: 1.1e+00 pm 1.0e-01\n",
    "# This is pretty bad."
   ]
  }
 ],
 "metadata": {
  "kernelspec": {
   "display_name": "Python 3",
   "language": "python",
   "name": "python3"
  },
  "language_info": {
   "codemirror_mode": {
    "name": "ipython",
    "version": 3
   },
   "file_extension": ".py",
   "mimetype": "text/x-python",
   "name": "python",
   "nbconvert_exporter": "python",
   "pygments_lexer": "ipython3",
   "version": "3.9.0"
  }
 },
 "nbformat": 4,
 "nbformat_minor": 2
}
