{
 "cells": [
  {
   "cell_type": "code",
   "execution_count": 1,
   "id": "da939346",
   "metadata": {},
   "outputs": [],
   "source": [
    "from importlib import reload\n",
    "import sys\n",
    "sys.path.insert(0, '../')\n",
    "\n",
    "# sys.path.remove(\"/home/users/yixiuz/.local/lib/python3.9/site-packages\")\n",
    "sys.path.append(\"/home/groups/swl1/yixiuz/torch_fid/lib/python3.9/site-packages\")\n",
    "sys.path.append(\"/home/groups/swl1/yixiuz/torch_fid/bin\")"
   ]
  },
  {
   "cell_type": "code",
   "execution_count": null,
   "id": "67a95a93",
   "metadata": {},
   "outputs": [],
   "source": []
  },
  {
   "cell_type": "code",
   "execution_count": 2,
   "id": "9e599c5c",
   "metadata": {},
   "outputs": [
    {
     "name": "stderr",
     "output_type": "stream",
     "text": [
      "2024-05-21 14:45:12.384805: I tensorflow/core/platform/cpu_feature_guard.cc:193] This TensorFlow binary is optimized with oneAPI Deep Neural Network Library (oneDNN) to use the following CPU instructions in performance-critical operations:  AVX2 FMA\n",
      "To enable them in other operations, rebuild TensorFlow with the appropriate compiler flags.\n",
      "2024-05-21 14:45:12.494423: W tensorflow/compiler/xla/stream_executor/platform/default/dso_loader.cc:64] Could not load dynamic library 'libcudart.so.11.0'; dlerror: libcudart.so.11.0: cannot open shared object file: No such file or directory; LD_LIBRARY_PATH: /share/software/user/open/cudnn/8.9.0.131/lib:/usr/lib64/nvidia:/share/software/user/open/cuda/12.2.0/targets/x86_64-linux/lib:/share/software/user/open/cuda/12.2.0/lib64:/share/software/user/open/cuda/12.2.0/nvvm/lib64:/share/software/user/open/cuda/12.2.0/extras/Debugger/lib64:/share/software/user/open/cuda/12.2.0/extras/CUPTI/lib64:/share/software/user/open/python/3.9.0/lib:/share/software/user/open/libffi/3.2.1/lib64:/share/software/user/open/sqlite/3.44.2/lib:/share/software/user/open/readline/8.2/lib:/share/software/user/open/ncurses/6.4/lib:/share/software/user/open/tcltk/8.6.6/lib:/share/software/user/open/libressl/3.2.1/lib:/share/software/user/open/zlib/1.2.11/lib\n",
      "2024-05-21 14:45:12.494447: I tensorflow/compiler/xla/stream_executor/cuda/cudart_stub.cc:29] Ignore above cudart dlerror if you do not have a GPU set up on your machine.\n",
      "2024-05-21 14:45:14.558640: W tensorflow/compiler/xla/stream_executor/platform/default/dso_loader.cc:64] Could not load dynamic library 'libnvinfer.so.7'; dlerror: libnvinfer.so.7: cannot open shared object file: No such file or directory; LD_LIBRARY_PATH: /share/software/user/open/cudnn/8.9.0.131/lib:/usr/lib64/nvidia:/share/software/user/open/cuda/12.2.0/targets/x86_64-linux/lib:/share/software/user/open/cuda/12.2.0/lib64:/share/software/user/open/cuda/12.2.0/nvvm/lib64:/share/software/user/open/cuda/12.2.0/extras/Debugger/lib64:/share/software/user/open/cuda/12.2.0/extras/CUPTI/lib64:/share/software/user/open/python/3.9.0/lib:/share/software/user/open/libffi/3.2.1/lib64:/share/software/user/open/sqlite/3.44.2/lib:/share/software/user/open/readline/8.2/lib:/share/software/user/open/ncurses/6.4/lib:/share/software/user/open/tcltk/8.6.6/lib:/share/software/user/open/libressl/3.2.1/lib:/share/software/user/open/zlib/1.2.11/lib\n",
      "2024-05-21 14:45:14.558774: W tensorflow/compiler/xla/stream_executor/platform/default/dso_loader.cc:64] Could not load dynamic library 'libnvinfer_plugin.so.7'; dlerror: libnvinfer_plugin.so.7: cannot open shared object file: No such file or directory; LD_LIBRARY_PATH: /share/software/user/open/cudnn/8.9.0.131/lib:/usr/lib64/nvidia:/share/software/user/open/cuda/12.2.0/targets/x86_64-linux/lib:/share/software/user/open/cuda/12.2.0/lib64:/share/software/user/open/cuda/12.2.0/nvvm/lib64:/share/software/user/open/cuda/12.2.0/extras/Debugger/lib64:/share/software/user/open/cuda/12.2.0/extras/CUPTI/lib64:/share/software/user/open/python/3.9.0/lib:/share/software/user/open/libffi/3.2.1/lib64:/share/software/user/open/sqlite/3.44.2/lib:/share/software/user/open/readline/8.2/lib:/share/software/user/open/ncurses/6.4/lib:/share/software/user/open/tcltk/8.6.6/lib:/share/software/user/open/libressl/3.2.1/lib:/share/software/user/open/zlib/1.2.11/lib\n",
      "2024-05-21 14:45:14.558785: W tensorflow/compiler/tf2tensorrt/utils/py_utils.cc:38] TF-TRT Warning: Cannot dlopen some TensorRT libraries. If you would like to use Nvidia GPU with TensorRT, please make sure the missing libraries mentioned above are installed properly.\n"
     ]
    }
   ],
   "source": [
    "import matplotlib\n",
    "import torch\n",
    "import torch.nn as nn\n",
    "import torch.nn.functional as F\n",
    "import ml_collections\n",
    "\n",
    "# import config.eval.genes_base as eval_config\n",
    "import config.eval.genes_hollow as eval_config\n",
    "\n",
    "import lib.utils.bookkeeping as bookkeeping\n",
    "from pathlib import Path\n",
    "import numpy as np\n",
    "import matplotlib.pyplot as plt\n",
    "\n",
    "import lib.utils.utils as utils\n",
    "import lib.models.models as models\n",
    "import lib.models.model_utils as model_utils\n",
    "import lib.datasets.datasets as datasets\n",
    "import lib.datasets.dataset_utils as dataset_utils\n",
    "import lib.sampling.sampling as sampling\n",
    "import lib.sampling.sampling_utils as sampling_utils\n",
    "\n",
    "%matplotlib inline\n",
    "\n",
    "eval_cfg = eval_config.get_config()\n",
    "train_cfg = bookkeeping.load_ml_collections(Path(eval_cfg.train_config_path))\n",
    "\n",
    "for item in eval_cfg.train_config_overrides:\n",
    "    utils.set_in_nested_dict(train_cfg, item[0], item[1])\n",
    "\n",
    "S = train_cfg.data.S\n",
    "device = torch.device(eval_cfg.device)\n",
    "# device = torch.device('cpu')\n",
    "\n",
    "model = model_utils.create_model(train_cfg, device)\n",
    "\n",
    "loaded_state = torch.load(Path(eval_cfg.checkpoint_path),\n",
    "    map_location=device)\n",
    "\n",
    "modified_model_state = utils.remove_module_from_keys(loaded_state['model'])\n",
    "model.load_state_dict(modified_model_state)\n",
    "\n",
    "model.eval()\n",
    "\n",
    "dataset = dataset_utils.get_dataset(eval_cfg, device)\n",
    "data = dataset.data"
   ]
  },
  {
   "cell_type": "code",
   "execution_count": 5,
   "id": "260823e4",
   "metadata": {},
   "outputs": [],
   "source": [
    "from eval import count_mistakes, get_dist, hellinger, eval_mse_stats, save_results, eval_dct_mse_stats\n",
    "from tqdm import tqdm"
   ]
  },
  {
   "cell_type": "code",
   "execution_count": 6,
   "id": "ecf59a47",
   "metadata": {},
   "outputs": [],
   "source": [
    "def run_experiments(num_repeats, sample_size, results_file,\n",
    "                   method, g_steps, tau_steps, \n",
    "                    c_steps, c_stepsize, corrector):\n",
    "    \n",
    "    tqdm._instances.clear()\n",
    "\n",
    "    # Tau-leaping only\n",
    "    eval_cfg.sampler.num_steps = tau_steps\n",
    "    eval_cfg.sampler.updates_per_eval = g_steps\n",
    "    \n",
    "    # Generic corrector fields\n",
    "    eval_cfg.sampler.num_corrector_steps = c_steps\n",
    "    eval_cfg.sampler.corrector_entry_time = 0.9\n",
    "    eval_cfg.sampler.corrector_step_size_multiplier = c_stepsize\n",
    "    eval_cfg.sampler.balancing_function = corrector\n",
    "\n",
    "    if method == \"gillespies\":\n",
    "        eval_cfg.sampler.name = \"PCMultiGillespies\"\n",
    "    elif method == \"tauleaping\":\n",
    "        eval_cfg.sampler.name = \"PCTauLeapingAbsorbingInformed\"\n",
    "    else:\n",
    "        assert(False)\n",
    "\n",
    "    sampler = sampling_utils.get_sampler(eval_cfg)\n",
    "\n",
    "    results = []\n",
    "\n",
    "    for _ in range(num_repeats):\n",
    "\n",
    "        samples, out = sampler.sample(model, sample_size, 0)\n",
    "\n",
    "        samples = np.clip(samples, 0, S-2)\n",
    "        time = eval_mse_stats(dataset, samples, S)\n",
    "        freq = eval_dct_mse_stats(dataset, samples, S)\n",
    "        \n",
    "        D = eval_cfg.data.shape[0]\n",
    "        if method == \"gillespies\":\n",
    "            nfe = D / g_steps\n",
    "        elif method == \"tauleaping\":\n",
    "            nfe = eval_cfg.sampler.num_steps\n",
    "        nfe += nfe * eval_cfg.sampler.corrector_entry_time * eval_cfg.sampler.num_corrector_steps\n",
    "\n",
    "        new_result = {\n",
    "                    'method': method,\n",
    "                    'g_steps': 0 if method != \"gillespies\" else g_steps,\n",
    "                    'tau_steps': 0 if method != \"tauleaping\" else eval_cfg.sampler.num_steps,\n",
    "                    'use_corrector': eval_cfg.sampler.corrector_entry_time > 0 \n",
    "                                 and eval_cfg.sampler.num_corrector_steps > 0,\n",
    "                    'corrector': eval_cfg.sampler.balancing_function,\n",
    "                    'c_stepsize': eval_cfg.sampler.corrector_step_size_multiplier,\n",
    "                    'c_steps': eval_cfg.sampler.num_corrector_steps,\n",
    "                    'nfe': nfe,\n",
    "#                     'h_dist': h_dist,\n",
    "#                     'error_rate': error_rate,\n",
    "                    'time_mean': time[\"mean\"],\n",
    "                    'time_var' : time[\"variance\"],\n",
    "                    'time_skew': time[\"skewness\"],\n",
    "                    'time_kurt': time[\"kurtosis\"],\n",
    "                    'freq_mean': freq[\"mean\"],\n",
    "                    'freq_var' : freq[\"variance\"],\n",
    "                    'freq_skew': freq[\"skewness\"],\n",
    "                    'freq_kurt': freq[\"kurtosis\"],\n",
    "                }\n",
    "        print(new_result)\n",
    "        results.append(new_result)\n",
    "\n",
    "    save_results(results, results_file)"
   ]
  },
  {
   "cell_type": "code",
   "execution_count": 7,
   "id": "3f4059e8",
   "metadata": {
    "collapsed": true
   },
   "outputs": [
    {
     "name": "stderr",
     "output_type": "stream",
     "text": [
      "49it [00:02, 24.15it/s]\n"
     ]
    },
    {
     "name": "stdout",
     "output_type": "stream",
     "text": [
      "{'method': 'tauleaping', 'g_steps': 0, 'tau_steps': 50, 'use_corrector': True, 'corrector': 'mpf', 'c_stepsize': 2.0, 'c_steps': 2, 'nfe': 140.0, 'time_mean': 0.07527652534613645, 'time_var': 0.01155189256843057, 'time_skew': 1.3726797759049172, 'time_kurt': 7.610480301989932, 'freq_mean': 0.0752765316815486, 'freq_var': 0.14947265788890995, 'freq_skew': 1.1974703857823745, 'freq_kurt': 17.572843050100825}\n"
     ]
    },
    {
     "name": "stderr",
     "output_type": "stream",
     "text": [
      "49it [00:01, 33.04it/s]\n"
     ]
    },
    {
     "name": "stdout",
     "output_type": "stream",
     "text": [
      "{'method': 'tauleaping', 'g_steps': 0, 'tau_steps': 50, 'use_corrector': True, 'corrector': 'mpf', 'c_stepsize': 2.0, 'c_steps': 2, 'nfe': 140.0, 'time_mean': 0.0745560407072662, 'time_var': 0.015302085577777874, 'time_skew': 1.4548178426177971, 'time_kurt': 6.259159745058786, 'freq_mean': 0.07455604587075632, 'freq_var': 0.17974159320253927, 'freq_skew': 0.9736287901935945, 'freq_kurt': 16.636522021084577}\n"
     ]
    },
    {
     "name": "stderr",
     "output_type": "stream",
     "text": [
      "49it [00:01, 33.01it/s]\n"
     ]
    },
    {
     "name": "stdout",
     "output_type": "stream",
     "text": [
      "{'method': 'tauleaping', 'g_steps': 0, 'tau_steps': 50, 'use_corrector': True, 'corrector': 'mpf', 'c_stepsize': 2.0, 'c_steps': 2, 'nfe': 140.0, 'time_mean': 0.07309525058527551, 'time_var': 0.013633703031152937, 'time_skew': 1.2070340331852627, 'time_kurt': 2.3172854940039276, 'freq_mean': 0.07309525594139052, 'freq_var': 0.13811830702542058, 'freq_skew': 1.1235389029851355, 'freq_kurt': 17.007141145047875}\n"
     ]
    },
    {
     "name": "stderr",
     "output_type": "stream",
     "text": [
      "49it [00:01, 33.00it/s]\n"
     ]
    },
    {
     "name": "stdout",
     "output_type": "stream",
     "text": [
      "{'method': 'tauleaping', 'g_steps': 0, 'tau_steps': 50, 'use_corrector': True, 'corrector': 'mpf', 'c_stepsize': 2.0, 'c_steps': 2, 'nfe': 140.0, 'time_mean': 0.058914834970476886, 'time_var': 0.013786941127365166, 'time_skew': 0.9629535305530728, 'time_kurt': 2.238789252809198, 'freq_mean': 0.05891484026876225, 'freq_var': 0.1290721792762368, 'freq_skew': 0.8665663666701207, 'freq_kurt': 16.12425779049245}\n"
     ]
    },
    {
     "name": "stderr",
     "output_type": "stream",
     "text": [
      "49it [00:01, 33.06it/s]\n"
     ]
    },
    {
     "name": "stdout",
     "output_type": "stream",
     "text": [
      "{'method': 'tauleaping', 'g_steps': 0, 'tau_steps': 50, 'use_corrector': True, 'corrector': 'mpf', 'c_stepsize': 2.0, 'c_steps': 2, 'nfe': 140.0, 'time_mean': 0.07063908962017552, 'time_var': 0.012748560826429828, 'time_skew': 0.9448931226390068, 'time_kurt': 1.6655861692998533, 'freq_mean': 0.07063909495155879, 'freq_var': 0.15707747549698, 'freq_skew': 1.1894853054387797, 'freq_kurt': 17.87770616745449}\n"
     ]
    },
    {
     "name": "stderr",
     "output_type": "stream",
     "text": [
      "49it [00:01, 32.97it/s]\n"
     ]
    },
    {
     "name": "stdout",
     "output_type": "stream",
     "text": [
      "{'method': 'tauleaping', 'g_steps': 0, 'tau_steps': 50, 'use_corrector': True, 'corrector': 'mpf', 'c_stepsize': 2.0, 'c_steps': 2, 'nfe': 140.0, 'time_mean': 0.06625112927706893, 'time_var': 0.013416656584741763, 'time_skew': 1.4390211791421155, 'time_kurt': 5.2045383228185775, 'freq_mean': 0.06625113423257999, 'freq_var': 0.14363945373324336, 'freq_skew': 1.0168388681605096, 'freq_kurt': 16.667714021474048}\n"
     ]
    },
    {
     "name": "stderr",
     "output_type": "stream",
     "text": [
      "49it [00:01, 33.05it/s]\n"
     ]
    },
    {
     "name": "stdout",
     "output_type": "stream",
     "text": [
      "{'method': 'tauleaping', 'g_steps': 0, 'tau_steps': 50, 'use_corrector': True, 'corrector': 'mpf', 'c_stepsize': 2.0, 'c_steps': 2, 'nfe': 140.0, 'time_mean': 0.07652121463668259, 'time_var': 0.016546800106291636, 'time_skew': 1.490892196672052, 'time_kurt': 6.310269916183601, 'freq_mean': 0.07652122068507386, 'freq_var': 0.1655136041652484, 'freq_skew': 1.0656531307978039, 'freq_kurt': 17.051708489796567}\n"
     ]
    },
    {
     "name": "stderr",
     "output_type": "stream",
     "text": [
      "49it [00:01, 33.08it/s]\n"
     ]
    },
    {
     "name": "stdout",
     "output_type": "stream",
     "text": [
      "{'method': 'tauleaping', 'g_steps': 0, 'tau_steps': 50, 'use_corrector': True, 'corrector': 'mpf', 'c_stepsize': 2.0, 'c_steps': 2, 'nfe': 140.0, 'time_mean': 0.06230816810525724, 'time_var': 0.01625798672523612, 'time_skew': 1.585801236999774, 'time_kurt': 6.498181473331073, 'freq_mean': 0.0623081739049677, 'freq_var': 0.152606133218652, 'freq_skew': 0.9688023131528537, 'freq_kurt': 16.595655098161394}\n"
     ]
    },
    {
     "name": "stderr",
     "output_type": "stream",
     "text": [
      "49it [00:01, 33.01it/s]\n"
     ]
    },
    {
     "name": "stdout",
     "output_type": "stream",
     "text": [
      "{'method': 'tauleaping', 'g_steps': 0, 'tau_steps': 50, 'use_corrector': True, 'corrector': 'mpf', 'c_stepsize': 2.0, 'c_steps': 2, 'nfe': 140.0, 'time_mean': 0.06487107302347545, 'time_var': 0.013741483614101274, 'time_skew': 1.0519897104753928, 'time_kurt': 3.5639494602004334, 'freq_mean': 0.06487107768684405, 'freq_var': 0.1507369378900495, 'freq_skew': 1.0278000563800733, 'freq_kurt': 17.438620727465718}\n"
     ]
    },
    {
     "name": "stderr",
     "output_type": "stream",
     "text": [
      "49it [00:01, 32.95it/s]\n"
     ]
    },
    {
     "name": "stdout",
     "output_type": "stream",
     "text": [
      "{'method': 'tauleaping', 'g_steps': 0, 'tau_steps': 50, 'use_corrector': True, 'corrector': 'mpf', 'c_stepsize': 2.0, 'c_steps': 2, 'nfe': 140.0, 'time_mean': 0.07407720973216818, 'time_var': 0.01458388417664364, 'time_skew': 1.2602857233063507, 'time_kurt': 2.2332589529069584, 'freq_mean': 0.07407721451601844, 'freq_var': 0.1612073536329141, 'freq_skew': 1.2164998645573772, 'freq_kurt': 17.636087542774316}\n",
      "Experiment results saved to  sequence_results_test_1.csv\n"
     ]
    },
    {
     "name": "stderr",
     "output_type": "stream",
     "text": [
      "49it [00:01, 32.90it/s]\n"
     ]
    },
    {
     "name": "stdout",
     "output_type": "stream",
     "text": [
      "{'method': 'tauleaping', 'g_steps': 0, 'tau_steps': 50, 'use_corrector': True, 'corrector': 'barker', 'c_stepsize': 1.0, 'c_steps': 2, 'nfe': 140.0, 'time_mean': 0.00274472253127101, 'time_var': 0.0014323709930250251, 'time_skew': 0.4375162283076682, 'time_kurt': 2.3091831742159656, 'freq_mean': 0.0027447277267625644, 'freq_var': 0.003795093923810453, 'freq_skew': 0.9212546515924961, 'freq_kurt': 11.46626228328345}\n"
     ]
    },
    {
     "name": "stderr",
     "output_type": "stream",
     "text": [
      "49it [00:01, 33.05it/s]\n"
     ]
    },
    {
     "name": "stdout",
     "output_type": "stream",
     "text": [
      "{'method': 'tauleaping', 'g_steps': 0, 'tau_steps': 50, 'use_corrector': True, 'corrector': 'barker', 'c_stepsize': 1.0, 'c_steps': 2, 'nfe': 140.0, 'time_mean': 0.0024184492294295613, 'time_var': 0.0007195917391956899, 'time_skew': 0.4500923397096624, 'time_kurt': 2.266369234406773, 'freq_mean': 0.002418453489121292, 'freq_var': 0.002816356830072598, 'freq_skew': 1.0354661401130365, 'freq_kurt': 9.705252991851829}\n"
     ]
    },
    {
     "name": "stderr",
     "output_type": "stream",
     "text": [
      "49it [00:01, 33.04it/s]\n"
     ]
    },
    {
     "name": "stdout",
     "output_type": "stream",
     "text": [
      "{'method': 'tauleaping', 'g_steps': 0, 'tau_steps': 50, 'use_corrector': True, 'corrector': 'barker', 'c_stepsize': 1.0, 'c_steps': 2, 'nfe': 140.0, 'time_mean': 0.005255262418083878, 'time_var': 0.00048406971147996295, 'time_skew': 0.765125091303587, 'time_kurt': 4.763260397618723, 'freq_mean': 0.005255268397036604, 'freq_var': 0.004365409469193152, 'freq_skew': 1.118936553915002, 'freq_kurt': 12.028498651755788}\n"
     ]
    },
    {
     "name": "stderr",
     "output_type": "stream",
     "text": [
      "49it [00:01, 32.58it/s]\n"
     ]
    },
    {
     "name": "stdout",
     "output_type": "stream",
     "text": [
      "{'method': 'tauleaping', 'g_steps': 0, 'tau_steps': 50, 'use_corrector': True, 'corrector': 'barker', 'c_stepsize': 1.0, 'c_steps': 2, 'nfe': 140.0, 'time_mean': 0.0026623921248339973, 'time_var': 0.0006026644198464596, 'time_skew': 0.4043248178910432, 'time_kurt': 1.6612783818288812, 'freq_mean': 0.0026623965289444664, 'freq_var': 0.002862166629217724, 'freq_skew': 1.075074634175526, 'freq_kurt': 10.633579124161493}\n"
     ]
    },
    {
     "name": "stderr",
     "output_type": "stream",
     "text": [
      "49it [00:01, 33.04it/s]\n"
     ]
    },
    {
     "name": "stdout",
     "output_type": "stream",
     "text": [
      "{'method': 'tauleaping', 'g_steps': 0, 'tau_steps': 50, 'use_corrector': True, 'corrector': 'barker', 'c_stepsize': 1.0, 'c_steps': 2, 'nfe': 140.0, 'time_mean': 0.0027970168998585356, 'time_var': 0.0014548405972451546, 'time_skew': 0.3968602931862582, 'time_kurt': 1.521616368973018, 'freq_mean': 0.0027970233043030064, 'freq_var': 0.0017597840857794108, 'freq_skew': 0.9470936330290594, 'freq_kurt': 11.13194553390971}\n"
     ]
    },
    {
     "name": "stderr",
     "output_type": "stream",
     "text": [
      "49it [00:01, 33.06it/s]\n"
     ]
    },
    {
     "name": "stdout",
     "output_type": "stream",
     "text": [
      "{'method': 'tauleaping', 'g_steps': 0, 'tau_steps': 50, 'use_corrector': True, 'corrector': 'barker', 'c_stepsize': 1.0, 'c_steps': 2, 'nfe': 140.0, 'time_mean': 0.0026600683993910396, 'time_var': 0.0007921041634080206, 'time_skew': 0.3913193840887559, 'time_kurt': 2.902418039557076, 'freq_mean': 0.0026600736175324247, 'freq_var': 0.004101836255347618, 'freq_skew': 0.852655740325144, 'freq_kurt': 10.642301588059931}\n"
     ]
    },
    {
     "name": "stderr",
     "output_type": "stream",
     "text": [
      "49it [00:01, 32.99it/s]\n"
     ]
    },
    {
     "name": "stdout",
     "output_type": "stream",
     "text": [
      "{'method': 'tauleaping', 'g_steps': 0, 'tau_steps': 50, 'use_corrector': True, 'corrector': 'barker', 'c_stepsize': 1.0, 'c_steps': 2, 'nfe': 140.0, 'time_mean': 0.0017216196541281824, 'time_var': 0.000915663401181734, 'time_skew': 0.4254793345553095, 'time_kurt': 1.5797153602551395, 'freq_mean': 0.001721625158235898, 'freq_var': 0.001739948233790971, 'freq_skew': 0.9388885858353935, 'freq_kurt': 10.052204993236318}\n"
     ]
    },
    {
     "name": "stderr",
     "output_type": "stream",
     "text": [
      "49it [00:01, 33.01it/s]\n"
     ]
    },
    {
     "name": "stdout",
     "output_type": "stream",
     "text": [
      "{'method': 'tauleaping', 'g_steps': 0, 'tau_steps': 50, 'use_corrector': True, 'corrector': 'barker', 'c_stepsize': 1.0, 'c_steps': 2, 'nfe': 140.0, 'time_mean': 0.0031444225722150345, 'time_var': 0.0008217112031837417, 'time_skew': 0.44892493807601647, 'time_kurt': 1.6076522432212543, 'freq_mean': 0.003144427678805584, 'freq_var': 0.0019123694411548222, 'freq_skew': 1.0118940578347422, 'freq_kurt': 10.065675116100106}\n"
     ]
    },
    {
     "name": "stderr",
     "output_type": "stream",
     "text": [
      "21it [00:00, 36.77it/s]\n"
     ]
    },
    {
     "ename": "KeyboardInterrupt",
     "evalue": "",
     "output_type": "error",
     "traceback": [
      "\u001b[0;31m---------------------------------------------------------------------------\u001b[0m",
      "\u001b[0;31mKeyboardInterrupt\u001b[0m                         Traceback (most recent call last)",
      "\u001b[0;32m/tmp/ipykernel_54577/3177288499.py\u001b[0m in \u001b[0;36m<module>\u001b[0;34m\u001b[0m\n\u001b[1;32m     21\u001b[0m         \u001b[0mtau_steps\u001b[0m \u001b[0;34m=\u001b[0m \u001b[0mnum_sample_steps\u001b[0m\u001b[0;34m[\u001b[0m\u001b[0;36m0\u001b[0m\u001b[0;34m]\u001b[0m\u001b[0;34m\u001b[0m\u001b[0;34m\u001b[0m\u001b[0m\n\u001b[1;32m     22\u001b[0m         \u001b[0mc_steps\u001b[0m \u001b[0;34m=\u001b[0m \u001b[0mcorrector_steps\u001b[0m\u001b[0;34m\u001b[0m\u001b[0;34m\u001b[0m\u001b[0m\n\u001b[0;32m---> 23\u001b[0;31m         run_experiments(num_repeats=num_repeats, \n\u001b[0m\u001b[1;32m     24\u001b[0m                         \u001b[0msample_size\u001b[0m\u001b[0;34m=\u001b[0m\u001b[0msample_size\u001b[0m\u001b[0;34m,\u001b[0m\u001b[0;34m\u001b[0m\u001b[0;34m\u001b[0m\u001b[0m\n\u001b[1;32m     25\u001b[0m                         \u001b[0mresults_file\u001b[0m\u001b[0;34m=\u001b[0m\u001b[0mresults_file\u001b[0m\u001b[0;34m,\u001b[0m\u001b[0;34m\u001b[0m\u001b[0;34m\u001b[0m\u001b[0m\n",
      "\u001b[0;32m/tmp/ipykernel_54577/1778024320.py\u001b[0m in \u001b[0;36mrun_experiments\u001b[0;34m(num_repeats, sample_size, results_file, method, g_steps, tau_steps, c_steps, c_stepsize, corrector)\u001b[0m\n\u001b[1;32m     28\u001b[0m     \u001b[0;32mfor\u001b[0m \u001b[0m_\u001b[0m \u001b[0;32min\u001b[0m \u001b[0mrange\u001b[0m\u001b[0;34m(\u001b[0m\u001b[0mnum_repeats\u001b[0m\u001b[0;34m)\u001b[0m\u001b[0;34m:\u001b[0m\u001b[0;34m\u001b[0m\u001b[0;34m\u001b[0m\u001b[0m\n\u001b[1;32m     29\u001b[0m \u001b[0;34m\u001b[0m\u001b[0m\n\u001b[0;32m---> 30\u001b[0;31m         \u001b[0msamples\u001b[0m\u001b[0;34m,\u001b[0m \u001b[0mout\u001b[0m \u001b[0;34m=\u001b[0m \u001b[0msampler\u001b[0m\u001b[0;34m.\u001b[0m\u001b[0msample\u001b[0m\u001b[0;34m(\u001b[0m\u001b[0mmodel\u001b[0m\u001b[0;34m,\u001b[0m \u001b[0msample_size\u001b[0m\u001b[0;34m,\u001b[0m \u001b[0;36m0\u001b[0m\u001b[0;34m)\u001b[0m\u001b[0;34m\u001b[0m\u001b[0;34m\u001b[0m\u001b[0m\n\u001b[0m\u001b[1;32m     31\u001b[0m \u001b[0;34m\u001b[0m\u001b[0m\n\u001b[1;32m     32\u001b[0m         \u001b[0msamples\u001b[0m \u001b[0;34m=\u001b[0m \u001b[0mnp\u001b[0m\u001b[0;34m.\u001b[0m\u001b[0mclip\u001b[0m\u001b[0;34m(\u001b[0m\u001b[0msamples\u001b[0m\u001b[0;34m,\u001b[0m \u001b[0;36m0\u001b[0m\u001b[0;34m,\u001b[0m \u001b[0mS\u001b[0m\u001b[0;34m-\u001b[0m\u001b[0;36m2\u001b[0m\u001b[0;34m)\u001b[0m\u001b[0;34m\u001b[0m\u001b[0;34m\u001b[0m\u001b[0m\n",
      "\u001b[0;32m/home/groups/swl1/yixiuz/torch_fid/tauLDR/lib/sampling/sampling.py\u001b[0m in \u001b[0;36msample\u001b[0;34m(self, model, N, num_intermediates)\u001b[0m\n\u001b[1;32m   1000\u001b[0m \u001b[0;34m\u001b[0m\u001b[0m\n\u001b[1;32m   1001\u001b[0m                 \u001b[0mx\u001b[0m \u001b[0;34m=\u001b[0m \u001b[0mtake_poisson_step\u001b[0m\u001b[0;34m(\u001b[0m\u001b[0mx\u001b[0m\u001b[0;34m,\u001b[0m \u001b[0mreverse_rates\u001b[0m\u001b[0;34m,\u001b[0m \u001b[0mh\u001b[0m\u001b[0;34m)\u001b[0m\u001b[0;34m\u001b[0m\u001b[0;34m\u001b[0m\u001b[0m\n\u001b[0;32m-> 1002\u001b[0;31m \u001b[0;34m\u001b[0m\u001b[0m\n\u001b[0m\u001b[1;32m   1003\u001b[0m                 \u001b[0;32mif\u001b[0m \u001b[0mt\u001b[0m \u001b[0;34m<=\u001b[0m \u001b[0mcorrector_entry_time\u001b[0m\u001b[0;34m:\u001b[0m\u001b[0;34m\u001b[0m\u001b[0;34m\u001b[0m\u001b[0m\n\u001b[1;32m   1004\u001b[0m                     \u001b[0;32mfor\u001b[0m \u001b[0mcstep\u001b[0m \u001b[0;32min\u001b[0m \u001b[0mrange\u001b[0m\u001b[0;34m(\u001b[0m\u001b[0mnum_corrector_steps\u001b[0m\u001b[0;34m)\u001b[0m\u001b[0;34m:\u001b[0m\u001b[0;34m\u001b[0m\u001b[0;34m\u001b[0m\u001b[0m\n",
      "\u001b[0;32m/home/groups/swl1/yixiuz/torch_fid/tauLDR/lib/sampling/sampling.py\u001b[0m in \u001b[0;36mget_rates\u001b[0;34m(in_x, in_t)\u001b[0m\n\u001b[1;32m    946\u001b[0m \u001b[0;34m\u001b[0m\u001b[0m\n\u001b[1;32m    947\u001b[0m                 \u001b[0;32mdef\u001b[0m \u001b[0mget_rates\u001b[0m\u001b[0;34m(\u001b[0m\u001b[0min_x\u001b[0m\u001b[0;34m,\u001b[0m \u001b[0min_t\u001b[0m\u001b[0;34m)\u001b[0m\u001b[0;34m:\u001b[0m\u001b[0;34m\u001b[0m\u001b[0;34m\u001b[0m\u001b[0m\n\u001b[0;32m--> 948\u001b[0;31m                     \u001b[0mqt0\u001b[0m \u001b[0;34m=\u001b[0m \u001b[0mmodel\u001b[0m\u001b[0;34m.\u001b[0m\u001b[0mtransition\u001b[0m\u001b[0;34m(\u001b[0m\u001b[0min_t\u001b[0m \u001b[0;34m*\u001b[0m \u001b[0mtorch\u001b[0m\u001b[0;34m.\u001b[0m\u001b[0mones\u001b[0m\u001b[0;34m(\u001b[0m\u001b[0;34m(\u001b[0m\u001b[0mN\u001b[0m\u001b[0;34m,\u001b[0m\u001b[0;34m)\u001b[0m\u001b[0;34m,\u001b[0m \u001b[0mdevice\u001b[0m\u001b[0;34m=\u001b[0m\u001b[0mdevice\u001b[0m\u001b[0;34m)\u001b[0m\u001b[0;34m)\u001b[0m \u001b[0;31m# (N, S, S)\u001b[0m\u001b[0;34m\u001b[0m\u001b[0;34m\u001b[0m\u001b[0m\n\u001b[0m\u001b[1;32m    949\u001b[0m                     \u001b[0mrate\u001b[0m \u001b[0;34m=\u001b[0m \u001b[0mmodel\u001b[0m\u001b[0;34m.\u001b[0m\u001b[0mrate\u001b[0m\u001b[0;34m(\u001b[0m\u001b[0min_t\u001b[0m \u001b[0;34m*\u001b[0m \u001b[0mtorch\u001b[0m\u001b[0;34m.\u001b[0m\u001b[0mones\u001b[0m\u001b[0;34m(\u001b[0m\u001b[0;34m(\u001b[0m\u001b[0mN\u001b[0m\u001b[0;34m,\u001b[0m\u001b[0;34m)\u001b[0m\u001b[0;34m,\u001b[0m \u001b[0mdevice\u001b[0m\u001b[0;34m=\u001b[0m\u001b[0mdevice\u001b[0m\u001b[0;34m)\u001b[0m\u001b[0;34m)\u001b[0m \u001b[0;31m# (N, S, S)\u001b[0m\u001b[0;34m\u001b[0m\u001b[0;34m\u001b[0m\u001b[0m\n\u001b[1;32m    950\u001b[0m \u001b[0;34m\u001b[0m\u001b[0m\n",
      "\u001b[0;32m/home/groups/swl1/yixiuz/torch_fid/lib/python3.9/site-packages/torch/nn/modules/module.py\u001b[0m in \u001b[0;36m_wrapped_call_impl\u001b[0;34m(self, *args, **kwargs)\u001b[0m\n\u001b[1;32m   1509\u001b[0m             \u001b[0;32mreturn\u001b[0m \u001b[0mself\u001b[0m\u001b[0;34m.\u001b[0m\u001b[0m_compiled_call_impl\u001b[0m\u001b[0;34m(\u001b[0m\u001b[0;34m*\u001b[0m\u001b[0margs\u001b[0m\u001b[0;34m,\u001b[0m \u001b[0;34m**\u001b[0m\u001b[0mkwargs\u001b[0m\u001b[0;34m)\u001b[0m  \u001b[0;31m# type: ignore[misc]\u001b[0m\u001b[0;34m\u001b[0m\u001b[0;34m\u001b[0m\u001b[0m\n\u001b[1;32m   1510\u001b[0m         \u001b[0;32melse\u001b[0m\u001b[0;34m:\u001b[0m\u001b[0;34m\u001b[0m\u001b[0;34m\u001b[0m\u001b[0m\n\u001b[0;32m-> 1511\u001b[0;31m             \u001b[0;32mreturn\u001b[0m \u001b[0mself\u001b[0m\u001b[0;34m.\u001b[0m\u001b[0m_call_impl\u001b[0m\u001b[0;34m(\u001b[0m\u001b[0;34m*\u001b[0m\u001b[0margs\u001b[0m\u001b[0;34m,\u001b[0m \u001b[0;34m**\u001b[0m\u001b[0mkwargs\u001b[0m\u001b[0;34m)\u001b[0m\u001b[0;34m\u001b[0m\u001b[0;34m\u001b[0m\u001b[0m\n\u001b[0m\u001b[1;32m   1512\u001b[0m \u001b[0;34m\u001b[0m\u001b[0m\n\u001b[1;32m   1513\u001b[0m     \u001b[0;32mdef\u001b[0m \u001b[0m_call_impl\u001b[0m\u001b[0;34m(\u001b[0m\u001b[0mself\u001b[0m\u001b[0;34m,\u001b[0m \u001b[0;34m*\u001b[0m\u001b[0margs\u001b[0m\u001b[0;34m,\u001b[0m \u001b[0;34m**\u001b[0m\u001b[0mkwargs\u001b[0m\u001b[0;34m)\u001b[0m\u001b[0;34m:\u001b[0m\u001b[0;34m\u001b[0m\u001b[0;34m\u001b[0m\u001b[0m\n",
      "\u001b[0;32m/home/groups/swl1/yixiuz/torch_fid/lib/python3.9/site-packages/torch/nn/modules/module.py\u001b[0m in \u001b[0;36m_call_impl\u001b[0;34m(self, *args, **kwargs)\u001b[0m\n\u001b[1;32m   1518\u001b[0m                 \u001b[0;32mor\u001b[0m \u001b[0m_global_backward_pre_hooks\u001b[0m \u001b[0;32mor\u001b[0m \u001b[0m_global_backward_hooks\u001b[0m\u001b[0;34m\u001b[0m\u001b[0;34m\u001b[0m\u001b[0m\n\u001b[1;32m   1519\u001b[0m                 or _global_forward_hooks or _global_forward_pre_hooks):\n\u001b[0;32m-> 1520\u001b[0;31m             \u001b[0;32mreturn\u001b[0m \u001b[0mforward_call\u001b[0m\u001b[0;34m(\u001b[0m\u001b[0;34m*\u001b[0m\u001b[0margs\u001b[0m\u001b[0;34m,\u001b[0m \u001b[0;34m**\u001b[0m\u001b[0mkwargs\u001b[0m\u001b[0;34m)\u001b[0m\u001b[0;34m\u001b[0m\u001b[0;34m\u001b[0m\u001b[0m\n\u001b[0m\u001b[1;32m   1521\u001b[0m \u001b[0;34m\u001b[0m\u001b[0m\n\u001b[1;32m   1522\u001b[0m         \u001b[0;32mtry\u001b[0m\u001b[0;34m:\u001b[0m\u001b[0;34m\u001b[0m\u001b[0;34m\u001b[0m\u001b[0m\n",
      "\u001b[0;32m/home/groups/swl1/yixiuz/torch_fid/tauLDR/lib/models/models.py\u001b[0m in \u001b[0;36mforward\u001b[0;34m(self, x, times)\u001b[0m\n\u001b[1;32m    582\u001b[0m         \u001b[0mS\u001b[0m \u001b[0;34m=\u001b[0m \u001b[0mself\u001b[0m\u001b[0;34m.\u001b[0m\u001b[0mS\u001b[0m\u001b[0;34m\u001b[0m\u001b[0;34m\u001b[0m\u001b[0m\n\u001b[1;32m    583\u001b[0m \u001b[0;34m\u001b[0m\u001b[0m\n\u001b[0;32m--> 584\u001b[0;31m         \u001b[0mlogits\u001b[0m \u001b[0;34m=\u001b[0m \u001b[0mself\u001b[0m\u001b[0;34m.\u001b[0m\u001b[0mnet\u001b[0m\u001b[0;34m(\u001b[0m\u001b[0mx\u001b[0m\u001b[0;34m.\u001b[0m\u001b[0mlong\u001b[0m\u001b[0;34m(\u001b[0m\u001b[0;34m)\u001b[0m\u001b[0;34m,\u001b[0m \u001b[0mtimes\u001b[0m\u001b[0;34m.\u001b[0m\u001b[0mlong\u001b[0m\u001b[0;34m(\u001b[0m\u001b[0;34m)\u001b[0m\u001b[0;34m)\u001b[0m \u001b[0;31m# (B, D, S)\u001b[0m\u001b[0;34m\u001b[0m\u001b[0;34m\u001b[0m\u001b[0m\n\u001b[0m\u001b[1;32m    585\u001b[0m \u001b[0;34m\u001b[0m\u001b[0m\n\u001b[1;32m    586\u001b[0m         \u001b[0;32mreturn\u001b[0m \u001b[0mlogits\u001b[0m\u001b[0;34m\u001b[0m\u001b[0;34m\u001b[0m\u001b[0m\n",
      "\u001b[0;31mKeyboardInterrupt\u001b[0m: "
     ]
    }
   ],
   "source": [
    "results_file = 'sequence_results_test_1.csv'\n",
    "\n",
    "num_repeats = 10\n",
    "sample_size = 100\n",
    "\n",
    "methods = [\"tauleaping\", \n",
    "           \"gillespies\"]\n",
    "\n",
    "updates_per_evals = [3, 2, 1]\n",
    "num_sample_steps = [50, 100, 200]\n",
    "\n",
    "correctors = [\"mpf\", \"barker\", \"birthdeath\"]\n",
    "corrector_stepsizes = [2.0, 1.0, 0.1]\n",
    "corrector_steps = 2\n",
    "\n",
    "for method in methods:\n",
    "    for i in range(len(correctors)):\n",
    "        corrector = correctors[i]\n",
    "        c_stepsize = corrector_stepsizes[i]\n",
    "        g_steps = updates_per_evals[0]\n",
    "        tau_steps = num_sample_steps[0]\n",
    "        c_steps = corrector_steps\n",
    "        run_experiments(num_repeats=num_repeats, \n",
    "                        sample_size=sample_size, \n",
    "                        results_file=results_file,\n",
    "                        method=method, \n",
    "                        g_steps=g_steps, \n",
    "                        tau_steps=tau_steps, \n",
    "                        c_steps=c_steps, \n",
    "                        c_stepsize=c_stepsize, \n",
    "                        corrector=corrector)"
   ]
  },
  {
   "cell_type": "code",
   "execution_count": 8,
   "id": "6afe222c",
   "metadata": {
    "scrolled": true
   },
   "outputs": [
    {
     "name": "stderr",
     "output_type": "stream",
     "text": [
      "19it [00:01, 14.06it/s]\n"
     ]
    },
    {
     "name": "stdout",
     "output_type": "stream",
     "text": [
      "{'method': 'tauleaping', 'g_steps': 0, 'tau_steps': 20, 'use_corrector': True, 'corrector': 'mpf', 'c_stepsize': 0.1, 'c_steps': 1, 'nfe': 38.0, 'time_mean': 0.001453785830588084, 'time_var': 0.00011966448159442669, 'time_skew': 0.03543744400599668, 'time_kurt': 0.45229845978696254, 'freq_mean': 0.0014537864171571193, 'freq_var': 0.0014596635940522433, 'freq_skew': 0.3590237116976977, 'freq_kurt': 3.9415354976449333}\n"
     ]
    },
    {
     "name": "stderr",
     "output_type": "stream",
     "text": [
      "19it [00:01, 14.03it/s]\n"
     ]
    },
    {
     "name": "stdout",
     "output_type": "stream",
     "text": [
      "{'method': 'tauleaping', 'g_steps': 0, 'tau_steps': 20, 'use_corrector': True, 'corrector': 'mpf', 'c_stepsize': 0.1, 'c_steps': 1, 'nfe': 38.0, 'time_mean': 0.0011457062184635, 'time_var': 7.374185306289803e-05, 'time_skew': 0.02132352609229032, 'time_kurt': 0.11389081260768212, 'freq_mean': 0.0011457068471495354, 'freq_var': 0.001077168374591899, 'freq_skew': 0.38299093653066685, 'freq_kurt': 3.4920372551665433}\n"
     ]
    },
    {
     "name": "stderr",
     "output_type": "stream",
     "text": [
      "19it [00:01, 14.05it/s]\n"
     ]
    },
    {
     "name": "stdout",
     "output_type": "stream",
     "text": [
      "{'method': 'tauleaping', 'g_steps': 0, 'tau_steps': 20, 'use_corrector': True, 'corrector': 'mpf', 'c_stepsize': 0.1, 'c_steps': 1, 'nfe': 38.0, 'time_mean': 0.0014971018485526962, 'time_var': 8.855508420972996e-05, 'time_skew': 0.042253658743891934, 'time_kurt': 0.12099454546898038, 'freq_mean': 0.0014971025417544563, 'freq_var': 0.0009888289200740128, 'freq_skew': 0.5558300548144965, 'freq_kurt': 4.336803406675988}\n"
     ]
    },
    {
     "name": "stderr",
     "output_type": "stream",
     "text": [
      "19it [00:01, 14.02it/s]\n"
     ]
    },
    {
     "name": "stdout",
     "output_type": "stream",
     "text": [
      "{'method': 'tauleaping', 'g_steps': 0, 'tau_steps': 20, 'use_corrector': True, 'corrector': 'mpf', 'c_stepsize': 0.1, 'c_steps': 1, 'nfe': 38.0, 'time_mean': 0.0006859905437462261, 'time_var': 9.706240901202981e-05, 'time_skew': 0.029203384452102667, 'time_kurt': 0.3801904935042559, 'freq_mean': 0.0006859913310817307, 'freq_var': 0.0014306122744873256, 'freq_skew': 0.437590136619902, 'freq_kurt': 4.00145300589297}\n"
     ]
    },
    {
     "name": "stderr",
     "output_type": "stream",
     "text": [
      "19it [00:01, 13.66it/s]\n"
     ]
    },
    {
     "name": "stdout",
     "output_type": "stream",
     "text": [
      "{'method': 'tauleaping', 'g_steps': 0, 'tau_steps': 20, 'use_corrector': True, 'corrector': 'mpf', 'c_stepsize': 0.1, 'c_steps': 1, 'nfe': 38.0, 'time_mean': 0.002047009944870026, 'time_var': 8.383895719328562e-05, 'time_skew': 0.05337666891568105, 'time_kurt': 0.29533816147631253, 'freq_mean': 0.002047011244385399, 'freq_var': 0.001848635865875018, 'freq_skew': 0.4680410082764306, 'freq_kurt': 3.7727649277336233}\n"
     ]
    },
    {
     "name": "stderr",
     "output_type": "stream",
     "text": [
      "19it [00:01, 14.05it/s]\n"
     ]
    },
    {
     "name": "stdout",
     "output_type": "stream",
     "text": [
      "{'method': 'tauleaping', 'g_steps': 0, 'tau_steps': 20, 'use_corrector': True, 'corrector': 'mpf', 'c_stepsize': 0.1, 'c_steps': 1, 'nfe': 38.0, 'time_mean': 0.0016243371995122134, 'time_var': 0.00018327637112183317, 'time_skew': 0.0414473730095762, 'time_kurt': 0.2457178906311325, 'freq_mean': 0.0016243382461052689, 'freq_var': 0.002541990976409547, 'freq_skew': 0.6958054770249535, 'freq_kurt': 6.351729967737693}\n"
     ]
    },
    {
     "name": "stderr",
     "output_type": "stream",
     "text": [
      "19it [00:01, 14.08it/s]\n"
     ]
    },
    {
     "name": "stdout",
     "output_type": "stream",
     "text": [
      "{'method': 'tauleaping', 'g_steps': 0, 'tau_steps': 20, 'use_corrector': True, 'corrector': 'mpf', 'c_stepsize': 0.1, 'c_steps': 1, 'nfe': 38.0, 'time_mean': 0.0007344110913787749, 'time_var': 7.409642346916866e-05, 'time_skew': 0.03755594633937799, 'time_kurt': 0.2126330414289967, 'freq_mean': 0.0007344117702200785, 'freq_var': 0.0008355360097861118, 'freq_skew': 0.5003852817658543, 'freq_kurt': 4.4033560924530395}\n"
     ]
    },
    {
     "name": "stderr",
     "output_type": "stream",
     "text": [
      "19it [00:01, 14.08it/s]\n"
     ]
    },
    {
     "name": "stdout",
     "output_type": "stream",
     "text": [
      "{'method': 'tauleaping', 'g_steps': 0, 'tau_steps': 20, 'use_corrector': True, 'corrector': 'mpf', 'c_stepsize': 0.1, 'c_steps': 1, 'nfe': 38.0, 'time_mean': 0.00072625152788235, 'time_var': 0.00020084457638357343, 'time_skew': 0.03398440944734903, 'time_kurt': 0.4547801726634375, 'freq_mean': 0.0007262520701185876, 'freq_var': 0.0017287993243834993, 'freq_skew': 0.4622835747189057, 'freq_kurt': 5.007365715397758}\n"
     ]
    },
    {
     "name": "stderr",
     "output_type": "stream",
     "text": [
      "19it [00:01, 14.09it/s]\n"
     ]
    },
    {
     "name": "stdout",
     "output_type": "stream",
     "text": [
      "{'method': 'tauleaping', 'g_steps': 0, 'tau_steps': 20, 'use_corrector': True, 'corrector': 'mpf', 'c_stepsize': 0.1, 'c_steps': 1, 'nfe': 38.0, 'time_mean': 0.000605354777879197, 'time_var': 0.00010682633859274276, 'time_skew': 0.02699569503630823, 'time_kurt': 0.3280795032260936, 'freq_mean': 0.0006053556941644204, 'freq_var': 0.0018860904244734483, 'freq_skew': 0.4796355641572816, 'freq_kurt': 4.3491207390847855}\n"
     ]
    },
    {
     "name": "stderr",
     "output_type": "stream",
     "text": [
      "19it [00:01, 14.02it/s]\n"
     ]
    },
    {
     "name": "stdout",
     "output_type": "stream",
     "text": [
      "{'method': 'tauleaping', 'g_steps': 0, 'tau_steps': 20, 'use_corrector': True, 'corrector': 'mpf', 'c_stepsize': 0.1, 'c_steps': 1, 'nfe': 38.0, 'time_mean': 0.0013747300305026547, 'time_var': 7.913850606050753e-05, 'time_skew': 0.04351800813036842, 'time_kurt': 0.20545156873165896, 'freq_mean': 0.0013747310630260916, 'freq_var': 0.001379027084727966, 'freq_skew': 0.4700682287400497, 'freq_kurt': 4.391679484499076}\n"
     ]
    },
    {
     "name": "stderr",
     "output_type": "stream",
     "text": [
      "19it [00:01, 14.08it/s]\n"
     ]
    },
    {
     "name": "stdout",
     "output_type": "stream",
     "text": [
      "{'method': 'tauleaping', 'g_steps': 0, 'tau_steps': 20, 'use_corrector': True, 'corrector': 'mpf', 'c_stepsize': 0.1, 'c_steps': 1, 'nfe': 38.0, 'time_mean': 0.0034019163086710163, 'time_var': 0.00010065115736924597, 'time_skew': 0.066906518069287, 'time_kurt': 0.21794393874943913, 'freq_mean': 0.0034019174399082257, 'freq_var': 0.0014545553069994423, 'freq_skew': 0.605377888713691, 'freq_kurt': 4.498849792830854}\n"
     ]
    },
    {
     "name": "stderr",
     "output_type": "stream",
     "text": [
      "19it [00:01, 14.07it/s]\n"
     ]
    },
    {
     "name": "stdout",
     "output_type": "stream",
     "text": [
      "{'method': 'tauleaping', 'g_steps': 0, 'tau_steps': 20, 'use_corrector': True, 'corrector': 'mpf', 'c_stepsize': 0.1, 'c_steps': 1, 'nfe': 38.0, 'time_mean': 0.001743545948813611, 'time_var': 0.00016866086861700515, 'time_skew': 0.05067813211210574, 'time_kurt': 0.2622470574756276, 'freq_mean': 0.0017435472693680667, 'freq_var': 0.0024264048146854815, 'freq_skew': 0.4558818320470417, 'freq_kurt': 4.309497767267}\n"
     ]
    },
    {
     "name": "stderr",
     "output_type": "stream",
     "text": [
      "19it [00:01, 14.08it/s]\n"
     ]
    },
    {
     "name": "stdout",
     "output_type": "stream",
     "text": [
      "{'method': 'tauleaping', 'g_steps': 0, 'tau_steps': 20, 'use_corrector': True, 'corrector': 'mpf', 'c_stepsize': 0.1, 'c_steps': 1, 'nfe': 38.0, 'time_mean': 0.0012895497042948972, 'time_var': 0.00027541243299378617, 'time_skew': 0.03584963540973525, 'time_kurt': 0.27420497380353787, 'freq_mean': 0.0012895500482511357, 'freq_var': 0.002023927026847129, 'freq_skew': 0.596563971714417, 'freq_kurt': 4.409573508037479}\n"
     ]
    },
    {
     "name": "stderr",
     "output_type": "stream",
     "text": [
      "19it [00:01, 14.07it/s]\n"
     ]
    },
    {
     "name": "stdout",
     "output_type": "stream",
     "text": [
      "{'method': 'tauleaping', 'g_steps': 0, 'tau_steps': 20, 'use_corrector': True, 'corrector': 'mpf', 'c_stepsize': 0.1, 'c_steps': 1, 'nfe': 38.0, 'time_mean': 0.0015362509380215479, 'time_var': 0.00011524263433465675, 'time_skew': 0.0363178233893705, 'time_kurt': 0.2062213574133472, 'freq_mean': 0.0015362517847852157, 'freq_var': 0.0019062689351560694, 'freq_skew': 0.5670398412137047, 'freq_kurt': 4.954251525102603}\n"
     ]
    },
    {
     "name": "stderr",
     "output_type": "stream",
     "text": [
      "19it [00:01, 14.04it/s]\n"
     ]
    },
    {
     "name": "stdout",
     "output_type": "stream",
     "text": [
      "{'method': 'tauleaping', 'g_steps': 0, 'tau_steps': 20, 'use_corrector': True, 'corrector': 'mpf', 'c_stepsize': 0.1, 'c_steps': 1, 'nfe': 38.0, 'time_mean': 0.0011524805409743669, 'time_var': 0.0002830873651684714, 'time_skew': 0.03307966677264499, 'time_kurt': 0.1380375653676638, 'freq_mean': 0.001152481279921905, 'freq_var': 0.0016274073113062084, 'freq_skew': 0.39625671762950404, 'freq_kurt': 4.628783002021052}\n"
     ]
    },
    {
     "name": "stderr",
     "output_type": "stream",
     "text": [
      "19it [00:01, 14.03it/s]\n"
     ]
    },
    {
     "name": "stdout",
     "output_type": "stream",
     "text": [
      "{'method': 'tauleaping', 'g_steps': 0, 'tau_steps': 20, 'use_corrector': True, 'corrector': 'mpf', 'c_stepsize': 0.1, 'c_steps': 1, 'nfe': 38.0, 'time_mean': 0.0010215749480288147, 'time_var': 0.00011336353866905885, 'time_skew': 0.02799223084985405, 'time_kurt': 0.15506467140105773, 'freq_mean': 0.0010215756408548185, 'freq_var': 0.0019101134386570779, 'freq_skew': 0.4168894396062562, 'freq_kurt': 4.510214989829044}\n"
     ]
    },
    {
     "name": "stderr",
     "output_type": "stream",
     "text": [
      "19it [00:01, 14.03it/s]\n"
     ]
    },
    {
     "name": "stdout",
     "output_type": "stream",
     "text": [
      "{'method': 'tauleaping', 'g_steps': 0, 'tau_steps': 20, 'use_corrector': True, 'corrector': 'mpf', 'c_stepsize': 0.1, 'c_steps': 1, 'nfe': 38.0, 'time_mean': 0.0014799145405145456, 'time_var': 0.0002809565188306486, 'time_skew': 0.039503679712672525, 'time_kurt': 0.19293412364011295, 'freq_mean': 0.0014799156451535112, 'freq_var': 0.001265059340624647, 'freq_skew': 0.33966341554143725, 'freq_kurt': 2.7208920319231127}\n"
     ]
    },
    {
     "name": "stderr",
     "output_type": "stream",
     "text": [
      "19it [00:01, 14.09it/s]\n"
     ]
    },
    {
     "name": "stdout",
     "output_type": "stream",
     "text": [
      "{'method': 'tauleaping', 'g_steps': 0, 'tau_steps': 20, 'use_corrector': True, 'corrector': 'mpf', 'c_stepsize': 0.1, 'c_steps': 1, 'nfe': 38.0, 'time_mean': 0.0016619900403637025, 'time_var': 0.00012100075435782786, 'time_skew': 0.05918664248238641, 'time_kurt': 0.4163282995554744, 'freq_mean': 0.0016619909011309831, 'freq_var': 0.001653239515352596, 'freq_skew': 0.4143218632082534, 'freq_kurt': 3.7580019350485117}\n"
     ]
    },
    {
     "name": "stderr",
     "output_type": "stream",
     "text": [
      "19it [00:01, 14.07it/s]\n"
     ]
    },
    {
     "name": "stdout",
     "output_type": "stream",
     "text": [
      "{'method': 'tauleaping', 'g_steps': 0, 'tau_steps': 20, 'use_corrector': True, 'corrector': 'mpf', 'c_stepsize': 0.1, 'c_steps': 1, 'nfe': 38.0, 'time_mean': 0.0017972332490597586, 'time_var': 0.0001948158738508728, 'time_skew': 0.03872696021101499, 'time_kurt': 0.1998314392886514, 'freq_mean': 0.0017972337797926385, 'freq_var': 0.0021940494587798978, 'freq_skew': 0.4192008629498064, 'freq_kurt': 4.317996200759231}\n"
     ]
    },
    {
     "name": "stderr",
     "output_type": "stream",
     "text": [
      "19it [00:01, 14.08it/s]\n"
     ]
    },
    {
     "name": "stdout",
     "output_type": "stream",
     "text": [
      "{'method': 'tauleaping', 'g_steps': 0, 'tau_steps': 20, 'use_corrector': True, 'corrector': 'mpf', 'c_stepsize': 0.1, 'c_steps': 1, 'nfe': 38.0, 'time_mean': 0.0007294335263470613, 'time_var': 0.0001702647362378987, 'time_skew': 0.029214988846192672, 'time_kurt': 0.18515021869365142, 'freq_mean': 0.0007294339792902354, 'freq_var': 0.0013149967501595757, 'freq_skew': 0.46031815348008853, 'freq_kurt': 3.779350428429411}\n",
      "Experiment results saved to  gene_results.csv\n"
     ]
    },
    {
     "name": "stderr",
     "output_type": "stream",
     "text": [
      "29it [00:02, 13.90it/s]\n"
     ]
    },
    {
     "name": "stdout",
     "output_type": "stream",
     "text": [
      "{'method': 'tauleaping', 'g_steps': 0, 'tau_steps': 30, 'use_corrector': True, 'corrector': 'mpf', 'c_stepsize': 0.1, 'c_steps': 1, 'nfe': 57.0, 'time_mean': 0.0006459946030472954, 'time_var': 7.250544619975446e-05, 'time_skew': 0.02497341026117317, 'time_kurt': 0.14636027087621467, 'freq_mean': 0.0006459952221533687, 'freq_var': 0.0007981131225582712, 'freq_skew': 0.42521170931451824, 'freq_kurt': 3.552016654824523}\n"
     ]
    },
    {
     "name": "stderr",
     "output_type": "stream",
     "text": [
      "29it [00:02, 13.86it/s]\n"
     ]
    },
    {
     "name": "stdout",
     "output_type": "stream",
     "text": [
      "{'method': 'tauleaping', 'g_steps': 0, 'tau_steps': 30, 'use_corrector': True, 'corrector': 'mpf', 'c_stepsize': 0.1, 'c_steps': 1, 'nfe': 57.0, 'time_mean': 0.0009221988485413229, 'time_var': 9.57354950704702e-05, 'time_skew': 0.026746149146098526, 'time_kurt': 0.1928272285942713, 'freq_mean': 0.0009221997285501095, 'freq_var': 0.0010154329142127003, 'freq_skew': 0.4509690106049523, 'freq_kurt': 4.184358423809203}\n"
     ]
    },
    {
     "name": "stderr",
     "output_type": "stream",
     "text": [
      "29it [00:02, 13.89it/s]\n"
     ]
    },
    {
     "name": "stdout",
     "output_type": "stream",
     "text": [
      "{'method': 'tauleaping', 'g_steps': 0, 'tau_steps': 30, 'use_corrector': True, 'corrector': 'mpf', 'c_stepsize': 0.1, 'c_steps': 1, 'nfe': 57.0, 'time_mean': 0.0008657826538289859, 'time_var': 8.972911034950401e-05, 'time_skew': 0.050814572278253436, 'time_kurt': 0.15933709564510853, 'freq_mean': 0.000865783502420196, 'freq_var': 0.00035609562169473525, 'freq_skew': 0.3915730982550291, 'freq_kurt': 4.8065049686936225}\n"
     ]
    },
    {
     "name": "stderr",
     "output_type": "stream",
     "text": [
      "29it [00:02, 13.89it/s]\n"
     ]
    },
    {
     "name": "stdout",
     "output_type": "stream",
     "text": [
      "{'method': 'tauleaping', 'g_steps': 0, 'tau_steps': 30, 'use_corrector': True, 'corrector': 'mpf', 'c_stepsize': 0.1, 'c_steps': 1, 'nfe': 57.0, 'time_mean': 0.0010810749442555958, 'time_var': 0.00010509888495126067, 'time_skew': 0.04581277019772855, 'time_kurt': 0.6117570002875564, 'freq_mean': 0.0010810757259969354, 'freq_var': 0.00124079698014034, 'freq_skew': 0.33835802916188296, 'freq_kurt': 2.339364757743213}\n"
     ]
    },
    {
     "name": "stderr",
     "output_type": "stream",
     "text": [
      "29it [00:02, 13.87it/s]\n"
     ]
    },
    {
     "name": "stdout",
     "output_type": "stream",
     "text": [
      "{'method': 'tauleaping', 'g_steps': 0, 'tau_steps': 30, 'use_corrector': True, 'corrector': 'mpf', 'c_stepsize': 0.1, 'c_steps': 1, 'nfe': 57.0, 'time_mean': 0.0016040167386821662, 'time_var': 0.00012544702215490925, 'time_skew': 0.04288932418483456, 'time_kurt': 0.39833192851732163, 'freq_mean': 0.001604017973597296, 'freq_var': 0.0012959371550478925, 'freq_skew': 0.4110192498534346, 'freq_kurt': 4.253219102271629}\n"
     ]
    },
    {
     "name": "stderr",
     "output_type": "stream",
     "text": [
      "29it [00:02, 13.90it/s]\n"
     ]
    },
    {
     "name": "stdout",
     "output_type": "stream",
     "text": [
      "{'method': 'tauleaping', 'g_steps': 0, 'tau_steps': 30, 'use_corrector': True, 'corrector': 'mpf', 'c_stepsize': 0.1, 'c_steps': 1, 'nfe': 57.0, 'time_mean': 0.0007151084370649249, 'time_var': 0.00011316483804393464, 'time_skew': 0.028130529820436772, 'time_kurt': 0.19109642858669418, 'freq_mean': 0.0007151091266651665, 'freq_var': 0.0015818178354435742, 'freq_skew': 0.5130192945195603, 'freq_kurt': 5.701833089411733}\n"
     ]
    },
    {
     "name": "stderr",
     "output_type": "stream",
     "text": [
      "29it [00:02, 13.80it/s]\n"
     ]
    },
    {
     "name": "stdout",
     "output_type": "stream",
     "text": [
      "{'method': 'tauleaping', 'g_steps': 0, 'tau_steps': 30, 'use_corrector': True, 'corrector': 'mpf', 'c_stepsize': 0.1, 'c_steps': 1, 'nfe': 57.0, 'time_mean': 0.0011980271495697398, 'time_var': 9.448553501189782e-05, 'time_skew': 0.03378101301670923, 'time_kurt': 0.48140252545694806, 'freq_mean': 0.0011980277043446507, 'freq_var': 0.0015896190504518565, 'freq_skew': 0.3932426150276277, 'freq_kurt': 4.311722533935467}\n"
     ]
    },
    {
     "name": "stderr",
     "output_type": "stream",
     "text": [
      "29it [00:02, 13.87it/s]\n"
     ]
    },
    {
     "name": "stdout",
     "output_type": "stream",
     "text": [
      "{'method': 'tauleaping', 'g_steps': 0, 'tau_steps': 30, 'use_corrector': True, 'corrector': 'mpf', 'c_stepsize': 0.1, 'c_steps': 1, 'nfe': 57.0, 'time_mean': 0.0013351996450780724, 'time_var': 0.00015416149320846497, 'time_skew': 0.05130099860773372, 'time_kurt': 0.7232690331031714, 'freq_mean': 0.0013352003895438717, 'freq_var': 0.0022844829998434056, 'freq_skew': 0.36931898970385735, 'freq_kurt': 3.735282380068081}\n"
     ]
    },
    {
     "name": "stderr",
     "output_type": "stream",
     "text": [
      "29it [00:02, 13.91it/s]\n"
     ]
    },
    {
     "name": "stdout",
     "output_type": "stream",
     "text": [
      "{'method': 'tauleaping', 'g_steps': 0, 'tau_steps': 30, 'use_corrector': True, 'corrector': 'mpf', 'c_stepsize': 0.1, 'c_steps': 1, 'nfe': 57.0, 'time_mean': 0.0016642951223968404, 'time_var': 0.0001628470968779927, 'time_skew': 0.04472819848684696, 'time_kurt': 0.351404350712022, 'freq_mean': 0.001664296363013534, 'freq_var': 0.0014844289542663854, 'freq_skew': 0.4429534872318687, 'freq_kurt': 3.9916584037496814}\n"
     ]
    },
    {
     "name": "stderr",
     "output_type": "stream",
     "text": [
      "29it [00:02, 13.90it/s]\n"
     ]
    },
    {
     "name": "stdout",
     "output_type": "stream",
     "text": [
      "{'method': 'tauleaping', 'g_steps': 0, 'tau_steps': 30, 'use_corrector': True, 'corrector': 'mpf', 'c_stepsize': 0.1, 'c_steps': 1, 'nfe': 57.0, 'time_mean': 0.001630801421902101, 'time_var': 9.133726906640706e-05, 'time_skew': 0.03428120600358477, 'time_kurt': 0.28044951485315495, 'freq_mean': 0.0016308021775753494, 'freq_var': 0.0017746919223909526, 'freq_skew': 0.3715675236189096, 'freq_kurt': 3.7072791402429535}\n"
     ]
    },
    {
     "name": "stderr",
     "output_type": "stream",
     "text": [
      "29it [00:02, 13.89it/s]\n"
     ]
    },
    {
     "name": "stdout",
     "output_type": "stream",
     "text": [
      "{'method': 'tauleaping', 'g_steps': 0, 'tau_steps': 30, 'use_corrector': True, 'corrector': 'mpf', 'c_stepsize': 0.1, 'c_steps': 1, 'nfe': 57.0, 'time_mean': 0.0012683718567741292, 'time_var': 0.00011416085472055409, 'time_skew': 0.033243910754160944, 'time_kurt': 0.37272241730444206, 'freq_mean': 0.0012683718965539237, 'freq_var': 0.0015039327978006993, 'freq_skew': 0.38013734293539325, 'freq_kurt': 3.8117494944318815}\n"
     ]
    },
    {
     "name": "stderr",
     "output_type": "stream",
     "text": [
      "29it [00:02, 13.90it/s]\n"
     ]
    },
    {
     "name": "stdout",
     "output_type": "stream",
     "text": [
      "{'method': 'tauleaping', 'g_steps': 0, 'tau_steps': 30, 'use_corrector': True, 'corrector': 'mpf', 'c_stepsize': 0.1, 'c_steps': 1, 'nfe': 57.0, 'time_mean': 0.0006025272113162057, 'time_var': 7.763584408155352e-05, 'time_skew': 0.035232939546991145, 'time_kurt': 0.1671531358640698, 'freq_mean': 0.0006025280918362017, 'freq_var': 0.0007745903377240138, 'freq_skew': 0.47027449340093574, 'freq_kurt': 4.6215261830769645}\n"
     ]
    },
    {
     "name": "stderr",
     "output_type": "stream",
     "text": [
      "29it [00:02, 13.92it/s]\n"
     ]
    },
    {
     "name": "stdout",
     "output_type": "stream",
     "text": [
      "{'method': 'tauleaping', 'g_steps': 0, 'tau_steps': 30, 'use_corrector': True, 'corrector': 'mpf', 'c_stepsize': 0.1, 'c_steps': 1, 'nfe': 57.0, 'time_mean': 0.0016232282958314548, 'time_var': 9.767466098684412e-05, 'time_skew': 0.03244539614991488, 'time_kurt': 0.27024609854501364, 'freq_mean': 0.0016232281994785376, 'freq_var': 0.0019669971777576674, 'freq_skew': 0.532786962384255, 'freq_kurt': 4.737715799030551}\n"
     ]
    },
    {
     "name": "stderr",
     "output_type": "stream",
     "text": [
      "29it [00:02, 13.90it/s]\n"
     ]
    },
    {
     "name": "stdout",
     "output_type": "stream",
     "text": [
      "{'method': 'tauleaping', 'g_steps': 0, 'tau_steps': 30, 'use_corrector': True, 'corrector': 'mpf', 'c_stepsize': 0.1, 'c_steps': 1, 'nfe': 57.0, 'time_mean': 0.002417195969531126, 'time_var': 0.00021512912607589475, 'time_skew': 0.04170004061261598, 'time_kurt': 0.5532638103160793, 'freq_mean': 0.0024171964117944934, 'freq_var': 0.0019340486734112775, 'freq_skew': 0.5320460337213634, 'freq_kurt': 4.516026002365371}\n"
     ]
    },
    {
     "name": "stderr",
     "output_type": "stream",
     "text": [
      "29it [00:02, 13.91it/s]\n"
     ]
    },
    {
     "name": "stdout",
     "output_type": "stream",
     "text": [
      "{'method': 'tauleaping', 'g_steps': 0, 'tau_steps': 30, 'use_corrector': True, 'corrector': 'mpf', 'c_stepsize': 0.1, 'c_steps': 1, 'nfe': 57.0, 'time_mean': 0.001804507666342987, 'time_var': 0.00021036914695148103, 'time_skew': 0.05448976976259541, 'time_kurt': 0.6856428005555966, 'freq_mean': 0.001804508290505002, 'freq_var': 0.002809054362135722, 'freq_skew': 0.43055001759695594, 'freq_kurt': 3.8001172759955097}\n"
     ]
    },
    {
     "name": "stderr",
     "output_type": "stream",
     "text": [
      "29it [00:02, 13.87it/s]\n"
     ]
    },
    {
     "name": "stdout",
     "output_type": "stream",
     "text": [
      "{'method': 'tauleaping', 'g_steps': 0, 'tau_steps': 30, 'use_corrector': True, 'corrector': 'mpf', 'c_stepsize': 0.1, 'c_steps': 1, 'nfe': 57.0, 'time_mean': 0.0008379855277662202, 'time_var': 7.271865317660641e-05, 'time_skew': 0.030004928858883943, 'time_kurt': 0.14109075232583443, 'freq_mean': 0.0008379864087940154, 'freq_var': 0.0005201761701570846, 'freq_skew': 0.3885115710851841, 'freq_kurt': 3.3420069505280368}\n"
     ]
    },
    {
     "name": "stderr",
     "output_type": "stream",
     "text": [
      "29it [00:02, 13.92it/s]\n"
     ]
    },
    {
     "name": "stdout",
     "output_type": "stream",
     "text": [
      "{'method': 'tauleaping', 'g_steps': 0, 'tau_steps': 30, 'use_corrector': True, 'corrector': 'mpf', 'c_stepsize': 0.1, 'c_steps': 1, 'nfe': 57.0, 'time_mean': 0.0012369084269590973, 'time_var': 0.00010724040580374066, 'time_skew': 0.028024908863598087, 'time_kurt': 0.30902267022985735, 'freq_mean': 0.0012369089179080424, 'freq_var': 0.0018104051805025926, 'freq_skew': 0.27639512191143456, 'freq_kurt': 3.2064985898226177}\n"
     ]
    },
    {
     "name": "stderr",
     "output_type": "stream",
     "text": [
      "29it [00:02, 13.93it/s]\n"
     ]
    },
    {
     "name": "stdout",
     "output_type": "stream",
     "text": [
      "{'method': 'tauleaping', 'g_steps': 0, 'tau_steps': 30, 'use_corrector': True, 'corrector': 'mpf', 'c_stepsize': 0.1, 'c_steps': 1, 'nfe': 57.0, 'time_mean': 0.0004178122115570103, 'time_var': 0.00018819827977071892, 'time_skew': 0.017738141618455727, 'time_kurt': 0.10963010538529974, 'freq_mean': 0.0004178130320101334, 'freq_var': 0.0007889748018674223, 'freq_skew': 0.4324401529408165, 'freq_kurt': 3.859500423798782}\n"
     ]
    },
    {
     "name": "stderr",
     "output_type": "stream",
     "text": [
      "29it [00:02, 13.80it/s]\n"
     ]
    },
    {
     "name": "stdout",
     "output_type": "stream",
     "text": [
      "{'method': 'tauleaping', 'g_steps': 0, 'tau_steps': 30, 'use_corrector': True, 'corrector': 'mpf', 'c_stepsize': 0.1, 'c_steps': 1, 'nfe': 57.0, 'time_mean': 0.0004990003474525273, 'time_var': 6.579854221368759e-05, 'time_skew': 0.029946954467951075, 'time_kurt': 0.1535606069584399, 'freq_mean': 0.0004990007886362845, 'freq_var': 0.0007423991609330159, 'freq_skew': 0.3818199017934315, 'freq_kurt': 3.8308880110217465}\n"
     ]
    },
    {
     "name": "stderr",
     "output_type": "stream",
     "text": [
      "29it [00:02, 13.90it/s]\n"
     ]
    },
    {
     "name": "stdout",
     "output_type": "stream",
     "text": [
      "{'method': 'tauleaping', 'g_steps': 0, 'tau_steps': 30, 'use_corrector': True, 'corrector': 'mpf', 'c_stepsize': 0.1, 'c_steps': 1, 'nfe': 57.0, 'time_mean': 0.0018965926727314106, 'time_var': 0.00010530374681224553, 'time_skew': 0.04323694724539261, 'time_kurt': 0.2811790205694573, 'freq_mean': 0.0018965930095029742, 'freq_var': 0.0016434327666938586, 'freq_skew': 0.4763150106779777, 'freq_kurt': 3.7006138018128802}\n",
      "Experiment results saved to  gene_results.csv\n"
     ]
    },
    {
     "name": "stderr",
     "output_type": "stream",
     "text": [
      "59it [00:04, 13.75it/s]\n"
     ]
    },
    {
     "name": "stdout",
     "output_type": "stream",
     "text": [
      "{'method': 'tauleaping', 'g_steps': 0, 'tau_steps': 60, 'use_corrector': True, 'corrector': 'mpf', 'c_stepsize': 0.1, 'c_steps': 1, 'nfe': 114.0, 'time_mean': 0.0012885269848853728, 'time_var': 0.00029662648512805576, 'time_skew': 0.05435282353060364, 'time_kurt': 0.24690113901314614, 'freq_mean': 0.0012885268904664624, 'freq_var': 0.002018754583966028, 'freq_skew': 0.6093362608089367, 'freq_kurt': 5.885026169001862}\n"
     ]
    },
    {
     "name": "stderr",
     "output_type": "stream",
     "text": [
      "59it [00:04, 13.77it/s]\n"
     ]
    },
    {
     "name": "stdout",
     "output_type": "stream",
     "text": [
      "{'method': 'tauleaping', 'g_steps': 0, 'tau_steps': 60, 'use_corrector': True, 'corrector': 'mpf', 'c_stepsize': 0.1, 'c_steps': 1, 'nfe': 114.0, 'time_mean': 0.0015599075640915768, 'time_var': 0.00018261339490266825, 'time_skew': 0.05052316502415888, 'time_kurt': 0.3226008247294537, 'freq_mean': 0.0015599076649911714, 'freq_var': 0.0021751965959379634, 'freq_skew': 0.568331308074358, 'freq_kurt': 3.424530134109708}\n"
     ]
    },
    {
     "name": "stderr",
     "output_type": "stream",
     "text": [
      "59it [00:04, 13.77it/s]\n"
     ]
    },
    {
     "name": "stdout",
     "output_type": "stream",
     "text": [
      "{'method': 'tauleaping', 'g_steps': 0, 'tau_steps': 60, 'use_corrector': True, 'corrector': 'mpf', 'c_stepsize': 0.1, 'c_steps': 1, 'nfe': 114.0, 'time_mean': 0.0015393985523246073, 'time_var': 0.0001331839386574686, 'time_skew': 0.048186071753971924, 'time_kurt': 0.5194833549821639, 'freq_mean': 0.0015393995837371546, 'freq_var': 0.0017227559709218966, 'freq_skew': 0.4356860730651617, 'freq_kurt': 3.4198204999459056}\n"
     ]
    },
    {
     "name": "stderr",
     "output_type": "stream",
     "text": [
      "59it [00:04, 13.78it/s]\n"
     ]
    },
    {
     "name": "stdout",
     "output_type": "stream",
     "text": [
      "{'method': 'tauleaping', 'g_steps': 0, 'tau_steps': 60, 'use_corrector': True, 'corrector': 'mpf', 'c_stepsize': 0.1, 'c_steps': 1, 'nfe': 114.0, 'time_mean': 0.0020040337084556857, 'time_var': 0.00031885016012971426, 'time_skew': 0.04377433796707685, 'time_kurt': 0.44516847678439025, 'freq_mean': 0.0020040337898391113, 'freq_var': 0.0021256997153625144, 'freq_skew': 0.3238055631053891, 'freq_kurt': 3.096497717769718}\n"
     ]
    },
    {
     "name": "stderr",
     "output_type": "stream",
     "text": [
      "59it [00:04, 13.74it/s]\n"
     ]
    },
    {
     "name": "stdout",
     "output_type": "stream",
     "text": [
      "{'method': 'tauleaping', 'g_steps': 0, 'tau_steps': 60, 'use_corrector': True, 'corrector': 'mpf', 'c_stepsize': 0.1, 'c_steps': 1, 'nfe': 114.0, 'time_mean': 0.000660396830541665, 'time_var': 0.00038116768716390045, 'time_skew': 0.03219355719653688, 'time_kurt': 0.3134640405051449, 'freq_mean': 0.0006603973508825169, 'freq_var': 0.0012428558196159853, 'freq_skew': 0.515356606375962, 'freq_kurt': 4.1523226896897585}\n"
     ]
    },
    {
     "name": "stderr",
     "output_type": "stream",
     "text": [
      "59it [00:04, 13.79it/s]\n"
     ]
    },
    {
     "name": "stdout",
     "output_type": "stream",
     "text": [
      "{'method': 'tauleaping', 'g_steps': 0, 'tau_steps': 60, 'use_corrector': True, 'corrector': 'mpf', 'c_stepsize': 0.1, 'c_steps': 1, 'nfe': 114.0, 'time_mean': 0.0014203895412243414, 'time_var': 0.00010618120639888753, 'time_skew': 0.035457397419918046, 'time_kurt': 0.4027799261694769, 'freq_mean': 0.0014203898579735847, 'freq_var': 0.0005508642104085194, 'freq_skew': 0.3813575432895562, 'freq_kurt': 3.4357672427487715}\n"
     ]
    },
    {
     "name": "stderr",
     "output_type": "stream",
     "text": [
      "59it [00:04, 13.69it/s]\n"
     ]
    },
    {
     "name": "stdout",
     "output_type": "stream",
     "text": [
      "{'method': 'tauleaping', 'g_steps': 0, 'tau_steps': 60, 'use_corrector': True, 'corrector': 'mpf', 'c_stepsize': 0.1, 'c_steps': 1, 'nfe': 114.0, 'time_mean': 0.0012735703984478642, 'time_var': 0.00018408976652789773, 'time_skew': 0.04557548831469866, 'time_kurt': 0.44125900138650637, 'freq_mean': 0.001273570497390436, 'freq_var': 0.0012656124240862, 'freq_skew': 0.33947805219639066, 'freq_kurt': 2.5738263268943684}\n"
     ]
    },
    {
     "name": "stderr",
     "output_type": "stream",
     "text": [
      "59it [00:04, 13.79it/s]\n"
     ]
    },
    {
     "name": "stdout",
     "output_type": "stream",
     "text": [
      "{'method': 'tauleaping', 'g_steps': 0, 'tau_steps': 60, 'use_corrector': True, 'corrector': 'mpf', 'c_stepsize': 0.1, 'c_steps': 1, 'nfe': 114.0, 'time_mean': 0.0015661762819577764, 'time_var': 0.00015231187359561802, 'time_skew': 0.040647718068544475, 'time_kurt': 0.49336733205842886, 'freq_mean': 0.0015661765262539394, 'freq_var': 0.00225548308579953, 'freq_skew': 0.5672093105745412, 'freq_kurt': 4.560044434925334}\n"
     ]
    },
    {
     "name": "stderr",
     "output_type": "stream",
     "text": [
      "59it [00:04, 13.78it/s]\n"
     ]
    },
    {
     "name": "stdout",
     "output_type": "stream",
     "text": [
      "{'method': 'tauleaping', 'g_steps': 0, 'tau_steps': 60, 'use_corrector': True, 'corrector': 'mpf', 'c_stepsize': 0.1, 'c_steps': 1, 'nfe': 114.0, 'time_mean': 0.0009185804036190675, 'time_var': 7.729653448290992e-05, 'time_skew': 0.041644737451593486, 'time_kurt': 0.35238507108422645, 'freq_mean': 0.0009185803391533371, 'freq_var': 0.0018180886030396129, 'freq_skew': 0.2781671998244974, 'freq_kurt': 2.2361420334707227}\n"
     ]
    },
    {
     "name": "stderr",
     "output_type": "stream",
     "text": [
      "59it [00:04, 13.72it/s]\n"
     ]
    },
    {
     "name": "stdout",
     "output_type": "stream",
     "text": [
      "{'method': 'tauleaping', 'g_steps': 0, 'tau_steps': 60, 'use_corrector': True, 'corrector': 'mpf', 'c_stepsize': 0.1, 'c_steps': 1, 'nfe': 114.0, 'time_mean': 0.0013014106166462495, 'time_var': 8.88235466430198e-05, 'time_skew': 0.035883084775815914, 'time_kurt': 0.28551052220316736, 'freq_mean': 0.0013014108388257277, 'freq_var': 0.0011045234600816245, 'freq_skew': 0.3941455974476284, 'freq_kurt': 4.36330744412039}\n"
     ]
    },
    {
     "name": "stderr",
     "output_type": "stream",
     "text": [
      "59it [00:04, 13.80it/s]\n"
     ]
    },
    {
     "name": "stdout",
     "output_type": "stream",
     "text": [
      "{'method': 'tauleaping', 'g_steps': 0, 'tau_steps': 60, 'use_corrector': True, 'corrector': 'mpf', 'c_stepsize': 0.1, 'c_steps': 1, 'nfe': 114.0, 'time_mean': 0.0013947039206694642, 'time_var': 9.818255930319176e-05, 'time_skew': 0.06323242881739567, 'time_kurt': 0.5028830040981835, 'freq_mean': 0.0013947039861399253, 'freq_var': 0.0013276915463493733, 'freq_skew': 0.5105976714118571, 'freq_kurt': 3.502140318091382}\n"
     ]
    },
    {
     "name": "stderr",
     "output_type": "stream",
     "text": [
      "59it [00:04, 13.79it/s]\n"
     ]
    },
    {
     "name": "stdout",
     "output_type": "stream",
     "text": [
      "{'method': 'tauleaping', 'g_steps': 0, 'tau_steps': 60, 'use_corrector': True, 'corrector': 'mpf', 'c_stepsize': 0.1, 'c_steps': 1, 'nfe': 114.0, 'time_mean': 0.0008745790994748336, 'time_var': 0.00022460327595945768, 'time_skew': 0.03250059784695588, 'time_kurt': 0.35254174877860084, 'freq_mean': 0.0008745796742338543, 'freq_var': 0.0009555872243851328, 'freq_skew': 0.3774539552468764, 'freq_kurt': 2.7792463802884204}\n"
     ]
    },
    {
     "name": "stderr",
     "output_type": "stream",
     "text": [
      "59it [00:04, 13.67it/s]\n"
     ]
    },
    {
     "name": "stdout",
     "output_type": "stream",
     "text": [
      "{'method': 'tauleaping', 'g_steps': 0, 'tau_steps': 60, 'use_corrector': True, 'corrector': 'mpf', 'c_stepsize': 0.1, 'c_steps': 1, 'nfe': 114.0, 'time_mean': 0.0016529442067497785, 'time_var': 4.831206844775403e-05, 'time_skew': 0.04887348879120074, 'time_kurt': 0.2649315368609479, 'freq_mean': 0.0016529449574804193, 'freq_var': 0.0004188520119639087, 'freq_skew': 0.3879443658364797, 'freq_kurt': 3.0698634769596476}\n"
     ]
    },
    {
     "name": "stderr",
     "output_type": "stream",
     "text": [
      "59it [00:04, 13.76it/s]\n"
     ]
    },
    {
     "name": "stdout",
     "output_type": "stream",
     "text": [
      "{'method': 'tauleaping', 'g_steps': 0, 'tau_steps': 60, 'use_corrector': True, 'corrector': 'mpf', 'c_stepsize': 0.1, 'c_steps': 1, 'nfe': 114.0, 'time_mean': 0.001501169343498881, 'time_var': 0.0002440534445478812, 'time_skew': 0.03865201620147574, 'time_kurt': 0.3488039508965894, 'freq_mean': 0.0015011698231476292, 'freq_var': 0.0021551387202052206, 'freq_skew': 0.4103497237014258, 'freq_kurt': 3.3035063281247825}\n"
     ]
    },
    {
     "name": "stderr",
     "output_type": "stream",
     "text": [
      "59it [00:04, 13.37it/s]\n"
     ]
    },
    {
     "name": "stdout",
     "output_type": "stream",
     "text": [
      "{'method': 'tauleaping', 'g_steps': 0, 'tau_steps': 60, 'use_corrector': True, 'corrector': 'mpf', 'c_stepsize': 0.1, 'c_steps': 1, 'nfe': 114.0, 'time_mean': 0.001694698150027265, 'time_var': 0.0002210218131100434, 'time_skew': 0.04976818246028055, 'time_kurt': 0.5044592514192838, 'freq_mean': 0.0016946990587971972, 'freq_var': 0.0016887008896404358, 'freq_skew': 0.4148104732348514, 'freq_kurt': 3.6522702747679814}\n"
     ]
    },
    {
     "name": "stderr",
     "output_type": "stream",
     "text": [
      "59it [00:04, 13.75it/s]\n"
     ]
    },
    {
     "name": "stdout",
     "output_type": "stream",
     "text": [
      "{'method': 'tauleaping', 'g_steps': 0, 'tau_steps': 60, 'use_corrector': True, 'corrector': 'mpf', 'c_stepsize': 0.1, 'c_steps': 1, 'nfe': 114.0, 'time_mean': 0.0013278240124457695, 'time_var': 0.00010658500576342673, 'time_skew': 0.03735442803341804, 'time_kurt': 0.6230764048305417, 'freq_mean': 0.0013278237145813376, 'freq_var': 0.000985442604339264, 'freq_skew': 0.3465689681103893, 'freq_kurt': 3.4464973589119023}\n"
     ]
    },
    {
     "name": "stderr",
     "output_type": "stream",
     "text": [
      "59it [00:04, 13.75it/s]\n"
     ]
    },
    {
     "name": "stdout",
     "output_type": "stream",
     "text": [
      "{'method': 'tauleaping', 'g_steps': 0, 'tau_steps': 60, 'use_corrector': True, 'corrector': 'mpf', 'c_stepsize': 0.1, 'c_steps': 1, 'nfe': 114.0, 'time_mean': 0.0022311860827730224, 'time_var': 0.0001796470552834997, 'time_skew': 0.05718371169376237, 'time_kurt': 1.0151864059234097, 'freq_mean': 0.00223118623082895, 'freq_var': 0.0019570153967466966, 'freq_skew': 0.40939113015007234, 'freq_kurt': 3.6983001002855924}\n"
     ]
    },
    {
     "name": "stderr",
     "output_type": "stream",
     "text": [
      "59it [00:04, 13.74it/s]\n"
     ]
    },
    {
     "name": "stdout",
     "output_type": "stream",
     "text": [
      "{'method': 'tauleaping', 'g_steps': 0, 'tau_steps': 60, 'use_corrector': True, 'corrector': 'mpf', 'c_stepsize': 0.1, 'c_steps': 1, 'nfe': 114.0, 'time_mean': 0.001515154837025226, 'time_var': 0.00028433060612930854, 'time_skew': 0.05115140508196593, 'time_kurt': 0.5062723628818707, 'freq_mean': 0.001515155759915413, 'freq_var': 0.001302399568570161, 'freq_skew': 0.440396093487501, 'freq_kurt': 5.112894499786549}\n"
     ]
    },
    {
     "name": "stderr",
     "output_type": "stream",
     "text": [
      "59it [00:04, 13.76it/s]\n"
     ]
    },
    {
     "name": "stdout",
     "output_type": "stream",
     "text": [
      "{'method': 'tauleaping', 'g_steps': 0, 'tau_steps': 60, 'use_corrector': True, 'corrector': 'mpf', 'c_stepsize': 0.1, 'c_steps': 1, 'nfe': 114.0, 'time_mean': 0.0010747942076187443, 'time_var': 9.324886063791792e-05, 'time_skew': 0.03241082591325899, 'time_kurt': 0.20074655946335512, 'freq_mean': 0.0010747946579173278, 'freq_var': 0.0005285420989594361, 'freq_skew': 0.2821552164106924, 'freq_kurt': 3.117147158553702}\n"
     ]
    },
    {
     "name": "stderr",
     "output_type": "stream",
     "text": [
      "59it [00:04, 13.71it/s]\n"
     ]
    },
    {
     "name": "stdout",
     "output_type": "stream",
     "text": [
      "{'method': 'tauleaping', 'g_steps': 0, 'tau_steps': 60, 'use_corrector': True, 'corrector': 'mpf', 'c_stepsize': 0.1, 'c_steps': 1, 'nfe': 114.0, 'time_mean': 0.000865670598438163, 'time_var': 0.0001004472456755808, 'time_skew': 0.023722177687813133, 'time_kurt': 0.3919348078895159, 'freq_mean': 0.0008656707116806839, 'freq_var': 0.0012586528508494084, 'freq_skew': 0.38775803421729194, 'freq_kurt': 4.079426755430761}\n",
      "Experiment results saved to  gene_results.csv\n"
     ]
    },
    {
     "name": "stderr",
     "output_type": "stream",
     "text": [
      "19it [00:01, 14.09it/s]\n"
     ]
    },
    {
     "name": "stdout",
     "output_type": "stream",
     "text": [
      "{'method': 'tauleaping', 'g_steps': 0, 'tau_steps': 20, 'use_corrector': True, 'corrector': 'barker', 'c_stepsize': 0.1, 'c_steps': 1, 'nfe': 38.0, 'time_mean': 0.004405748043461775, 'time_var': 0.002298045110706175, 'time_skew': 0.8652280617470597, 'time_kurt': 1.9623063781104682, 'freq_mean': 0.004405760451416389, 'freq_var': 0.009458330007604088, 'freq_skew': 1.0873266868338487, 'freq_kurt': 11.949850812268815}\n"
     ]
    },
    {
     "name": "stderr",
     "output_type": "stream",
     "text": [
      "19it [00:01, 14.10it/s]\n"
     ]
    },
    {
     "name": "stdout",
     "output_type": "stream",
     "text": [
      "{'method': 'tauleaping', 'g_steps': 0, 'tau_steps': 20, 'use_corrector': True, 'corrector': 'barker', 'c_stepsize': 0.1, 'c_steps': 1, 'nfe': 38.0, 'time_mean': 0.0033854993167213242, 'time_var': 0.0023979587675805767, 'time_skew': 0.7526476798760233, 'time_kurt': 1.7856193626680112, 'freq_mean': 0.0033855102690291683, 'freq_var': 0.008049783282790135, 'freq_skew': 1.0382323838662637, 'freq_kurt': 11.474343197031857}\n"
     ]
    },
    {
     "name": "stderr",
     "output_type": "stream",
     "text": [
      "19it [00:01, 14.05it/s]\n"
     ]
    },
    {
     "name": "stdout",
     "output_type": "stream",
     "text": [
      "{'method': 'tauleaping', 'g_steps': 0, 'tau_steps': 20, 'use_corrector': True, 'corrector': 'barker', 'c_stepsize': 0.1, 'c_steps': 1, 'nfe': 38.0, 'time_mean': 0.004730679689874683, 'time_var': 0.0028155588789014383, 'time_skew': 0.832385560685372, 'time_kurt': 1.5924982247781296, 'freq_mean': 0.004730691909866842, 'freq_var': 0.00850502613712545, 'freq_skew': 1.0631480089638459, 'freq_kurt': 11.969348668198977}\n"
     ]
    },
    {
     "name": "stderr",
     "output_type": "stream",
     "text": [
      "19it [00:01, 13.95it/s]\n"
     ]
    },
    {
     "name": "stdout",
     "output_type": "stream",
     "text": [
      "{'method': 'tauleaping', 'g_steps': 0, 'tau_steps': 20, 'use_corrector': True, 'corrector': 'barker', 'c_stepsize': 0.1, 'c_steps': 1, 'nfe': 38.0, 'time_mean': 0.004624833312924815, 'time_var': 0.002477678941265755, 'time_skew': 0.9234601713084548, 'time_kurt': 2.2290086069928545, 'freq_mean': 0.0046248457755200196, 'freq_var': 0.008323379058487559, 'freq_skew': 1.0459530942160227, 'freq_kurt': 11.631914309186088}\n"
     ]
    },
    {
     "name": "stderr",
     "output_type": "stream",
     "text": [
      "19it [00:01, 14.09it/s]\n"
     ]
    },
    {
     "name": "stdout",
     "output_type": "stream",
     "text": [
      "{'method': 'tauleaping', 'g_steps': 0, 'tau_steps': 20, 'use_corrector': True, 'corrector': 'barker', 'c_stepsize': 0.1, 'c_steps': 1, 'nfe': 38.0, 'time_mean': 0.0037909068939715146, 'time_var': 0.0027104452768809692, 'time_skew': 0.8342978533206568, 'time_kurt': 1.7582021744405003, 'freq_mean': 0.003790918570469029, 'freq_var': 0.00839278103169465, 'freq_skew': 1.0830235531594499, 'freq_kurt': 12.684459855610333}\n"
     ]
    },
    {
     "name": "stderr",
     "output_type": "stream",
     "text": [
      "19it [00:01, 14.03it/s]\n"
     ]
    },
    {
     "name": "stdout",
     "output_type": "stream",
     "text": [
      "{'method': 'tauleaping', 'g_steps': 0, 'tau_steps': 20, 'use_corrector': True, 'corrector': 'barker', 'c_stepsize': 0.1, 'c_steps': 1, 'nfe': 38.0, 'time_mean': 0.004034009048042961, 'time_var': 0.001959491653958399, 'time_skew': 0.8538627401641264, 'time_kurt': 2.1310466960518566, 'freq_mean': 0.004034020421882135, 'freq_var': 0.008813873028894985, 'freq_skew': 1.0507523212634196, 'freq_kurt': 12.010121696781537}\n"
     ]
    },
    {
     "name": "stderr",
     "output_type": "stream",
     "text": [
      "19it [00:01, 14.10it/s]\n"
     ]
    },
    {
     "name": "stdout",
     "output_type": "stream",
     "text": [
      "{'method': 'tauleaping', 'g_steps': 0, 'tau_steps': 20, 'use_corrector': True, 'corrector': 'barker', 'c_stepsize': 0.1, 'c_steps': 1, 'nfe': 38.0, 'time_mean': 0.004030022404152758, 'time_var': 0.0021553412915664544, 'time_skew': 0.9111804396502906, 'time_kurt': 2.1624861483332873, 'freq_mean': 0.004030034311925091, 'freq_var': 0.00959771531562204, 'freq_skew': 1.081263124843338, 'freq_kurt': 12.216613555721944}\n"
     ]
    },
    {
     "name": "stderr",
     "output_type": "stream",
     "text": [
      "19it [00:01, 14.06it/s]\n"
     ]
    },
    {
     "name": "stdout",
     "output_type": "stream",
     "text": [
      "{'method': 'tauleaping', 'g_steps': 0, 'tau_steps': 20, 'use_corrector': True, 'corrector': 'barker', 'c_stepsize': 0.1, 'c_steps': 1, 'nfe': 38.0, 'time_mean': 0.003824489870235775, 'time_var': 0.002681960127223465, 'time_skew': 0.787158519924038, 'time_kurt': 1.7209612655436997, 'freq_mean': 0.003824501771213658, 'freq_var': 0.008691108477513998, 'freq_skew': 1.07293317765296, 'freq_kurt': 11.529701358748717}\n"
     ]
    },
    {
     "name": "stderr",
     "output_type": "stream",
     "text": [
      "19it [00:01, 14.05it/s]\n"
     ]
    },
    {
     "name": "stdout",
     "output_type": "stream",
     "text": [
      "{'method': 'tauleaping', 'g_steps': 0, 'tau_steps': 20, 'use_corrector': True, 'corrector': 'barker', 'c_stepsize': 0.1, 'c_steps': 1, 'nfe': 38.0, 'time_mean': 0.004375874283382545, 'time_var': 0.0025159516727103317, 'time_skew': 0.8344507925711145, 'time_kurt': 1.7667150337460737, 'freq_mean': 0.004375885585689213, 'freq_var': 0.009188146270126487, 'freq_skew': 1.1458019334819878, 'freq_kurt': 12.065287562726649}\n"
     ]
    },
    {
     "name": "stderr",
     "output_type": "stream",
     "text": [
      "19it [00:01, 14.08it/s]\n"
     ]
    },
    {
     "name": "stdout",
     "output_type": "stream",
     "text": [
      "{'method': 'tauleaping', 'g_steps': 0, 'tau_steps': 20, 'use_corrector': True, 'corrector': 'barker', 'c_stepsize': 0.1, 'c_steps': 1, 'nfe': 38.0, 'time_mean': 0.003932178981183535, 'time_var': 0.0023135136984243194, 'time_skew': 0.8267932309313102, 'time_kurt': 2.1037237309068018, 'freq_mean': 0.003932190362237288, 'freq_var': 0.008230994639124696, 'freq_skew': 1.0437686376398225, 'freq_kurt': 11.178539509182905}\n"
     ]
    },
    {
     "name": "stderr",
     "output_type": "stream",
     "text": [
      "19it [00:01, 14.09it/s]\n"
     ]
    },
    {
     "name": "stdout",
     "output_type": "stream",
     "text": [
      "{'method': 'tauleaping', 'g_steps': 0, 'tau_steps': 20, 'use_corrector': True, 'corrector': 'barker', 'c_stepsize': 0.1, 'c_steps': 1, 'nfe': 38.0, 'time_mean': 0.004094117146549965, 'time_var': 0.0025729485341137908, 'time_skew': 0.8443453053771763, 'time_kurt': 1.8365634382084435, 'freq_mean': 0.004094129374583985, 'freq_var': 0.00842036512481686, 'freq_skew': 1.0916784273276074, 'freq_kurt': 11.47103733855411}\n"
     ]
    },
    {
     "name": "stderr",
     "output_type": "stream",
     "text": [
      "19it [00:01, 14.10it/s]\n"
     ]
    },
    {
     "name": "stdout",
     "output_type": "stream",
     "text": [
      "{'method': 'tauleaping', 'g_steps': 0, 'tau_steps': 20, 'use_corrector': True, 'corrector': 'barker', 'c_stepsize': 0.1, 'c_steps': 1, 'nfe': 38.0, 'time_mean': 0.0036247598471070637, 'time_var': 0.002041332897642721, 'time_skew': 0.7950954253068637, 'time_kurt': 2.083555268089142, 'freq_mean': 0.003624770902875903, 'freq_var': 0.00852115520874686, 'freq_skew': 1.0749387393429346, 'freq_kurt': 12.444174629352753}\n"
     ]
    },
    {
     "name": "stderr",
     "output_type": "stream",
     "text": [
      "19it [00:01, 14.08it/s]\n"
     ]
    },
    {
     "name": "stdout",
     "output_type": "stream",
     "text": [
      "{'method': 'tauleaping', 'g_steps': 0, 'tau_steps': 20, 'use_corrector': True, 'corrector': 'barker', 'c_stepsize': 0.1, 'c_steps': 1, 'nfe': 38.0, 'time_mean': 0.003468555421159799, 'time_var': 0.002163555703329505, 'time_skew': 0.9043749750407329, 'time_kurt': 2.33120818200017, 'freq_mean': 0.0034685661195623775, 'freq_var': 0.009339961379308937, 'freq_skew': 1.1189964835595105, 'freq_kurt': 10.962520159889785}\n"
     ]
    },
    {
     "name": "stderr",
     "output_type": "stream",
     "text": [
      "19it [00:01, 14.07it/s]\n"
     ]
    },
    {
     "name": "stdout",
     "output_type": "stream",
     "text": [
      "{'method': 'tauleaping', 'g_steps': 0, 'tau_steps': 20, 'use_corrector': True, 'corrector': 'barker', 'c_stepsize': 0.1, 'c_steps': 1, 'nfe': 38.0, 'time_mean': 0.004590316993532322, 'time_var': 0.0022281163627342966, 'time_skew': 0.9029455448486631, 'time_kurt': 2.2340987912228942, 'freq_mean': 0.004590329045620928, 'freq_var': 0.009790791835265598, 'freq_skew': 1.041607503945198, 'freq_kurt': 11.935762182797019}\n"
     ]
    },
    {
     "name": "stderr",
     "output_type": "stream",
     "text": [
      "19it [00:01, 14.07it/s]\n"
     ]
    },
    {
     "name": "stdout",
     "output_type": "stream",
     "text": [
      "{'method': 'tauleaping', 'g_steps': 0, 'tau_steps': 20, 'use_corrector': True, 'corrector': 'barker', 'c_stepsize': 0.1, 'c_steps': 1, 'nfe': 38.0, 'time_mean': 0.00411316518628387, 'time_var': 0.0021132424977266034, 'time_skew': 0.8434801242578575, 'time_kurt': 2.399745809653576, 'freq_mean': 0.00411317684290431, 'freq_var': 0.00925259741342876, 'freq_skew': 1.1356654639947033, 'freq_kurt': 12.277539244643833}\n"
     ]
    },
    {
     "name": "stderr",
     "output_type": "stream",
     "text": [
      "19it [00:01, 14.07it/s]\n"
     ]
    },
    {
     "name": "stdout",
     "output_type": "stream",
     "text": [
      "{'method': 'tauleaping', 'g_steps': 0, 'tau_steps': 20, 'use_corrector': True, 'corrector': 'barker', 'c_stepsize': 0.1, 'c_steps': 1, 'nfe': 38.0, 'time_mean': 0.004313733029812719, 'time_var': 0.002271833541424956, 'time_skew': 0.8139411103655205, 'time_kurt': 1.9966964259335427, 'freq_mean': 0.004313744593174265, 'freq_var': 0.009019415197897727, 'freq_skew': 1.0386717970365522, 'freq_kurt': 11.896658767558709}\n"
     ]
    },
    {
     "name": "stderr",
     "output_type": "stream",
     "text": [
      "19it [00:01, 14.05it/s]\n"
     ]
    },
    {
     "name": "stdout",
     "output_type": "stream",
     "text": [
      "{'method': 'tauleaping', 'g_steps': 0, 'tau_steps': 20, 'use_corrector': True, 'corrector': 'barker', 'c_stepsize': 0.1, 'c_steps': 1, 'nfe': 38.0, 'time_mean': 0.0032549059376896644, 'time_var': 0.0022404792630257154, 'time_skew': 0.9551135018900279, 'time_kurt': 2.0699068822178353, 'freq_mean': 0.003254917163271256, 'freq_var': 0.008395681418401569, 'freq_skew': 1.0341838821078293, 'freq_kurt': 12.05380182716137}\n"
     ]
    },
    {
     "name": "stderr",
     "output_type": "stream",
     "text": [
      "19it [00:01, 14.09it/s]\n"
     ]
    },
    {
     "name": "stdout",
     "output_type": "stream",
     "text": [
      "{'method': 'tauleaping', 'g_steps': 0, 'tau_steps': 20, 'use_corrector': True, 'corrector': 'barker', 'c_stepsize': 0.1, 'c_steps': 1, 'nfe': 38.0, 'time_mean': 0.003649455630829186, 'time_var': 0.002097029855241099, 'time_skew': 0.8945496497704379, 'time_kurt': 2.2016560646599204, 'freq_mean': 0.00364946707542708, 'freq_var': 0.006895470234532064, 'freq_skew': 1.0571215037633415, 'freq_kurt': 12.41190732388158}\n"
     ]
    },
    {
     "name": "stderr",
     "output_type": "stream",
     "text": [
      "19it [00:01, 14.09it/s]\n"
     ]
    },
    {
     "name": "stdout",
     "output_type": "stream",
     "text": [
      "{'method': 'tauleaping', 'g_steps': 0, 'tau_steps': 20, 'use_corrector': True, 'corrector': 'barker', 'c_stepsize': 0.1, 'c_steps': 1, 'nfe': 38.0, 'time_mean': 0.0039789593382113546, 'time_var': 0.0027612731730298078, 'time_skew': 0.8490254495367872, 'time_kurt': 1.7478507956556113, 'freq_mean': 0.003978970844957089, 'freq_var': 0.008115604710068435, 'freq_skew': 1.053272393613907, 'freq_kurt': 12.232582745857082}\n"
     ]
    },
    {
     "name": "stderr",
     "output_type": "stream",
     "text": [
      "19it [00:01, 14.05it/s]\n"
     ]
    },
    {
     "name": "stdout",
     "output_type": "stream",
     "text": [
      "{'method': 'tauleaping', 'g_steps': 0, 'tau_steps': 20, 'use_corrector': True, 'corrector': 'barker', 'c_stepsize': 0.1, 'c_steps': 1, 'nfe': 38.0, 'time_mean': 0.004223648822835672, 'time_var': 0.0026856921611555103, 'time_skew': 0.8171813636407036, 'time_kurt': 1.815463235389289, 'freq_mean': 0.0042236604299941225, 'freq_var': 0.008127759897455001, 'freq_skew': 1.0610741953540923, 'freq_kurt': 12.709574891716763}\n",
      "Experiment results saved to  gene_results.csv\n"
     ]
    },
    {
     "name": "stderr",
     "output_type": "stream",
     "text": [
      "29it [00:02, 13.74it/s]\n"
     ]
    },
    {
     "name": "stdout",
     "output_type": "stream",
     "text": [
      "{'method': 'tauleaping', 'g_steps': 0, 'tau_steps': 30, 'use_corrector': True, 'corrector': 'barker', 'c_stepsize': 0.1, 'c_steps': 1, 'nfe': 57.0, 'time_mean': 0.0026796576371182807, 'time_var': 0.0010860343945814533, 'time_skew': 0.7788727896329334, 'time_kurt': 2.626074819912289, 'freq_mean': 0.002679666893557464, 'freq_var': 0.005763264749027313, 'freq_skew': 1.027763072108333, 'freq_kurt': 10.994685765159037}\n"
     ]
    },
    {
     "name": "stderr",
     "output_type": "stream",
     "text": [
      "29it [00:02, 13.94it/s]\n"
     ]
    },
    {
     "name": "stdout",
     "output_type": "stream",
     "text": [
      "{'method': 'tauleaping', 'g_steps': 0, 'tau_steps': 30, 'use_corrector': True, 'corrector': 'barker', 'c_stepsize': 0.1, 'c_steps': 1, 'nfe': 57.0, 'time_mean': 0.002622796976327738, 'time_var': 0.0014554018275364485, 'time_skew': 0.7569554976272604, 'time_kurt': 2.5715511561112545, 'freq_mean': 0.0026228059084154906, 'freq_var': 0.006096256866084824, 'freq_skew': 1.058114912570328, 'freq_kurt': 11.252555641981154}\n"
     ]
    },
    {
     "name": "stderr",
     "output_type": "stream",
     "text": [
      "29it [00:02, 13.91it/s]\n"
     ]
    },
    {
     "name": "stdout",
     "output_type": "stream",
     "text": [
      "{'method': 'tauleaping', 'g_steps': 0, 'tau_steps': 30, 'use_corrector': True, 'corrector': 'barker', 'c_stepsize': 0.1, 'c_steps': 1, 'nfe': 57.0, 'time_mean': 0.003082826805140585, 'time_var': 0.001053063800341542, 'time_skew': 0.6959036005786537, 'time_kurt': 2.6205112610368544, 'freq_mean': 0.0030828361797792673, 'freq_var': 0.006749712962765697, 'freq_skew': 0.970952784528813, 'freq_kurt': 10.72840625494992}\n"
     ]
    },
    {
     "name": "stderr",
     "output_type": "stream",
     "text": [
      "29it [00:02, 13.93it/s]\n"
     ]
    },
    {
     "name": "stdout",
     "output_type": "stream",
     "text": [
      "{'method': 'tauleaping', 'g_steps': 0, 'tau_steps': 30, 'use_corrector': True, 'corrector': 'barker', 'c_stepsize': 0.1, 'c_steps': 1, 'nfe': 57.0, 'time_mean': 0.0029610863806883393, 'time_var': 0.0009886397279812468, 'time_skew': 0.7415598995290646, 'time_kurt': 2.989024392834141, 'freq_mean': 0.0029610952970542124, 'freq_var': 0.007071022860125358, 'freq_skew': 0.9685911093933666, 'freq_kurt': 11.391548434998265}\n"
     ]
    },
    {
     "name": "stderr",
     "output_type": "stream",
     "text": [
      "29it [00:02, 13.93it/s]\n"
     ]
    },
    {
     "name": "stdout",
     "output_type": "stream",
     "text": [
      "{'method': 'tauleaping', 'g_steps': 0, 'tau_steps': 30, 'use_corrector': True, 'corrector': 'barker', 'c_stepsize': 0.1, 'c_steps': 1, 'nfe': 57.0, 'time_mean': 0.0026597621339462607, 'time_var': 0.0012731714539654466, 'time_skew': 0.7104994837043684, 'time_kurt': 2.2011412380393462, 'freq_mean': 0.0026597711966771173, 'freq_var': 0.006374780954277531, 'freq_skew': 1.062772053667156, 'freq_kurt': 11.344467358740305}\n"
     ]
    },
    {
     "name": "stderr",
     "output_type": "stream",
     "text": [
      "29it [00:02, 13.90it/s]\n"
     ]
    },
    {
     "name": "stdout",
     "output_type": "stream",
     "text": [
      "{'method': 'tauleaping', 'g_steps': 0, 'tau_steps': 30, 'use_corrector': True, 'corrector': 'barker', 'c_stepsize': 0.1, 'c_steps': 1, 'nfe': 57.0, 'time_mean': 0.0030066641022442266, 'time_var': 0.0010153224264967432, 'time_skew': 0.8215248410479039, 'time_kurt': 3.123071762431113, 'freq_mean': 0.003006672706211129, 'freq_var': 0.006414675541191353, 'freq_skew': 1.056628255764912, 'freq_kurt': 11.684865307560868}\n"
     ]
    },
    {
     "name": "stderr",
     "output_type": "stream",
     "text": [
      "29it [00:02, 13.87it/s]\n"
     ]
    },
    {
     "name": "stdout",
     "output_type": "stream",
     "text": [
      "{'method': 'tauleaping', 'g_steps': 0, 'tau_steps': 30, 'use_corrector': True, 'corrector': 'barker', 'c_stepsize': 0.1, 'c_steps': 1, 'nfe': 57.0, 'time_mean': 0.002830463576075522, 'time_var': 0.0012918675521912761, 'time_skew': 0.7117811024655446, 'time_kurt': 2.552682913102435, 'freq_mean': 0.0028304726086105397, 'freq_var': 0.006417633020406534, 'freq_skew': 1.0307999886150527, 'freq_kurt': 11.413845906800026}\n"
     ]
    },
    {
     "name": "stderr",
     "output_type": "stream",
     "text": [
      "29it [00:02, 13.91it/s]\n"
     ]
    },
    {
     "name": "stdout",
     "output_type": "stream",
     "text": [
      "{'method': 'tauleaping', 'g_steps': 0, 'tau_steps': 30, 'use_corrector': True, 'corrector': 'barker', 'c_stepsize': 0.1, 'c_steps': 1, 'nfe': 57.0, 'time_mean': 0.0026352396294641303, 'time_var': 0.0011526356565227742, 'time_skew': 0.7581991205205796, 'time_kurt': 2.499454267428982, 'freq_mean': 0.00263524807790092, 'freq_var': 0.005687971558984152, 'freq_skew': 0.9415828349720509, 'freq_kurt': 11.020580447386129}\n"
     ]
    },
    {
     "name": "stderr",
     "output_type": "stream",
     "text": [
      "29it [00:02, 13.90it/s]\n"
     ]
    },
    {
     "name": "stdout",
     "output_type": "stream",
     "text": [
      "{'method': 'tauleaping', 'g_steps': 0, 'tau_steps': 30, 'use_corrector': True, 'corrector': 'barker', 'c_stepsize': 0.1, 'c_steps': 1, 'nfe': 57.0, 'time_mean': 0.0026253180611933505, 'time_var': 0.0012114615086773804, 'time_skew': 0.6798456572544733, 'time_kurt': 2.5716915760698287, 'freq_mean': 0.0026253267745399928, 'freq_var': 0.006412998300399528, 'freq_skew': 1.0845363252230367, 'freq_kurt': 11.561333559884794}\n"
     ]
    },
    {
     "name": "stderr",
     "output_type": "stream",
     "text": [
      "29it [00:02, 13.93it/s]\n"
     ]
    },
    {
     "name": "stdout",
     "output_type": "stream",
     "text": [
      "{'method': 'tauleaping', 'g_steps': 0, 'tau_steps': 30, 'use_corrector': True, 'corrector': 'barker', 'c_stepsize': 0.1, 'c_steps': 1, 'nfe': 57.0, 'time_mean': 0.0027191396672456417, 'time_var': 0.0013729132558638311, 'time_skew': 0.638761244950032, 'time_kurt': 2.1767448787101973, 'freq_mean': 0.002719148619722551, 'freq_var': 0.0052734204767154605, 'freq_skew': 1.045695498879178, 'freq_kurt': 11.558432719184923}\n"
     ]
    },
    {
     "name": "stderr",
     "output_type": "stream",
     "text": [
      "29it [00:02, 13.89it/s]\n"
     ]
    },
    {
     "name": "stdout",
     "output_type": "stream",
     "text": [
      "{'method': 'tauleaping', 'g_steps': 0, 'tau_steps': 30, 'use_corrector': True, 'corrector': 'barker', 'c_stepsize': 0.1, 'c_steps': 1, 'nfe': 57.0, 'time_mean': 0.003000035537024148, 'time_var': 0.0013344077033611978, 'time_skew': 0.7031000243925342, 'time_kurt': 2.378721799971136, 'freq_mean': 0.003000044593277761, 'freq_var': 0.005614837067811059, 'freq_skew': 1.0057053567622694, 'freq_kurt': 11.497609552709639}\n"
     ]
    },
    {
     "name": "stderr",
     "output_type": "stream",
     "text": [
      "29it [00:02, 13.90it/s]\n"
     ]
    },
    {
     "name": "stdout",
     "output_type": "stream",
     "text": [
      "{'method': 'tauleaping', 'g_steps': 0, 'tau_steps': 30, 'use_corrector': True, 'corrector': 'barker', 'c_stepsize': 0.1, 'c_steps': 1, 'nfe': 57.0, 'time_mean': 0.002405357389066862, 'time_var': 0.0012687364533203475, 'time_skew': 0.7094913281846953, 'time_kurt': 2.5753128279351274, 'freq_mean': 0.0024053663421389412, 'freq_var': 0.005581756544637479, 'freq_skew': 0.9811910843790561, 'freq_kurt': 11.722058969643228}\n"
     ]
    },
    {
     "name": "stderr",
     "output_type": "stream",
     "text": [
      "29it [00:02, 13.88it/s]\n"
     ]
    },
    {
     "name": "stdout",
     "output_type": "stream",
     "text": [
      "{'method': 'tauleaping', 'g_steps': 0, 'tau_steps': 30, 'use_corrector': True, 'corrector': 'barker', 'c_stepsize': 0.1, 'c_steps': 1, 'nfe': 57.0, 'time_mean': 0.0033836290546825935, 'time_var': 0.0011049790330224937, 'time_skew': 0.863518455440236, 'time_kurt': 2.9076206718790116, 'freq_mean': 0.003383638411833245, 'freq_var': 0.00627691781030489, 'freq_skew': 1.0819709781312026, 'freq_kurt': 11.343215650220303}\n"
     ]
    },
    {
     "name": "stderr",
     "output_type": "stream",
     "text": [
      "29it [00:02, 13.90it/s]\n"
     ]
    },
    {
     "name": "stdout",
     "output_type": "stream",
     "text": [
      "{'method': 'tauleaping', 'g_steps': 0, 'tau_steps': 30, 'use_corrector': True, 'corrector': 'barker', 'c_stepsize': 0.1, 'c_steps': 1, 'nfe': 57.0, 'time_mean': 0.0026251744786116985, 'time_var': 0.0015047568816708864, 'time_skew': 0.7089386126995404, 'time_kurt': 2.2277574410946217, 'freq_mean': 0.0026251838926872008, 'freq_var': 0.006020908662998189, 'freq_skew': 0.9912768211877157, 'freq_kurt': 10.888836640880033}\n"
     ]
    },
    {
     "name": "stderr",
     "output_type": "stream",
     "text": [
      "29it [00:02, 13.87it/s]\n"
     ]
    },
    {
     "name": "stdout",
     "output_type": "stream",
     "text": [
      "{'method': 'tauleaping', 'g_steps': 0, 'tau_steps': 30, 'use_corrector': True, 'corrector': 'barker', 'c_stepsize': 0.1, 'c_steps': 1, 'nfe': 57.0, 'time_mean': 0.0033493197194758664, 'time_var': 0.0012439571899647865, 'time_skew': 0.6906989959262989, 'time_kurt': 2.4325590916983, 'freq_mean': 0.0033493291502798206, 'freq_var': 0.006340572109335931, 'freq_skew': 0.9892101078494199, 'freq_kurt': 11.456933625604181}\n"
     ]
    },
    {
     "name": "stderr",
     "output_type": "stream",
     "text": [
      "29it [00:02, 13.90it/s]\n"
     ]
    },
    {
     "name": "stdout",
     "output_type": "stream",
     "text": [
      "{'method': 'tauleaping', 'g_steps': 0, 'tau_steps': 30, 'use_corrector': True, 'corrector': 'barker', 'c_stepsize': 0.1, 'c_steps': 1, 'nfe': 57.0, 'time_mean': 0.0027554494576870993, 'time_var': 0.001931117532070097, 'time_skew': 0.5454866339051861, 'time_kurt': 1.7849420199525958, 'freq_mean': 0.0027554591485027856, 'freq_var': 0.007350606474656444, 'freq_skew': 1.0859785285662544, 'freq_kurt': 11.758528910081674}\n"
     ]
    },
    {
     "name": "stderr",
     "output_type": "stream",
     "text": [
      "29it [00:02, 13.93it/s]\n"
     ]
    },
    {
     "name": "stdout",
     "output_type": "stream",
     "text": [
      "{'method': 'tauleaping', 'g_steps': 0, 'tau_steps': 30, 'use_corrector': True, 'corrector': 'barker', 'c_stepsize': 0.1, 'c_steps': 1, 'nfe': 57.0, 'time_mean': 0.0023415715650159214, 'time_var': 0.0015999910245711908, 'time_skew': 0.6950352794000227, 'time_kurt': 2.0402075452930384, 'freq_mean': 0.002341580217964227, 'freq_var': 0.006508675060497768, 'freq_skew': 1.1312488731343409, 'freq_kurt': 11.758054886531799}\n"
     ]
    },
    {
     "name": "stderr",
     "output_type": "stream",
     "text": [
      "29it [00:02, 13.91it/s]\n"
     ]
    },
    {
     "name": "stdout",
     "output_type": "stream",
     "text": [
      "{'method': 'tauleaping', 'g_steps': 0, 'tau_steps': 30, 'use_corrector': True, 'corrector': 'barker', 'c_stepsize': 0.1, 'c_steps': 1, 'nfe': 57.0, 'time_mean': 0.003084183625662655, 'time_var': 0.0015709052625804013, 'time_skew': 0.7422876261972905, 'time_kurt': 2.4301990896729633, 'freq_mean': 0.003084192768501951, 'freq_var': 0.006953648484591527, 'freq_skew': 0.9929251305480371, 'freq_kurt': 11.4397527089288}\n"
     ]
    },
    {
     "name": "stderr",
     "output_type": "stream",
     "text": [
      "29it [00:02, 13.91it/s]\n"
     ]
    },
    {
     "name": "stdout",
     "output_type": "stream",
     "text": [
      "{'method': 'tauleaping', 'g_steps': 0, 'tau_steps': 30, 'use_corrector': True, 'corrector': 'barker', 'c_stepsize': 0.1, 'c_steps': 1, 'nfe': 57.0, 'time_mean': 0.002858733695283373, 'time_var': 0.0009448937347916633, 'time_skew': 0.7354662522509379, 'time_kurt': 2.973980594805455, 'freq_mean': 0.0028587423323259325, 'freq_var': 0.008112927991740392, 'freq_skew': 1.0478793956604606, 'freq_kurt': 11.811616423789927}\n"
     ]
    },
    {
     "name": "stderr",
     "output_type": "stream",
     "text": [
      "29it [00:02, 13.89it/s]\n"
     ]
    },
    {
     "name": "stdout",
     "output_type": "stream",
     "text": [
      "{'method': 'tauleaping', 'g_steps': 0, 'tau_steps': 30, 'use_corrector': True, 'corrector': 'barker', 'c_stepsize': 0.1, 'c_steps': 1, 'nfe': 57.0, 'time_mean': 0.002355559129693824, 'time_var': 0.0010833106889810995, 'time_skew': 0.7871424057510097, 'time_kurt': 2.870586481422842, 'freq_mean': 0.0023555681386180126, 'freq_var': 0.006917863450739599, 'freq_skew': 1.1157817945679127, 'freq_kurt': 12.19375765337598}\n",
      "Experiment results saved to  gene_results.csv\n"
     ]
    },
    {
     "name": "stderr",
     "output_type": "stream",
     "text": [
      "59it [00:04, 13.77it/s]\n"
     ]
    },
    {
     "name": "stdout",
     "output_type": "stream",
     "text": [
      "{'method': 'tauleaping', 'g_steps': 0, 'tau_steps': 60, 'use_corrector': True, 'corrector': 'barker', 'c_stepsize': 0.1, 'c_steps': 1, 'nfe': 114.0, 'time_mean': 0.0010368546889337363, 'time_var': 0.0003539583026605359, 'time_skew': 0.5920590545269772, 'time_kurt': 2.901209533380198, 'freq_mean': 0.0010368597832756982, 'freq_var': 0.005160761062597787, 'freq_skew': 1.01115426705637, 'freq_kurt': 10.083474228655872}\n"
     ]
    },
    {
     "name": "stderr",
     "output_type": "stream",
     "text": [
      "59it [00:04, 13.79it/s]\n"
     ]
    },
    {
     "name": "stdout",
     "output_type": "stream",
     "text": [
      "{'method': 'tauleaping', 'g_steps': 0, 'tau_steps': 60, 'use_corrector': True, 'corrector': 'barker', 'c_stepsize': 0.1, 'c_steps': 1, 'nfe': 114.0, 'time_mean': 0.0014028641877482624, 'time_var': 0.0005237240501637896, 'time_skew': 0.43122916034077635, 'time_kurt': 2.0253337840109995, 'freq_mean': 0.0014028693903554276, 'freq_var': 0.0034021310179292827, 'freq_skew': 0.8538979876232894, 'freq_kurt': 9.263637981037105}\n"
     ]
    },
    {
     "name": "stderr",
     "output_type": "stream",
     "text": [
      "59it [00:04, 13.79it/s]\n"
     ]
    },
    {
     "name": "stdout",
     "output_type": "stream",
     "text": [
      "{'method': 'tauleaping', 'g_steps': 0, 'tau_steps': 60, 'use_corrector': True, 'corrector': 'barker', 'c_stepsize': 0.1, 'c_steps': 1, 'nfe': 114.0, 'time_mean': 0.0012550621769548526, 'time_var': 0.00041384498571557716, 'time_skew': 0.48233317199085257, 'time_kurt': 2.7302944168312737, 'freq_mean': 0.0012550670042913007, 'freq_var': 0.004614256765541862, 'freq_skew': 1.0353353196895436, 'freq_kurt': 10.149482832697974}\n"
     ]
    },
    {
     "name": "stderr",
     "output_type": "stream",
     "text": [
      "59it [00:04, 13.77it/s]\n"
     ]
    },
    {
     "name": "stdout",
     "output_type": "stream",
     "text": [
      "{'method': 'tauleaping', 'g_steps': 0, 'tau_steps': 60, 'use_corrector': True, 'corrector': 'barker', 'c_stepsize': 0.1, 'c_steps': 1, 'nfe': 114.0, 'time_mean': 0.0017474658985778917, 'time_var': 0.0005878697181721133, 'time_skew': 0.6172454775875469, 'time_kurt': 2.5511196209048683, 'freq_mean': 0.001747472498530333, 'freq_var': 0.0041320768186005555, 'freq_skew': 0.958471929625262, 'freq_kurt': 10.878694643538672}\n"
     ]
    },
    {
     "name": "stderr",
     "output_type": "stream",
     "text": [
      "59it [00:04, 13.71it/s]\n"
     ]
    },
    {
     "name": "stdout",
     "output_type": "stream",
     "text": [
      "{'method': 'tauleaping', 'g_steps': 0, 'tau_steps': 60, 'use_corrector': True, 'corrector': 'barker', 'c_stepsize': 0.1, 'c_steps': 1, 'nfe': 114.0, 'time_mean': 0.0016168590844734135, 'time_var': 0.00044647672480434844, 'time_skew': 0.5785790225157108, 'time_kurt': 2.8419901687522042, 'freq_mean': 0.0016168643471730448, 'freq_var': 0.00444700553124008, 'freq_skew': 0.860750719196729, 'freq_kurt': 10.244367281443566}\n"
     ]
    },
    {
     "name": "stderr",
     "output_type": "stream",
     "text": [
      "59it [00:04, 13.77it/s]\n"
     ]
    },
    {
     "name": "stdout",
     "output_type": "stream",
     "text": [
      "{'method': 'tauleaping', 'g_steps': 0, 'tau_steps': 60, 'use_corrector': True, 'corrector': 'barker', 'c_stepsize': 0.1, 'c_steps': 1, 'nfe': 114.0, 'time_mean': 0.0032046855776294136, 'time_var': 0.00028169690380547985, 'time_skew': 0.550879991959208, 'time_kurt': 3.609483695717117, 'freq_mean': 0.0032046904121972868, 'freq_var': 0.005678301664998793, 'freq_skew': 0.9211553197304355, 'freq_kurt': 10.405837089876227}\n"
     ]
    },
    {
     "name": "stderr",
     "output_type": "stream",
     "text": [
      "59it [00:04, 13.78it/s]\n"
     ]
    },
    {
     "name": "stdout",
     "output_type": "stream",
     "text": [
      "{'method': 'tauleaping', 'g_steps': 0, 'tau_steps': 60, 'use_corrector': True, 'corrector': 'barker', 'c_stepsize': 0.1, 'c_steps': 1, 'nfe': 114.0, 'time_mean': 0.0016522463535535126, 'time_var': 0.00030522222773886337, 'time_skew': 0.4610554219270695, 'time_kurt': 2.707363716362011, 'freq_mean': 0.001652250889574557, 'freq_var': 0.0051047571376782045, 'freq_skew': 0.9987810611232565, 'freq_kurt': 10.720755192589658}\n"
     ]
    },
    {
     "name": "stderr",
     "output_type": "stream",
     "text": [
      "59it [00:04, 13.77it/s]\n"
     ]
    },
    {
     "name": "stdout",
     "output_type": "stream",
     "text": [
      "{'method': 'tauleaping', 'g_steps': 0, 'tau_steps': 60, 'use_corrector': True, 'corrector': 'barker', 'c_stepsize': 0.1, 'c_steps': 1, 'nfe': 114.0, 'time_mean': 0.0016561419002791566, 'time_var': 0.0005137046377682923, 'time_skew': 0.4758926349960525, 'time_kurt': 2.4911432813574548, 'freq_mean': 0.001656147503395309, 'freq_var': 0.004582786203606708, 'freq_skew': 0.8792118431921782, 'freq_kurt': 9.724282102698025}\n"
     ]
    },
    {
     "name": "stderr",
     "output_type": "stream",
     "text": [
      "59it [00:04, 13.77it/s]\n"
     ]
    },
    {
     "name": "stdout",
     "output_type": "stream",
     "text": [
      "{'method': 'tauleaping', 'g_steps': 0, 'tau_steps': 60, 'use_corrector': True, 'corrector': 'barker', 'c_stepsize': 0.1, 'c_steps': 1, 'nfe': 114.0, 'time_mean': 0.0017605213902307864, 'time_var': 0.00040182032512599226, 'time_skew': 0.29475433486443486, 'time_kurt': 2.013285275028445, 'freq_mean': 0.0017605254984108952, 'freq_var': 0.004075732012635513, 'freq_skew': 0.8704759036543037, 'freq_kurt': 10.378916005347062}\n"
     ]
    },
    {
     "name": "stderr",
     "output_type": "stream",
     "text": [
      "59it [00:04, 13.64it/s]\n"
     ]
    },
    {
     "name": "stdout",
     "output_type": "stream",
     "text": [
      "{'method': 'tauleaping', 'g_steps': 0, 'tau_steps': 60, 'use_corrector': True, 'corrector': 'barker', 'c_stepsize': 0.1, 'c_steps': 1, 'nfe': 114.0, 'time_mean': 0.0014346347175603273, 'time_var': 0.000606923022405606, 'time_skew': 0.4395361299276033, 'time_kurt': 1.729456346651071, 'freq_mean': 0.0014346399995917678, 'freq_var': 0.003919489732595165, 'freq_skew': 0.892254465399004, 'freq_kurt': 10.467866319710696}\n"
     ]
    },
    {
     "name": "stderr",
     "output_type": "stream",
     "text": [
      "59it [00:04, 13.47it/s]\n"
     ]
    },
    {
     "name": "stdout",
     "output_type": "stream",
     "text": [
      "{'method': 'tauleaping', 'g_steps': 0, 'tau_steps': 60, 'use_corrector': True, 'corrector': 'barker', 'c_stepsize': 0.1, 'c_steps': 1, 'nfe': 114.0, 'time_mean': 0.00150752908238437, 'time_var': 0.0004734399200976702, 'time_skew': 0.5672093562246777, 'time_kurt': 2.6967263766700493, 'freq_mean': 0.0015075337842533423, 'freq_var': 0.004675327274773976, 'freq_skew': 0.9398262169809221, 'freq_kurt': 9.866891522536122}\n"
     ]
    },
    {
     "name": "stderr",
     "output_type": "stream",
     "text": [
      "59it [00:04, 13.77it/s]\n"
     ]
    },
    {
     "name": "stdout",
     "output_type": "stream",
     "text": [
      "{'method': 'tauleaping', 'g_steps': 0, 'tau_steps': 60, 'use_corrector': True, 'corrector': 'barker', 'c_stepsize': 0.1, 'c_steps': 1, 'nfe': 114.0, 'time_mean': 0.0012849596608568345, 'time_var': 0.0004555015679079387, 'time_skew': 0.45039647524335963, 'time_kurt': 2.3794675587880163, 'freq_mean': 0.0012849648026497383, 'freq_var': 0.004161878212481698, 'freq_skew': 0.9581040023251103, 'freq_kurt': 9.985081274412261}\n"
     ]
    },
    {
     "name": "stderr",
     "output_type": "stream",
     "text": [
      "59it [00:04, 13.70it/s]\n"
     ]
    },
    {
     "name": "stdout",
     "output_type": "stream",
     "text": [
      "{'method': 'tauleaping', 'g_steps': 0, 'tau_steps': 60, 'use_corrector': True, 'corrector': 'barker', 'c_stepsize': 0.1, 'c_steps': 1, 'nfe': 114.0, 'time_mean': 0.0017725521431013874, 'time_var': 0.00035532229235188243, 'time_skew': 0.41003127984015736, 'time_kurt': 2.3624517799205598, 'freq_mean': 0.0017725566957544833, 'freq_var': 0.004646138070445169, 'freq_skew': 0.9383426074911287, 'freq_kurt': 10.203982808855518}\n"
     ]
    },
    {
     "name": "stderr",
     "output_type": "stream",
     "text": [
      "59it [00:04, 13.73it/s]\n"
     ]
    },
    {
     "name": "stdout",
     "output_type": "stream",
     "text": [
      "{'method': 'tauleaping', 'g_steps': 0, 'tau_steps': 60, 'use_corrector': True, 'corrector': 'barker', 'c_stepsize': 0.1, 'c_steps': 1, 'nfe': 114.0, 'time_mean': 0.001487165145646502, 'time_var': 0.00052877389968212, 'time_skew': 0.5187519277912707, 'time_kurt': 2.7397511053704267, 'freq_mean': 0.001487171346293713, 'freq_var': 0.003966099231958441, 'freq_skew': 0.9003798414111286, 'freq_kurt': 10.579420018132149}\n"
     ]
    },
    {
     "name": "stderr",
     "output_type": "stream",
     "text": [
      "59it [00:04, 13.77it/s]\n"
     ]
    },
    {
     "name": "stdout",
     "output_type": "stream",
     "text": [
      "{'method': 'tauleaping', 'g_steps': 0, 'tau_steps': 60, 'use_corrector': True, 'corrector': 'barker', 'c_stepsize': 0.1, 'c_steps': 1, 'nfe': 114.0, 'time_mean': 0.002088545564406978, 'time_var': 0.00036568534448629917, 'time_skew': 0.4235117886145335, 'time_kurt': 2.424395584462999, 'freq_mean': 0.002088550304825665, 'freq_var': 0.004702444747420081, 'freq_skew': 0.976284821240571, 'freq_kurt': 10.21398082895546}\n"
     ]
    },
    {
     "name": "stderr",
     "output_type": "stream",
     "text": [
      "59it [00:04, 13.76it/s]\n"
     ]
    },
    {
     "name": "stdout",
     "output_type": "stream",
     "text": [
      "{'method': 'tauleaping', 'g_steps': 0, 'tau_steps': 60, 'use_corrector': True, 'corrector': 'barker', 'c_stepsize': 0.1, 'c_steps': 1, 'nfe': 114.0, 'time_mean': 0.001634110616484684, 'time_var': 0.0005274331751302498, 'time_skew': 0.35454780324627316, 'time_kurt': 2.129219422833038, 'freq_mean': 0.001634115797910317, 'freq_var': 0.0036160655777595424, 'freq_skew': 0.9249970286079563, 'freq_kurt': 9.983561697018349}\n"
     ]
    },
    {
     "name": "stderr",
     "output_type": "stream",
     "text": [
      "59it [00:04, 13.78it/s]\n"
     ]
    },
    {
     "name": "stdout",
     "output_type": "stream",
     "text": [
      "{'method': 'tauleaping', 'g_steps': 0, 'tau_steps': 60, 'use_corrector': True, 'corrector': 'barker', 'c_stepsize': 0.1, 'c_steps': 1, 'nfe': 114.0, 'time_mean': 0.0015508663052859494, 'time_var': 0.0003235059708528532, 'time_skew': 0.4955124446058577, 'time_kurt': 2.5908410979308147, 'freq_mean': 0.0015508716719355169, 'freq_var': 0.004862895436342555, 'freq_skew': 0.9745531468021054, 'freq_kurt': 10.84391759527964}\n"
     ]
    },
    {
     "name": "stderr",
     "output_type": "stream",
     "text": [
      "59it [00:04, 13.74it/s]\n"
     ]
    },
    {
     "name": "stdout",
     "output_type": "stream",
     "text": [
      "{'method': 'tauleaping', 'g_steps': 0, 'tau_steps': 60, 'use_corrector': True, 'corrector': 'barker', 'c_stepsize': 0.1, 'c_steps': 1, 'nfe': 114.0, 'time_mean': 0.0014776113407926781, 'time_var': 0.00036280181145412427, 'time_skew': 0.4736645565140995, 'time_kurt': 2.538622793192667, 'freq_mean': 0.0014776160422854325, 'freq_var': 0.004417479626709181, 'freq_skew': 0.9714189861041196, 'freq_kurt': 10.280594922853242}\n"
     ]
    },
    {
     "name": "stderr",
     "output_type": "stream",
     "text": [
      "59it [00:04, 13.75it/s]\n"
     ]
    },
    {
     "name": "stdout",
     "output_type": "stream",
     "text": [
      "{'method': 'tauleaping', 'g_steps': 0, 'tau_steps': 60, 'use_corrector': True, 'corrector': 'barker', 'c_stepsize': 0.1, 'c_steps': 1, 'nfe': 114.0, 'time_mean': 0.0011795521213262318, 'time_var': 0.0004118434914743575, 'time_skew': 0.5390799789063337, 'time_kurt': 3.0586712572847725, 'freq_mean': 0.0011795566208491184, 'freq_var': 0.005582339764454345, 'freq_skew': 0.9881034628955505, 'freq_kurt': 10.246453816066358}\n"
     ]
    },
    {
     "name": "stderr",
     "output_type": "stream",
     "text": [
      "59it [00:04, 13.80it/s]\n"
     ]
    },
    {
     "name": "stdout",
     "output_type": "stream",
     "text": [
      "{'method': 'tauleaping', 'g_steps': 0, 'tau_steps': 60, 'use_corrector': True, 'corrector': 'barker', 'c_stepsize': 0.1, 'c_steps': 1, 'nfe': 114.0, 'time_mean': 0.001875222975660296, 'time_var': 0.00030787630408707464, 'time_skew': 0.5029722087682706, 'time_kurt': 3.0311761845642047, 'freq_mean': 0.0018752273366989447, 'freq_var': 0.004765828681160586, 'freq_skew': 0.9948093654555675, 'freq_kurt': 10.680964991762105}\n",
      "Experiment results saved to  gene_results.csv\n"
     ]
    },
    {
     "name": "stderr",
     "output_type": "stream",
     "text": [
      "19it [00:01, 14.01it/s]\n"
     ]
    },
    {
     "name": "stdout",
     "output_type": "stream",
     "text": [
      "{'method': 'tauleaping', 'g_steps': 0, 'tau_steps': 20, 'use_corrector': True, 'corrector': 'birthdeath', 'c_stepsize': 0.1, 'c_steps': 1, 'nfe': 38.0, 'time_mean': 0.004431936158888173, 'time_var': 0.002476538426741313, 'time_skew': 0.8749603132521313, 'time_kurt': 1.858067456548249, 'freq_mean': 0.004431947981629745, 'freq_var': 0.009484274191957024, 'freq_skew': 1.0608948224271304, 'freq_kurt': 12.16893408720531}\n"
     ]
    },
    {
     "name": "stderr",
     "output_type": "stream",
     "text": [
      "19it [00:01, 14.09it/s]\n"
     ]
    },
    {
     "name": "stdout",
     "output_type": "stream",
     "text": [
      "{'method': 'tauleaping', 'g_steps': 0, 'tau_steps': 20, 'use_corrector': True, 'corrector': 'birthdeath', 'c_stepsize': 0.1, 'c_steps': 1, 'nfe': 38.0, 'time_mean': 0.0037755911698541186, 'time_var': 0.0021279108447897514, 'time_skew': 0.8367634612255226, 'time_kurt': 2.055527907125329, 'freq_mean': 0.003775601991858825, 'freq_var': 0.008626760251106516, 'freq_skew': 1.0976060765650208, 'freq_kurt': 11.574672444573283}\n"
     ]
    },
    {
     "name": "stderr",
     "output_type": "stream",
     "text": [
      "19it [00:01, 14.03it/s]\n"
     ]
    },
    {
     "name": "stdout",
     "output_type": "stream",
     "text": [
      "{'method': 'tauleaping', 'g_steps': 0, 'tau_steps': 20, 'use_corrector': True, 'corrector': 'birthdeath', 'c_stepsize': 0.1, 'c_steps': 1, 'nfe': 38.0, 'time_mean': 0.00591053039003372, 'time_var': 0.002761998540707308, 'time_skew': 0.9206657171386913, 'time_kurt': 2.064096192913434, 'freq_mean': 0.005910543270407857, 'freq_var': 0.008117573124072621, 'freq_skew': 1.0176913901024802, 'freq_kurt': 12.441815832802828}\n"
     ]
    },
    {
     "name": "stderr",
     "output_type": "stream",
     "text": [
      "19it [00:01, 14.03it/s]\n"
     ]
    },
    {
     "name": "stdout",
     "output_type": "stream",
     "text": [
      "{'method': 'tauleaping', 'g_steps': 0, 'tau_steps': 20, 'use_corrector': True, 'corrector': 'birthdeath', 'c_stepsize': 0.1, 'c_steps': 1, 'nfe': 38.0, 'time_mean': 0.00467494826355408, 'time_var': 0.0022520983666652976, 'time_skew': 0.9533246355372929, 'time_kurt': 2.054638857384217, 'freq_mean': 0.004674960955893878, 'freq_var': 0.008208388888032476, 'freq_skew': 1.059739026956915, 'freq_kurt': 12.361530939091859}\n"
     ]
    },
    {
     "name": "stderr",
     "output_type": "stream",
     "text": [
      "19it [00:01, 14.08it/s]\n"
     ]
    },
    {
     "name": "stdout",
     "output_type": "stream",
     "text": [
      "{'method': 'tauleaping', 'g_steps': 0, 'tau_steps': 20, 'use_corrector': True, 'corrector': 'birthdeath', 'c_stepsize': 0.1, 'c_steps': 1, 'nfe': 38.0, 'time_mean': 0.004143309423527319, 'time_var': 0.0026075738880551452, 'time_skew': 0.8221644560858618, 'time_kurt': 1.8258903892005987, 'freq_mean': 0.004143321363913597, 'freq_var': 0.00851076849698246, 'freq_skew': 1.0593480277703766, 'freq_kurt': 12.250993094341668}\n"
     ]
    },
    {
     "name": "stderr",
     "output_type": "stream",
     "text": [
      "19it [00:01, 14.08it/s]\n"
     ]
    },
    {
     "name": "stdout",
     "output_type": "stream",
     "text": [
      "{'method': 'tauleaping', 'g_steps': 0, 'tau_steps': 20, 'use_corrector': True, 'corrector': 'birthdeath', 'c_stepsize': 0.1, 'c_steps': 1, 'nfe': 38.0, 'time_mean': 0.003646396463835026, 'time_var': 0.002629119583124075, 'time_skew': 0.8706468862239145, 'time_kurt': 1.9706560912325846, 'freq_mean': 0.0036464078122264245, 'freq_var': 0.00782565043173718, 'freq_skew': 1.051896373177306, 'freq_kurt': 11.907007108515806}\n"
     ]
    },
    {
     "name": "stderr",
     "output_type": "stream",
     "text": [
      "19it [00:01, 14.03it/s]\n"
     ]
    },
    {
     "name": "stdout",
     "output_type": "stream",
     "text": [
      "{'method': 'tauleaping', 'g_steps': 0, 'tau_steps': 20, 'use_corrector': True, 'corrector': 'birthdeath', 'c_stepsize': 0.1, 'c_steps': 1, 'nfe': 38.0, 'time_mean': 0.004966886934727515, 'time_var': 0.0022029576627042185, 'time_skew': 0.789462060341382, 'time_kurt': 2.1807650193684007, 'freq_mean': 0.004966899212631394, 'freq_var': 0.009495508924022717, 'freq_skew': 1.0853372566147, 'freq_kurt': 12.110825814896492}\n"
     ]
    },
    {
     "name": "stderr",
     "output_type": "stream",
     "text": [
      "19it [00:01, 14.10it/s]\n"
     ]
    },
    {
     "name": "stdout",
     "output_type": "stream",
     "text": [
      "{'method': 'tauleaping', 'g_steps': 0, 'tau_steps': 20, 'use_corrector': True, 'corrector': 'birthdeath', 'c_stepsize': 0.1, 'c_steps': 1, 'nfe': 38.0, 'time_mean': 0.0038826491887393806, 'time_var': 0.0020350594085224915, 'time_skew': 0.9035120691738957, 'time_kurt': 2.00906043588367, 'freq_mean': 0.003882660994877865, 'freq_var': 0.009347433858202858, 'freq_skew': 1.1196910486629799, 'freq_kurt': 12.401791104936885}\n"
     ]
    },
    {
     "name": "stderr",
     "output_type": "stream",
     "text": [
      "19it [00:01, 14.05it/s]\n"
     ]
    },
    {
     "name": "stdout",
     "output_type": "stream",
     "text": [
      "{'method': 'tauleaping', 'g_steps': 0, 'tau_steps': 20, 'use_corrector': True, 'corrector': 'birthdeath', 'c_stepsize': 0.1, 'c_steps': 1, 'nfe': 38.0, 'time_mean': 0.003731037154550553, 'time_var': 0.0020891460011244565, 'time_skew': 0.8679251643934476, 'time_kurt': 2.4021840850107608, 'freq_mean': 0.0037310480229839514, 'freq_var': 0.0076995399165462825, 'freq_skew': 1.071557555708513, 'freq_kurt': 11.57353778358747}\n"
     ]
    },
    {
     "name": "stderr",
     "output_type": "stream",
     "text": [
      "19it [00:01, 14.08it/s]\n"
     ]
    },
    {
     "name": "stdout",
     "output_type": "stream",
     "text": [
      "{'method': 'tauleaping', 'g_steps': 0, 'tau_steps': 20, 'use_corrector': True, 'corrector': 'birthdeath', 'c_stepsize': 0.1, 'c_steps': 1, 'nfe': 38.0, 'time_mean': 0.0037258973909396653, 'time_var': 0.002385882624726629, 'time_skew': 0.8241046564471336, 'time_kurt': 1.9893743168994977, 'freq_mean': 0.003725908771526043, 'freq_var': 0.009398888381057085, 'freq_skew': 1.1450882848382848, 'freq_kurt': 13.197819266355785}\n"
     ]
    },
    {
     "name": "stderr",
     "output_type": "stream",
     "text": [
      "19it [00:01, 14.10it/s]\n"
     ]
    },
    {
     "name": "stdout",
     "output_type": "stream",
     "text": [
      "{'method': 'tauleaping', 'g_steps': 0, 'tau_steps': 20, 'use_corrector': True, 'corrector': 'birthdeath', 'c_stepsize': 0.1, 'c_steps': 1, 'nfe': 38.0, 'time_mean': 0.0032273668466527208, 'time_var': 0.0024035638664439895, 'time_skew': 0.8217293541224405, 'time_kurt': 1.8093765391672385, 'freq_mean': 0.0032273782832099567, 'freq_var': 0.007618703304665399, 'freq_skew': 1.1036961339194553, 'freq_kurt': 12.557329656606557}\n"
     ]
    },
    {
     "name": "stderr",
     "output_type": "stream",
     "text": [
      "19it [00:01, 14.07it/s]\n"
     ]
    },
    {
     "name": "stdout",
     "output_type": "stream",
     "text": [
      "{'method': 'tauleaping', 'g_steps': 0, 'tau_steps': 20, 'use_corrector': True, 'corrector': 'birthdeath', 'c_stepsize': 0.1, 'c_steps': 1, 'nfe': 38.0, 'time_mean': 0.0037134563216250542, 'time_var': 0.0021346439367553047, 'time_skew': 0.7595284641799256, 'time_kurt': 1.8875568565994256, 'freq_mean': 0.0037134672011233725, 'freq_var': 0.009228239935090947, 'freq_skew': 1.0698976488182093, 'freq_kurt': 11.66955773430862}\n"
     ]
    },
    {
     "name": "stderr",
     "output_type": "stream",
     "text": [
      "19it [00:01, 14.09it/s]\n"
     ]
    },
    {
     "name": "stdout",
     "output_type": "stream",
     "text": [
      "{'method': 'tauleaping', 'g_steps': 0, 'tau_steps': 20, 'use_corrector': True, 'corrector': 'birthdeath', 'c_stepsize': 0.1, 'c_steps': 1, 'nfe': 38.0, 'time_mean': 0.004099081395295496, 'time_var': 0.0025520994109161778, 'time_skew': 0.8269188030935268, 'time_kurt': 1.796933614266575, 'freq_mean': 0.004099093419686843, 'freq_var': 0.008548705798076827, 'freq_skew': 1.131345178516154, 'freq_kurt': 12.661837311738292}\n"
     ]
    },
    {
     "name": "stderr",
     "output_type": "stream",
     "text": [
      "19it [00:01, 14.09it/s]\n"
     ]
    },
    {
     "name": "stdout",
     "output_type": "stream",
     "text": [
      "{'method': 'tauleaping', 'g_steps': 0, 'tau_steps': 20, 'use_corrector': True, 'corrector': 'birthdeath', 'c_stepsize': 0.1, 'c_steps': 1, 'nfe': 38.0, 'time_mean': 0.0046021178211678535, 'time_var': 0.002623750369663506, 'time_skew': 0.8266826317263792, 'time_kurt': 1.7110917985193452, 'freq_mean': 0.004602130074566668, 'freq_var': 0.007734231903622577, 'freq_skew': 1.01856433736155, 'freq_kurt': 12.05138156671973}\n"
     ]
    },
    {
     "name": "stderr",
     "output_type": "stream",
     "text": [
      "19it [00:01, 14.09it/s]\n"
     ]
    },
    {
     "name": "stdout",
     "output_type": "stream",
     "text": [
      "{'method': 'tauleaping', 'g_steps': 0, 'tau_steps': 20, 'use_corrector': True, 'corrector': 'birthdeath', 'c_stepsize': 0.1, 'c_steps': 1, 'nfe': 38.0, 'time_mean': 0.004291311394866073, 'time_var': 0.0025196887603211797, 'time_skew': 0.8643734343674808, 'time_kurt': 1.991403639663957, 'freq_mean': 0.004291322685735174, 'freq_var': 0.009005975107263463, 'freq_skew': 1.0612984298130772, 'freq_kurt': 11.11735709790448}\n"
     ]
    },
    {
     "name": "stderr",
     "output_type": "stream",
     "text": [
      "19it [00:01, 13.68it/s]\n"
     ]
    },
    {
     "name": "stdout",
     "output_type": "stream",
     "text": [
      "{'method': 'tauleaping', 'g_steps': 0, 'tau_steps': 20, 'use_corrector': True, 'corrector': 'birthdeath', 'c_stepsize': 0.1, 'c_steps': 1, 'nfe': 38.0, 'time_mean': 0.004301944047336596, 'time_var': 0.0025364466678234887, 'time_skew': 0.8319700401858703, 'time_kurt': 1.919264765660733, 'freq_mean': 0.004301955728606228, 'freq_var': 0.008722107094836035, 'freq_skew': 1.10566128166324, 'freq_kurt': 11.642076581909306}\n"
     ]
    },
    {
     "name": "stderr",
     "output_type": "stream",
     "text": [
      "19it [00:01, 14.10it/s]\n"
     ]
    },
    {
     "name": "stdout",
     "output_type": "stream",
     "text": [
      "{'method': 'tauleaping', 'g_steps': 0, 'tau_steps': 20, 'use_corrector': True, 'corrector': 'birthdeath', 'c_stepsize': 0.1, 'c_steps': 1, 'nfe': 38.0, 'time_mean': 0.003738648998972057, 'time_var': 0.0022643189564883126, 'time_skew': 0.8687831342879861, 'time_kurt': 1.8420029226163592, 'freq_mean': 0.0037386603205348443, 'freq_var': 0.008099895373757111, 'freq_skew': 1.096262784181079, 'freq_kurt': 11.910918206857026}\n"
     ]
    },
    {
     "name": "stderr",
     "output_type": "stream",
     "text": [
      "19it [00:01, 14.10it/s]\n"
     ]
    },
    {
     "name": "stdout",
     "output_type": "stream",
     "text": [
      "{'method': 'tauleaping', 'g_steps': 0, 'tau_steps': 20, 'use_corrector': True, 'corrector': 'birthdeath', 'c_stepsize': 0.1, 'c_steps': 1, 'nfe': 38.0, 'time_mean': 0.004110673676244166, 'time_var': 0.0023619391498442793, 'time_skew': 0.8187152287336339, 'time_kurt': 1.8394256651321672, 'freq_mean': 0.004110685507531491, 'freq_var': 0.008810247728467691, 'freq_skew': 1.0794714722145498, 'freq_kurt': 11.908446158345663}\n"
     ]
    },
    {
     "name": "stderr",
     "output_type": "stream",
     "text": [
      "19it [00:01, 14.10it/s]\n"
     ]
    },
    {
     "name": "stdout",
     "output_type": "stream",
     "text": [
      "{'method': 'tauleaping', 'g_steps': 0, 'tau_steps': 20, 'use_corrector': True, 'corrector': 'birthdeath', 'c_stepsize': 0.1, 'c_steps': 1, 'nfe': 38.0, 'time_mean': 0.004478435728681162, 'time_var': 0.0026266531746613367, 'time_skew': 0.9645832835928181, 'time_kurt': 1.9819569965072596, 'freq_mean': 0.0044784479524211844, 'freq_var': 0.009546596338167339, 'freq_skew': 1.076568590869872, 'freq_kurt': 12.113129457956223}\n"
     ]
    },
    {
     "name": "stderr",
     "output_type": "stream",
     "text": [
      "19it [00:01, 14.04it/s]\n"
     ]
    },
    {
     "name": "stdout",
     "output_type": "stream",
     "text": [
      "{'method': 'tauleaping', 'g_steps': 0, 'tau_steps': 20, 'use_corrector': True, 'corrector': 'birthdeath', 'c_stepsize': 0.1, 'c_steps': 1, 'nfe': 38.0, 'time_mean': 0.003634461650968647, 'time_var': 0.0020753341328084754, 'time_skew': 0.9180793899544749, 'time_kurt': 2.19777191496127, 'freq_mean': 0.0036344732372646316, 'freq_var': 0.008718106586642176, 'freq_skew': 1.0762083136755922, 'freq_kurt': 11.968238369222538}\n",
      "Experiment results saved to  gene_results.csv\n"
     ]
    },
    {
     "name": "stderr",
     "output_type": "stream",
     "text": [
      "29it [00:02, 13.91it/s]\n"
     ]
    },
    {
     "name": "stdout",
     "output_type": "stream",
     "text": [
      "{'method': 'tauleaping', 'g_steps': 0, 'tau_steps': 30, 'use_corrector': True, 'corrector': 'birthdeath', 'c_stepsize': 0.1, 'c_steps': 1, 'nfe': 57.0, 'time_mean': 0.0028437103933992547, 'time_var': 0.0013683011057005908, 'time_skew': 0.7385256086250346, 'time_kurt': 2.37410957251908, 'freq_mean': 0.002843719682733445, 'freq_var': 0.007032587939711264, 'freq_skew': 1.0336504570059362, 'freq_kurt': 11.755073411475385}\n"
     ]
    },
    {
     "name": "stderr",
     "output_type": "stream",
     "text": [
      "29it [00:02, 13.91it/s]\n"
     ]
    },
    {
     "name": "stdout",
     "output_type": "stream",
     "text": [
      "{'method': 'tauleaping', 'g_steps': 0, 'tau_steps': 30, 'use_corrector': True, 'corrector': 'birthdeath', 'c_stepsize': 0.1, 'c_steps': 1, 'nfe': 57.0, 'time_mean': 0.0031045977330011717, 'time_var': 0.001563291531415037, 'time_skew': 0.8082617877149978, 'time_kurt': 2.3504431137623434, 'freq_mean': 0.003104607188674451, 'freq_var': 0.006154524301671043, 'freq_skew': 1.005660591044544, 'freq_kurt': 11.397186151067674}\n"
     ]
    },
    {
     "name": "stderr",
     "output_type": "stream",
     "text": [
      "29it [00:02, 13.90it/s]\n"
     ]
    },
    {
     "name": "stdout",
     "output_type": "stream",
     "text": [
      "{'method': 'tauleaping', 'g_steps': 0, 'tau_steps': 30, 'use_corrector': True, 'corrector': 'birthdeath', 'c_stepsize': 0.1, 'c_steps': 1, 'nfe': 57.0, 'time_mean': 0.0030588327884820076, 'time_var': 0.0014133035260784257, 'time_skew': 0.7845235903743042, 'time_kurt': 2.2218142501321774, 'freq_mean': 0.0030588419462904085, 'freq_var': 0.005581320620434763, 'freq_skew': 1.027302410225966, 'freq_kurt': 10.816663277285103}\n"
     ]
    },
    {
     "name": "stderr",
     "output_type": "stream",
     "text": [
      "29it [00:02, 13.86it/s]\n"
     ]
    },
    {
     "name": "stdout",
     "output_type": "stream",
     "text": [
      "{'method': 'tauleaping', 'g_steps': 0, 'tau_steps': 30, 'use_corrector': True, 'corrector': 'birthdeath', 'c_stepsize': 0.1, 'c_steps': 1, 'nfe': 57.0, 'time_mean': 0.0032027952345580228, 'time_var': 0.0012920960989282085, 'time_skew': 0.7187787670894441, 'time_kurt': 2.4854393816909837, 'freq_mean': 0.003202803841689742, 'freq_var': 0.006095785321892532, 'freq_skew': 0.9573777294774578, 'freq_kurt': 11.622497563461184}\n"
     ]
    },
    {
     "name": "stderr",
     "output_type": "stream",
     "text": [
      "29it [00:02, 13.90it/s]\n"
     ]
    },
    {
     "name": "stdout",
     "output_type": "stream",
     "text": [
      "{'method': 'tauleaping', 'g_steps': 0, 'tau_steps': 30, 'use_corrector': True, 'corrector': 'birthdeath', 'c_stepsize': 0.1, 'c_steps': 1, 'nfe': 57.0, 'time_mean': 0.0034310133077254893, 'time_var': 0.0013146299998852973, 'time_skew': 0.7845097616958605, 'time_kurt': 2.305454603830396, 'freq_mean': 0.003431022723570096, 'freq_var': 0.00594622153525528, 'freq_skew': 0.9987904208973001, 'freq_kurt': 11.614383154572685}\n"
     ]
    },
    {
     "name": "stderr",
     "output_type": "stream",
     "text": [
      "29it [00:02, 13.90it/s]\n"
     ]
    },
    {
     "name": "stdout",
     "output_type": "stream",
     "text": [
      "{'method': 'tauleaping', 'g_steps': 0, 'tau_steps': 30, 'use_corrector': True, 'corrector': 'birthdeath', 'c_stepsize': 0.1, 'c_steps': 1, 'nfe': 57.0, 'time_mean': 0.0021755664712241702, 'time_var': 0.0015845751327006308, 'time_skew': 0.6679193416480401, 'time_kurt': 1.7511606518237561, 'freq_mean': 0.0021755755275943258, 'freq_var': 0.005744399219513528, 'freq_skew': 0.9910636798514643, 'freq_kurt': 11.202647032469532}\n"
     ]
    },
    {
     "name": "stderr",
     "output_type": "stream",
     "text": [
      "29it [00:02, 13.91it/s]\n"
     ]
    },
    {
     "name": "stdout",
     "output_type": "stream",
     "text": [
      "{'method': 'tauleaping', 'g_steps': 0, 'tau_steps': 30, 'use_corrector': True, 'corrector': 'birthdeath', 'c_stepsize': 0.1, 'c_steps': 1, 'nfe': 57.0, 'time_mean': 0.0026106378547019935, 'time_var': 0.0012693323246993334, 'time_skew': 0.6769550725823152, 'time_kurt': 2.3487259382151953, 'freq_mean': 0.0026106468009398616, 'freq_var': 0.006500764219653298, 'freq_skew': 1.0037944359029216, 'freq_kurt': 11.238524327660635}\n"
     ]
    },
    {
     "name": "stderr",
     "output_type": "stream",
     "text": [
      "29it [00:02, 13.91it/s]\n"
     ]
    },
    {
     "name": "stdout",
     "output_type": "stream",
     "text": [
      "{'method': 'tauleaping', 'g_steps': 0, 'tau_steps': 30, 'use_corrector': True, 'corrector': 'birthdeath', 'c_stepsize': 0.1, 'c_steps': 1, 'nfe': 57.0, 'time_mean': 0.002693327414047952, 'time_var': 0.0016129109238204478, 'time_skew': 0.6025667133119441, 'time_kurt': 2.076465858681043, 'freq_mean': 0.002693336767002909, 'freq_var': 0.0061618108101539806, 'freq_skew': 1.0440179635678029, 'freq_kurt': 11.318167042771483}\n"
     ]
    },
    {
     "name": "stderr",
     "output_type": "stream",
     "text": [
      "29it [00:02, 13.93it/s]\n"
     ]
    },
    {
     "name": "stdout",
     "output_type": "stream",
     "text": [
      "{'method': 'tauleaping', 'g_steps': 0, 'tau_steps': 30, 'use_corrector': True, 'corrector': 'birthdeath', 'c_stepsize': 0.1, 'c_steps': 1, 'nfe': 57.0, 'time_mean': 0.0035094364410640845, 'time_var': 0.0012808996232610912, 'time_skew': 0.6396172174422446, 'time_kurt': 2.1930318963995514, 'freq_mean': 0.0035094452322888747, 'freq_var': 0.006114929593777139, 'freq_skew': 1.0146446846160564, 'freq_kurt': 11.25087582293844}\n"
     ]
    },
    {
     "name": "stderr",
     "output_type": "stream",
     "text": [
      "29it [00:02, 13.93it/s]\n"
     ]
    },
    {
     "name": "stdout",
     "output_type": "stream",
     "text": [
      "{'method': 'tauleaping', 'g_steps': 0, 'tau_steps': 30, 'use_corrector': True, 'corrector': 'birthdeath', 'c_stepsize': 0.1, 'c_steps': 1, 'nfe': 57.0, 'time_mean': 0.0023600785803677363, 'time_var': 0.0011805122162676905, 'time_skew': 0.7012788381630479, 'time_kurt': 2.7221546664329717, 'freq_mean': 0.0023600872986401333, 'freq_var': 0.005846222593667893, 'freq_skew': 1.028315769669057, 'freq_kurt': 10.977052982914389}\n"
     ]
    },
    {
     "name": "stderr",
     "output_type": "stream",
     "text": [
      "29it [00:02, 13.89it/s]\n"
     ]
    },
    {
     "name": "stdout",
     "output_type": "stream",
     "text": [
      "{'method': 'tauleaping', 'g_steps': 0, 'tau_steps': 30, 'use_corrector': True, 'corrector': 'birthdeath', 'c_stepsize': 0.1, 'c_steps': 1, 'nfe': 57.0, 'time_mean': 0.0027026097944902973, 'time_var': 0.0013315973052138406, 'time_skew': 0.7278341058799553, 'time_kurt': 2.1416958241641932, 'freq_mean': 0.002702618648807887, 'freq_var': 0.0059645482173384095, 'freq_skew': 1.0312518927305634, 'freq_kurt': 11.291507884730974}\n"
     ]
    },
    {
     "name": "stderr",
     "output_type": "stream",
     "text": [
      "29it [00:02, 13.68it/s]\n"
     ]
    },
    {
     "name": "stdout",
     "output_type": "stream",
     "text": [
      "{'method': 'tauleaping', 'g_steps': 0, 'tau_steps': 30, 'use_corrector': True, 'corrector': 'birthdeath', 'c_stepsize': 0.1, 'c_steps': 1, 'nfe': 57.0, 'time_mean': 0.0030824933497399965, 'time_var': 0.0012782061412571076, 'time_skew': 0.7329965627737549, 'time_kurt': 2.4205960972120906, 'freq_mean': 0.0030825027724928353, 'freq_var': 0.006689856375726407, 'freq_skew': 1.0345756042100072, 'freq_kurt': 11.503558638299173}\n"
     ]
    },
    {
     "name": "stderr",
     "output_type": "stream",
     "text": [
      "29it [00:02, 13.92it/s]\n"
     ]
    },
    {
     "name": "stdout",
     "output_type": "stream",
     "text": [
      "{'method': 'tauleaping', 'g_steps': 0, 'tau_steps': 30, 'use_corrector': True, 'corrector': 'birthdeath', 'c_stepsize': 0.1, 'c_steps': 1, 'nfe': 57.0, 'time_mean': 0.002407040683990452, 'time_var': 0.0012422098118521512, 'time_skew': 0.7169140632930332, 'time_kurt': 2.4942485103515084, 'freq_mean': 0.0024070494675445787, 'freq_var': 0.00646663932588295, 'freq_skew': 0.9388050916325535, 'freq_kurt': 11.397680983238969}\n"
     ]
    },
    {
     "name": "stderr",
     "output_type": "stream",
     "text": [
      "29it [00:02, 13.94it/s]\n"
     ]
    },
    {
     "name": "stdout",
     "output_type": "stream",
     "text": [
      "{'method': 'tauleaping', 'g_steps': 0, 'tau_steps': 30, 'use_corrector': True, 'corrector': 'birthdeath', 'c_stepsize': 0.1, 'c_steps': 1, 'nfe': 57.0, 'time_mean': 0.0023574273053519356, 'time_var': 0.001294751959383362, 'time_skew': 0.6857058927285455, 'time_kurt': 2.4807013849955384, 'freq_mean': 0.002357436030019123, 'freq_var': 0.006061906426900413, 'freq_skew': 1.104493815701786, 'freq_kurt': 11.819375748762512}\n"
     ]
    },
    {
     "name": "stderr",
     "output_type": "stream",
     "text": [
      "29it [00:02, 13.89it/s]\n"
     ]
    },
    {
     "name": "stdout",
     "output_type": "stream",
     "text": [
      "{'method': 'tauleaping', 'g_steps': 0, 'tau_steps': 30, 'use_corrector': True, 'corrector': 'birthdeath', 'c_stepsize': 0.1, 'c_steps': 1, 'nfe': 57.0, 'time_mean': 0.0027657913905327508, 'time_var': 0.0010170150726567168, 'time_skew': 0.8401884217503987, 'time_kurt': 3.033125763904154, 'freq_mean': 0.0027657996814084425, 'freq_var': 0.0066846732177244265, 'freq_skew': 1.0313032485198552, 'freq_kurt': 11.602186961231432}\n"
     ]
    },
    {
     "name": "stderr",
     "output_type": "stream",
     "text": [
      "29it [00:02, 13.92it/s]\n"
     ]
    },
    {
     "name": "stdout",
     "output_type": "stream",
     "text": [
      "{'method': 'tauleaping', 'g_steps': 0, 'tau_steps': 30, 'use_corrector': True, 'corrector': 'birthdeath', 'c_stepsize': 0.1, 'c_steps': 1, 'nfe': 57.0, 'time_mean': 0.003026373046439802, 'time_var': 0.00148835098271822, 'time_skew': 0.6465547422247675, 'time_kurt': 2.248028335354482, 'freq_mean': 0.0030263825548310116, 'freq_var': 0.00638431707323572, 'freq_skew': 1.0246787835143716, 'freq_kurt': 11.638470695032046}\n"
     ]
    },
    {
     "name": "stderr",
     "output_type": "stream",
     "text": [
      "29it [00:02, 13.94it/s]\n"
     ]
    },
    {
     "name": "stdout",
     "output_type": "stream",
     "text": [
      "{'method': 'tauleaping', 'g_steps': 0, 'tau_steps': 30, 'use_corrector': True, 'corrector': 'birthdeath', 'c_stepsize': 0.1, 'c_steps': 1, 'nfe': 57.0, 'time_mean': 0.0024187917065226767, 'time_var': 0.0011977001703916545, 'time_skew': 0.779462828276852, 'time_kurt': 2.645802609726856, 'freq_mean': 0.0024187995641796493, 'freq_var': 0.006898649781056842, 'freq_skew': 0.9850410154163443, 'freq_kurt': 11.103531260215087}\n"
     ]
    },
    {
     "name": "stderr",
     "output_type": "stream",
     "text": [
      "29it [00:02, 13.90it/s]\n"
     ]
    },
    {
     "name": "stdout",
     "output_type": "stream",
     "text": [
      "{'method': 'tauleaping', 'g_steps': 0, 'tau_steps': 30, 'use_corrector': True, 'corrector': 'birthdeath', 'c_stepsize': 0.1, 'c_steps': 1, 'nfe': 57.0, 'time_mean': 0.002454288506016191, 'time_var': 0.001410474315901202, 'time_skew': 0.6684071201227713, 'time_kurt': 2.0274456824613156, 'freq_mean': 0.0024542971443166457, 'freq_var': 0.006463644676029653, 'freq_skew': 1.0814202879625465, 'freq_kurt': 11.5602256162378}\n"
     ]
    },
    {
     "name": "stderr",
     "output_type": "stream",
     "text": [
      "29it [00:02, 13.87it/s]\n"
     ]
    },
    {
     "name": "stdout",
     "output_type": "stream",
     "text": [
      "{'method': 'tauleaping', 'g_steps': 0, 'tau_steps': 30, 'use_corrector': True, 'corrector': 'birthdeath', 'c_stepsize': 0.1, 'c_steps': 1, 'nfe': 57.0, 'time_mean': 0.002950255244890864, 'time_var': 0.0013527894385022621, 'time_skew': 0.8100994875833994, 'time_kurt': 2.6991539179849844, 'freq_mean': 0.002950265096232011, 'freq_var': 0.006409625307158238, 'freq_skew': 0.9745741260061784, 'freq_kurt': 10.761265233244147}\n"
     ]
    },
    {
     "name": "stderr",
     "output_type": "stream",
     "text": [
      "29it [00:02, 13.89it/s]\n"
     ]
    },
    {
     "name": "stdout",
     "output_type": "stream",
     "text": [
      "{'method': 'tauleaping', 'g_steps': 0, 'tau_steps': 30, 'use_corrector': True, 'corrector': 'birthdeath', 'c_stepsize': 0.1, 'c_steps': 1, 'nfe': 57.0, 'time_mean': 0.002179210257294883, 'time_var': 0.0012542877238314746, 'time_skew': 0.7797744335501441, 'time_kurt': 2.4186680432541987, 'freq_mean': 0.002179218261460334, 'freq_var': 0.00676057454816301, 'freq_skew': 1.0022831741257734, 'freq_kurt': 11.284445724032777}\n",
      "Experiment results saved to  gene_results.csv\n"
     ]
    },
    {
     "name": "stderr",
     "output_type": "stream",
     "text": [
      "59it [00:04, 13.80it/s]\n"
     ]
    },
    {
     "name": "stdout",
     "output_type": "stream",
     "text": [
      "{'method': 'tauleaping', 'g_steps': 0, 'tau_steps': 60, 'use_corrector': True, 'corrector': 'birthdeath', 'c_stepsize': 0.1, 'c_steps': 1, 'nfe': 114.0, 'time_mean': 0.0018657276564714553, 'time_var': 0.00037204425654682966, 'time_skew': 0.42328212997091647, 'time_kurt': 2.6400066752587232, 'freq_mean': 0.0018657326836731501, 'freq_var': 0.00478608051295555, 'freq_skew': 0.9926820402523852, 'freq_kurt': 10.380665740894376}\n"
     ]
    },
    {
     "name": "stderr",
     "output_type": "stream",
     "text": [
      "59it [00:04, 13.77it/s]\n"
     ]
    },
    {
     "name": "stdout",
     "output_type": "stream",
     "text": [
      "{'method': 'tauleaping', 'g_steps': 0, 'tau_steps': 60, 'use_corrector': True, 'corrector': 'birthdeath', 'c_stepsize': 0.1, 'c_steps': 1, 'nfe': 114.0, 'time_mean': 0.0017941415040699344, 'time_var': 0.00045973988847417436, 'time_skew': 0.4937421696982695, 'time_kurt': 2.594466923234839, 'freq_mean': 0.0017941465175137638, 'freq_var': 0.0047109862136630815, 'freq_skew': 0.9046477158336427, 'freq_kurt': 10.902711282594503}\n"
     ]
    },
    {
     "name": "stderr",
     "output_type": "stream",
     "text": [
      "59it [00:04, 13.69it/s]\n"
     ]
    },
    {
     "name": "stdout",
     "output_type": "stream",
     "text": [
      "{'method': 'tauleaping', 'g_steps': 0, 'tau_steps': 60, 'use_corrector': True, 'corrector': 'birthdeath', 'c_stepsize': 0.1, 'c_steps': 1, 'nfe': 114.0, 'time_mean': 0.0017126411177107947, 'time_var': 0.00041951684838267215, 'time_skew': 0.43625133718551645, 'time_kurt': 2.3483348831302213, 'freq_mean': 0.0017126463471606958, 'freq_var': 0.0035204024300986955, 'freq_skew': 1.0686532349561901, 'freq_kurt': 8.897972223048207}\n"
     ]
    },
    {
     "name": "stderr",
     "output_type": "stream",
     "text": [
      "59it [00:04, 13.63it/s]\n"
     ]
    },
    {
     "name": "stdout",
     "output_type": "stream",
     "text": [
      "{'method': 'tauleaping', 'g_steps': 0, 'tau_steps': 60, 'use_corrector': True, 'corrector': 'birthdeath', 'c_stepsize': 0.1, 'c_steps': 1, 'nfe': 114.0, 'time_mean': 0.0013424950144959459, 'time_var': 0.000368633954358727, 'time_skew': 0.41392927242599264, 'time_kurt': 2.1644740562382556, 'freq_mean': 0.0013424996602674657, 'freq_var': 0.0046338458327787775, 'freq_skew': 0.9800296788747236, 'freq_kurt': 10.255884794128072}\n"
     ]
    },
    {
     "name": "stderr",
     "output_type": "stream",
     "text": [
      "59it [00:04, 13.74it/s]\n"
     ]
    },
    {
     "name": "stdout",
     "output_type": "stream",
     "text": [
      "{'method': 'tauleaping', 'g_steps': 0, 'tau_steps': 60, 'use_corrector': True, 'corrector': 'birthdeath', 'c_stepsize': 0.1, 'c_steps': 1, 'nfe': 114.0, 'time_mean': 0.001967574496612679, 'time_var': 0.00046541980299066534, 'time_skew': 0.5520509554018656, 'time_kurt': 3.079455683443936, 'freq_mean': 0.001967579729883457, 'freq_var': 0.006056943901756835, 'freq_skew': 0.9912005125972063, 'freq_kurt': 11.084366403242937}\n"
     ]
    },
    {
     "name": "stderr",
     "output_type": "stream",
     "text": [
      "59it [00:04, 13.78it/s]\n"
     ]
    },
    {
     "name": "stdout",
     "output_type": "stream",
     "text": [
      "{'method': 'tauleaping', 'g_steps': 0, 'tau_steps': 60, 'use_corrector': True, 'corrector': 'birthdeath', 'c_stepsize': 0.1, 'c_steps': 1, 'nfe': 114.0, 'time_mean': 0.0009687215908652578, 'time_var': 0.0004958729096534726, 'time_skew': 0.4557147462140613, 'time_kurt': 2.2800830310420914, 'freq_mean': 0.0009687270046683502, 'freq_var': 0.0038489662961303656, 'freq_skew': 0.9622303945302758, 'freq_kurt': 10.357481093686742}\n"
     ]
    },
    {
     "name": "stderr",
     "output_type": "stream",
     "text": [
      "59it [00:04, 13.78it/s]\n"
     ]
    },
    {
     "name": "stdout",
     "output_type": "stream",
     "text": [
      "{'method': 'tauleaping', 'g_steps': 0, 'tau_steps': 60, 'use_corrector': True, 'corrector': 'birthdeath', 'c_stepsize': 0.1, 'c_steps': 1, 'nfe': 114.0, 'time_mean': 0.0018281648315215848, 'time_var': 0.00039310315071648184, 'time_skew': 0.44419793490041765, 'time_kurt': 2.5218741574065437, 'freq_mean': 0.0018281696603598082, 'freq_var': 0.004767832326936814, 'freq_skew': 0.9351886334668789, 'freq_kurt': 10.011524903135351}\n"
     ]
    },
    {
     "name": "stderr",
     "output_type": "stream",
     "text": [
      "59it [00:04, 13.75it/s]\n"
     ]
    },
    {
     "name": "stdout",
     "output_type": "stream",
     "text": [
      "{'method': 'tauleaping', 'g_steps': 0, 'tau_steps': 60, 'use_corrector': True, 'corrector': 'birthdeath', 'c_stepsize': 0.1, 'c_steps': 1, 'nfe': 114.0, 'time_mean': 0.0026915735507266935, 'time_var': 0.0003900732167810788, 'time_skew': 0.5494276649192241, 'time_kurt': 3.087516358193707, 'freq_mean': 0.00269157941029516, 'freq_var': 0.004264837953435002, 'freq_skew': 0.9552000432138009, 'freq_kurt': 10.544531294419631}\n"
     ]
    },
    {
     "name": "stderr",
     "output_type": "stream",
     "text": [
      "59it [00:04, 13.16it/s]\n"
     ]
    },
    {
     "name": "stdout",
     "output_type": "stream",
     "text": [
      "{'method': 'tauleaping', 'g_steps': 0, 'tau_steps': 60, 'use_corrector': True, 'corrector': 'birthdeath', 'c_stepsize': 0.1, 'c_steps': 1, 'nfe': 114.0, 'time_mean': 0.0016050065115528892, 'time_var': 0.0003678583062626263, 'time_skew': 0.5077857245382681, 'time_kurt': 2.775778568946409, 'freq_mean': 0.0016050117136323665, 'freq_var': 0.004315178267486597, 'freq_skew': 0.877592067127511, 'freq_kurt': 9.22578492202701}\n"
     ]
    },
    {
     "name": "stderr",
     "output_type": "stream",
     "text": [
      "59it [00:04, 13.53it/s]\n"
     ]
    },
    {
     "name": "stdout",
     "output_type": "stream",
     "text": [
      "{'method': 'tauleaping', 'g_steps': 0, 'tau_steps': 60, 'use_corrector': True, 'corrector': 'birthdeath', 'c_stepsize': 0.1, 'c_steps': 1, 'nfe': 114.0, 'time_mean': 0.00132511970681269, 'time_var': 0.00039696776054840374, 'time_skew': 0.5429974260632771, 'time_kurt': 2.768249415887919, 'freq_mean': 0.0013251244442093084, 'freq_var': 0.00376681772767455, 'freq_skew': 0.9204965336688509, 'freq_kurt': 9.733658705243704}\n"
     ]
    },
    {
     "name": "stderr",
     "output_type": "stream",
     "text": [
      "59it [00:04, 13.74it/s]\n"
     ]
    },
    {
     "name": "stdout",
     "output_type": "stream",
     "text": [
      "{'method': 'tauleaping', 'g_steps': 0, 'tau_steps': 60, 'use_corrector': True, 'corrector': 'birthdeath', 'c_stepsize': 0.1, 'c_steps': 1, 'nfe': 114.0, 'time_mean': 0.0016539736848141652, 'time_var': 0.0006121164998369182, 'time_skew': 0.3941681882035314, 'time_kurt': 2.0827156980422337, 'freq_mean': 0.0016539787752900441, 'freq_var': 0.005064533605997271, 'freq_skew': 0.8640500435019499, 'freq_kurt': 10.578602884338322}\n"
     ]
    },
    {
     "name": "stderr",
     "output_type": "stream",
     "text": [
      "59it [00:04, 13.57it/s]\n"
     ]
    },
    {
     "name": "stdout",
     "output_type": "stream",
     "text": [
      "{'method': 'tauleaping', 'g_steps': 0, 'tau_steps': 60, 'use_corrector': True, 'corrector': 'birthdeath', 'c_stepsize': 0.1, 'c_steps': 1, 'nfe': 114.0, 'time_mean': 0.0015191448404450936, 'time_var': 0.00029469781912173584, 'time_skew': 0.4493296526075488, 'time_kurt': 2.801172537400356, 'freq_mean': 0.00151914902231449, 'freq_var': 0.004872288409486001, 'freq_skew': 0.9695328244354162, 'freq_kurt': 10.422247190868562}\n"
     ]
    },
    {
     "name": "stderr",
     "output_type": "stream",
     "text": [
      "59it [00:04, 13.60it/s]\n"
     ]
    },
    {
     "name": "stdout",
     "output_type": "stream",
     "text": [
      "{'method': 'tauleaping', 'g_steps': 0, 'tau_steps': 60, 'use_corrector': True, 'corrector': 'birthdeath', 'c_stepsize': 0.1, 'c_steps': 1, 'nfe': 114.0, 'time_mean': 0.0013268447750356869, 'time_var': 0.0004433772756611778, 'time_skew': 0.47008329624468054, 'time_kurt': 2.653098788110555, 'freq_mean': 0.0013268495210541644, 'freq_var': 0.0035972672634325296, 'freq_skew': 0.8982766440979327, 'freq_kurt': 9.946362604510622}\n"
     ]
    },
    {
     "name": "stderr",
     "output_type": "stream",
     "text": [
      "59it [00:04, 13.45it/s]\n"
     ]
    },
    {
     "name": "stdout",
     "output_type": "stream",
     "text": [
      "{'method': 'tauleaping', 'g_steps': 0, 'tau_steps': 60, 'use_corrector': True, 'corrector': 'birthdeath', 'c_stepsize': 0.1, 'c_steps': 1, 'nfe': 114.0, 'time_mean': 0.0018967653489008105, 'time_var': 0.00046850397722349754, 'time_skew': 0.4687824655892475, 'time_kurt': 2.5953055292582485, 'freq_mean': 0.0018967707528205772, 'freq_var': 0.004410514915915713, 'freq_skew': 0.9012436716749588, 'freq_kurt': 9.269341852351456}\n"
     ]
    },
    {
     "name": "stderr",
     "output_type": "stream",
     "text": [
      "59it [00:04, 13.79it/s]\n"
     ]
    },
    {
     "name": "stdout",
     "output_type": "stream",
     "text": [
      "{'method': 'tauleaping', 'g_steps': 0, 'tau_steps': 60, 'use_corrector': True, 'corrector': 'birthdeath', 'c_stepsize': 0.1, 'c_steps': 1, 'nfe': 114.0, 'time_mean': 0.001997870177676256, 'time_var': 0.00035309177569241935, 'time_skew': 0.38247350403131114, 'time_kurt': 2.417118656232133, 'freq_mean': 0.0019978753970133103, 'freq_var': 0.0036846569362885624, 'freq_skew': 0.9841636546403018, 'freq_kurt': 10.295078453436643}\n"
     ]
    },
    {
     "name": "stderr",
     "output_type": "stream",
     "text": [
      "59it [00:04, 13.79it/s]\n"
     ]
    },
    {
     "name": "stdout",
     "output_type": "stream",
     "text": [
      "{'method': 'tauleaping', 'g_steps': 0, 'tau_steps': 60, 'use_corrector': True, 'corrector': 'birthdeath', 'c_stepsize': 0.1, 'c_steps': 1, 'nfe': 114.0, 'time_mean': 0.0016633996417465436, 'time_var': 0.0004888140586723524, 'time_skew': 0.5170583958971353, 'time_kurt': 2.7601184076734078, 'freq_mean': 0.001663404908548406, 'freq_var': 0.0045053016677666985, 'freq_skew': 1.0100714339943642, 'freq_kurt': 9.787399596370989}\n"
     ]
    },
    {
     "name": "stderr",
     "output_type": "stream",
     "text": [
      "59it [00:04, 13.50it/s]\n"
     ]
    },
    {
     "name": "stdout",
     "output_type": "stream",
     "text": [
      "{'method': 'tauleaping', 'g_steps': 0, 'tau_steps': 60, 'use_corrector': True, 'corrector': 'birthdeath', 'c_stepsize': 0.1, 'c_steps': 1, 'nfe': 114.0, 'time_mean': 0.0024505425238452155, 'time_var': 0.0004731936940698905, 'time_skew': 0.47489846219499127, 'time_kurt': 2.6450616389154438, 'freq_mean': 0.002450547452784851, 'freq_var': 0.0048891638033850765, 'freq_skew': 0.9345753717976936, 'freq_kurt': 10.30459366453526}\n"
     ]
    },
    {
     "name": "stderr",
     "output_type": "stream",
     "text": [
      "59it [00:04, 13.79it/s]\n"
     ]
    },
    {
     "name": "stdout",
     "output_type": "stream",
     "text": [
      "{'method': 'tauleaping', 'g_steps': 0, 'tau_steps': 60, 'use_corrector': True, 'corrector': 'birthdeath', 'c_stepsize': 0.1, 'c_steps': 1, 'nfe': 114.0, 'time_mean': 0.0013437513933049594, 'time_var': 0.0005509769551916799, 'time_skew': 0.4972181435158108, 'time_kurt': 2.063286419906297, 'freq_mean': 0.0013437562321584775, 'freq_var': 0.003651299631832108, 'freq_skew': 0.957937407377745, 'freq_kurt': 9.73483773880659}\n"
     ]
    },
    {
     "name": "stderr",
     "output_type": "stream",
     "text": [
      "59it [00:04, 13.79it/s]\n"
     ]
    },
    {
     "name": "stdout",
     "output_type": "stream",
     "text": [
      "{'method': 'tauleaping', 'g_steps': 0, 'tau_steps': 60, 'use_corrector': True, 'corrector': 'birthdeath', 'c_stepsize': 0.1, 'c_steps': 1, 'nfe': 114.0, 'time_mean': 0.0014617766987902402, 'time_var': 0.0004771687115134791, 'time_skew': 0.4412034371440706, 'time_kurt': 2.4557738577181785, 'freq_mean': 0.0014617819627357359, 'freq_var': 0.003550957131355848, 'freq_skew': 0.8787170590764971, 'freq_kurt': 9.627844271885643}\n"
     ]
    },
    {
     "name": "stderr",
     "output_type": "stream",
     "text": [
      "59it [00:04, 13.79it/s]\n"
     ]
    },
    {
     "name": "stdout",
     "output_type": "stream",
     "text": [
      "{'method': 'tauleaping', 'g_steps': 0, 'tau_steps': 60, 'use_corrector': True, 'corrector': 'birthdeath', 'c_stepsize': 0.1, 'c_steps': 1, 'nfe': 114.0, 'time_mean': 0.0013132561415598611, 'time_var': 0.0005162762496890295, 'time_skew': 0.4734395205052536, 'time_kurt': 2.3067319123498233, 'freq_mean': 0.0013132618476982246, 'freq_var': 0.0036589101930303305, 'freq_skew': 0.9384745806060754, 'freq_kurt': 10.718115747940464}\n",
      "Experiment results saved to  gene_results.csv\n"
     ]
    },
    {
     "name": "stderr",
     "output_type": "stream",
     "text": [
      "100%|██████████| 60/60 [00:05<00:00, 11.67it/s]\n"
     ]
    },
    {
     "name": "stdout",
     "output_type": "stream",
     "text": [
      "{'method': 'gillespies', 'g_steps': 3, 'tau_steps': 0, 'use_corrector': True, 'corrector': 'mpf', 'c_stepsize': 0.1, 'c_steps': 1, 'nfe': 38.0, 'time_mean': 0.0023855364290759997, 'time_var': 0.0003911839899927089, 'time_skew': 0.07287236742172988, 'time_kurt': 0.3523273453412903, 'freq_mean': 0.00238553561145193, 'freq_var': 0.002725552703259361, 'freq_skew': 0.2536968919300287, 'freq_kurt': 5.223842794191183}\n"
     ]
    },
    {
     "name": "stderr",
     "output_type": "stream",
     "text": [
      "100%|██████████| 60/60 [00:04<00:00, 13.39it/s]\n"
     ]
    },
    {
     "name": "stdout",
     "output_type": "stream",
     "text": [
      "{'method': 'gillespies', 'g_steps': 3, 'tau_steps': 0, 'use_corrector': True, 'corrector': 'mpf', 'c_stepsize': 0.1, 'c_steps': 1, 'nfe': 38.0, 'time_mean': 0.0017733531579200333, 'time_var': 0.0005257678327209642, 'time_skew': 0.04127137838148001, 'time_kurt': 0.24706264856182203, 'freq_mean': 0.0017733529470918415, 'freq_var': 0.002110795243855597, 'freq_skew': 0.2556535054745319, 'freq_kurt': 3.28428659850757}\n"
     ]
    },
    {
     "name": "stderr",
     "output_type": "stream",
     "text": [
      "100%|██████████| 60/60 [00:04<00:00, 13.38it/s]\n"
     ]
    },
    {
     "name": "stdout",
     "output_type": "stream",
     "text": [
      "{'method': 'gillespies', 'g_steps': 3, 'tau_steps': 0, 'use_corrector': True, 'corrector': 'mpf', 'c_stepsize': 0.1, 'c_steps': 1, 'nfe': 38.0, 'time_mean': 0.0009432591003408503, 'time_var': 0.00026427793092536776, 'time_skew': 0.030895497380036493, 'time_kurt': 0.2816463965051381, 'freq_mean': 0.0009432588366571082, 'freq_var': 0.001623428697963877, 'freq_skew': 0.15815363483279726, 'freq_kurt': 3.060337834661551}\n"
     ]
    },
    {
     "name": "stderr",
     "output_type": "stream",
     "text": [
      "100%|██████████| 60/60 [00:04<00:00, 13.39it/s]\n"
     ]
    },
    {
     "name": "stdout",
     "output_type": "stream",
     "text": [
      "{'method': 'gillespies', 'g_steps': 3, 'tau_steps': 0, 'use_corrector': True, 'corrector': 'mpf', 'c_stepsize': 0.1, 'c_steps': 1, 'nfe': 38.0, 'time_mean': 0.001499932719820741, 'time_var': 0.00028407418252096686, 'time_skew': 0.03981710598856514, 'time_kurt': 0.249411809845215, 'freq_mean': 0.0014999326372736163, 'freq_var': 0.0011933373173195268, 'freq_skew': 0.19342544648068338, 'freq_kurt': 2.837827180695463}\n"
     ]
    },
    {
     "name": "stderr",
     "output_type": "stream",
     "text": [
      "100%|██████████| 60/60 [00:04<00:00, 12.77it/s]\n"
     ]
    },
    {
     "name": "stdout",
     "output_type": "stream",
     "text": [
      "{'method': 'gillespies', 'g_steps': 3, 'tau_steps': 0, 'use_corrector': True, 'corrector': 'mpf', 'c_stepsize': 0.1, 'c_steps': 1, 'nfe': 38.0, 'time_mean': 0.0017168095660662949, 'time_var': 0.0001856824434881402, 'time_skew': 0.03741897842683208, 'time_kurt': 0.29887409972397844, 'freq_mean': 0.001716809422557212, 'freq_var': 0.0017372361814743304, 'freq_skew': 0.2667317882426661, 'freq_kurt': 2.598165552427089}\n"
     ]
    },
    {
     "name": "stderr",
     "output_type": "stream",
     "text": [
      "100%|██████████| 60/60 [00:04<00:00, 13.39it/s]\n"
     ]
    },
    {
     "name": "stdout",
     "output_type": "stream",
     "text": [
      "{'method': 'gillespies', 'g_steps': 3, 'tau_steps': 0, 'use_corrector': True, 'corrector': 'mpf', 'c_stepsize': 0.1, 'c_steps': 1, 'nfe': 38.0, 'time_mean': 0.0006161813906471711, 'time_var': 5.999884665240004e-05, 'time_skew': 0.03488193018040822, 'time_kurt': 0.31135699992154126, 'freq_mean': 0.0006161807280094882, 'freq_var': 0.00030977776443187176, 'freq_skew': 0.1658912062271899, 'freq_kurt': 1.813181766335179}\n"
     ]
    },
    {
     "name": "stderr",
     "output_type": "stream",
     "text": [
      "100%|██████████| 60/60 [00:04<00:00, 13.37it/s]\n"
     ]
    },
    {
     "name": "stdout",
     "output_type": "stream",
     "text": [
      "{'method': 'gillespies', 'g_steps': 3, 'tau_steps': 0, 'use_corrector': True, 'corrector': 'mpf', 'c_stepsize': 0.1, 'c_steps': 1, 'nfe': 38.0, 'time_mean': 0.002097425178971054, 'time_var': 0.0007455101411767076, 'time_skew': 0.06245457446738116, 'time_kurt': 0.3846016128770538, 'freq_mean': 0.002097424615072787, 'freq_var': 0.0031908516947020894, 'freq_skew': 0.26802630811919076, 'freq_kurt': 2.4482169727419474}\n"
     ]
    },
    {
     "name": "stderr",
     "output_type": "stream",
     "text": [
      "100%|██████████| 60/60 [00:04<00:00, 13.39it/s]\n"
     ]
    },
    {
     "name": "stdout",
     "output_type": "stream",
     "text": [
      "{'method': 'gillespies', 'g_steps': 3, 'tau_steps': 0, 'use_corrector': True, 'corrector': 'mpf', 'c_stepsize': 0.1, 'c_steps': 1, 'nfe': 38.0, 'time_mean': 0.0017586113407614928, 'time_var': 0.0006913368247381982, 'time_skew': 0.049123023097856794, 'time_kurt': 0.37970600681874234, 'freq_mean': 0.0017586110649741476, 'freq_var': 0.0029100214714317505, 'freq_skew': 0.3347923596906527, 'freq_kurt': 3.1350410286827266}\n"
     ]
    },
    {
     "name": "stderr",
     "output_type": "stream",
     "text": [
      "100%|██████████| 60/60 [00:04<00:00, 13.38it/s]\n"
     ]
    },
    {
     "name": "stdout",
     "output_type": "stream",
     "text": [
      "{'method': 'gillespies', 'g_steps': 3, 'tau_steps': 0, 'use_corrector': True, 'corrector': 'mpf', 'c_stepsize': 0.1, 'c_steps': 1, 'nfe': 38.0, 'time_mean': 0.0017005256760622065, 'time_var': 0.00013289350142356467, 'time_skew': 0.042710499325545444, 'time_kurt': 0.1252927850597014, 'freq_mean': 0.001700525100628328, 'freq_var': 0.001354904926555224, 'freq_skew': 0.2588625281360229, 'freq_kurt': 2.6492768910318776}\n"
     ]
    },
    {
     "name": "stderr",
     "output_type": "stream",
     "text": [
      "100%|██████████| 60/60 [00:04<00:00, 13.10it/s]\n"
     ]
    },
    {
     "name": "stdout",
     "output_type": "stream",
     "text": [
      "{'method': 'gillespies', 'g_steps': 3, 'tau_steps': 0, 'use_corrector': True, 'corrector': 'mpf', 'c_stepsize': 0.1, 'c_steps': 1, 'nfe': 38.0, 'time_mean': 0.002081534122455192, 'time_var': 0.00047385193109388424, 'time_skew': 0.039317728242688046, 'time_kurt': 0.29923627544177417, 'freq_mean': 0.0020815333193481226, 'freq_var': 0.00234462106076668, 'freq_skew': 0.23829495777481782, 'freq_kurt': 2.1469766644448223}\n"
     ]
    },
    {
     "name": "stderr",
     "output_type": "stream",
     "text": [
      "100%|██████████| 60/60 [00:04<00:00, 13.24it/s]\n"
     ]
    },
    {
     "name": "stdout",
     "output_type": "stream",
     "text": [
      "{'method': 'gillespies', 'g_steps': 3, 'tau_steps': 0, 'use_corrector': True, 'corrector': 'mpf', 'c_stepsize': 0.1, 'c_steps': 1, 'nfe': 38.0, 'time_mean': 0.0018745292708587566, 'time_var': 0.00016714180215314183, 'time_skew': 0.04968754562889528, 'time_kurt': 0.3832756279626637, 'freq_mean': 0.001874528510354799, 'freq_var': 0.001328212537534581, 'freq_skew': 0.25696696418400705, 'freq_kurt': 2.932350969036292}\n"
     ]
    },
    {
     "name": "stderr",
     "output_type": "stream",
     "text": [
      "100%|██████████| 60/60 [00:04<00:00, 13.39it/s]\n"
     ]
    },
    {
     "name": "stdout",
     "output_type": "stream",
     "text": [
      "{'method': 'gillespies', 'g_steps': 3, 'tau_steps': 0, 'use_corrector': True, 'corrector': 'mpf', 'c_stepsize': 0.1, 'c_steps': 1, 'nfe': 38.0, 'time_mean': 0.001283586575703418, 'time_var': 0.00015464649250929678, 'time_skew': 0.033393157293687595, 'time_kurt': 0.1739862595809492, 'freq_mean': 0.0012835863992604435, 'freq_var': 0.000998185375546062, 'freq_skew': 0.2247668078864055, 'freq_kurt': 4.188091900526512}\n"
     ]
    },
    {
     "name": "stderr",
     "output_type": "stream",
     "text": [
      "100%|██████████| 60/60 [00:04<00:00, 12.50it/s]\n"
     ]
    },
    {
     "name": "stdout",
     "output_type": "stream",
     "text": [
      "{'method': 'gillespies', 'g_steps': 3, 'tau_steps': 0, 'use_corrector': True, 'corrector': 'mpf', 'c_stepsize': 0.1, 'c_steps': 1, 'nfe': 38.0, 'time_mean': 0.002389346680907248, 'time_var': 0.000725871161913711, 'time_skew': 0.06387242075212439, 'time_kurt': 0.37819716030389355, 'freq_mean': 0.0023893455844715516, 'freq_var': 0.003198118541110955, 'freq_skew': 0.35735621744010787, 'freq_kurt': 3.7990357904074314}\n"
     ]
    },
    {
     "name": "stderr",
     "output_type": "stream",
     "text": [
      "100%|██████████| 60/60 [00:04<00:00, 13.38it/s]\n"
     ]
    },
    {
     "name": "stdout",
     "output_type": "stream",
     "text": [
      "{'method': 'gillespies', 'g_steps': 3, 'tau_steps': 0, 'use_corrector': True, 'corrector': 'mpf', 'c_stepsize': 0.1, 'c_steps': 1, 'nfe': 38.0, 'time_mean': 0.0011204014309010675, 'time_var': 0.00022266372053695912, 'time_skew': 0.03745108880112542, 'time_kurt': 0.20577674598798154, 'freq_mean': 0.0011204000757258933, 'freq_var': 0.0009073853177943829, 'freq_skew': 0.2146364569805871, 'freq_kurt': 2.811640809336176}\n"
     ]
    },
    {
     "name": "stderr",
     "output_type": "stream",
     "text": [
      "100%|██████████| 60/60 [00:04<00:00, 13.39it/s]\n"
     ]
    },
    {
     "name": "stdout",
     "output_type": "stream",
     "text": [
      "{'method': 'gillespies', 'g_steps': 3, 'tau_steps': 0, 'use_corrector': True, 'corrector': 'mpf', 'c_stepsize': 0.1, 'c_steps': 1, 'nfe': 38.0, 'time_mean': 0.0009494557664993749, 'time_var': 0.00017694897760626676, 'time_skew': 0.0375088874303581, 'time_kurt': 0.21176816822645084, 'freq_mean': 0.0009494550059263058, 'freq_var': 0.0012390512004729949, 'freq_skew': 0.2425506861393895, 'freq_kurt': 3.277860690450907}\n"
     ]
    },
    {
     "name": "stderr",
     "output_type": "stream",
     "text": [
      "100%|██████████| 60/60 [00:04<00:00, 12.99it/s]\n"
     ]
    },
    {
     "name": "stdout",
     "output_type": "stream",
     "text": [
      "{'method': 'gillespies', 'g_steps': 3, 'tau_steps': 0, 'use_corrector': True, 'corrector': 'mpf', 'c_stepsize': 0.1, 'c_steps': 1, 'nfe': 38.0, 'time_mean': 0.001883029989566265, 'time_var': 0.0002610666997826583, 'time_skew': 0.07674305749765684, 'time_kurt': 0.5261942954673883, 'freq_mean': 0.0018830291909588328, 'freq_var': 0.0019019473401345694, 'freq_skew': 0.27397575834025295, 'freq_kurt': 2.225969928716154}\n"
     ]
    },
    {
     "name": "stderr",
     "output_type": "stream",
     "text": [
      "100%|██████████| 60/60 [00:04<00:00, 13.26it/s]\n"
     ]
    },
    {
     "name": "stdout",
     "output_type": "stream",
     "text": [
      "{'method': 'gillespies', 'g_steps': 3, 'tau_steps': 0, 'use_corrector': True, 'corrector': 'mpf', 'c_stepsize': 0.1, 'c_steps': 1, 'nfe': 38.0, 'time_mean': 0.0036646681963700143, 'time_var': 0.0003002967660850739, 'time_skew': 0.07575822744421766, 'time_kurt': 0.47040881085574615, 'freq_mean': 0.003664666668956567, 'freq_var': 0.0023621538319764613, 'freq_skew': 0.20323664936574512, 'freq_kurt': 2.062769128163263}\n"
     ]
    },
    {
     "name": "stderr",
     "output_type": "stream",
     "text": [
      "100%|██████████| 60/60 [00:04<00:00, 13.39it/s]\n"
     ]
    },
    {
     "name": "stdout",
     "output_type": "stream",
     "text": [
      "{'method': 'gillespies', 'g_steps': 3, 'tau_steps': 0, 'use_corrector': True, 'corrector': 'mpf', 'c_stepsize': 0.1, 'c_steps': 1, 'nfe': 38.0, 'time_mean': 0.0028282383338890647, 'time_var': 0.000361379859119581, 'time_skew': 0.07523122896337052, 'time_kurt': 0.36346402563692987, 'freq_mean': 0.002828237901412023, 'freq_var': 0.0018055704110446376, 'freq_skew': 0.2598929980732624, 'freq_kurt': 2.7261647340457955}\n"
     ]
    },
    {
     "name": "stderr",
     "output_type": "stream",
     "text": [
      "100%|██████████| 60/60 [00:04<00:00, 13.40it/s]\n"
     ]
    },
    {
     "name": "stdout",
     "output_type": "stream",
     "text": [
      "{'method': 'gillespies', 'g_steps': 3, 'tau_steps': 0, 'use_corrector': True, 'corrector': 'mpf', 'c_stepsize': 0.1, 'c_steps': 1, 'nfe': 38.0, 'time_mean': 0.0019658099790441485, 'time_var': 0.00027908904996566274, 'time_skew': 0.06065284421384045, 'time_kurt': 0.26174857227415455, 'freq_mean': 0.0019658093295164248, 'freq_var': 0.002093683187940317, 'freq_skew': 0.2881921528003666, 'freq_kurt': 3.447510582342369}\n"
     ]
    },
    {
     "name": "stderr",
     "output_type": "stream",
     "text": [
      "100%|██████████| 60/60 [00:04<00:00, 13.40it/s]\n"
     ]
    },
    {
     "name": "stdout",
     "output_type": "stream",
     "text": [
      "{'method': 'gillespies', 'g_steps': 3, 'tau_steps': 0, 'use_corrector': True, 'corrector': 'mpf', 'c_stepsize': 0.1, 'c_steps': 1, 'nfe': 38.0, 'time_mean': 0.0019443701826302778, 'time_var': 0.0003952421161944524, 'time_skew': 0.06441142588934062, 'time_kurt': 0.2737861229876605, 'freq_mean': 0.0019443692012312463, 'freq_var': 0.003198889080046295, 'freq_skew': 0.37834463827631887, 'freq_kurt': 13.357317520425466}\n",
      "Experiment results saved to  gene_results.csv\n"
     ]
    },
    {
     "name": "stderr",
     "output_type": "stream",
     "text": [
      "100%|██████████| 60/60 [00:04<00:00, 13.39it/s]\n"
     ]
    },
    {
     "name": "stdout",
     "output_type": "stream",
     "text": [
      "{'method': 'gillespies', 'g_steps': 2, 'tau_steps': 0, 'use_corrector': True, 'corrector': 'mpf', 'c_stepsize': 0.1, 'c_steps': 1, 'nfe': 57.0, 'time_mean': 0.0010419166625288078, 'time_var': 0.00043102895389624863, 'time_skew': 0.043672544871673796, 'time_kurt': 0.27959486973491676, 'freq_mean': 0.0010419160376422137, 'freq_var': 0.00226203334578851, 'freq_skew': 0.42137110311844944, 'freq_kurt': 3.3709721144202835}\n"
     ]
    },
    {
     "name": "stderr",
     "output_type": "stream",
     "text": [
      "100%|██████████| 60/60 [00:04<00:00, 13.28it/s]\n"
     ]
    },
    {
     "name": "stdout",
     "output_type": "stream",
     "text": [
      "{'method': 'gillespies', 'g_steps': 2, 'tau_steps': 0, 'use_corrector': True, 'corrector': 'mpf', 'c_stepsize': 0.1, 'c_steps': 1, 'nfe': 57.0, 'time_mean': 0.0017475146955177215, 'time_var': 0.0002470847674398253, 'time_skew': 0.062051961229289715, 'time_kurt': 0.2317749251541419, 'freq_mean': 0.001747514434755842, 'freq_var': 0.0017281767707273547, 'freq_skew': 0.2279672570850322, 'freq_kurt': 4.378286778257295}\n"
     ]
    },
    {
     "name": "stderr",
     "output_type": "stream",
     "text": [
      "100%|██████████| 60/60 [00:04<00:00, 13.25it/s]\n"
     ]
    },
    {
     "name": "stdout",
     "output_type": "stream",
     "text": [
      "{'method': 'gillespies', 'g_steps': 2, 'tau_steps': 0, 'use_corrector': True, 'corrector': 'mpf', 'c_stepsize': 0.1, 'c_steps': 1, 'nfe': 57.0, 'time_mean': 0.0014906340808386756, 'time_var': 0.00025343008651577075, 'time_skew': 0.04925333858192324, 'time_kurt': 0.2828117357456259, 'freq_mean': 0.0014906331788017966, 'freq_var': 0.0017875590236566944, 'freq_skew': 0.2402855925822519, 'freq_kurt': 2.8914057021732242}\n"
     ]
    },
    {
     "name": "stderr",
     "output_type": "stream",
     "text": [
      "100%|██████████| 60/60 [00:04<00:00, 13.13it/s]\n"
     ]
    },
    {
     "name": "stdout",
     "output_type": "stream",
     "text": [
      "{'method': 'gillespies', 'g_steps': 2, 'tau_steps': 0, 'use_corrector': True, 'corrector': 'mpf', 'c_stepsize': 0.1, 'c_steps': 1, 'nfe': 57.0, 'time_mean': 0.0020703176032234676, 'time_var': 0.00013178965421207456, 'time_skew': 0.04825057486357181, 'time_kurt': 0.278524444516954, 'freq_mean': 0.0020703170581096325, 'freq_var': 0.0022146029137467163, 'freq_skew': 0.20556986647977607, 'freq_kurt': 3.397328228110406}\n"
     ]
    },
    {
     "name": "stderr",
     "output_type": "stream",
     "text": [
      "100%|██████████| 60/60 [00:04<00:00, 13.38it/s]\n"
     ]
    },
    {
     "name": "stdout",
     "output_type": "stream",
     "text": [
      "{'method': 'gillespies', 'g_steps': 2, 'tau_steps': 0, 'use_corrector': True, 'corrector': 'mpf', 'c_stepsize': 0.1, 'c_steps': 1, 'nfe': 57.0, 'time_mean': 0.002944728492703266, 'time_var': 0.00028525550462742984, 'time_skew': 0.06807328870649193, 'time_kurt': 0.5426688352540705, 'freq_mean': 0.002944727273128, 'freq_var': 0.0019061853010338891, 'freq_skew': 0.25598729445620794, 'freq_kurt': 2.681423784085429}\n"
     ]
    },
    {
     "name": "stderr",
     "output_type": "stream",
     "text": [
      "100%|██████████| 60/60 [00:04<00:00, 12.78it/s]\n"
     ]
    },
    {
     "name": "stdout",
     "output_type": "stream",
     "text": [
      "{'method': 'gillespies', 'g_steps': 2, 'tau_steps': 0, 'use_corrector': True, 'corrector': 'mpf', 'c_stepsize': 0.1, 'c_steps': 1, 'nfe': 57.0, 'time_mean': 0.0008682878852477564, 'time_var': 0.0001627727821652707, 'time_skew': 0.04187312954123657, 'time_kurt': 0.26331725164831393, 'freq_mean': 0.0008682873868041384, 'freq_var': 0.0012249416097943884, 'freq_skew': 0.3800406191701325, 'freq_kurt': 4.021427104974508}\n"
     ]
    },
    {
     "name": "stderr",
     "output_type": "stream",
     "text": [
      "100%|██████████| 60/60 [00:04<00:00, 13.39it/s]\n"
     ]
    },
    {
     "name": "stdout",
     "output_type": "stream",
     "text": [
      "{'method': 'gillespies', 'g_steps': 2, 'tau_steps': 0, 'use_corrector': True, 'corrector': 'mpf', 'c_stepsize': 0.1, 'c_steps': 1, 'nfe': 57.0, 'time_mean': 0.0017541217238074237, 'time_var': 0.0003738798950349853, 'time_skew': 0.0538837763294358, 'time_kurt': 0.24112442543820078, 'freq_mean': 0.001754121118386904, 'freq_var': 0.0022428914351417134, 'freq_skew': 0.31321985460037427, 'freq_kurt': 2.5018420668467924}\n"
     ]
    },
    {
     "name": "stderr",
     "output_type": "stream",
     "text": [
      "100%|██████████| 60/60 [00:04<00:00, 13.38it/s]\n"
     ]
    },
    {
     "name": "stdout",
     "output_type": "stream",
     "text": [
      "{'method': 'gillespies', 'g_steps': 2, 'tau_steps': 0, 'use_corrector': True, 'corrector': 'mpf', 'c_stepsize': 0.1, 'c_steps': 1, 'nfe': 57.0, 'time_mean': 0.0009945363964526564, 'time_var': 0.00013277235848776253, 'time_skew': 0.027620657495943328, 'time_kurt': 0.06683618878481719, 'freq_mean': 0.0009945356983646397, 'freq_var': 0.0010415701610440185, 'freq_skew': 0.20278819053792568, 'freq_kurt': 1.6514680779696171}\n"
     ]
    },
    {
     "name": "stderr",
     "output_type": "stream",
     "text": [
      "100%|██████████| 60/60 [00:04<00:00, 13.38it/s]\n"
     ]
    },
    {
     "name": "stdout",
     "output_type": "stream",
     "text": [
      "{'method': 'gillespies', 'g_steps': 2, 'tau_steps': 0, 'use_corrector': True, 'corrector': 'mpf', 'c_stepsize': 0.1, 'c_steps': 1, 'nfe': 57.0, 'time_mean': 0.0008530645375355846, 'time_var': 0.00025178726812374446, 'time_skew': 0.03153716264631937, 'time_kurt': 0.10185735164406165, 'freq_mean': 0.000853064023723755, 'freq_var': 0.0017538093757911437, 'freq_skew': 0.31285275393266915, 'freq_kurt': 3.9855466279777074}\n"
     ]
    },
    {
     "name": "stderr",
     "output_type": "stream",
     "text": [
      "100%|██████████| 60/60 [00:04<00:00, 13.35it/s]\n"
     ]
    },
    {
     "name": "stdout",
     "output_type": "stream",
     "text": [
      "{'method': 'gillespies', 'g_steps': 2, 'tau_steps': 0, 'use_corrector': True, 'corrector': 'mpf', 'c_stepsize': 0.1, 'c_steps': 1, 'nfe': 57.0, 'time_mean': 0.000912082741268977, 'time_var': 0.00048677319582038825, 'time_skew': 0.0470730796517886, 'time_kurt': 0.48815788783052433, 'freq_mean': 0.0009120820321883626, 'freq_var': 0.0023545255543359644, 'freq_skew': 0.4200381371620985, 'freq_kurt': 4.001638592085581}\n"
     ]
    },
    {
     "name": "stderr",
     "output_type": "stream",
     "text": [
      "100%|██████████| 60/60 [00:04<00:00, 13.39it/s]\n"
     ]
    },
    {
     "name": "stdout",
     "output_type": "stream",
     "text": [
      "{'method': 'gillespies', 'g_steps': 2, 'tau_steps': 0, 'use_corrector': True, 'corrector': 'mpf', 'c_stepsize': 0.1, 'c_steps': 1, 'nfe': 57.0, 'time_mean': 0.002084261308221349, 'time_var': 0.0007207033406453464, 'time_skew': 0.04712726417678043, 'time_kurt': 0.265533074037273, 'freq_mean': 0.002084260675066198, 'freq_var': 0.003966259997916598, 'freq_skew': 0.2543845401319119, 'freq_kurt': 3.9911930538946105}\n"
     ]
    },
    {
     "name": "stderr",
     "output_type": "stream",
     "text": [
      "100%|██████████| 60/60 [00:04<00:00, 13.37it/s]\n"
     ]
    },
    {
     "name": "stdout",
     "output_type": "stream",
     "text": [
      "{'method': 'gillespies', 'g_steps': 2, 'tau_steps': 0, 'use_corrector': True, 'corrector': 'mpf', 'c_stepsize': 0.1, 'c_steps': 1, 'nfe': 57.0, 'time_mean': 0.0020984421022020327, 'time_var': 0.0005324325612304536, 'time_skew': 0.09986439148646227, 'time_kurt': 0.3664882312908246, 'freq_mean': 0.0020984413694921903, 'freq_var': 0.0034729904643076392, 'freq_skew': 0.5012709071236289, 'freq_kurt': 2.6744022650057326}\n"
     ]
    },
    {
     "name": "stderr",
     "output_type": "stream",
     "text": [
      "100%|██████████| 60/60 [00:04<00:00, 13.39it/s]\n"
     ]
    },
    {
     "name": "stdout",
     "output_type": "stream",
     "text": [
      "{'method': 'gillespies', 'g_steps': 2, 'tau_steps': 0, 'use_corrector': True, 'corrector': 'mpf', 'c_stepsize': 0.1, 'c_steps': 1, 'nfe': 57.0, 'time_mean': 0.0018007638284230432, 'time_var': 0.0004482751305128707, 'time_skew': 0.06322665662731647, 'time_kurt': 0.36956316158586117, 'freq_mean': 0.001800763168145949, 'freq_var': 0.0024394355287113674, 'freq_skew': 0.28366264445930395, 'freq_kurt': 2.8904853543134204}\n"
     ]
    },
    {
     "name": "stderr",
     "output_type": "stream",
     "text": [
      "100%|██████████| 60/60 [00:04<00:00, 13.39it/s]\n"
     ]
    },
    {
     "name": "stdout",
     "output_type": "stream",
     "text": [
      "{'method': 'gillespies', 'g_steps': 2, 'tau_steps': 0, 'use_corrector': True, 'corrector': 'mpf', 'c_stepsize': 0.1, 'c_steps': 1, 'nfe': 57.0, 'time_mean': 0.0009046887972202627, 'time_var': 0.00027157255990395846, 'time_skew': 0.025205852420849648, 'time_kurt': 0.22262273315609404, 'freq_mean': 0.0009046883958855581, 'freq_var': 0.0016673930695379957, 'freq_skew': 0.2590954834836169, 'freq_kurt': 1.7389599192286904}\n"
     ]
    },
    {
     "name": "stderr",
     "output_type": "stream",
     "text": [
      "100%|██████████| 60/60 [00:04<00:00, 13.39it/s]\n"
     ]
    },
    {
     "name": "stdout",
     "output_type": "stream",
     "text": [
      "{'method': 'gillespies', 'g_steps': 2, 'tau_steps': 0, 'use_corrector': True, 'corrector': 'mpf', 'c_stepsize': 0.1, 'c_steps': 1, 'nfe': 57.0, 'time_mean': 0.0028389268373979603, 'time_var': 0.00026213483425525664, 'time_skew': 0.06641056484998978, 'time_kurt': 0.3777383857943883, 'freq_mean': 0.002838926044417067, 'freq_var': 0.001867073591188003, 'freq_skew': 0.2229638921183339, 'freq_kurt': 1.945031439770412}\n"
     ]
    },
    {
     "name": "stderr",
     "output_type": "stream",
     "text": [
      "100%|██████████| 60/60 [00:04<00:00, 13.39it/s]\n"
     ]
    },
    {
     "name": "stdout",
     "output_type": "stream",
     "text": [
      "{'method': 'gillespies', 'g_steps': 2, 'tau_steps': 0, 'use_corrector': True, 'corrector': 'mpf', 'c_stepsize': 0.1, 'c_steps': 1, 'nfe': 57.0, 'time_mean': 0.002311024769009359, 'time_var': 0.00034887456856768186, 'time_skew': 0.0445444701995017, 'time_kurt': 0.262602821429023, 'freq_mean': 0.0023110240727454412, 'freq_var': 0.0020956073775299923, 'freq_skew': 0.1430040218048333, 'freq_kurt': 1.609076214253744}\n"
     ]
    },
    {
     "name": "stderr",
     "output_type": "stream",
     "text": [
      "100%|██████████| 60/60 [00:04<00:00, 13.36it/s]\n"
     ]
    },
    {
     "name": "stdout",
     "output_type": "stream",
     "text": [
      "{'method': 'gillespies', 'g_steps': 2, 'tau_steps': 0, 'use_corrector': True, 'corrector': 'mpf', 'c_stepsize': 0.1, 'c_steps': 1, 'nfe': 57.0, 'time_mean': 0.0014584108917165112, 'time_var': 0.00021447437802555455, 'time_skew': 0.039630105981839234, 'time_kurt': 0.311494032108197, 'freq_mean': 0.0014584106555816628, 'freq_var': 0.001038125237175469, 'freq_skew': 0.19368833059962487, 'freq_kurt': 2.6998710175260867}\n"
     ]
    },
    {
     "name": "stderr",
     "output_type": "stream",
     "text": [
      "100%|██████████| 60/60 [00:04<00:00, 13.17it/s]\n"
     ]
    },
    {
     "name": "stdout",
     "output_type": "stream",
     "text": [
      "{'method': 'gillespies', 'g_steps': 2, 'tau_steps': 0, 'use_corrector': True, 'corrector': 'mpf', 'c_stepsize': 0.1, 'c_steps': 1, 'nfe': 57.0, 'time_mean': 0.0013487674391142663, 'time_var': 0.00022657071934975088, 'time_skew': 0.045598386315039915, 'time_kurt': 0.3611486451346256, 'freq_mean': 0.0013487665578670207, 'freq_var': 0.0014104838978098867, 'freq_skew': 0.23343883378862673, 'freq_kurt': 2.6106182230343618}\n"
     ]
    },
    {
     "name": "stderr",
     "output_type": "stream",
     "text": [
      "100%|██████████| 60/60 [00:04<00:00, 13.39it/s]\n"
     ]
    },
    {
     "name": "stdout",
     "output_type": "stream",
     "text": [
      "{'method': 'gillespies', 'g_steps': 2, 'tau_steps': 0, 'use_corrector': True, 'corrector': 'mpf', 'c_stepsize': 0.1, 'c_steps': 1, 'nfe': 57.0, 'time_mean': 0.0017650201050226446, 'time_var': 0.0004053465796047335, 'time_skew': 0.0495560116753047, 'time_kurt': 0.4353418701840914, 'freq_mean': 0.0017650196404905714, 'freq_var': 0.002033528602801748, 'freq_skew': 0.17718881337156708, 'freq_kurt': 2.8274009406097482}\n"
     ]
    },
    {
     "name": "stderr",
     "output_type": "stream",
     "text": [
      "100%|██████████| 60/60 [00:04<00:00, 13.39it/s]\n"
     ]
    },
    {
     "name": "stdout",
     "output_type": "stream",
     "text": [
      "{'method': 'gillespies', 'g_steps': 2, 'tau_steps': 0, 'use_corrector': True, 'corrector': 'mpf', 'c_stepsize': 0.1, 'c_steps': 1, 'nfe': 57.0, 'time_mean': 0.002550039417155615, 'time_var': 0.00037224215505459086, 'time_skew': 0.06517828186547488, 'time_kurt': 0.41750651932303623, 'freq_mean': 0.002550038334583815, 'freq_var': 0.002425540697226815, 'freq_skew': 0.3701497034791637, 'freq_kurt': 2.987774006677331}\n",
      "Experiment results saved to  gene_results.csv\n"
     ]
    },
    {
     "name": "stderr",
     "output_type": "stream",
     "text": [
      "100%|██████████| 60/60 [00:04<00:00, 13.39it/s]\n"
     ]
    },
    {
     "name": "stdout",
     "output_type": "stream",
     "text": [
      "{'method': 'gillespies', 'g_steps': 1, 'tau_steps': 0, 'use_corrector': True, 'corrector': 'mpf', 'c_stepsize': 0.1, 'c_steps': 1, 'nfe': 114.0, 'time_mean': 0.0014021922056715731, 'time_var': 0.00011499502272630927, 'time_skew': 0.05339787120745257, 'time_kurt': 0.4520118528534442, 'freq_mean': 0.0014021919458450046, 'freq_var': 0.001161787418674545, 'freq_skew': 0.2162513545179852, 'freq_kurt': 1.7529960388541812}\n"
     ]
    },
    {
     "name": "stderr",
     "output_type": "stream",
     "text": [
      "100%|██████████| 60/60 [00:04<00:00, 13.39it/s]\n"
     ]
    },
    {
     "name": "stdout",
     "output_type": "stream",
     "text": [
      "{'method': 'gillespies', 'g_steps': 1, 'tau_steps': 0, 'use_corrector': True, 'corrector': 'mpf', 'c_stepsize': 0.1, 'c_steps': 1, 'nfe': 114.0, 'time_mean': 0.0011944484128869582, 'time_var': 0.00020212470045710313, 'time_skew': 0.03526362388938164, 'time_kurt': 0.12473421413322489, 'freq_mean': 0.0011944480291277034, 'freq_var': 0.000705272604322497, 'freq_skew': 0.16612801656589754, 'freq_kurt': 2.5817293927373157}\n"
     ]
    },
    {
     "name": "stderr",
     "output_type": "stream",
     "text": [
      "100%|██████████| 60/60 [00:04<00:00, 13.36it/s]\n"
     ]
    },
    {
     "name": "stdout",
     "output_type": "stream",
     "text": [
      "{'method': 'gillespies', 'g_steps': 1, 'tau_steps': 0, 'use_corrector': True, 'corrector': 'mpf', 'c_stepsize': 0.1, 'c_steps': 1, 'nfe': 114.0, 'time_mean': 0.0025253960061555653, 'time_var': 0.000255638392594936, 'time_skew': 0.05957828299870726, 'time_kurt': 0.3538455484237948, 'freq_mean': 0.002525395057907457, 'freq_var': 0.001696957718951114, 'freq_skew': 0.2542058601904971, 'freq_kurt': 1.8277833327062747}\n"
     ]
    },
    {
     "name": "stderr",
     "output_type": "stream",
     "text": [
      "100%|██████████| 60/60 [00:04<00:00, 13.40it/s]\n"
     ]
    },
    {
     "name": "stdout",
     "output_type": "stream",
     "text": [
      "{'method': 'gillespies', 'g_steps': 1, 'tau_steps': 0, 'use_corrector': True, 'corrector': 'mpf', 'c_stepsize': 0.1, 'c_steps': 1, 'nfe': 114.0, 'time_mean': 0.0021075201239477916, 'time_var': 0.00037971861652386226, 'time_skew': 0.06803716385971545, 'time_kurt': 0.345198000885367, 'freq_mean': 0.00210751961425146, 'freq_var': 0.001058219840125194, 'freq_skew': 0.18741668465124248, 'freq_kurt': 2.6323370033602616}\n"
     ]
    },
    {
     "name": "stderr",
     "output_type": "stream",
     "text": [
      "100%|██████████| 60/60 [00:04<00:00, 13.40it/s]\n"
     ]
    },
    {
     "name": "stdout",
     "output_type": "stream",
     "text": [
      "{'method': 'gillespies', 'g_steps': 1, 'tau_steps': 0, 'use_corrector': True, 'corrector': 'mpf', 'c_stepsize': 0.1, 'c_steps': 1, 'nfe': 114.0, 'time_mean': 0.002188143718753618, 'time_var': 0.000259648086507661, 'time_skew': 0.03718987076789385, 'time_kurt': 0.13106357595887996, 'freq_mean': 0.002188143737301752, 'freq_var': 0.0016823761152399295, 'freq_skew': 0.25098401446814445, 'freq_kurt': 2.210223661089131}\n"
     ]
    },
    {
     "name": "stderr",
     "output_type": "stream",
     "text": [
      "100%|██████████| 60/60 [00:04<00:00, 13.39it/s]\n"
     ]
    },
    {
     "name": "stdout",
     "output_type": "stream",
     "text": [
      "{'method': 'gillespies', 'g_steps': 1, 'tau_steps': 0, 'use_corrector': True, 'corrector': 'mpf', 'c_stepsize': 0.1, 'c_steps': 1, 'nfe': 114.0, 'time_mean': 0.001440868155796406, 'time_var': 0.00011790652623796167, 'time_skew': 0.06355459787892576, 'time_kurt': 0.42108357723982626, 'freq_mean': 0.001440867408458405, 'freq_var': 0.0014172320520489628, 'freq_skew': 0.18289535059562465, 'freq_kurt': 2.0406396277449015}\n"
     ]
    },
    {
     "name": "stderr",
     "output_type": "stream",
     "text": [
      "100%|██████████| 60/60 [00:04<00:00, 13.39it/s]\n"
     ]
    },
    {
     "name": "stdout",
     "output_type": "stream",
     "text": [
      "{'method': 'gillespies', 'g_steps': 1, 'tau_steps': 0, 'use_corrector': True, 'corrector': 'mpf', 'c_stepsize': 0.1, 'c_steps': 1, 'nfe': 114.0, 'time_mean': 0.0016934659945540282, 'time_var': 0.0002909290866942203, 'time_skew': 0.03934725195805976, 'time_kurt': 0.2118802202355022, 'freq_mean': 0.001693466286228115, 'freq_var': 0.0010544735567754098, 'freq_skew': 0.24266559565269397, 'freq_kurt': 4.1083349235310545}\n"
     ]
    },
    {
     "name": "stderr",
     "output_type": "stream",
     "text": [
      "100%|██████████| 60/60 [00:04<00:00, 13.40it/s]\n"
     ]
    },
    {
     "name": "stdout",
     "output_type": "stream",
     "text": [
      "{'method': 'gillespies', 'g_steps': 1, 'tau_steps': 0, 'use_corrector': True, 'corrector': 'mpf', 'c_stepsize': 0.1, 'c_steps': 1, 'nfe': 114.0, 'time_mean': 0.0009792637187837083, 'time_var': 0.0003765607828316063, 'time_skew': 0.023492416533068182, 'time_kurt': 0.20318375315813855, 'freq_mean': 0.000979262693850264, 'freq_var': 0.0016980726078240805, 'freq_skew': 0.22361494841530244, 'freq_kurt': 1.7144852281404723}\n"
     ]
    },
    {
     "name": "stderr",
     "output_type": "stream",
     "text": [
      "100%|██████████| 60/60 [00:04<00:00, 13.40it/s]\n"
     ]
    },
    {
     "name": "stdout",
     "output_type": "stream",
     "text": [
      "{'method': 'gillespies', 'g_steps': 1, 'tau_steps': 0, 'use_corrector': True, 'corrector': 'mpf', 'c_stepsize': 0.1, 'c_steps': 1, 'nfe': 114.0, 'time_mean': 0.0019507447485242557, 'time_var': 0.0003931703543788318, 'time_skew': 0.03869894151609159, 'time_kurt': 0.1895890076809636, 'freq_mean': 0.0019507440581718525, 'freq_var': 0.002348957332519213, 'freq_skew': 0.33572658866726635, 'freq_kurt': 2.2104357751437056}\n"
     ]
    },
    {
     "name": "stderr",
     "output_type": "stream",
     "text": [
      "100%|██████████| 60/60 [00:04<00:00, 13.37it/s]\n"
     ]
    },
    {
     "name": "stdout",
     "output_type": "stream",
     "text": [
      "{'method': 'gillespies', 'g_steps': 1, 'tau_steps': 0, 'use_corrector': True, 'corrector': 'mpf', 'c_stepsize': 0.1, 'c_steps': 1, 'nfe': 114.0, 'time_mean': 0.0007612412241921298, 'time_var': 0.0002193985355077659, 'time_skew': 0.023794461348815653, 'time_kurt': 0.21858446363213577, 'freq_mean': 0.0007612410827728867, 'freq_var': 0.0018359596268176228, 'freq_skew': 0.19673175266287662, 'freq_kurt': 2.3597767151469893}\n"
     ]
    },
    {
     "name": "stderr",
     "output_type": "stream",
     "text": [
      "100%|██████████| 60/60 [00:04<00:00, 13.39it/s]\n"
     ]
    },
    {
     "name": "stdout",
     "output_type": "stream",
     "text": [
      "{'method': 'gillespies', 'g_steps': 1, 'tau_steps': 0, 'use_corrector': True, 'corrector': 'mpf', 'c_stepsize': 0.1, 'c_steps': 1, 'nfe': 114.0, 'time_mean': 0.0010408182790796272, 'time_var': 0.0002786271415199576, 'time_skew': 0.04756278162607171, 'time_kurt': 0.4579016735927197, 'freq_mean': 0.0010408180988699905, 'freq_var': 0.002082013399081688, 'freq_skew': 0.2603389662404759, 'freq_kurt': 1.8875479606421532}\n"
     ]
    },
    {
     "name": "stderr",
     "output_type": "stream",
     "text": [
      "100%|██████████| 60/60 [00:04<00:00, 13.40it/s]\n"
     ]
    },
    {
     "name": "stdout",
     "output_type": "stream",
     "text": [
      "{'method': 'gillespies', 'g_steps': 1, 'tau_steps': 0, 'use_corrector': True, 'corrector': 'mpf', 'c_stepsize': 0.1, 'c_steps': 1, 'nfe': 114.0, 'time_mean': 0.0016790584947606242, 'time_var': 0.0002444879166602339, 'time_skew': 0.07773472909604275, 'time_kurt': 0.2942111007437201, 'freq_mean': 0.0016790575096425197, 'freq_var': 0.0025420998169148872, 'freq_skew': 0.4371987984737544, 'freq_kurt': 4.858794800094712}\n"
     ]
    },
    {
     "name": "stderr",
     "output_type": "stream",
     "text": [
      "100%|██████████| 60/60 [00:04<00:00, 13.39it/s]\n"
     ]
    },
    {
     "name": "stdout",
     "output_type": "stream",
     "text": [
      "{'method': 'gillespies', 'g_steps': 1, 'tau_steps': 0, 'use_corrector': True, 'corrector': 'mpf', 'c_stepsize': 0.1, 'c_steps': 1, 'nfe': 114.0, 'time_mean': 0.0018510567366581746, 'time_var': 0.00022300832327172757, 'time_skew': 0.037527362646573297, 'time_kurt': 0.26351950546802383, 'freq_mean': 0.001851055815435619, 'freq_var': 0.001736141043745946, 'freq_skew': 0.15938474018509113, 'freq_kurt': 1.9162119835449625}\n"
     ]
    },
    {
     "name": "stderr",
     "output_type": "stream",
     "text": [
      "100%|██████████| 60/60 [00:04<00:00, 13.39it/s]\n"
     ]
    },
    {
     "name": "stdout",
     "output_type": "stream",
     "text": [
      "{'method': 'gillespies', 'g_steps': 1, 'tau_steps': 0, 'use_corrector': True, 'corrector': 'mpf', 'c_stepsize': 0.1, 'c_steps': 1, 'nfe': 114.0, 'time_mean': 0.0019575175176714554, 'time_var': 0.00036474478228757, 'time_skew': 0.054985423653578794, 'time_kurt': 0.20969470941224796, 'freq_mean': 0.0019575168393770282, 'freq_var': 0.0020909424065347344, 'freq_skew': 0.2869904089025917, 'freq_kurt': 3.2881777449827543}\n"
     ]
    },
    {
     "name": "stderr",
     "output_type": "stream",
     "text": [
      "100%|██████████| 60/60 [00:04<00:00, 13.39it/s]\n"
     ]
    },
    {
     "name": "stdout",
     "output_type": "stream",
     "text": [
      "{'method': 'gillespies', 'g_steps': 1, 'tau_steps': 0, 'use_corrector': True, 'corrector': 'mpf', 'c_stepsize': 0.1, 'c_steps': 1, 'nfe': 114.0, 'time_mean': 0.0016395984858476034, 'time_var': 0.00020693305543498122, 'time_skew': 0.06620961618275198, 'time_kurt': 0.4241774356462439, 'freq_mean': 0.0016395971373236403, 'freq_var': 0.0012892777488597927, 'freq_skew': 0.2363513562617262, 'freq_kurt': 2.0810688426666104}\n"
     ]
    },
    {
     "name": "stderr",
     "output_type": "stream",
     "text": [
      "100%|██████████| 60/60 [00:04<00:00, 13.39it/s]\n"
     ]
    },
    {
     "name": "stdout",
     "output_type": "stream",
     "text": [
      "{'method': 'gillespies', 'g_steps': 1, 'tau_steps': 0, 'use_corrector': True, 'corrector': 'mpf', 'c_stepsize': 0.1, 'c_steps': 1, 'nfe': 114.0, 'time_mean': 0.0023021492997941993, 'time_var': 0.0004907760060776184, 'time_skew': 0.06507269052930184, 'time_kurt': 0.40706904144025735, 'freq_mean': 0.0023021490573975206, 'freq_var': 0.0020979382523441253, 'freq_skew': 0.2605320891278361, 'freq_kurt': 3.527061224851518}\n"
     ]
    },
    {
     "name": "stderr",
     "output_type": "stream",
     "text": [
      "100%|██████████| 60/60 [00:04<00:00, 13.36it/s]\n"
     ]
    },
    {
     "name": "stdout",
     "output_type": "stream",
     "text": [
      "{'method': 'gillespies', 'g_steps': 1, 'tau_steps': 0, 'use_corrector': True, 'corrector': 'mpf', 'c_stepsize': 0.1, 'c_steps': 1, 'nfe': 114.0, 'time_mean': 0.00189118707072663, 'time_var': 0.00021519878094569103, 'time_skew': 0.05966947169182362, 'time_kurt': 0.24003824731230977, 'freq_mean': 0.0018911855950131727, 'freq_var': 0.0017145937074433402, 'freq_skew': 0.28740161477908477, 'freq_kurt': 2.3904930324190796}\n"
     ]
    },
    {
     "name": "stderr",
     "output_type": "stream",
     "text": [
      "100%|██████████| 60/60 [00:04<00:00, 13.39it/s]\n"
     ]
    },
    {
     "name": "stdout",
     "output_type": "stream",
     "text": [
      "{'method': 'gillespies', 'g_steps': 1, 'tau_steps': 0, 'use_corrector': True, 'corrector': 'mpf', 'c_stepsize': 0.1, 'c_steps': 1, 'nfe': 114.0, 'time_mean': 0.0018415514759418637, 'time_var': 0.00031149790354404144, 'time_skew': 0.06488954837943237, 'time_kurt': 0.44802204956560987, 'freq_mean': 0.001841550177901496, 'freq_var': 0.002525909034695003, 'freq_skew': 0.40510483663541064, 'freq_kurt': 3.4678249603956854}\n"
     ]
    },
    {
     "name": "stderr",
     "output_type": "stream",
     "text": [
      "100%|██████████| 60/60 [00:04<00:00, 13.39it/s]\n"
     ]
    },
    {
     "name": "stdout",
     "output_type": "stream",
     "text": [
      "{'method': 'gillespies', 'g_steps': 1, 'tau_steps': 0, 'use_corrector': True, 'corrector': 'mpf', 'c_stepsize': 0.1, 'c_steps': 1, 'nfe': 114.0, 'time_mean': 0.0013315533188008935, 'time_var': 0.0001964990893795852, 'time_skew': 0.03035728491231417, 'time_kurt': 0.11035764057766127, 'freq_mean': 0.0013315525322682871, 'freq_var': 0.0015921959557975924, 'freq_skew': 0.35498307584120303, 'freq_kurt': 3.364058603153586}\n"
     ]
    },
    {
     "name": "stderr",
     "output_type": "stream",
     "text": [
      "100%|██████████| 60/60 [00:04<00:00, 13.39it/s]\n"
     ]
    },
    {
     "name": "stdout",
     "output_type": "stream",
     "text": [
      "{'method': 'gillespies', 'g_steps': 1, 'tau_steps': 0, 'use_corrector': True, 'corrector': 'mpf', 'c_stepsize': 0.1, 'c_steps': 1, 'nfe': 114.0, 'time_mean': 0.0014222565533826132, 'time_var': 9.830064037228855e-05, 'time_skew': 0.05052527040936938, 'time_kurt': 0.2587910134893034, 'freq_mean': 0.0014222558826373058, 'freq_var': 0.0010096535846172926, 'freq_skew': 0.21743525203879135, 'freq_kurt': 2.779217351481772}\n",
      "Experiment results saved to  gene_results.csv\n"
     ]
    },
    {
     "name": "stderr",
     "output_type": "stream",
     "text": [
      "100%|██████████| 60/60 [00:04<00:00, 13.39it/s]\n"
     ]
    },
    {
     "name": "stdout",
     "output_type": "stream",
     "text": [
      "{'method': 'gillespies', 'g_steps': 3, 'tau_steps': 0, 'use_corrector': True, 'corrector': 'barker', 'c_stepsize': 0.1, 'c_steps': 1, 'nfe': 38.0, 'time_mean': 0.0007785719838420551, 'time_var': 0.00015704499591280953, 'time_skew': 0.01840159110533873, 'time_kurt': 0.12528856386142206, 'freq_mean': 0.0007785715885019348, 'freq_var': 0.0018665188236335613, 'freq_skew': 0.39678003235204734, 'freq_kurt': 4.759674711684777}\n"
     ]
    },
    {
     "name": "stderr",
     "output_type": "stream",
     "text": [
      "100%|██████████| 60/60 [00:04<00:00, 13.39it/s]\n"
     ]
    },
    {
     "name": "stdout",
     "output_type": "stream",
     "text": [
      "{'method': 'gillespies', 'g_steps': 3, 'tau_steps': 0, 'use_corrector': True, 'corrector': 'barker', 'c_stepsize': 0.1, 'c_steps': 1, 'nfe': 38.0, 'time_mean': 0.0010151239200926697, 'time_var': 0.00020061592949939365, 'time_skew': 0.028816930040729775, 'time_kurt': 0.22407690705988784, 'freq_mean': 0.0010151232494605728, 'freq_var': 0.002917110787607066, 'freq_skew': 0.43324367957263604, 'freq_kurt': 4.18983629973773}\n"
     ]
    },
    {
     "name": "stderr",
     "output_type": "stream",
     "text": [
      "100%|██████████| 60/60 [00:04<00:00, 13.25it/s]\n"
     ]
    },
    {
     "name": "stdout",
     "output_type": "stream",
     "text": [
      "{'method': 'gillespies', 'g_steps': 3, 'tau_steps': 0, 'use_corrector': True, 'corrector': 'barker', 'c_stepsize': 0.1, 'c_steps': 1, 'nfe': 38.0, 'time_mean': 0.0009879700388787363, 'time_var': 0.0002868655465916047, 'time_skew': 0.02516518783727043, 'time_kurt': 0.1998320566483018, 'freq_mean': 0.0009879693417429024, 'freq_var': 0.0022548984329511575, 'freq_skew': 0.4403150762548311, 'freq_kurt': 4.171446626715952}\n"
     ]
    },
    {
     "name": "stderr",
     "output_type": "stream",
     "text": [
      "100%|██████████| 60/60 [00:04<00:00, 13.15it/s]\n"
     ]
    },
    {
     "name": "stdout",
     "output_type": "stream",
     "text": [
      "{'method': 'gillespies', 'g_steps': 3, 'tau_steps': 0, 'use_corrector': True, 'corrector': 'barker', 'c_stepsize': 0.1, 'c_steps': 1, 'nfe': 38.0, 'time_mean': 0.00208039813846783, 'time_var': 0.00017318349748095862, 'time_skew': 0.04741195107837115, 'time_kurt': 0.285895634658585, 'freq_mean': 0.0020803970004133494, 'freq_var': 0.002669185340847045, 'freq_skew': 0.5507312930009515, 'freq_kurt': 5.498146941544552}\n"
     ]
    },
    {
     "name": "stderr",
     "output_type": "stream",
     "text": [
      "100%|██████████| 60/60 [00:04<00:00, 13.39it/s]\n"
     ]
    },
    {
     "name": "stdout",
     "output_type": "stream",
     "text": [
      "{'method': 'gillespies', 'g_steps': 3, 'tau_steps': 0, 'use_corrector': True, 'corrector': 'barker', 'c_stepsize': 0.1, 'c_steps': 1, 'nfe': 38.0, 'time_mean': 0.0009863223037998856, 'time_var': 0.00036187129487348435, 'time_skew': 0.027282445167628223, 'time_kurt': 0.18561165401110652, 'freq_mean': 0.0009863217415094921, 'freq_var': 0.003482557638836457, 'freq_skew': 0.4890783865726658, 'freq_kurt': 4.5074949764283}\n"
     ]
    },
    {
     "name": "stderr",
     "output_type": "stream",
     "text": [
      "100%|██████████| 60/60 [00:04<00:00, 13.39it/s]\n"
     ]
    },
    {
     "name": "stdout",
     "output_type": "stream",
     "text": [
      "{'method': 'gillespies', 'g_steps': 3, 'tau_steps': 0, 'use_corrector': True, 'corrector': 'barker', 'c_stepsize': 0.1, 'c_steps': 1, 'nfe': 38.0, 'time_mean': 0.0009437600418487033, 'time_var': 0.00016992241071242404, 'time_skew': 0.02272141011859397, 'time_kurt': 0.27444999884539656, 'freq_mean': 0.0009437600542356589, 'freq_var': 0.0019433046453249643, 'freq_skew': 0.5114247572766011, 'freq_kurt': 5.061206783552663}\n"
     ]
    },
    {
     "name": "stderr",
     "output_type": "stream",
     "text": [
      "100%|██████████| 60/60 [00:04<00:00, 13.39it/s]\n"
     ]
    },
    {
     "name": "stdout",
     "output_type": "stream",
     "text": [
      "{'method': 'gillespies', 'g_steps': 3, 'tau_steps': 0, 'use_corrector': True, 'corrector': 'barker', 'c_stepsize': 0.1, 'c_steps': 1, 'nfe': 38.0, 'time_mean': 0.0010036282065853204, 'time_var': 0.00011951300304559887, 'time_skew': 0.02072928120426202, 'time_kurt': 0.09910083890913461, 'freq_mean': 0.001003628094088893, 'freq_var': 0.0017925392910401084, 'freq_skew': 0.4327204018124094, 'freq_kurt': 4.753835778061959}\n"
     ]
    },
    {
     "name": "stderr",
     "output_type": "stream",
     "text": [
      "100%|██████████| 60/60 [00:04<00:00, 13.39it/s]\n"
     ]
    },
    {
     "name": "stdout",
     "output_type": "stream",
     "text": [
      "{'method': 'gillespies', 'g_steps': 3, 'tau_steps': 0, 'use_corrector': True, 'corrector': 'barker', 'c_stepsize': 0.1, 'c_steps': 1, 'nfe': 38.0, 'time_mean': 0.000766496082913333, 'time_var': 0.00011333566448893168, 'time_skew': 0.030278110585491746, 'time_kurt': 0.2668825337271109, 'freq_mean': 0.0007664950499229968, 'freq_var': 0.003079459861234571, 'freq_skew': 0.42286438353433486, 'freq_kurt': 4.963309717282676}\n"
     ]
    },
    {
     "name": "stderr",
     "output_type": "stream",
     "text": [
      "100%|██████████| 60/60 [00:04<00:00, 13.29it/s]\n"
     ]
    },
    {
     "name": "stdout",
     "output_type": "stream",
     "text": [
      "{'method': 'gillespies', 'g_steps': 3, 'tau_steps': 0, 'use_corrector': True, 'corrector': 'barker', 'c_stepsize': 0.1, 'c_steps': 1, 'nfe': 38.0, 'time_mean': 0.0021722400068925826, 'time_var': 0.0005685219002830034, 'time_skew': 0.057817679063058326, 'time_kurt': 0.43262820296722015, 'freq_mean': 0.0021722386423303065, 'freq_var': 0.004499390313729302, 'freq_skew': 0.485521646047543, 'freq_kurt': 4.393039214871965}\n"
     ]
    },
    {
     "name": "stderr",
     "output_type": "stream",
     "text": [
      "100%|██████████| 60/60 [00:04<00:00, 13.20it/s]\n"
     ]
    },
    {
     "name": "stdout",
     "output_type": "stream",
     "text": [
      "{'method': 'gillespies', 'g_steps': 3, 'tau_steps': 0, 'use_corrector': True, 'corrector': 'barker', 'c_stepsize': 0.1, 'c_steps': 1, 'nfe': 38.0, 'time_mean': 0.0016227961744256884, 'time_var': 0.0005010784573776417, 'time_skew': 0.05959935863577334, 'time_kurt': 0.8076816385948751, 'freq_mean': 0.001622796216173059, 'freq_var': 0.003834334578212193, 'freq_skew': 0.6201924612348823, 'freq_kurt': 5.309154560118893}\n"
     ]
    },
    {
     "name": "stderr",
     "output_type": "stream",
     "text": [
      "100%|██████████| 60/60 [00:04<00:00, 13.39it/s]\n"
     ]
    },
    {
     "name": "stdout",
     "output_type": "stream",
     "text": [
      "{'method': 'gillespies', 'g_steps': 3, 'tau_steps': 0, 'use_corrector': True, 'corrector': 'barker', 'c_stepsize': 0.1, 'c_steps': 1, 'nfe': 38.0, 'time_mean': 0.0010298145371664077, 'time_var': 8.918449644509114e-05, 'time_skew': 0.024456469222181733, 'time_kurt': 0.195195763708243, 'freq_mean': 0.0010298141942066638, 'freq_var': 0.0023112320831659436, 'freq_skew': 0.42311494341239714, 'freq_kurt': 5.233476395085407}\n"
     ]
    },
    {
     "name": "stderr",
     "output_type": "stream",
     "text": [
      "100%|██████████| 60/60 [00:04<00:00, 13.39it/s]\n"
     ]
    },
    {
     "name": "stdout",
     "output_type": "stream",
     "text": [
      "{'method': 'gillespies', 'g_steps': 3, 'tau_steps': 0, 'use_corrector': True, 'corrector': 'barker', 'c_stepsize': 0.1, 'c_steps': 1, 'nfe': 38.0, 'time_mean': 0.0008121605339406481, 'time_var': 0.00022706522838814844, 'time_skew': 0.022404099238802763, 'time_kurt': 0.11178971069298951, 'freq_mean': 0.0008121600121974147, 'freq_var': 0.0030136789955088673, 'freq_skew': 0.48926378094915446, 'freq_kurt': 5.034261095526613}\n"
     ]
    },
    {
     "name": "stderr",
     "output_type": "stream",
     "text": [
      "100%|██████████| 60/60 [00:04<00:00, 13.39it/s]\n"
     ]
    },
    {
     "name": "stdout",
     "output_type": "stream",
     "text": [
      "{'method': 'gillespies', 'g_steps': 3, 'tau_steps': 0, 'use_corrector': True, 'corrector': 'barker', 'c_stepsize': 0.1, 'c_steps': 1, 'nfe': 38.0, 'time_mean': 0.0010836355424287659, 'time_var': 0.0001306776002546977, 'time_skew': 0.02735306057965734, 'time_kurt': 0.13627247305989107, 'freq_mean': 0.0010836342385487066, 'freq_var': 0.0019989260121776277, 'freq_skew': 0.43554819670121, 'freq_kurt': 4.263085772656968}\n"
     ]
    },
    {
     "name": "stderr",
     "output_type": "stream",
     "text": [
      "100%|██████████| 60/60 [00:04<00:00, 13.39it/s]\n"
     ]
    },
    {
     "name": "stdout",
     "output_type": "stream",
     "text": [
      "{'method': 'gillespies', 'g_steps': 3, 'tau_steps': 0, 'use_corrector': True, 'corrector': 'barker', 'c_stepsize': 0.1, 'c_steps': 1, 'nfe': 38.0, 'time_mean': 0.00042157292936214, 'time_var': 3.1596640322712896e-05, 'time_skew': 0.018905652530374108, 'time_kurt': 0.11389259389345806, 'freq_mean': 0.0004215722733866159, 'freq_var': 0.002114748065669908, 'freq_skew': 0.44873786145888933, 'freq_kurt': 4.952691982283273}\n"
     ]
    },
    {
     "name": "stderr",
     "output_type": "stream",
     "text": [
      "100%|██████████| 60/60 [00:04<00:00, 13.39it/s]\n"
     ]
    },
    {
     "name": "stdout",
     "output_type": "stream",
     "text": [
      "{'method': 'gillespies', 'g_steps': 3, 'tau_steps': 0, 'use_corrector': True, 'corrector': 'barker', 'c_stepsize': 0.1, 'c_steps': 1, 'nfe': 38.0, 'time_mean': 0.0009036072144651811, 'time_var': 0.00017611960991943172, 'time_skew': 0.031322633947695334, 'time_kurt': 0.3234633878966992, 'freq_mean': 0.0009036062199503576, 'freq_var': 0.003073182970027638, 'freq_skew': 0.4695685517452262, 'freq_kurt': 4.612746712592214}\n"
     ]
    },
    {
     "name": "stderr",
     "output_type": "stream",
     "text": [
      "100%|██████████| 60/60 [00:04<00:00, 13.39it/s]\n"
     ]
    },
    {
     "name": "stdout",
     "output_type": "stream",
     "text": [
      "{'method': 'gillespies', 'g_steps': 3, 'tau_steps': 0, 'use_corrector': True, 'corrector': 'barker', 'c_stepsize': 0.1, 'c_steps': 1, 'nfe': 38.0, 'time_mean': 0.0014055371611224215, 'time_var': 0.00016881381382095092, 'time_skew': 0.05356111550178287, 'time_kurt': 0.11216940800296678, 'freq_mean': 0.001405535734619264, 'freq_var': 0.003268127610421501, 'freq_skew': 0.7477567446338895, 'freq_kurt': 14.49654480938123}\n"
     ]
    },
    {
     "name": "stderr",
     "output_type": "stream",
     "text": [
      "100%|██████████| 60/60 [00:04<00:00, 13.32it/s]\n"
     ]
    },
    {
     "name": "stdout",
     "output_type": "stream",
     "text": [
      "{'method': 'gillespies', 'g_steps': 3, 'tau_steps': 0, 'use_corrector': True, 'corrector': 'barker', 'c_stepsize': 0.1, 'c_steps': 1, 'nfe': 38.0, 'time_mean': 0.001231521574967522, 'time_var': 0.00011630910303430343, 'time_skew': 0.028043072249182573, 'time_kurt': 0.1813096937268858, 'freq_mean': 0.0012315205711778353, 'freq_var': 0.0018182226940595687, 'freq_skew': 0.2945211628203841, 'freq_kurt': 2.801576703725169}\n"
     ]
    },
    {
     "name": "stderr",
     "output_type": "stream",
     "text": [
      "100%|██████████| 60/60 [00:04<00:00, 13.39it/s]\n"
     ]
    },
    {
     "name": "stdout",
     "output_type": "stream",
     "text": [
      "{'method': 'gillespies', 'g_steps': 3, 'tau_steps': 0, 'use_corrector': True, 'corrector': 'barker', 'c_stepsize': 0.1, 'c_steps': 1, 'nfe': 38.0, 'time_mean': 0.0014110675286878019, 'time_var': 0.000527990711793732, 'time_skew': 0.04406639581173258, 'time_kurt': 0.24202782368411593, 'freq_mean': 0.0014110673833781149, 'freq_var': 0.003666535629677804, 'freq_skew': 0.5844268321914206, 'freq_kurt': 6.709726342257502}\n"
     ]
    },
    {
     "name": "stderr",
     "output_type": "stream",
     "text": [
      "100%|██████████| 60/60 [00:04<00:00, 13.39it/s]\n"
     ]
    },
    {
     "name": "stdout",
     "output_type": "stream",
     "text": [
      "{'method': 'gillespies', 'g_steps': 3, 'tau_steps': 0, 'use_corrector': True, 'corrector': 'barker', 'c_stepsize': 0.1, 'c_steps': 1, 'nfe': 38.0, 'time_mean': 0.0014555162411637723, 'time_var': 0.0001563410093769181, 'time_skew': 0.028443231443526455, 'time_kurt': 0.25450514945000186, 'freq_mean': 0.0014555152735425555, 'freq_var': 0.0028365865246665635, 'freq_skew': 0.5698206022292293, 'freq_kurt': 5.525507738750165}\n"
     ]
    },
    {
     "name": "stderr",
     "output_type": "stream",
     "text": [
      "100%|██████████| 60/60 [00:04<00:00, 13.39it/s]\n"
     ]
    },
    {
     "name": "stdout",
     "output_type": "stream",
     "text": [
      "{'method': 'gillespies', 'g_steps': 3, 'tau_steps': 0, 'use_corrector': True, 'corrector': 'barker', 'c_stepsize': 0.1, 'c_steps': 1, 'nfe': 38.0, 'time_mean': 0.0009601275424136406, 'time_var': 0.00024597782642735687, 'time_skew': 0.015986786358671245, 'time_kurt': 0.07212094731603949, 'freq_mean': 0.0009601270619562605, 'freq_var': 0.0021358074223975184, 'freq_skew': 0.5905203946718153, 'freq_kurt': 5.9191677197490415}\n",
      "Experiment results saved to  gene_results.csv\n"
     ]
    },
    {
     "name": "stderr",
     "output_type": "stream",
     "text": [
      "100%|██████████| 60/60 [00:04<00:00, 13.39it/s]\n"
     ]
    },
    {
     "name": "stdout",
     "output_type": "stream",
     "text": [
      "{'method': 'gillespies', 'g_steps': 2, 'tau_steps': 0, 'use_corrector': True, 'corrector': 'barker', 'c_stepsize': 0.1, 'c_steps': 1, 'nfe': 57.0, 'time_mean': 0.001078306850200387, 'time_var': 0.0004845118859844062, 'time_skew': 0.03060992270890763, 'time_kurt': 0.3180156886891693, 'freq_mean': 0.001078306453456198, 'freq_var': 0.0024416902912031196, 'freq_skew': 0.5358166655340325, 'freq_kurt': 4.90393126526693}\n"
     ]
    },
    {
     "name": "stderr",
     "output_type": "stream",
     "text": [
      "100%|██████████| 60/60 [00:04<00:00, 13.39it/s]\n"
     ]
    },
    {
     "name": "stdout",
     "output_type": "stream",
     "text": [
      "{'method': 'gillespies', 'g_steps': 2, 'tau_steps': 0, 'use_corrector': True, 'corrector': 'barker', 'c_stepsize': 0.1, 'c_steps': 1, 'nfe': 57.0, 'time_mean': 0.001155311780785558, 'time_var': 0.00014998147421938746, 'time_skew': 0.022302785216013345, 'time_kurt': 0.14329702403076347, 'freq_mean': 0.0011553107798129639, 'freq_var': 0.0018839752344340362, 'freq_skew': 0.4495811480065113, 'freq_kurt': 5.3633320465958}\n"
     ]
    },
    {
     "name": "stderr",
     "output_type": "stream",
     "text": [
      "100%|██████████| 60/60 [00:04<00:00, 13.36it/s]\n"
     ]
    },
    {
     "name": "stdout",
     "output_type": "stream",
     "text": [
      "{'method': 'gillespies', 'g_steps': 2, 'tau_steps': 0, 'use_corrector': True, 'corrector': 'barker', 'c_stepsize': 0.1, 'c_steps': 1, 'nfe': 57.0, 'time_mean': 0.0012239701167971314, 'time_var': 0.0002626240729330525, 'time_skew': 0.021828300012437483, 'time_kurt': 0.1371879679867465, 'freq_mean': 0.0012239699344468824, 'freq_var': 0.0025473377930752598, 'freq_skew': 0.5218796494672848, 'freq_kurt': 4.113359655332208}\n"
     ]
    },
    {
     "name": "stderr",
     "output_type": "stream",
     "text": [
      "100%|██████████| 60/60 [00:04<00:00, 13.38it/s]\n"
     ]
    },
    {
     "name": "stdout",
     "output_type": "stream",
     "text": [
      "{'method': 'gillespies', 'g_steps': 2, 'tau_steps': 0, 'use_corrector': True, 'corrector': 'barker', 'c_stepsize': 0.1, 'c_steps': 1, 'nfe': 57.0, 'time_mean': 0.0015853262802186714, 'time_var': 0.0002482032854197477, 'time_skew': 0.03752498898958377, 'time_kurt': 0.23721884194430246, 'freq_mean': 0.0015853249737703028, 'freq_var': 0.003978665596141146, 'freq_skew': 0.5024923402095719, 'freq_kurt': 4.836569711825928}\n"
     ]
    },
    {
     "name": "stderr",
     "output_type": "stream",
     "text": [
      "100%|██████████| 60/60 [00:04<00:00, 13.38it/s]\n"
     ]
    },
    {
     "name": "stdout",
     "output_type": "stream",
     "text": [
      "{'method': 'gillespies', 'g_steps': 2, 'tau_steps': 0, 'use_corrector': True, 'corrector': 'barker', 'c_stepsize': 0.1, 'c_steps': 1, 'nfe': 57.0, 'time_mean': 0.001431563815055939, 'time_var': 0.00017684881573561814, 'time_skew': 0.03561463977177696, 'time_kurt': 0.20595890622209903, 'freq_mean': 0.0014315631390579074, 'freq_var': 0.0016163705091619138, 'freq_skew': 0.5037575444528963, 'freq_kurt': 4.687415433234332}\n"
     ]
    },
    {
     "name": "stderr",
     "output_type": "stream",
     "text": [
      "100%|██████████| 60/60 [00:04<00:00, 13.39it/s]\n"
     ]
    },
    {
     "name": "stdout",
     "output_type": "stream",
     "text": [
      "{'method': 'gillespies', 'g_steps': 2, 'tau_steps': 0, 'use_corrector': True, 'corrector': 'barker', 'c_stepsize': 0.1, 'c_steps': 1, 'nfe': 57.0, 'time_mean': 0.0018383761325744352, 'time_var': 0.0002966667377579397, 'time_skew': 0.045445956482856195, 'time_kurt': 0.23314254318307034, 'freq_mean': 0.0018383755109458858, 'freq_var': 0.003875363273387199, 'freq_skew': 0.63180670346997, 'freq_kurt': 4.818335541397758}\n"
     ]
    },
    {
     "name": "stderr",
     "output_type": "stream",
     "text": [
      "100%|██████████| 60/60 [00:04<00:00, 13.27it/s]\n"
     ]
    },
    {
     "name": "stdout",
     "output_type": "stream",
     "text": [
      "{'method': 'gillespies', 'g_steps': 2, 'tau_steps': 0, 'use_corrector': True, 'corrector': 'barker', 'c_stepsize': 0.1, 'c_steps': 1, 'nfe': 57.0, 'time_mean': 0.0009289414093339074, 'time_var': 0.00015271630957331848, 'time_skew': 0.025676645778493615, 'time_kurt': 0.10883908437101386, 'freq_mean': 0.000928941272268346, 'freq_var': 0.002696707567067809, 'freq_skew': 0.4507390424490946, 'freq_kurt': 3.8826358836313597}\n"
     ]
    },
    {
     "name": "stderr",
     "output_type": "stream",
     "text": [
      "100%|██████████| 60/60 [00:04<00:00, 13.38it/s]\n"
     ]
    },
    {
     "name": "stdout",
     "output_type": "stream",
     "text": [
      "{'method': 'gillespies', 'g_steps': 2, 'tau_steps': 0, 'use_corrector': True, 'corrector': 'barker', 'c_stepsize': 0.1, 'c_steps': 1, 'nfe': 57.0, 'time_mean': 0.0016182085097660964, 'time_var': 0.00040066524299475954, 'time_skew': 0.035569074625664096, 'time_kurt': 0.2131057350289486, 'freq_mean': 0.0016182078578719859, 'freq_var': 0.0031259252533001585, 'freq_skew': 0.4407957886865748, 'freq_kurt': 4.514600367702727}\n"
     ]
    },
    {
     "name": "stderr",
     "output_type": "stream",
     "text": [
      "100%|██████████| 60/60 [00:04<00:00, 13.39it/s]\n"
     ]
    },
    {
     "name": "stdout",
     "output_type": "stream",
     "text": [
      "{'method': 'gillespies', 'g_steps': 2, 'tau_steps': 0, 'use_corrector': True, 'corrector': 'barker', 'c_stepsize': 0.1, 'c_steps': 1, 'nfe': 57.0, 'time_mean': 0.001393269368001994, 'time_var': 0.00017698937720535369, 'time_skew': 0.02196765420417467, 'time_kurt': 0.14657257420645872, 'freq_mean': 0.0013932677843419253, 'freq_var': 0.003874728159761952, 'freq_skew': 0.44039804867548477, 'freq_kurt': 3.351800897612514}\n"
     ]
    },
    {
     "name": "stderr",
     "output_type": "stream",
     "text": [
      "100%|██████████| 60/60 [00:04<00:00, 13.38it/s]\n"
     ]
    },
    {
     "name": "stdout",
     "output_type": "stream",
     "text": [
      "{'method': 'gillespies', 'g_steps': 2, 'tau_steps': 0, 'use_corrector': True, 'corrector': 'barker', 'c_stepsize': 0.1, 'c_steps': 1, 'nfe': 57.0, 'time_mean': 0.001339978248590488, 'time_var': 0.0001963668384905688, 'time_skew': 0.035101302566456924, 'time_kurt': 0.24747955904657581, 'freq_mean': 0.0013399775553134294, 'freq_var': 0.002556189161457411, 'freq_skew': 0.5256576062035428, 'freq_kurt': 5.694014254914052}\n"
     ]
    },
    {
     "name": "stderr",
     "output_type": "stream",
     "text": [
      "100%|██████████| 60/60 [00:04<00:00, 13.15it/s]\n"
     ]
    },
    {
     "name": "stdout",
     "output_type": "stream",
     "text": [
      "{'method': 'gillespies', 'g_steps': 2, 'tau_steps': 0, 'use_corrector': True, 'corrector': 'barker', 'c_stepsize': 0.1, 'c_steps': 1, 'nfe': 57.0, 'time_mean': 0.0012615027333923886, 'time_var': 0.00023354901594365476, 'time_skew': 0.03569453625263726, 'time_kurt': 0.3389273904844582, 'freq_mean': 0.001261501795282817, 'freq_var': 0.0024011307234952806, 'freq_skew': 0.5587708195307036, 'freq_kurt': 5.394806200703824}\n"
     ]
    },
    {
     "name": "stderr",
     "output_type": "stream",
     "text": [
      "100%|██████████| 60/60 [00:04<00:00, 13.40it/s]\n"
     ]
    },
    {
     "name": "stdout",
     "output_type": "stream",
     "text": [
      "{'method': 'gillespies', 'g_steps': 2, 'tau_steps': 0, 'use_corrector': True, 'corrector': 'barker', 'c_stepsize': 0.1, 'c_steps': 1, 'nfe': 57.0, 'time_mean': 0.0005131118614136471, 'time_var': 0.0004710753382473846, 'time_skew': 0.02333611157981556, 'time_kurt': 0.2656749487348011, 'freq_mean': 0.000513111052037752, 'freq_var': 0.0039482773665666365, 'freq_skew': 0.5411427745886378, 'freq_kurt': 5.086718298664715}\n"
     ]
    },
    {
     "name": "stderr",
     "output_type": "stream",
     "text": [
      "100%|██████████| 60/60 [00:04<00:00, 13.39it/s]\n"
     ]
    },
    {
     "name": "stdout",
     "output_type": "stream",
     "text": [
      "{'method': 'gillespies', 'g_steps': 2, 'tau_steps': 0, 'use_corrector': True, 'corrector': 'barker', 'c_stepsize': 0.1, 'c_steps': 1, 'nfe': 57.0, 'time_mean': 0.0015093686578761347, 'time_var': 0.00013238102250245516, 'time_skew': 0.034824614128573524, 'time_kurt': 0.3009676848322619, 'freq_mean': 0.0015093676751626053, 'freq_var': 0.002930462217465707, 'freq_skew': 0.3401803677629542, 'freq_kurt': 3.272819712833232}\n"
     ]
    },
    {
     "name": "stderr",
     "output_type": "stream",
     "text": [
      "100%|██████████| 60/60 [00:04<00:00, 13.36it/s]\n"
     ]
    },
    {
     "name": "stdout",
     "output_type": "stream",
     "text": [
      "{'method': 'gillespies', 'g_steps': 2, 'tau_steps': 0, 'use_corrector': True, 'corrector': 'barker', 'c_stepsize': 0.1, 'c_steps': 1, 'nfe': 57.0, 'time_mean': 0.0008189613885121124, 'time_var': 9.048581777745685e-05, 'time_skew': 0.03189275917190405, 'time_kurt': 0.19250942967637338, 'freq_mean': 0.0008189606592592153, 'freq_var': 0.0020485139152281997, 'freq_skew': 0.49730428860098636, 'freq_kurt': 4.999760388365289}\n"
     ]
    },
    {
     "name": "stderr",
     "output_type": "stream",
     "text": [
      "100%|██████████| 60/60 [00:04<00:00, 13.34it/s]\n"
     ]
    },
    {
     "name": "stdout",
     "output_type": "stream",
     "text": [
      "{'method': 'gillespies', 'g_steps': 2, 'tau_steps': 0, 'use_corrector': True, 'corrector': 'barker', 'c_stepsize': 0.1, 'c_steps': 1, 'nfe': 57.0, 'time_mean': 0.0006138236374024657, 'time_var': 0.00014103589541153853, 'time_skew': 0.03118743483360037, 'time_kurt': 0.20764731561797997, 'freq_mean': 0.0006138226825753632, 'freq_var': 0.002881847602127777, 'freq_skew': 0.5438951341346882, 'freq_kurt': 5.689611763192661}\n"
     ]
    },
    {
     "name": "stderr",
     "output_type": "stream",
     "text": [
      "100%|██████████| 60/60 [00:04<00:00, 13.38it/s]\n"
     ]
    },
    {
     "name": "stdout",
     "output_type": "stream",
     "text": [
      "{'method': 'gillespies', 'g_steps': 2, 'tau_steps': 0, 'use_corrector': True, 'corrector': 'barker', 'c_stepsize': 0.1, 'c_steps': 1, 'nfe': 57.0, 'time_mean': 0.0012794290922679167, 'time_var': 0.00016470758033560113, 'time_skew': 0.024271290867354637, 'time_kurt': 0.1353912626257762, 'freq_mean': 0.001279429216295008, 'freq_var': 0.0018811973261880096, 'freq_skew': 0.5878445401068402, 'freq_kurt': 5.366467906618305}\n"
     ]
    },
    {
     "name": "stderr",
     "output_type": "stream",
     "text": [
      "100%|██████████| 60/60 [00:04<00:00, 12.78it/s]\n"
     ]
    },
    {
     "name": "stdout",
     "output_type": "stream",
     "text": [
      "{'method': 'gillespies', 'g_steps': 2, 'tau_steps': 0, 'use_corrector': True, 'corrector': 'barker', 'c_stepsize': 0.1, 'c_steps': 1, 'nfe': 57.0, 'time_mean': 0.0011491860302471648, 'time_var': 0.0002186840051891865, 'time_skew': 0.026683632297146334, 'time_kurt': 0.1119246065733924, 'freq_mean': 0.0011491852250548479, 'freq_var': 0.0016964621892094076, 'freq_skew': 0.3922473519532697, 'freq_kurt': 3.7345693193001206}\n"
     ]
    },
    {
     "name": "stderr",
     "output_type": "stream",
     "text": [
      "100%|██████████| 60/60 [00:04<00:00, 13.39it/s]\n"
     ]
    },
    {
     "name": "stdout",
     "output_type": "stream",
     "text": [
      "{'method': 'gillespies', 'g_steps': 2, 'tau_steps': 0, 'use_corrector': True, 'corrector': 'barker', 'c_stepsize': 0.1, 'c_steps': 1, 'nfe': 57.0, 'time_mean': 0.001204256743992203, 'time_var': 6.52730156776436e-05, 'time_skew': 0.027898277553295898, 'time_kurt': 0.21584822140144116, 'freq_mean': 0.0012042556245968029, 'freq_var': 0.001808732475388706, 'freq_skew': 0.5704181928431658, 'freq_kurt': 5.161013658224665}\n"
     ]
    },
    {
     "name": "stderr",
     "output_type": "stream",
     "text": [
      "100%|██████████| 60/60 [00:04<00:00, 13.39it/s]\n"
     ]
    },
    {
     "name": "stdout",
     "output_type": "stream",
     "text": [
      "{'method': 'gillespies', 'g_steps': 2, 'tau_steps': 0, 'use_corrector': True, 'corrector': 'barker', 'c_stepsize': 0.1, 'c_steps': 1, 'nfe': 57.0, 'time_mean': 0.0019102541559174208, 'time_var': 0.000226847417516149, 'time_skew': 0.02428751319413961, 'time_kurt': 0.1655527152282169, 'freq_mean': 0.0019102526682135484, 'freq_var': 0.004305503635877961, 'freq_skew': 0.5652497173389536, 'freq_kurt': 5.670845427925671}\n"
     ]
    },
    {
     "name": "stderr",
     "output_type": "stream",
     "text": [
      "100%|██████████| 60/60 [00:04<00:00, 13.39it/s]\n"
     ]
    },
    {
     "name": "stdout",
     "output_type": "stream",
     "text": [
      "{'method': 'gillespies', 'g_steps': 2, 'tau_steps': 0, 'use_corrector': True, 'corrector': 'barker', 'c_stepsize': 0.1, 'c_steps': 1, 'nfe': 57.0, 'time_mean': 0.0014791936305281522, 'time_var': 0.00021047953569467836, 'time_skew': 0.03221127061903194, 'time_kurt': 0.17309903423176018, 'freq_mean': 0.0014791928074624468, 'freq_var': 0.002267037944216568, 'freq_skew': 0.4219805211403205, 'freq_kurt': 4.293838514336402}\n",
      "Experiment results saved to  gene_results.csv\n"
     ]
    },
    {
     "name": "stderr",
     "output_type": "stream",
     "text": [
      "100%|██████████| 60/60 [00:04<00:00, 13.39it/s]\n"
     ]
    },
    {
     "name": "stdout",
     "output_type": "stream",
     "text": [
      "{'method': 'gillespies', 'g_steps': 1, 'tau_steps': 0, 'use_corrector': True, 'corrector': 'barker', 'c_stepsize': 0.1, 'c_steps': 1, 'nfe': 114.0, 'time_mean': 0.0010131960099870154, 'time_var': 7.649414225731232e-05, 'time_skew': 0.030622923043505217, 'time_kurt': 0.2285681886043256, 'freq_mean': 0.0010131954800395003, 'freq_var': 0.0020603843926715226, 'freq_skew': 0.455865285420404, 'freq_kurt': 4.429723919249697}\n"
     ]
    },
    {
     "name": "stderr",
     "output_type": "stream",
     "text": [
      "100%|██████████| 60/60 [00:04<00:00, 13.28it/s]\n"
     ]
    },
    {
     "name": "stdout",
     "output_type": "stream",
     "text": [
      "{'method': 'gillespies', 'g_steps': 1, 'tau_steps': 0, 'use_corrector': True, 'corrector': 'barker', 'c_stepsize': 0.1, 'c_steps': 1, 'nfe': 114.0, 'time_mean': 0.002003697712848629, 'time_var': 0.00018788298482394725, 'time_skew': 0.034507473022847686, 'time_kurt': 0.2171735594685264, 'freq_mean': 0.0020036966818371394, 'freq_var': 0.0039334599455463975, 'freq_skew': 0.5625146714046223, 'freq_kurt': 4.466236661280381}\n"
     ]
    },
    {
     "name": "stderr",
     "output_type": "stream",
     "text": [
      "100%|██████████| 60/60 [00:04<00:00, 13.36it/s]\n"
     ]
    },
    {
     "name": "stdout",
     "output_type": "stream",
     "text": [
      "{'method': 'gillespies', 'g_steps': 1, 'tau_steps': 0, 'use_corrector': True, 'corrector': 'barker', 'c_stepsize': 0.1, 'c_steps': 1, 'nfe': 114.0, 'time_mean': 0.0018011889596923041, 'time_var': 0.0005298992716876863, 'time_skew': 0.03773502766141464, 'time_kurt': 0.3932431265528199, 'freq_mean': 0.0018011888182763321, 'freq_var': 0.001957526306574307, 'freq_skew': 0.42010834072411746, 'freq_kurt': 4.214427901391713}\n"
     ]
    },
    {
     "name": "stderr",
     "output_type": "stream",
     "text": [
      "100%|██████████| 60/60 [00:04<00:00, 13.19it/s]\n"
     ]
    },
    {
     "name": "stdout",
     "output_type": "stream",
     "text": [
      "{'method': 'gillespies', 'g_steps': 1, 'tau_steps': 0, 'use_corrector': True, 'corrector': 'barker', 'c_stepsize': 0.1, 'c_steps': 1, 'nfe': 114.0, 'time_mean': 0.0009179458027821681, 'time_var': 0.00022804036799417302, 'time_skew': 0.016675668250925278, 'time_kurt': 0.08624945308989292, 'freq_mean': 0.0009179449212627818, 'freq_var': 0.002488206206673567, 'freq_skew': 0.5133795017013855, 'freq_kurt': 5.044951626298842}\n"
     ]
    },
    {
     "name": "stderr",
     "output_type": "stream",
     "text": [
      "100%|██████████| 60/60 [00:04<00:00, 13.09it/s]\n"
     ]
    },
    {
     "name": "stdout",
     "output_type": "stream",
     "text": [
      "{'method': 'gillespies', 'g_steps': 1, 'tau_steps': 0, 'use_corrector': True, 'corrector': 'barker', 'c_stepsize': 0.1, 'c_steps': 1, 'nfe': 114.0, 'time_mean': 0.0010132068835326871, 'time_var': 9.318506156816515e-05, 'time_skew': 0.02936878429734907, 'time_kurt': 0.2000163273026296, 'freq_mean': 0.0010132061540557799, 'freq_var': 0.001742326312528799, 'freq_skew': 0.49640268137656446, 'freq_kurt': 4.5191060732128525}\n"
     ]
    },
    {
     "name": "stderr",
     "output_type": "stream",
     "text": [
      "100%|██████████| 60/60 [00:04<00:00, 13.06it/s]\n"
     ]
    },
    {
     "name": "stdout",
     "output_type": "stream",
     "text": [
      "{'method': 'gillespies', 'g_steps': 1, 'tau_steps': 0, 'use_corrector': True, 'corrector': 'barker', 'c_stepsize': 0.1, 'c_steps': 1, 'nfe': 114.0, 'time_mean': 0.0010751979938437314, 'time_var': 0.0006263043877546266, 'time_skew': 0.03524469186420478, 'time_kurt': 0.25804729272927557, 'freq_mean': 0.001075197828718837, 'freq_var': 0.0039022086942350465, 'freq_skew': 0.6263128269062901, 'freq_kurt': 5.466352003814273}\n"
     ]
    },
    {
     "name": "stderr",
     "output_type": "stream",
     "text": [
      "100%|██████████| 60/60 [00:04<00:00, 13.39it/s]\n"
     ]
    },
    {
     "name": "stdout",
     "output_type": "stream",
     "text": [
      "{'method': 'gillespies', 'g_steps': 1, 'tau_steps': 0, 'use_corrector': True, 'corrector': 'barker', 'c_stepsize': 0.1, 'c_steps': 1, 'nfe': 114.0, 'time_mean': 0.00103604454581918, 'time_var': 0.00020276496716957498, 'time_skew': 0.023461275467013046, 'time_kurt': 0.10746921602915954, 'freq_mean': 0.0010360436583032899, 'freq_var': 0.0018915139825123545, 'freq_skew': 0.4874402214271625, 'freq_kurt': 8.210461800493485}\n"
     ]
    },
    {
     "name": "stderr",
     "output_type": "stream",
     "text": [
      "100%|██████████| 60/60 [00:04<00:00, 13.39it/s]\n"
     ]
    },
    {
     "name": "stdout",
     "output_type": "stream",
     "text": [
      "{'method': 'gillespies', 'g_steps': 1, 'tau_steps': 0, 'use_corrector': True, 'corrector': 'barker', 'c_stepsize': 0.1, 'c_steps': 1, 'nfe': 114.0, 'time_mean': 0.0025538392462212405, 'time_var': 0.00036119150677878817, 'time_skew': 0.050383167008140876, 'time_kurt': 0.3133025505266101, 'freq_mean': 0.002553837860912891, 'freq_var': 0.003798826801286822, 'freq_skew': 0.6338120200500597, 'freq_kurt': 6.448587247841166}\n"
     ]
    },
    {
     "name": "stderr",
     "output_type": "stream",
     "text": [
      "100%|██████████| 60/60 [00:04<00:00, 13.34it/s]\n"
     ]
    },
    {
     "name": "stdout",
     "output_type": "stream",
     "text": [
      "{'method': 'gillespies', 'g_steps': 1, 'tau_steps': 0, 'use_corrector': True, 'corrector': 'barker', 'c_stepsize': 0.1, 'c_steps': 1, 'nfe': 114.0, 'time_mean': 0.0015098335034764946, 'time_var': 0.00021627618084861552, 'time_skew': 0.03220076070727215, 'time_kurt': 0.3076796537474485, 'freq_mean': 0.0015098325262785342, 'freq_var': 0.0024983989240179136, 'freq_skew': 0.30651419822759174, 'freq_kurt': 3.9596357391540016}\n"
     ]
    },
    {
     "name": "stderr",
     "output_type": "stream",
     "text": [
      "100%|██████████| 60/60 [00:04<00:00, 12.48it/s]\n"
     ]
    },
    {
     "name": "stdout",
     "output_type": "stream",
     "text": [
      "{'method': 'gillespies', 'g_steps': 1, 'tau_steps': 0, 'use_corrector': True, 'corrector': 'barker', 'c_stepsize': 0.1, 'c_steps': 1, 'nfe': 114.0, 'time_mean': 0.0012420707204347826, 'time_var': 0.00015169678356754935, 'time_skew': 0.03798686902239019, 'time_kurt': 0.18803846424187298, 'freq_mean': 0.0012420699189612176, 'freq_var': 0.0026342541652793153, 'freq_skew': 0.565049166664778, 'freq_kurt': 4.790724848493825}\n"
     ]
    },
    {
     "name": "stderr",
     "output_type": "stream",
     "text": [
      "100%|██████████| 60/60 [00:04<00:00, 13.37it/s]\n"
     ]
    },
    {
     "name": "stdout",
     "output_type": "stream",
     "text": [
      "{'method': 'gillespies', 'g_steps': 1, 'tau_steps': 0, 'use_corrector': True, 'corrector': 'barker', 'c_stepsize': 0.1, 'c_steps': 1, 'nfe': 114.0, 'time_mean': 0.0015410135053384553, 'time_var': 0.0005035839467661828, 'time_skew': 0.026901343610400006, 'time_kurt': 0.32130880632118647, 'freq_mean': 0.0015410127605157396, 'freq_var': 0.0031205672921160283, 'freq_skew': 0.5175809156017656, 'freq_kurt': 3.987485479401434}\n"
     ]
    },
    {
     "name": "stderr",
     "output_type": "stream",
     "text": [
      "100%|██████████| 60/60 [00:04<00:00, 13.39it/s]\n"
     ]
    },
    {
     "name": "stdout",
     "output_type": "stream",
     "text": [
      "{'method': 'gillespies', 'g_steps': 1, 'tau_steps': 0, 'use_corrector': True, 'corrector': 'barker', 'c_stepsize': 0.1, 'c_steps': 1, 'nfe': 114.0, 'time_mean': 0.0014260976288223233, 'time_var': 0.0002955263777939351, 'time_skew': 0.039847155559477286, 'time_kurt': 0.27514248747083525, 'freq_mean': 0.0014260967028253526, 'freq_var': 0.004321735895070784, 'freq_skew': 0.4991752424006578, 'freq_kurt': 4.744456301517956}\n"
     ]
    },
    {
     "name": "stderr",
     "output_type": "stream",
     "text": [
      "100%|██████████| 60/60 [00:04<00:00, 13.39it/s]\n"
     ]
    },
    {
     "name": "stdout",
     "output_type": "stream",
     "text": [
      "{'method': 'gillespies', 'g_steps': 1, 'tau_steps': 0, 'use_corrector': True, 'corrector': 'barker', 'c_stepsize': 0.1, 'c_steps': 1, 'nfe': 114.0, 'time_mean': 0.0012884526274986844, 'time_var': 0.00022253131883816313, 'time_skew': 0.026131456870865922, 'time_kurt': 0.1870002729275847, 'freq_mean': 0.0012884520257585906, 'freq_var': 0.002886816088565025, 'freq_skew': 0.4718563035435697, 'freq_kurt': 4.3107063419493405}\n"
     ]
    },
    {
     "name": "stderr",
     "output_type": "stream",
     "text": [
      "100%|██████████| 60/60 [00:04<00:00, 13.30it/s]\n"
     ]
    },
    {
     "name": "stdout",
     "output_type": "stream",
     "text": [
      "{'method': 'gillespies', 'g_steps': 1, 'tau_steps': 0, 'use_corrector': True, 'corrector': 'barker', 'c_stepsize': 0.1, 'c_steps': 1, 'nfe': 114.0, 'time_mean': 0.0011657475002469857, 'time_var': 0.00018822559895504724, 'time_skew': 0.02580687223597693, 'time_kurt': 0.1480509011672506, 'freq_mean': 0.001165746495681128, 'freq_var': 0.0020411206322727632, 'freq_skew': 0.5520161439934724, 'freq_kurt': 3.2159831912782013}\n"
     ]
    },
    {
     "name": "stderr",
     "output_type": "stream",
     "text": [
      "100%|██████████| 60/60 [00:04<00:00, 13.37it/s]\n"
     ]
    },
    {
     "name": "stdout",
     "output_type": "stream",
     "text": [
      "{'method': 'gillespies', 'g_steps': 1, 'tau_steps': 0, 'use_corrector': True, 'corrector': 'barker', 'c_stepsize': 0.1, 'c_steps': 1, 'nfe': 114.0, 'time_mean': 0.000630693051089001, 'time_var': 0.00016407106345448687, 'time_skew': 0.014128757135828314, 'time_kurt': 0.15696067877235675, 'freq_mean': 0.0006306922605363804, 'freq_var': 0.0028179073638170673, 'freq_skew': 0.4740391951044073, 'freq_kurt': 5.304505199449721}\n"
     ]
    },
    {
     "name": "stderr",
     "output_type": "stream",
     "text": [
      "100%|██████████| 60/60 [00:04<00:00, 13.36it/s]\n"
     ]
    },
    {
     "name": "stdout",
     "output_type": "stream",
     "text": [
      "{'method': 'gillespies', 'g_steps': 1, 'tau_steps': 0, 'use_corrector': True, 'corrector': 'barker', 'c_stepsize': 0.1, 'c_steps': 1, 'nfe': 114.0, 'time_mean': 0.0015495827487043733, 'time_var': 0.0004502127433337219, 'time_skew': 0.04989771235309291, 'time_kurt': 0.7774968439099006, 'freq_mean': 0.0015495818684745188, 'freq_var': 0.003924562991468121, 'freq_skew': 0.5709846283353841, 'freq_kurt': 4.998430042535975}\n"
     ]
    },
    {
     "name": "stderr",
     "output_type": "stream",
     "text": [
      "100%|██████████| 60/60 [00:04<00:00, 13.34it/s]\n"
     ]
    },
    {
     "name": "stdout",
     "output_type": "stream",
     "text": [
      "{'method': 'gillespies', 'g_steps': 1, 'tau_steps': 0, 'use_corrector': True, 'corrector': 'barker', 'c_stepsize': 0.1, 'c_steps': 1, 'nfe': 114.0, 'time_mean': 0.001175971858692078, 'time_var': 0.00013554415504387883, 'time_skew': 0.03242848282062347, 'time_kurt': 0.1109315595395913, 'freq_mean': 0.0011759708596613629, 'freq_var': 0.0028531507509710397, 'freq_skew': 0.4731790610811239, 'freq_kurt': 4.366644336200243}\n"
     ]
    },
    {
     "name": "stderr",
     "output_type": "stream",
     "text": [
      "100%|██████████| 60/60 [00:04<00:00, 13.09it/s]\n"
     ]
    },
    {
     "name": "stdout",
     "output_type": "stream",
     "text": [
      "{'method': 'gillespies', 'g_steps': 1, 'tau_steps': 0, 'use_corrector': True, 'corrector': 'barker', 'c_stepsize': 0.1, 'c_steps': 1, 'nfe': 114.0, 'time_mean': 0.00097955411859841, 'time_var': 0.0003721837691275557, 'time_skew': 0.02400413709075551, 'time_kurt': 0.21106781283546916, 'freq_mean': 0.000979553247408417, 'freq_var': 0.0026492682925968835, 'freq_skew': 0.48951891948634096, 'freq_kurt': 3.850006282727937}\n"
     ]
    },
    {
     "name": "stderr",
     "output_type": "stream",
     "text": [
      "100%|██████████| 60/60 [00:04<00:00, 13.39it/s]\n"
     ]
    },
    {
     "name": "stdout",
     "output_type": "stream",
     "text": [
      "{'method': 'gillespies', 'g_steps': 1, 'tau_steps': 0, 'use_corrector': True, 'corrector': 'barker', 'c_stepsize': 0.1, 'c_steps': 1, 'nfe': 114.0, 'time_mean': 0.0006907240936206672, 'time_var': 0.0002046896073998015, 'time_skew': 0.031096218222911594, 'time_kurt': 0.2778473246264223, 'freq_mean': 0.0006907239065131834, 'freq_var': 0.00319014918158256, 'freq_skew': 0.40759712828714556, 'freq_kurt': 4.835539418123907}\n"
     ]
    },
    {
     "name": "stderr",
     "output_type": "stream",
     "text": [
      "100%|██████████| 60/60 [00:04<00:00, 13.39it/s]\n"
     ]
    },
    {
     "name": "stdout",
     "output_type": "stream",
     "text": [
      "{'method': 'gillespies', 'g_steps': 1, 'tau_steps': 0, 'use_corrector': True, 'corrector': 'barker', 'c_stepsize': 0.1, 'c_steps': 1, 'nfe': 114.0, 'time_mean': 0.0017636088802224846, 'time_var': 0.0001069281446793895, 'time_skew': 0.03998981691130447, 'time_kurt': 0.219064203316281, 'freq_mean': 0.001763608292831928, 'freq_var': 0.0025273439399299833, 'freq_skew': 0.4849571312930728, 'freq_kurt': 4.8626394137}\n",
      "Experiment results saved to  gene_results.csv\n"
     ]
    },
    {
     "name": "stderr",
     "output_type": "stream",
     "text": [
      "100%|██████████| 60/60 [00:04<00:00, 13.40it/s]\n"
     ]
    },
    {
     "name": "stdout",
     "output_type": "stream",
     "text": [
      "{'method': 'gillespies', 'g_steps': 3, 'tau_steps': 0, 'use_corrector': True, 'corrector': 'birthdeath', 'c_stepsize': 0.1, 'c_steps': 1, 'nfe': 38.0, 'time_mean': 0.0009321495012624152, 'time_var': 8.059539888644483e-05, 'time_skew': 0.028908376983889816, 'time_kurt': 0.20283770937380477, 'freq_mean': 0.0009321489640071495, 'freq_var': 0.0010864021212277238, 'freq_skew': 0.5155860910408071, 'freq_kurt': 4.978234499546803}\n"
     ]
    },
    {
     "name": "stderr",
     "output_type": "stream",
     "text": [
      "100%|██████████| 60/60 [00:04<00:00, 13.40it/s]\n"
     ]
    },
    {
     "name": "stdout",
     "output_type": "stream",
     "text": [
      "{'method': 'gillespies', 'g_steps': 3, 'tau_steps': 0, 'use_corrector': True, 'corrector': 'birthdeath', 'c_stepsize': 0.1, 'c_steps': 1, 'nfe': 38.0, 'time_mean': 0.0014125590989392946, 'time_var': 0.00027141743271597935, 'time_skew': 0.0291840287251772, 'time_kurt': 0.32764911322856355, 'freq_mean': 0.0014125586374294755, 'freq_var': 0.001954069957137395, 'freq_skew': 0.442802051504079, 'freq_kurt': 5.224094706879612}\n"
     ]
    },
    {
     "name": "stderr",
     "output_type": "stream",
     "text": [
      "100%|██████████| 60/60 [00:04<00:00, 13.32it/s]\n"
     ]
    },
    {
     "name": "stdout",
     "output_type": "stream",
     "text": [
      "{'method': 'gillespies', 'g_steps': 3, 'tau_steps': 0, 'use_corrector': True, 'corrector': 'birthdeath', 'c_stepsize': 0.1, 'c_steps': 1, 'nfe': 38.0, 'time_mean': 0.0013441843797210782, 'time_var': 0.000193679245829282, 'time_skew': 0.02771848934699422, 'time_kurt': 0.3304753031806618, 'freq_mean': 0.0013441838261305738, 'freq_var': 0.0028289888355513856, 'freq_skew': 0.6063276850319, 'freq_kurt': 5.214042174721812}\n"
     ]
    },
    {
     "name": "stderr",
     "output_type": "stream",
     "text": [
      "100%|██████████| 60/60 [00:04<00:00, 13.40it/s]\n"
     ]
    },
    {
     "name": "stdout",
     "output_type": "stream",
     "text": [
      "{'method': 'gillespies', 'g_steps': 3, 'tau_steps': 0, 'use_corrector': True, 'corrector': 'birthdeath', 'c_stepsize': 0.1, 'c_steps': 1, 'nfe': 38.0, 'time_mean': 0.000872253665331841, 'time_var': 0.0001405832833081936, 'time_skew': 0.018495428971716247, 'time_kurt': 0.1357371946559359, 'freq_mean': 0.000872253154835314, 'freq_var': 0.0018800386712486204, 'freq_skew': 0.43005755310274046, 'freq_kurt': 4.968737710994304}\n"
     ]
    },
    {
     "name": "stderr",
     "output_type": "stream",
     "text": [
      "100%|██████████| 60/60 [00:04<00:00, 13.34it/s]\n"
     ]
    },
    {
     "name": "stdout",
     "output_type": "stream",
     "text": [
      "{'method': 'gillespies', 'g_steps': 3, 'tau_steps': 0, 'use_corrector': True, 'corrector': 'birthdeath', 'c_stepsize': 0.1, 'c_steps': 1, 'nfe': 38.0, 'time_mean': 0.0012066005108722806, 'time_var': 0.0003901732869697276, 'time_skew': 0.028772067056923374, 'time_kurt': 0.22479584462452115, 'freq_mean': 0.001206600420056562, 'freq_var': 0.002982473518011254, 'freq_skew': 0.48583225367807376, 'freq_kurt': 5.149447568150157}\n"
     ]
    },
    {
     "name": "stderr",
     "output_type": "stream",
     "text": [
      "100%|██████████| 60/60 [00:04<00:00, 13.40it/s]\n"
     ]
    },
    {
     "name": "stdout",
     "output_type": "stream",
     "text": [
      "{'method': 'gillespies', 'g_steps': 3, 'tau_steps': 0, 'use_corrector': True, 'corrector': 'birthdeath', 'c_stepsize': 0.1, 'c_steps': 1, 'nfe': 38.0, 'time_mean': 0.0012317653312308532, 'time_var': 0.00011938392369208338, 'time_skew': 0.0374130025580024, 'time_kurt': 0.3503759290890072, 'freq_mean': 0.0012317647720259865, 'freq_var': 0.002833456656416309, 'freq_skew': 0.5132459409631539, 'freq_kurt': 4.643904367477501}\n"
     ]
    },
    {
     "name": "stderr",
     "output_type": "stream",
     "text": [
      "100%|██████████| 60/60 [00:04<00:00, 13.40it/s]\n"
     ]
    },
    {
     "name": "stdout",
     "output_type": "stream",
     "text": [
      "{'method': 'gillespies', 'g_steps': 3, 'tau_steps': 0, 'use_corrector': True, 'corrector': 'birthdeath', 'c_stepsize': 0.1, 'c_steps': 1, 'nfe': 38.0, 'time_mean': 0.0012904562747434569, 'time_var': 0.00013624676747432112, 'time_skew': 0.025374240254093166, 'time_kurt': 0.16413530849138944, 'freq_mean': 0.0012904555967992648, 'freq_var': 0.0021171967520223095, 'freq_skew': 0.5884148771686198, 'freq_kurt': 4.204284427436799}\n"
     ]
    },
    {
     "name": "stderr",
     "output_type": "stream",
     "text": [
      "100%|██████████| 60/60 [00:04<00:00, 13.40it/s]\n"
     ]
    },
    {
     "name": "stdout",
     "output_type": "stream",
     "text": [
      "{'method': 'gillespies', 'g_steps': 3, 'tau_steps': 0, 'use_corrector': True, 'corrector': 'birthdeath', 'c_stepsize': 0.1, 'c_steps': 1, 'nfe': 38.0, 'time_mean': 0.0008658653080051442, 'time_var': 0.00018777262760199547, 'time_skew': 0.020973939371415156, 'time_kurt': 0.16409117483178606, 'freq_mean': 0.0008658651561591933, 'freq_var': 0.0028493319589046762, 'freq_skew': 0.5681407851262321, 'freq_kurt': 5.234740566471696}\n"
     ]
    },
    {
     "name": "stderr",
     "output_type": "stream",
     "text": [
      "100%|██████████| 60/60 [00:04<00:00, 13.38it/s]\n"
     ]
    },
    {
     "name": "stdout",
     "output_type": "stream",
     "text": [
      "{'method': 'gillespies', 'g_steps': 3, 'tau_steps': 0, 'use_corrector': True, 'corrector': 'birthdeath', 'c_stepsize': 0.1, 'c_steps': 1, 'nfe': 38.0, 'time_mean': 0.0009032432461288657, 'time_var': 0.00025292911946540436, 'time_skew': 0.025626720135581083, 'time_kurt': 0.207147657467606, 'freq_mean': 0.0009032427402398986, 'freq_var': 0.0022601861059180686, 'freq_skew': 0.5125994300506472, 'freq_kurt': 5.060512963639467}\n"
     ]
    },
    {
     "name": "stderr",
     "output_type": "stream",
     "text": [
      "100%|██████████| 60/60 [00:04<00:00, 13.38it/s]\n"
     ]
    },
    {
     "name": "stdout",
     "output_type": "stream",
     "text": [
      "{'method': 'gillespies', 'g_steps': 3, 'tau_steps': 0, 'use_corrector': True, 'corrector': 'birthdeath', 'c_stepsize': 0.1, 'c_steps': 1, 'nfe': 38.0, 'time_mean': 0.000867592611853498, 'time_var': 0.00011600083410267965, 'time_skew': 0.019355196182349373, 'time_kurt': 0.09225853911433074, 'freq_mean': 0.0008675921673461598, 'freq_var': 0.0019489684100862587, 'freq_skew': 0.49107326592503225, 'freq_kurt': 5.601110580705778}\n"
     ]
    },
    {
     "name": "stderr",
     "output_type": "stream",
     "text": [
      "100%|██████████| 60/60 [00:04<00:00, 13.36it/s]\n"
     ]
    },
    {
     "name": "stdout",
     "output_type": "stream",
     "text": [
      "{'method': 'gillespies', 'g_steps': 3, 'tau_steps': 0, 'use_corrector': True, 'corrector': 'birthdeath', 'c_stepsize': 0.1, 'c_steps': 1, 'nfe': 38.0, 'time_mean': 0.0014371695146675595, 'time_var': 0.0001978453296863292, 'time_skew': 0.03060612154566296, 'time_kurt': 0.16498634664405093, 'freq_mean': 0.0014371685065423924, 'freq_var': 0.0027997961346915554, 'freq_skew': 0.5114102406116802, 'freq_kurt': 5.137449388437022}\n"
     ]
    },
    {
     "name": "stderr",
     "output_type": "stream",
     "text": [
      "100%|██████████| 60/60 [00:04<00:00, 13.40it/s]\n"
     ]
    },
    {
     "name": "stdout",
     "output_type": "stream",
     "text": [
      "{'method': 'gillespies', 'g_steps': 3, 'tau_steps': 0, 'use_corrector': True, 'corrector': 'birthdeath', 'c_stepsize': 0.1, 'c_steps': 1, 'nfe': 38.0, 'time_mean': 0.0014947494985769036, 'time_var': 0.00024560889570421037, 'time_skew': 0.028820867668164673, 'time_kurt': 0.2402142259801843, 'freq_mean': 0.0014947487032948253, 'freq_var': 0.0029732606104766026, 'freq_skew': 0.4569681307898464, 'freq_kurt': 3.3976066804384812}\n"
     ]
    },
    {
     "name": "stderr",
     "output_type": "stream",
     "text": [
      "100%|██████████| 60/60 [00:04<00:00, 13.40it/s]\n"
     ]
    },
    {
     "name": "stdout",
     "output_type": "stream",
     "text": [
      "{'method': 'gillespies', 'g_steps': 3, 'tau_steps': 0, 'use_corrector': True, 'corrector': 'birthdeath', 'c_stepsize': 0.1, 'c_steps': 1, 'nfe': 38.0, 'time_mean': 0.0012604986543468754, 'time_var': 8.751590142885028e-05, 'time_skew': 0.037274442660450026, 'time_kurt': 0.2793010194907914, 'freq_mean': 0.0012604979102100707, 'freq_var': 0.0020461694376452634, 'freq_skew': 0.5682494668910941, 'freq_kurt': 5.104140395819616}\n"
     ]
    },
    {
     "name": "stderr",
     "output_type": "stream",
     "text": [
      "100%|██████████| 60/60 [00:04<00:00, 12.99it/s]\n"
     ]
    },
    {
     "name": "stdout",
     "output_type": "stream",
     "text": [
      "{'method': 'gillespies', 'g_steps': 3, 'tau_steps': 0, 'use_corrector': True, 'corrector': 'birthdeath', 'c_stepsize': 0.1, 'c_steps': 1, 'nfe': 38.0, 'time_mean': 0.0010157872124702475, 'time_var': 0.00010580922514519498, 'time_skew': 0.03114654213594089, 'time_kurt': 0.16694110726840805, 'freq_mean': 0.0010157859242884736, 'freq_var': 0.002051529196867235, 'freq_skew': 0.5026151395418543, 'freq_kurt': 5.447277524208683}\n"
     ]
    },
    {
     "name": "stderr",
     "output_type": "stream",
     "text": [
      "100%|██████████| 60/60 [00:04<00:00, 13.39it/s]\n"
     ]
    },
    {
     "name": "stdout",
     "output_type": "stream",
     "text": [
      "{'method': 'gillespies', 'g_steps': 3, 'tau_steps': 0, 'use_corrector': True, 'corrector': 'birthdeath', 'c_stepsize': 0.1, 'c_steps': 1, 'nfe': 38.0, 'time_mean': 0.0016538619614167474, 'time_var': 0.00027537941065415686, 'time_skew': 0.030901094461879275, 'time_kurt': 0.2663246640145511, 'freq_mean': 0.0016538619985990365, 'freq_var': 0.003770939670582377, 'freq_skew': 0.52117534206646, 'freq_kurt': 5.2202103582394885}\n"
     ]
    },
    {
     "name": "stderr",
     "output_type": "stream",
     "text": [
      "100%|██████████| 60/60 [00:04<00:00, 13.37it/s]\n"
     ]
    },
    {
     "name": "stdout",
     "output_type": "stream",
     "text": [
      "{'method': 'gillespies', 'g_steps': 3, 'tau_steps': 0, 'use_corrector': True, 'corrector': 'birthdeath', 'c_stepsize': 0.1, 'c_steps': 1, 'nfe': 38.0, 'time_mean': 0.000823273946374593, 'time_var': 0.00017456378743497397, 'time_skew': 0.03480180976638687, 'time_kurt': 0.20816087950350715, 'freq_mean': 0.0008232731168123798, 'freq_var': 0.0035582791119957405, 'freq_skew': 0.574213258142754, 'freq_kurt': 6.33254895711698}\n"
     ]
    },
    {
     "name": "stderr",
     "output_type": "stream",
     "text": [
      "100%|██████████| 60/60 [00:04<00:00, 13.40it/s]\n"
     ]
    },
    {
     "name": "stdout",
     "output_type": "stream",
     "text": [
      "{'method': 'gillespies', 'g_steps': 3, 'tau_steps': 0, 'use_corrector': True, 'corrector': 'birthdeath', 'c_stepsize': 0.1, 'c_steps': 1, 'nfe': 38.0, 'time_mean': 0.0011841065500949573, 'time_var': 0.00016635144241612952, 'time_skew': 0.041469411837192514, 'time_kurt': 0.249564582136194, 'freq_mean': 0.001184106117881703, 'freq_var': 0.0029543168186995914, 'freq_skew': 0.5473079745261689, 'freq_kurt': 6.081457983683391}\n"
     ]
    },
    {
     "name": "stderr",
     "output_type": "stream",
     "text": [
      "100%|██████████| 60/60 [00:04<00:00, 13.39it/s]\n"
     ]
    },
    {
     "name": "stdout",
     "output_type": "stream",
     "text": [
      "{'method': 'gillespies', 'g_steps': 3, 'tau_steps': 0, 'use_corrector': True, 'corrector': 'birthdeath', 'c_stepsize': 0.1, 'c_steps': 1, 'nfe': 38.0, 'time_mean': 0.0013590967318438027, 'time_var': 0.00020288697451468024, 'time_skew': 0.025069393799709943, 'time_kurt': 0.2558255514094305, 'freq_mean': 0.0013590961110509026, 'freq_var': 0.003114559264047938, 'freq_skew': 0.5675944848141165, 'freq_kurt': 4.854796457223008}\n"
     ]
    },
    {
     "name": "stderr",
     "output_type": "stream",
     "text": [
      "100%|██████████| 60/60 [00:04<00:00, 13.40it/s]\n"
     ]
    },
    {
     "name": "stdout",
     "output_type": "stream",
     "text": [
      "{'method': 'gillespies', 'g_steps': 3, 'tau_steps': 0, 'use_corrector': True, 'corrector': 'birthdeath', 'c_stepsize': 0.1, 'c_steps': 1, 'nfe': 38.0, 'time_mean': 0.0005764307291171261, 'time_var': 0.0001543250076184048, 'time_skew': 0.01676411953819682, 'time_kurt': 0.30836100345933665, 'freq_mean': 0.0005764301557284584, 'freq_var': 0.001992944001930615, 'freq_skew': 0.37604223650254026, 'freq_kurt': 3.9806739307521726}\n"
     ]
    },
    {
     "name": "stderr",
     "output_type": "stream",
     "text": [
      "100%|██████████| 60/60 [00:04<00:00, 13.40it/s]\n"
     ]
    },
    {
     "name": "stdout",
     "output_type": "stream",
     "text": [
      "{'method': 'gillespies', 'g_steps': 3, 'tau_steps': 0, 'use_corrector': True, 'corrector': 'birthdeath', 'c_stepsize': 0.1, 'c_steps': 1, 'nfe': 38.0, 'time_mean': 0.0011933880929392512, 'time_var': 0.00019841735836211767, 'time_skew': 0.03685793722821769, 'time_kurt': 0.2433336435271603, 'freq_mean': 0.0011933877070976874, 'freq_var': 0.002242176218199755, 'freq_skew': 0.48079434876105914, 'freq_kurt': 5.1834462778598045}\n",
      "Experiment results saved to  gene_results.csv\n"
     ]
    },
    {
     "name": "stderr",
     "output_type": "stream",
     "text": [
      "100%|██████████| 60/60 [00:04<00:00, 13.40it/s]\n"
     ]
    },
    {
     "name": "stdout",
     "output_type": "stream",
     "text": [
      "{'method': 'gillespies', 'g_steps': 2, 'tau_steps': 0, 'use_corrector': True, 'corrector': 'birthdeath', 'c_stepsize': 0.1, 'c_steps': 1, 'nfe': 57.0, 'time_mean': 0.00041460670552213446, 'time_var': 0.00010226918318447046, 'time_skew': 0.020446472211414147, 'time_kurt': 0.263357340990028, 'freq_mean': 0.00041460563413042966, 'freq_var': 0.0020004001636713563, 'freq_skew': 0.39085077609673874, 'freq_kurt': 3.265424867866825}\n"
     ]
    },
    {
     "name": "stderr",
     "output_type": "stream",
     "text": [
      "100%|██████████| 60/60 [00:04<00:00, 13.39it/s]\n"
     ]
    },
    {
     "name": "stdout",
     "output_type": "stream",
     "text": [
      "{'method': 'gillespies', 'g_steps': 2, 'tau_steps': 0, 'use_corrector': True, 'corrector': 'birthdeath', 'c_stepsize': 0.1, 'c_steps': 1, 'nfe': 57.0, 'time_mean': 0.0014347270878739295, 'time_var': 0.0001667952935640618, 'time_skew': 0.02963035620762974, 'time_kurt': 0.1612743302312922, 'freq_mean': 0.0014347266939468046, 'freq_var': 0.002251663925401404, 'freq_skew': 0.4698967257439515, 'freq_kurt': 4.424757222166336}\n"
     ]
    },
    {
     "name": "stderr",
     "output_type": "stream",
     "text": [
      "100%|██████████| 60/60 [00:04<00:00, 13.38it/s]\n"
     ]
    },
    {
     "name": "stdout",
     "output_type": "stream",
     "text": [
      "{'method': 'gillespies', 'g_steps': 2, 'tau_steps': 0, 'use_corrector': True, 'corrector': 'birthdeath', 'c_stepsize': 0.1, 'c_steps': 1, 'nfe': 57.0, 'time_mean': 0.0010809395731807014, 'time_var': 0.00025267683560851133, 'time_skew': 0.022814857029858478, 'time_kurt': 0.27092394248932533, 'freq_mean': 0.0010809395928058085, 'freq_var': 0.0025518885249062504, 'freq_skew': 0.40828265444122347, 'freq_kurt': 4.916667941242702}\n"
     ]
    },
    {
     "name": "stderr",
     "output_type": "stream",
     "text": [
      "100%|██████████| 60/60 [00:04<00:00, 13.40it/s]\n"
     ]
    },
    {
     "name": "stdout",
     "output_type": "stream",
     "text": [
      "{'method': 'gillespies', 'g_steps': 2, 'tau_steps': 0, 'use_corrector': True, 'corrector': 'birthdeath', 'c_stepsize': 0.1, 'c_steps': 1, 'nfe': 57.0, 'time_mean': 0.0003007818172257975, 'time_var': 0.00012263404188146197, 'time_skew': 0.018752739563574768, 'time_kurt': 0.07784658581054724, 'freq_mean': 0.00030078166165024763, 'freq_var': 0.0013389540236061204, 'freq_skew': 0.47978079686358227, 'freq_kurt': 5.496057678175324}\n"
     ]
    },
    {
     "name": "stderr",
     "output_type": "stream",
     "text": [
      "100%|██████████| 60/60 [00:04<00:00, 13.40it/s]\n"
     ]
    },
    {
     "name": "stdout",
     "output_type": "stream",
     "text": [
      "{'method': 'gillespies', 'g_steps': 2, 'tau_steps': 0, 'use_corrector': True, 'corrector': 'birthdeath', 'c_stepsize': 0.1, 'c_steps': 1, 'nfe': 57.0, 'time_mean': 0.0008584301906818136, 'time_var': 9.477635339612522e-05, 'time_skew': 0.02666605825860415, 'time_kurt': 0.13867549222462844, 'freq_mean': 0.0008584294597743612, 'freq_var': 0.0018848125694863318, 'freq_skew': 0.5149370265658757, 'freq_kurt': 4.811862332055425}\n"
     ]
    },
    {
     "name": "stderr",
     "output_type": "stream",
     "text": [
      "100%|██████████| 60/60 [00:04<00:00, 13.40it/s]\n"
     ]
    },
    {
     "name": "stdout",
     "output_type": "stream",
     "text": [
      "{'method': 'gillespies', 'g_steps': 2, 'tau_steps': 0, 'use_corrector': True, 'corrector': 'birthdeath', 'c_stepsize': 0.1, 'c_steps': 1, 'nfe': 57.0, 'time_mean': 0.0005595833792862899, 'time_var': 0.00018792998753189134, 'time_skew': 0.026773938517765515, 'time_kurt': 0.1751482379894969, 'freq_mean': 0.0005595837240718373, 'freq_var': 0.002115806178827534, 'freq_skew': 0.4363376085370079, 'freq_kurt': 4.23710985507218}\n"
     ]
    },
    {
     "name": "stderr",
     "output_type": "stream",
     "text": [
      "100%|██████████| 60/60 [00:04<00:00, 13.39it/s]\n"
     ]
    },
    {
     "name": "stdout",
     "output_type": "stream",
     "text": [
      "{'method': 'gillespies', 'g_steps': 2, 'tau_steps': 0, 'use_corrector': True, 'corrector': 'birthdeath', 'c_stepsize': 0.1, 'c_steps': 1, 'nfe': 57.0, 'time_mean': 0.0017195785129486179, 'time_var': 7.81260216409735e-05, 'time_skew': 0.028467599389248442, 'time_kurt': 0.15793572814001275, 'freq_mean': 0.0017195776663570393, 'freq_var': 0.002342943653873569, 'freq_skew': 0.48556806838435757, 'freq_kurt': 5.841299439924411}\n"
     ]
    },
    {
     "name": "stderr",
     "output_type": "stream",
     "text": [
      "100%|██████████| 60/60 [00:04<00:00, 13.38it/s]\n"
     ]
    },
    {
     "name": "stdout",
     "output_type": "stream",
     "text": [
      "{'method': 'gillespies', 'g_steps': 2, 'tau_steps': 0, 'use_corrector': True, 'corrector': 'birthdeath', 'c_stepsize': 0.1, 'c_steps': 1, 'nfe': 57.0, 'time_mean': 0.0009702391571145935, 'time_var': 0.0001610987539761396, 'time_skew': 0.023514988728864573, 'time_kurt': 0.09378727071548534, 'freq_mean': 0.0009702388819864387, 'freq_var': 0.0023620133535351365, 'freq_skew': 0.5230682270705721, 'freq_kurt': 5.16608556223786}\n"
     ]
    },
    {
     "name": "stderr",
     "output_type": "stream",
     "text": [
      "100%|██████████| 60/60 [00:04<00:00, 13.39it/s]\n"
     ]
    },
    {
     "name": "stdout",
     "output_type": "stream",
     "text": [
      "{'method': 'gillespies', 'g_steps': 2, 'tau_steps': 0, 'use_corrector': True, 'corrector': 'birthdeath', 'c_stepsize': 0.1, 'c_steps': 1, 'nfe': 57.0, 'time_mean': 0.0013905536558062993, 'time_var': 0.0002427668232993564, 'time_skew': 0.02442676352595856, 'time_kurt': 0.16531232128466594, 'freq_mean': 0.0013905524272460426, 'freq_var': 0.00376729839737694, 'freq_skew': 0.5669798449357549, 'freq_kurt': 4.523979952876476}\n"
     ]
    },
    {
     "name": "stderr",
     "output_type": "stream",
     "text": [
      "100%|██████████| 60/60 [00:04<00:00, 13.11it/s]\n"
     ]
    },
    {
     "name": "stdout",
     "output_type": "stream",
     "text": [
      "{'method': 'gillespies', 'g_steps': 2, 'tau_steps': 0, 'use_corrector': True, 'corrector': 'birthdeath', 'c_stepsize': 0.1, 'c_steps': 1, 'nfe': 57.0, 'time_mean': 0.0013036044047413367, 'time_var': 0.00019072175471071992, 'time_skew': 0.028379030800432626, 'time_kurt': 0.1477358719318894, 'freq_mean': 0.0013036037781553422, 'freq_var': 0.0024496981033594175, 'freq_skew': 0.5011959330259852, 'freq_kurt': 5.498162589648171}\n"
     ]
    },
    {
     "name": "stderr",
     "output_type": "stream",
     "text": [
      "100%|██████████| 60/60 [00:04<00:00, 13.40it/s]\n"
     ]
    },
    {
     "name": "stdout",
     "output_type": "stream",
     "text": [
      "{'method': 'gillespies', 'g_steps': 2, 'tau_steps': 0, 'use_corrector': True, 'corrector': 'birthdeath', 'c_stepsize': 0.1, 'c_steps': 1, 'nfe': 57.0, 'time_mean': 0.0016059672182481602, 'time_var': 0.0003781589838325214, 'time_skew': 0.04138508756507324, 'time_kurt': 0.39124018827822754, 'freq_mean': 0.001605965903229188, 'freq_var': 0.0029168796367690926, 'freq_skew': 0.5153687816592324, 'freq_kurt': 5.1185651669827354}\n"
     ]
    },
    {
     "name": "stderr",
     "output_type": "stream",
     "text": [
      "100%|██████████| 60/60 [00:04<00:00, 13.39it/s]\n"
     ]
    },
    {
     "name": "stdout",
     "output_type": "stream",
     "text": [
      "{'method': 'gillespies', 'g_steps': 2, 'tau_steps': 0, 'use_corrector': True, 'corrector': 'birthdeath', 'c_stepsize': 0.1, 'c_steps': 1, 'nfe': 57.0, 'time_mean': 0.0009000368507171465, 'time_var': 0.00016971993949740926, 'time_skew': 0.027833348957111204, 'time_kurt': 0.2979451441409649, 'freq_mean': 0.0009000357297106067, 'freq_var': 0.0019338906060359393, 'freq_skew': 0.5187293948640371, 'freq_kurt': 5.725234467961227}\n"
     ]
    },
    {
     "name": "stderr",
     "output_type": "stream",
     "text": [
      "100%|██████████| 60/60 [00:04<00:00, 13.40it/s]\n"
     ]
    },
    {
     "name": "stdout",
     "output_type": "stream",
     "text": [
      "{'method': 'gillespies', 'g_steps': 2, 'tau_steps': 0, 'use_corrector': True, 'corrector': 'birthdeath', 'c_stepsize': 0.1, 'c_steps': 1, 'nfe': 57.0, 'time_mean': 0.0011439731245282243, 'time_var': 0.0001550002635463461, 'time_skew': 0.03413282770215477, 'time_kurt': 0.1988006836734165, 'freq_mean': 0.0011439724233901541, 'freq_var': 0.003226805892293266, 'freq_skew': 0.48438278225172426, 'freq_kurt': 4.662669288768331}\n"
     ]
    },
    {
     "name": "stderr",
     "output_type": "stream",
     "text": [
      "100%|██████████| 60/60 [00:04<00:00, 13.40it/s]\n"
     ]
    },
    {
     "name": "stdout",
     "output_type": "stream",
     "text": [
      "{'method': 'gillespies', 'g_steps': 2, 'tau_steps': 0, 'use_corrector': True, 'corrector': 'birthdeath', 'c_stepsize': 0.1, 'c_steps': 1, 'nfe': 57.0, 'time_mean': 0.0006211361181871663, 'time_var': 0.0001615500682110989, 'time_skew': 0.018176308307757575, 'time_kurt': 0.18639494489732708, 'freq_mean': 0.000621135672870239, 'freq_var': 0.0020911625627761067, 'freq_skew': 0.5366172584834544, 'freq_kurt': 4.804240785508058}\n"
     ]
    },
    {
     "name": "stderr",
     "output_type": "stream",
     "text": [
      "100%|██████████| 60/60 [00:04<00:00, 13.40it/s]\n"
     ]
    },
    {
     "name": "stdout",
     "output_type": "stream",
     "text": [
      "{'method': 'gillespies', 'g_steps': 2, 'tau_steps': 0, 'use_corrector': True, 'corrector': 'birthdeath', 'c_stepsize': 0.1, 'c_steps': 1, 'nfe': 57.0, 'time_mean': 0.0011874551178777865, 'time_var': 0.00016390119626743898, 'time_skew': 0.02998494158666524, 'time_kurt': 0.24049590017327954, 'freq_mean': 0.0011874544561735621, 'freq_var': 0.0015800253021034329, 'freq_skew': 0.4068678655160418, 'freq_kurt': 4.03353757248968}\n"
     ]
    },
    {
     "name": "stderr",
     "output_type": "stream",
     "text": [
      "100%|██████████| 60/60 [00:04<00:00, 13.13it/s]\n"
     ]
    },
    {
     "name": "stdout",
     "output_type": "stream",
     "text": [
      "{'method': 'gillespies', 'g_steps': 2, 'tau_steps': 0, 'use_corrector': True, 'corrector': 'birthdeath', 'c_stepsize': 0.1, 'c_steps': 1, 'nfe': 57.0, 'time_mean': 0.0008854005617762188, 'time_var': 0.00024164519195177023, 'time_skew': 0.02764671487614437, 'time_kurt': 0.24346640351560958, 'freq_mean': 0.0008853997284306632, 'freq_var': 0.001507722255545383, 'freq_skew': 0.4519797159660334, 'freq_kurt': 4.2878056276023235}\n"
     ]
    },
    {
     "name": "stderr",
     "output_type": "stream",
     "text": [
      "100%|██████████| 60/60 [00:04<00:00, 13.40it/s]\n"
     ]
    },
    {
     "name": "stdout",
     "output_type": "stream",
     "text": [
      "{'method': 'gillespies', 'g_steps': 2, 'tau_steps': 0, 'use_corrector': True, 'corrector': 'birthdeath', 'c_stepsize': 0.1, 'c_steps': 1, 'nfe': 57.0, 'time_mean': 0.0013757617472382041, 'time_var': 0.00011140785338022772, 'time_skew': 0.032041477113837986, 'time_kurt': 0.21541014995831753, 'freq_mean': 0.0013757611634611327, 'freq_var': 0.002400004474010097, 'freq_skew': 0.5610119552453935, 'freq_kurt': 4.8481915744683}\n"
     ]
    },
    {
     "name": "stderr",
     "output_type": "stream",
     "text": [
      "100%|██████████| 60/60 [00:04<00:00, 13.39it/s]\n"
     ]
    },
    {
     "name": "stdout",
     "output_type": "stream",
     "text": [
      "{'method': 'gillespies', 'g_steps': 2, 'tau_steps': 0, 'use_corrector': True, 'corrector': 'birthdeath', 'c_stepsize': 0.1, 'c_steps': 1, 'nfe': 57.0, 'time_mean': 0.0015711437044384864, 'time_var': 0.00019849401381795667, 'time_skew': 0.03177875796233527, 'time_kurt': 0.1322633615921231, 'freq_mean': 0.0015711435067234088, 'freq_var': 0.002682022474512597, 'freq_skew': 0.662364673305846, 'freq_kurt': 7.306135936375251}\n"
     ]
    },
    {
     "name": "stderr",
     "output_type": "stream",
     "text": [
      "100%|██████████| 60/60 [00:04<00:00, 13.40it/s]\n"
     ]
    },
    {
     "name": "stdout",
     "output_type": "stream",
     "text": [
      "{'method': 'gillespies', 'g_steps': 2, 'tau_steps': 0, 'use_corrector': True, 'corrector': 'birthdeath', 'c_stepsize': 0.1, 'c_steps': 1, 'nfe': 57.0, 'time_mean': 0.0022261671434431556, 'time_var': 0.00015401544754739167, 'time_skew': 0.04229541989706694, 'time_kurt': 0.3104287125731959, 'freq_mean': 0.002226166047404957, 'freq_var': 0.002813339770655481, 'freq_skew': 0.4096090883696639, 'freq_kurt': 2.992190021463701}\n"
     ]
    },
    {
     "name": "stderr",
     "output_type": "stream",
     "text": [
      "100%|██████████| 60/60 [00:04<00:00, 13.40it/s]\n"
     ]
    },
    {
     "name": "stdout",
     "output_type": "stream",
     "text": [
      "{'method': 'gillespies', 'g_steps': 2, 'tau_steps': 0, 'use_corrector': True, 'corrector': 'birthdeath', 'c_stepsize': 0.1, 'c_steps': 1, 'nfe': 57.0, 'time_mean': 0.0020745382293691455, 'time_var': 0.0001510109394411876, 'time_skew': 0.03849687046197766, 'time_kurt': 0.16950938926011988, 'freq_mean': 0.0020745370074179833, 'freq_var': 0.00303038343220689, 'freq_skew': 0.6841907273398731, 'freq_kurt': 7.244053187906517}\n",
      "Experiment results saved to  gene_results.csv\n"
     ]
    },
    {
     "name": "stderr",
     "output_type": "stream",
     "text": [
      "100%|██████████| 60/60 [00:04<00:00, 13.40it/s]\n"
     ]
    },
    {
     "name": "stdout",
     "output_type": "stream",
     "text": [
      "{'method': 'gillespies', 'g_steps': 1, 'tau_steps': 0, 'use_corrector': True, 'corrector': 'birthdeath', 'c_stepsize': 0.1, 'c_steps': 1, 'nfe': 114.0, 'time_mean': 0.0015217820590426047, 'time_var': 0.0002748727802785544, 'time_skew': 0.032951450827630416, 'time_kurt': 0.39485237688856184, 'freq_mean': 0.00152178170291637, 'freq_var': 0.0035232969197390297, 'freq_skew': 0.5399794568058193, 'freq_kurt': 5.983931829792076}\n"
     ]
    },
    {
     "name": "stderr",
     "output_type": "stream",
     "text": [
      "100%|██████████| 60/60 [00:04<00:00, 13.39it/s]\n"
     ]
    },
    {
     "name": "stdout",
     "output_type": "stream",
     "text": [
      "{'method': 'gillespies', 'g_steps': 1, 'tau_steps': 0, 'use_corrector': True, 'corrector': 'birthdeath', 'c_stepsize': 0.1, 'c_steps': 1, 'nfe': 114.0, 'time_mean': 0.0007395638849695994, 'time_var': 9.826935675926036e-05, 'time_skew': 0.021482311632292757, 'time_kurt': 0.1322242406204235, 'freq_mean': 0.0007395632207922896, 'freq_var': 0.002954426026937482, 'freq_skew': 0.40301918848078305, 'freq_kurt': 4.769145243582363}\n"
     ]
    },
    {
     "name": "stderr",
     "output_type": "stream",
     "text": [
      "100%|██████████| 60/60 [00:04<00:00, 13.38it/s]\n"
     ]
    },
    {
     "name": "stdout",
     "output_type": "stream",
     "text": [
      "{'method': 'gillespies', 'g_steps': 1, 'tau_steps': 0, 'use_corrector': True, 'corrector': 'birthdeath', 'c_stepsize': 0.1, 'c_steps': 1, 'nfe': 114.0, 'time_mean': 0.001170126794876753, 'time_var': 0.0002878586667868232, 'time_skew': 0.034192613855499675, 'time_kurt': 0.29052038520528956, 'freq_mean': 0.0011701262638514232, 'freq_var': 0.0037083034281644523, 'freq_skew': 0.48475961410791996, 'freq_kurt': 4.503086966991941}\n"
     ]
    },
    {
     "name": "stderr",
     "output_type": "stream",
     "text": [
      "100%|██████████| 60/60 [00:04<00:00, 13.40it/s]\n"
     ]
    },
    {
     "name": "stdout",
     "output_type": "stream",
     "text": [
      "{'method': 'gillespies', 'g_steps': 1, 'tau_steps': 0, 'use_corrector': True, 'corrector': 'birthdeath', 'c_stepsize': 0.1, 'c_steps': 1, 'nfe': 114.0, 'time_mean': 0.0010080006207277828, 'time_var': 0.00017665110913019476, 'time_skew': 0.020672447989090587, 'time_kurt': 0.1555872851727096, 'freq_mean': 0.0010080001694814707, 'freq_var': 0.0015515309216803887, 'freq_skew': 0.4184808320895845, 'freq_kurt': 4.122619273053389}\n"
     ]
    },
    {
     "name": "stderr",
     "output_type": "stream",
     "text": [
      "100%|██████████| 60/60 [00:04<00:00, 13.40it/s]\n"
     ]
    },
    {
     "name": "stdout",
     "output_type": "stream",
     "text": [
      "{'method': 'gillespies', 'g_steps': 1, 'tau_steps': 0, 'use_corrector': True, 'corrector': 'birthdeath', 'c_stepsize': 0.1, 'c_steps': 1, 'nfe': 114.0, 'time_mean': 0.0017816230132826488, 'time_var': 0.0005415266443007691, 'time_skew': 0.04406790412273574, 'time_kurt': 0.6734606523911879, 'freq_mean': 0.0017816220737334242, 'freq_var': 0.004375419072038129, 'freq_skew': 0.43705925217198477, 'freq_kurt': 4.706610733977059}\n"
     ]
    },
    {
     "name": "stderr",
     "output_type": "stream",
     "text": [
      "100%|██████████| 60/60 [00:04<00:00, 13.40it/s]\n"
     ]
    },
    {
     "name": "stdout",
     "output_type": "stream",
     "text": [
      "{'method': 'gillespies', 'g_steps': 1, 'tau_steps': 0, 'use_corrector': True, 'corrector': 'birthdeath', 'c_stepsize': 0.1, 'c_steps': 1, 'nfe': 114.0, 'time_mean': 0.0014749708997270025, 'time_var': 0.00011578572031175435, 'time_skew': 0.03914503471498081, 'time_kurt': 0.17442766044208874, 'freq_mean': 0.0014749701729026574, 'freq_var': 0.002493327252168741, 'freq_skew': 0.37772032035968534, 'freq_kurt': 3.9766482495323823}\n"
     ]
    },
    {
     "name": "stderr",
     "output_type": "stream",
     "text": [
      "100%|██████████| 60/60 [00:04<00:00, 13.39it/s]\n"
     ]
    },
    {
     "name": "stdout",
     "output_type": "stream",
     "text": [
      "{'method': 'gillespies', 'g_steps': 1, 'tau_steps': 0, 'use_corrector': True, 'corrector': 'birthdeath', 'c_stepsize': 0.1, 'c_steps': 1, 'nfe': 114.0, 'time_mean': 0.0017776177533949263, 'time_var': 0.00037283377251233496, 'time_skew': 0.04616140714645118, 'time_kurt': 0.39436607923567896, 'freq_mean': 0.0017776169622387233, 'freq_var': 0.004122443114590065, 'freq_skew': 0.679814939126591, 'freq_kurt': 7.686924475226159}\n"
     ]
    },
    {
     "name": "stderr",
     "output_type": "stream",
     "text": [
      "100%|██████████| 60/60 [00:04<00:00, 13.40it/s]\n"
     ]
    },
    {
     "name": "stdout",
     "output_type": "stream",
     "text": [
      "{'method': 'gillespies', 'g_steps': 1, 'tau_steps': 0, 'use_corrector': True, 'corrector': 'birthdeath', 'c_stepsize': 0.1, 'c_steps': 1, 'nfe': 114.0, 'time_mean': 0.001522650002514636, 'time_var': 0.00042874172104204276, 'time_skew': 0.035986363230470525, 'time_kurt': 0.28171776050905073, 'freq_mean': 0.0015226495201061407, 'freq_var': 0.0030485123592598217, 'freq_skew': 0.4487680967610545, 'freq_kurt': 4.395281495942862}\n"
     ]
    },
    {
     "name": "stderr",
     "output_type": "stream",
     "text": [
      "100%|██████████| 60/60 [00:04<00:00, 13.33it/s]\n"
     ]
    },
    {
     "name": "stdout",
     "output_type": "stream",
     "text": [
      "{'method': 'gillespies', 'g_steps': 1, 'tau_steps': 0, 'use_corrector': True, 'corrector': 'birthdeath', 'c_stepsize': 0.1, 'c_steps': 1, 'nfe': 114.0, 'time_mean': 0.0005801988086477134, 'time_var': 8.702798256336298e-05, 'time_skew': 0.020689912421240804, 'time_kurt': 0.07572412922461817, 'freq_mean': 0.000580198151187378, 'freq_var': 0.0016725768852394818, 'freq_skew': 0.5936873972337947, 'freq_kurt': 5.861253032793782}\n"
     ]
    },
    {
     "name": "stderr",
     "output_type": "stream",
     "text": [
      "100%|██████████| 60/60 [00:04<00:00, 13.36it/s]\n"
     ]
    },
    {
     "name": "stdout",
     "output_type": "stream",
     "text": [
      "{'method': 'gillespies', 'g_steps': 1, 'tau_steps': 0, 'use_corrector': True, 'corrector': 'birthdeath', 'c_stepsize': 0.1, 'c_steps': 1, 'nfe': 114.0, 'time_mean': 0.0006001252968561806, 'time_var': 0.00019984823958869513, 'time_skew': 0.018397372039500818, 'time_kurt': 0.18349286891494507, 'freq_mean': 0.0006001245026648272, 'freq_var': 0.002953175037649998, 'freq_skew': 0.46067348736244595, 'freq_kurt': 4.169092554960627}\n"
     ]
    },
    {
     "name": "stderr",
     "output_type": "stream",
     "text": [
      "100%|██████████| 60/60 [00:04<00:00, 13.11it/s]\n"
     ]
    },
    {
     "name": "stdout",
     "output_type": "stream",
     "text": [
      "{'method': 'gillespies', 'g_steps': 1, 'tau_steps': 0, 'use_corrector': True, 'corrector': 'birthdeath', 'c_stepsize': 0.1, 'c_steps': 1, 'nfe': 114.0, 'time_mean': 0.0006116721830360283, 'time_var': 9.785508185965872e-05, 'time_skew': 0.031195315239874993, 'time_kurt': 0.35299019659945136, 'freq_mean': 0.0006116716926517995, 'freq_var': 0.0023842254802292438, 'freq_skew': 0.38757845704024024, 'freq_kurt': 3.618110012468255}\n"
     ]
    },
    {
     "name": "stderr",
     "output_type": "stream",
     "text": [
      "100%|██████████| 60/60 [00:04<00:00, 13.39it/s]\n"
     ]
    },
    {
     "name": "stdout",
     "output_type": "stream",
     "text": [
      "{'method': 'gillespies', 'g_steps': 1, 'tau_steps': 0, 'use_corrector': True, 'corrector': 'birthdeath', 'c_stepsize': 0.1, 'c_steps': 1, 'nfe': 114.0, 'time_mean': 0.00029829450735961217, 'time_var': 0.00014225048926229297, 'time_skew': 0.013873275876424907, 'time_kurt': 0.1259548458859203, 'freq_mean': 0.00029829391671782756, 'freq_var': 0.0011619740614053898, 'freq_skew': 0.3646524243301056, 'freq_kurt': 4.8413230595049175}\n"
     ]
    },
    {
     "name": "stderr",
     "output_type": "stream",
     "text": [
      "100%|██████████| 60/60 [00:04<00:00, 13.38it/s]\n"
     ]
    },
    {
     "name": "stdout",
     "output_type": "stream",
     "text": [
      "{'method': 'gillespies', 'g_steps': 1, 'tau_steps': 0, 'use_corrector': True, 'corrector': 'birthdeath', 'c_stepsize': 0.1, 'c_steps': 1, 'nfe': 114.0, 'time_mean': 0.0015317251551063278, 'time_var': 0.00024143232658850472, 'time_skew': 0.02675970233360847, 'time_kurt': 0.2067150945051436, 'freq_mean': 0.0015317245913025776, 'freq_var': 0.0029863875813606285, 'freq_skew': 0.4406887369850934, 'freq_kurt': 4.450631316610154}\n"
     ]
    },
    {
     "name": "stderr",
     "output_type": "stream",
     "text": [
      "100%|██████████| 60/60 [00:04<00:00, 13.39it/s]\n"
     ]
    },
    {
     "name": "stdout",
     "output_type": "stream",
     "text": [
      "{'method': 'gillespies', 'g_steps': 1, 'tau_steps': 0, 'use_corrector': True, 'corrector': 'birthdeath', 'c_stepsize': 0.1, 'c_steps': 1, 'nfe': 114.0, 'time_mean': 0.0008123858539093128, 'time_var': 0.00010500658254895235, 'time_skew': 0.0202212554437627, 'time_kurt': 0.11458578399204292, 'freq_mean': 0.0008123853415633708, 'freq_var': 0.0018885958511222103, 'freq_skew': 0.5300645020776273, 'freq_kurt': 5.388482357483612}\n"
     ]
    },
    {
     "name": "stderr",
     "output_type": "stream",
     "text": [
      "100%|██████████| 60/60 [00:04<00:00, 13.37it/s]\n"
     ]
    },
    {
     "name": "stdout",
     "output_type": "stream",
     "text": [
      "{'method': 'gillespies', 'g_steps': 1, 'tau_steps': 0, 'use_corrector': True, 'corrector': 'birthdeath', 'c_stepsize': 0.1, 'c_steps': 1, 'nfe': 114.0, 'time_mean': 0.0010245713499933893, 'time_var': 0.00011072987350022148, 'time_skew': 0.03015642136780834, 'time_kurt': 0.29027629672165456, 'freq_mean': 0.001024570416822703, 'freq_var': 0.0032829015984325574, 'freq_skew': 0.42743273886155786, 'freq_kurt': 4.481782408422836}\n"
     ]
    },
    {
     "name": "stderr",
     "output_type": "stream",
     "text": [
      "100%|██████████| 60/60 [00:04<00:00, 13.37it/s]\n"
     ]
    },
    {
     "name": "stdout",
     "output_type": "stream",
     "text": [
      "{'method': 'gillespies', 'g_steps': 1, 'tau_steps': 0, 'use_corrector': True, 'corrector': 'birthdeath', 'c_stepsize': 0.1, 'c_steps': 1, 'nfe': 114.0, 'time_mean': 0.0015111268218826802, 'time_var': 0.00022296503577164204, 'time_skew': 0.039871085488830886, 'time_kurt': 0.21240917356527683, 'freq_mean': 0.0015111258546692606, 'freq_var': 0.0039041057011389, 'freq_skew': 0.5937905424026687, 'freq_kurt': 4.851660019043197}\n"
     ]
    },
    {
     "name": "stderr",
     "output_type": "stream",
     "text": [
      "100%|██████████| 60/60 [00:04<00:00, 13.39it/s]\n"
     ]
    },
    {
     "name": "stdout",
     "output_type": "stream",
     "text": [
      "{'method': 'gillespies', 'g_steps': 1, 'tau_steps': 0, 'use_corrector': True, 'corrector': 'birthdeath', 'c_stepsize': 0.1, 'c_steps': 1, 'nfe': 114.0, 'time_mean': 0.0014751668123893765, 'time_var': 0.00012810245297221237, 'time_skew': 0.023579068904535573, 'time_kurt': 0.17181441005887205, 'freq_mean': 0.001475165905801226, 'freq_var': 0.0029403088590057858, 'freq_skew': 0.6174257034774892, 'freq_kurt': 5.077867538995325}\n"
     ]
    },
    {
     "name": "stderr",
     "output_type": "stream",
     "text": [
      "100%|██████████| 60/60 [00:04<00:00, 13.28it/s]\n"
     ]
    },
    {
     "name": "stdout",
     "output_type": "stream",
     "text": [
      "{'method': 'gillespies', 'g_steps': 1, 'tau_steps': 0, 'use_corrector': True, 'corrector': 'birthdeath', 'c_stepsize': 0.1, 'c_steps': 1, 'nfe': 114.0, 'time_mean': 0.0016438248259349243, 'time_var': 0.00012717981097407993, 'time_skew': 0.03507016014582662, 'time_kurt': 0.17856079572506364, 'freq_mean': 0.0016438244818586063, 'freq_var': 0.0020349561720031553, 'freq_skew': 0.5227694485739164, 'freq_kurt': 5.847608130216171}\n"
     ]
    },
    {
     "name": "stderr",
     "output_type": "stream",
     "text": [
      "100%|██████████| 60/60 [00:05<00:00, 11.84it/s]\n"
     ]
    },
    {
     "name": "stdout",
     "output_type": "stream",
     "text": [
      "{'method': 'gillespies', 'g_steps': 1, 'tau_steps': 0, 'use_corrector': True, 'corrector': 'birthdeath', 'c_stepsize': 0.1, 'c_steps': 1, 'nfe': 114.0, 'time_mean': 0.0010369684621620262, 'time_var': 0.0002832955408943039, 'time_skew': 0.028624876050235892, 'time_kurt': 0.17170936267936732, 'freq_mean': 0.0010369685503773861, 'freq_var': 0.0026853761322218886, 'freq_skew': 0.43528865067220773, 'freq_kurt': 5.076482798381343}\n"
     ]
    },
    {
     "name": "stderr",
     "output_type": "stream",
     "text": [
      "100%|██████████| 60/60 [00:04<00:00, 13.39it/s]"
     ]
    },
    {
     "name": "stdout",
     "output_type": "stream",
     "text": [
      "{'method': 'gillespies', 'g_steps': 1, 'tau_steps': 0, 'use_corrector': True, 'corrector': 'birthdeath', 'c_stepsize': 0.1, 'c_steps': 1, 'nfe': 114.0, 'time_mean': 0.0010537501595343354, 'time_var': 0.00025454114772700706, 'time_skew': 0.026819835114584703, 'time_kurt': 0.151735867358184, 'freq_mean': 0.0010537496827893393, 'freq_var': 0.00209119167016313, 'freq_skew': 0.5301547732105341, 'freq_kurt': 4.101824386122763}\n",
      "Experiment results saved to  gene_results.csv\n"
     ]
    },
    {
     "name": "stderr",
     "output_type": "stream",
     "text": [
      "\n"
     ]
    }
   ],
   "source": [
    "results_file = 'gene_results.csv'\n",
    "\n",
    "num_repeats = 20\n",
    "sample_size = 500\n",
    "\n",
    "methods = [\"tauleaping\", \n",
    "           \"gillespies\"]\n",
    "\n",
    "updates_per_evals = [3, 2, 1]\n",
    "num_sample_steps = [20, 30, 60]\n",
    "\n",
    "correctors = [\"mpf\", \"barker\", \"birthdeath\"]\n",
    "corrector_stepsizes = [0.1, 0.1, 0.1]\n",
    "corrector_steps = 1\n",
    "\n",
    "# 1 corrector step\n",
    "c_steps = 1\n",
    "for method in methods:\n",
    "    for i in range(len(correctors)):\n",
    "        \n",
    "        corrector = correctors[i]\n",
    "        c_stepsize = corrector_stepsizes[i]\n",
    "        \n",
    "        for j in range(len(updates_per_evals)):\n",
    "        \n",
    "            g_steps = updates_per_evals[j]\n",
    "            tau_steps = num_sample_steps[j]\n",
    "            \n",
    "            run_experiments(num_repeats=num_repeats, \n",
    "                            sample_size=sample_size, \n",
    "                            results_file=results_file,\n",
    "                            method=method, \n",
    "                            g_steps=g_steps, \n",
    "                            tau_steps=tau_steps, \n",
    "                            c_steps=c_steps, \n",
    "                            c_stepsize=c_stepsize, \n",
    "                            corrector=corrector)"
   ]
  },
  {
   "cell_type": "code",
   "execution_count": 9,
   "id": "4d08b0b6",
   "metadata": {},
   "outputs": [
    {
     "name": "stderr",
     "output_type": "stream",
     "text": [
      "19it [00:01,  9.65it/s]\n"
     ]
    },
    {
     "name": "stdout",
     "output_type": "stream",
     "text": [
      "{'method': 'tauleaping', 'g_steps': 0, 'tau_steps': 20, 'use_corrector': True, 'corrector': 'mpf', 'c_stepsize': 0.1, 'c_steps': 2, 'nfe': 56.0, 'time_mean': 0.001009835578769906, 'time_var': 0.00011686038145943322, 'time_skew': 0.02917878574166684, 'time_kurt': 0.2544085870669534, 'freq_mean': 0.0010098358234793261, 'freq_var': 0.0010308633306742073, 'freq_skew': 0.3475818708638271, 'freq_kurt': 2.716082843609288}\n"
     ]
    },
    {
     "name": "stderr",
     "output_type": "stream",
     "text": [
      "19it [00:01,  9.65it/s]\n"
     ]
    },
    {
     "name": "stdout",
     "output_type": "stream",
     "text": [
      "{'method': 'tauleaping', 'g_steps': 0, 'tau_steps': 20, 'use_corrector': True, 'corrector': 'mpf', 'c_stepsize': 0.1, 'c_steps': 2, 'nfe': 56.0, 'time_mean': 0.0008104020288032581, 'time_var': 4.38077101274296e-05, 'time_skew': 0.022802815375744176, 'time_kurt': 0.15596773154138605, 'freq_mean': 0.000810402089226342, 'freq_var': 0.0007350986173563167, 'freq_skew': 0.2733815457264513, 'freq_kurt': 2.9165032073465604}\n"
     ]
    },
    {
     "name": "stderr",
     "output_type": "stream",
     "text": [
      "19it [00:01,  9.64it/s]\n"
     ]
    },
    {
     "name": "stdout",
     "output_type": "stream",
     "text": [
      "{'method': 'tauleaping', 'g_steps': 0, 'tau_steps': 20, 'use_corrector': True, 'corrector': 'mpf', 'c_stepsize': 0.1, 'c_steps': 2, 'nfe': 56.0, 'time_mean': 0.0017695577574637657, 'time_var': 0.00011510557924373778, 'time_skew': 0.029643937733685084, 'time_kurt': 0.18389547971714487, 'freq_mean': 0.001769557988453941, 'freq_var': 0.0016292483476210333, 'freq_skew': 0.2887900872095834, 'freq_kurt': 2.768461472700888}\n"
     ]
    },
    {
     "name": "stderr",
     "output_type": "stream",
     "text": [
      "19it [00:01,  9.66it/s]\n"
     ]
    },
    {
     "name": "stdout",
     "output_type": "stream",
     "text": [
      "{'method': 'tauleaping', 'g_steps': 0, 'tau_steps': 20, 'use_corrector': True, 'corrector': 'mpf', 'c_stepsize': 0.1, 'c_steps': 2, 'nfe': 56.0, 'time_mean': 0.0008573643517243705, 'time_var': 0.00012976231369906963, 'time_skew': 0.02451180188133076, 'time_kurt': 0.13245507796696276, 'freq_mean': 0.0008573642458782709, 'freq_var': 0.001238306158182034, 'freq_skew': 0.3379504047423018, 'freq_kurt': 2.1841924379949313}\n"
     ]
    },
    {
     "name": "stderr",
     "output_type": "stream",
     "text": [
      "19it [00:01,  9.66it/s]\n"
     ]
    },
    {
     "name": "stdout",
     "output_type": "stream",
     "text": [
      "{'method': 'tauleaping', 'g_steps': 0, 'tau_steps': 20, 'use_corrector': True, 'corrector': 'mpf', 'c_stepsize': 0.1, 'c_steps': 2, 'nfe': 56.0, 'time_mean': 0.0009742146472445038, 'time_var': 0.00017005154158740446, 'time_skew': 0.01954178617342537, 'time_kurt': 0.16066074225650467, 'freq_mean': 0.0009742150980235521, 'freq_var': 0.0011822427149876286, 'freq_skew': 0.3894156181109024, 'freq_kurt': 3.1072597836151115}\n"
     ]
    },
    {
     "name": "stderr",
     "output_type": "stream",
     "text": [
      "19it [00:01,  9.59it/s]\n"
     ]
    },
    {
     "name": "stdout",
     "output_type": "stream",
     "text": [
      "{'method': 'tauleaping', 'g_steps': 0, 'tau_steps': 20, 'use_corrector': True, 'corrector': 'mpf', 'c_stepsize': 0.1, 'c_steps': 2, 'nfe': 56.0, 'time_mean': 0.0004291447000468422, 'time_var': 6.59694012406356e-05, 'time_skew': 0.019506010440058726, 'time_kurt': 0.1237449037651776, 'freq_mean': 0.00042914478948029105, 'freq_var': 0.0006189988449603226, 'freq_skew': 0.3595370321927788, 'freq_kurt': 3.900924749004867}\n"
     ]
    },
    {
     "name": "stderr",
     "output_type": "stream",
     "text": [
      "19it [00:01,  9.66it/s]\n"
     ]
    },
    {
     "name": "stdout",
     "output_type": "stream",
     "text": [
      "{'method': 'tauleaping', 'g_steps': 0, 'tau_steps': 20, 'use_corrector': True, 'corrector': 'mpf', 'c_stepsize': 0.1, 'c_steps': 2, 'nfe': 56.0, 'time_mean': 0.0019127947674780752, 'time_var': 0.00021417000523246108, 'time_skew': 0.03211457299931044, 'time_kurt': 0.20265337386224563, 'freq_mean': 0.0019127945881810206, 'freq_var': 0.0022954915942428418, 'freq_skew': 0.3965566528476796, 'freq_kurt': 3.107968908077207}\n"
     ]
    },
    {
     "name": "stderr",
     "output_type": "stream",
     "text": [
      "19it [00:01,  9.64it/s]\n"
     ]
    },
    {
     "name": "stdout",
     "output_type": "stream",
     "text": [
      "{'method': 'tauleaping', 'g_steps': 0, 'tau_steps': 20, 'use_corrector': True, 'corrector': 'mpf', 'c_stepsize': 0.1, 'c_steps': 2, 'nfe': 56.0, 'time_mean': 0.0014093559503622203, 'time_var': 8.08956790591417e-05, 'time_skew': 0.021902089952666952, 'time_kurt': 0.11060825184059407, 'freq_mean': 0.0014093558843422465, 'freq_var': 0.0008369726138772719, 'freq_skew': 0.3336883115342874, 'freq_kurt': 3.3509948924413595}\n"
     ]
    },
    {
     "name": "stderr",
     "output_type": "stream",
     "text": [
      "19it [00:01,  9.66it/s]\n"
     ]
    },
    {
     "name": "stdout",
     "output_type": "stream",
     "text": [
      "{'method': 'tauleaping', 'g_steps': 0, 'tau_steps': 20, 'use_corrector': True, 'corrector': 'mpf', 'c_stepsize': 0.1, 'c_steps': 2, 'nfe': 56.0, 'time_mean': 0.0008538448773884027, 'time_var': 6.040491348290797e-05, 'time_skew': 0.030110560505393052, 'time_kurt': 0.3445865496291436, 'freq_mean': 0.0008538452142254488, 'freq_var': 0.0006341771397535058, 'freq_skew': 0.4011604513965586, 'freq_kurt': 3.8004851642319464}\n"
     ]
    },
    {
     "name": "stderr",
     "output_type": "stream",
     "text": [
      "19it [00:01,  9.65it/s]\n"
     ]
    },
    {
     "name": "stdout",
     "output_type": "stream",
     "text": [
      "{'method': 'tauleaping', 'g_steps': 0, 'tau_steps': 20, 'use_corrector': True, 'corrector': 'mpf', 'c_stepsize': 0.1, 'c_steps': 2, 'nfe': 56.0, 'time_mean': 0.000984495161309077, 'time_var': 8.245713943892146e-05, 'time_skew': 0.029423531188587572, 'time_kurt': 0.11574135740393793, 'freq_mean': 0.0009844960189947136, 'freq_var': 0.0007588027692093741, 'freq_skew': 0.2662110602448603, 'freq_kurt': 3.0214938848868655}\n"
     ]
    },
    {
     "name": "stderr",
     "output_type": "stream",
     "text": [
      "19it [00:01,  9.57it/s]\n"
     ]
    },
    {
     "name": "stdout",
     "output_type": "stream",
     "text": [
      "{'method': 'tauleaping', 'g_steps': 0, 'tau_steps': 20, 'use_corrector': True, 'corrector': 'mpf', 'c_stepsize': 0.1, 'c_steps': 2, 'nfe': 56.0, 'time_mean': 0.0010292884372587682, 'time_var': 0.0001760741237691948, 'time_skew': 0.030458279603628142, 'time_kurt': 0.25070585796873307, 'freq_mean': 0.0010292881587711544, 'freq_var': 0.0014527114634963123, 'freq_skew': 0.3053310875897238, 'freq_kurt': 3.0766707266672024}\n"
     ]
    },
    {
     "name": "stderr",
     "output_type": "stream",
     "text": [
      "19it [00:01,  9.65it/s]\n"
     ]
    },
    {
     "name": "stdout",
     "output_type": "stream",
     "text": [
      "{'method': 'tauleaping', 'g_steps': 0, 'tau_steps': 20, 'use_corrector': True, 'corrector': 'mpf', 'c_stepsize': 0.1, 'c_steps': 2, 'nfe': 56.0, 'time_mean': 0.0008725662660637452, 'time_var': 0.0001883470352745175, 'time_skew': 0.0268643302655802, 'time_kurt': 0.1718220573052223, 'freq_mean': 0.0008725662897708598, 'freq_var': 0.0010104379420092884, 'freq_skew': 0.30742143471606403, 'freq_kurt': 2.9690296311987416}\n"
     ]
    },
    {
     "name": "stderr",
     "output_type": "stream",
     "text": [
      "19it [00:01,  9.66it/s]\n"
     ]
    },
    {
     "name": "stdout",
     "output_type": "stream",
     "text": [
      "{'method': 'tauleaping', 'g_steps': 0, 'tau_steps': 20, 'use_corrector': True, 'corrector': 'mpf', 'c_stepsize': 0.1, 'c_steps': 2, 'nfe': 56.0, 'time_mean': 0.0015689226045551494, 'time_var': 6.900330312630711e-05, 'time_skew': 0.024557349566657012, 'time_kurt': 0.13185568395315309, 'freq_mean': 0.0015689229715227858, 'freq_var': 0.0005106883473340753, 'freq_skew': 0.22390804924485355, 'freq_kurt': 3.11978074245674}\n"
     ]
    },
    {
     "name": "stderr",
     "output_type": "stream",
     "text": [
      "19it [00:01,  9.66it/s]\n"
     ]
    },
    {
     "name": "stdout",
     "output_type": "stream",
     "text": [
      "{'method': 'tauleaping', 'g_steps': 0, 'tau_steps': 20, 'use_corrector': True, 'corrector': 'mpf', 'c_stepsize': 0.1, 'c_steps': 2, 'nfe': 56.0, 'time_mean': 0.0017753893983895217, 'time_var': 0.00012392071699608674, 'time_skew': 0.02886185001138599, 'time_kurt': 0.0912308350276875, 'freq_mean': 0.0017753902475242558, 'freq_var': 0.0013993915230651193, 'freq_skew': 0.37259406696234937, 'freq_kurt': 3.376374082846802}\n"
     ]
    },
    {
     "name": "stderr",
     "output_type": "stream",
     "text": [
      "19it [00:01,  9.66it/s]\n"
     ]
    },
    {
     "name": "stdout",
     "output_type": "stream",
     "text": [
      "{'method': 'tauleaping', 'g_steps': 0, 'tau_steps': 20, 'use_corrector': True, 'corrector': 'mpf', 'c_stepsize': 0.1, 'c_steps': 2, 'nfe': 56.0, 'time_mean': 0.002035920323266679, 'time_var': 9.97036814572241e-05, 'time_skew': 0.0331427824136992, 'time_kurt': 0.18772276656354053, 'freq_mean': 0.002035921208421236, 'freq_var': 0.0007922491982520356, 'freq_skew': 0.29247302500400335, 'freq_kurt': 3.2700092714001108}\n"
     ]
    },
    {
     "name": "stderr",
     "output_type": "stream",
     "text": [
      "19it [00:02,  9.43it/s]\n"
     ]
    },
    {
     "name": "stdout",
     "output_type": "stream",
     "text": [
      "{'method': 'tauleaping', 'g_steps': 0, 'tau_steps': 20, 'use_corrector': True, 'corrector': 'mpf', 'c_stepsize': 0.1, 'c_steps': 2, 'nfe': 56.0, 'time_mean': 0.0012496432617096936, 'time_var': 0.00013384229588064468, 'time_skew': 0.029535646761132225, 'time_kurt': 0.186641771265128, 'freq_mean': 0.0012496428331451015, 'freq_var': 0.0010839913549270303, 'freq_skew': 0.13916332843563248, 'freq_kurt': 3.168255062688107}\n"
     ]
    },
    {
     "name": "stderr",
     "output_type": "stream",
     "text": [
      "19it [00:01,  9.66it/s]\n"
     ]
    },
    {
     "name": "stdout",
     "output_type": "stream",
     "text": [
      "{'method': 'tauleaping', 'g_steps': 0, 'tau_steps': 20, 'use_corrector': True, 'corrector': 'mpf', 'c_stepsize': 0.1, 'c_steps': 2, 'nfe': 56.0, 'time_mean': 0.0018561342499815426, 'time_var': 0.00011414004480920508, 'time_skew': 0.03820400716832675, 'time_kurt': 0.27083808345560306, 'freq_mean': 0.001856134267132911, 'freq_var': 0.001104409903799262, 'freq_skew': 0.3020652171330436, 'freq_kurt': 3.3166975170390316}\n"
     ]
    },
    {
     "name": "stderr",
     "output_type": "stream",
     "text": [
      "19it [00:01,  9.66it/s]\n"
     ]
    },
    {
     "name": "stdout",
     "output_type": "stream",
     "text": [
      "{'method': 'tauleaping', 'g_steps': 0, 'tau_steps': 20, 'use_corrector': True, 'corrector': 'mpf', 'c_stepsize': 0.1, 'c_steps': 2, 'nfe': 56.0, 'time_mean': 0.0011031481749607095, 'time_var': 8.709214142174751e-05, 'time_skew': 0.021118524221697507, 'time_kurt': 0.10496189390624602, 'freq_mean': 0.0011031481707127803, 'freq_var': 0.001316238174326435, 'freq_skew': 0.3319274379823752, 'freq_kurt': 2.6102204366239317}\n"
     ]
    },
    {
     "name": "stderr",
     "output_type": "stream",
     "text": [
      "19it [00:01,  9.66it/s]\n"
     ]
    },
    {
     "name": "stdout",
     "output_type": "stream",
     "text": [
      "{'method': 'tauleaping', 'g_steps': 0, 'tau_steps': 20, 'use_corrector': True, 'corrector': 'mpf', 'c_stepsize': 0.1, 'c_steps': 2, 'nfe': 56.0, 'time_mean': 0.001418544611196637, 'time_var': 9.759281265066845e-05, 'time_skew': 0.033763332485353556, 'time_kurt': 0.21112902165846442, 'freq_mean': 0.0014185448407954525, 'freq_var': 0.0004873979945084512, 'freq_skew': 0.254977248226928, 'freq_kurt': 3.278340505620455}\n"
     ]
    },
    {
     "name": "stderr",
     "output_type": "stream",
     "text": [
      "19it [00:01,  9.66it/s]\n"
     ]
    },
    {
     "name": "stdout",
     "output_type": "stream",
     "text": [
      "{'method': 'tauleaping', 'g_steps': 0, 'tau_steps': 20, 'use_corrector': True, 'corrector': 'mpf', 'c_stepsize': 0.1, 'c_steps': 2, 'nfe': 56.0, 'time_mean': 0.0010175256883537584, 'time_var': 0.00018798289577270992, 'time_skew': 0.031055280020326967, 'time_kurt': 0.0946192272112119, 'freq_mean': 0.0010175255972555428, 'freq_var': 0.0009286866572073458, 'freq_skew': 0.28466389433445805, 'freq_kurt': 4.885847711703061}\n",
      "Experiment results saved to  gene_results.csv\n"
     ]
    },
    {
     "name": "stderr",
     "output_type": "stream",
     "text": [
      "29it [00:03,  9.11it/s]\n"
     ]
    },
    {
     "name": "stdout",
     "output_type": "stream",
     "text": [
      "{'method': 'tauleaping', 'g_steps': 0, 'tau_steps': 30, 'use_corrector': True, 'corrector': 'mpf', 'c_stepsize': 0.1, 'c_steps': 2, 'nfe': 84.0, 'time_mean': 0.0008979202952544355, 'time_var': 0.00022548503776922995, 'time_skew': 0.03017548097261515, 'time_kurt': 0.36391170929317135, 'freq_mean': 0.0008979202985783836, 'freq_var': 0.0007297196669839182, 'freq_skew': 0.29270684535633384, 'freq_kurt': 3.469966364695411}\n"
     ]
    },
    {
     "name": "stderr",
     "output_type": "stream",
     "text": [
      "29it [00:03,  9.51it/s]\n"
     ]
    },
    {
     "name": "stdout",
     "output_type": "stream",
     "text": [
      "{'method': 'tauleaping', 'g_steps': 0, 'tau_steps': 30, 'use_corrector': True, 'corrector': 'mpf', 'c_stepsize': 0.1, 'c_steps': 2, 'nfe': 84.0, 'time_mean': 0.0014509753449338137, 'time_var': 0.00012676751339911254, 'time_skew': 0.05772729726160454, 'time_kurt': 0.19125578596587545, 'freq_mean': 0.0014509757394397971, 'freq_var': 0.0015729458175899923, 'freq_skew': 0.5100270724093521, 'freq_kurt': 4.220229730414835}\n"
     ]
    },
    {
     "name": "stderr",
     "output_type": "stream",
     "text": [
      "29it [00:03,  9.51it/s]\n"
     ]
    },
    {
     "name": "stdout",
     "output_type": "stream",
     "text": [
      "{'method': 'tauleaping', 'g_steps': 0, 'tau_steps': 30, 'use_corrector': True, 'corrector': 'mpf', 'c_stepsize': 0.1, 'c_steps': 2, 'nfe': 84.0, 'time_mean': 0.0011531448750193457, 'time_var': 0.0001334478216725455, 'time_skew': 0.04640691277723688, 'time_kurt': 0.29616264006649634, 'freq_mean': 0.001153144965832764, 'freq_var': 0.0012159619291835292, 'freq_skew': 0.4740543526598336, 'freq_kurt': 3.8846345807542075}\n"
     ]
    },
    {
     "name": "stderr",
     "output_type": "stream",
     "text": [
      "29it [00:03,  9.47it/s]\n"
     ]
    },
    {
     "name": "stdout",
     "output_type": "stream",
     "text": [
      "{'method': 'tauleaping', 'g_steps': 0, 'tau_steps': 30, 'use_corrector': True, 'corrector': 'mpf', 'c_stepsize': 0.1, 'c_steps': 2, 'nfe': 84.0, 'time_mean': 0.001122112101574934, 'time_var': 8.985556655689989e-05, 'time_skew': 0.02874566126351611, 'time_kurt': 0.17818479817137262, 'freq_mean': 0.0011221123532733869, 'freq_var': 0.0006113431590385731, 'freq_skew': 0.3297245640543741, 'freq_kurt': 3.683996366049415}\n"
     ]
    },
    {
     "name": "stderr",
     "output_type": "stream",
     "text": [
      "29it [00:03,  9.29it/s]\n"
     ]
    },
    {
     "name": "stdout",
     "output_type": "stream",
     "text": [
      "{'method': 'tauleaping', 'g_steps': 0, 'tau_steps': 30, 'use_corrector': True, 'corrector': 'mpf', 'c_stepsize': 0.1, 'c_steps': 2, 'nfe': 84.0, 'time_mean': 0.0011385557291428174, 'time_var': 0.00031633537276580764, 'time_skew': 0.038447645489080744, 'time_kurt': 0.28932559548131886, 'freq_mean': 0.001138555784409498, 'freq_var': 0.0011159998466572303, 'freq_skew': 0.3060519887957908, 'freq_kurt': 2.2738767080685}\n"
     ]
    },
    {
     "name": "stderr",
     "output_type": "stream",
     "text": [
      "29it [00:03,  9.51it/s]\n"
     ]
    },
    {
     "name": "stdout",
     "output_type": "stream",
     "text": [
      "{'method': 'tauleaping', 'g_steps': 0, 'tau_steps': 30, 'use_corrector': True, 'corrector': 'mpf', 'c_stepsize': 0.1, 'c_steps': 2, 'nfe': 84.0, 'time_mean': 0.0016073726956027498, 'time_var': 0.0002343114498803034, 'time_skew': 0.0497415299040156, 'time_kurt': 0.3535134115953516, 'freq_mean': 0.0016073733188745405, 'freq_var': 0.0012422242203797853, 'freq_skew': 0.2624295748107526, 'freq_kurt': 2.2257929052054495}\n"
     ]
    },
    {
     "name": "stderr",
     "output_type": "stream",
     "text": [
      "29it [00:03,  9.51it/s]\n"
     ]
    },
    {
     "name": "stdout",
     "output_type": "stream",
     "text": [
      "{'method': 'tauleaping', 'g_steps': 0, 'tau_steps': 30, 'use_corrector': True, 'corrector': 'mpf', 'c_stepsize': 0.1, 'c_steps': 2, 'nfe': 84.0, 'time_mean': 0.0009003004199817621, 'time_var': 0.00010522125520292559, 'time_skew': 0.03169143316217836, 'time_kurt': 0.15069272577506412, 'freq_mean': 0.0009003006725228866, 'freq_var': 0.0008655334657706823, 'freq_skew': 0.46427857263194233, 'freq_kurt': 4.191220404303477}\n"
     ]
    },
    {
     "name": "stderr",
     "output_type": "stream",
     "text": [
      "29it [00:03,  9.50it/s]\n"
     ]
    },
    {
     "name": "stdout",
     "output_type": "stream",
     "text": [
      "{'method': 'tauleaping', 'g_steps': 0, 'tau_steps': 30, 'use_corrector': True, 'corrector': 'mpf', 'c_stepsize': 0.1, 'c_steps': 2, 'nfe': 84.0, 'time_mean': 0.002604560983340324, 'time_var': 0.00022149832098477767, 'time_skew': 0.057022935440834574, 'time_kurt': 0.4643787859446859, 'freq_mean': 0.0026045612630757604, 'freq_var': 0.0017083739715222854, 'freq_skew': 0.28818389956272517, 'freq_kurt': 2.8026492835322414}\n"
     ]
    },
    {
     "name": "stderr",
     "output_type": "stream",
     "text": [
      "29it [00:03,  9.52it/s]\n"
     ]
    },
    {
     "name": "stdout",
     "output_type": "stream",
     "text": [
      "{'method': 'tauleaping', 'g_steps': 0, 'tau_steps': 30, 'use_corrector': True, 'corrector': 'mpf', 'c_stepsize': 0.1, 'c_steps': 2, 'nfe': 84.0, 'time_mean': 0.0013936712688699016, 'time_var': 0.00018179572555099716, 'time_skew': 0.03946178230571017, 'time_kurt': 0.20824811235364796, 'freq_mean': 0.0013936716089423692, 'freq_var': 0.0008976731704367319, 'freq_skew': 0.2148701998502339, 'freq_kurt': 3.6283608492904054}\n"
     ]
    },
    {
     "name": "stderr",
     "output_type": "stream",
     "text": [
      "29it [00:03,  9.50it/s]\n"
     ]
    },
    {
     "name": "stdout",
     "output_type": "stream",
     "text": [
      "{'method': 'tauleaping', 'g_steps': 0, 'tau_steps': 30, 'use_corrector': True, 'corrector': 'mpf', 'c_stepsize': 0.1, 'c_steps': 2, 'nfe': 84.0, 'time_mean': 0.0008657176653572806, 'time_var': 0.00011397371749701628, 'time_skew': 0.035738356715543866, 'time_kurt': 0.2579222233780144, 'freq_mean': 0.0008657177147963073, 'freq_var': 0.0008722642867676145, 'freq_skew': 0.30195414898954476, 'freq_kurt': 2.649085567907127}\n"
     ]
    },
    {
     "name": "stderr",
     "output_type": "stream",
     "text": [
      "29it [00:03,  9.51it/s]\n"
     ]
    },
    {
     "name": "stdout",
     "output_type": "stream",
     "text": [
      "{'method': 'tauleaping', 'g_steps': 0, 'tau_steps': 30, 'use_corrector': True, 'corrector': 'mpf', 'c_stepsize': 0.1, 'c_steps': 2, 'nfe': 84.0, 'time_mean': 0.0012163245826589091, 'time_var': 7.747471939866108e-05, 'time_skew': 0.03792470573620565, 'time_kurt': 0.12884080960402622, 'freq_mean': 0.001216324775374928, 'freq_var': 0.0007644878015106743, 'freq_skew': 0.3657677456895329, 'freq_kurt': 2.7097810639779665}\n"
     ]
    },
    {
     "name": "stderr",
     "output_type": "stream",
     "text": [
      "29it [00:03,  9.52it/s]\n"
     ]
    },
    {
     "name": "stdout",
     "output_type": "stream",
     "text": [
      "{'method': 'tauleaping', 'g_steps': 0, 'tau_steps': 30, 'use_corrector': True, 'corrector': 'mpf', 'c_stepsize': 0.1, 'c_steps': 2, 'nfe': 84.0, 'time_mean': 0.0013220109083264423, 'time_var': 7.924710142097264e-05, 'time_skew': 0.03151669214768235, 'time_kurt': 0.350006018601858, 'freq_mean': 0.0013220114370837606, 'freq_var': 0.0007288223306297029, 'freq_skew': 0.27707713386986327, 'freq_kurt': 3.258549203246444}\n"
     ]
    },
    {
     "name": "stderr",
     "output_type": "stream",
     "text": [
      "29it [00:03,  9.07it/s]\n"
     ]
    },
    {
     "name": "stdout",
     "output_type": "stream",
     "text": [
      "{'method': 'tauleaping', 'g_steps': 0, 'tau_steps': 30, 'use_corrector': True, 'corrector': 'mpf', 'c_stepsize': 0.1, 'c_steps': 2, 'nfe': 84.0, 'time_mean': 0.0008792935825717106, 'time_var': 0.00014076352122424423, 'time_skew': 0.03228916412271697, 'time_kurt': 0.28597295238300047, 'freq_mean': 0.0008792939582903211, 'freq_var': 0.0011483022260420676, 'freq_skew': 0.29373967105498267, 'freq_kurt': 3.034416340645141}\n"
     ]
    },
    {
     "name": "stderr",
     "output_type": "stream",
     "text": [
      "29it [00:03,  9.52it/s]\n"
     ]
    },
    {
     "name": "stdout",
     "output_type": "stream",
     "text": [
      "{'method': 'tauleaping', 'g_steps': 0, 'tau_steps': 30, 'use_corrector': True, 'corrector': 'mpf', 'c_stepsize': 0.1, 'c_steps': 2, 'nfe': 84.0, 'time_mean': 0.0010084108336142182, 'time_var': 0.00011399156673886923, 'time_skew': 0.03891826994732881, 'time_kurt': 0.2852272693793119, 'freq_mean': 0.0010084111980689558, 'freq_var': 0.0008730229454812278, 'freq_skew': 0.25410734512280686, 'freq_kurt': 2.088109503915346}\n"
     ]
    },
    {
     "name": "stderr",
     "output_type": "stream",
     "text": [
      "29it [00:03,  9.51it/s]\n"
     ]
    },
    {
     "name": "stdout",
     "output_type": "stream",
     "text": [
      "{'method': 'tauleaping', 'g_steps': 0, 'tau_steps': 30, 'use_corrector': True, 'corrector': 'mpf', 'c_stepsize': 0.1, 'c_steps': 2, 'nfe': 84.0, 'time_mean': 0.001342715975908904, 'time_var': 0.00014389032510533667, 'time_skew': 0.03769330632007025, 'time_kurt': 0.3398633243179586, 'freq_mean': 0.0013427168063743235, 'freq_var': 0.001100468950214753, 'freq_skew': 0.27739650686811995, 'freq_kurt': 2.4869872600667753}\n"
     ]
    },
    {
     "name": "stderr",
     "output_type": "stream",
     "text": [
      "29it [00:03,  9.52it/s]\n"
     ]
    },
    {
     "name": "stdout",
     "output_type": "stream",
     "text": [
      "{'method': 'tauleaping', 'g_steps': 0, 'tau_steps': 30, 'use_corrector': True, 'corrector': 'mpf', 'c_stepsize': 0.1, 'c_steps': 2, 'nfe': 84.0, 'time_mean': 0.001213727775883233, 'time_var': 0.00013999410017495546, 'time_skew': 0.037729227348225855, 'time_kurt': 0.38049182755221594, 'freq_mean': 0.0012137278095458197, 'freq_var': 0.0017465382252035942, 'freq_skew': 0.3758487904894792, 'freq_kurt': 2.546499879710406}\n"
     ]
    },
    {
     "name": "stderr",
     "output_type": "stream",
     "text": [
      "29it [00:03,  9.51it/s]\n"
     ]
    },
    {
     "name": "stdout",
     "output_type": "stream",
     "text": [
      "{'method': 'tauleaping', 'g_steps': 0, 'tau_steps': 30, 'use_corrector': True, 'corrector': 'mpf', 'c_stepsize': 0.1, 'c_steps': 2, 'nfe': 84.0, 'time_mean': 0.0017170186153119991, 'time_var': 0.00019724895332941833, 'time_skew': 0.052760287036407, 'time_kurt': 0.5881470935490826, 'freq_mean': 0.0017170185869739179, 'freq_var': 0.0019262241580272487, 'freq_skew': 0.44463257011709206, 'freq_kurt': 2.6293402233354395}\n"
     ]
    },
    {
     "name": "stderr",
     "output_type": "stream",
     "text": [
      "29it [00:03,  9.52it/s]\n"
     ]
    },
    {
     "name": "stdout",
     "output_type": "stream",
     "text": [
      "{'method': 'tauleaping', 'g_steps': 0, 'tau_steps': 30, 'use_corrector': True, 'corrector': 'mpf', 'c_stepsize': 0.1, 'c_steps': 2, 'nfe': 84.0, 'time_mean': 0.0007104094388717417, 'time_var': 0.00019667359997048108, 'time_skew': 0.03201732936340698, 'time_kurt': 0.15317246213960875, 'freq_mean': 0.0007104093577261279, 'freq_var': 0.001803935586255162, 'freq_skew': 0.43064366159367357, 'freq_kurt': 3.681202816314013}\n"
     ]
    },
    {
     "name": "stderr",
     "output_type": "stream",
     "text": [
      "29it [00:03,  9.51it/s]\n"
     ]
    },
    {
     "name": "stdout",
     "output_type": "stream",
     "text": [
      "{'method': 'tauleaping', 'g_steps': 0, 'tau_steps': 30, 'use_corrector': True, 'corrector': 'mpf', 'c_stepsize': 0.1, 'c_steps': 2, 'nfe': 84.0, 'time_mean': 0.0009792276046013484, 'time_var': 0.00017982660477021888, 'time_skew': 0.038673039048912616, 'time_kurt': 0.3186819583786536, 'freq_mean': 0.0009792279157022328, 'freq_var': 0.0013681558729270503, 'freq_skew': 0.36348720618271135, 'freq_kurt': 2.8945021429575517}\n"
     ]
    },
    {
     "name": "stderr",
     "output_type": "stream",
     "text": [
      "29it [00:03,  9.31it/s]\n"
     ]
    },
    {
     "name": "stdout",
     "output_type": "stream",
     "text": [
      "{'method': 'tauleaping', 'g_steps': 0, 'tau_steps': 30, 'use_corrector': True, 'corrector': 'mpf', 'c_stepsize': 0.1, 'c_steps': 2, 'nfe': 84.0, 'time_mean': 0.0016467877422521279, 'time_var': 0.00011467011827355894, 'time_skew': 0.039426231410971325, 'time_kurt': 0.25218422384441536, 'freq_mean': 0.0016467886207435704, 'freq_var': 0.0013613266703009891, 'freq_skew': 0.24899177167837208, 'freq_kurt': 2.1677567454493523}\n",
      "Experiment results saved to  gene_results.csv\n"
     ]
    },
    {
     "name": "stderr",
     "output_type": "stream",
     "text": [
      "59it [00:06,  9.38it/s]\n"
     ]
    },
    {
     "name": "stdout",
     "output_type": "stream",
     "text": [
      "{'method': 'tauleaping', 'g_steps': 0, 'tau_steps': 60, 'use_corrector': True, 'corrector': 'mpf', 'c_stepsize': 0.1, 'c_steps': 2, 'nfe': 168.0, 'time_mean': 0.002002783451727007, 'time_var': 0.00027429584910868205, 'time_skew': 0.05875092164124607, 'time_kurt': 0.28823749002698945, 'freq_mean': 0.002002783668889754, 'freq_var': 0.0021272780177103703, 'freq_skew': 0.4651955391677631, 'freq_kurt': 4.300400892910224}\n"
     ]
    },
    {
     "name": "stderr",
     "output_type": "stream",
     "text": [
      "59it [00:06,  9.38it/s]\n"
     ]
    },
    {
     "name": "stdout",
     "output_type": "stream",
     "text": [
      "{'method': 'tauleaping', 'g_steps': 0, 'tau_steps': 60, 'use_corrector': True, 'corrector': 'mpf', 'c_stepsize': 0.1, 'c_steps': 2, 'nfe': 168.0, 'time_mean': 0.0012381942953113006, 'time_var': 0.00021113004676000434, 'time_skew': 0.037723768897157485, 'time_kurt': 0.2966583446555389, 'freq_mean': 0.0012381942708588132, 'freq_var': 0.000799864323479188, 'freq_skew': 0.30361944625188075, 'freq_kurt': 3.599450987972288}\n"
     ]
    },
    {
     "name": "stderr",
     "output_type": "stream",
     "text": [
      "59it [00:06,  9.38it/s]\n"
     ]
    },
    {
     "name": "stdout",
     "output_type": "stream",
     "text": [
      "{'method': 'tauleaping', 'g_steps': 0, 'tau_steps': 60, 'use_corrector': True, 'corrector': 'mpf', 'c_stepsize': 0.1, 'c_steps': 2, 'nfe': 168.0, 'time_mean': 0.0015650545554122294, 'time_var': 0.0002912109779877049, 'time_skew': 0.04877438435394568, 'time_kurt': 0.35443786125845966, 'freq_mean': 0.0015650548828300473, 'freq_var': 0.002059104929976899, 'freq_skew': 0.378371675069004, 'freq_kurt': 3.872277523504401}\n"
     ]
    },
    {
     "name": "stderr",
     "output_type": "stream",
     "text": [
      "59it [00:06,  9.30it/s]\n"
     ]
    },
    {
     "name": "stdout",
     "output_type": "stream",
     "text": [
      "{'method': 'tauleaping', 'g_steps': 0, 'tau_steps': 60, 'use_corrector': True, 'corrector': 'mpf', 'c_stepsize': 0.1, 'c_steps': 2, 'nfe': 168.0, 'time_mean': 0.001081707900354494, 'time_var': 0.00016143192134459067, 'time_skew': 0.031228296644576374, 'time_kurt': 0.3164040289853265, 'freq_mean': 0.0010817078822580246, 'freq_var': 0.0012127972131409522, 'freq_skew': 0.2845817761650074, 'freq_kurt': 2.3309347279421218}\n"
     ]
    },
    {
     "name": "stderr",
     "output_type": "stream",
     "text": [
      "59it [00:06,  9.37it/s]\n"
     ]
    },
    {
     "name": "stdout",
     "output_type": "stream",
     "text": [
      "{'method': 'tauleaping', 'g_steps': 0, 'tau_steps': 60, 'use_corrector': True, 'corrector': 'mpf', 'c_stepsize': 0.1, 'c_steps': 2, 'nfe': 168.0, 'time_mean': 0.002011144038756854, 'time_var': 7.412160802882491e-05, 'time_skew': 0.0540875836661616, 'time_kurt': 0.45156138734006246, 'freq_mean': 0.0020111438052824544, 'freq_var': 0.0007866867256974564, 'freq_skew': 0.17867765261795596, 'freq_kurt': 5.42321106533621}\n"
     ]
    },
    {
     "name": "stderr",
     "output_type": "stream",
     "text": [
      "59it [00:06,  9.38it/s]\n"
     ]
    },
    {
     "name": "stdout",
     "output_type": "stream",
     "text": [
      "{'method': 'tauleaping', 'g_steps': 0, 'tau_steps': 60, 'use_corrector': True, 'corrector': 'mpf', 'c_stepsize': 0.1, 'c_steps': 2, 'nfe': 168.0, 'time_mean': 0.0018803394875491425, 'time_var': 0.0003275109607494806, 'time_skew': 0.046621965919431047, 'time_kurt': 0.3510496342463939, 'freq_mean': 0.0018803395551700134, 'freq_var': 0.0011152544737824575, 'freq_skew': 0.39862395850942556, 'freq_kurt': 3.2517651327434347}\n"
     ]
    },
    {
     "name": "stderr",
     "output_type": "stream",
     "text": [
      "59it [00:06,  9.38it/s]\n"
     ]
    },
    {
     "name": "stdout",
     "output_type": "stream",
     "text": [
      "{'method': 'tauleaping', 'g_steps': 0, 'tau_steps': 60, 'use_corrector': True, 'corrector': 'mpf', 'c_stepsize': 0.1, 'c_steps': 2, 'nfe': 168.0, 'time_mean': 0.0029744249500260164, 'time_var': 0.00033994891801109067, 'time_skew': 0.07151560013877102, 'time_kurt': 0.34742862417028486, 'freq_mean': 0.002974425296548982, 'freq_var': 0.0023895804705711646, 'freq_skew': 0.5355289384185001, 'freq_kurt': 4.60363043776247}\n"
     ]
    },
    {
     "name": "stderr",
     "output_type": "stream",
     "text": [
      "59it [00:06,  9.38it/s]\n"
     ]
    },
    {
     "name": "stdout",
     "output_type": "stream",
     "text": [
      "{'method': 'tauleaping', 'g_steps': 0, 'tau_steps': 60, 'use_corrector': True, 'corrector': 'mpf', 'c_stepsize': 0.1, 'c_steps': 2, 'nfe': 168.0, 'time_mean': 0.0029329198616996613, 'time_var': 0.0003144528940029762, 'time_skew': 0.08396624966379636, 'time_kurt': 0.2709860201223158, 'freq_mean': 0.0029329196646896, 'freq_var': 0.0030600921455426595, 'freq_skew': 0.574656229303273, 'freq_kurt': 6.567786483807612}\n"
     ]
    },
    {
     "name": "stderr",
     "output_type": "stream",
     "text": [
      "59it [00:06,  9.38it/s]\n"
     ]
    },
    {
     "name": "stdout",
     "output_type": "stream",
     "text": [
      "{'method': 'tauleaping', 'g_steps': 0, 'tau_steps': 60, 'use_corrector': True, 'corrector': 'mpf', 'c_stepsize': 0.1, 'c_steps': 2, 'nfe': 168.0, 'time_mean': 0.0014360814595638647, 'time_var': 0.00013632851164140404, 'time_skew': 0.038010202287158366, 'time_kurt': 0.2183199280960891, 'freq_mean': 0.0014360815361934432, 'freq_var': 0.0008836730655225754, 'freq_skew': 0.24685491040911275, 'freq_kurt': 2.6238771522908637}\n"
     ]
    },
    {
     "name": "stderr",
     "output_type": "stream",
     "text": [
      "59it [00:06,  9.36it/s]\n"
     ]
    },
    {
     "name": "stdout",
     "output_type": "stream",
     "text": [
      "{'method': 'tauleaping', 'g_steps': 0, 'tau_steps': 60, 'use_corrector': True, 'corrector': 'mpf', 'c_stepsize': 0.1, 'c_steps': 2, 'nfe': 168.0, 'time_mean': 0.0018599647077237153, 'time_var': 0.0001350051995665358, 'time_skew': 0.05471658304728235, 'time_kurt': 0.5097150864536009, 'freq_mean': 0.0018599647099342316, 'freq_var': 0.0009284584253892484, 'freq_skew': 0.35203888897686025, 'freq_kurt': 2.7772803229512975}\n"
     ]
    },
    {
     "name": "stderr",
     "output_type": "stream",
     "text": [
      "59it [00:06,  9.37it/s]\n"
     ]
    },
    {
     "name": "stdout",
     "output_type": "stream",
     "text": [
      "{'method': 'tauleaping', 'g_steps': 0, 'tau_steps': 60, 'use_corrector': True, 'corrector': 'mpf', 'c_stepsize': 0.1, 'c_steps': 2, 'nfe': 168.0, 'time_mean': 0.0013042807666943982, 'time_var': 0.0002692747198059453, 'time_skew': 0.05212888434053816, 'time_kurt': 0.41510509108259813, 'freq_mean': 0.001304280536727163, 'freq_var': 0.0009976964857800253, 'freq_skew': 0.3040829566030288, 'freq_kurt': 2.4425217624107507}\n"
     ]
    },
    {
     "name": "stderr",
     "output_type": "stream",
     "text": [
      "59it [00:06,  9.38it/s]\n"
     ]
    },
    {
     "name": "stdout",
     "output_type": "stream",
     "text": [
      "{'method': 'tauleaping', 'g_steps': 0, 'tau_steps': 60, 'use_corrector': True, 'corrector': 'mpf', 'c_stepsize': 0.1, 'c_steps': 2, 'nfe': 168.0, 'time_mean': 0.0019619957250170948, 'time_var': 0.0003459027558702301, 'time_skew': 0.041469073237480676, 'time_kurt': 0.4881837252367562, 'freq_mean': 0.001961995345098419, 'freq_var': 0.002174262628302777, 'freq_skew': 0.22767159728413236, 'freq_kurt': 3.0365377794015185}\n"
     ]
    },
    {
     "name": "stderr",
     "output_type": "stream",
     "text": [
      "59it [00:06,  9.36it/s]\n"
     ]
    },
    {
     "name": "stdout",
     "output_type": "stream",
     "text": [
      "{'method': 'tauleaping', 'g_steps': 0, 'tau_steps': 60, 'use_corrector': True, 'corrector': 'mpf', 'c_stepsize': 0.1, 'c_steps': 2, 'nfe': 168.0, 'time_mean': 0.0016820225014782036, 'time_var': 0.00022008652953624087, 'time_skew': 0.055228566121869056, 'time_kurt': 0.5510913065085249, 'freq_mean': 0.0016820231104946138, 'freq_var': 0.0014600051691815378, 'freq_skew': 0.31936504417652156, 'freq_kurt': 3.202679082464937}\n"
     ]
    },
    {
     "name": "stderr",
     "output_type": "stream",
     "text": [
      "59it [00:06,  9.36it/s]\n"
     ]
    },
    {
     "name": "stdout",
     "output_type": "stream",
     "text": [
      "{'method': 'tauleaping', 'g_steps': 0, 'tau_steps': 60, 'use_corrector': True, 'corrector': 'mpf', 'c_stepsize': 0.1, 'c_steps': 2, 'nfe': 168.0, 'time_mean': 0.0017317594243070613, 'time_var': 0.000218868998413737, 'time_skew': 0.05490795008330311, 'time_kurt': 0.43429824564572306, 'freq_mean': 0.0017317594967447751, 'freq_var': 0.001291651068067139, 'freq_skew': 0.32055341874474064, 'freq_kurt': 2.7601787669229894}\n"
     ]
    },
    {
     "name": "stderr",
     "output_type": "stream",
     "text": [
      "59it [00:06,  9.38it/s]\n"
     ]
    },
    {
     "name": "stdout",
     "output_type": "stream",
     "text": [
      "{'method': 'tauleaping', 'g_steps': 0, 'tau_steps': 60, 'use_corrector': True, 'corrector': 'mpf', 'c_stepsize': 0.1, 'c_steps': 2, 'nfe': 168.0, 'time_mean': 0.003322951151924291, 'time_var': 0.00024287215860613275, 'time_skew': 0.07637982242611031, 'time_kurt': 0.6962973040482566, 'freq_mean': 0.0033229510488857403, 'freq_var': 0.002388859527488363, 'freq_skew': 0.2566614964046062, 'freq_kurt': 2.8498696587425636}\n"
     ]
    },
    {
     "name": "stderr",
     "output_type": "stream",
     "text": [
      "59it [00:06,  9.38it/s]\n"
     ]
    },
    {
     "name": "stdout",
     "output_type": "stream",
     "text": [
      "{'method': 'tauleaping', 'g_steps': 0, 'tau_steps': 60, 'use_corrector': True, 'corrector': 'mpf', 'c_stepsize': 0.1, 'c_steps': 2, 'nfe': 168.0, 'time_mean': 0.0011496239021443098, 'time_var': 7.099576581917918e-05, 'time_skew': 0.04477682312606817, 'time_kurt': 0.42450424368481, 'freq_mean': 0.0011496237113308569, 'freq_var': 0.0004716691879831403, 'freq_skew': 0.29678227101250026, 'freq_kurt': 3.1926211500624357}\n"
     ]
    },
    {
     "name": "stderr",
     "output_type": "stream",
     "text": [
      "59it [00:06,  9.38it/s]\n"
     ]
    },
    {
     "name": "stdout",
     "output_type": "stream",
     "text": [
      "{'method': 'tauleaping', 'g_steps': 0, 'tau_steps': 60, 'use_corrector': True, 'corrector': 'mpf', 'c_stepsize': 0.1, 'c_steps': 2, 'nfe': 168.0, 'time_mean': 0.0006183760650732965, 'time_var': 9.767530668432423e-05, 'time_skew': 0.032749822777629514, 'time_kurt': 0.23192056317172685, 'freq_mean': 0.0006183764846412998, 'freq_var': 0.00034446045386856864, 'freq_skew': 0.24509721358316322, 'freq_kurt': 2.0424164690583213}\n"
     ]
    },
    {
     "name": "stderr",
     "output_type": "stream",
     "text": [
      "59it [00:06,  9.38it/s]\n"
     ]
    },
    {
     "name": "stdout",
     "output_type": "stream",
     "text": [
      "{'method': 'tauleaping', 'g_steps': 0, 'tau_steps': 60, 'use_corrector': True, 'corrector': 'mpf', 'c_stepsize': 0.1, 'c_steps': 2, 'nfe': 168.0, 'time_mean': 0.0018490895660472826, 'time_var': 0.00012764011969331702, 'time_skew': 0.053972588424638125, 'time_kurt': 0.5424417284975285, 'freq_mean': 0.0018490889121416665, 'freq_var': 0.0007953611988897427, 'freq_skew': 0.3337825966800798, 'freq_kurt': 2.4313901371358293}\n"
     ]
    },
    {
     "name": "stderr",
     "output_type": "stream",
     "text": [
      "59it [00:06,  9.35it/s]\n"
     ]
    },
    {
     "name": "stdout",
     "output_type": "stream",
     "text": [
      "{'method': 'tauleaping', 'g_steps': 0, 'tau_steps': 60, 'use_corrector': True, 'corrector': 'mpf', 'c_stepsize': 0.1, 'c_steps': 2, 'nfe': 168.0, 'time_mean': 0.0014512202220556348, 'time_var': 0.00011880325069233674, 'time_skew': 0.04534516061813017, 'time_kurt': 0.3491826208780867, 'freq_mean': 0.0014512203993374596, 'freq_var': 0.0007941732765415693, 'freq_skew': 0.3729983111463187, 'freq_kurt': 3.5147970947805995}\n"
     ]
    },
    {
     "name": "stderr",
     "output_type": "stream",
     "text": [
      "59it [00:06,  9.17it/s]\n"
     ]
    },
    {
     "name": "stdout",
     "output_type": "stream",
     "text": [
      "{'method': 'tauleaping', 'g_steps': 0, 'tau_steps': 60, 'use_corrector': True, 'corrector': 'mpf', 'c_stepsize': 0.1, 'c_steps': 2, 'nfe': 168.0, 'time_mean': 0.0014498272294807915, 'time_var': 0.00012915978563929914, 'time_skew': 0.045095631440079026, 'time_kurt': 0.22551925025024736, 'freq_mean': 0.001449827116288775, 'freq_var': 0.0013392258604516467, 'freq_skew': 0.2635082787318981, 'freq_kurt': 2.5958019385741142}\n",
      "Experiment results saved to  gene_results.csv\n"
     ]
    },
    {
     "name": "stderr",
     "output_type": "stream",
     "text": [
      "19it [00:01,  9.65it/s]\n"
     ]
    },
    {
     "name": "stdout",
     "output_type": "stream",
     "text": [
      "{'method': 'tauleaping', 'g_steps': 0, 'tau_steps': 20, 'use_corrector': True, 'corrector': 'barker', 'c_stepsize': 0.1, 'c_steps': 2, 'nfe': 56.0, 'time_mean': 0.004492529378960103, 'time_var': 0.001911316156888287, 'time_skew': 0.9086456602494393, 'time_kurt': 2.4488420515907166, 'freq_mean': 0.004492540976963804, 'freq_var': 0.008243322980946132, 'freq_skew': 1.058950507168172, 'freq_kurt': 11.855577478902868}\n"
     ]
    },
    {
     "name": "stderr",
     "output_type": "stream",
     "text": [
      "19it [00:01,  9.65it/s]\n"
     ]
    },
    {
     "name": "stdout",
     "output_type": "stream",
     "text": [
      "{'method': 'tauleaping', 'g_steps': 0, 'tau_steps': 20, 'use_corrector': True, 'corrector': 'barker', 'c_stepsize': 0.1, 'c_steps': 2, 'nfe': 56.0, 'time_mean': 0.004382748277016254, 'time_var': 0.0026949879659972425, 'time_skew': 0.8612031988421253, 'time_kurt': 1.9689190707888702, 'freq_mean': 0.004382760402379701, 'freq_var': 0.007496627883795545, 'freq_skew': 1.072478767144339, 'freq_kurt': 11.80729326981019}\n"
     ]
    },
    {
     "name": "stderr",
     "output_type": "stream",
     "text": [
      "19it [00:01,  9.66it/s]\n"
     ]
    },
    {
     "name": "stdout",
     "output_type": "stream",
     "text": [
      "{'method': 'tauleaping', 'g_steps': 0, 'tau_steps': 20, 'use_corrector': True, 'corrector': 'barker', 'c_stepsize': 0.1, 'c_steps': 2, 'nfe': 56.0, 'time_mean': 0.0038686967148513084, 'time_var': 0.0024683073182894728, 'time_skew': 0.8408077229305119, 'time_kurt': 1.9794510387257336, 'freq_mean': 0.0038687079183590363, 'freq_var': 0.008021841426371117, 'freq_skew': 1.112201098706944, 'freq_kurt': 12.252097378515138}\n"
     ]
    },
    {
     "name": "stderr",
     "output_type": "stream",
     "text": [
      "19it [00:01,  9.66it/s]\n"
     ]
    },
    {
     "name": "stdout",
     "output_type": "stream",
     "text": [
      "{'method': 'tauleaping', 'g_steps': 0, 'tau_steps': 20, 'use_corrector': True, 'corrector': 'barker', 'c_stepsize': 0.1, 'c_steps': 2, 'nfe': 56.0, 'time_mean': 0.004253329889674873, 'time_var': 0.0024088356698822224, 'time_skew': 0.888510124727566, 'time_kurt': 2.3547023729779792, 'freq_mean': 0.00425334140443977, 'freq_var': 0.008906539044502755, 'freq_skew': 1.062800427338717, 'freq_kurt': 11.874596589967272}\n"
     ]
    },
    {
     "name": "stderr",
     "output_type": "stream",
     "text": [
      "19it [00:01,  9.66it/s]\n"
     ]
    },
    {
     "name": "stdout",
     "output_type": "stream",
     "text": [
      "{'method': 'tauleaping', 'g_steps': 0, 'tau_steps': 20, 'use_corrector': True, 'corrector': 'barker', 'c_stepsize': 0.1, 'c_steps': 2, 'nfe': 56.0, 'time_mean': 0.003708644396939068, 'time_var': 0.0016754568689127164, 'time_skew': 0.9586702367034748, 'time_kurt': 2.6500566368321397, 'freq_mean': 0.0037086558660513204, 'freq_var': 0.00876431305424411, 'freq_skew': 1.1573632918666215, 'freq_kurt': 12.70104943113656}\n"
     ]
    },
    {
     "name": "stderr",
     "output_type": "stream",
     "text": [
      "19it [00:01,  9.66it/s]\n"
     ]
    },
    {
     "name": "stdout",
     "output_type": "stream",
     "text": [
      "{'method': 'tauleaping', 'g_steps': 0, 'tau_steps': 20, 'use_corrector': True, 'corrector': 'barker', 'c_stepsize': 0.1, 'c_steps': 2, 'nfe': 56.0, 'time_mean': 0.0034764872920007, 'time_var': 0.0024295635008347682, 'time_skew': 0.8525009283244704, 'time_kurt': 2.227503136036747, 'freq_mean': 0.003476498552380995, 'freq_var': 0.008172716554635874, 'freq_skew': 1.0480155973326981, 'freq_kurt': 11.718302396966424}\n"
     ]
    },
    {
     "name": "stderr",
     "output_type": "stream",
     "text": [
      "19it [00:01,  9.66it/s]\n"
     ]
    },
    {
     "name": "stdout",
     "output_type": "stream",
     "text": [
      "{'method': 'tauleaping', 'g_steps': 0, 'tau_steps': 20, 'use_corrector': True, 'corrector': 'barker', 'c_stepsize': 0.1, 'c_steps': 2, 'nfe': 56.0, 'time_mean': 0.00433438665973711, 'time_var': 0.0017484050678995302, 'time_skew': 0.9201522662248248, 'time_kurt': 2.631194872723621, 'freq_mean': 0.004334398234722311, 'freq_var': 0.009139924763764622, 'freq_skew': 1.0798011912029564, 'freq_kurt': 12.063131435877686}\n"
     ]
    },
    {
     "name": "stderr",
     "output_type": "stream",
     "text": [
      "19it [00:01,  9.66it/s]\n"
     ]
    },
    {
     "name": "stdout",
     "output_type": "stream",
     "text": [
      "{'method': 'tauleaping', 'g_steps': 0, 'tau_steps': 20, 'use_corrector': True, 'corrector': 'barker', 'c_stepsize': 0.1, 'c_steps': 2, 'nfe': 56.0, 'time_mean': 0.00399412614957766, 'time_var': 0.0019706889157094045, 'time_skew': 0.9116420867293097, 'time_kurt': 2.2839885057627547, 'freq_mean': 0.00399413757032146, 'freq_var': 0.009177412407545627, 'freq_skew': 1.0630619540353927, 'freq_kurt': 11.70925003603067}\n"
     ]
    },
    {
     "name": "stderr",
     "output_type": "stream",
     "text": [
      "19it [00:01,  9.65it/s]\n"
     ]
    },
    {
     "name": "stdout",
     "output_type": "stream",
     "text": [
      "{'method': 'tauleaping', 'g_steps': 0, 'tau_steps': 20, 'use_corrector': True, 'corrector': 'barker', 'c_stepsize': 0.1, 'c_steps': 2, 'nfe': 56.0, 'time_mean': 0.004551364553812134, 'time_var': 0.0019704284707092426, 'time_skew': 0.8249626575447458, 'time_kurt': 2.378891739916064, 'freq_mean': 0.004551375302245813, 'freq_var': 0.008191756850679886, 'freq_skew': 0.9709924258249181, 'freq_kurt': 12.078921498024892}\n"
     ]
    },
    {
     "name": "stderr",
     "output_type": "stream",
     "text": [
      "19it [00:01,  9.66it/s]\n"
     ]
    },
    {
     "name": "stdout",
     "output_type": "stream",
     "text": [
      "{'method': 'tauleaping', 'g_steps': 0, 'tau_steps': 20, 'use_corrector': True, 'corrector': 'barker', 'c_stepsize': 0.1, 'c_steps': 2, 'nfe': 56.0, 'time_mean': 0.00399307112934129, 'time_var': 0.002054686658927796, 'time_skew': 0.8656399446026304, 'time_kurt': 2.3849320516271773, 'freq_mean': 0.003993082490820025, 'freq_var': 0.008177535757313028, 'freq_skew': 1.0617325371552686, 'freq_kurt': 12.007531451817608}\n"
     ]
    },
    {
     "name": "stderr",
     "output_type": "stream",
     "text": [
      "19it [00:01,  9.61it/s]\n"
     ]
    },
    {
     "name": "stdout",
     "output_type": "stream",
     "text": [
      "{'method': 'tauleaping', 'g_steps': 0, 'tau_steps': 20, 'use_corrector': True, 'corrector': 'barker', 'c_stepsize': 0.1, 'c_steps': 2, 'nfe': 56.0, 'time_mean': 0.004715016904718458, 'time_var': 0.0020124248164729982, 'time_skew': 0.8611497275016532, 'time_kurt': 2.1109406400742103, 'freq_mean': 0.004715029179417749, 'freq_var': 0.007873228776502999, 'freq_skew': 1.0736660176040913, 'freq_kurt': 12.022526025847574}\n"
     ]
    },
    {
     "name": "stderr",
     "output_type": "stream",
     "text": [
      "19it [00:01,  9.65it/s]\n"
     ]
    },
    {
     "name": "stdout",
     "output_type": "stream",
     "text": [
      "{'method': 'tauleaping', 'g_steps': 0, 'tau_steps': 20, 'use_corrector': True, 'corrector': 'barker', 'c_stepsize': 0.1, 'c_steps': 2, 'nfe': 56.0, 'time_mean': 0.004583775773037508, 'time_var': 0.0025105322860912516, 'time_skew': 0.9074549439572883, 'time_kurt': 1.982193070172587, 'freq_mean': 0.00458378814062178, 'freq_var': 0.007544327052013143, 'freq_skew': 1.0428693298556038, 'freq_kurt': 11.499252433017789}\n"
     ]
    },
    {
     "name": "stderr",
     "output_type": "stream",
     "text": [
      "19it [00:01,  9.66it/s]\n"
     ]
    },
    {
     "name": "stdout",
     "output_type": "stream",
     "text": [
      "{'method': 'tauleaping', 'g_steps': 0, 'tau_steps': 20, 'use_corrector': True, 'corrector': 'barker', 'c_stepsize': 0.1, 'c_steps': 2, 'nfe': 56.0, 'time_mean': 0.00428732219249453, 'time_var': 0.00246626833659217, 'time_skew': 0.8888863800692594, 'time_kurt': 1.740493117800972, 'freq_mean': 0.004287334573345719, 'freq_var': 0.007584923968036591, 'freq_skew': 1.096830337627428, 'freq_kurt': 11.625105693824562}\n"
     ]
    },
    {
     "name": "stderr",
     "output_type": "stream",
     "text": [
      "19it [00:01,  9.66it/s]\n"
     ]
    },
    {
     "name": "stdout",
     "output_type": "stream",
     "text": [
      "{'method': 'tauleaping', 'g_steps': 0, 'tau_steps': 20, 'use_corrector': True, 'corrector': 'barker', 'c_stepsize': 0.1, 'c_steps': 2, 'nfe': 56.0, 'time_mean': 0.003483479106745675, 'time_var': 0.002559171349595302, 'time_skew': 0.7625789435339423, 'time_kurt': 1.7346337987779767, 'freq_mean': 0.0034834900376746027, 'freq_var': 0.006839919329809473, 'freq_skew': 1.0504149726984333, 'freq_kurt': 10.902157013180972}\n"
     ]
    },
    {
     "name": "stderr",
     "output_type": "stream",
     "text": [
      "19it [00:01,  9.65it/s]\n"
     ]
    },
    {
     "name": "stdout",
     "output_type": "stream",
     "text": [
      "{'method': 'tauleaping', 'g_steps': 0, 'tau_steps': 20, 'use_corrector': True, 'corrector': 'barker', 'c_stepsize': 0.1, 'c_steps': 2, 'nfe': 56.0, 'time_mean': 0.0035550487660800196, 'time_var': 0.0024823490614932528, 'time_skew': 0.8183411615575711, 'time_kurt': 1.9304466397240168, 'freq_mean': 0.00355506011237987, 'freq_var': 0.009379729068776379, 'freq_skew': 1.1007579610778344, 'freq_kurt': 12.22979266769354}\n"
     ]
    },
    {
     "name": "stderr",
     "output_type": "stream",
     "text": [
      "19it [00:01,  9.66it/s]\n"
     ]
    },
    {
     "name": "stdout",
     "output_type": "stream",
     "text": [
      "{'method': 'tauleaping', 'g_steps': 0, 'tau_steps': 20, 'use_corrector': True, 'corrector': 'barker', 'c_stepsize': 0.1, 'c_steps': 2, 'nfe': 56.0, 'time_mean': 0.004211644930973269, 'time_var': 0.0028535562779348077, 'time_skew': 0.8586462156028178, 'time_kurt': 1.8381667678700877, 'freq_mean': 0.00421165656154479, 'freq_var': 0.0076743741368476516, 'freq_skew': 1.0341534770947685, 'freq_kurt': 12.187340933256094}\n"
     ]
    },
    {
     "name": "stderr",
     "output_type": "stream",
     "text": [
      "19it [00:01,  9.65it/s]\n"
     ]
    },
    {
     "name": "stdout",
     "output_type": "stream",
     "text": [
      "{'method': 'tauleaping', 'g_steps': 0, 'tau_steps': 20, 'use_corrector': True, 'corrector': 'barker', 'c_stepsize': 0.1, 'c_steps': 2, 'nfe': 56.0, 'time_mean': 0.0034373119780981756, 'time_var': 0.0022095797647025592, 'time_skew': 0.7570052275383412, 'time_kurt': 1.9892087076994927, 'freq_mean': 0.003437322616682945, 'freq_var': 0.007249013974206227, 'freq_skew': 0.9995418912959358, 'freq_kurt': 11.46137983512244}\n"
     ]
    },
    {
     "name": "stderr",
     "output_type": "stream",
     "text": [
      "19it [00:01,  9.66it/s]\n"
     ]
    },
    {
     "name": "stdout",
     "output_type": "stream",
     "text": [
      "{'method': 'tauleaping', 'g_steps': 0, 'tau_steps': 20, 'use_corrector': True, 'corrector': 'barker', 'c_stepsize': 0.1, 'c_steps': 2, 'nfe': 56.0, 'time_mean': 0.003848551976001766, 'time_var': 0.0020453943876567464, 'time_skew': 0.8722960479722693, 'time_kurt': 2.3874029413971707, 'freq_mean': 0.0038485634163318034, 'freq_var': 0.00824728417403608, 'freq_skew': 1.1209436967658881, 'freq_kurt': 12.113179168219832}\n"
     ]
    },
    {
     "name": "stderr",
     "output_type": "stream",
     "text": [
      "19it [00:01,  9.66it/s]\n"
     ]
    },
    {
     "name": "stdout",
     "output_type": "stream",
     "text": [
      "{'method': 'tauleaping', 'g_steps': 0, 'tau_steps': 20, 'use_corrector': True, 'corrector': 'barker', 'c_stepsize': 0.1, 'c_steps': 2, 'nfe': 56.0, 'time_mean': 0.003727008511970919, 'time_var': 0.0019713129614166653, 'time_skew': 0.7743507711448312, 'time_kurt': 1.8612170617743276, 'freq_mean': 0.0037270189107727262, 'freq_var': 0.009029179552497905, 'freq_skew': 1.026288242752708, 'freq_kurt': 11.692025896830254}\n"
     ]
    },
    {
     "name": "stderr",
     "output_type": "stream",
     "text": [
      "19it [00:01,  9.66it/s]\n"
     ]
    },
    {
     "name": "stdout",
     "output_type": "stream",
     "text": [
      "{'method': 'tauleaping', 'g_steps': 0, 'tau_steps': 20, 'use_corrector': True, 'corrector': 'barker', 'c_stepsize': 0.1, 'c_steps': 2, 'nfe': 56.0, 'time_mean': 0.003500065101616573, 'time_var': 0.0021432210778069096, 'time_skew': 0.8297684047850823, 'time_kurt': 2.026796592887039, 'freq_mean': 0.00350007604592472, 'freq_var': 0.007097276215741197, 'freq_skew': 1.0528028943774195, 'freq_kurt': 11.458986447669842}\n",
      "Experiment results saved to  gene_results.csv\n"
     ]
    },
    {
     "name": "stderr",
     "output_type": "stream",
     "text": [
      "29it [00:03,  9.51it/s]\n"
     ]
    },
    {
     "name": "stdout",
     "output_type": "stream",
     "text": [
      "{'method': 'tauleaping', 'g_steps': 0, 'tau_steps': 30, 'use_corrector': True, 'corrector': 'barker', 'c_stepsize': 0.1, 'c_steps': 2, 'nfe': 84.0, 'time_mean': 0.0025397216924166865, 'time_var': 0.0012054699873274486, 'time_skew': 0.6572224155314431, 'time_kurt': 2.3946244511539017, 'freq_mean': 0.002539730351439533, 'freq_var': 0.005321060613835168, 'freq_skew': 0.9870067374092606, 'freq_kurt': 11.183713267096087}\n"
     ]
    },
    {
     "name": "stderr",
     "output_type": "stream",
     "text": [
      "29it [00:03,  9.51it/s]\n"
     ]
    },
    {
     "name": "stdout",
     "output_type": "stream",
     "text": [
      "{'method': 'tauleaping', 'g_steps': 0, 'tau_steps': 30, 'use_corrector': True, 'corrector': 'barker', 'c_stepsize': 0.1, 'c_steps': 2, 'nfe': 84.0, 'time_mean': 0.002562720666951317, 'time_var': 0.0011087787851245955, 'time_skew': 0.7422068235877821, 'time_kurt': 2.718997026613207, 'freq_mean': 0.00256272907274019, 'freq_var': 0.006116391466826155, 'freq_skew': 1.0048215017564592, 'freq_kurt': 10.543029015019256}\n"
     ]
    },
    {
     "name": "stderr",
     "output_type": "stream",
     "text": [
      "29it [00:03,  9.51it/s]\n"
     ]
    },
    {
     "name": "stdout",
     "output_type": "stream",
     "text": [
      "{'method': 'tauleaping', 'g_steps': 0, 'tau_steps': 30, 'use_corrector': True, 'corrector': 'barker', 'c_stepsize': 0.1, 'c_steps': 2, 'nfe': 84.0, 'time_mean': 0.002448567866630614, 'time_var': 0.0011410301959627533, 'time_skew': 0.6670869304995258, 'time_kurt': 2.5244986886158998, 'freq_mean': 0.002448576678114536, 'freq_var': 0.005687704453861447, 'freq_skew': 1.0159708988949807, 'freq_kurt': 10.682772670579455}\n"
     ]
    },
    {
     "name": "stderr",
     "output_type": "stream",
     "text": [
      "29it [00:03,  9.48it/s]\n"
     ]
    },
    {
     "name": "stdout",
     "output_type": "stream",
     "text": [
      "{'method': 'tauleaping', 'g_steps': 0, 'tau_steps': 30, 'use_corrector': True, 'corrector': 'barker', 'c_stepsize': 0.1, 'c_steps': 2, 'nfe': 84.0, 'time_mean': 0.002487913346954185, 'time_var': 0.001248675275683895, 'time_skew': 0.7737541559955008, 'time_kurt': 2.6271064647530853, 'freq_mean': 0.002487922229674239, 'freq_var': 0.005966527299423017, 'freq_skew': 1.0305033756838717, 'freq_kurt': 11.792380889930826}\n"
     ]
    },
    {
     "name": "stderr",
     "output_type": "stream",
     "text": [
      "29it [00:03,  9.51it/s]\n"
     ]
    },
    {
     "name": "stdout",
     "output_type": "stream",
     "text": [
      "{'method': 'tauleaping', 'g_steps': 0, 'tau_steps': 30, 'use_corrector': True, 'corrector': 'barker', 'c_stepsize': 0.1, 'c_steps': 2, 'nfe': 84.0, 'time_mean': 0.002502833207001304, 'time_var': 0.001593257591262585, 'time_skew': 0.6642351398324121, 'time_kurt': 2.0024538294997094, 'freq_mean': 0.002502841645658634, 'freq_var': 0.005162200046716109, 'freq_skew': 1.008975563247037, 'freq_kurt': 11.636593677349717}\n"
     ]
    },
    {
     "name": "stderr",
     "output_type": "stream",
     "text": [
      "29it [00:03,  9.51it/s]\n"
     ]
    },
    {
     "name": "stdout",
     "output_type": "stream",
     "text": [
      "{'method': 'tauleaping', 'g_steps': 0, 'tau_steps': 30, 'use_corrector': True, 'corrector': 'barker', 'c_stepsize': 0.1, 'c_steps': 2, 'nfe': 84.0, 'time_mean': 0.0032029716327085993, 'time_var': 0.0017750642876214566, 'time_skew': 0.6819757616613636, 'time_kurt': 1.6891941868613864, 'freq_mean': 0.0032029805338457894, 'freq_var': 0.0038934162659637643, 'freq_skew': 1.023308066799557, 'freq_kurt': 11.368603107459325}\n"
     ]
    },
    {
     "name": "stderr",
     "output_type": "stream",
     "text": [
      "29it [00:03,  9.51it/s]\n"
     ]
    },
    {
     "name": "stdout",
     "output_type": "stream",
     "text": [
      "{'method': 'tauleaping', 'g_steps': 0, 'tau_steps': 30, 'use_corrector': True, 'corrector': 'barker', 'c_stepsize': 0.1, 'c_steps': 2, 'nfe': 84.0, 'time_mean': 0.0027987179153111884, 'time_var': 0.001154141771614133, 'time_skew': 0.6640873922719427, 'time_kurt': 2.277212633511013, 'freq_mean': 0.0027987260073321285, 'freq_var': 0.005951630035461849, 'freq_skew': 0.9948760616423588, 'freq_kurt': 11.47372949410464}\n"
     ]
    },
    {
     "name": "stderr",
     "output_type": "stream",
     "text": [
      "29it [00:03,  9.49it/s]\n"
     ]
    },
    {
     "name": "stdout",
     "output_type": "stream",
     "text": [
      "{'method': 'tauleaping', 'g_steps': 0, 'tau_steps': 30, 'use_corrector': True, 'corrector': 'barker', 'c_stepsize': 0.1, 'c_steps': 2, 'nfe': 84.0, 'time_mean': 0.002901758414919002, 'time_var': 0.0011366588312286695, 'time_skew': 0.7278156222205855, 'time_kurt': 2.732626977195167, 'freq_mean': 0.002901767014075363, 'freq_var': 0.007440646542849236, 'freq_skew': 1.0369069890166323, 'freq_kurt': 11.42941072991987}\n"
     ]
    },
    {
     "name": "stderr",
     "output_type": "stream",
     "text": [
      "29it [00:03,  9.41it/s]\n"
     ]
    },
    {
     "name": "stdout",
     "output_type": "stream",
     "text": [
      "{'method': 'tauleaping', 'g_steps': 0, 'tau_steps': 30, 'use_corrector': True, 'corrector': 'barker', 'c_stepsize': 0.1, 'c_steps': 2, 'nfe': 84.0, 'time_mean': 0.00255706058438228, 'time_var': 0.0012483790267799868, 'time_skew': 0.7497428780083141, 'time_kurt': 2.324845268838409, 'freq_mean': 0.002557069674954804, 'freq_var': 0.004675273449154991, 'freq_skew': 1.0492707730775666, 'freq_kurt': 11.100938674833252}\n"
     ]
    },
    {
     "name": "stderr",
     "output_type": "stream",
     "text": [
      "29it [00:03,  9.50it/s]\n"
     ]
    },
    {
     "name": "stdout",
     "output_type": "stream",
     "text": [
      "{'method': 'tauleaping', 'g_steps': 0, 'tau_steps': 30, 'use_corrector': True, 'corrector': 'barker', 'c_stepsize': 0.1, 'c_steps': 2, 'nfe': 84.0, 'time_mean': 0.002845978633301175, 'time_var': 0.0010597547809841309, 'time_skew': 0.8012352656753191, 'time_kurt': 2.9736305431722525, 'freq_mean': 0.0028459879658793447, 'freq_var': 0.007986619333210935, 'freq_skew': 1.039954980348022, 'freq_kurt': 11.666941611700715}\n"
     ]
    },
    {
     "name": "stderr",
     "output_type": "stream",
     "text": [
      "29it [00:03,  9.51it/s]\n"
     ]
    },
    {
     "name": "stdout",
     "output_type": "stream",
     "text": [
      "{'method': 'tauleaping', 'g_steps': 0, 'tau_steps': 30, 'use_corrector': True, 'corrector': 'barker', 'c_stepsize': 0.1, 'c_steps': 2, 'nfe': 84.0, 'time_mean': 0.0020719570689251574, 'time_var': 0.001501989500297542, 'time_skew': 0.7010193516474101, 'time_kurt': 2.036446116363184, 'freq_mean': 0.002071966242845912, 'freq_var': 0.004520346374582026, 'freq_skew': 0.9964128190174121, 'freq_kurt': 11.719242551053176}\n"
     ]
    },
    {
     "name": "stderr",
     "output_type": "stream",
     "text": [
      "29it [00:03,  9.44it/s]\n"
     ]
    },
    {
     "name": "stdout",
     "output_type": "stream",
     "text": [
      "{'method': 'tauleaping', 'g_steps': 0, 'tau_steps': 30, 'use_corrector': True, 'corrector': 'barker', 'c_stepsize': 0.1, 'c_steps': 2, 'nfe': 84.0, 'time_mean': 0.0028763251459064084, 'time_var': 0.0009240885614739987, 'time_skew': 0.7295558511749458, 'time_kurt': 2.862606940843371, 'freq_mean': 0.002876333303875269, 'freq_var': 0.007108913574085091, 'freq_skew': 1.0969945301302546, 'freq_kurt': 11.569012939738313}\n"
     ]
    },
    {
     "name": "stderr",
     "output_type": "stream",
     "text": [
      "29it [00:03,  9.23it/s]\n"
     ]
    },
    {
     "name": "stdout",
     "output_type": "stream",
     "text": [
      "{'method': 'tauleaping', 'g_steps': 0, 'tau_steps': 30, 'use_corrector': True, 'corrector': 'barker', 'c_stepsize': 0.1, 'c_steps': 2, 'nfe': 84.0, 'time_mean': 0.0028585205920630807, 'time_var': 0.0013202492628844051, 'time_skew': 0.7669582750724192, 'time_kurt': 2.822440604086993, 'freq_mean': 0.0028585294073190863, 'freq_var': 0.006201388160379273, 'freq_skew': 0.8909476457990393, 'freq_kurt': 10.719397503246695}\n"
     ]
    },
    {
     "name": "stderr",
     "output_type": "stream",
     "text": [
      "29it [00:03,  9.03it/s]\n"
     ]
    },
    {
     "name": "stdout",
     "output_type": "stream",
     "text": [
      "{'method': 'tauleaping', 'g_steps': 0, 'tau_steps': 30, 'use_corrector': True, 'corrector': 'barker', 'c_stepsize': 0.1, 'c_steps': 2, 'nfe': 84.0, 'time_mean': 0.0033371492917992703, 'time_var': 0.0012027301843103022, 'time_skew': 0.8014043073746603, 'time_kurt': 2.7735391457499445, 'freq_mean': 0.003337158103832752, 'freq_var': 0.0065199526781017925, 'freq_skew': 1.0716731543666964, 'freq_kurt': 12.24098496815255}\n"
     ]
    },
    {
     "name": "stderr",
     "output_type": "stream",
     "text": [
      "29it [00:03,  9.49it/s]\n"
     ]
    },
    {
     "name": "stdout",
     "output_type": "stream",
     "text": [
      "{'method': 'tauleaping', 'g_steps': 0, 'tau_steps': 30, 'use_corrector': True, 'corrector': 'barker', 'c_stepsize': 0.1, 'c_steps': 2, 'nfe': 84.0, 'time_mean': 0.002646175815286874, 'time_var': 0.0011727355857478032, 'time_skew': 0.6542723649043048, 'time_kurt': 2.5612319751634254, 'freq_mean': 0.0026461837169132686, 'freq_var': 0.005432686751090335, 'freq_skew': 1.0275220552951614, 'freq_kurt': 10.746291073413719}\n"
     ]
    },
    {
     "name": "stderr",
     "output_type": "stream",
     "text": [
      "29it [00:03,  9.45it/s]\n"
     ]
    },
    {
     "name": "stdout",
     "output_type": "stream",
     "text": [
      "{'method': 'tauleaping', 'g_steps': 0, 'tau_steps': 30, 'use_corrector': True, 'corrector': 'barker', 'c_stepsize': 0.1, 'c_steps': 2, 'nfe': 84.0, 'time_mean': 0.001676340467748489, 'time_var': 0.0014635636978092598, 'time_skew': 0.6458421429840366, 'time_kurt': 2.251498037256144, 'freq_mean': 0.001676347877380813, 'freq_var': 0.00528325195985435, 'freq_skew': 0.9479185282793704, 'freq_kurt': 11.0720864070238}\n"
     ]
    },
    {
     "name": "stderr",
     "output_type": "stream",
     "text": [
      "29it [00:03,  9.48it/s]\n"
     ]
    },
    {
     "name": "stdout",
     "output_type": "stream",
     "text": [
      "{'method': 'tauleaping', 'g_steps': 0, 'tau_steps': 30, 'use_corrector': True, 'corrector': 'barker', 'c_stepsize': 0.1, 'c_steps': 2, 'nfe': 84.0, 'time_mean': 0.0029788283126552, 'time_var': 0.0014834779871038624, 'time_skew': 0.7000682589825832, 'time_kurt': 2.250575161278854, 'freq_mean': 0.002978837244742748, 'freq_var': 0.005409760475723574, 'freq_skew': 0.9850760340800157, 'freq_kurt': 11.223792115085732}\n"
     ]
    },
    {
     "name": "stderr",
     "output_type": "stream",
     "text": [
      "29it [00:03,  9.49it/s]\n"
     ]
    },
    {
     "name": "stdout",
     "output_type": "stream",
     "text": [
      "{'method': 'tauleaping', 'g_steps': 0, 'tau_steps': 30, 'use_corrector': True, 'corrector': 'barker', 'c_stepsize': 0.1, 'c_steps': 2, 'nfe': 84.0, 'time_mean': 0.0025742793708782826, 'time_var': 0.001067185027719929, 'time_skew': 0.6798321147292505, 'time_kurt': 2.5176234414381193, 'freq_mean': 0.0025742885511603484, 'freq_var': 0.005943559069523319, 'freq_skew': 0.9851275519780051, 'freq_kurt': 11.36715766661765}\n"
     ]
    },
    {
     "name": "stderr",
     "output_type": "stream",
     "text": [
      "29it [00:03,  9.50it/s]\n"
     ]
    },
    {
     "name": "stdout",
     "output_type": "stream",
     "text": [
      "{'method': 'tauleaping', 'g_steps': 0, 'tau_steps': 30, 'use_corrector': True, 'corrector': 'barker', 'c_stepsize': 0.1, 'c_steps': 2, 'nfe': 84.0, 'time_mean': 0.002946123355406134, 'time_var': 0.0008717993122496535, 'time_skew': 0.7346778218159794, 'time_kurt': 2.9469617081272754, 'freq_mean': 0.0029461316465693517, 'freq_var': 0.006746791926956776, 'freq_skew': 0.9595237709977986, 'freq_kurt': 10.636725944832845}\n"
     ]
    },
    {
     "name": "stderr",
     "output_type": "stream",
     "text": [
      "29it [00:03,  9.39it/s]\n"
     ]
    },
    {
     "name": "stdout",
     "output_type": "stream",
     "text": [
      "{'method': 'tauleaping', 'g_steps': 0, 'tau_steps': 30, 'use_corrector': True, 'corrector': 'barker', 'c_stepsize': 0.1, 'c_steps': 2, 'nfe': 84.0, 'time_mean': 0.002403593313140949, 'time_var': 0.00123920705863319, 'time_skew': 0.6848653976114067, 'time_kurt': 2.4652329854588144, 'freq_mean': 0.002403601629769697, 'freq_var': 0.006628512216780745, 'freq_skew': 1.0835541388668162, 'freq_kurt': 11.096956910271688}\n",
      "Experiment results saved to  gene_results.csv\n"
     ]
    },
    {
     "name": "stderr",
     "output_type": "stream",
     "text": [
      "59it [00:06,  9.29it/s]\n"
     ]
    },
    {
     "name": "stdout",
     "output_type": "stream",
     "text": [
      "{'method': 'tauleaping', 'g_steps': 0, 'tau_steps': 60, 'use_corrector': True, 'corrector': 'barker', 'c_stepsize': 0.1, 'c_steps': 2, 'nfe': 168.0, 'time_mean': 0.0015904209292753628, 'time_var': 0.0004189236523713223, 'time_skew': 0.487038057560477, 'time_kurt': 2.3577502952700358, 'freq_mean': 0.0015904252625285168, 'freq_var': 0.0039493670627872126, 'freq_skew': 0.9288070470044364, 'freq_kurt': 8.72377047299518}\n"
     ]
    },
    {
     "name": "stderr",
     "output_type": "stream",
     "text": [
      "59it [00:06,  8.48it/s]\n"
     ]
    },
    {
     "name": "stdout",
     "output_type": "stream",
     "text": [
      "{'method': 'tauleaping', 'g_steps': 0, 'tau_steps': 60, 'use_corrector': True, 'corrector': 'barker', 'c_stepsize': 0.1, 'c_steps': 2, 'nfe': 168.0, 'time_mean': 0.002832195923787077, 'time_var': 0.0002786027498100394, 'time_skew': 0.5063509925690105, 'time_kurt': 3.5425502989059137, 'freq_mean': 0.002832200767235502, 'freq_var': 0.005072651983287512, 'freq_skew': 0.9919627228131757, 'freq_kurt': 10.114762507406754}\n"
     ]
    },
    {
     "name": "stderr",
     "output_type": "stream",
     "text": [
      "59it [00:06,  9.37it/s]\n"
     ]
    },
    {
     "name": "stdout",
     "output_type": "stream",
     "text": [
      "{'method': 'tauleaping', 'g_steps': 0, 'tau_steps': 60, 'use_corrector': True, 'corrector': 'barker', 'c_stepsize': 0.1, 'c_steps': 2, 'nfe': 168.0, 'time_mean': 0.0019092383017661498, 'time_var': 0.0004658785696544558, 'time_skew': 0.6113254420206543, 'time_kurt': 3.068697777013018, 'freq_mean': 0.0019092434594268316, 'freq_var': 0.004877942750008227, 'freq_skew': 0.9965449232508379, 'freq_kurt': 10.836363900314515}\n"
     ]
    },
    {
     "name": "stderr",
     "output_type": "stream",
     "text": [
      "59it [00:06,  9.37it/s]\n"
     ]
    },
    {
     "name": "stdout",
     "output_type": "stream",
     "text": [
      "{'method': 'tauleaping', 'g_steps': 0, 'tau_steps': 60, 'use_corrector': True, 'corrector': 'barker', 'c_stepsize': 0.1, 'c_steps': 2, 'nfe': 168.0, 'time_mean': 0.001493401989099409, 'time_var': 0.00023229543113359135, 'time_skew': 0.508588809629226, 'time_kurt': 3.3072378919619916, 'freq_mean': 0.0014934063824655506, 'freq_var': 0.004628651187593045, 'freq_skew': 0.9578653806637646, 'freq_kurt': 10.467500001701437}\n"
     ]
    },
    {
     "name": "stderr",
     "output_type": "stream",
     "text": [
      "59it [00:06,  9.36it/s]\n"
     ]
    },
    {
     "name": "stdout",
     "output_type": "stream",
     "text": [
      "{'method': 'tauleaping', 'g_steps': 0, 'tau_steps': 60, 'use_corrector': True, 'corrector': 'barker', 'c_stepsize': 0.1, 'c_steps': 2, 'nfe': 168.0, 'time_mean': 0.0024361465859507967, 'time_var': 0.00025942365340150597, 'time_skew': 0.4194669702129818, 'time_kurt': 2.7659310967895947, 'freq_mean': 0.0024361509986295543, 'freq_var': 0.004287226217663031, 'freq_skew': 1.0128847723853633, 'freq_kurt': 9.797795844070928}\n"
     ]
    },
    {
     "name": "stderr",
     "output_type": "stream",
     "text": [
      "59it [00:06,  9.27it/s]\n"
     ]
    },
    {
     "name": "stdout",
     "output_type": "stream",
     "text": [
      "{'method': 'tauleaping', 'g_steps': 0, 'tau_steps': 60, 'use_corrector': True, 'corrector': 'barker', 'c_stepsize': 0.1, 'c_steps': 2, 'nfe': 168.0, 'time_mean': 0.0011585102418593333, 'time_var': 0.0003875886890287189, 'time_skew': 0.5452155604800216, 'time_kurt': 2.7131910964301085, 'freq_mean': 0.001158514667247642, 'freq_var': 0.004217286857855878, 'freq_skew': 0.9069218580163696, 'freq_kurt': 10.055188269451923}\n"
     ]
    },
    {
     "name": "stderr",
     "output_type": "stream",
     "text": [
      "59it [00:06,  9.37it/s]\n"
     ]
    },
    {
     "name": "stdout",
     "output_type": "stream",
     "text": [
      "{'method': 'tauleaping', 'g_steps': 0, 'tau_steps': 60, 'use_corrector': True, 'corrector': 'barker', 'c_stepsize': 0.1, 'c_steps': 2, 'nfe': 168.0, 'time_mean': 0.0012707724706728161, 'time_var': 0.00039469020109828153, 'time_skew': 0.42454804559200454, 'time_kurt': 2.3506118381610346, 'freq_mean': 0.0012707776732193688, 'freq_var': 0.0039997414242081706, 'freq_skew': 0.9010493524790152, 'freq_kurt': 9.276361407606585}\n"
     ]
    },
    {
     "name": "stderr",
     "output_type": "stream",
     "text": [
      "59it [00:06,  9.26it/s]\n"
     ]
    },
    {
     "name": "stdout",
     "output_type": "stream",
     "text": [
      "{'method': 'tauleaping', 'g_steps': 0, 'tau_steps': 60, 'use_corrector': True, 'corrector': 'barker', 'c_stepsize': 0.1, 'c_steps': 2, 'nfe': 168.0, 'time_mean': 0.001383372169265927, 'time_var': 0.0003836948101484889, 'time_skew': 0.3511387447446648, 'time_kurt': 2.0373397980049957, 'freq_mean': 0.001383376641706387, 'freq_var': 0.0036301704625677157, 'freq_skew': 0.8491308277942374, 'freq_kurt': 9.827267915147598}\n"
     ]
    },
    {
     "name": "stderr",
     "output_type": "stream",
     "text": [
      "59it [00:06,  9.25it/s]\n"
     ]
    },
    {
     "name": "stdout",
     "output_type": "stream",
     "text": [
      "{'method': 'tauleaping', 'g_steps': 0, 'tau_steps': 60, 'use_corrector': True, 'corrector': 'barker', 'c_stepsize': 0.1, 'c_steps': 2, 'nfe': 168.0, 'time_mean': 0.001400053592444791, 'time_var': 0.0004215955317757532, 'time_skew': 0.43274434294796416, 'time_kurt': 2.138116680892638, 'freq_mean': 0.0014000579612230388, 'freq_var': 0.0031658354756164894, 'freq_skew': 0.9495276632972902, 'freq_kurt': 10.408084811508155}\n"
     ]
    },
    {
     "name": "stderr",
     "output_type": "stream",
     "text": [
      "59it [00:06,  9.12it/s]\n"
     ]
    },
    {
     "name": "stdout",
     "output_type": "stream",
     "text": [
      "{'method': 'tauleaping', 'g_steps': 0, 'tau_steps': 60, 'use_corrector': True, 'corrector': 'barker', 'c_stepsize': 0.1, 'c_steps': 2, 'nfe': 168.0, 'time_mean': 0.0019274333468689625, 'time_var': 0.0003145689940695847, 'time_skew': 0.48097746231818733, 'time_kurt': 2.4379859284823273, 'freq_mean': 0.0019274382828601555, 'freq_var': 0.0044388548046725524, 'freq_skew': 0.9692394768890265, 'freq_kurt': 10.061895365799433}\n"
     ]
    },
    {
     "name": "stderr",
     "output_type": "stream",
     "text": [
      "59it [00:06,  9.24it/s]\n"
     ]
    },
    {
     "name": "stdout",
     "output_type": "stream",
     "text": [
      "{'method': 'tauleaping', 'g_steps': 0, 'tau_steps': 60, 'use_corrector': True, 'corrector': 'barker', 'c_stepsize': 0.1, 'c_steps': 2, 'nfe': 168.0, 'time_mean': 0.0020769293311997225, 'time_var': 0.00027022732778363715, 'time_skew': 0.5128549509153056, 'time_kurt': 2.98362585119667, 'freq_mean': 0.0020769345911004077, 'freq_var': 0.004964187058603418, 'freq_skew': 1.0033140470311135, 'freq_kurt': 10.78914408138918}\n"
     ]
    },
    {
     "name": "stderr",
     "output_type": "stream",
     "text": [
      "59it [00:06,  9.37it/s]\n"
     ]
    },
    {
     "name": "stdout",
     "output_type": "stream",
     "text": [
      "{'method': 'tauleaping', 'g_steps': 0, 'tau_steps': 60, 'use_corrector': True, 'corrector': 'barker', 'c_stepsize': 0.1, 'c_steps': 2, 'nfe': 168.0, 'time_mean': 0.0015464038508753773, 'time_var': 0.0002334039003267581, 'time_skew': 0.5038855069761909, 'time_kurt': 2.8069674851420294, 'freq_mean': 0.0015464082441748142, 'freq_var': 0.004167157755853796, 'freq_skew': 0.8374816542857333, 'freq_kurt': 9.507216185072997}\n"
     ]
    },
    {
     "name": "stderr",
     "output_type": "stream",
     "text": [
      "59it [00:06,  9.36it/s]\n"
     ]
    },
    {
     "name": "stdout",
     "output_type": "stream",
     "text": [
      "{'method': 'tauleaping', 'g_steps': 0, 'tau_steps': 60, 'use_corrector': True, 'corrector': 'barker', 'c_stepsize': 0.1, 'c_steps': 2, 'nfe': 168.0, 'time_mean': 0.0018483145624555374, 'time_var': 0.0002986196530876421, 'time_skew': 0.4727041196909604, 'time_kurt': 2.957292999284626, 'freq_mean': 0.0018483198494990839, 'freq_var': 0.005627526281503041, 'freq_skew': 0.9674294351621295, 'freq_kurt': 10.200546659035068}\n"
     ]
    },
    {
     "name": "stderr",
     "output_type": "stream",
     "text": [
      "59it [00:06,  9.37it/s]\n"
     ]
    },
    {
     "name": "stdout",
     "output_type": "stream",
     "text": [
      "{'method': 'tauleaping', 'g_steps': 0, 'tau_steps': 60, 'use_corrector': True, 'corrector': 'barker', 'c_stepsize': 0.1, 'c_steps': 2, 'nfe': 168.0, 'time_mean': 0.0023105662647877412, 'time_var': 0.0004293559059579324, 'time_skew': 0.4849813612029219, 'time_kurt': 2.60860362717139, 'freq_mean': 0.0023105709332934704, 'freq_var': 0.004852069849693169, 'freq_skew': 0.8115699896872999, 'freq_kurt': 8.940982580726166}\n"
     ]
    },
    {
     "name": "stderr",
     "output_type": "stream",
     "text": [
      "59it [00:06,  8.92it/s]\n"
     ]
    },
    {
     "name": "stdout",
     "output_type": "stream",
     "text": [
      "{'method': 'tauleaping', 'g_steps': 0, 'tau_steps': 60, 'use_corrector': True, 'corrector': 'barker', 'c_stepsize': 0.1, 'c_steps': 2, 'nfe': 168.0, 'time_mean': 0.0019723064748485863, 'time_var': 0.00030485553133981707, 'time_skew': 0.5905107759361953, 'time_kurt': 3.4556392783383467, 'freq_mean': 0.001972311424009915, 'freq_var': 0.004000677706827095, 'freq_skew': 0.916733253053858, 'freq_kurt': 10.288309019790406}\n"
     ]
    },
    {
     "name": "stderr",
     "output_type": "stream",
     "text": [
      "59it [00:06,  9.35it/s]\n"
     ]
    },
    {
     "name": "stdout",
     "output_type": "stream",
     "text": [
      "{'method': 'tauleaping', 'g_steps': 0, 'tau_steps': 60, 'use_corrector': True, 'corrector': 'barker', 'c_stepsize': 0.1, 'c_steps': 2, 'nfe': 168.0, 'time_mean': 0.0015984442719155958, 'time_var': 0.0004005507298519152, 'time_skew': 0.42535628389155455, 'time_kurt': 2.48313075750517, 'freq_mean': 0.0015984487770439547, 'freq_var': 0.003580714899686253, 'freq_skew': 0.9036989622720104, 'freq_kurt': 9.968296116802959}\n"
     ]
    },
    {
     "name": "stderr",
     "output_type": "stream",
     "text": [
      "59it [00:06,  9.36it/s]\n"
     ]
    },
    {
     "name": "stdout",
     "output_type": "stream",
     "text": [
      "{'method': 'tauleaping', 'g_steps': 0, 'tau_steps': 60, 'use_corrector': True, 'corrector': 'barker', 'c_stepsize': 0.1, 'c_steps': 2, 'nfe': 168.0, 'time_mean': 0.0016847455236205738, 'time_var': 0.00034775025501225065, 'time_skew': 0.49193276524701895, 'time_kurt': 2.567894799130962, 'freq_mean': 0.0016847506093849679, 'freq_var': 0.003793714421834095, 'freq_skew': 0.8641903456401783, 'freq_kurt': 9.82477203685209}\n"
     ]
    },
    {
     "name": "stderr",
     "output_type": "stream",
     "text": [
      "59it [00:06,  9.36it/s]\n"
     ]
    },
    {
     "name": "stdout",
     "output_type": "stream",
     "text": [
      "{'method': 'tauleaping', 'g_steps': 0, 'tau_steps': 60, 'use_corrector': True, 'corrector': 'barker', 'c_stepsize': 0.1, 'c_steps': 2, 'nfe': 168.0, 'time_mean': 0.002169929095176977, 'time_var': 0.0006825417629047516, 'time_skew': 0.49411534023843146, 'time_kurt': 2.5030697827739745, 'freq_mean': 0.0021699345811846357, 'freq_var': 0.0037453984443481724, 'freq_skew': 0.8832765465497431, 'freq_kurt': 9.550586916506749}\n"
     ]
    },
    {
     "name": "stderr",
     "output_type": "stream",
     "text": [
      "59it [00:06,  9.36it/s]\n"
     ]
    },
    {
     "name": "stdout",
     "output_type": "stream",
     "text": [
      "{'method': 'tauleaping', 'g_steps': 0, 'tau_steps': 60, 'use_corrector': True, 'corrector': 'barker', 'c_stepsize': 0.1, 'c_steps': 2, 'nfe': 168.0, 'time_mean': 0.002256430587641925, 'time_var': 0.0005234645642261256, 'time_skew': 0.5407478859490819, 'time_kurt': 3.2923808407766453, 'freq_mean': 0.0022564360992945844, 'freq_var': 0.004689458134104025, 'freq_skew': 1.081580543812173, 'freq_kurt': 10.664363164068366}\n"
     ]
    },
    {
     "name": "stderr",
     "output_type": "stream",
     "text": [
      "59it [00:06,  9.08it/s]\n"
     ]
    },
    {
     "name": "stdout",
     "output_type": "stream",
     "text": [
      "{'method': 'tauleaping', 'g_steps': 0, 'tau_steps': 60, 'use_corrector': True, 'corrector': 'barker', 'c_stepsize': 0.1, 'c_steps': 2, 'nfe': 168.0, 'time_mean': 0.0013619913976256012, 'time_var': 0.0005801119964337127, 'time_skew': 0.47703026869866855, 'time_kurt': 2.3870089216854686, 'freq_mean': 0.0013619967000654204, 'freq_var': 0.003386909912332751, 'freq_skew': 0.9019652249970628, 'freq_kurt': 10.38205603160433}\n",
      "Experiment results saved to  gene_results.csv\n"
     ]
    },
    {
     "name": "stderr",
     "output_type": "stream",
     "text": [
      "19it [00:01,  9.66it/s]\n"
     ]
    },
    {
     "name": "stdout",
     "output_type": "stream",
     "text": [
      "{'method': 'tauleaping', 'g_steps': 0, 'tau_steps': 20, 'use_corrector': True, 'corrector': 'birthdeath', 'c_stepsize': 0.1, 'c_steps': 2, 'nfe': 56.0, 'time_mean': 0.0035477565094811066, 'time_var': 0.0017800934918855967, 'time_skew': 0.8411331460085104, 'time_kurt': 2.396980318365992, 'freq_mean': 0.00354776747037307, 'freq_var': 0.008140327510180697, 'freq_skew': 1.0208494886075121, 'freq_kurt': 12.130264002607218}\n"
     ]
    },
    {
     "name": "stderr",
     "output_type": "stream",
     "text": [
      "19it [00:02,  8.84it/s]\n"
     ]
    },
    {
     "name": "stdout",
     "output_type": "stream",
     "text": [
      "{'method': 'tauleaping', 'g_steps': 0, 'tau_steps': 20, 'use_corrector': True, 'corrector': 'birthdeath', 'c_stepsize': 0.1, 'c_steps': 2, 'nfe': 56.0, 'time_mean': 0.004966722890386809, 'time_var': 0.0032554884633573273, 'time_skew': 0.8675955662258745, 'time_kurt': 1.7195429044782884, 'freq_mean': 0.004966734905030329, 'freq_var': 0.008124842013468785, 'freq_skew': 1.030492368384375, 'freq_kurt': 11.980828169098434}\n"
     ]
    },
    {
     "name": "stderr",
     "output_type": "stream",
     "text": [
      "19it [00:01,  9.65it/s]\n"
     ]
    },
    {
     "name": "stdout",
     "output_type": "stream",
     "text": [
      "{'method': 'tauleaping', 'g_steps': 0, 'tau_steps': 20, 'use_corrector': True, 'corrector': 'birthdeath', 'c_stepsize': 0.1, 'c_steps': 2, 'nfe': 56.0, 'time_mean': 0.0033358401839082767, 'time_var': 0.0026732817465305167, 'time_skew': 0.802149666224299, 'time_kurt': 1.834529671754113, 'freq_mean': 0.003335851049395332, 'freq_var': 0.007528855758178093, 'freq_skew': 0.9623789398956268, 'freq_kurt': 11.355449177850776}\n"
     ]
    },
    {
     "name": "stderr",
     "output_type": "stream",
     "text": [
      "19it [00:01,  9.66it/s]\n"
     ]
    },
    {
     "name": "stdout",
     "output_type": "stream",
     "text": [
      "{'method': 'tauleaping', 'g_steps': 0, 'tau_steps': 20, 'use_corrector': True, 'corrector': 'birthdeath', 'c_stepsize': 0.1, 'c_steps': 2, 'nfe': 56.0, 'time_mean': 0.003935282568286966, 'time_var': 0.002240131286606037, 'time_skew': 0.825614517532869, 'time_kurt': 1.9465832525987787, 'freq_mean': 0.003935294608110728, 'freq_var': 0.008336694981647448, 'freq_skew': 1.0284072903822152, 'freq_kurt': 12.165121912434529}\n"
     ]
    },
    {
     "name": "stderr",
     "output_type": "stream",
     "text": [
      "19it [00:01,  9.66it/s]\n"
     ]
    },
    {
     "name": "stdout",
     "output_type": "stream",
     "text": [
      "{'method': 'tauleaping', 'g_steps': 0, 'tau_steps': 20, 'use_corrector': True, 'corrector': 'birthdeath', 'c_stepsize': 0.1, 'c_steps': 2, 'nfe': 56.0, 'time_mean': 0.003389517877666178, 'time_var': 0.0021506199235228384, 'time_skew': 0.8653383080417822, 'time_kurt': 2.1645169526986683, 'freq_mean': 0.0033895283658900623, 'freq_var': 0.008633054511145799, 'freq_skew': 1.0199741520363024, 'freq_kurt': 12.33236682575342}\n"
     ]
    },
    {
     "name": "stderr",
     "output_type": "stream",
     "text": [
      "19it [00:01,  9.66it/s]\n"
     ]
    },
    {
     "name": "stdout",
     "output_type": "stream",
     "text": [
      "{'method': 'tauleaping', 'g_steps': 0, 'tau_steps': 20, 'use_corrector': True, 'corrector': 'birthdeath', 'c_stepsize': 0.1, 'c_steps': 2, 'nfe': 56.0, 'time_mean': 0.0036023658072090923, 'time_var': 0.001583462965891608, 'time_skew': 0.8367168484303221, 'time_kurt': 2.793745558203488, 'freq_mean': 0.0036023765209568315, 'freq_var': 0.0086629770749174, 'freq_skew': 1.0748257579104792, 'freq_kurt': 10.90452480498351}\n"
     ]
    },
    {
     "name": "stderr",
     "output_type": "stream",
     "text": [
      "19it [00:01,  9.67it/s]\n"
     ]
    },
    {
     "name": "stdout",
     "output_type": "stream",
     "text": [
      "{'method': 'tauleaping', 'g_steps': 0, 'tau_steps': 20, 'use_corrector': True, 'corrector': 'birthdeath', 'c_stepsize': 0.1, 'c_steps': 2, 'nfe': 56.0, 'time_mean': 0.003662020009806689, 'time_var': 0.002215754291555969, 'time_skew': 0.7909916196181318, 'time_kurt': 2.149123682905983, 'freq_mean': 0.0036620314045249856, 'freq_var': 0.008299136715431676, 'freq_skew': 1.0374077930557914, 'freq_kurt': 11.655394582397271}\n"
     ]
    },
    {
     "name": "stderr",
     "output_type": "stream",
     "text": [
      "19it [00:01,  9.67it/s]\n"
     ]
    },
    {
     "name": "stdout",
     "output_type": "stream",
     "text": [
      "{'method': 'tauleaping', 'g_steps': 0, 'tau_steps': 20, 'use_corrector': True, 'corrector': 'birthdeath', 'c_stepsize': 0.1, 'c_steps': 2, 'nfe': 56.0, 'time_mean': 0.003287975320146706, 'time_var': 0.0024036067676333206, 'time_skew': 0.7681445714805792, 'time_kurt': 1.615384691927416, 'freq_mean': 0.0032879866360025346, 'freq_var': 0.006882228921664297, 'freq_skew': 1.1228022758731286, 'freq_kurt': 10.708622471064322}\n"
     ]
    },
    {
     "name": "stderr",
     "output_type": "stream",
     "text": [
      "19it [00:01,  9.65it/s]\n"
     ]
    },
    {
     "name": "stdout",
     "output_type": "stream",
     "text": [
      "{'method': 'tauleaping', 'g_steps': 0, 'tau_steps': 20, 'use_corrector': True, 'corrector': 'birthdeath', 'c_stepsize': 0.1, 'c_steps': 2, 'nfe': 56.0, 'time_mean': 0.003836945227450313, 'time_var': 0.0018452886408310263, 'time_skew': 0.8813474731730682, 'time_kurt': 2.504535727385194, 'freq_mean': 0.0038369557965544187, 'freq_var': 0.008240801293455937, 'freq_skew': 1.0401483922288695, 'freq_kurt': 11.982108454466925}\n"
     ]
    },
    {
     "name": "stderr",
     "output_type": "stream",
     "text": [
      "19it [00:01,  9.66it/s]\n"
     ]
    },
    {
     "name": "stdout",
     "output_type": "stream",
     "text": [
      "{'method': 'tauleaping', 'g_steps': 0, 'tau_steps': 20, 'use_corrector': True, 'corrector': 'birthdeath', 'c_stepsize': 0.1, 'c_steps': 2, 'nfe': 56.0, 'time_mean': 0.003938809081492418, 'time_var': 0.0020090046408468387, 'time_skew': 0.8406956327142011, 'time_kurt': 2.2841821787830328, 'freq_mean': 0.0039388202841736325, 'freq_var': 0.00796006204466844, 'freq_skew': 1.0923955643818357, 'freq_kurt': 11.621986512039731}\n"
     ]
    },
    {
     "name": "stderr",
     "output_type": "stream",
     "text": [
      "19it [00:01,  9.66it/s]\n"
     ]
    },
    {
     "name": "stdout",
     "output_type": "stream",
     "text": [
      "{'method': 'tauleaping', 'g_steps': 0, 'tau_steps': 20, 'use_corrector': True, 'corrector': 'birthdeath', 'c_stepsize': 0.1, 'c_steps': 2, 'nfe': 56.0, 'time_mean': 0.0043708738016680175, 'time_var': 0.0021608034951574435, 'time_skew': 0.9570358134816747, 'time_kurt': 2.600098506734297, 'freq_mean': 0.004370884812584471, 'freq_var': 0.00934524595853797, 'freq_skew': 1.0391268916986427, 'freq_kurt': 12.081329748048852}\n"
     ]
    },
    {
     "name": "stderr",
     "output_type": "stream",
     "text": [
      "19it [00:01,  9.65it/s]\n"
     ]
    },
    {
     "name": "stdout",
     "output_type": "stream",
     "text": [
      "{'method': 'tauleaping', 'g_steps': 0, 'tau_steps': 20, 'use_corrector': True, 'corrector': 'birthdeath', 'c_stepsize': 0.1, 'c_steps': 2, 'nfe': 56.0, 'time_mean': 0.003452996680911169, 'time_var': 0.0021455888668457934, 'time_skew': 0.8654925967865023, 'time_kurt': 2.1726058690383763, 'freq_mean': 0.0034530079430711838, 'freq_var': 0.006936131689096567, 'freq_skew': 1.0695852604419254, 'freq_kurt': 11.953379246920596}\n"
     ]
    },
    {
     "name": "stderr",
     "output_type": "stream",
     "text": [
      "19it [00:01,  9.66it/s]\n"
     ]
    },
    {
     "name": "stdout",
     "output_type": "stream",
     "text": [
      "{'method': 'tauleaping', 'g_steps': 0, 'tau_steps': 20, 'use_corrector': True, 'corrector': 'birthdeath', 'c_stepsize': 0.1, 'c_steps': 2, 'nfe': 56.0, 'time_mean': 0.003297344204670459, 'time_var': 0.002223879651928612, 'time_skew': 0.8169474180402836, 'time_kurt': 1.970471284537156, 'freq_mean': 0.003297355243948981, 'freq_var': 0.007941959524332286, 'freq_skew': 1.0422869771170324, 'freq_kurt': 11.58103017686693}\n"
     ]
    },
    {
     "name": "stderr",
     "output_type": "stream",
     "text": [
      "19it [00:01,  9.66it/s]\n"
     ]
    },
    {
     "name": "stdout",
     "output_type": "stream",
     "text": [
      "{'method': 'tauleaping', 'g_steps': 0, 'tau_steps': 20, 'use_corrector': True, 'corrector': 'birthdeath', 'c_stepsize': 0.1, 'c_steps': 2, 'nfe': 56.0, 'time_mean': 0.003756306936605874, 'time_var': 0.0018230480945526566, 'time_skew': 0.7466233915875844, 'time_kurt': 2.104580293127547, 'freq_mean': 0.003756317939418798, 'freq_var': 0.007442236520268097, 'freq_skew': 0.9800354133849486, 'freq_kurt': 11.72904984794947}\n"
     ]
    },
    {
     "name": "stderr",
     "output_type": "stream",
     "text": [
      "19it [00:01,  9.60it/s]\n"
     ]
    },
    {
     "name": "stdout",
     "output_type": "stream",
     "text": [
      "{'method': 'tauleaping', 'g_steps': 0, 'tau_steps': 20, 'use_corrector': True, 'corrector': 'birthdeath', 'c_stepsize': 0.1, 'c_steps': 2, 'nfe': 56.0, 'time_mean': 0.0035341952365265054, 'time_var': 0.0022443912959481077, 'time_skew': 0.7851429875272963, 'time_kurt': 1.961138274260875, 'freq_mean': 0.0035342065006432025, 'freq_var': 0.008263363519646481, 'freq_skew': 1.0356828955523598, 'freq_kurt': 11.755997437220685}\n"
     ]
    },
    {
     "name": "stderr",
     "output_type": "stream",
     "text": [
      "19it [00:01,  9.66it/s]\n"
     ]
    },
    {
     "name": "stdout",
     "output_type": "stream",
     "text": [
      "{'method': 'tauleaping', 'g_steps': 0, 'tau_steps': 20, 'use_corrector': True, 'corrector': 'birthdeath', 'c_stepsize': 0.1, 'c_steps': 2, 'nfe': 56.0, 'time_mean': 0.00346424351205509, 'time_var': 0.0022434877185333203, 'time_skew': 0.8234617107020806, 'time_kurt': 1.8272287501054023, 'freq_mean': 0.0034642542275981703, 'freq_var': 0.007985018202855583, 'freq_skew': 1.034185567275191, 'freq_kurt': 11.721239899750874}\n"
     ]
    },
    {
     "name": "stderr",
     "output_type": "stream",
     "text": [
      "19it [00:01,  9.66it/s]\n"
     ]
    },
    {
     "name": "stdout",
     "output_type": "stream",
     "text": [
      "{'method': 'tauleaping', 'g_steps': 0, 'tau_steps': 20, 'use_corrector': True, 'corrector': 'birthdeath', 'c_stepsize': 0.1, 'c_steps': 2, 'nfe': 56.0, 'time_mean': 0.004575191221424942, 'time_var': 0.0023041773688591617, 'time_skew': 0.9575147889686704, 'time_kurt': 2.4600588683934754, 'freq_mean': 0.004575202496016522, 'freq_var': 0.009763017663785267, 'freq_skew': 1.0422929793838698, 'freq_kurt': 11.874370990923582}\n"
     ]
    },
    {
     "name": "stderr",
     "output_type": "stream",
     "text": [
      "19it [00:01,  9.66it/s]\n"
     ]
    },
    {
     "name": "stdout",
     "output_type": "stream",
     "text": [
      "{'method': 'tauleaping', 'g_steps': 0, 'tau_steps': 20, 'use_corrector': True, 'corrector': 'birthdeath', 'c_stepsize': 0.1, 'c_steps': 2, 'nfe': 56.0, 'time_mean': 0.003448714054234492, 'time_var': 0.002637516447167682, 'time_skew': 0.8722683943928659, 'time_kurt': 1.7891153424314128, 'freq_mean': 0.0034487258723597063, 'freq_var': 0.008433844846886338, 'freq_skew': 1.0853575551648575, 'freq_kurt': 12.19218941507136}\n"
     ]
    },
    {
     "name": "stderr",
     "output_type": "stream",
     "text": [
      "19it [00:01,  9.65it/s]\n"
     ]
    },
    {
     "name": "stdout",
     "output_type": "stream",
     "text": [
      "{'method': 'tauleaping', 'g_steps': 0, 'tau_steps': 20, 'use_corrector': True, 'corrector': 'birthdeath', 'c_stepsize': 0.1, 'c_steps': 2, 'nfe': 56.0, 'time_mean': 0.0041067791955524055, 'time_var': 0.001629938581415819, 'time_skew': 0.818458979048158, 'time_kurt': 2.3797382319976355, 'freq_mean': 0.004106790576812677, 'freq_var': 0.00772843788573553, 'freq_skew': 1.0492059381979257, 'freq_kurt': 11.500509812191858}\n"
     ]
    },
    {
     "name": "stderr",
     "output_type": "stream",
     "text": [
      "19it [00:01,  9.66it/s]\n"
     ]
    },
    {
     "name": "stdout",
     "output_type": "stream",
     "text": [
      "{'method': 'tauleaping', 'g_steps': 0, 'tau_steps': 20, 'use_corrector': True, 'corrector': 'birthdeath', 'c_stepsize': 0.1, 'c_steps': 2, 'nfe': 56.0, 'time_mean': 0.005113331052873343, 'time_var': 0.002632277977539312, 'time_skew': 0.855437505464172, 'time_kurt': 2.0663469706617277, 'freq_mean': 0.0051133420379897935, 'freq_var': 0.008889570856974793, 'freq_skew': 1.0593391876070495, 'freq_kurt': 12.344052149062355}\n",
      "Experiment results saved to  gene_results.csv\n"
     ]
    },
    {
     "name": "stderr",
     "output_type": "stream",
     "text": [
      "29it [00:03,  9.51it/s]\n"
     ]
    },
    {
     "name": "stdout",
     "output_type": "stream",
     "text": [
      "{'method': 'tauleaping', 'g_steps': 0, 'tau_steps': 30, 'use_corrector': True, 'corrector': 'birthdeath', 'c_stepsize': 0.1, 'c_steps': 2, 'nfe': 84.0, 'time_mean': 0.002538186442188025, 'time_var': 0.0010714679267393417, 'time_skew': 0.6881952254469901, 'time_kurt': 2.8270021529546843, 'freq_mean': 0.0025381944446915463, 'freq_var': 0.005684593261166114, 'freq_skew': 1.0067206526339527, 'freq_kurt': 10.770354372918076}\n"
     ]
    },
    {
     "name": "stderr",
     "output_type": "stream",
     "text": [
      "29it [00:03,  9.50it/s]\n"
     ]
    },
    {
     "name": "stdout",
     "output_type": "stream",
     "text": [
      "{'method': 'tauleaping', 'g_steps': 0, 'tau_steps': 30, 'use_corrector': True, 'corrector': 'birthdeath', 'c_stepsize': 0.1, 'c_steps': 2, 'nfe': 84.0, 'time_mean': 0.0025859096087250274, 'time_var': 0.001165603372316003, 'time_skew': 0.7042588772483735, 'time_kurt': 2.59695454622866, 'freq_mean': 0.0025859185731606305, 'freq_var': 0.006407035966439359, 'freq_skew': 1.0073217955325915, 'freq_kurt': 11.140190989876702}\n"
     ]
    },
    {
     "name": "stderr",
     "output_type": "stream",
     "text": [
      "29it [00:03,  9.51it/s]\n"
     ]
    },
    {
     "name": "stdout",
     "output_type": "stream",
     "text": [
      "{'method': 'tauleaping', 'g_steps': 0, 'tau_steps': 30, 'use_corrector': True, 'corrector': 'birthdeath', 'c_stepsize': 0.1, 'c_steps': 2, 'nfe': 84.0, 'time_mean': 0.0023310111957347145, 'time_var': 0.0014921954095026735, 'time_skew': 0.7085863503170119, 'time_kurt': 2.3332120703293566, 'freq_mean': 0.0023310196114086955, 'freq_var': 0.005930608716793642, 'freq_skew': 0.9911512947082014, 'freq_kurt': 11.599550815475931}\n"
     ]
    },
    {
     "name": "stderr",
     "output_type": "stream",
     "text": [
      "29it [00:03,  9.51it/s]\n"
     ]
    },
    {
     "name": "stdout",
     "output_type": "stream",
     "text": [
      "{'method': 'tauleaping', 'g_steps': 0, 'tau_steps': 30, 'use_corrector': True, 'corrector': 'birthdeath', 'c_stepsize': 0.1, 'c_steps': 2, 'nfe': 84.0, 'time_mean': 0.00308993626433977, 'time_var': 0.0012543698780899447, 'time_skew': 0.7321923889150033, 'time_kurt': 2.6105729737775714, 'freq_mean': 0.003089945481093157, 'freq_var': 0.007423968917313007, 'freq_skew': 1.0452517819409415, 'freq_kurt': 11.918834709635155}\n"
     ]
    },
    {
     "name": "stderr",
     "output_type": "stream",
     "text": [
      "29it [00:03,  9.50it/s]\n"
     ]
    },
    {
     "name": "stdout",
     "output_type": "stream",
     "text": [
      "{'method': 'tauleaping', 'g_steps': 0, 'tau_steps': 30, 'use_corrector': True, 'corrector': 'birthdeath', 'c_stepsize': 0.1, 'c_steps': 2, 'nfe': 84.0, 'time_mean': 0.0026866180434590606, 'time_var': 0.0012092639354684724, 'time_skew': 0.7098289853801513, 'time_kurt': 2.466865555860528, 'freq_mean': 0.0026866264675404596, 'freq_var': 0.005553133264263762, 'freq_skew': 0.9987513310610739, 'freq_kurt': 11.032863229754502}\n"
     ]
    },
    {
     "name": "stderr",
     "output_type": "stream",
     "text": [
      "29it [00:03,  9.51it/s]\n"
     ]
    },
    {
     "name": "stdout",
     "output_type": "stream",
     "text": [
      "{'method': 'tauleaping', 'g_steps': 0, 'tau_steps': 30, 'use_corrector': True, 'corrector': 'birthdeath', 'c_stepsize': 0.1, 'c_steps': 2, 'nfe': 84.0, 'time_mean': 0.0025629099153789783, 'time_var': 0.0012125131325196046, 'time_skew': 0.6472921752625752, 'time_kurt': 2.2535787887561116, 'freq_mean': 0.002562917682393337, 'freq_var': 0.00583063885289927, 'freq_skew': 1.0323668032989173, 'freq_kurt': 11.245160802909478}\n"
     ]
    },
    {
     "name": "stderr",
     "output_type": "stream",
     "text": [
      "29it [00:03,  9.34it/s]\n"
     ]
    },
    {
     "name": "stdout",
     "output_type": "stream",
     "text": [
      "{'method': 'tauleaping', 'g_steps': 0, 'tau_steps': 30, 'use_corrector': True, 'corrector': 'birthdeath', 'c_stepsize': 0.1, 'c_steps': 2, 'nfe': 84.0, 'time_mean': 0.0024593940133894898, 'time_var': 0.0012408927682657407, 'time_skew': 0.6868209323985576, 'time_kurt': 2.457019801100225, 'freq_mean': 0.002459402789441298, 'freq_var': 0.006585278640945476, 'freq_skew': 0.9948469020338194, 'freq_kurt': 11.316745559465108}\n"
     ]
    },
    {
     "name": "stderr",
     "output_type": "stream",
     "text": [
      "29it [00:03,  9.48it/s]\n"
     ]
    },
    {
     "name": "stdout",
     "output_type": "stream",
     "text": [
      "{'method': 'tauleaping', 'g_steps': 0, 'tau_steps': 30, 'use_corrector': True, 'corrector': 'birthdeath', 'c_stepsize': 0.1, 'c_steps': 2, 'nfe': 84.0, 'time_mean': 0.002157451192868588, 'time_var': 0.0016285792988898764, 'time_skew': 0.7233729409978551, 'time_kurt': 2.037939424788625, 'freq_mean': 0.002157459855293247, 'freq_var': 0.0049792688795209546, 'freq_skew': 0.9558152989045428, 'freq_kurt': 11.332544190110452}\n"
     ]
    },
    {
     "name": "stderr",
     "output_type": "stream",
     "text": [
      "29it [00:03,  9.50it/s]\n"
     ]
    },
    {
     "name": "stdout",
     "output_type": "stream",
     "text": [
      "{'method': 'tauleaping', 'g_steps': 0, 'tau_steps': 30, 'use_corrector': True, 'corrector': 'birthdeath', 'c_stepsize': 0.1, 'c_steps': 2, 'nfe': 84.0, 'time_mean': 0.002548638392776877, 'time_var': 0.0011768395851963695, 'time_skew': 0.6923985026313557, 'time_kurt': 2.414072990967241, 'freq_mean': 0.0025486469021547913, 'freq_var': 0.006154912169151313, 'freq_skew': 1.1214662772057002, 'freq_kurt': 12.20123451127912}\n"
     ]
    },
    {
     "name": "stderr",
     "output_type": "stream",
     "text": [
      "29it [00:03,  9.52it/s]\n"
     ]
    },
    {
     "name": "stdout",
     "output_type": "stream",
     "text": [
      "{'method': 'tauleaping', 'g_steps': 0, 'tau_steps': 30, 'use_corrector': True, 'corrector': 'birthdeath', 'c_stepsize': 0.1, 'c_steps': 2, 'nfe': 84.0, 'time_mean': 0.0028011319094580875, 'time_var': 0.0010189959738134947, 'time_skew': 0.7859522978522022, 'time_kurt': 2.875033451569727, 'freq_mean': 0.002801139764851579, 'freq_var': 0.0065064824094306865, 'freq_skew': 1.0510407063923657, 'freq_kurt': 11.714658901276865}\n"
     ]
    },
    {
     "name": "stderr",
     "output_type": "stream",
     "text": [
      "29it [00:03,  9.50it/s]\n"
     ]
    },
    {
     "name": "stdout",
     "output_type": "stream",
     "text": [
      "{'method': 'tauleaping', 'g_steps': 0, 'tau_steps': 30, 'use_corrector': True, 'corrector': 'birthdeath', 'c_stepsize': 0.1, 'c_steps': 2, 'nfe': 84.0, 'time_mean': 0.0038356185848247458, 'time_var': 0.0012694443004407766, 'time_skew': 0.8433345331659782, 'time_kurt': 2.794196904868832, 'freq_mean': 0.0038356277482259338, 'freq_var': 0.006713579837154632, 'freq_skew': 1.0930662056426066, 'freq_kurt': 11.8890614860911}\n"
     ]
    },
    {
     "name": "stderr",
     "output_type": "stream",
     "text": [
      "29it [00:03,  9.50it/s]\n"
     ]
    },
    {
     "name": "stdout",
     "output_type": "stream",
     "text": [
      "{'method': 'tauleaping', 'g_steps': 0, 'tau_steps': 30, 'use_corrector': True, 'corrector': 'birthdeath', 'c_stepsize': 0.1, 'c_steps': 2, 'nfe': 84.0, 'time_mean': 0.0031741620607571943, 'time_var': 0.0012036202806657225, 'time_skew': 0.6164269685909308, 'time_kurt': 2.3900876238633795, 'freq_mean': 0.0031741705982149104, 'freq_var': 0.004802183414101431, 'freq_skew': 1.0383699170361675, 'freq_kurt': 11.208842321719763}\n"
     ]
    },
    {
     "name": "stderr",
     "output_type": "stream",
     "text": [
      "29it [00:03,  9.51it/s]\n"
     ]
    },
    {
     "name": "stdout",
     "output_type": "stream",
     "text": [
      "{'method': 'tauleaping', 'g_steps': 0, 'tau_steps': 30, 'use_corrector': True, 'corrector': 'birthdeath', 'c_stepsize': 0.1, 'c_steps': 2, 'nfe': 84.0, 'time_mean': 0.002711236917404784, 'time_var': 0.0011706887849342582, 'time_skew': 0.7761511446799386, 'time_kurt': 2.591198227563912, 'freq_mean': 0.0027112451773799074, 'freq_var': 0.00613763601287103, 'freq_skew': 1.0070810494908904, 'freq_kurt': 11.836916956554575}\n"
     ]
    },
    {
     "name": "stderr",
     "output_type": "stream",
     "text": [
      "29it [00:03,  9.51it/s]\n"
     ]
    },
    {
     "name": "stdout",
     "output_type": "stream",
     "text": [
      "{'method': 'tauleaping', 'g_steps': 0, 'tau_steps': 30, 'use_corrector': True, 'corrector': 'birthdeath', 'c_stepsize': 0.1, 'c_steps': 2, 'nfe': 84.0, 'time_mean': 0.0025544475068836415, 'time_var': 0.0011670947022785526, 'time_skew': 0.6749984391657959, 'time_kurt': 2.1149361356182332, 'freq_mean': 0.0025544556442806134, 'freq_var': 0.005522045648747553, 'freq_skew': 1.0303048271745532, 'freq_kurt': 11.644748129847837}\n"
     ]
    },
    {
     "name": "stderr",
     "output_type": "stream",
     "text": [
      "29it [00:03,  9.45it/s]\n"
     ]
    },
    {
     "name": "stdout",
     "output_type": "stream",
     "text": [
      "{'method': 'tauleaping', 'g_steps': 0, 'tau_steps': 30, 'use_corrector': True, 'corrector': 'birthdeath', 'c_stepsize': 0.1, 'c_steps': 2, 'nfe': 84.0, 'time_mean': 0.0033145142916925743, 'time_var': 0.0014844912313431548, 'time_skew': 0.6591636218151387, 'time_kurt': 2.4754425417597905, 'freq_mean': 0.0033145233131946007, 'freq_var': 0.004889115301352286, 'freq_skew': 0.9874985473470363, 'freq_kurt': 11.44560440399775}\n"
     ]
    },
    {
     "name": "stderr",
     "output_type": "stream",
     "text": [
      "29it [00:03,  9.48it/s]\n"
     ]
    },
    {
     "name": "stdout",
     "output_type": "stream",
     "text": [
      "{'method': 'tauleaping', 'g_steps': 0, 'tau_steps': 30, 'use_corrector': True, 'corrector': 'birthdeath', 'c_stepsize': 0.1, 'c_steps': 2, 'nfe': 84.0, 'time_mean': 0.0025489213303543532, 'time_var': 0.0007955861161090556, 'time_skew': 0.7335817913717128, 'time_kurt': 3.08903102040089, 'freq_mean': 0.0025489291361796436, 'freq_var': 0.005814924412182078, 'freq_skew': 1.0337674278112707, 'freq_kurt': 10.45260958859256}\n"
     ]
    },
    {
     "name": "stderr",
     "output_type": "stream",
     "text": [
      "29it [00:03,  9.35it/s]\n"
     ]
    },
    {
     "name": "stdout",
     "output_type": "stream",
     "text": [
      "{'method': 'tauleaping', 'g_steps': 0, 'tau_steps': 30, 'use_corrector': True, 'corrector': 'birthdeath', 'c_stepsize': 0.1, 'c_steps': 2, 'nfe': 84.0, 'time_mean': 0.002650549009156984, 'time_var': 0.0014449636819755308, 'time_skew': 0.715830739890936, 'time_kurt': 2.283462659628514, 'freq_mean': 0.0026505576760869967, 'freq_var': 0.005123755587819151, 'freq_skew': 0.9728953716051719, 'freq_kurt': 11.475698062448547}\n"
     ]
    },
    {
     "name": "stderr",
     "output_type": "stream",
     "text": [
      "29it [00:03,  9.51it/s]\n"
     ]
    },
    {
     "name": "stdout",
     "output_type": "stream",
     "text": [
      "{'method': 'tauleaping', 'g_steps': 0, 'tau_steps': 30, 'use_corrector': True, 'corrector': 'birthdeath', 'c_stepsize': 0.1, 'c_steps': 2, 'nfe': 84.0, 'time_mean': 0.003393062735791953, 'time_var': 0.0014279685717114349, 'time_skew': 0.7774690042074076, 'time_kurt': 2.2811615113477623, 'freq_mean': 0.0033930705370690726, 'freq_var': 0.005449067727885416, 'freq_skew': 0.9599961051513861, 'freq_kurt': 11.265432620054282}\n"
     ]
    },
    {
     "name": "stderr",
     "output_type": "stream",
     "text": [
      "29it [00:03,  9.51it/s]\n"
     ]
    },
    {
     "name": "stdout",
     "output_type": "stream",
     "text": [
      "{'method': 'tauleaping', 'g_steps': 0, 'tau_steps': 30, 'use_corrector': True, 'corrector': 'birthdeath', 'c_stepsize': 0.1, 'c_steps': 2, 'nfe': 84.0, 'time_mean': 0.0024059324412506996, 'time_var': 0.001125273425440071, 'time_skew': 0.7501840506461904, 'time_kurt': 2.7672255441136144, 'freq_mean': 0.0024059406067904383, 'freq_var': 0.006883640216497022, 'freq_skew': 1.0316905151565132, 'freq_kurt': 11.19488250125931}\n"
     ]
    },
    {
     "name": "stderr",
     "output_type": "stream",
     "text": [
      "29it [00:03,  9.52it/s]\n"
     ]
    },
    {
     "name": "stdout",
     "output_type": "stream",
     "text": [
      "{'method': 'tauleaping', 'g_steps': 0, 'tau_steps': 30, 'use_corrector': True, 'corrector': 'birthdeath', 'c_stepsize': 0.1, 'c_steps': 2, 'nfe': 84.0, 'time_mean': 0.002821927781807248, 'time_var': 0.0010176809417391504, 'time_skew': 0.6431427355417767, 'time_kurt': 2.323806495547873, 'freq_mean': 0.0028219367431450908, 'freq_var': 0.006130002755742938, 'freq_skew': 1.0236815493481086, 'freq_kurt': 10.65989025212671}\n",
      "Experiment results saved to  gene_results.csv\n"
     ]
    },
    {
     "name": "stderr",
     "output_type": "stream",
     "text": [
      "59it [00:06,  9.37it/s]\n"
     ]
    },
    {
     "name": "stdout",
     "output_type": "stream",
     "text": [
      "{'method': 'tauleaping', 'g_steps': 0, 'tau_steps': 60, 'use_corrector': True, 'corrector': 'birthdeath', 'c_stepsize': 0.1, 'c_steps': 2, 'nfe': 168.0, 'time_mean': 0.002598422135814149, 'time_var': 0.0002688706684085775, 'time_skew': 0.5451915204117352, 'time_kurt': 3.1112793617084527, 'freq_mean': 0.002598426865796018, 'freq_var': 0.004493067213079144, 'freq_skew': 0.9081428404615436, 'freq_kurt': 9.046123416216693}\n"
     ]
    },
    {
     "name": "stderr",
     "output_type": "stream",
     "text": [
      "59it [00:06,  9.29it/s]\n"
     ]
    },
    {
     "name": "stdout",
     "output_type": "stream",
     "text": [
      "{'method': 'tauleaping', 'g_steps': 0, 'tau_steps': 60, 'use_corrector': True, 'corrector': 'birthdeath', 'c_stepsize': 0.1, 'c_steps': 2, 'nfe': 168.0, 'time_mean': 0.0012824229052930498, 'time_var': 0.0003434334391175493, 'time_skew': 0.4298327127284782, 'time_kurt': 2.2306631836638715, 'freq_mean': 0.0012824272927662182, 'freq_var': 0.0038168058459161955, 'freq_skew': 0.8827497722469684, 'freq_kurt': 9.787996254652928}\n"
     ]
    },
    {
     "name": "stderr",
     "output_type": "stream",
     "text": [
      "59it [00:06,  9.25it/s]\n"
     ]
    },
    {
     "name": "stdout",
     "output_type": "stream",
     "text": [
      "{'method': 'tauleaping', 'g_steps': 0, 'tau_steps': 60, 'use_corrector': True, 'corrector': 'birthdeath', 'c_stepsize': 0.1, 'c_steps': 2, 'nfe': 168.0, 'time_mean': 0.0018772280422530488, 'time_var': 0.00020081740975825402, 'time_skew': 0.4232934595458808, 'time_kurt': 2.864280025206544, 'freq_mean': 0.001877232540284901, 'freq_var': 0.004917448057779237, 'freq_skew': 0.9481449278235209, 'freq_kurt': 9.362611369803282}\n"
     ]
    },
    {
     "name": "stderr",
     "output_type": "stream",
     "text": [
      "59it [00:06,  9.15it/s]\n"
     ]
    },
    {
     "name": "stdout",
     "output_type": "stream",
     "text": [
      "{'method': 'tauleaping', 'g_steps': 0, 'tau_steps': 60, 'use_corrector': True, 'corrector': 'birthdeath', 'c_stepsize': 0.1, 'c_steps': 2, 'nfe': 168.0, 'time_mean': 0.0021792565597154143, 'time_var': 0.0002926007337587581, 'time_skew': 0.4218105000320268, 'time_kurt': 2.957431851988084, 'freq_mean': 0.0021792616528541753, 'freq_var': 0.00520473887252377, 'freq_skew': 0.9615460184159205, 'freq_kurt': 9.761988854003091}\n"
     ]
    },
    {
     "name": "stderr",
     "output_type": "stream",
     "text": [
      "59it [00:06,  9.38it/s]\n"
     ]
    },
    {
     "name": "stdout",
     "output_type": "stream",
     "text": [
      "{'method': 'tauleaping', 'g_steps': 0, 'tau_steps': 60, 'use_corrector': True, 'corrector': 'birthdeath', 'c_stepsize': 0.1, 'c_steps': 2, 'nfe': 168.0, 'time_mean': 0.00206511843411265, 'time_var': 0.0007106476354872224, 'time_skew': 0.6129398273713967, 'time_kurt': 2.7645717727718355, 'freq_mean': 0.002065123509617346, 'freq_var': 0.004468690794161958, 'freq_skew': 0.9314856429069783, 'freq_kurt': 9.605673361416285}\n"
     ]
    },
    {
     "name": "stderr",
     "output_type": "stream",
     "text": [
      "59it [00:06,  9.38it/s]\n"
     ]
    },
    {
     "name": "stdout",
     "output_type": "stream",
     "text": [
      "{'method': 'tauleaping', 'g_steps': 0, 'tau_steps': 60, 'use_corrector': True, 'corrector': 'birthdeath', 'c_stepsize': 0.1, 'c_steps': 2, 'nfe': 168.0, 'time_mean': 0.002269453443428748, 'time_var': 0.00038990697725832215, 'time_skew': 0.3980793354603878, 'time_kurt': 1.9497402993304174, 'freq_mean': 0.0022694582910634574, 'freq_var': 0.003989638169226202, 'freq_skew': 0.9483818914568943, 'freq_kurt': 9.938784668897773}\n"
     ]
    },
    {
     "name": "stderr",
     "output_type": "stream",
     "text": [
      "59it [00:06,  9.37it/s]\n"
     ]
    },
    {
     "name": "stdout",
     "output_type": "stream",
     "text": [
      "{'method': 'tauleaping', 'g_steps': 0, 'tau_steps': 60, 'use_corrector': True, 'corrector': 'birthdeath', 'c_stepsize': 0.1, 'c_steps': 2, 'nfe': 168.0, 'time_mean': 0.001397620692948317, 'time_var': 0.00042865203009904735, 'time_skew': 0.4255103377628, 'time_kurt': 2.310033531143179, 'freq_mean': 0.001397625706216565, 'freq_var': 0.0038236646210170625, 'freq_skew': 0.9892550074511702, 'freq_kurt': 10.946281572944912}\n"
     ]
    },
    {
     "name": "stderr",
     "output_type": "stream",
     "text": [
      "59it [00:06,  9.26it/s]\n"
     ]
    },
    {
     "name": "stdout",
     "output_type": "stream",
     "text": [
      "{'method': 'tauleaping', 'g_steps': 0, 'tau_steps': 60, 'use_corrector': True, 'corrector': 'birthdeath', 'c_stepsize': 0.1, 'c_steps': 2, 'nfe': 168.0, 'time_mean': 0.001282293945650547, 'time_var': 0.0005034160079912093, 'time_skew': 0.4615741134363762, 'time_kurt': 1.9641958726045103, 'freq_mean': 0.0012822988711515717, 'freq_var': 0.00335046971877326, 'freq_skew': 0.9778841579126933, 'freq_kurt': 10.125458529858426}\n"
     ]
    },
    {
     "name": "stderr",
     "output_type": "stream",
     "text": [
      "59it [00:06,  9.38it/s]\n"
     ]
    },
    {
     "name": "stdout",
     "output_type": "stream",
     "text": [
      "{'method': 'tauleaping', 'g_steps': 0, 'tau_steps': 60, 'use_corrector': True, 'corrector': 'birthdeath', 'c_stepsize': 0.1, 'c_steps': 2, 'nfe': 168.0, 'time_mean': 0.0016736250631797134, 'time_var': 0.00040524990588680746, 'time_skew': 0.44194453075141193, 'time_kurt': 2.4441838527588966, 'freq_mean': 0.001673630061398611, 'freq_var': 0.0036942467033600707, 'freq_skew': 0.9195715419016233, 'freq_kurt': 10.210780178270797}\n"
     ]
    },
    {
     "name": "stderr",
     "output_type": "stream",
     "text": [
      "59it [00:06,  9.38it/s]\n"
     ]
    },
    {
     "name": "stdout",
     "output_type": "stream",
     "text": [
      "{'method': 'tauleaping', 'g_steps': 0, 'tau_steps': 60, 'use_corrector': True, 'corrector': 'birthdeath', 'c_stepsize': 0.1, 'c_steps': 2, 'nfe': 168.0, 'time_mean': 0.00199196068886428, 'time_var': 0.0003348952171053676, 'time_skew': 0.485819618563902, 'time_kurt': 2.6792769618104684, 'freq_mean': 0.0019919655828161964, 'freq_var': 0.004383937234821895, 'freq_skew': 0.9030087517906683, 'freq_kurt': 10.009603092909774}\n"
     ]
    },
    {
     "name": "stderr",
     "output_type": "stream",
     "text": [
      "59it [00:06,  8.92it/s]\n"
     ]
    },
    {
     "name": "stdout",
     "output_type": "stream",
     "text": [
      "{'method': 'tauleaping', 'g_steps': 0, 'tau_steps': 60, 'use_corrector': True, 'corrector': 'birthdeath', 'c_stepsize': 0.1, 'c_steps': 2, 'nfe': 168.0, 'time_mean': 0.0013731803735874373, 'time_var': 0.00040557707714294314, 'time_skew': 0.4503233594605842, 'time_kurt': 2.3318091499809706, 'freq_mean': 0.0013731851187384011, 'freq_var': 0.00435256458998377, 'freq_skew': 0.8835713637473251, 'freq_kurt': 9.52225377423994}\n"
     ]
    },
    {
     "name": "stderr",
     "output_type": "stream",
     "text": [
      "59it [00:06,  9.37it/s]\n"
     ]
    },
    {
     "name": "stdout",
     "output_type": "stream",
     "text": [
      "{'method': 'tauleaping', 'g_steps': 0, 'tau_steps': 60, 'use_corrector': True, 'corrector': 'birthdeath', 'c_stepsize': 0.1, 'c_steps': 2, 'nfe': 168.0, 'time_mean': 0.001849422671179599, 'time_var': 0.00043879522899947077, 'time_skew': 0.5797889875761001, 'time_kurt': 2.793843849909024, 'freq_mean': 0.0018494279617907489, 'freq_var': 0.003910685627161106, 'freq_skew': 0.9652398708060965, 'freq_kurt': 10.224274323160142}\n"
     ]
    },
    {
     "name": "stderr",
     "output_type": "stream",
     "text": [
      "59it [00:06,  9.30it/s]\n"
     ]
    },
    {
     "name": "stdout",
     "output_type": "stream",
     "text": [
      "{'method': 'tauleaping', 'g_steps': 0, 'tau_steps': 60, 'use_corrector': True, 'corrector': 'birthdeath', 'c_stepsize': 0.1, 'c_steps': 2, 'nfe': 168.0, 'time_mean': 0.0016459670545395072, 'time_var': 0.0005351349254914645, 'time_skew': 0.4698284413020935, 'time_kurt': 2.41574680278407, 'freq_mean': 0.0016459718288590198, 'freq_var': 0.004061786136124094, 'freq_skew': 0.871221601725084, 'freq_kurt': 9.810591896187}\n"
     ]
    },
    {
     "name": "stderr",
     "output_type": "stream",
     "text": [
      "59it [00:06,  9.38it/s]\n"
     ]
    },
    {
     "name": "stdout",
     "output_type": "stream",
     "text": [
      "{'method': 'tauleaping', 'g_steps': 0, 'tau_steps': 60, 'use_corrector': True, 'corrector': 'birthdeath', 'c_stepsize': 0.1, 'c_steps': 2, 'nfe': 168.0, 'time_mean': 0.0013494334453095496, 'time_var': 0.00034785529821748114, 'time_skew': 0.4189893004782118, 'time_kurt': 2.3622129631802062, 'freq_mean': 0.0013494378715492663, 'freq_var': 0.004233485361054304, 'freq_skew': 0.8167828134319163, 'freq_kurt': 8.750395590426018}\n"
     ]
    },
    {
     "name": "stderr",
     "output_type": "stream",
     "text": [
      "59it [00:06,  9.38it/s]\n"
     ]
    },
    {
     "name": "stdout",
     "output_type": "stream",
     "text": [
      "{'method': 'tauleaping', 'g_steps': 0, 'tau_steps': 60, 'use_corrector': True, 'corrector': 'birthdeath', 'c_stepsize': 0.1, 'c_steps': 2, 'nfe': 168.0, 'time_mean': 0.0015379706638918578, 'time_var': 0.00043389620044467466, 'time_skew': 0.38364880551073355, 'time_kurt': 1.8930294430872163, 'freq_mean': 0.0015379762155938613, 'freq_var': 0.003324349817980817, 'freq_skew': 0.9014821503122505, 'freq_kurt': 9.617513938280052}\n"
     ]
    },
    {
     "name": "stderr",
     "output_type": "stream",
     "text": [
      "59it [00:06,  9.38it/s]\n"
     ]
    },
    {
     "name": "stdout",
     "output_type": "stream",
     "text": [
      "{'method': 'tauleaping', 'g_steps': 0, 'tau_steps': 60, 'use_corrector': True, 'corrector': 'birthdeath', 'c_stepsize': 0.1, 'c_steps': 2, 'nfe': 168.0, 'time_mean': 0.0023883129935319105, 'time_var': 0.00024545606525918533, 'time_skew': 0.4720181641697104, 'time_kurt': 3.118488448811947, 'freq_mean': 0.0023883181650909413, 'freq_var': 0.004145116170690028, 'freq_skew': 0.9110154106355856, 'freq_kurt': 10.320818058089008}\n"
     ]
    },
    {
     "name": "stderr",
     "output_type": "stream",
     "text": [
      "59it [00:06,  9.34it/s]\n"
     ]
    },
    {
     "name": "stdout",
     "output_type": "stream",
     "text": [
      "{'method': 'tauleaping', 'g_steps': 0, 'tau_steps': 60, 'use_corrector': True, 'corrector': 'birthdeath', 'c_stepsize': 0.1, 'c_steps': 2, 'nfe': 168.0, 'time_mean': 0.002003502954548669, 'time_var': 0.00031817478719215576, 'time_skew': 0.46088864319285094, 'time_kurt': 2.568384358778487, 'freq_mean': 0.002003507977087276, 'freq_var': 0.00415618346333623, 'freq_skew': 0.9588486109266374, 'freq_kurt': 10.522763113623464}\n"
     ]
    },
    {
     "name": "stderr",
     "output_type": "stream",
     "text": [
      "59it [00:06,  9.37it/s]\n"
     ]
    },
    {
     "name": "stdout",
     "output_type": "stream",
     "text": [
      "{'method': 'tauleaping', 'g_steps': 0, 'tau_steps': 60, 'use_corrector': True, 'corrector': 'birthdeath', 'c_stepsize': 0.1, 'c_steps': 2, 'nfe': 168.0, 'time_mean': 0.0020066921258985507, 'time_var': 0.0003461767617213694, 'time_skew': 0.5036087346206914, 'time_kurt': 2.4927693625987533, 'freq_mean': 0.002006697227719922, 'freq_var': 0.0038348512426498406, 'freq_skew': 0.9288383086012415, 'freq_kurt': 9.396804430067553}\n"
     ]
    },
    {
     "name": "stderr",
     "output_type": "stream",
     "text": [
      "59it [00:06,  9.37it/s]\n"
     ]
    },
    {
     "name": "stdout",
     "output_type": "stream",
     "text": [
      "{'method': 'tauleaping', 'g_steps': 0, 'tau_steps': 60, 'use_corrector': True, 'corrector': 'birthdeath', 'c_stepsize': 0.1, 'c_steps': 2, 'nfe': 168.0, 'time_mean': 0.0016908577507576265, 'time_var': 0.0004800479784002591, 'time_skew': 0.4819497636551528, 'time_kurt': 2.3652699072187158, 'freq_mean': 0.001690862734184811, 'freq_var': 0.0041363991884948185, 'freq_skew': 0.9209553852057538, 'freq_kurt': 10.032834839122868}\n"
     ]
    },
    {
     "name": "stderr",
     "output_type": "stream",
     "text": [
      "59it [00:06,  9.37it/s]\n"
     ]
    },
    {
     "name": "stdout",
     "output_type": "stream",
     "text": [
      "{'method': 'tauleaping', 'g_steps': 0, 'tau_steps': 60, 'use_corrector': True, 'corrector': 'birthdeath', 'c_stepsize': 0.1, 'c_steps': 2, 'nfe': 168.0, 'time_mean': 0.002350454252803413, 'time_var': 0.00021437161225226198, 'time_skew': 0.49863850039521745, 'time_kurt': 3.2777905415554467, 'freq_mean': 0.0023504589785204202, 'freq_var': 0.004512713703441713, 'freq_skew': 0.8744423507574876, 'freq_kurt': 9.254773891972453}\n",
      "Experiment results saved to  gene_results.csv\n"
     ]
    },
    {
     "name": "stderr",
     "output_type": "stream",
     "text": [
      "100%|██████████| 60/60 [00:06<00:00,  9.08it/s]\n"
     ]
    },
    {
     "name": "stdout",
     "output_type": "stream",
     "text": [
      "{'method': 'gillespies', 'g_steps': 3, 'tau_steps': 0, 'use_corrector': True, 'corrector': 'mpf', 'c_stepsize': 0.1, 'c_steps': 2, 'nfe': 56.0, 'time_mean': 0.0014586143884485563, 'time_var': 0.00023591017878341045, 'time_skew': 0.046335405835263986, 'time_kurt': 0.22035560540463522, 'freq_mean': 0.0014586144736823765, 'freq_var': 0.0009559595297760051, 'freq_skew': 0.20819918133389947, 'freq_kurt': 2.5657165715358827}\n"
     ]
    },
    {
     "name": "stderr",
     "output_type": "stream",
     "text": [
      "100%|██████████| 60/60 [00:06<00:00,  9.07it/s]\n"
     ]
    },
    {
     "name": "stdout",
     "output_type": "stream",
     "text": [
      "{'method': 'gillespies', 'g_steps': 3, 'tau_steps': 0, 'use_corrector': True, 'corrector': 'mpf', 'c_stepsize': 0.1, 'c_steps': 2, 'nfe': 56.0, 'time_mean': 0.002095038630628095, 'time_var': 0.0004446577610617978, 'time_skew': 0.04880269135778797, 'time_kurt': 0.18688571633208145, 'freq_mean': 0.0020950380876464405, 'freq_var': 0.0018208259857225612, 'freq_skew': 0.2715020895455578, 'freq_kurt': 2.588374536530432}\n"
     ]
    },
    {
     "name": "stderr",
     "output_type": "stream",
     "text": [
      "100%|██████████| 60/60 [00:06<00:00,  8.90it/s]\n"
     ]
    },
    {
     "name": "stdout",
     "output_type": "stream",
     "text": [
      "{'method': 'gillespies', 'g_steps': 3, 'tau_steps': 0, 'use_corrector': True, 'corrector': 'mpf', 'c_stepsize': 0.1, 'c_steps': 2, 'nfe': 56.0, 'time_mean': 0.0014206509175049588, 'time_var': 0.00018805371939585098, 'time_skew': 0.051240110036179114, 'time_kurt': 0.15598398004888836, 'freq_mean': 0.0014206504757391454, 'freq_var': 0.0012866394162879015, 'freq_skew': 0.23846217071965956, 'freq_kurt': 1.6317361969320907}\n"
     ]
    },
    {
     "name": "stderr",
     "output_type": "stream",
     "text": [
      "100%|██████████| 60/60 [00:06<00:00,  9.08it/s]\n"
     ]
    },
    {
     "name": "stdout",
     "output_type": "stream",
     "text": [
      "{'method': 'gillespies', 'g_steps': 3, 'tau_steps': 0, 'use_corrector': True, 'corrector': 'mpf', 'c_stepsize': 0.1, 'c_steps': 2, 'nfe': 56.0, 'time_mean': 0.002435053435205103, 'time_var': 0.00027409193130089536, 'time_skew': 0.09904997144106227, 'time_kurt': 0.44630897509426964, 'freq_mean': 0.0024350529003320733, 'freq_var': 0.002087254177471895, 'freq_skew': 0.2169852714491772, 'freq_kurt': 2.3335321178951878}\n"
     ]
    },
    {
     "name": "stderr",
     "output_type": "stream",
     "text": [
      "100%|██████████| 60/60 [00:06<00:00,  9.04it/s]\n"
     ]
    },
    {
     "name": "stdout",
     "output_type": "stream",
     "text": [
      "{'method': 'gillespies', 'g_steps': 3, 'tau_steps': 0, 'use_corrector': True, 'corrector': 'mpf', 'c_stepsize': 0.1, 'c_steps': 2, 'nfe': 56.0, 'time_mean': 0.0020293256975198264, 'time_var': 0.0002866255349675944, 'time_skew': 0.07649463498938189, 'time_kurt': 0.24434069696403954, 'freq_mean': 0.002029325261923787, 'freq_var': 0.0018572095397278888, 'freq_skew': 0.22686073222801367, 'freq_kurt': 2.2872292558055216}\n"
     ]
    },
    {
     "name": "stderr",
     "output_type": "stream",
     "text": [
      "100%|██████████| 60/60 [00:06<00:00,  8.96it/s]\n"
     ]
    },
    {
     "name": "stdout",
     "output_type": "stream",
     "text": [
      "{'method': 'gillespies', 'g_steps': 3, 'tau_steps': 0, 'use_corrector': True, 'corrector': 'mpf', 'c_stepsize': 0.1, 'c_steps': 2, 'nfe': 56.0, 'time_mean': 0.0012596000304195027, 'time_var': 0.0002312772112584143, 'time_skew': 0.03940886127696928, 'time_kurt': 0.1317423960807801, 'freq_mean': 0.0012595992241116337, 'freq_var': 0.0010474930191022662, 'freq_skew': 0.2291737755004887, 'freq_kurt': 5.81622483636493}\n"
     ]
    },
    {
     "name": "stderr",
     "output_type": "stream",
     "text": [
      "100%|██████████| 60/60 [00:06<00:00,  9.09it/s]\n"
     ]
    },
    {
     "name": "stdout",
     "output_type": "stream",
     "text": [
      "{'method': 'gillespies', 'g_steps': 3, 'tau_steps': 0, 'use_corrector': True, 'corrector': 'mpf', 'c_stepsize': 0.1, 'c_steps': 2, 'nfe': 56.0, 'time_mean': 0.0010709317048978595, 'time_var': 0.00014457385052351362, 'time_skew': 0.03823907776803075, 'time_kurt': 0.10799534347759251, 'freq_mean': 0.0010709318884523254, 'freq_var': 0.0009168604526420565, 'freq_skew': 0.26787568805776873, 'freq_kurt': 1.6368121337774395}\n"
     ]
    },
    {
     "name": "stderr",
     "output_type": "stream",
     "text": [
      "100%|██████████| 60/60 [00:06<00:00,  9.08it/s]\n"
     ]
    },
    {
     "name": "stdout",
     "output_type": "stream",
     "text": [
      "{'method': 'gillespies', 'g_steps': 3, 'tau_steps': 0, 'use_corrector': True, 'corrector': 'mpf', 'c_stepsize': 0.1, 'c_steps': 2, 'nfe': 56.0, 'time_mean': 0.002285515132374748, 'time_var': 0.00027679296042730343, 'time_skew': 0.08744042587572795, 'time_kurt': 0.3499734164487101, 'freq_mean': 0.002285514374244733, 'freq_var': 0.0024798814900318642, 'freq_skew': 0.3354177161416641, 'freq_kurt': 4.224339864835789}\n"
     ]
    },
    {
     "name": "stderr",
     "output_type": "stream",
     "text": [
      "100%|██████████| 60/60 [00:06<00:00,  9.08it/s]\n"
     ]
    },
    {
     "name": "stdout",
     "output_type": "stream",
     "text": [
      "{'method': 'gillespies', 'g_steps': 3, 'tau_steps': 0, 'use_corrector': True, 'corrector': 'mpf', 'c_stepsize': 0.1, 'c_steps': 2, 'nfe': 56.0, 'time_mean': 0.002338131854381357, 'time_var': 0.0003472129199668484, 'time_skew': 0.07628766947483902, 'time_kurt': 0.5542006319232428, 'freq_mean': 0.002338131387740885, 'freq_var': 0.002054755862463974, 'freq_skew': 0.279107723291167, 'freq_kurt': 3.4032939080979556}\n"
     ]
    },
    {
     "name": "stderr",
     "output_type": "stream",
     "text": [
      "100%|██████████| 60/60 [00:06<00:00,  9.07it/s]\n"
     ]
    },
    {
     "name": "stdout",
     "output_type": "stream",
     "text": [
      "{'method': 'gillespies', 'g_steps': 3, 'tau_steps': 0, 'use_corrector': True, 'corrector': 'mpf', 'c_stepsize': 0.1, 'c_steps': 2, 'nfe': 56.0, 'time_mean': 0.0028601395594559653, 'time_var': 0.00036865071734731576, 'time_skew': 0.07969245264975017, 'time_kurt': 0.23184889983550594, 'freq_mean': 0.002860138786504243, 'freq_var': 0.002409717144827861, 'freq_skew': 0.30596817581477626, 'freq_kurt': 2.9395427606046827}\n"
     ]
    },
    {
     "name": "stderr",
     "output_type": "stream",
     "text": [
      "100%|██████████| 60/60 [00:06<00:00,  9.08it/s]\n"
     ]
    },
    {
     "name": "stdout",
     "output_type": "stream",
     "text": [
      "{'method': 'gillespies', 'g_steps': 3, 'tau_steps': 0, 'use_corrector': True, 'corrector': 'mpf', 'c_stepsize': 0.1, 'c_steps': 2, 'nfe': 56.0, 'time_mean': 0.0014161615137576664, 'time_var': 0.00010327207181487311, 'time_skew': 0.05176380899170981, 'time_kurt': 0.2306372301778332, 'freq_mean': 0.001416160170996504, 'freq_var': 0.0005093473078086208, 'freq_skew': 0.17133076408719258, 'freq_kurt': 2.3343703339389963}\n"
     ]
    },
    {
     "name": "stderr",
     "output_type": "stream",
     "text": [
      "100%|██████████| 60/60 [00:06<00:00,  9.09it/s]\n"
     ]
    },
    {
     "name": "stdout",
     "output_type": "stream",
     "text": [
      "{'method': 'gillespies', 'g_steps': 3, 'tau_steps': 0, 'use_corrector': True, 'corrector': 'mpf', 'c_stepsize': 0.1, 'c_steps': 2, 'nfe': 56.0, 'time_mean': 0.0030228584575848474, 'time_var': 0.0005117646633064408, 'time_skew': 0.07343570275513353, 'time_kurt': 0.6253169864877683, 'freq_mean': 0.0030228577021274906, 'freq_var': 0.0028514038372137477, 'freq_skew': 0.21089504104209594, 'freq_kurt': 2.9838976710810723}\n"
     ]
    },
    {
     "name": "stderr",
     "output_type": "stream",
     "text": [
      "100%|██████████| 60/60 [00:06<00:00,  9.08it/s]\n"
     ]
    },
    {
     "name": "stdout",
     "output_type": "stream",
     "text": [
      "{'method': 'gillespies', 'g_steps': 3, 'tau_steps': 0, 'use_corrector': True, 'corrector': 'mpf', 'c_stepsize': 0.1, 'c_steps': 2, 'nfe': 56.0, 'time_mean': 0.0020357039975782273, 'time_var': 0.0005525110012041297, 'time_skew': 0.06915665546695131, 'time_kurt': 0.506542527807217, 'freq_mean': 0.0020357033543761086, 'freq_var': 0.0026791852298084814, 'freq_skew': 0.25857516026670513, 'freq_kurt': 2.9274519739895113}\n"
     ]
    },
    {
     "name": "stderr",
     "output_type": "stream",
     "text": [
      "100%|██████████| 60/60 [00:06<00:00,  9.08it/s]\n"
     ]
    },
    {
     "name": "stdout",
     "output_type": "stream",
     "text": [
      "{'method': 'gillespies', 'g_steps': 3, 'tau_steps': 0, 'use_corrector': True, 'corrector': 'mpf', 'c_stepsize': 0.1, 'c_steps': 2, 'nfe': 56.0, 'time_mean': 0.0022457137733187344, 'time_var': 0.0004938627455316917, 'time_skew': 0.08461423571204461, 'time_kurt': 0.4539452852589593, 'freq_mean': 0.0022457133319238637, 'freq_var': 0.0023489816237189766, 'freq_skew': 0.2622275817947075, 'freq_kurt': 3.2581357056477933}\n"
     ]
    },
    {
     "name": "stderr",
     "output_type": "stream",
     "text": [
      "100%|██████████| 60/60 [00:06<00:00,  9.07it/s]\n"
     ]
    },
    {
     "name": "stdout",
     "output_type": "stream",
     "text": [
      "{'method': 'gillespies', 'g_steps': 3, 'tau_steps': 0, 'use_corrector': True, 'corrector': 'mpf', 'c_stepsize': 0.1, 'c_steps': 2, 'nfe': 56.0, 'time_mean': 0.0017644844869552775, 'time_var': 0.00027593168354444, 'time_skew': 0.054359078785092815, 'time_kurt': 0.21459146199457949, 'freq_mean': 0.0017644838771427615, 'freq_var': 0.0019637098604831805, 'freq_skew': 0.24743307340554951, 'freq_kurt': 2.8477372351690273}\n"
     ]
    },
    {
     "name": "stderr",
     "output_type": "stream",
     "text": [
      "100%|██████████| 60/60 [00:06<00:00,  9.08it/s]\n"
     ]
    },
    {
     "name": "stdout",
     "output_type": "stream",
     "text": [
      "{'method': 'gillespies', 'g_steps': 3, 'tau_steps': 0, 'use_corrector': True, 'corrector': 'mpf', 'c_stepsize': 0.1, 'c_steps': 2, 'nfe': 56.0, 'time_mean': 0.00264883182349314, 'time_var': 0.00029562175540629105, 'time_skew': 0.09133505406356618, 'time_kurt': 0.512931784178218, 'freq_mean': 0.002648830608482631, 'freq_var': 0.0020241898668117144, 'freq_skew': 0.16641574081823865, 'freq_kurt': 2.1776649614440924}\n"
     ]
    },
    {
     "name": "stderr",
     "output_type": "stream",
     "text": [
      "100%|██████████| 60/60 [00:06<00:00,  9.08it/s]\n"
     ]
    },
    {
     "name": "stdout",
     "output_type": "stream",
     "text": [
      "{'method': 'gillespies', 'g_steps': 3, 'tau_steps': 0, 'use_corrector': True, 'corrector': 'mpf', 'c_stepsize': 0.1, 'c_steps': 2, 'nfe': 56.0, 'time_mean': 0.0018529490138196225, 'time_var': 0.00025253128952345714, 'time_skew': 0.07082229478884795, 'time_kurt': 0.333673325909038, 'freq_mean': 0.0018529481430948037, 'freq_var': 0.001911862345392327, 'freq_skew': 0.19429886414699066, 'freq_kurt': 2.260789658350345}\n"
     ]
    },
    {
     "name": "stderr",
     "output_type": "stream",
     "text": [
      "100%|██████████| 60/60 [00:06<00:00,  9.08it/s]\n"
     ]
    },
    {
     "name": "stdout",
     "output_type": "stream",
     "text": [
      "{'method': 'gillespies', 'g_steps': 3, 'tau_steps': 0, 'use_corrector': True, 'corrector': 'mpf', 'c_stepsize': 0.1, 'c_steps': 2, 'nfe': 56.0, 'time_mean': 0.0012977041538744655, 'time_var': 9.585902037805558e-05, 'time_skew': 0.03824048235073314, 'time_kurt': 0.30881218941388827, 'freq_mean': 0.001297703432727261, 'freq_var': 0.0008108186730985071, 'freq_skew': 0.20307096954116038, 'freq_kurt': 1.5797269035153745}\n"
     ]
    },
    {
     "name": "stderr",
     "output_type": "stream",
     "text": [
      "100%|██████████| 60/60 [00:06<00:00,  8.98it/s]\n"
     ]
    },
    {
     "name": "stdout",
     "output_type": "stream",
     "text": [
      "{'method': 'gillespies', 'g_steps': 3, 'tau_steps': 0, 'use_corrector': True, 'corrector': 'mpf', 'c_stepsize': 0.1, 'c_steps': 2, 'nfe': 56.0, 'time_mean': 0.0010129523633728881, 'time_var': 0.0003895068857173775, 'time_skew': 0.04031347317990553, 'time_kurt': 0.20647581801122813, 'freq_mean': 0.001012952186259987, 'freq_var': 0.0015287394858082071, 'freq_skew': 0.20759712931273636, 'freq_kurt': 2.203664256460252}\n"
     ]
    },
    {
     "name": "stderr",
     "output_type": "stream",
     "text": [
      "100%|██████████| 60/60 [00:06<00:00,  8.97it/s]\n"
     ]
    },
    {
     "name": "stdout",
     "output_type": "stream",
     "text": [
      "{'method': 'gillespies', 'g_steps': 3, 'tau_steps': 0, 'use_corrector': True, 'corrector': 'mpf', 'c_stepsize': 0.1, 'c_steps': 2, 'nfe': 56.0, 'time_mean': 0.0008649422201229185, 'time_var': 0.00012722137354189282, 'time_skew': 0.029094876642612313, 'time_kurt': 0.12794075945516475, 'freq_mean': 0.0008649419998867661, 'freq_var': 0.0010696681276845103, 'freq_skew': 0.25347811517965424, 'freq_kurt': 2.9058973583889345}\n",
      "Experiment results saved to  gene_results.csv\n"
     ]
    },
    {
     "name": "stderr",
     "output_type": "stream",
     "text": [
      "100%|██████████| 60/60 [00:06<00:00,  8.92it/s]\n"
     ]
    },
    {
     "name": "stdout",
     "output_type": "stream",
     "text": [
      "{'method': 'gillespies', 'g_steps': 2, 'tau_steps': 0, 'use_corrector': True, 'corrector': 'mpf', 'c_stepsize': 0.1, 'c_steps': 2, 'nfe': 84.0, 'time_mean': 0.0014622059297212569, 'time_var': 0.00033838441630943626, 'time_skew': 0.040896185690997316, 'time_kurt': 0.23937416597085784, 'freq_mean': 0.0014622055160883195, 'freq_var': 0.0014211684701022007, 'freq_skew': 0.19695766860140201, 'freq_kurt': 2.062789307750539}\n"
     ]
    },
    {
     "name": "stderr",
     "output_type": "stream",
     "text": [
      "100%|██████████| 60/60 [00:06<00:00,  9.08it/s]\n"
     ]
    },
    {
     "name": "stdout",
     "output_type": "stream",
     "text": [
      "{'method': 'gillespies', 'g_steps': 2, 'tau_steps': 0, 'use_corrector': True, 'corrector': 'mpf', 'c_stepsize': 0.1, 'c_steps': 2, 'nfe': 84.0, 'time_mean': 0.001303615165591998, 'time_var': 0.00011881900802098362, 'time_skew': 0.06332009035386083, 'time_kurt': 0.23343664349915935, 'freq_mean': 0.0013036143044236725, 'freq_var': 0.0006250887624683878, 'freq_skew': 0.23398250908661464, 'freq_kurt': 2.5028937430958282}\n"
     ]
    },
    {
     "name": "stderr",
     "output_type": "stream",
     "text": [
      "100%|██████████| 60/60 [00:06<00:00,  9.08it/s]\n"
     ]
    },
    {
     "name": "stdout",
     "output_type": "stream",
     "text": [
      "{'method': 'gillespies', 'g_steps': 2, 'tau_steps': 0, 'use_corrector': True, 'corrector': 'mpf', 'c_stepsize': 0.1, 'c_steps': 2, 'nfe': 84.0, 'time_mean': 0.0015014456990785476, 'time_var': 0.00032032094977497814, 'time_skew': 0.04410217701837745, 'time_kurt': 0.22845594761287719, 'freq_mean': 0.0015014454028400832, 'freq_var': 0.0017188581441550707, 'freq_skew': 0.22154992667044662, 'freq_kurt': 2.1800846364496596}\n"
     ]
    },
    {
     "name": "stderr",
     "output_type": "stream",
     "text": [
      "100%|██████████| 60/60 [00:06<00:00,  9.08it/s]\n"
     ]
    },
    {
     "name": "stdout",
     "output_type": "stream",
     "text": [
      "{'method': 'gillespies', 'g_steps': 2, 'tau_steps': 0, 'use_corrector': True, 'corrector': 'mpf', 'c_stepsize': 0.1, 'c_steps': 2, 'nfe': 84.0, 'time_mean': 0.002259098638985327, 'time_var': 0.000446722220264587, 'time_skew': 0.0708983373714074, 'time_kurt': 0.4215763298316746, 'freq_mean': 0.00225909795718497, 'freq_var': 0.0019697200916408753, 'freq_skew': 0.29012158252164366, 'freq_kurt': 2.217893229719222}\n"
     ]
    },
    {
     "name": "stderr",
     "output_type": "stream",
     "text": [
      "100%|██████████| 60/60 [00:06<00:00,  8.73it/s]\n"
     ]
    },
    {
     "name": "stdout",
     "output_type": "stream",
     "text": [
      "{'method': 'gillespies', 'g_steps': 2, 'tau_steps': 0, 'use_corrector': True, 'corrector': 'mpf', 'c_stepsize': 0.1, 'c_steps': 2, 'nfe': 84.0, 'time_mean': 0.0018354344760187942, 'time_var': 0.00024062503283828177, 'time_skew': 0.056643944781970094, 'time_kurt': 0.2279199305162641, 'freq_mean': 0.001835433891310373, 'freq_var': 0.0012820044860019735, 'freq_skew': 0.2860629136390782, 'freq_kurt': 2.7915951712680283}\n"
     ]
    },
    {
     "name": "stderr",
     "output_type": "stream",
     "text": [
      "100%|██████████| 60/60 [00:06<00:00,  9.08it/s]\n"
     ]
    },
    {
     "name": "stdout",
     "output_type": "stream",
     "text": [
      "{'method': 'gillespies', 'g_steps': 2, 'tau_steps': 0, 'use_corrector': True, 'corrector': 'mpf', 'c_stepsize': 0.1, 'c_steps': 2, 'nfe': 84.0, 'time_mean': 0.0016333909126394833, 'time_var': 0.00027438707048360703, 'time_skew': 0.03996603068884857, 'time_kurt': 0.21348740787207732, 'freq_mean': 0.001633390570520365, 'freq_var': 0.0013628919916441884, 'freq_skew': 0.17170584911187375, 'freq_kurt': 1.8427295193153173}\n"
     ]
    },
    {
     "name": "stderr",
     "output_type": "stream",
     "text": [
      "100%|██████████| 60/60 [00:06<00:00,  9.07it/s]\n"
     ]
    },
    {
     "name": "stdout",
     "output_type": "stream",
     "text": [
      "{'method': 'gillespies', 'g_steps': 2, 'tau_steps': 0, 'use_corrector': True, 'corrector': 'mpf', 'c_stepsize': 0.1, 'c_steps': 2, 'nfe': 84.0, 'time_mean': 0.002657533044900368, 'time_var': 0.000644242137134316, 'time_skew': 0.07455696746245916, 'time_kurt': 0.4754572408392463, 'freq_mean': 0.00265753227575514, 'freq_var': 0.003588664985972083, 'freq_skew': 0.2380356582421953, 'freq_kurt': 3.6736110668543103}\n"
     ]
    },
    {
     "name": "stderr",
     "output_type": "stream",
     "text": [
      "100%|██████████| 60/60 [00:06<00:00,  9.07it/s]\n"
     ]
    },
    {
     "name": "stdout",
     "output_type": "stream",
     "text": [
      "{'method': 'gillespies', 'g_steps': 2, 'tau_steps': 0, 'use_corrector': True, 'corrector': 'mpf', 'c_stepsize': 0.1, 'c_steps': 2, 'nfe': 84.0, 'time_mean': 0.002093997258671316, 'time_var': 0.0002693168362602545, 'time_skew': 0.05890685283970406, 'time_kurt': 0.20394542949226696, 'freq_mean': 0.0020939960024449387, 'freq_var': 0.00181399650201212, 'freq_skew': 0.27542764007573195, 'freq_kurt': 3.2049407794123757}\n"
     ]
    },
    {
     "name": "stderr",
     "output_type": "stream",
     "text": [
      "100%|██████████| 60/60 [00:06<00:00,  9.06it/s]\n"
     ]
    },
    {
     "name": "stdout",
     "output_type": "stream",
     "text": [
      "{'method': 'gillespies', 'g_steps': 2, 'tau_steps': 0, 'use_corrector': True, 'corrector': 'mpf', 'c_stepsize': 0.1, 'c_steps': 2, 'nfe': 84.0, 'time_mean': 0.0011327034924423218, 'time_var': 0.00015435218136625767, 'time_skew': 0.04251879135491654, 'time_kurt': 0.20737673831010764, 'freq_mean': 0.001132702866310003, 'freq_var': 0.0008720744490486361, 'freq_skew': 0.17136914040225915, 'freq_kurt': 3.2784212612726105}\n"
     ]
    },
    {
     "name": "stderr",
     "output_type": "stream",
     "text": [
      "100%|██████████| 60/60 [00:06<00:00,  9.04it/s]\n"
     ]
    },
    {
     "name": "stdout",
     "output_type": "stream",
     "text": [
      "{'method': 'gillespies', 'g_steps': 2, 'tau_steps': 0, 'use_corrector': True, 'corrector': 'mpf', 'c_stepsize': 0.1, 'c_steps': 2, 'nfe': 84.0, 'time_mean': 0.002003159313955714, 'time_var': 0.0007352172329484741, 'time_skew': 0.06265483423093034, 'time_kurt': 0.45923574252725946, 'freq_mean': 0.0020031589832658634, 'freq_var': 0.003755026649885063, 'freq_skew': 0.3021784954126338, 'freq_kurt': 3.3846133175711084}\n"
     ]
    },
    {
     "name": "stderr",
     "output_type": "stream",
     "text": [
      "100%|██████████| 60/60 [00:06<00:00,  8.85it/s]\n"
     ]
    },
    {
     "name": "stdout",
     "output_type": "stream",
     "text": [
      "{'method': 'gillespies', 'g_steps': 2, 'tau_steps': 0, 'use_corrector': True, 'corrector': 'mpf', 'c_stepsize': 0.1, 'c_steps': 2, 'nfe': 84.0, 'time_mean': 0.0015730937240870022, 'time_var': 0.00019006824185836954, 'time_skew': 0.05094934653299385, 'time_kurt': 0.16716210091509523, 'freq_mean': 0.0015730931895556247, 'freq_var': 0.0011034186061969476, 'freq_skew': 0.1379178594837333, 'freq_kurt': 3.796238378545896}\n"
     ]
    },
    {
     "name": "stderr",
     "output_type": "stream",
     "text": [
      "100%|██████████| 60/60 [00:06<00:00,  9.07it/s]\n"
     ]
    },
    {
     "name": "stdout",
     "output_type": "stream",
     "text": [
      "{'method': 'gillespies', 'g_steps': 2, 'tau_steps': 0, 'use_corrector': True, 'corrector': 'mpf', 'c_stepsize': 0.1, 'c_steps': 2, 'nfe': 84.0, 'time_mean': 0.0013339631158200763, 'time_var': 0.0003372951721767759, 'time_skew': 0.05807949655136523, 'time_kurt': 0.5109499955673109, 'freq_mean': 0.001333962961989693, 'freq_var': 0.0016839598753160987, 'freq_skew': 0.15689630026326323, 'freq_kurt': 2.8507696405147245}\n"
     ]
    },
    {
     "name": "stderr",
     "output_type": "stream",
     "text": [
      "100%|██████████| 60/60 [00:06<00:00,  8.96it/s]\n"
     ]
    },
    {
     "name": "stdout",
     "output_type": "stream",
     "text": [
      "{'method': 'gillespies', 'g_steps': 2, 'tau_steps': 0, 'use_corrector': True, 'corrector': 'mpf', 'c_stepsize': 0.1, 'c_steps': 2, 'nfe': 84.0, 'time_mean': 0.001722747968763163, 'time_var': 0.00019289712200016416, 'time_skew': 0.05530837989946127, 'time_kurt': 0.36308429526479813, 'freq_mean': 0.0017227472795609859, 'freq_var': 0.0012074514312137006, 'freq_skew': 0.19738576860141477, 'freq_kurt': 3.124268596898793}\n"
     ]
    },
    {
     "name": "stderr",
     "output_type": "stream",
     "text": [
      "100%|██████████| 60/60 [00:06<00:00,  9.08it/s]\n"
     ]
    },
    {
     "name": "stdout",
     "output_type": "stream",
     "text": [
      "{'method': 'gillespies', 'g_steps': 2, 'tau_steps': 0, 'use_corrector': True, 'corrector': 'mpf', 'c_stepsize': 0.1, 'c_steps': 2, 'nfe': 84.0, 'time_mean': 0.0017051926627805968, 'time_var': 0.00014809588871807377, 'time_skew': 0.05217150845330147, 'time_kurt': 0.2716224195631413, 'freq_mean': 0.0017051918369879035, 'freq_var': 0.0012323113536089282, 'freq_skew': 0.1476463815506449, 'freq_kurt': 1.749939979451298}\n"
     ]
    },
    {
     "name": "stderr",
     "output_type": "stream",
     "text": [
      "100%|██████████| 60/60 [00:06<00:00,  9.08it/s]\n"
     ]
    },
    {
     "name": "stdout",
     "output_type": "stream",
     "text": [
      "{'method': 'gillespies', 'g_steps': 2, 'tau_steps': 0, 'use_corrector': True, 'corrector': 'mpf', 'c_stepsize': 0.1, 'c_steps': 2, 'nfe': 84.0, 'time_mean': 0.0021376218051183766, 'time_var': 0.0005491193935125105, 'time_skew': 0.05382267673861403, 'time_kurt': 0.47162175279931795, 'freq_mean': 0.0021376214172895177, 'freq_var': 0.002591870135781895, 'freq_skew': 0.20471262563899417, 'freq_kurt': 4.204774997304801}\n"
     ]
    },
    {
     "name": "stderr",
     "output_type": "stream",
     "text": [
      "100%|██████████| 60/60 [00:06<00:00,  9.08it/s]\n"
     ]
    },
    {
     "name": "stdout",
     "output_type": "stream",
     "text": [
      "{'method': 'gillespies', 'g_steps': 2, 'tau_steps': 0, 'use_corrector': True, 'corrector': 'mpf', 'c_stepsize': 0.1, 'c_steps': 2, 'nfe': 84.0, 'time_mean': 0.002656751209554291, 'time_var': 0.00041626637115233753, 'time_skew': 0.08412449983372447, 'time_kurt': 0.4071795229444908, 'freq_mean': 0.002656750318508621, 'freq_var': 0.002268873887314566, 'freq_skew': 0.30013974531082327, 'freq_kurt': 3.753078445987428}\n"
     ]
    },
    {
     "name": "stderr",
     "output_type": "stream",
     "text": [
      "100%|██████████| 60/60 [00:06<00:00,  8.97it/s]\n"
     ]
    },
    {
     "name": "stdout",
     "output_type": "stream",
     "text": [
      "{'method': 'gillespies', 'g_steps': 2, 'tau_steps': 0, 'use_corrector': True, 'corrector': 'mpf', 'c_stepsize': 0.1, 'c_steps': 2, 'nfe': 84.0, 'time_mean': 0.002424564206934051, 'time_var': 0.000406385718884793, 'time_skew': 0.07220489582430957, 'time_kurt': 0.5011373390462788, 'freq_mean': 0.002424563561690057, 'freq_var': 0.002221452381056776, 'freq_skew': 0.19387292893992336, 'freq_kurt': 3.1249192927825984}\n"
     ]
    },
    {
     "name": "stderr",
     "output_type": "stream",
     "text": [
      "100%|██████████| 60/60 [00:06<00:00,  8.91it/s]\n"
     ]
    },
    {
     "name": "stdout",
     "output_type": "stream",
     "text": [
      "{'method': 'gillespies', 'g_steps': 2, 'tau_steps': 0, 'use_corrector': True, 'corrector': 'mpf', 'c_stepsize': 0.1, 'c_steps': 2, 'nfe': 84.0, 'time_mean': 0.0013945632437916175, 'time_var': 0.00011260889778903415, 'time_skew': 0.07158794159733042, 'time_kurt': 0.23967384587091806, 'freq_mean': 0.001394562263996304, 'freq_var': 0.00040522061807437605, 'freq_skew': 0.3619122607112733, 'freq_kurt': 2.7679850666308172}\n"
     ]
    },
    {
     "name": "stderr",
     "output_type": "stream",
     "text": [
      "100%|██████████| 60/60 [00:06<00:00,  8.86it/s]\n"
     ]
    },
    {
     "name": "stdout",
     "output_type": "stream",
     "text": [
      "{'method': 'gillespies', 'g_steps': 2, 'tau_steps': 0, 'use_corrector': True, 'corrector': 'mpf', 'c_stepsize': 0.1, 'c_steps': 2, 'nfe': 84.0, 'time_mean': 0.0016739286117609857, 'time_var': 0.0003096097025319851, 'time_skew': 0.044935735129311254, 'time_kurt': 0.23157032902448238, 'freq_mean': 0.0016739276411430286, 'freq_var': 0.0017925977431511861, 'freq_skew': 0.2038686756582403, 'freq_kurt': 2.3779977770482232}\n"
     ]
    },
    {
     "name": "stderr",
     "output_type": "stream",
     "text": [
      "100%|██████████| 60/60 [00:06<00:00,  9.08it/s]\n"
     ]
    },
    {
     "name": "stdout",
     "output_type": "stream",
     "text": [
      "{'method': 'gillespies', 'g_steps': 2, 'tau_steps': 0, 'use_corrector': True, 'corrector': 'mpf', 'c_stepsize': 0.1, 'c_steps': 2, 'nfe': 84.0, 'time_mean': 0.001951274116587223, 'time_var': 0.00030095215511398004, 'time_skew': 0.06050634359728786, 'time_kurt': 0.283983457891294, 'freq_mean': 0.0019512735295732929, 'freq_var': 0.000936045712714984, 'freq_skew': 0.23546728472124157, 'freq_kurt': 3.5377324402986043}\n",
      "Experiment results saved to  gene_results.csv\n"
     ]
    },
    {
     "name": "stderr",
     "output_type": "stream",
     "text": [
      "100%|██████████| 60/60 [00:06<00:00,  9.09it/s]\n"
     ]
    },
    {
     "name": "stdout",
     "output_type": "stream",
     "text": [
      "{'method': 'gillespies', 'g_steps': 1, 'tau_steps': 0, 'use_corrector': True, 'corrector': 'mpf', 'c_stepsize': 0.1, 'c_steps': 2, 'nfe': 168.0, 'time_mean': 0.0021623232631866013, 'time_var': 0.0003661734250890263, 'time_skew': 0.06541615616446796, 'time_kurt': 0.15205735989245606, 'freq_mean': 0.002162323033167633, 'freq_var': 0.00245115224452743, 'freq_skew': 0.28028951927621565, 'freq_kurt': 3.2605978674839022}\n"
     ]
    },
    {
     "name": "stderr",
     "output_type": "stream",
     "text": [
      "100%|██████████| 60/60 [00:06<00:00,  9.05it/s]\n"
     ]
    },
    {
     "name": "stdout",
     "output_type": "stream",
     "text": [
      "{'method': 'gillespies', 'g_steps': 1, 'tau_steps': 0, 'use_corrector': True, 'corrector': 'mpf', 'c_stepsize': 0.1, 'c_steps': 2, 'nfe': 168.0, 'time_mean': 0.0012010870566960066, 'time_var': 0.0003114355771010271, 'time_skew': 0.028702736119245675, 'time_kurt': 0.20118401935660496, 'freq_mean': 0.0012010867307180827, 'freq_var': 0.0011744755108046823, 'freq_skew': 0.17066099673738858, 'freq_kurt': 1.9849680743664249}\n"
     ]
    },
    {
     "name": "stderr",
     "output_type": "stream",
     "text": [
      "100%|██████████| 60/60 [00:06<00:00,  9.07it/s]\n"
     ]
    },
    {
     "name": "stdout",
     "output_type": "stream",
     "text": [
      "{'method': 'gillespies', 'g_steps': 1, 'tau_steps': 0, 'use_corrector': True, 'corrector': 'mpf', 'c_stepsize': 0.1, 'c_steps': 2, 'nfe': 168.0, 'time_mean': 0.0020463273816455395, 'time_var': 0.000351282236251055, 'time_skew': 0.05000677055450015, 'time_kurt': 0.18322180970760565, 'freq_mean': 0.0020463266332871465, 'freq_var': 0.001502465268181436, 'freq_skew': 0.3393639748031595, 'freq_kurt': 2.4797406399567463}\n"
     ]
    },
    {
     "name": "stderr",
     "output_type": "stream",
     "text": [
      "100%|██████████| 60/60 [00:06<00:00,  9.08it/s]\n"
     ]
    },
    {
     "name": "stdout",
     "output_type": "stream",
     "text": [
      "{'method': 'gillespies', 'g_steps': 1, 'tau_steps': 0, 'use_corrector': True, 'corrector': 'mpf', 'c_stepsize': 0.1, 'c_steps': 2, 'nfe': 168.0, 'time_mean': 0.0028760405392244345, 'time_var': 0.00028710214932052227, 'time_skew': 0.0720038718533372, 'time_kurt': 0.3265493961205238, 'freq_mean': 0.0028760396188512085, 'freq_var': 0.00180049266312934, 'freq_skew': 0.2692127799625652, 'freq_kurt': 2.2337713824701595}\n"
     ]
    },
    {
     "name": "stderr",
     "output_type": "stream",
     "text": [
      "100%|██████████| 60/60 [00:06<00:00,  9.08it/s]\n"
     ]
    },
    {
     "name": "stdout",
     "output_type": "stream",
     "text": [
      "{'method': 'gillespies', 'g_steps': 1, 'tau_steps': 0, 'use_corrector': True, 'corrector': 'mpf', 'c_stepsize': 0.1, 'c_steps': 2, 'nfe': 168.0, 'time_mean': 0.0012517703313123657, 'time_var': 0.0006442409844017411, 'time_skew': 0.051524218653591684, 'time_kurt': 0.23871896087013528, 'freq_mean': 0.0012517698644480154, 'freq_var': 0.0017522978458533595, 'freq_skew': 0.24527551889733312, 'freq_kurt': 2.068375820676002}\n"
     ]
    },
    {
     "name": "stderr",
     "output_type": "stream",
     "text": [
      "100%|██████████| 60/60 [00:06<00:00,  9.08it/s]\n"
     ]
    },
    {
     "name": "stdout",
     "output_type": "stream",
     "text": [
      "{'method': 'gillespies', 'g_steps': 1, 'tau_steps': 0, 'use_corrector': True, 'corrector': 'mpf', 'c_stepsize': 0.1, 'c_steps': 2, 'nfe': 168.0, 'time_mean': 0.0011987810121865576, 'time_var': 0.0002179031788151606, 'time_skew': 0.04035078438617604, 'time_kurt': 0.19013550271668708, 'freq_mean': 0.0011987805623230817, 'freq_var': 0.0012477756233463056, 'freq_skew': 0.19452414055840278, 'freq_kurt': 1.955257414800325}\n"
     ]
    },
    {
     "name": "stderr",
     "output_type": "stream",
     "text": [
      "100%|██████████| 60/60 [00:06<00:00,  9.07it/s]\n"
     ]
    },
    {
     "name": "stdout",
     "output_type": "stream",
     "text": [
      "{'method': 'gillespies', 'g_steps': 1, 'tau_steps': 0, 'use_corrector': True, 'corrector': 'mpf', 'c_stepsize': 0.1, 'c_steps': 2, 'nfe': 168.0, 'time_mean': 0.0026225170297367634, 'time_var': 0.0003576581110744883, 'time_skew': 0.1058169007042589, 'time_kurt': 0.586637820212696, 'freq_mean': 0.0026225167439211665, 'freq_var': 0.0016162518596655516, 'freq_skew': 0.2800789002207217, 'freq_kurt': 2.974026457296226}\n"
     ]
    },
    {
     "name": "stderr",
     "output_type": "stream",
     "text": [
      "100%|██████████| 60/60 [00:06<00:00,  9.09it/s]\n"
     ]
    },
    {
     "name": "stdout",
     "output_type": "stream",
     "text": [
      "{'method': 'gillespies', 'g_steps': 1, 'tau_steps': 0, 'use_corrector': True, 'corrector': 'mpf', 'c_stepsize': 0.1, 'c_steps': 2, 'nfe': 168.0, 'time_mean': 0.0016812657910279978, 'time_var': 0.00034748440999102335, 'time_skew': 0.0457918040420668, 'time_kurt': 0.15843849084348902, 'freq_mean': 0.0016812647410288418, 'freq_var': 0.001138217781503873, 'freq_skew': 0.31769896223690175, 'freq_kurt': 3.3646319431437943}\n"
     ]
    },
    {
     "name": "stderr",
     "output_type": "stream",
     "text": [
      "100%|██████████| 60/60 [00:06<00:00,  9.07it/s]\n"
     ]
    },
    {
     "name": "stdout",
     "output_type": "stream",
     "text": [
      "{'method': 'gillespies', 'g_steps': 1, 'tau_steps': 0, 'use_corrector': True, 'corrector': 'mpf', 'c_stepsize': 0.1, 'c_steps': 2, 'nfe': 168.0, 'time_mean': 0.0020269119165797064, 'time_var': 0.0002108520936636563, 'time_skew': 0.05859080753327154, 'time_kurt': 0.34008548266826655, 'freq_mean': 0.002026911799760567, 'freq_var': 0.0015700416907511619, 'freq_skew': 0.2850194774968281, 'freq_kurt': 2.1226338451712605}\n"
     ]
    },
    {
     "name": "stderr",
     "output_type": "stream",
     "text": [
      "100%|██████████| 60/60 [00:06<00:00,  9.05it/s]\n"
     ]
    },
    {
     "name": "stdout",
     "output_type": "stream",
     "text": [
      "{'method': 'gillespies', 'g_steps': 1, 'tau_steps': 0, 'use_corrector': True, 'corrector': 'mpf', 'c_stepsize': 0.1, 'c_steps': 2, 'nfe': 168.0, 'time_mean': 0.0022510134907460003, 'time_var': 0.00031919600164795944, 'time_skew': 0.08336044931330103, 'time_kurt': 0.5527207237554234, 'freq_mean': 0.0022510126600966567, 'freq_var': 0.0029027467694121866, 'freq_skew': 0.16042462612259636, 'freq_kurt': 2.1201846537450115}\n"
     ]
    },
    {
     "name": "stderr",
     "output_type": "stream",
     "text": [
      "100%|██████████| 60/60 [00:06<00:00,  9.06it/s]\n"
     ]
    },
    {
     "name": "stdout",
     "output_type": "stream",
     "text": [
      "{'method': 'gillespies', 'g_steps': 1, 'tau_steps': 0, 'use_corrector': True, 'corrector': 'mpf', 'c_stepsize': 0.1, 'c_steps': 2, 'nfe': 168.0, 'time_mean': 0.0024074907421778517, 'time_var': 0.00022716606804410122, 'time_skew': 0.05035485624571445, 'time_kurt': 0.2651406364205316, 'freq_mean': 0.002407489983282644, 'freq_var': 0.0011302090016606246, 'freq_skew': 0.21392628528077232, 'freq_kurt': 2.9180199590017617}\n"
     ]
    },
    {
     "name": "stderr",
     "output_type": "stream",
     "text": [
      "100%|██████████| 60/60 [00:06<00:00,  8.90it/s]\n"
     ]
    },
    {
     "name": "stdout",
     "output_type": "stream",
     "text": [
      "{'method': 'gillespies', 'g_steps': 1, 'tau_steps': 0, 'use_corrector': True, 'corrector': 'mpf', 'c_stepsize': 0.1, 'c_steps': 2, 'nfe': 168.0, 'time_mean': 0.001156453908173936, 'time_var': 0.0002623509661973877, 'time_skew': 0.04170012229444146, 'time_kurt': 0.2390464805753086, 'freq_mean': 0.0011564536963667468, 'freq_var': 0.0013974266705815439, 'freq_skew': 0.19491095984509743, 'freq_kurt': 2.0714852413571956}\n"
     ]
    },
    {
     "name": "stderr",
     "output_type": "stream",
     "text": [
      "100%|██████████| 60/60 [00:06<00:00,  8.97it/s]\n"
     ]
    },
    {
     "name": "stdout",
     "output_type": "stream",
     "text": [
      "{'method': 'gillespies', 'g_steps': 1, 'tau_steps': 0, 'use_corrector': True, 'corrector': 'mpf', 'c_stepsize': 0.1, 'c_steps': 2, 'nfe': 168.0, 'time_mean': 0.0014194101484778972, 'time_var': 0.00031165275770553036, 'time_skew': 0.05641925401340449, 'time_kurt': 0.3098582815573658, 'freq_mean': 0.001419409320950271, 'freq_var': 0.0018118306802748466, 'freq_skew': 0.24787826639369914, 'freq_kurt': 2.780916161226492}\n"
     ]
    },
    {
     "name": "stderr",
     "output_type": "stream",
     "text": [
      "100%|██████████| 60/60 [00:06<00:00,  9.08it/s]\n"
     ]
    },
    {
     "name": "stdout",
     "output_type": "stream",
     "text": [
      "{'method': 'gillespies', 'g_steps': 1, 'tau_steps': 0, 'use_corrector': True, 'corrector': 'mpf', 'c_stepsize': 0.1, 'c_steps': 2, 'nfe': 168.0, 'time_mean': 0.002049151637411847, 'time_var': 0.0003777427311557367, 'time_skew': 0.05673309723494658, 'time_kurt': 0.19517370801508915, 'freq_mean': 0.0020491510573689554, 'freq_var': 0.0021102741548537124, 'freq_skew': 0.35396434234524715, 'freq_kurt': 2.9546168490425573}\n"
     ]
    },
    {
     "name": "stderr",
     "output_type": "stream",
     "text": [
      "100%|██████████| 60/60 [00:06<00:00,  9.08it/s]\n"
     ]
    },
    {
     "name": "stdout",
     "output_type": "stream",
     "text": [
      "{'method': 'gillespies', 'g_steps': 1, 'tau_steps': 0, 'use_corrector': True, 'corrector': 'mpf', 'c_stepsize': 0.1, 'c_steps': 2, 'nfe': 168.0, 'time_mean': 0.0021648767250243397, 'time_var': 0.00035472608973877596, 'time_skew': 0.0860185917644722, 'time_kurt': 0.5562121853598831, 'freq_mean': 0.0021648755253881, 'freq_var': 0.0026260643615811114, 'freq_skew': 0.21262318775770464, 'freq_kurt': 2.2588099986551295}\n"
     ]
    },
    {
     "name": "stderr",
     "output_type": "stream",
     "text": [
      "100%|██████████| 60/60 [00:06<00:00,  9.08it/s]\n"
     ]
    },
    {
     "name": "stdout",
     "output_type": "stream",
     "text": [
      "{'method': 'gillespies', 'g_steps': 1, 'tau_steps': 0, 'use_corrector': True, 'corrector': 'mpf', 'c_stepsize': 0.1, 'c_steps': 2, 'nfe': 168.0, 'time_mean': 0.0022776403430799005, 'time_var': 0.0003276126225461707, 'time_skew': 0.05937414166917743, 'time_kurt': 0.34521475592272294, 'freq_mean': 0.0022776395532474723, 'freq_var': 0.0014653261096508187, 'freq_skew': 0.2819151642479222, 'freq_kurt': 2.391943975859208}\n"
     ]
    },
    {
     "name": "stderr",
     "output_type": "stream",
     "text": [
      "100%|██████████| 60/60 [00:06<00:00,  9.08it/s]\n"
     ]
    },
    {
     "name": "stdout",
     "output_type": "stream",
     "text": [
      "{'method': 'gillespies', 'g_steps': 1, 'tau_steps': 0, 'use_corrector': True, 'corrector': 'mpf', 'c_stepsize': 0.1, 'c_steps': 2, 'nfe': 168.0, 'time_mean': 0.0012025232754221558, 'time_var': 9.288974942989844e-05, 'time_skew': 0.04493022763106241, 'time_kurt': 0.20939446574422874, 'freq_mean': 0.0012025226560107836, 'freq_var': 0.0004570507028959479, 'freq_skew': 0.2009470420157082, 'freq_kurt': 1.5008901435498305}\n"
     ]
    },
    {
     "name": "stderr",
     "output_type": "stream",
     "text": [
      "100%|██████████| 60/60 [00:06<00:00,  9.05it/s]\n"
     ]
    },
    {
     "name": "stdout",
     "output_type": "stream",
     "text": [
      "{'method': 'gillespies', 'g_steps': 1, 'tau_steps': 0, 'use_corrector': True, 'corrector': 'mpf', 'c_stepsize': 0.1, 'c_steps': 2, 'nfe': 168.0, 'time_mean': 0.0019812671262631216, 'time_var': 0.00019490683789616945, 'time_skew': 0.05326938170081261, 'time_kurt': 0.18673758476933303, 'freq_mean': 0.0019812666122628396, 'freq_var': 0.0011638297187273954, 'freq_skew': 0.2643932187447253, 'freq_kurt': 3.025668741307667}\n"
     ]
    },
    {
     "name": "stderr",
     "output_type": "stream",
     "text": [
      "100%|██████████| 60/60 [00:06<00:00,  9.08it/s]\n"
     ]
    },
    {
     "name": "stdout",
     "output_type": "stream",
     "text": [
      "{'method': 'gillespies', 'g_steps': 1, 'tau_steps': 0, 'use_corrector': True, 'corrector': 'mpf', 'c_stepsize': 0.1, 'c_steps': 2, 'nfe': 168.0, 'time_mean': 0.002953046669859189, 'time_var': 0.000249812634541257, 'time_skew': 0.09489089563477643, 'time_kurt': 0.7894504390247756, 'freq_mean': 0.002953045085938746, 'freq_var': 0.001761617529523364, 'freq_skew': 0.1805051370077143, 'freq_kurt': 1.6847685286956129}\n"
     ]
    },
    {
     "name": "stderr",
     "output_type": "stream",
     "text": [
      "100%|██████████| 60/60 [00:06<00:00,  9.08it/s]\n"
     ]
    },
    {
     "name": "stdout",
     "output_type": "stream",
     "text": [
      "{'method': 'gillespies', 'g_steps': 1, 'tau_steps': 0, 'use_corrector': True, 'corrector': 'mpf', 'c_stepsize': 0.1, 'c_steps': 2, 'nfe': 168.0, 'time_mean': 0.0019786004577179604, 'time_var': 0.0004107491439884299, 'time_skew': 0.06045150996415809, 'time_kurt': 0.6115713846369425, 'freq_mean': 0.0019785998469912837, 'freq_var': 0.0017925645240079104, 'freq_skew': 0.1539864352839596, 'freq_kurt': 2.5005684792509433}\n",
      "Experiment results saved to  gene_results.csv\n"
     ]
    },
    {
     "name": "stderr",
     "output_type": "stream",
     "text": [
      "100%|██████████| 60/60 [00:06<00:00,  8.98it/s]\n"
     ]
    },
    {
     "name": "stdout",
     "output_type": "stream",
     "text": [
      "{'method': 'gillespies', 'g_steps': 3, 'tau_steps': 0, 'use_corrector': True, 'corrector': 'barker', 'c_stepsize': 0.1, 'c_steps': 2, 'nfe': 56.0, 'time_mean': 0.0009120606530467889, 'time_var': 0.00041884466798166437, 'time_skew': 0.026972749152568445, 'time_kurt': 0.1805265643400489, 'freq_mean': 0.0009120597160123723, 'freq_var': 0.0024017546035235305, 'freq_skew': 0.5507929497752571, 'freq_kurt': 5.009822666702892}\n"
     ]
    },
    {
     "name": "stderr",
     "output_type": "stream",
     "text": [
      "100%|██████████| 60/60 [00:06<00:00,  9.08it/s]\n"
     ]
    },
    {
     "name": "stdout",
     "output_type": "stream",
     "text": [
      "{'method': 'gillespies', 'g_steps': 3, 'tau_steps': 0, 'use_corrector': True, 'corrector': 'barker', 'c_stepsize': 0.1, 'c_steps': 2, 'nfe': 56.0, 'time_mean': 0.001754820579075552, 'time_var': 0.00025391595604901454, 'time_skew': 0.031809831895548354, 'time_kurt': 0.21072728611849667, 'freq_mean': 0.0017548196357394913, 'freq_var': 0.002531862396122561, 'freq_skew': 0.38718932514388765, 'freq_kurt': 6.842661898575727}\n"
     ]
    },
    {
     "name": "stderr",
     "output_type": "stream",
     "text": [
      "100%|██████████| 60/60 [00:06<00:00,  9.08it/s]\n"
     ]
    },
    {
     "name": "stdout",
     "output_type": "stream",
     "text": [
      "{'method': 'gillespies', 'g_steps': 3, 'tau_steps': 0, 'use_corrector': True, 'corrector': 'barker', 'c_stepsize': 0.1, 'c_steps': 2, 'nfe': 56.0, 'time_mean': 0.0010851008486510397, 'time_var': 0.0003745118738306272, 'time_skew': 0.02738486785879082, 'time_kurt': 0.21953542238785526, 'freq_mean': 0.0010851010627311271, 'freq_var': 0.0034652923066972635, 'freq_skew': 0.46297374072861014, 'freq_kurt': 5.006498892331352}\n"
     ]
    },
    {
     "name": "stderr",
     "output_type": "stream",
     "text": [
      "100%|██████████| 60/60 [00:06<00:00,  9.08it/s]\n"
     ]
    },
    {
     "name": "stdout",
     "output_type": "stream",
     "text": [
      "{'method': 'gillespies', 'g_steps': 3, 'tau_steps': 0, 'use_corrector': True, 'corrector': 'barker', 'c_stepsize': 0.1, 'c_steps': 2, 'nfe': 56.0, 'time_mean': 0.0013068864032764892, 'time_var': 0.00023307588841380177, 'time_skew': 0.04838267867729985, 'time_kurt': 0.20976589589406255, 'freq_mean': 0.0013068853886467953, 'freq_var': 0.0031477439037740688, 'freq_skew': 0.5019342296147361, 'freq_kurt': 4.063358212100392}\n"
     ]
    },
    {
     "name": "stderr",
     "output_type": "stream",
     "text": [
      "100%|██████████| 60/60 [00:06<00:00,  9.04it/s]\n"
     ]
    },
    {
     "name": "stdout",
     "output_type": "stream",
     "text": [
      "{'method': 'gillespies', 'g_steps': 3, 'tau_steps': 0, 'use_corrector': True, 'corrector': 'barker', 'c_stepsize': 0.1, 'c_steps': 2, 'nfe': 56.0, 'time_mean': 0.0012555431044378776, 'time_var': 0.0002600524065927278, 'time_skew': 0.03144622660173291, 'time_kurt': 0.34793778250865254, 'freq_mean': 0.0012555420949002989, 'freq_var': 0.00253558778082081, 'freq_skew': 0.640483706758286, 'freq_kurt': 5.5213189073759095}\n"
     ]
    },
    {
     "name": "stderr",
     "output_type": "stream",
     "text": [
      "100%|██████████| 60/60 [00:06<00:00,  9.08it/s]\n"
     ]
    },
    {
     "name": "stdout",
     "output_type": "stream",
     "text": [
      "{'method': 'gillespies', 'g_steps': 3, 'tau_steps': 0, 'use_corrector': True, 'corrector': 'barker', 'c_stepsize': 0.1, 'c_steps': 2, 'nfe': 56.0, 'time_mean': 0.0009993295284840807, 'time_var': 0.0003072893301184471, 'time_skew': 0.029055385493008994, 'time_kurt': 0.36540811505174237, 'freq_mean': 0.0009993292133279323, 'freq_var': 0.0027997152265250226, 'freq_skew': 0.43267902018679466, 'freq_kurt': 3.9595990384080837}\n"
     ]
    },
    {
     "name": "stderr",
     "output_type": "stream",
     "text": [
      "100%|██████████| 60/60 [00:06<00:00,  8.95it/s]\n"
     ]
    },
    {
     "name": "stdout",
     "output_type": "stream",
     "text": [
      "{'method': 'gillespies', 'g_steps': 3, 'tau_steps': 0, 'use_corrector': True, 'corrector': 'barker', 'c_stepsize': 0.1, 'c_steps': 2, 'nfe': 56.0, 'time_mean': 0.0013606451582513304, 'time_var': 0.0005759370607772246, 'time_skew': 0.037493474981803686, 'time_kurt': 0.22257557516645318, 'freq_mean': 0.0013606448847251148, 'freq_var': 0.0034422448275470622, 'freq_skew': 0.7393578023881544, 'freq_kurt': 5.413056861059511}\n"
     ]
    },
    {
     "name": "stderr",
     "output_type": "stream",
     "text": [
      "100%|██████████| 60/60 [00:06<00:00,  9.08it/s]\n"
     ]
    },
    {
     "name": "stdout",
     "output_type": "stream",
     "text": [
      "{'method': 'gillespies', 'g_steps': 3, 'tau_steps': 0, 'use_corrector': True, 'corrector': 'barker', 'c_stepsize': 0.1, 'c_steps': 2, 'nfe': 56.0, 'time_mean': 0.0004988064663461647, 'time_var': 0.0002196937776421699, 'time_skew': 0.013464798035249205, 'time_kurt': 0.057550505111001335, 'freq_mean': 0.0004988059075392389, 'freq_var': 0.001619251126552411, 'freq_skew': 0.3801424726581246, 'freq_kurt': 4.804778832178183}\n"
     ]
    },
    {
     "name": "stderr",
     "output_type": "stream",
     "text": [
      "100%|██████████| 60/60 [00:06<00:00,  9.05it/s]\n"
     ]
    },
    {
     "name": "stdout",
     "output_type": "stream",
     "text": [
      "{'method': 'gillespies', 'g_steps': 3, 'tau_steps': 0, 'use_corrector': True, 'corrector': 'barker', 'c_stepsize': 0.1, 'c_steps': 2, 'nfe': 56.0, 'time_mean': 0.0008240508901480227, 'time_var': 9.199743824212681e-05, 'time_skew': 0.019411243094663348, 'time_kurt': 0.09176966884820223, 'freq_mean': 0.0008240506039183784, 'freq_var': 0.001531539178374927, 'freq_skew': 0.4164783673579862, 'freq_kurt': 4.982961292539331}\n"
     ]
    },
    {
     "name": "stderr",
     "output_type": "stream",
     "text": [
      "100%|██████████| 60/60 [00:06<00:00,  9.07it/s]\n"
     ]
    },
    {
     "name": "stdout",
     "output_type": "stream",
     "text": [
      "{'method': 'gillespies', 'g_steps': 3, 'tau_steps': 0, 'use_corrector': True, 'corrector': 'barker', 'c_stepsize': 0.1, 'c_steps': 2, 'nfe': 56.0, 'time_mean': 0.0012304277632808275, 'time_var': 0.00016628096416187698, 'time_skew': 0.025621814778552455, 'time_kurt': 0.13559155117816063, 'freq_mean': 0.001230427083139037, 'freq_var': 0.0030506090376837083, 'freq_skew': 0.37977190673228123, 'freq_kurt': 3.902304277294155}\n"
     ]
    },
    {
     "name": "stderr",
     "output_type": "stream",
     "text": [
      "100%|██████████| 60/60 [00:06<00:00,  8.89it/s]\n"
     ]
    },
    {
     "name": "stdout",
     "output_type": "stream",
     "text": [
      "{'method': 'gillespies', 'g_steps': 3, 'tau_steps': 0, 'use_corrector': True, 'corrector': 'barker', 'c_stepsize': 0.1, 'c_steps': 2, 'nfe': 56.0, 'time_mean': 0.0012832690590323782, 'time_var': 7.994936844819162e-05, 'time_skew': 0.02753079311281811, 'time_kurt': 0.2847079402333991, 'freq_mean': 0.0012832680571247563, 'freq_var': 0.0017018284114035539, 'freq_skew': 0.4008057695419535, 'freq_kurt': 3.471540285696123}\n"
     ]
    },
    {
     "name": "stderr",
     "output_type": "stream",
     "text": [
      "100%|██████████| 60/60 [00:06<00:00,  8.83it/s]\n"
     ]
    },
    {
     "name": "stdout",
     "output_type": "stream",
     "text": [
      "{'method': 'gillespies', 'g_steps': 3, 'tau_steps': 0, 'use_corrector': True, 'corrector': 'barker', 'c_stepsize': 0.1, 'c_steps': 2, 'nfe': 56.0, 'time_mean': 0.001115990560347502, 'time_var': 9.246805797100332e-05, 'time_skew': 0.025161226560314155, 'time_kurt': 0.11889844466312009, 'freq_mean': 0.001115989708407777, 'freq_var': 0.0017794737290821516, 'freq_skew': 0.38906598109559076, 'freq_kurt': 3.529215783124761}\n"
     ]
    },
    {
     "name": "stderr",
     "output_type": "stream",
     "text": [
      "100%|██████████| 60/60 [00:06<00:00,  9.06it/s]\n"
     ]
    },
    {
     "name": "stdout",
     "output_type": "stream",
     "text": [
      "{'method': 'gillespies', 'g_steps': 3, 'tau_steps': 0, 'use_corrector': True, 'corrector': 'barker', 'c_stepsize': 0.1, 'c_steps': 2, 'nfe': 56.0, 'time_mean': 0.0006214571801823392, 'time_var': 0.0001663473020871073, 'time_skew': 0.01974749344937188, 'time_kurt': 0.10764739007692228, 'freq_mean': 0.0006214567702206136, 'freq_var': 0.002277907408530183, 'freq_skew': 0.30930598905787926, 'freq_kurt': 4.084921682671223}\n"
     ]
    },
    {
     "name": "stderr",
     "output_type": "stream",
     "text": [
      "100%|██████████| 60/60 [00:06<00:00,  8.95it/s]\n"
     ]
    },
    {
     "name": "stdout",
     "output_type": "stream",
     "text": [
      "{'method': 'gillespies', 'g_steps': 3, 'tau_steps': 0, 'use_corrector': True, 'corrector': 'barker', 'c_stepsize': 0.1, 'c_steps': 2, 'nfe': 56.0, 'time_mean': 0.0008436306310362041, 'time_var': 0.0001570363031863588, 'time_skew': 0.03452841975640187, 'time_kurt': 0.1832321453073652, 'freq_mean': 0.0008436300510363902, 'freq_var': 0.0020575980815855234, 'freq_skew': 0.6349129567281744, 'freq_kurt': 4.28765701376776}\n"
     ]
    },
    {
     "name": "stderr",
     "output_type": "stream",
     "text": [
      "100%|██████████| 60/60 [00:06<00:00,  9.07it/s]\n"
     ]
    },
    {
     "name": "stdout",
     "output_type": "stream",
     "text": [
      "{'method': 'gillespies', 'g_steps': 3, 'tau_steps': 0, 'use_corrector': True, 'corrector': 'barker', 'c_stepsize': 0.1, 'c_steps': 2, 'nfe': 56.0, 'time_mean': 0.0017044890347264606, 'time_var': 0.0001332312920273801, 'time_skew': 0.03530619790746573, 'time_kurt': 0.2144495416771362, 'freq_mean': 0.0017044880015787927, 'freq_var': 0.0025288959704978576, 'freq_skew': 0.34436327517155274, 'freq_kurt': 3.2144343057306415}\n"
     ]
    },
    {
     "name": "stderr",
     "output_type": "stream",
     "text": [
      "100%|██████████| 60/60 [00:06<00:00,  9.06it/s]\n"
     ]
    },
    {
     "name": "stdout",
     "output_type": "stream",
     "text": [
      "{'method': 'gillespies', 'g_steps': 3, 'tau_steps': 0, 'use_corrector': True, 'corrector': 'barker', 'c_stepsize': 0.1, 'c_steps': 2, 'nfe': 56.0, 'time_mean': 0.0007768424139102342, 'time_var': 0.0001079743639207305, 'time_skew': 0.022435668072918028, 'time_kurt': 0.22689993599977362, 'freq_mean': 0.0007768420799267339, 'freq_var': 0.002050048729428437, 'freq_skew': 0.4972340976830527, 'freq_kurt': 4.0277042830883785}\n"
     ]
    },
    {
     "name": "stderr",
     "output_type": "stream",
     "text": [
      "100%|██████████| 60/60 [00:06<00:00,  9.01it/s]\n"
     ]
    },
    {
     "name": "stdout",
     "output_type": "stream",
     "text": [
      "{'method': 'gillespies', 'g_steps': 3, 'tau_steps': 0, 'use_corrector': True, 'corrector': 'barker', 'c_stepsize': 0.1, 'c_steps': 2, 'nfe': 56.0, 'time_mean': 0.0006674769524882205, 'time_var': 8.541544342404846e-05, 'time_skew': 0.03359184328617129, 'time_kurt': 0.16151548940020896, 'freq_mean': 0.0006674763575764612, 'freq_var': 0.0031650942990167487, 'freq_skew': 0.3785785732844424, 'freq_kurt': 4.670731086301824}\n"
     ]
    },
    {
     "name": "stderr",
     "output_type": "stream",
     "text": [
      "100%|██████████| 60/60 [00:06<00:00,  8.99it/s]\n"
     ]
    },
    {
     "name": "stdout",
     "output_type": "stream",
     "text": [
      "{'method': 'gillespies', 'g_steps': 3, 'tau_steps': 0, 'use_corrector': True, 'corrector': 'barker', 'c_stepsize': 0.1, 'c_steps': 2, 'nfe': 56.0, 'time_mean': 0.0011422421870272135, 'time_var': 0.00021404880317027301, 'time_skew': 0.023843574152711204, 'time_kurt': 0.23471989199423554, 'freq_mean': 0.0011422418602907724, 'freq_var': 0.0029260233325178056, 'freq_skew': 0.5904686179805086, 'freq_kurt': 5.333150507872363}\n"
     ]
    },
    {
     "name": "stderr",
     "output_type": "stream",
     "text": [
      "100%|██████████| 60/60 [00:06<00:00,  8.97it/s]\n"
     ]
    },
    {
     "name": "stdout",
     "output_type": "stream",
     "text": [
      "{'method': 'gillespies', 'g_steps': 3, 'tau_steps': 0, 'use_corrector': True, 'corrector': 'barker', 'c_stepsize': 0.1, 'c_steps': 2, 'nfe': 56.0, 'time_mean': 0.0015018146107662956, 'time_var': 0.00011103367991315175, 'time_skew': 0.033525639257200326, 'time_kurt': 0.15345108577818056, 'freq_mean': 0.0015018136975183444, 'freq_var': 0.0013312170504710778, 'freq_skew': 0.3779629220511559, 'freq_kurt': 4.107520967791976}\n"
     ]
    },
    {
     "name": "stderr",
     "output_type": "stream",
     "text": [
      "100%|██████████| 60/60 [00:06<00:00,  9.08it/s]\n"
     ]
    },
    {
     "name": "stdout",
     "output_type": "stream",
     "text": [
      "{'method': 'gillespies', 'g_steps': 3, 'tau_steps': 0, 'use_corrector': True, 'corrector': 'barker', 'c_stepsize': 0.1, 'c_steps': 2, 'nfe': 56.0, 'time_mean': 0.0011384758040134156, 'time_var': 0.00019182255839697053, 'time_skew': 0.02927750430768188, 'time_kurt': 0.2908240377926215, 'freq_mean': 0.0011384750559996642, 'freq_var': 0.0024407792415052348, 'freq_skew': 0.3631155217955896, 'freq_kurt': 4.06628825032541}\n",
      "Experiment results saved to  gene_results.csv\n"
     ]
    },
    {
     "name": "stderr",
     "output_type": "stream",
     "text": [
      "100%|██████████| 60/60 [00:06<00:00,  9.08it/s]\n"
     ]
    },
    {
     "name": "stdout",
     "output_type": "stream",
     "text": [
      "{'method': 'gillespies', 'g_steps': 2, 'tau_steps': 0, 'use_corrector': True, 'corrector': 'barker', 'c_stepsize': 0.1, 'c_steps': 2, 'nfe': 84.0, 'time_mean': 0.001288250885153843, 'time_var': 0.00017531310358774458, 'time_skew': 0.03155537703841004, 'time_kurt': 0.3001612391869342, 'freq_mean': 0.0012882497410841504, 'freq_var': 0.0031613375779028104, 'freq_skew': 0.6382265190619516, 'freq_kurt': 4.915365407158702}\n"
     ]
    },
    {
     "name": "stderr",
     "output_type": "stream",
     "text": [
      "100%|██████████| 60/60 [00:06<00:00,  9.04it/s]\n"
     ]
    },
    {
     "name": "stdout",
     "output_type": "stream",
     "text": [
      "{'method': 'gillespies', 'g_steps': 2, 'tau_steps': 0, 'use_corrector': True, 'corrector': 'barker', 'c_stepsize': 0.1, 'c_steps': 2, 'nfe': 84.0, 'time_mean': 0.001569420539847435, 'time_var': 0.000351456005743251, 'time_skew': 0.03742337435080131, 'time_kurt': 0.24480401365098692, 'freq_mean': 0.001569419440306585, 'freq_var': 0.004049145899322361, 'freq_skew': 0.5806050661968692, 'freq_kurt': 5.221029847936256}\n"
     ]
    },
    {
     "name": "stderr",
     "output_type": "stream",
     "text": [
      "100%|██████████| 60/60 [00:06<00:00,  9.07it/s]\n"
     ]
    },
    {
     "name": "stdout",
     "output_type": "stream",
     "text": [
      "{'method': 'gillespies', 'g_steps': 2, 'tau_steps': 0, 'use_corrector': True, 'corrector': 'barker', 'c_stepsize': 0.1, 'c_steps': 2, 'nfe': 84.0, 'time_mean': 0.0003590403225682805, 'time_var': 0.00017959524043916053, 'time_skew': 0.018126034648855028, 'time_kurt': 0.230521752931879, 'freq_mean': 0.0003590396683618617, 'freq_var': 0.0018848011501300887, 'freq_skew': 0.3796177707849122, 'freq_kurt': 3.5690410800730286}\n"
     ]
    },
    {
     "name": "stderr",
     "output_type": "stream",
     "text": [
      "100%|██████████| 60/60 [00:06<00:00,  9.07it/s]\n"
     ]
    },
    {
     "name": "stdout",
     "output_type": "stream",
     "text": [
      "{'method': 'gillespies', 'g_steps': 2, 'tau_steps': 0, 'use_corrector': True, 'corrector': 'barker', 'c_stepsize': 0.1, 'c_steps': 2, 'nfe': 84.0, 'time_mean': 0.001659837684437172, 'time_var': 0.00010859978377711519, 'time_skew': 0.03662120170739393, 'time_kurt': 0.21146631321661635, 'freq_mean': 0.0016598367702358695, 'freq_var': 0.0019035710286276807, 'freq_skew': 0.5009924518980887, 'freq_kurt': 5.045323796292348}\n"
     ]
    },
    {
     "name": "stderr",
     "output_type": "stream",
     "text": [
      "100%|██████████| 60/60 [00:06<00:00,  9.08it/s]\n"
     ]
    },
    {
     "name": "stdout",
     "output_type": "stream",
     "text": [
      "{'method': 'gillespies', 'g_steps': 2, 'tau_steps': 0, 'use_corrector': True, 'corrector': 'barker', 'c_stepsize': 0.1, 'c_steps': 2, 'nfe': 84.0, 'time_mean': 0.0014359080798121006, 'time_var': 0.00018811469715037738, 'time_skew': 0.034006452499066635, 'time_kurt': 0.2181951536588598, 'freq_mean': 0.0014359075487254134, 'freq_var': 0.002123268189806826, 'freq_skew': 0.4113181056425517, 'freq_kurt': 3.8721534635448256}\n"
     ]
    },
    {
     "name": "stderr",
     "output_type": "stream",
     "text": [
      "100%|██████████| 60/60 [00:06<00:00,  9.07it/s]\n"
     ]
    },
    {
     "name": "stdout",
     "output_type": "stream",
     "text": [
      "{'method': 'gillespies', 'g_steps': 2, 'tau_steps': 0, 'use_corrector': True, 'corrector': 'barker', 'c_stepsize': 0.1, 'c_steps': 2, 'nfe': 84.0, 'time_mean': 0.0012333409079986412, 'time_var': 0.0002444949104202764, 'time_skew': 0.0417505433875303, 'time_kurt': 0.26335056723775324, 'freq_mean': 0.001233340075353894, 'freq_var': 0.0026337333908353954, 'freq_skew': 0.4877480779918745, 'freq_kurt': 4.808468727950886}\n"
     ]
    },
    {
     "name": "stderr",
     "output_type": "stream",
     "text": [
      "100%|██████████| 60/60 [00:06<00:00,  9.07it/s]\n"
     ]
    },
    {
     "name": "stdout",
     "output_type": "stream",
     "text": [
      "{'method': 'gillespies', 'g_steps': 2, 'tau_steps': 0, 'use_corrector': True, 'corrector': 'barker', 'c_stepsize': 0.1, 'c_steps': 2, 'nfe': 84.0, 'time_mean': 0.001906642460512591, 'time_var': 0.00021716466645800933, 'time_skew': 0.042900975546310456, 'time_kurt': 0.4711944222330494, 'freq_mean': 0.0019066414617990798, 'freq_var': 0.002162393445018154, 'freq_skew': 0.4064311475212705, 'freq_kurt': 4.187926870143021}\n"
     ]
    },
    {
     "name": "stderr",
     "output_type": "stream",
     "text": [
      "100%|██████████| 60/60 [00:06<00:00,  9.07it/s]\n"
     ]
    },
    {
     "name": "stdout",
     "output_type": "stream",
     "text": [
      "{'method': 'gillespies', 'g_steps': 2, 'tau_steps': 0, 'use_corrector': True, 'corrector': 'barker', 'c_stepsize': 0.1, 'c_steps': 2, 'nfe': 84.0, 'time_mean': 0.0009175776708220619, 'time_var': 0.00015994004525663532, 'time_skew': 0.019169855529043617, 'time_kurt': 0.08274395135998333, 'freq_mean': 0.00091757662061307, 'freq_var': 0.0019333091047124295, 'freq_skew': 0.4347482018439981, 'freq_kurt': 4.549742286388736}\n"
     ]
    },
    {
     "name": "stderr",
     "output_type": "stream",
     "text": [
      "100%|██████████| 60/60 [00:06<00:00,  8.70it/s]\n"
     ]
    },
    {
     "name": "stdout",
     "output_type": "stream",
     "text": [
      "{'method': 'gillespies', 'g_steps': 2, 'tau_steps': 0, 'use_corrector': True, 'corrector': 'barker', 'c_stepsize': 0.1, 'c_steps': 2, 'nfe': 84.0, 'time_mean': 0.0009936514512629935, 'time_var': 0.00018212377140881635, 'time_skew': 0.02615557211426456, 'time_kurt': 0.1197220651649792, 'freq_mean': 0.0009936511985529333, 'freq_var': 0.002839504267141592, 'freq_skew': 0.5851387392738208, 'freq_kurt': 5.867688777590325}\n"
     ]
    },
    {
     "name": "stderr",
     "output_type": "stream",
     "text": [
      "100%|██████████| 60/60 [00:06<00:00,  9.00it/s]\n"
     ]
    },
    {
     "name": "stdout",
     "output_type": "stream",
     "text": [
      "{'method': 'gillespies', 'g_steps': 2, 'tau_steps': 0, 'use_corrector': True, 'corrector': 'barker', 'c_stepsize': 0.1, 'c_steps': 2, 'nfe': 84.0, 'time_mean': 0.0010029497064728589, 'time_var': 0.0002825763951639855, 'time_skew': 0.018489386914865822, 'time_kurt': 0.11804645658833195, 'freq_mean': 0.001002949438286097, 'freq_var': 0.0029066037294057283, 'freq_skew': 0.5901616194823712, 'freq_kurt': 5.384364882895062}\n"
     ]
    },
    {
     "name": "stderr",
     "output_type": "stream",
     "text": [
      "100%|██████████| 60/60 [00:06<00:00,  9.05it/s]\n"
     ]
    },
    {
     "name": "stdout",
     "output_type": "stream",
     "text": [
      "{'method': 'gillespies', 'g_steps': 2, 'tau_steps': 0, 'use_corrector': True, 'corrector': 'barker', 'c_stepsize': 0.1, 'c_steps': 2, 'nfe': 84.0, 'time_mean': 0.000552164264654544, 'time_var': 9.435556777763972e-05, 'time_skew': 0.020195807593514272, 'time_kurt': 0.2546518394071606, 'freq_mean': 0.0005521635719875388, 'freq_var': 0.0018665458060687585, 'freq_skew': 0.397746538398224, 'freq_kurt': 3.001775180704153}\n"
     ]
    },
    {
     "name": "stderr",
     "output_type": "stream",
     "text": [
      "100%|██████████| 60/60 [00:06<00:00,  9.05it/s]\n"
     ]
    },
    {
     "name": "stdout",
     "output_type": "stream",
     "text": [
      "{'method': 'gillespies', 'g_steps': 2, 'tau_steps': 0, 'use_corrector': True, 'corrector': 'barker', 'c_stepsize': 0.1, 'c_steps': 2, 'nfe': 84.0, 'time_mean': 0.0005059129071465395, 'time_var': 6.134628453258172e-05, 'time_skew': 0.03004238917125303, 'time_kurt': 0.3703752593633179, 'freq_mean': 0.0005059116599002914, 'freq_var': 0.0015851393773942527, 'freq_skew': 0.45929918944523457, 'freq_kurt': 4.734751153296019}\n"
     ]
    },
    {
     "name": "stderr",
     "output_type": "stream",
     "text": [
      "100%|██████████| 60/60 [00:06<00:00,  9.03it/s]\n"
     ]
    },
    {
     "name": "stdout",
     "output_type": "stream",
     "text": [
      "{'method': 'gillespies', 'g_steps': 2, 'tau_steps': 0, 'use_corrector': True, 'corrector': 'barker', 'c_stepsize': 0.1, 'c_steps': 2, 'nfe': 84.0, 'time_mean': 0.0011248547691989764, 'time_var': 0.0002642775497619671, 'time_skew': 0.036836564034422675, 'time_kurt': 0.23116151633241536, 'freq_mean': 0.0011248540439321051, 'freq_var': 0.0024557773736543003, 'freq_skew': 0.5536229974572641, 'freq_kurt': 5.225688317187871}\n"
     ]
    },
    {
     "name": "stderr",
     "output_type": "stream",
     "text": [
      "100%|██████████| 60/60 [00:06<00:00,  9.05it/s]\n"
     ]
    },
    {
     "name": "stdout",
     "output_type": "stream",
     "text": [
      "{'method': 'gillespies', 'g_steps': 2, 'tau_steps': 0, 'use_corrector': True, 'corrector': 'barker', 'c_stepsize': 0.1, 'c_steps': 2, 'nfe': 84.0, 'time_mean': 0.0006599797889467152, 'time_var': 9.066974372208774e-05, 'time_skew': 0.02184875293294084, 'time_kurt': 0.1443857516754182, 'freq_mean': 0.0006599789490779938, 'freq_var': 0.001885542833093215, 'freq_skew': 0.49273550417729234, 'freq_kurt': 4.8841668304386125}\n"
     ]
    },
    {
     "name": "stderr",
     "output_type": "stream",
     "text": [
      "100%|██████████| 60/60 [00:06<00:00,  9.08it/s]\n"
     ]
    },
    {
     "name": "stdout",
     "output_type": "stream",
     "text": [
      "{'method': 'gillespies', 'g_steps': 2, 'tau_steps': 0, 'use_corrector': True, 'corrector': 'barker', 'c_stepsize': 0.1, 'c_steps': 2, 'nfe': 84.0, 'time_mean': 0.0008253945466744624, 'time_var': 0.0002891801254474694, 'time_skew': 0.02690715251319393, 'time_kurt': 0.1569165185587272, 'freq_mean': 0.0008253937559951969, 'freq_var': 0.002539820754550897, 'freq_skew': 0.4274399871176112, 'freq_kurt': 3.962291625495567}\n"
     ]
    },
    {
     "name": "stderr",
     "output_type": "stream",
     "text": [
      "100%|██████████| 60/60 [00:06<00:00,  8.96it/s]\n"
     ]
    },
    {
     "name": "stdout",
     "output_type": "stream",
     "text": [
      "{'method': 'gillespies', 'g_steps': 2, 'tau_steps': 0, 'use_corrector': True, 'corrector': 'barker', 'c_stepsize': 0.1, 'c_steps': 2, 'nfe': 84.0, 'time_mean': 0.0010469443859779217, 'time_var': 0.00024054237282162766, 'time_skew': 0.02540009723866308, 'time_kurt': 0.3030699606088624, 'freq_mean': 0.0010469439254913368, 'freq_var': 0.002293262089898319, 'freq_skew': 0.3872220401484253, 'freq_kurt': 4.208839691738942}\n"
     ]
    },
    {
     "name": "stderr",
     "output_type": "stream",
     "text": [
      "100%|██████████| 60/60 [00:06<00:00,  9.03it/s]\n"
     ]
    },
    {
     "name": "stdout",
     "output_type": "stream",
     "text": [
      "{'method': 'gillespies', 'g_steps': 2, 'tau_steps': 0, 'use_corrector': True, 'corrector': 'barker', 'c_stepsize': 0.1, 'c_steps': 2, 'nfe': 84.0, 'time_mean': 0.0015015982119783826, 'time_var': 8.583568840378114e-05, 'time_skew': 0.03922567216367182, 'time_kurt': 0.5462208884057763, 'freq_mean': 0.0015015976822301909, 'freq_var': 0.0014851881041776484, 'freq_skew': 0.3983324653477709, 'freq_kurt': 4.619681754925398}\n"
     ]
    },
    {
     "name": "stderr",
     "output_type": "stream",
     "text": [
      "100%|██████████| 60/60 [00:06<00:00,  9.08it/s]\n"
     ]
    },
    {
     "name": "stdout",
     "output_type": "stream",
     "text": [
      "{'method': 'gillespies', 'g_steps': 2, 'tau_steps': 0, 'use_corrector': True, 'corrector': 'barker', 'c_stepsize': 0.1, 'c_steps': 2, 'nfe': 84.0, 'time_mean': 0.0012120212109627431, 'time_var': 0.0001330615968625864, 'time_skew': 0.03129176916657321, 'time_kurt': 0.20942073932972247, 'freq_mean': 0.0012120202188203402, 'freq_var': 0.0017236729025191131, 'freq_skew': 0.4858871191560677, 'freq_kurt': 4.69920454895519}\n"
     ]
    },
    {
     "name": "stderr",
     "output_type": "stream",
     "text": [
      "100%|██████████| 60/60 [00:06<00:00,  9.08it/s]\n"
     ]
    },
    {
     "name": "stdout",
     "output_type": "stream",
     "text": [
      "{'method': 'gillespies', 'g_steps': 2, 'tau_steps': 0, 'use_corrector': True, 'corrector': 'barker', 'c_stepsize': 0.1, 'c_steps': 2, 'nfe': 84.0, 'time_mean': 0.0011762684689156412, 'time_var': 7.8792735920044e-05, 'time_skew': 0.03423120601978865, 'time_kurt': 0.5314810021520014, 'freq_mean': 0.0011762674550186156, 'freq_var': 0.0017599549419246544, 'freq_skew': 0.3110120825306046, 'freq_kurt': 3.3567935658258747}\n"
     ]
    },
    {
     "name": "stderr",
     "output_type": "stream",
     "text": [
      "100%|██████████| 60/60 [00:06<00:00,  9.08it/s]\n"
     ]
    },
    {
     "name": "stdout",
     "output_type": "stream",
     "text": [
      "{'method': 'gillespies', 'g_steps': 2, 'tau_steps': 0, 'use_corrector': True, 'corrector': 'barker', 'c_stepsize': 0.1, 'c_steps': 2, 'nfe': 84.0, 'time_mean': 0.0008497373909423115, 'time_var': 0.0001858353197533187, 'time_skew': 0.01990763717858124, 'time_kurt': 0.1749337964831996, 'freq_mean': 0.0008497376549380935, 'freq_var': 0.0021450147499865306, 'freq_skew': 0.5240900680896615, 'freq_kurt': 5.764305534552032}\n",
      "Experiment results saved to  gene_results.csv\n"
     ]
    },
    {
     "name": "stderr",
     "output_type": "stream",
     "text": [
      "100%|██████████| 60/60 [00:06<00:00,  9.07it/s]\n"
     ]
    },
    {
     "name": "stdout",
     "output_type": "stream",
     "text": [
      "{'method': 'gillespies', 'g_steps': 1, 'tau_steps': 0, 'use_corrector': True, 'corrector': 'barker', 'c_stepsize': 0.1, 'c_steps': 2, 'nfe': 168.0, 'time_mean': 0.0020986905033273085, 'time_var': 8.442163413132366e-05, 'time_skew': 0.03772885328864852, 'time_kurt': 0.20642292754455288, 'freq_mean': 0.002098689630899646, 'freq_var': 0.002013797657881104, 'freq_skew': 0.35699721076689134, 'freq_kurt': 5.23181262663432}\n"
     ]
    },
    {
     "name": "stderr",
     "output_type": "stream",
     "text": [
      "100%|██████████| 60/60 [00:06<00:00,  9.08it/s]\n"
     ]
    },
    {
     "name": "stdout",
     "output_type": "stream",
     "text": [
      "{'method': 'gillespies', 'g_steps': 1, 'tau_steps': 0, 'use_corrector': True, 'corrector': 'barker', 'c_stepsize': 0.1, 'c_steps': 2, 'nfe': 168.0, 'time_mean': 0.0010079148963740231, 'time_var': 5.282810720173898e-05, 'time_skew': 0.017398629556305282, 'time_kurt': 0.07516778063755725, 'freq_mean': 0.0010079138063334523, 'freq_var': 0.0016733885404043869, 'freq_skew': 0.36888830769406894, 'freq_kurt': 4.699699116194252}\n"
     ]
    },
    {
     "name": "stderr",
     "output_type": "stream",
     "text": [
      "100%|██████████| 60/60 [00:06<00:00,  9.08it/s]\n"
     ]
    },
    {
     "name": "stdout",
     "output_type": "stream",
     "text": [
      "{'method': 'gillespies', 'g_steps': 1, 'tau_steps': 0, 'use_corrector': True, 'corrector': 'barker', 'c_stepsize': 0.1, 'c_steps': 2, 'nfe': 168.0, 'time_mean': 0.001268378152465699, 'time_var': 0.00013224827810087193, 'time_skew': 0.030523172993611267, 'time_kurt': 0.16134095984321598, 'freq_mean': 0.0012683775332424944, 'freq_var': 0.0019019658818175812, 'freq_skew': 0.5595950824749616, 'freq_kurt': 5.282277985903209}\n"
     ]
    },
    {
     "name": "stderr",
     "output_type": "stream",
     "text": [
      "100%|██████████| 60/60 [00:06<00:00,  9.06it/s]\n"
     ]
    },
    {
     "name": "stdout",
     "output_type": "stream",
     "text": [
      "{'method': 'gillespies', 'g_steps': 1, 'tau_steps': 0, 'use_corrector': True, 'corrector': 'barker', 'c_stepsize': 0.1, 'c_steps': 2, 'nfe': 168.0, 'time_mean': 0.0019886382054078162, 'time_var': 0.0002142374721425161, 'time_skew': 0.03850104667772752, 'time_kurt': 0.19027387172793103, 'freq_mean': 0.0019886379057789606, 'freq_var': 0.0024674916783258547, 'freq_skew': 0.42479238041656603, 'freq_kurt': 4.9233129262180615}\n"
     ]
    },
    {
     "name": "stderr",
     "output_type": "stream",
     "text": [
      "100%|██████████| 60/60 [00:07<00:00,  8.46it/s]\n"
     ]
    },
    {
     "name": "stdout",
     "output_type": "stream",
     "text": [
      "{'method': 'gillespies', 'g_steps': 1, 'tau_steps': 0, 'use_corrector': True, 'corrector': 'barker', 'c_stepsize': 0.1, 'c_steps': 2, 'nfe': 168.0, 'time_mean': 0.0011267797096387935, 'time_var': 0.0002671711924233725, 'time_skew': 0.03223262248894342, 'time_kurt': 0.139325060532102, 'freq_mean': 0.0011267791963348987, 'freq_var': 0.0033342444832876895, 'freq_skew': 0.6879870504481, 'freq_kurt': 5.088403846002463}\n"
     ]
    },
    {
     "name": "stderr",
     "output_type": "stream",
     "text": [
      "100%|██████████| 60/60 [00:06<00:00,  8.99it/s]\n"
     ]
    },
    {
     "name": "stdout",
     "output_type": "stream",
     "text": [
      "{'method': 'gillespies', 'g_steps': 1, 'tau_steps': 0, 'use_corrector': True, 'corrector': 'barker', 'c_stepsize': 0.1, 'c_steps': 2, 'nfe': 168.0, 'time_mean': 0.0007710314449045004, 'time_var': 0.00014884149551362108, 'time_skew': 0.029301203292265356, 'time_kurt': 0.20905812585453915, 'freq_mean': 0.0007710307401973093, 'freq_var': 0.0018295917512005438, 'freq_skew': 0.4003357036499893, 'freq_kurt': 3.803923419759744}\n"
     ]
    },
    {
     "name": "stderr",
     "output_type": "stream",
     "text": [
      "100%|██████████| 60/60 [00:07<00:00,  8.19it/s]\n"
     ]
    },
    {
     "name": "stdout",
     "output_type": "stream",
     "text": [
      "{'method': 'gillespies', 'g_steps': 1, 'tau_steps': 0, 'use_corrector': True, 'corrector': 'barker', 'c_stepsize': 0.1, 'c_steps': 2, 'nfe': 168.0, 'time_mean': 0.0008740841856271738, 'time_var': 0.00013288941551898746, 'time_skew': 0.027816673553126607, 'time_kurt': 0.2479772900800281, 'freq_mean': 0.0008740834148594618, 'freq_var': 0.0018058680346541903, 'freq_skew': 0.43208875656843665, 'freq_kurt': 4.344566842696527}\n"
     ]
    },
    {
     "name": "stderr",
     "output_type": "stream",
     "text": [
      "100%|██████████| 60/60 [00:06<00:00,  9.07it/s]\n"
     ]
    },
    {
     "name": "stdout",
     "output_type": "stream",
     "text": [
      "{'method': 'gillespies', 'g_steps': 1, 'tau_steps': 0, 'use_corrector': True, 'corrector': 'barker', 'c_stepsize': 0.1, 'c_steps': 2, 'nfe': 168.0, 'time_mean': 0.0017385533070168912, 'time_var': 0.00010326710304256093, 'time_skew': 0.026872095686560127, 'time_kurt': 0.23309563538701775, 'freq_mean': 0.0017385519361650193, 'freq_var': 0.0023350464393715577, 'freq_skew': 0.38100161651050185, 'freq_kurt': 5.365140628459705}\n"
     ]
    },
    {
     "name": "stderr",
     "output_type": "stream",
     "text": [
      "100%|██████████| 60/60 [00:06<00:00,  9.07it/s]\n"
     ]
    },
    {
     "name": "stdout",
     "output_type": "stream",
     "text": [
      "{'method': 'gillespies', 'g_steps': 1, 'tau_steps': 0, 'use_corrector': True, 'corrector': 'barker', 'c_stepsize': 0.1, 'c_steps': 2, 'nfe': 168.0, 'time_mean': 0.0010728781579015649, 'time_var': 0.00013396741602465925, 'time_skew': 0.03585705924497587, 'time_kurt': 0.36942103087971756, 'freq_mean': 0.0010728772749020237, 'freq_var': 0.0016527083814129062, 'freq_skew': 0.3845747812516287, 'freq_kurt': 3.8733953508114563}\n"
     ]
    },
    {
     "name": "stderr",
     "output_type": "stream",
     "text": [
      "100%|██████████| 60/60 [00:06<00:00,  9.08it/s]\n"
     ]
    },
    {
     "name": "stdout",
     "output_type": "stream",
     "text": [
      "{'method': 'gillespies', 'g_steps': 1, 'tau_steps': 0, 'use_corrector': True, 'corrector': 'barker', 'c_stepsize': 0.1, 'c_steps': 2, 'nfe': 168.0, 'time_mean': 0.0008758058516791588, 'time_var': 0.00018699414856723933, 'time_skew': 0.035277055737861614, 'time_kurt': 0.18230656960048763, 'freq_mean': 0.000875805403474777, 'freq_var': 0.0017025680326712756, 'freq_skew': 0.4510583450606171, 'freq_kurt': 7.270053867943826}\n"
     ]
    },
    {
     "name": "stderr",
     "output_type": "stream",
     "text": [
      "100%|██████████| 60/60 [00:06<00:00,  9.09it/s]\n"
     ]
    },
    {
     "name": "stdout",
     "output_type": "stream",
     "text": [
      "{'method': 'gillespies', 'g_steps': 1, 'tau_steps': 0, 'use_corrector': True, 'corrector': 'barker', 'c_stepsize': 0.1, 'c_steps': 2, 'nfe': 168.0, 'time_mean': 0.001100691536412428, 'time_var': 0.00032001559517689176, 'time_skew': 0.03994623049388494, 'time_kurt': 0.48487186290161083, 'freq_mean': 0.0011006907733705717, 'freq_var': 0.003201074784194828, 'freq_skew': 0.37645642479552993, 'freq_kurt': 4.2745986946885886}\n"
     ]
    },
    {
     "name": "stderr",
     "output_type": "stream",
     "text": [
      "100%|██████████| 60/60 [00:06<00:00,  9.09it/s]\n"
     ]
    },
    {
     "name": "stdout",
     "output_type": "stream",
     "text": [
      "{'method': 'gillespies', 'g_steps': 1, 'tau_steps': 0, 'use_corrector': True, 'corrector': 'barker', 'c_stepsize': 0.1, 'c_steps': 2, 'nfe': 168.0, 'time_mean': 0.0004299725180032799, 'time_var': 0.00017092691790188073, 'time_skew': 0.01821867601475026, 'time_kurt': 0.12819495528559105, 'freq_mean': 0.00042997204139565994, 'freq_var': 0.0020562496105860284, 'freq_skew': 0.4503201265251278, 'freq_kurt': 4.7717812470200816}\n"
     ]
    },
    {
     "name": "stderr",
     "output_type": "stream",
     "text": [
      "100%|██████████| 60/60 [00:06<00:00,  9.09it/s]\n"
     ]
    },
    {
     "name": "stdout",
     "output_type": "stream",
     "text": [
      "{'method': 'gillespies', 'g_steps': 1, 'tau_steps': 0, 'use_corrector': True, 'corrector': 'barker', 'c_stepsize': 0.1, 'c_steps': 2, 'nfe': 168.0, 'time_mean': 0.002798486235688913, 'time_var': 0.00017284697874949756, 'time_skew': 0.05012903834931328, 'time_kurt': 0.2806426238822215, 'freq_mean': 0.002798485772457309, 'freq_var': 0.0037251466243903796, 'freq_skew': 0.44725828928128875, 'freq_kurt': 5.272508886868147}\n"
     ]
    },
    {
     "name": "stderr",
     "output_type": "stream",
     "text": [
      "100%|██████████| 60/60 [00:06<00:00,  9.09it/s]\n"
     ]
    },
    {
     "name": "stdout",
     "output_type": "stream",
     "text": [
      "{'method': 'gillespies', 'g_steps': 1, 'tau_steps': 0, 'use_corrector': True, 'corrector': 'barker', 'c_stepsize': 0.1, 'c_steps': 2, 'nfe': 168.0, 'time_mean': 0.0009558331649976904, 'time_var': 6.994401186635526e-05, 'time_skew': 0.036650682481814065, 'time_kurt': 0.26537950612993905, 'freq_mean': 0.0009558323761000945, 'freq_var': 0.0017934431276773928, 'freq_skew': 0.5196014477453691, 'freq_kurt': 4.751793979115491}\n"
     ]
    },
    {
     "name": "stderr",
     "output_type": "stream",
     "text": [
      "100%|██████████| 60/60 [00:06<00:00,  9.03it/s]\n"
     ]
    },
    {
     "name": "stdout",
     "output_type": "stream",
     "text": [
      "{'method': 'gillespies', 'g_steps': 1, 'tau_steps': 0, 'use_corrector': True, 'corrector': 'barker', 'c_stepsize': 0.1, 'c_steps': 2, 'nfe': 168.0, 'time_mean': 0.0007892919353506849, 'time_var': 0.0003466651342703073, 'time_skew': 0.02561208076529086, 'time_kurt': 0.11101576522235515, 'freq_mean': 0.0007892913136183763, 'freq_var': 0.0013641324591257954, 'freq_skew': 0.6186817087358533, 'freq_kurt': 6.746533329048811}\n"
     ]
    },
    {
     "name": "stderr",
     "output_type": "stream",
     "text": [
      "100%|██████████| 60/60 [00:06<00:00,  9.09it/s]\n"
     ]
    },
    {
     "name": "stdout",
     "output_type": "stream",
     "text": [
      "{'method': 'gillespies', 'g_steps': 1, 'tau_steps': 0, 'use_corrector': True, 'corrector': 'barker', 'c_stepsize': 0.1, 'c_steps': 2, 'nfe': 168.0, 'time_mean': 0.0008203084319805119, 'time_var': 0.00021111106202324588, 'time_skew': 0.021714363736891163, 'time_kurt': 0.0753881341093577, 'freq_mean': 0.0008203078862408876, 'freq_var': 0.0031274281194919166, 'freq_skew': 0.44185231114524076, 'freq_kurt': 4.448763084212378}\n"
     ]
    },
    {
     "name": "stderr",
     "output_type": "stream",
     "text": [
      "100%|██████████| 60/60 [00:06<00:00,  9.09it/s]\n"
     ]
    },
    {
     "name": "stdout",
     "output_type": "stream",
     "text": [
      "{'method': 'gillespies', 'g_steps': 1, 'tau_steps': 0, 'use_corrector': True, 'corrector': 'barker', 'c_stepsize': 0.1, 'c_steps': 2, 'nfe': 168.0, 'time_mean': 0.0007418982677056394, 'time_var': 0.0002567971576192791, 'time_skew': 0.03126055593912866, 'time_kurt': 0.1457416940355855, 'freq_mean': 0.0007418982252613897, 'freq_var': 0.002712867789362458, 'freq_skew': 0.7238151023861382, 'freq_kurt': 6.565664178912964}\n"
     ]
    },
    {
     "name": "stderr",
     "output_type": "stream",
     "text": [
      "100%|██████████| 60/60 [00:06<00:00,  9.09it/s]\n"
     ]
    },
    {
     "name": "stdout",
     "output_type": "stream",
     "text": [
      "{'method': 'gillespies', 'g_steps': 1, 'tau_steps': 0, 'use_corrector': True, 'corrector': 'barker', 'c_stepsize': 0.1, 'c_steps': 2, 'nfe': 168.0, 'time_mean': 0.0013908825881773868, 'time_var': 0.00030246848915302285, 'time_skew': 0.032197339938182294, 'time_kurt': 0.1916763693468154, 'freq_mean': 0.001390881760365187, 'freq_var': 0.003240118416282641, 'freq_skew': 0.4312008178490716, 'freq_kurt': 5.921360400553551}\n"
     ]
    },
    {
     "name": "stderr",
     "output_type": "stream",
     "text": [
      "100%|██████████| 60/60 [00:06<00:00,  9.07it/s]\n"
     ]
    },
    {
     "name": "stdout",
     "output_type": "stream",
     "text": [
      "{'method': 'gillespies', 'g_steps': 1, 'tau_steps': 0, 'use_corrector': True, 'corrector': 'barker', 'c_stepsize': 0.1, 'c_steps': 2, 'nfe': 168.0, 'time_mean': 0.0013172131314330732, 'time_var': 0.000310537215588161, 'time_skew': 0.04012665644248532, 'time_kurt': 0.30081508889448005, 'freq_mean': 0.0013172119036735917, 'freq_var': 0.0029701173175000223, 'freq_skew': 0.5009058204846982, 'freq_kurt': 5.691468638650732}\n"
     ]
    },
    {
     "name": "stderr",
     "output_type": "stream",
     "text": [
      "100%|██████████| 60/60 [00:06<00:00,  9.09it/s]\n"
     ]
    },
    {
     "name": "stdout",
     "output_type": "stream",
     "text": [
      "{'method': 'gillespies', 'g_steps': 1, 'tau_steps': 0, 'use_corrector': True, 'corrector': 'barker', 'c_stepsize': 0.1, 'c_steps': 2, 'nfe': 168.0, 'time_mean': 0.0012392347900744762, 'time_var': 0.00014999854147326484, 'time_skew': 0.02617227906144476, 'time_kurt': 0.15185830275993215, 'freq_mean': 0.001239234101584414, 'freq_var': 0.0026080128197416594, 'freq_skew': 0.47627113015650835, 'freq_kurt': 4.74611359062646}\n",
      "Experiment results saved to  gene_results.csv\n"
     ]
    },
    {
     "name": "stderr",
     "output_type": "stream",
     "text": [
      "100%|██████████| 60/60 [00:06<00:00,  9.10it/s]\n"
     ]
    },
    {
     "name": "stdout",
     "output_type": "stream",
     "text": [
      "{'method': 'gillespies', 'g_steps': 3, 'tau_steps': 0, 'use_corrector': True, 'corrector': 'birthdeath', 'c_stepsize': 0.1, 'c_steps': 2, 'nfe': 56.0, 'time_mean': 0.0006732470984876152, 'time_var': 0.0002214293563234382, 'time_skew': 0.020188855133337905, 'time_kurt': 0.20203326197820515, 'freq_mean': 0.0006732458169391738, 'freq_var': 0.002296757603520376, 'freq_skew': 0.5231580068746217, 'freq_kurt': 4.697104387820335}\n"
     ]
    },
    {
     "name": "stderr",
     "output_type": "stream",
     "text": [
      "100%|██████████| 60/60 [00:06<00:00,  9.10it/s]\n"
     ]
    },
    {
     "name": "stdout",
     "output_type": "stream",
     "text": [
      "{'method': 'gillespies', 'g_steps': 3, 'tau_steps': 0, 'use_corrector': True, 'corrector': 'birthdeath', 'c_stepsize': 0.1, 'c_steps': 2, 'nfe': 56.0, 'time_mean': 0.0016656892358301698, 'time_var': 0.0001705622063490989, 'time_skew': 0.04830752138915975, 'time_kurt': 0.2852799196548788, 'freq_mean': 0.0016656886073525467, 'freq_var': 0.002614260651331573, 'freq_skew': 0.5425921555192328, 'freq_kurt': 4.948893623932757}\n"
     ]
    },
    {
     "name": "stderr",
     "output_type": "stream",
     "text": [
      "100%|██████████| 60/60 [00:06<00:00,  9.10it/s]\n"
     ]
    },
    {
     "name": "stdout",
     "output_type": "stream",
     "text": [
      "{'method': 'gillespies', 'g_steps': 3, 'tau_steps': 0, 'use_corrector': True, 'corrector': 'birthdeath', 'c_stepsize': 0.1, 'c_steps': 2, 'nfe': 56.0, 'time_mean': 0.0007823341636365183, 'time_var': 0.00021040488401898822, 'time_skew': 0.02299681377453556, 'time_kurt': 0.1870336830406942, 'freq_mean': 0.0007823336851433148, 'freq_var': 0.0029830366099362596, 'freq_skew': 0.5108286168592268, 'freq_kurt': 5.249274639824966}\n"
     ]
    },
    {
     "name": "stderr",
     "output_type": "stream",
     "text": [
      "100%|██████████| 60/60 [00:06<00:00,  9.08it/s]\n"
     ]
    },
    {
     "name": "stdout",
     "output_type": "stream",
     "text": [
      "{'method': 'gillespies', 'g_steps': 3, 'tau_steps': 0, 'use_corrector': True, 'corrector': 'birthdeath', 'c_stepsize': 0.1, 'c_steps': 2, 'nfe': 56.0, 'time_mean': 0.0009889719218944405, 'time_var': 0.0002945499912685234, 'time_skew': 0.022394432065483236, 'time_kurt': 0.22935782765480825, 'freq_mean': 0.0009889715877754522, 'freq_var': 0.0020850283717813237, 'freq_skew': 0.5492765277599434, 'freq_kurt': 4.184291408442927}\n"
     ]
    },
    {
     "name": "stderr",
     "output_type": "stream",
     "text": [
      "100%|██████████| 60/60 [00:06<00:00,  8.84it/s]\n"
     ]
    },
    {
     "name": "stdout",
     "output_type": "stream",
     "text": [
      "{'method': 'gillespies', 'g_steps': 3, 'tau_steps': 0, 'use_corrector': True, 'corrector': 'birthdeath', 'c_stepsize': 0.1, 'c_steps': 2, 'nfe': 56.0, 'time_mean': 0.0016867954184612763, 'time_var': 0.00011173937556919831, 'time_skew': 0.04161743904601738, 'time_kurt': 0.27794982039009675, 'freq_mean': 0.0016867949926043897, 'freq_var': 0.002236269616512692, 'freq_skew': 0.43699650903476933, 'freq_kurt': 4.643022408363229}\n"
     ]
    },
    {
     "name": "stderr",
     "output_type": "stream",
     "text": [
      "100%|██████████| 60/60 [00:06<00:00,  9.10it/s]\n"
     ]
    },
    {
     "name": "stdout",
     "output_type": "stream",
     "text": [
      "{'method': 'gillespies', 'g_steps': 3, 'tau_steps': 0, 'use_corrector': True, 'corrector': 'birthdeath', 'c_stepsize': 0.1, 'c_steps': 2, 'nfe': 56.0, 'time_mean': 0.00024101367388029948, 'time_var': 0.00019607975955530395, 'time_skew': 0.014248926401649868, 'time_kurt': 0.16387022445444754, 'freq_mean': 0.0002410129961909654, 'freq_var': 0.0016868685753418796, 'freq_skew': 0.5018125525233087, 'freq_kurt': 4.947285972934478}\n"
     ]
    },
    {
     "name": "stderr",
     "output_type": "stream",
     "text": [
      "100%|██████████| 60/60 [00:06<00:00,  9.09it/s]\n"
     ]
    },
    {
     "name": "stdout",
     "output_type": "stream",
     "text": [
      "{'method': 'gillespies', 'g_steps': 3, 'tau_steps': 0, 'use_corrector': True, 'corrector': 'birthdeath', 'c_stepsize': 0.1, 'c_steps': 2, 'nfe': 56.0, 'time_mean': 0.0009282360025260761, 'time_var': 0.0002699683388887997, 'time_skew': 0.03003533691711409, 'time_kurt': 0.23486830930065714, 'freq_mean': 0.0009282357619227914, 'freq_var': 0.0020243162462440325, 'freq_skew': 0.44636018905673874, 'freq_kurt': 4.0403350339430375}\n"
     ]
    },
    {
     "name": "stderr",
     "output_type": "stream",
     "text": [
      "100%|██████████| 60/60 [00:06<00:00,  9.08it/s]\n"
     ]
    },
    {
     "name": "stdout",
     "output_type": "stream",
     "text": [
      "{'method': 'gillespies', 'g_steps': 3, 'tau_steps': 0, 'use_corrector': True, 'corrector': 'birthdeath', 'c_stepsize': 0.1, 'c_steps': 2, 'nfe': 56.0, 'time_mean': 0.0025830416699357396, 'time_var': 0.00026418315418014134, 'time_skew': 0.058659273074053234, 'time_kurt': 0.4481832638594197, 'freq_mean': 0.0025830411832655125, 'freq_var': 0.00349331550661087, 'freq_skew': 0.6363862967871603, 'freq_kurt': 5.714354079808882}\n"
     ]
    },
    {
     "name": "stderr",
     "output_type": "stream",
     "text": [
      "100%|██████████| 60/60 [00:06<00:00,  9.10it/s]\n"
     ]
    },
    {
     "name": "stdout",
     "output_type": "stream",
     "text": [
      "{'method': 'gillespies', 'g_steps': 3, 'tau_steps': 0, 'use_corrector': True, 'corrector': 'birthdeath', 'c_stepsize': 0.1, 'c_steps': 2, 'nfe': 56.0, 'time_mean': 0.0015835402409488254, 'time_var': 0.00042718073001798805, 'time_skew': 0.03517406166449038, 'time_kurt': 0.26979468955849745, 'freq_mean': 0.001583539330073394, 'freq_var': 0.002457344309832196, 'freq_skew': 0.5430437714579252, 'freq_kurt': 5.249410941396315}\n"
     ]
    },
    {
     "name": "stderr",
     "output_type": "stream",
     "text": [
      "100%|██████████| 60/60 [00:06<00:00,  9.10it/s]\n"
     ]
    },
    {
     "name": "stdout",
     "output_type": "stream",
     "text": [
      "{'method': 'gillespies', 'g_steps': 3, 'tau_steps': 0, 'use_corrector': True, 'corrector': 'birthdeath', 'c_stepsize': 0.1, 'c_steps': 2, 'nfe': 56.0, 'time_mean': 0.0005610052705169658, 'time_var': 0.00019664224159945005, 'time_skew': 0.018970566628081272, 'time_kurt': 0.18810856883951413, 'freq_mean': 0.0005610051421456426, 'freq_var': 0.001983228224496319, 'freq_skew': 0.510245198619932, 'freq_kurt': 5.073076054193974}\n"
     ]
    },
    {
     "name": "stderr",
     "output_type": "stream",
     "text": [
      "100%|██████████| 60/60 [00:06<00:00,  9.10it/s]\n"
     ]
    },
    {
     "name": "stdout",
     "output_type": "stream",
     "text": [
      "{'method': 'gillespies', 'g_steps': 3, 'tau_steps': 0, 'use_corrector': True, 'corrector': 'birthdeath', 'c_stepsize': 0.1, 'c_steps': 2, 'nfe': 56.0, 'time_mean': 0.0012125886425271794, 'time_var': 0.0002586331210453764, 'time_skew': 0.04255607435475868, 'time_kurt': 0.2703344852033659, 'freq_mean': 0.0012125879986758748, 'freq_var': 0.00359455654647597, 'freq_skew': 0.7302220795026896, 'freq_kurt': 6.436053106190526}\n"
     ]
    },
    {
     "name": "stderr",
     "output_type": "stream",
     "text": [
      "100%|██████████| 60/60 [00:06<00:00,  9.05it/s]\n"
     ]
    },
    {
     "name": "stdout",
     "output_type": "stream",
     "text": [
      "{'method': 'gillespies', 'g_steps': 3, 'tau_steps': 0, 'use_corrector': True, 'corrector': 'birthdeath', 'c_stepsize': 0.1, 'c_steps': 2, 'nfe': 56.0, 'time_mean': 0.0008879768367391877, 'time_var': 4.3911826088977064e-05, 'time_skew': 0.03366087563896725, 'time_kurt': 0.2872564321304274, 'freq_mean': 0.0008879764409264561, 'freq_var': 0.002358143572237581, 'freq_skew': 0.3472171874533506, 'freq_kurt': 3.4151044478379973}\n"
     ]
    },
    {
     "name": "stderr",
     "output_type": "stream",
     "text": [
      "100%|██████████| 60/60 [00:06<00:00,  9.09it/s]\n"
     ]
    },
    {
     "name": "stdout",
     "output_type": "stream",
     "text": [
      "{'method': 'gillespies', 'g_steps': 3, 'tau_steps': 0, 'use_corrector': True, 'corrector': 'birthdeath', 'c_stepsize': 0.1, 'c_steps': 2, 'nfe': 56.0, 'time_mean': 0.0007680982952992994, 'time_var': 0.00021192366973888906, 'time_skew': 0.03270499539233761, 'time_kurt': 0.1342278561060081, 'freq_mean': 0.0007680980016531399, 'freq_var': 0.0031882570573528823, 'freq_skew': 0.6161452794438268, 'freq_kurt': 5.524653958953783}\n"
     ]
    },
    {
     "name": "stderr",
     "output_type": "stream",
     "text": [
      "100%|██████████| 60/60 [00:06<00:00,  9.10it/s]\n"
     ]
    },
    {
     "name": "stdout",
     "output_type": "stream",
     "text": [
      "{'method': 'gillespies', 'g_steps': 3, 'tau_steps': 0, 'use_corrector': True, 'corrector': 'birthdeath', 'c_stepsize': 0.1, 'c_steps': 2, 'nfe': 56.0, 'time_mean': 0.0009454427793888586, 'time_var': 0.0001353757158180441, 'time_skew': 0.030951840224570797, 'time_kurt': 0.2913140511010343, 'freq_mean': 0.0009454419491930756, 'freq_var': 0.0023407699028008292, 'freq_skew': 0.41378260582599197, 'freq_kurt': 3.3152273883901193}\n"
     ]
    },
    {
     "name": "stderr",
     "output_type": "stream",
     "text": [
      "100%|██████████| 60/60 [00:06<00:00,  9.10it/s]\n"
     ]
    },
    {
     "name": "stdout",
     "output_type": "stream",
     "text": [
      "{'method': 'gillespies', 'g_steps': 3, 'tau_steps': 0, 'use_corrector': True, 'corrector': 'birthdeath', 'c_stepsize': 0.1, 'c_steps': 2, 'nfe': 56.0, 'time_mean': 0.0014438004921700424, 'time_var': 0.00022439095897465369, 'time_skew': 0.031641004282384935, 'time_kurt': 0.16422816630311535, 'freq_mean': 0.0014437998675293211, 'freq_var': 0.0031246219616291662, 'freq_skew': 0.4449734779772128, 'freq_kurt': 3.787693635997839}\n"
     ]
    },
    {
     "name": "stderr",
     "output_type": "stream",
     "text": [
      "100%|██████████| 60/60 [00:06<00:00,  9.10it/s]\n"
     ]
    },
    {
     "name": "stdout",
     "output_type": "stream",
     "text": [
      "{'method': 'gillespies', 'g_steps': 3, 'tau_steps': 0, 'use_corrector': True, 'corrector': 'birthdeath', 'c_stepsize': 0.1, 'c_steps': 2, 'nfe': 56.0, 'time_mean': 0.00111515735130539, 'time_var': 5.462792352333627e-05, 'time_skew': 0.021594407300431086, 'time_kurt': 0.11967538996411133, 'freq_mean': 0.0011151565412174384, 'freq_var': 0.0016139820099891238, 'freq_skew': 0.3508491873558634, 'freq_kurt': 4.874258626646453}\n"
     ]
    },
    {
     "name": "stderr",
     "output_type": "stream",
     "text": [
      "100%|██████████| 60/60 [00:06<00:00,  9.03it/s]\n"
     ]
    },
    {
     "name": "stdout",
     "output_type": "stream",
     "text": [
      "{'method': 'gillespies', 'g_steps': 3, 'tau_steps': 0, 'use_corrector': True, 'corrector': 'birthdeath', 'c_stepsize': 0.1, 'c_steps': 2, 'nfe': 56.0, 'time_mean': 0.001058374937402328, 'time_var': 0.00020064469290955958, 'time_skew': 0.03959285180859585, 'time_kurt': 0.5681528671850916, 'freq_mean': 0.0010583744256477603, 'freq_var': 0.003025335414455569, 'freq_skew': 0.5706834003081277, 'freq_kurt': 5.5730567667253625}\n"
     ]
    },
    {
     "name": "stderr",
     "output_type": "stream",
     "text": [
      "100%|██████████| 60/60 [00:06<00:00,  9.07it/s]\n"
     ]
    },
    {
     "name": "stdout",
     "output_type": "stream",
     "text": [
      "{'method': 'gillespies', 'g_steps': 3, 'tau_steps': 0, 'use_corrector': True, 'corrector': 'birthdeath', 'c_stepsize': 0.1, 'c_steps': 2, 'nfe': 56.0, 'time_mean': 0.0012008221746868037, 'time_var': 0.0001114775101644203, 'time_skew': 0.03295901982591497, 'time_kurt': 0.154597674247026, 'freq_mean': 0.0012008215817424005, 'freq_var': 0.0028180595076049745, 'freq_skew': 0.519569245439358, 'freq_kurt': 4.533951634655081}\n"
     ]
    },
    {
     "name": "stderr",
     "output_type": "stream",
     "text": [
      "100%|██████████| 60/60 [00:06<00:00,  9.07it/s]\n"
     ]
    },
    {
     "name": "stdout",
     "output_type": "stream",
     "text": [
      "{'method': 'gillespies', 'g_steps': 3, 'tau_steps': 0, 'use_corrector': True, 'corrector': 'birthdeath', 'c_stepsize': 0.1, 'c_steps': 2, 'nfe': 56.0, 'time_mean': 0.0004022497371439565, 'time_var': 9.083788314365418e-05, 'time_skew': 0.028020846720017277, 'time_kurt': 0.11066801895194094, 'freq_mean': 0.00040224945332215247, 'freq_var': 0.0009389161323388206, 'freq_skew': 0.40039357667979886, 'freq_kurt': 5.557331600908581}\n"
     ]
    },
    {
     "name": "stderr",
     "output_type": "stream",
     "text": [
      "100%|██████████| 60/60 [00:06<00:00,  9.07it/s]\n"
     ]
    },
    {
     "name": "stdout",
     "output_type": "stream",
     "text": [
      "{'method': 'gillespies', 'g_steps': 3, 'tau_steps': 0, 'use_corrector': True, 'corrector': 'birthdeath', 'c_stepsize': 0.1, 'c_steps': 2, 'nfe': 56.0, 'time_mean': 0.001483265505350719, 'time_var': 0.00011480785207232996, 'time_skew': 0.04637644931248113, 'time_kurt': 0.4412341161405332, 'freq_mean': 0.001483265082362426, 'freq_var': 0.0024790495092316565, 'freq_skew': 0.5266491342995817, 'freq_kurt': 5.378068229114935}\n",
      "Experiment results saved to  gene_results.csv\n"
     ]
    },
    {
     "name": "stderr",
     "output_type": "stream",
     "text": [
      "100%|██████████| 60/60 [00:06<00:00,  9.07it/s]\n"
     ]
    },
    {
     "name": "stdout",
     "output_type": "stream",
     "text": [
      "{'method': 'gillespies', 'g_steps': 2, 'tau_steps': 0, 'use_corrector': True, 'corrector': 'birthdeath', 'c_stepsize': 0.1, 'c_steps': 2, 'nfe': 84.0, 'time_mean': 0.0010882415306880096, 'time_var': 0.0001484413194103415, 'time_skew': 0.02479288354339722, 'time_kurt': 0.2340867354212854, 'freq_mean': 0.0010882405784718295, 'freq_var': 0.002184564147120755, 'freq_skew': 0.5873325095409266, 'freq_kurt': 5.792549815465462}\n"
     ]
    },
    {
     "name": "stderr",
     "output_type": "stream",
     "text": [
      "100%|██████████| 60/60 [00:06<00:00,  9.06it/s]\n"
     ]
    },
    {
     "name": "stdout",
     "output_type": "stream",
     "text": [
      "{'method': 'gillespies', 'g_steps': 2, 'tau_steps': 0, 'use_corrector': True, 'corrector': 'birthdeath', 'c_stepsize': 0.1, 'c_steps': 2, 'nfe': 84.0, 'time_mean': 0.0007825780630529689, 'time_var': 0.00013221351742600943, 'time_skew': 0.022052911125449586, 'time_kurt': 0.22075380041858617, 'freq_mean': 0.0007825775348158321, 'freq_var': 0.0014523341370744258, 'freq_skew': 0.5234816067327632, 'freq_kurt': 4.627543980913745}\n"
     ]
    },
    {
     "name": "stderr",
     "output_type": "stream",
     "text": [
      "100%|██████████| 60/60 [00:06<00:00,  8.85it/s]\n"
     ]
    },
    {
     "name": "stdout",
     "output_type": "stream",
     "text": [
      "{'method': 'gillespies', 'g_steps': 2, 'tau_steps': 0, 'use_corrector': True, 'corrector': 'birthdeath', 'c_stepsize': 0.1, 'c_steps': 2, 'nfe': 84.0, 'time_mean': 0.0011865696213963104, 'time_var': 0.00013531576346677981, 'time_skew': 0.03531959901409333, 'time_kurt': 0.4739716460776205, 'freq_mean': 0.0011865688026902938, 'freq_var': 0.001759725404816768, 'freq_skew': 0.3701297300061222, 'freq_kurt': 3.9602703809663753}\n"
     ]
    },
    {
     "name": "stderr",
     "output_type": "stream",
     "text": [
      "100%|██████████| 60/60 [00:06<00:00,  9.07it/s]\n"
     ]
    },
    {
     "name": "stdout",
     "output_type": "stream",
     "text": [
      "{'method': 'gillespies', 'g_steps': 2, 'tau_steps': 0, 'use_corrector': True, 'corrector': 'birthdeath', 'c_stepsize': 0.1, 'c_steps': 2, 'nfe': 84.0, 'time_mean': 0.0011718303688107278, 'time_var': 0.0001622753161757543, 'time_skew': 0.0450313063919593, 'time_kurt': 0.7546780532839416, 'freq_mean': 0.0011718298550168688, 'freq_var': 0.003736019416290632, 'freq_skew': 0.5015549147768165, 'freq_kurt': 3.979842166824775}\n"
     ]
    },
    {
     "name": "stderr",
     "output_type": "stream",
     "text": [
      "100%|██████████| 60/60 [00:06<00:00,  9.08it/s]\n"
     ]
    },
    {
     "name": "stdout",
     "output_type": "stream",
     "text": [
      "{'method': 'gillespies', 'g_steps': 2, 'tau_steps': 0, 'use_corrector': True, 'corrector': 'birthdeath', 'c_stepsize': 0.1, 'c_steps': 2, 'nfe': 84.0, 'time_mean': 0.0006657636197754386, 'time_var': 0.0003280715978457939, 'time_skew': 0.02401018237254516, 'time_kurt': 0.2712971998117843, 'freq_mean': 0.0006657633706495496, 'freq_var': 0.0030092553781644314, 'freq_skew': 0.4047841312767347, 'freq_kurt': 3.8456030620910373}\n"
     ]
    },
    {
     "name": "stderr",
     "output_type": "stream",
     "text": [
      "100%|██████████| 60/60 [00:06<00:00,  9.00it/s]\n"
     ]
    },
    {
     "name": "stdout",
     "output_type": "stream",
     "text": [
      "{'method': 'gillespies', 'g_steps': 2, 'tau_steps': 0, 'use_corrector': True, 'corrector': 'birthdeath', 'c_stepsize': 0.1, 'c_steps': 2, 'nfe': 84.0, 'time_mean': 0.0017652482697788914, 'time_var': 0.00018334097412982416, 'time_skew': 0.03946489530933687, 'time_kurt': 0.3332422220958964, 'freq_mean': 0.0017652481518016087, 'freq_var': 0.003944286285154939, 'freq_skew': 0.5870580557008783, 'freq_kurt': 4.543810996704619}\n"
     ]
    },
    {
     "name": "stderr",
     "output_type": "stream",
     "text": [
      "100%|██████████| 60/60 [00:06<00:00,  9.06it/s]\n"
     ]
    },
    {
     "name": "stdout",
     "output_type": "stream",
     "text": [
      "{'method': 'gillespies', 'g_steps': 2, 'tau_steps': 0, 'use_corrector': True, 'corrector': 'birthdeath', 'c_stepsize': 0.1, 'c_steps': 2, 'nfe': 84.0, 'time_mean': 0.0013772879392246135, 'time_var': 0.00025991539876910074, 'time_skew': 0.04372340064613045, 'time_kurt': 0.31797192449695016, 'freq_mean': 0.0013772873266886848, 'freq_var': 0.001927474270822527, 'freq_skew': 0.44649141691470073, 'freq_kurt': 5.316971552308094}\n"
     ]
    },
    {
     "name": "stderr",
     "output_type": "stream",
     "text": [
      "100%|██████████| 60/60 [00:06<00:00,  9.10it/s]\n"
     ]
    },
    {
     "name": "stdout",
     "output_type": "stream",
     "text": [
      "{'method': 'gillespies', 'g_steps': 2, 'tau_steps': 0, 'use_corrector': True, 'corrector': 'birthdeath', 'c_stepsize': 0.1, 'c_steps': 2, 'nfe': 84.0, 'time_mean': 0.001476286796730964, 'time_var': 0.0002158555039184948, 'time_skew': 0.03598267727534721, 'time_kurt': 0.311523536407581, 'freq_mean': 0.0014762864343564042, 'freq_var': 0.0025249137984600734, 'freq_skew': 0.5357169773608085, 'freq_kurt': 5.669033982518605}\n"
     ]
    },
    {
     "name": "stderr",
     "output_type": "stream",
     "text": [
      "100%|██████████| 60/60 [00:06<00:00,  9.10it/s]\n"
     ]
    },
    {
     "name": "stdout",
     "output_type": "stream",
     "text": [
      "{'method': 'gillespies', 'g_steps': 2, 'tau_steps': 0, 'use_corrector': True, 'corrector': 'birthdeath', 'c_stepsize': 0.1, 'c_steps': 2, 'nfe': 84.0, 'time_mean': 0.0015682272093284488, 'time_var': 0.00013475615355654737, 'time_skew': 0.0383175498174725, 'time_kurt': 0.24761891295053226, 'freq_mean': 0.0015682263565728572, 'freq_var': 0.002961587370916852, 'freq_skew': 0.46098128938500565, 'freq_kurt': 4.329775886757192}\n"
     ]
    },
    {
     "name": "stderr",
     "output_type": "stream",
     "text": [
      "100%|██████████| 60/60 [00:07<00:00,  8.40it/s]\n"
     ]
    },
    {
     "name": "stdout",
     "output_type": "stream",
     "text": [
      "{'method': 'gillespies', 'g_steps': 2, 'tau_steps': 0, 'use_corrector': True, 'corrector': 'birthdeath', 'c_stepsize': 0.1, 'c_steps': 2, 'nfe': 84.0, 'time_mean': 0.0011213896199500093, 'time_var': 0.0002727291537266586, 'time_skew': 0.04861151007555095, 'time_kurt': 0.4417235236933214, 'freq_mean': 0.0011213890608399617, 'freq_var': 0.0034641480521915217, 'freq_skew': 0.6166906952139795, 'freq_kurt': 5.310359134336631}\n"
     ]
    },
    {
     "name": "stderr",
     "output_type": "stream",
     "text": [
      "100%|██████████| 60/60 [00:06<00:00,  9.09it/s]\n"
     ]
    },
    {
     "name": "stdout",
     "output_type": "stream",
     "text": [
      "{'method': 'gillespies', 'g_steps': 2, 'tau_steps': 0, 'use_corrector': True, 'corrector': 'birthdeath', 'c_stepsize': 0.1, 'c_steps': 2, 'nfe': 84.0, 'time_mean': 0.0008131000874777458, 'time_var': 0.0004222243381863742, 'time_skew': 0.02188110168741218, 'time_kurt': 0.20333566559834299, 'freq_mean': 0.0008130991230716966, 'freq_var': 0.0021332208768858243, 'freq_skew': 0.3789608376923685, 'freq_kurt': 4.530034574344657}\n"
     ]
    },
    {
     "name": "stderr",
     "output_type": "stream",
     "text": [
      "100%|██████████| 60/60 [00:06<00:00,  9.09it/s]\n"
     ]
    },
    {
     "name": "stdout",
     "output_type": "stream",
     "text": [
      "{'method': 'gillespies', 'g_steps': 2, 'tau_steps': 0, 'use_corrector': True, 'corrector': 'birthdeath', 'c_stepsize': 0.1, 'c_steps': 2, 'nfe': 84.0, 'time_mean': 0.0015916042634422755, 'time_var': 6.44895824570623e-05, 'time_skew': 0.02469001620958106, 'time_kurt': 0.27909335917586003, 'freq_mean': 0.0015916038357138378, 'freq_var': 0.0025197847609773724, 'freq_skew': 0.4703429396716871, 'freq_kurt': 5.629619091304995}\n"
     ]
    },
    {
     "name": "stderr",
     "output_type": "stream",
     "text": [
      "100%|██████████| 60/60 [00:06<00:00,  9.10it/s]\n"
     ]
    },
    {
     "name": "stdout",
     "output_type": "stream",
     "text": [
      "{'method': 'gillespies', 'g_steps': 2, 'tau_steps': 0, 'use_corrector': True, 'corrector': 'birthdeath', 'c_stepsize': 0.1, 'c_steps': 2, 'nfe': 84.0, 'time_mean': 0.0004803113022453874, 'time_var': 0.0001950115348882028, 'time_skew': 0.02414271045170602, 'time_kurt': 0.5518991911683586, 'freq_mean': 0.0004803104716904664, 'freq_var': 0.0020854346526114286, 'freq_skew': 0.5729809324748942, 'freq_kurt': 4.694401845890635}\n"
     ]
    },
    {
     "name": "stderr",
     "output_type": "stream",
     "text": [
      "100%|██████████| 60/60 [00:06<00:00,  9.09it/s]\n"
     ]
    },
    {
     "name": "stdout",
     "output_type": "stream",
     "text": [
      "{'method': 'gillespies', 'g_steps': 2, 'tau_steps': 0, 'use_corrector': True, 'corrector': 'birthdeath', 'c_stepsize': 0.1, 'c_steps': 2, 'nfe': 84.0, 'time_mean': 0.0015367642363850803, 'time_var': 0.00015116670814819083, 'time_skew': 0.03329213319520227, 'time_kurt': 0.30038977281406976, 'freq_mean': 0.0015367642392883683, 'freq_var': 0.0017876849047447668, 'freq_skew': 0.43796077326072713, 'freq_kurt': 4.903431394817946}\n"
     ]
    },
    {
     "name": "stderr",
     "output_type": "stream",
     "text": [
      "100%|██████████| 60/60 [00:06<00:00,  9.09it/s]\n"
     ]
    },
    {
     "name": "stdout",
     "output_type": "stream",
     "text": [
      "{'method': 'gillespies', 'g_steps': 2, 'tau_steps': 0, 'use_corrector': True, 'corrector': 'birthdeath', 'c_stepsize': 0.1, 'c_steps': 2, 'nfe': 84.0, 'time_mean': 0.00046080362524812484, 'time_var': 0.00011562273564837494, 'time_skew': 0.02479336418182383, 'time_kurt': 0.17206586734556015, 'freq_mean': 0.00046080315534854373, 'freq_var': 0.001533471996325487, 'freq_skew': 0.5509982311442119, 'freq_kurt': 5.121937589824271}\n"
     ]
    },
    {
     "name": "stderr",
     "output_type": "stream",
     "text": [
      "100%|██████████| 60/60 [00:06<00:00,  9.10it/s]\n"
     ]
    },
    {
     "name": "stdout",
     "output_type": "stream",
     "text": [
      "{'method': 'gillespies', 'g_steps': 2, 'tau_steps': 0, 'use_corrector': True, 'corrector': 'birthdeath', 'c_stepsize': 0.1, 'c_steps': 2, 'nfe': 84.0, 'time_mean': 0.001285073766078533, 'time_var': 0.00018715719051858113, 'time_skew': 0.037748119871662156, 'time_kurt': 0.1606134651320234, 'freq_mean': 0.0012850732856098533, 'freq_var': 0.0015905881714914853, 'freq_skew': 0.5167087557481027, 'freq_kurt': 4.1489541231467175}\n"
     ]
    },
    {
     "name": "stderr",
     "output_type": "stream",
     "text": [
      "100%|██████████| 60/60 [00:06<00:00,  9.10it/s]\n"
     ]
    },
    {
     "name": "stdout",
     "output_type": "stream",
     "text": [
      "{'method': 'gillespies', 'g_steps': 2, 'tau_steps': 0, 'use_corrector': True, 'corrector': 'birthdeath', 'c_stepsize': 0.1, 'c_steps': 2, 'nfe': 84.0, 'time_mean': 0.0008365275345364281, 'time_var': 0.0002189442255025724, 'time_skew': 0.029785387045120355, 'time_kurt': 0.2500693389537348, 'freq_mean': 0.0008365271544260399, 'freq_var': 0.002295483866500349, 'freq_skew': 0.5031349369004798, 'freq_kurt': 4.808649554477839}\n"
     ]
    },
    {
     "name": "stderr",
     "output_type": "stream",
     "text": [
      "100%|██████████| 60/60 [00:06<00:00,  9.09it/s]\n"
     ]
    },
    {
     "name": "stdout",
     "output_type": "stream",
     "text": [
      "{'method': 'gillespies', 'g_steps': 2, 'tau_steps': 0, 'use_corrector': True, 'corrector': 'birthdeath', 'c_stepsize': 0.1, 'c_steps': 2, 'nfe': 84.0, 'time_mean': 0.0016994539434602635, 'time_var': 0.00011885942045836975, 'time_skew': 0.028371562170655663, 'time_kurt': 0.1714090443235426, 'freq_mean': 0.001699453505661509, 'freq_var': 0.0026595519644940203, 'freq_skew': 0.5554973604518951, 'freq_kurt': 4.800405058652786}\n"
     ]
    },
    {
     "name": "stderr",
     "output_type": "stream",
     "text": [
      "100%|██████████| 60/60 [00:06<00:00,  9.07it/s]\n"
     ]
    },
    {
     "name": "stdout",
     "output_type": "stream",
     "text": [
      "{'method': 'gillespies', 'g_steps': 2, 'tau_steps': 0, 'use_corrector': True, 'corrector': 'birthdeath', 'c_stepsize': 0.1, 'c_steps': 2, 'nfe': 84.0, 'time_mean': 0.0013617821808602842, 'time_var': 0.00023405055913179755, 'time_skew': 0.030455200054310842, 'time_kurt': 0.21932746308102605, 'freq_mean': 0.001361781345849243, 'freq_var': 0.002327204103244143, 'freq_skew': 0.45326800160489206, 'freq_kurt': 3.9884556905719433}\n"
     ]
    },
    {
     "name": "stderr",
     "output_type": "stream",
     "text": [
      "100%|██████████| 60/60 [00:06<00:00,  9.08it/s]\n"
     ]
    },
    {
     "name": "stdout",
     "output_type": "stream",
     "text": [
      "{'method': 'gillespies', 'g_steps': 2, 'tau_steps': 0, 'use_corrector': True, 'corrector': 'birthdeath', 'c_stepsize': 0.1, 'c_steps': 2, 'nfe': 84.0, 'time_mean': 0.0007230333786855462, 'time_var': 6.11683117969132e-05, 'time_skew': 0.036284325453378945, 'time_kurt': 0.4380420272616019, 'freq_mean': 0.0007230327811933209, 'freq_var': 0.0020287031014960405, 'freq_skew': 0.4911996709679618, 'freq_kurt': 5.21802996798617}\n",
      "Experiment results saved to  gene_results.csv\n"
     ]
    },
    {
     "name": "stderr",
     "output_type": "stream",
     "text": [
      "100%|██████████| 60/60 [00:06<00:00,  8.67it/s]\n"
     ]
    },
    {
     "name": "stdout",
     "output_type": "stream",
     "text": [
      "{'method': 'gillespies', 'g_steps': 1, 'tau_steps': 0, 'use_corrector': True, 'corrector': 'birthdeath', 'c_stepsize': 0.1, 'c_steps': 2, 'nfe': 168.0, 'time_mean': 0.0014878970966981718, 'time_var': 0.0002138402931959081, 'time_skew': 0.030051550737464815, 'time_kurt': 0.2563855621749386, 'freq_mean': 0.0014878965357704398, 'freq_var': 0.0026654345080282943, 'freq_skew': 0.5024381323140488, 'freq_kurt': 4.673286758752156}\n"
     ]
    },
    {
     "name": "stderr",
     "output_type": "stream",
     "text": [
      "100%|██████████| 60/60 [00:06<00:00,  8.95it/s]\n"
     ]
    },
    {
     "name": "stdout",
     "output_type": "stream",
     "text": [
      "{'method': 'gillespies', 'g_steps': 1, 'tau_steps': 0, 'use_corrector': True, 'corrector': 'birthdeath', 'c_stepsize': 0.1, 'c_steps': 2, 'nfe': 168.0, 'time_mean': 0.0012651476190009105, 'time_var': 0.0002281507019803516, 'time_skew': 0.027804290523013506, 'time_kurt': 0.21570241960662068, 'freq_mean': 0.0012651471517813883, 'freq_var': 0.0027071223521252788, 'freq_skew': 0.4465726737704151, 'freq_kurt': 5.358254680259071}\n"
     ]
    },
    {
     "name": "stderr",
     "output_type": "stream",
     "text": [
      "100%|██████████| 60/60 [00:06<00:00,  9.10it/s]\n"
     ]
    },
    {
     "name": "stdout",
     "output_type": "stream",
     "text": [
      "{'method': 'gillespies', 'g_steps': 1, 'tau_steps': 0, 'use_corrector': True, 'corrector': 'birthdeath', 'c_stepsize': 0.1, 'c_steps': 2, 'nfe': 168.0, 'time_mean': 0.0015052752857187374, 'time_var': 0.00014860692189246197, 'time_skew': 0.03995951700084837, 'time_kurt': 0.24651584184827954, 'freq_mean': 0.0015052740630100132, 'freq_var': 0.0021006307572819364, 'freq_skew': 0.45584846774848803, 'freq_kurt': 4.337727644186496}\n"
     ]
    },
    {
     "name": "stderr",
     "output_type": "stream",
     "text": [
      "100%|██████████| 60/60 [00:06<00:00,  9.09it/s]\n"
     ]
    },
    {
     "name": "stdout",
     "output_type": "stream",
     "text": [
      "{'method': 'gillespies', 'g_steps': 1, 'tau_steps': 0, 'use_corrector': True, 'corrector': 'birthdeath', 'c_stepsize': 0.1, 'c_steps': 2, 'nfe': 168.0, 'time_mean': 0.0012005247085903178, 'time_var': 0.0003910067279223085, 'time_skew': 0.03889355689872968, 'time_kurt': 0.2518851168194215, 'freq_mean': 0.0012005247160458742, 'freq_var': 0.002207366112054535, 'freq_skew': 0.5136779776225698, 'freq_kurt': 5.041718117285721}\n"
     ]
    },
    {
     "name": "stderr",
     "output_type": "stream",
     "text": [
      "100%|██████████| 60/60 [00:06<00:00,  9.10it/s]\n"
     ]
    },
    {
     "name": "stdout",
     "output_type": "stream",
     "text": [
      "{'method': 'gillespies', 'g_steps': 1, 'tau_steps': 0, 'use_corrector': True, 'corrector': 'birthdeath', 'c_stepsize': 0.1, 'c_steps': 2, 'nfe': 168.0, 'time_mean': 0.0016372448870892577, 'time_var': 0.00028118199159650497, 'time_skew': 0.037319385219581676, 'time_kurt': 0.30707270004535253, 'freq_mean': 0.0016372434745243899, 'freq_var': 0.0036391310181033173, 'freq_skew': 0.36454776948256323, 'freq_kurt': 2.756543941187263}\n"
     ]
    },
    {
     "name": "stderr",
     "output_type": "stream",
     "text": [
      "100%|██████████| 60/60 [00:06<00:00,  9.10it/s]\n"
     ]
    },
    {
     "name": "stdout",
     "output_type": "stream",
     "text": [
      "{'method': 'gillespies', 'g_steps': 1, 'tau_steps': 0, 'use_corrector': True, 'corrector': 'birthdeath', 'c_stepsize': 0.1, 'c_steps': 2, 'nfe': 168.0, 'time_mean': 0.0011321575490752826, 'time_var': 0.0002505127786830488, 'time_skew': 0.03019954586279216, 'time_kurt': 0.13272813106759876, 'freq_mean': 0.0011321579520896018, 'freq_var': 0.002443768722845857, 'freq_skew': 0.5994207728272509, 'freq_kurt': 5.18289605807472}\n"
     ]
    },
    {
     "name": "stderr",
     "output_type": "stream",
     "text": [
      "100%|██████████| 60/60 [00:06<00:00,  9.10it/s]\n"
     ]
    },
    {
     "name": "stdout",
     "output_type": "stream",
     "text": [
      "{'method': 'gillespies', 'g_steps': 1, 'tau_steps': 0, 'use_corrector': True, 'corrector': 'birthdeath', 'c_stepsize': 0.1, 'c_steps': 2, 'nfe': 168.0, 'time_mean': 0.0007212454601502453, 'time_var': 0.0002959390142865811, 'time_skew': 0.02089009172857351, 'time_kurt': 0.18936060847642072, 'freq_mean': 0.000721245277552308, 'freq_var': 0.0031447196356147325, 'freq_skew': 0.5199901448747554, 'freq_kurt': 5.123326299093631}\n"
     ]
    },
    {
     "name": "stderr",
     "output_type": "stream",
     "text": [
      "100%|██████████| 60/60 [00:06<00:00,  9.10it/s]\n"
     ]
    },
    {
     "name": "stdout",
     "output_type": "stream",
     "text": [
      "{'method': 'gillespies', 'g_steps': 1, 'tau_steps': 0, 'use_corrector': True, 'corrector': 'birthdeath', 'c_stepsize': 0.1, 'c_steps': 2, 'nfe': 168.0, 'time_mean': 0.0010197420489550034, 'time_var': 0.00012556127017224428, 'time_skew': 0.030096293816305606, 'time_kurt': 0.2426599444943881, 'freq_mean': 0.0010197416035033504, 'freq_var': 0.002256490174799389, 'freq_skew': 0.568405052838831, 'freq_kurt': 4.629810691795597}\n"
     ]
    },
    {
     "name": "stderr",
     "output_type": "stream",
     "text": [
      "100%|██████████| 60/60 [00:06<00:00,  9.08it/s]\n"
     ]
    },
    {
     "name": "stdout",
     "output_type": "stream",
     "text": [
      "{'method': 'gillespies', 'g_steps': 1, 'tau_steps': 0, 'use_corrector': True, 'corrector': 'birthdeath', 'c_stepsize': 0.1, 'c_steps': 2, 'nfe': 168.0, 'time_mean': 0.0011092651231049877, 'time_var': 0.00014734156320710487, 'time_skew': 0.02580370811763685, 'time_kurt': 0.14062544756344073, 'freq_mean': 0.0011092649806286367, 'freq_var': 0.0019932420170277634, 'freq_skew': 0.5234493749433768, 'freq_kurt': 6.531295658112468}\n"
     ]
    },
    {
     "name": "stderr",
     "output_type": "stream",
     "text": [
      "100%|██████████| 60/60 [00:06<00:00,  9.10it/s]\n"
     ]
    },
    {
     "name": "stdout",
     "output_type": "stream",
     "text": [
      "{'method': 'gillespies', 'g_steps': 1, 'tau_steps': 0, 'use_corrector': True, 'corrector': 'birthdeath', 'c_stepsize': 0.1, 'c_steps': 2, 'nfe': 168.0, 'time_mean': 0.0013871782056945941, 'time_var': 0.0002025478045296366, 'time_skew': 0.034131332941444346, 'time_kurt': 0.32623102864468595, 'freq_mean': 0.0013871782388751076, 'freq_var': 0.0028123864787994975, 'freq_skew': 0.5503882046778032, 'freq_kurt': 4.951692558342742}\n"
     ]
    },
    {
     "name": "stderr",
     "output_type": "stream",
     "text": [
      "100%|██████████| 60/60 [00:06<00:00,  9.09it/s]\n"
     ]
    },
    {
     "name": "stdout",
     "output_type": "stream",
     "text": [
      "{'method': 'gillespies', 'g_steps': 1, 'tau_steps': 0, 'use_corrector': True, 'corrector': 'birthdeath', 'c_stepsize': 0.1, 'c_steps': 2, 'nfe': 168.0, 'time_mean': 0.0015682046946927047, 'time_var': 0.0002158636931865983, 'time_skew': 0.043420129207282075, 'time_kurt': 0.24033234884109417, 'freq_mean': 0.0015682043695771557, 'freq_var': 0.002104030010424601, 'freq_skew': 0.5426821302230497, 'freq_kurt': 6.101816890940226}\n"
     ]
    },
    {
     "name": "stderr",
     "output_type": "stream",
     "text": [
      "100%|██████████| 60/60 [00:06<00:00,  9.10it/s]\n"
     ]
    },
    {
     "name": "stdout",
     "output_type": "stream",
     "text": [
      "{'method': 'gillespies', 'g_steps': 1, 'tau_steps': 0, 'use_corrector': True, 'corrector': 'birthdeath', 'c_stepsize': 0.1, 'c_steps': 2, 'nfe': 168.0, 'time_mean': 0.00111064987676077, 'time_var': 0.00016119486539322917, 'time_skew': 0.03288587013770238, 'time_kurt': 0.380836149674602, 'freq_mean': 0.0011106495881639958, 'freq_var': 0.0030006266156107006, 'freq_skew': 0.3444310248877714, 'freq_kurt': 2.756966291110474}\n"
     ]
    },
    {
     "name": "stderr",
     "output_type": "stream",
     "text": [
      "100%|██████████| 60/60 [00:06<00:00,  9.09it/s]\n"
     ]
    },
    {
     "name": "stdout",
     "output_type": "stream",
     "text": [
      "{'method': 'gillespies', 'g_steps': 1, 'tau_steps': 0, 'use_corrector': True, 'corrector': 'birthdeath', 'c_stepsize': 0.1, 'c_steps': 2, 'nfe': 168.0, 'time_mean': 0.002337098200509943, 'time_var': 0.0002188431493484406, 'time_skew': 0.03371466405336006, 'time_kurt': 0.3161193414716776, 'freq_mean': 0.002337097401682379, 'freq_var': 0.002601248414173082, 'freq_skew': 0.4357451164674557, 'freq_kurt': 4.706875896385976}\n"
     ]
    },
    {
     "name": "stderr",
     "output_type": "stream",
     "text": [
      "100%|██████████| 60/60 [00:06<00:00,  9.10it/s]\n"
     ]
    },
    {
     "name": "stdout",
     "output_type": "stream",
     "text": [
      "{'method': 'gillespies', 'g_steps': 1, 'tau_steps': 0, 'use_corrector': True, 'corrector': 'birthdeath', 'c_stepsize': 0.1, 'c_steps': 2, 'nfe': 168.0, 'time_mean': 0.0006255037839101044, 'time_var': 0.00017187941184691326, 'time_skew': 0.021427448029989162, 'time_kurt': 0.1604024554663635, 'freq_mean': 0.0006255029758007492, 'freq_var': 0.003124495396827418, 'freq_skew': 0.45638779306286387, 'freq_kurt': 5.27210794997912}\n"
     ]
    },
    {
     "name": "stderr",
     "output_type": "stream",
     "text": [
      "100%|██████████| 60/60 [00:06<00:00,  9.10it/s]\n"
     ]
    },
    {
     "name": "stdout",
     "output_type": "stream",
     "text": [
      "{'method': 'gillespies', 'g_steps': 1, 'tau_steps': 0, 'use_corrector': True, 'corrector': 'birthdeath', 'c_stepsize': 0.1, 'c_steps': 2, 'nfe': 168.0, 'time_mean': 0.000989552020987295, 'time_var': 0.0003468575912111356, 'time_skew': 0.032190803605346305, 'time_kurt': 0.2258604858239831, 'freq_mean': 0.0009895512547206935, 'freq_var': 0.0029583006364219933, 'freq_skew': 0.5855510534075471, 'freq_kurt': 4.7035203553707845}\n"
     ]
    },
    {
     "name": "stderr",
     "output_type": "stream",
     "text": [
      "100%|██████████| 60/60 [00:06<00:00,  9.10it/s]\n"
     ]
    },
    {
     "name": "stdout",
     "output_type": "stream",
     "text": [
      "{'method': 'gillespies', 'g_steps': 1, 'tau_steps': 0, 'use_corrector': True, 'corrector': 'birthdeath', 'c_stepsize': 0.1, 'c_steps': 2, 'nfe': 168.0, 'time_mean': 0.0009643140798413429, 'time_var': 0.00011041381013377442, 'time_skew': 0.017632263764246203, 'time_kurt': 0.16742972920070892, 'freq_mean': 0.000964313759871288, 'freq_var': 0.002708651270321543, 'freq_skew': 0.48374494488838143, 'freq_kurt': 5.60752546174111}\n"
     ]
    },
    {
     "name": "stderr",
     "output_type": "stream",
     "text": [
      "100%|██████████| 60/60 [00:06<00:00,  9.06it/s]\n"
     ]
    },
    {
     "name": "stdout",
     "output_type": "stream",
     "text": [
      "{'method': 'gillespies', 'g_steps': 1, 'tau_steps': 0, 'use_corrector': True, 'corrector': 'birthdeath', 'c_stepsize': 0.1, 'c_steps': 2, 'nfe': 168.0, 'time_mean': 0.0008454279550362213, 'time_var': 0.00019774241287662315, 'time_skew': 0.029890305494832556, 'time_kurt': 0.3085574935292498, 'freq_mean': 0.000845427505750506, 'freq_var': 0.003288463071085366, 'freq_skew': 0.5428603732415552, 'freq_kurt': 3.408139434932758}\n"
     ]
    },
    {
     "name": "stderr",
     "output_type": "stream",
     "text": [
      "100%|██████████| 60/60 [00:06<00:00,  9.09it/s]\n"
     ]
    },
    {
     "name": "stdout",
     "output_type": "stream",
     "text": [
      "{'method': 'gillespies', 'g_steps': 1, 'tau_steps': 0, 'use_corrector': True, 'corrector': 'birthdeath', 'c_stepsize': 0.1, 'c_steps': 2, 'nfe': 168.0, 'time_mean': 0.0017070810382580075, 'time_var': 0.0004676773887696341, 'time_skew': 0.049819765184278456, 'time_kurt': 0.33598621690011615, 'freq_mean': 0.0017070803982971122, 'freq_var': 0.004450299991383365, 'freq_skew': 0.6274016255778111, 'freq_kurt': 5.500371621048389}\n"
     ]
    },
    {
     "name": "stderr",
     "output_type": "stream",
     "text": [
      "100%|██████████| 60/60 [00:06<00:00,  8.86it/s]\n"
     ]
    },
    {
     "name": "stdout",
     "output_type": "stream",
     "text": [
      "{'method': 'gillespies', 'g_steps': 1, 'tau_steps': 0, 'use_corrector': True, 'corrector': 'birthdeath', 'c_stepsize': 0.1, 'c_steps': 2, 'nfe': 168.0, 'time_mean': 0.0009765296342553823, 'time_var': 0.00036106526696234393, 'time_skew': 0.029477624724209908, 'time_kurt': 0.1882193971792337, 'freq_mean': 0.0009765297618103871, 'freq_var': 0.0029105925447813477, 'freq_skew': 0.4696419420891681, 'freq_kurt': 4.4861022819258185}\n"
     ]
    },
    {
     "name": "stderr",
     "output_type": "stream",
     "text": [
      "100%|██████████| 60/60 [00:06<00:00,  9.10it/s]"
     ]
    },
    {
     "name": "stdout",
     "output_type": "stream",
     "text": [
      "{'method': 'gillespies', 'g_steps': 1, 'tau_steps': 0, 'use_corrector': True, 'corrector': 'birthdeath', 'c_stepsize': 0.1, 'c_steps': 2, 'nfe': 168.0, 'time_mean': 0.0012482264021589772, 'time_var': 0.0001668604152618891, 'time_skew': 0.030627325814674845, 'time_kurt': 0.1894970795362538, 'freq_mean': 0.0012482259847038516, 'freq_var': 0.0012384891904299547, 'freq_skew': 0.40527461180609053, 'freq_kurt': 3.470890517211541}\n",
      "Experiment results saved to  gene_results.csv\n"
     ]
    },
    {
     "name": "stderr",
     "output_type": "stream",
     "text": [
      "\n"
     ]
    }
   ],
   "source": [
    "# 2 corrector steps\n",
    "c_steps = 2\n",
    "for method in methods:\n",
    "    for i in range(len(correctors)):\n",
    "        \n",
    "        corrector = correctors[i]\n",
    "        c_stepsize = corrector_stepsizes[i]\n",
    "        \n",
    "        for j in range(len(updates_per_evals)):\n",
    "        \n",
    "            g_steps = updates_per_evals[j]\n",
    "            tau_steps = num_sample_steps[j]\n",
    "            \n",
    "            run_experiments(num_repeats=num_repeats, \n",
    "                            sample_size=sample_size, \n",
    "                            results_file=results_file,\n",
    "                            method=method, \n",
    "                            g_steps=g_steps, \n",
    "                            tau_steps=tau_steps, \n",
    "                            c_steps=c_steps, \n",
    "                            c_stepsize=c_stepsize, \n",
    "                            corrector=corrector)"
   ]
  }
 ],
 "metadata": {
  "kernelspec": {
   "display_name": "Python 3",
   "language": "python",
   "name": "python3"
  },
  "language_info": {
   "codemirror_mode": {
    "name": "ipython",
    "version": 3
   },
   "file_extension": ".py",
   "mimetype": "text/x-python",
   "name": "python",
   "nbconvert_exporter": "python",
   "pygments_lexer": "ipython3",
   "version": "3.9.0"
  }
 },
 "nbformat": 4,
 "nbformat_minor": 5
}
