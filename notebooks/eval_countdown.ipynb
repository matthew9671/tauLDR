{
 "cells": [
  {
   "cell_type": "code",
   "execution_count": 1,
   "id": "5eb1a8d8",
   "metadata": {},
   "outputs": [],
   "source": [
    "from importlib import reload\n",
    "import sys\n",
    "sys.path.insert(0, '../')\n",
    "\n",
    "# sys.path.remove(\"/home/users/yixiuz/.local/lib/python3.9/site-packages\")\n",
    "sys.path.append(\"/home/groups/swl1/yixiuz/torch_fid/lib/python3.9/site-packages\")\n",
    "sys.path.append(\"/home/groups/swl1/yixiuz/torch_fid/bin\")"
   ]
  },
  {
   "cell_type": "code",
   "execution_count": 2,
   "id": "d5014de8",
   "metadata": {},
   "outputs": [],
   "source": [
    "# reload(sampling)"
   ]
  },
  {
   "cell_type": "code",
   "execution_count": 3,
   "id": "58ac4200",
   "metadata": {},
   "outputs": [],
   "source": [
    "import matplotlib\n",
    "import torch\n",
    "import torch.nn as nn\n",
    "import torch.nn.functional as F\n",
    "import ml_collections\n",
    "\n",
    "# Choose the config file to load depending on the experiment\n",
    "import config.eval.countdown as eval_config\n",
    "# import config.eval.genes_base as eval_config\n",
    "# import config.eval.genes_hollow as eval_config\n",
    "# import config.eval.aemet_hollow as eval_config\n",
    "\n",
    "import lib.utils.bookkeeping as bookkeeping\n",
    "from pathlib import Path\n",
    "import numpy as np\n",
    "import matplotlib.pyplot as plt\n",
    "\n",
    "import lib.utils.utils as utils\n",
    "import lib.models.models as models\n",
    "import lib.models.model_utils as model_utils\n",
    "import lib.datasets.datasets as datasets\n",
    "import lib.datasets.dataset_utils as dataset_utils\n",
    "import lib.sampling.sampling as sampling\n",
    "import lib.sampling.sampling_utils as sampling_utils\n",
    "\n",
    "%matplotlib inline\n",
    "\n",
    "eval_cfg = eval_config.get_config()\n",
    "train_cfg = bookkeeping.load_ml_collections(Path(eval_cfg.train_config_path))\n",
    "\n",
    "for item in eval_cfg.train_config_overrides:\n",
    "    utils.set_in_nested_dict(train_cfg, item[0], item[1])\n",
    "\n",
    "S = train_cfg.data.S\n",
    "\n",
    "device = torch.device(eval_cfg.device)\n",
    "# device = torch.device('cpu')\n",
    "\n",
    "model = model_utils.create_model(train_cfg, device)\n",
    "\n",
    "loaded_state = torch.load(Path(eval_cfg.checkpoint_path),\n",
    "    map_location=device)\n",
    "\n",
    "modified_model_state = utils.remove_module_from_keys(loaded_state['model'])\n",
    "model.load_state_dict(modified_model_state)\n",
    "\n",
    "model.eval()\n",
    "\n",
    "dataset = dataset_utils.get_dataset(eval_cfg, device)\n",
    "data = dataset.data"
   ]
  },
  {
   "cell_type": "code",
   "execution_count": 4,
   "id": "3182c601",
   "metadata": {},
   "outputs": [],
   "source": [
    "from eval import count_mistakes, get_dist, hellinger, eval_mse_stats\n",
    "from tqdm import tqdm"
   ]
  },
  {
   "cell_type": "code",
   "execution_count": 83,
   "id": "917ee4d4",
   "metadata": {},
   "outputs": [],
   "source": [
    "def take_euler_step(in_x, rates, h):\n",
    "    N, D = in_x.shape\n",
    "    \n",
    "    rates *= h\n",
    "    \n",
    "    # Sum of the rates for each row\n",
    "    sum_rates = torch.sum(rates, dim=-1)\n",
    "    \n",
    "    # Transition logit: log(1 - exp(-rates)) = log(-expm1(-rates))\n",
    "    transition_logit = torch.log(-torch.expm1(-rates))\n",
    "    \n",
    "    # Set the diagonal of transition_logit to -sum_rates\n",
    "    transition_logit[torch.arange(N, device=device).repeat_interleave(D),\n",
    "                     torch.arange(D, device=device).repeat(N),\n",
    "                     in_x.long().flatten()] = -sum_rates.flatten()\n",
    "    \n",
    "    # Use categorical sampling to select the next state\n",
    "    dist = torch.distributions.categorical.Categorical(logits=transition_logit)\n",
    "    out = dist.sample().long()\n",
    "    \n",
    "    return out"
   ]
  },
  {
   "cell_type": "code",
   "execution_count": 22,
   "id": "2ded18a0",
   "metadata": {},
   "outputs": [],
   "source": [
    "from lib.sampling.sampling import get_initial_samples, compute_backward"
   ]
  },
  {
   "cell_type": "code",
   "execution_count": 20,
   "id": "4ff67224",
   "metadata": {},
   "outputs": [],
   "source": [
    "@sampling_utils.register_sampler\n",
    "class PCEulerAbsorbingInformed():\n",
    "    def __init__(self, cfg):\n",
    "        self.cfg = cfg\n",
    "\n",
    "    def sample(self, model, N, num_intermediates):\n",
    "        t = 1.0\n",
    "\n",
    "        D = np.prod(self.cfg.data.shape)\n",
    "        S = self.cfg.data.S\n",
    "        scfg = self.cfg.sampler\n",
    "        num_steps = scfg.num_steps\n",
    "        min_t = scfg.min_t\n",
    "        eps_ratio = scfg.eps_ratio\n",
    "        num_corrector_steps = scfg.num_corrector_steps\n",
    "        corrector_step_size_multiplier = scfg.corrector_step_size_multiplier\n",
    "        corrector_entry_time = scfg.corrector_entry_time\n",
    "        \n",
    "        if scfg.balancing_function == \"barker\":\n",
    "            balancing_function = lambda score: score / (1 + score) \n",
    "        elif scfg.balancing_function == \"mpf\":\n",
    "            balancing_function = lambda score: torch.sqrt(score)\n",
    "        elif scfg.balancing_function == \"birthdeath\":\n",
    "            balancing_function = None\n",
    "        else:\n",
    "            print(\"Balancing function not found: \" + scfg.balancing_function)\n",
    "            return\n",
    "        \n",
    "        device = model.device\n",
    "\n",
    "        initial_dist = scfg.initial_dist\n",
    "        if initial_dist == 'gaussian':\n",
    "            initial_dist_std = model.Q_sigma\n",
    "        else:\n",
    "            initial_dist_std = None\n",
    "\n",
    "        with torch.no_grad():\n",
    "            x = get_initial_samples(N, D, device, S, initial_dist,\n",
    "                initial_dist_std)\n",
    "\n",
    "            h = 1.0 / num_steps # approximately \n",
    "            ts = np.linspace(1.0, min_t+h, num_steps)\n",
    "            save_ts = ts[np.linspace(0, len(ts)-2, num_intermediates, dtype=int)]\n",
    "\n",
    "            x_hist = []\n",
    "            x0_hist = []\n",
    "            c_rate_hist = []\n",
    "\n",
    "            for idx, t in tqdm(enumerate(ts[0:-1])):\n",
    "\n",
    "                h = ts[idx] - ts[idx+1]\n",
    "\n",
    "                def get_rates(in_x, in_t):\n",
    "                    qt0 = model.transition(in_t * torch.ones((N,), device=device)) # (N, S, S)\n",
    "                    rate = model.rate(in_t * torch.ones((N,), device=device)) # (N, S, S)\n",
    "\n",
    "                    p0t = F.softmax(model(in_x, in_t * torch.ones((N,), device=device)), dim=2) # (N, D, S)\n",
    "\n",
    "                    denom_x = torch.ones_like(in_x) * (S-1)\n",
    "\n",
    "                    forward_rates, transpose_forward_rates, reverse_rates, x_0max, scores = compute_backward(qt0, rate, p0t, in_x, denom_x=denom_x, eps=eps_ratio)\n",
    "                    \n",
    "                    mask_positions = in_x == (S-1)\n",
    "                    nonmask_positions = ~mask_positions\n",
    "\n",
    "                    backward_score_to_curr = scores[\n",
    "                        torch.arange(N, device=device).repeat_interleave(D),\n",
    "                        torch.arange(D, device=device).repeat(N),\n",
    "                        in_x.long().flatten()\n",
    "                    ].view(N,D)\n",
    "                    forward_score_from_curr = 1 / (backward_score_to_curr * nonmask_positions + mask_positions)\n",
    "                    forward_score_from_curr *= nonmask_positions\n",
    "\n",
    "                    scores = scores * mask_positions.unsqueeze(2)\n",
    "                    scores[:,:,S-1] = forward_score_from_curr\n",
    "                    \n",
    "                    forward_rates[\n",
    "                        torch.arange(N, device=device).repeat_interleave(D),\n",
    "                        torch.arange(D, device=device).repeat(N),\n",
    "                        in_x.long().flatten()\n",
    "                    ] = 0.0 \n",
    "                    reverse_rates[\n",
    "                        torch.arange(N, device=device).repeat_interleave(D),\n",
    "                        torch.arange(D, device=device).repeat(N),\n",
    "                        in_x.long().flatten()\n",
    "                    ] = 0.0 \n",
    "                    \n",
    "                    return forward_rates, transpose_forward_rates, reverse_rates, x_0max, scores\n",
    "\n",
    "                _, _, reverse_rates, x_0max, _ = get_rates(x, t)\n",
    "\n",
    "                if t in save_ts:\n",
    "                    x_hist.append(x.detach().cpu().numpy())\n",
    "                    x0_hist.append(x_0max.detach().cpu().numpy())\n",
    "\n",
    "                x = take_euler_step(x, reverse_rates, h)\n",
    "\n",
    "                if t <= corrector_entry_time:\n",
    "                    for cstep in range(num_corrector_steps):\n",
    "                        forward_rates, transpose_forward_rates, reverse_rates, _, scores = get_rates(x, t-h)\n",
    "                        if balancing_function is None:\n",
    "                            # We're using the default corrector\n",
    "                            # which corresponds to birth-death Stein operator\n",
    "                            corrector_rate = transpose_forward_rates + reverse_rates\n",
    "                        else:\n",
    "                            # We removed the one half here because it makes more sense for the absorbing\n",
    "                            corrector_rate = (transpose_forward_rates + forward_rates) * balancing_function(scores)\n",
    "                            \n",
    "                        corrector_rate[\n",
    "                            torch.arange(N, device=device).repeat_interleave(D),\n",
    "                            torch.arange(D, device=device).repeat(N),\n",
    "                            x.long().flatten()\n",
    "                        ] = 0.0\n",
    "\n",
    "                        if cstep == 0 and t in save_ts:\n",
    "                            c_rate_hist.append(corrector_rate.detach().cpu().numpy())\n",
    "\n",
    "                        x = take_euler_step(x, corrector_rate, \n",
    "                            corrector_step_size_multiplier * h)\n",
    "                elif t in save_ts:\n",
    "                    c_rate_hist.append(np.zeros((N, D, S)))\n",
    "\n",
    "            x_hist = np.array(x_hist).astype(int)\n",
    "            x0_hist = np.array(x0_hist).astype(int)\n",
    "            c_rate_hist = np.array(c_rate_hist)\n",
    "\n",
    "            p_0gt = F.softmax(model(x, min_t * torch.ones((N,), device=device)), dim=2) # (N, D, S)\n",
    "            x_0max = torch.max(p_0gt, dim=2)[1]\n",
    "\n",
    "            mask_positions = x == (S-1)\n",
    "            nonmask_positions = ~mask_positions\n",
    "            samples = nonmask_positions * x + mask_positions * x_0max\n",
    "            \n",
    "            hist = {\n",
    "                \"x\": x_hist,\n",
    "                \"x0\": x0_hist,\n",
    "                \"rc\": c_rate_hist\n",
    "            }\n",
    "            \n",
    "            return samples.detach().cpu().numpy().astype(int), hist\n"
   ]
  },
  {
   "cell_type": "code",
   "execution_count": 79,
   "id": "6c3668ea",
   "metadata": {},
   "outputs": [],
   "source": [
    "@sampling_utils.register_sampler\n",
    "class PCKGillespies():\n",
    "    def __init__(self, cfg):\n",
    "        self.cfg =cfg\n",
    "\n",
    "    def sample(self, model, N, num_intermediates=0):\n",
    "        t = 1.0\n",
    "        D = np.prod(self.cfg.data.shape)\n",
    "        S = self.cfg.data.S\n",
    "        scfg = self.cfg.sampler\n",
    "        min_t = scfg.min_t\n",
    "        eps_ratio = scfg.eps_ratio\n",
    "        initial_dist = scfg.initial_dist\n",
    "        \n",
    "        num_corrector_steps = scfg.num_corrector_steps\n",
    "        corrector_step_size_multiplier = scfg.corrector_step_size_multiplier\n",
    "        corrector_entry_time = scfg.corrector_entry_time\n",
    "        \n",
    "        updates_per_eval = scfg.updates_per_eval\n",
    "\n",
    "        if scfg.balancing_function == \"barker\":\n",
    "            balancing_function = lambda score: score / (1 + score) \n",
    "        elif scfg.balancing_function == \"mpf\":\n",
    "            balancing_function = lambda score: torch.sqrt(score)\n",
    "        elif scfg.balancing_function == \"birthdeath\":\n",
    "            balancing_function = None\n",
    "        else:\n",
    "            print(\"Balancing function not found: \" + scfg.balancing_function)\n",
    "            return\n",
    "        \n",
    "        if initial_dist == 'gaussian':\n",
    "            initial_dist_std  = model.Q_sigma\n",
    "        else:\n",
    "            initial_dist_std = None\n",
    "        device = model.device\n",
    "\n",
    "        # Now the batch is not syncronized anymore\n",
    "        ts = t * torch.ones((N,), device=device)\n",
    "        update_mask = ts > min_t\n",
    "        num_updates = 0\n",
    "        \n",
    "        with torch.no_grad():\n",
    "            x = get_initial_samples(N, D, device, S, initial_dist,\n",
    "                initial_dist_std)\n",
    "            \n",
    "            pbar = tqdm(total=D)\n",
    "            while num_updates < D:\n",
    "\n",
    "                # Compute backward transition rate\n",
    "                qt0 = model.transition(ts) # (N, S, S)\n",
    "                rate = model.rate(ts) # (N, S, S)\n",
    "\n",
    "                p0t = F.softmax(model(x, ts), dim=2) # (N, D, S)\n",
    "\n",
    "                Rf, RfT, Rb, x_0max, scores = compute_backward(qt0, rate, p0t, x)\n",
    "                # Rb: (N, D, S)\n",
    "                Rb[torch.arange(N, device=device).repeat_interleave(D),\n",
    "                   torch.arange(D, device=device).repeat(N),\n",
    "                   x.long().flatten()] = eps_ratio\n",
    "            \n",
    "                # Compute total rate (N, D)\n",
    "                Rb_sum = torch.sum(Rb, axis=2)\n",
    "                # Sample a holding time (N, D)\n",
    "                taus = torch.distributions.Exponential(Rb_sum).sample()\n",
    "                # Find the position of the shortest holding time for each dimension (N,)\n",
    "                ids_sorted = torch.argsort(taus, axis=1)\n",
    "                dts = torch.zeros((N,), device=device)\n",
    "                \n",
    "                for update in range(updates_per_eval):\n",
    "                    # Make one round of updates\n",
    "                    ids = ids_sorted[:, update]\n",
    "                    # (N,)\n",
    "                    dts = taus[torch.arange(N, device=device), ids] - dts\n",
    "\n",
    "                    # Rates given the dimensions of transition (N, S)\n",
    "                    rates_single = Rb[torch.arange(N, device=device),ids]\n",
    "                    # Total rate given the dimensions of transition (N, 1)\n",
    "                    rates_sum_single = torch.unsqueeze(Rb_sum[torch.arange(N, device=device),ids], 1)\n",
    "                    # The targets of transition (N,)\n",
    "                    updates = torch.multinomial(rates_single / rates_sum_single, 1)[:,0]\n",
    "                    # Update ts\n",
    "                    update_mask = update_mask & ((ts - dts * update_mask) > min_t)\n",
    "                    ts -= dts * update_mask\n",
    "                    # Update x\n",
    "                    original = x[torch.arange(N, device=device), ids]\n",
    "                    x[torch.arange(N, device=device), ids] = updates * update_mask + original * (~update_mask)\n",
    "                    num_updates += 1\n",
    "                    pbar.update(1)\n",
    "                    \n",
    "                def get_rates(in_x, in_t):\n",
    "                    qt0 = model.transition(in_t) # (N, S, S)\n",
    "                    rate = model.rate(in_t) # (N, S, S)\n",
    "\n",
    "                    p0t = F.softmax(model(in_x, in_t), dim=2) # (N, D, S)\n",
    "\n",
    "                    denom_x = torch.ones_like(in_x) * (S-1)\n",
    "\n",
    "                    forward_rates, transpose_forward_rates, reverse_rates, x_0max, scores = compute_backward(qt0, rate, p0t, in_x, denom_x=denom_x, eps=eps_ratio)\n",
    "                    \n",
    "                    mask_positions = in_x == (S-1)\n",
    "                    nonmask_positions = ~mask_positions\n",
    "\n",
    "                    backward_score_to_curr = scores[\n",
    "                        torch.arange(N, device=device).repeat_interleave(D),\n",
    "                        torch.arange(D, device=device).repeat(N),\n",
    "                        in_x.long().flatten()\n",
    "                    ].view(N,D)\n",
    "                    forward_score_from_curr = 1 / (backward_score_to_curr * nonmask_positions + mask_positions)\n",
    "                    forward_score_from_curr *= nonmask_positions\n",
    "\n",
    "                    scores = scores * mask_positions.unsqueeze(2)\n",
    "                    scores[:,:,S-1] = forward_score_from_curr\n",
    "                    \n",
    "                    forward_rates[\n",
    "                        torch.arange(N, device=device).repeat_interleave(D),\n",
    "                        torch.arange(D, device=device).repeat(N),\n",
    "                        in_x.long().flatten()\n",
    "                    ] = 0.0 \n",
    "                    reverse_rates[\n",
    "                        torch.arange(N, device=device).repeat_interleave(D),\n",
    "                        torch.arange(D, device=device).repeat(N),\n",
    "                        in_x.long().flatten()\n",
    "                    ] = 0.0 \n",
    "                    \n",
    "                    return forward_rates, transpose_forward_rates, reverse_rates, x_0max, scores\n",
    "\n",
    "                if num_updates >= (1-corrector_entry_time) * D:\n",
    "                    \n",
    "                    h = 1/D\n",
    "                    \n",
    "                    for cstep in range(num_corrector_steps):\n",
    "                        forward_rates, transpose_forward_rates, reverse_rates, _, scores = get_rates(x, ts) # ts-h?\n",
    "                        if balancing_function is None:\n",
    "                            # We're using the default corrector\n",
    "                            # which corresponds to birth-death Stein operator\n",
    "                            corrector_rate = transpose_forward_rates + reverse_rates\n",
    "                        else:\n",
    "                            # We removed the one half here because it makes more sense for the absorbing\n",
    "                            corrector_rate = (transpose_forward_rates + forward_rates) * balancing_function(scores)\n",
    "                        # Only update dimensions with \n",
    "                        corrector_rate *= update_mask.unsqueeze(1).unsqueeze(1)\n",
    "                            \n",
    "                        corrector_rate[\n",
    "                            torch.arange(N, device=device).repeat_interleave(D),\n",
    "                            torch.arange(D, device=device).repeat(N),\n",
    "                            x.long().flatten()\n",
    "                        ] = 0.0\n",
    "\n",
    "                        x = take_euler_step(x, corrector_rate, \n",
    "                            corrector_step_size_multiplier * h)\n",
    "\n",
    "            p_0gt = F.softmax(model(x, min_t * torch.ones((N,), device=device)), dim=2) # (N, D, S)\n",
    "            x_0max = torch.max(p_0gt, dim=2)[1]\n",
    "\n",
    "            mask_positions = x == (S-1)\n",
    "            nonmask_positions = ~mask_positions\n",
    "            samples = nonmask_positions * x + mask_positions * x_0max\n",
    "            \n",
    "            out = {\n",
    "                \"ts\": ts.cpu().numpy()\n",
    "            }\n",
    "            \n",
    "            return samples.detach().cpu().numpy().astype(int), out"
   ]
  },
  {
   "cell_type": "code",
   "execution_count": 61,
   "id": "15466a96",
   "metadata": {},
   "outputs": [],
   "source": [
    "results = []"
   ]
  },
  {
   "cell_type": "code",
   "execution_count": 80,
   "id": "05b1917f",
   "metadata": {},
   "outputs": [],
   "source": [
    "step_sizes = [.1, .2, .5, 1., 2., 4., 10., 20.]\n",
    "# step_sizes = [.2, .3, .4]"
   ]
  },
  {
   "cell_type": "code",
   "execution_count": 86,
   "id": "bc0b23e4",
   "metadata": {},
   "outputs": [
    {
     "name": "stdout",
     "output_type": "stream",
     "text": [
      "Tuning hyperparameters for corrector: birthdeath and method: gillespies\n",
      "Testing step size: 0.1\n"
     ]
    },
    {
     "name": "stderr",
     "output_type": "stream",
     "text": [
      "258it [00:08, 29.48it/s]                         \n"
     ]
    },
    {
     "name": "stdout",
     "output_type": "stream",
     "text": [
      "Hellinger: 0.0334877442199409, error rate: 0.02296875\n",
      "Testing step size: 0.2\n"
     ]
    },
    {
     "name": "stderr",
     "output_type": "stream",
     "text": [
      "258it [00:08, 29.47it/s]                         \n"
     ]
    },
    {
     "name": "stdout",
     "output_type": "stream",
     "text": [
      "Hellinger: 0.016116940670690322, error rate: 0.0223046875\n",
      "Testing step size: 0.5\n"
     ]
    },
    {
     "name": "stderr",
     "output_type": "stream",
     "text": [
      "258it [00:08, 29.60it/s]                         \n"
     ]
    },
    {
     "name": "stdout",
     "output_type": "stream",
     "text": [
      "Hellinger: 0.02645498146704124, error rate: 0.0212109375\n",
      "Testing step size: 1.0\n"
     ]
    },
    {
     "name": "stderr",
     "output_type": "stream",
     "text": [
      "258it [00:08, 28.99it/s]                         \n"
     ]
    },
    {
     "name": "stdout",
     "output_type": "stream",
     "text": [
      "Hellinger: 0.029540773299965788, error rate: 0.0156640625\n",
      "Testing step size: 2.0\n"
     ]
    },
    {
     "name": "stderr",
     "output_type": "stream",
     "text": [
      "258it [00:08, 29.54it/s]                         \n"
     ]
    },
    {
     "name": "stdout",
     "output_type": "stream",
     "text": [
      "Hellinger: 0.031323423270572345, error rate: 0.0149609375\n",
      "Testing step size: 4.0\n"
     ]
    },
    {
     "name": "stderr",
     "output_type": "stream",
     "text": [
      "258it [00:08, 29.45it/s]                         \n"
     ]
    },
    {
     "name": "stdout",
     "output_type": "stream",
     "text": [
      "Hellinger: 0.037885873158697056, error rate: 0.0136328125\n",
      "Testing step size: 10.0\n"
     ]
    },
    {
     "name": "stderr",
     "output_type": "stream",
     "text": [
      "258it [00:08, 29.47it/s]                         \n"
     ]
    },
    {
     "name": "stdout",
     "output_type": "stream",
     "text": [
      "Hellinger: 0.02573731653153831, error rate: 0.008203125\n",
      "Testing step size: 20.0\n"
     ]
    },
    {
     "name": "stderr",
     "output_type": "stream",
     "text": [
      "258it [00:08, 29.46it/s]                         \n"
     ]
    },
    {
     "name": "stdout",
     "output_type": "stream",
     "text": [
      "Hellinger: 0.034335337180407974, error rate: 0.0059765625\n"
     ]
    }
   ],
   "source": [
    "tqdm._instances.clear()\n",
    "\n",
    "num_repeats = 1\n",
    "\n",
    "sample_size = 100\n",
    "\n",
    "# method = \"euler\"\n",
    "# method = \"tauleaping\"\n",
    "method = \"gillespies\"\n",
    "\n",
    "# corrector = \"mpf\"\n",
    "# corrector = \"barker\"\n",
    "corrector = \"birthdeath\"\n",
    "\n",
    "updates_per_eval = 3\n",
    "\n",
    "# Generic corrector fields\n",
    "eval_cfg.sampler.num_corrector_steps = 1\n",
    "eval_cfg.sampler.corrector_entry_time = 0.9\n",
    "\n",
    "if method == \"gillespies\":\n",
    "    eval_cfg.sampler.name = \"PCKGillespies\"\n",
    "    eval_cfg.sampler.updates_per_eval = updates_per_eval\n",
    "    eval_cfg.sampler.balancing_function = corrector\n",
    "elif method == \"tauleaping\":\n",
    "    eval_cfg.sampler.name = \"PCTauLeapingAbsorbingInformed\"\n",
    "    eval_cfg.sampler.num_steps = 100\n",
    "#     eval_cfg.sampler.corrector_step_size_multiplier = .1\n",
    "#     eval_cfg.sampler.balancing_function = \"birthdeath\"\n",
    "#     eval_cfg.sampler.corrector_step_size_multiplier = 1.\n",
    "#     eval_cfg.sampler.balancing_function = \"barker\"\n",
    "    eval_cfg.sampler.corrector_step_size_multiplier = .5\n",
    "    eval_cfg.sampler.balancing_function = corrector\n",
    "elif method == \"euler\":\n",
    "    eval_cfg.sampler.name = \"PCEulerAbsorbingInformed\"\n",
    "    eval_cfg.sampler.num_steps = 100\n",
    "    eval_cfg.sampler.balancing_function = corrector\n",
    "else:\n",
    "    assert(False)\n",
    "\n",
    "# sampler = sampling_utils.get_sampler(eval_cfg)\n",
    "\n",
    "print(f\"Tuning hyperparameters for corrector: {corrector} and method: {method}\")\n",
    "\n",
    "for _ in range(num_repeats):\n",
    "    \n",
    "    for step_size_mult in step_sizes:\n",
    "    \n",
    "        eval_cfg.sampler.corrector_step_size_multiplier = step_size_mult\n",
    "        print(f\"Testing step size: {step_size_mult}\")\n",
    "        sampler = sampling_utils.get_sampler(eval_cfg)\n",
    "    \n",
    "        samples, out = sampler.sample(model, sample_size, 0)\n",
    "\n",
    "        data_flat = dataset.data.flatten().cpu().numpy()\n",
    "        h_dist = hellinger(data_flat, samples.flatten(), eval_cfg.data.S)\n",
    "        error_rate = count_mistakes(samples)\n",
    "\n",
    "        D = eval_cfg.data.shape[0]\n",
    "        if method == \"gillespies\":\n",
    "            nfe = D / updates_per_eval\n",
    "        elif method == \"tauleaping\":\n",
    "            nfe = eval_cfg.sampler.num_steps\n",
    "        nfe += nfe * eval_cfg.sampler.corrector_entry_time * eval_cfg.sampler.num_corrector_steps\n",
    "\n",
    "        new_result = {\n",
    "                    'method': method,\n",
    "                    'g_steps': 0 if method != \"gillespies\" else updates_per_eval,\n",
    "                    'tau_steps': 0 if method != \"tauleaping\" else eval_cfg.sampler.num_steps,\n",
    "                    'use_corrector': eval_cfg.sampler.corrector_entry_time > 0 \n",
    "                                 and eval_cfg.sampler.num_corrector_steps > 0,\n",
    "                    'corrector': eval_cfg.sampler.balancing_function,\n",
    "                    'c_stepsize': eval_cfg.sampler.corrector_step_size_multiplier,\n",
    "                    'c_steps': eval_cfg.sampler.num_corrector_steps,\n",
    "                    'nfe': nfe,\n",
    "                    'h_dist': h_dist,\n",
    "                    'error_rate': error_rate,\n",
    "\n",
    "                    'samples': samples,\n",
    "\n",
    "                }\n",
    "        print(f\"Hellinger: {new_result['h_dist']}, error rate: {new_result['error_rate']}\")\n",
    "        results.append(new_result)"
   ]
  },
  {
   "cell_type": "code",
   "execution_count": 72,
   "id": "a85a9da2",
   "metadata": {},
   "outputs": [],
   "source": [
    "data_sample = data[0].cpu().numpy().astype(int)"
   ]
  },
  {
   "cell_type": "code",
   "execution_count": 8,
   "id": "49c2709a",
   "metadata": {},
   "outputs": [],
   "source": [
    "i = 0 "
   ]
  },
  {
   "cell_type": "code",
   "execution_count": 19,
   "id": "b055ba83",
   "metadata": {},
   "outputs": [],
   "source": [
    "ours_samples = results[-1][\"samples\"]\n",
    "# theirs_samples = results[-2][\"samples\"]"
   ]
  },
  {
   "cell_type": "code",
   "execution_count": 18,
   "id": "ded94c54",
   "metadata": {},
   "outputs": [
    {
     "data": {
      "image/png": "[encoded data removed]",
      "text/plain": [
       "<Figure size 1440x900 with 3 Axes>"
      ]
     },
     "metadata": {
      "needs_background": "light"
     },
     "output_type": "display_data"
    }
   ],
   "source": [
    "def colorize(arr, err):\n",
    "    pos_color = np.array([230, 230, 100])\n",
    "    neg_color = np.array([60, 0, 70])\n",
    "    err_color = np.array([200, 50, 50])\n",
    "    \n",
    "    colored = (1 - arr)[..., None] * neg_color[None, None] * (1 - err)[None, :, None]\\\n",
    "            + (1 - arr)[..., None] * err_color[None, None] * err[None, :, None]\\\n",
    "            + arr[..., None] * pos_color[None, None]\n",
    "        \n",
    "    return colored\n",
    "\n",
    "def plot_countdown_seq(ax, seq, label=\"\"):\n",
    "    S = 33\n",
    "    L = 256\n",
    "    \n",
    "    err_mask = ((seq[:-1] - seq[1:]) != 1) * (seq[:-1] != 0)\n",
    "    err_mask = np.insert(err_mask, -1, False)\n",
    "    \n",
    "    seq = F.one_hot(seq, S).T\n",
    "    seq = colorize(seq, err_mask)\n",
    "    \n",
    "    ax.imshow(seq)\n",
    "    ax.axis(\"off\")\n",
    "    ax.text(-0.02, 0.5, label, va='center', ha='center', rotation='vertical', \n",
    "            fontsize=20, transform=ax.transAxes)\n",
    "    \n",
    "    ax.set_ylabel(label)\n",
    "    \n",
    "i = np.random.randint(100)\n",
    "fig, axes = plt.subplots(3, 1, figsize=(20,12.5))\n",
    "plt.subplots_adjust(hspace=-.6)\n",
    "fig.patch.set_facecolor('none')\n",
    "axes[0].patch.set_facecolor('none')\n",
    "axes[1].patch.set_facecolor('none')\n",
    "axes[2].patch.set_facecolor('none')\n",
    "# plot_countdown_seq(axes[2], torch.tensor(theirs_samples[i]), \"Uninformed\")\n",
    "plot_countdown_seq(axes[1], torch.tensor(ours_samples[i]), \"Informed\")\n",
    "plot_countdown_seq(axes[0], torch.tensor(data_sample), \"Data\")\n",
    "\n",
    "fig.savefig('countdown_samples_comp.pdf', dpi=300, bbox_inches='tight')"
   ]
  },
  {
   "cell_type": "code",
   "execution_count": null,
   "id": "365fee71",
   "metadata": {},
   "outputs": [],
   "source": []
  },
  {
   "cell_type": "code",
   "execution_count": 22,
   "id": "8561e175",
   "metadata": {},
   "outputs": [
    {
     "data": {
      "text/plain": [
       "<matplotlib.image.AxesImage at 0x7f12680f8d30>"
      ]
     },
     "execution_count": 22,
     "metadata": {},
     "output_type": "execute_result"
    },
    {
     "data": {
      "image/png": "[encoded data removed]",
      "text/plain": [
       "<Figure size 720x720 with 1 Axes>"
      ]
     },
     "metadata": {
      "needs_background": "light"
     },
     "output_type": "display_data"
    }
   ],
   "source": [
    "i += 1\n",
    "plt.figure(figsize=(10,10))\n",
    "plt.imshow(F.one_hot(torch.tensor(samples[i]), S).T, aspect=256/S)"
   ]
  },
  {
   "cell_type": "code",
   "execution_count": null,
   "id": "b3c72c43",
   "metadata": {},
   "outputs": [],
   "source": []
  }
 ],
 "metadata": {
  "kernelspec": {
   "display_name": "Python 3 (ipykernel)",
   "language": "python",
   "name": "python3"
  },
  "language_info": {
   "codemirror_mode": {
    "name": "ipython",
    "version": 3
   },
   "file_extension": ".py",
   "mimetype": "text/x-python",
   "name": "python",
   "nbconvert_exporter": "python",
   "pygments_lexer": "ipython3",
   "version": "3.9.0"
  }
 },
 "nbformat": 4,
 "nbformat_minor": 5
}
