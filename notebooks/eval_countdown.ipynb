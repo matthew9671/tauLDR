{
 "cells": [
  {
   "cell_type": "code",
   "execution_count": 1,
   "metadata": {},
   "outputs": [],
   "source": [
    "from importlib import reload\n",
    "import sys\n",
    "sys.path.insert(0, '../')\n",
    "\n",
    "# sys.path.remove(\"/home/users/yixiuz/.local/lib/python3.9/site-packages\")\n",
    "sys.path.append(\"/home/groups/swl1/yixiuz/torch_fid/lib/python3.9/site-packages\")\n",
    "sys.path.append(\"/home/groups/swl1/yixiuz/torch_fid/bin\")"
   ]
  },
  {
   "cell_type": "code",
   "execution_count": 2,
   "metadata": {},
   "outputs": [],
   "source": [
    "# %env TORCH_USE_CUDA_DSA 0\n",
    "# %env CUDA_LAUNCH_BLOCKING 0"
   ]
  },
  {
   "cell_type": "code",
   "execution_count": 3,
   "metadata": {},
   "outputs": [
    {
     "data": {
      "text/plain": [
       "<module 'lib.models.models' from '../lib/models/models.py'>"
      ]
     },
     "execution_count": 3,
     "metadata": {},
     "output_type": "execute_result"
    }
   ],
   "source": [
    "# reload(sampling_utils)\n",
    "# reload(sampling)\n",
    "# reload(eval_config)\n",
    "reload(model_utils)\n",
    "reload(models)"
   ]
  },
  {
   "cell_type": "code",
   "execution_count": 4,
   "metadata": {
    "scrolled": true
   },
   "outputs": [],
   "source": [
    "import matplotlib\n",
    "import torch\n",
    "import torch.nn as nn\n",
    "import torch.nn.functional as F\n",
    "import ml_collections\n",
    "\n",
    "import config.eval.countdown as eval_config\n",
    "\n",
    "import lib.utils.bookkeeping as bookkeeping\n",
    "from pathlib import Path\n",
    "import numpy as np\n",
    "import matplotlib.pyplot as plt\n",
    "\n",
    "import lib.utils.utils as utils\n",
    "import lib.models.models as models\n",
    "import lib.models.model_utils as model_utils\n",
    "import lib.datasets.datasets as datasets\n",
    "import lib.datasets.dataset_utils as dataset_utils\n",
    "import lib.sampling.sampling as sampling\n",
    "import lib.sampling.sampling_utils as sampling_utils\n",
    "\n",
    "%matplotlib inline\n",
    "\n",
    "eval_cfg = eval_config.get_config()\n",
    "train_cfg = bookkeeping.load_ml_collections(Path(eval_cfg.train_config_path))\n",
    "\n",
    "for item in eval_cfg.train_config_overrides:\n",
    "    utils.set_in_nested_dict(train_cfg, item[0], item[1])\n",
    "\n",
    "S = train_cfg.data.S\n",
    "device = torch.device(eval_cfg.device)\n",
    "\n",
    "model = model_utils.create_model(train_cfg, device)\n",
    "\n",
    "loaded_state = torch.load(Path(eval_cfg.checkpoint_path),\n",
    "    map_location=device)\n",
    "\n",
    "modified_model_state = utils.remove_module_from_keys(loaded_state['model'])\n",
    "model.load_state_dict(modified_model_state)\n",
    "\n",
    "model.eval()\n",
    "\n",
    "dataset = dataset_utils.get_dataset(eval_cfg, device)\n",
    "data = dataset.data\n",
    "# test_dataset = np.load(eval_cfg.sampler.test_dataset)\n",
    "\n",
    "# descrambled_test_dataset = descramble(test_dataset)"
   ]
  },
  {
   "cell_type": "code",
   "execution_count": 5,
   "metadata": {},
   "outputs": [],
   "source": [
    "def count_mistakes(samples):\n",
    "    \"\"\"\n",
    "    sample: (N, L, S)\n",
    "    \"\"\"\n",
    "    num_positions = samples.shape[0] * samples.shape[1]\n",
    "    return (np.sum(((samples[:,:-1] - samples[:,1:]) != 1) * (samples[:,:-1] != 0))) / num_positions\n",
    "\n",
    "def visualize_diff(ax, x, y):\n",
    "    x_mat = F.one_hot(torch.tensor(x), S).T\n",
    "    y_mat = F.one_hot(torch.tensor(y), S).T\n",
    "    img = torch.stack([x_mat, y_mat, x_mat * y_mat], axis=2)\n",
    "    ax.imshow(img * 255)"
   ]
  },
  {
   "cell_type": "markdown",
   "metadata": {},
   "source": [
    "# Define and simplify the samplers"
   ]
  },
  {
   "cell_type": "code",
   "execution_count": 7,
   "metadata": {},
   "outputs": [
    {
     "ename": "ImportError",
     "evalue": "cannot import name 'PCTauLeapingAbsorbingInformed' from 'lib.sampling' (../lib/sampling/__init__.py)",
     "output_type": "error",
     "traceback": [
      "\u001b[0;31m---------------------------------------------------------------------------\u001b[0m",
      "\u001b[0;31mImportError\u001b[0m                               Traceback (most recent call last)",
      "\u001b[0;32m/tmp/ipykernel_23765/4063877934.py\u001b[0m in \u001b[0;36m<module>\u001b[0;34m\u001b[0m\n\u001b[0;32m----> 1\u001b[0;31m \u001b[0;32mfrom\u001b[0m \u001b[0mlib\u001b[0m\u001b[0;34m.\u001b[0m\u001b[0msampling\u001b[0m \u001b[0;32mimport\u001b[0m \u001b[0mPCTauLeapingAbsorbingInformed\u001b[0m\u001b[0;34m\u001b[0m\u001b[0;34m\u001b[0m\u001b[0m\n\u001b[0m",
      "\u001b[0;31mImportError\u001b[0m: cannot import name 'PCTauLeapingAbsorbingInformed' from 'lib.sampling' (../lib/sampling/__init__.py)"
     ]
    }
   ],
   "source": [
    "from lib.sampling import PCTauLeapingAbsorbingInformed"
   ]
  },
  {
   "cell_type": "code",
   "execution_count": 44,
   "metadata": {},
   "outputs": [],
   "source": [
    "# import lib.sampling.sampling_utils as sampling_utils\n",
    "# from tqdm import tqdm\n",
    "\n",
    "# def get_initial_samples(N, D, device, S, initial_dist, initial_dist_std=None):\n",
    "#     if initial_dist == 'uniform':\n",
    "#         x = torch.randint(low=0, high=S, size=(N, D), device=device)\n",
    "#     elif initial_dist == 'gaussian':\n",
    "#         target = np.exp(\n",
    "#             - ((np.arange(1, S+1) - S//2)**2) / (2 * initial_dist_std**2)\n",
    "#         )\n",
    "#         target = target / np.sum(target)\n",
    "\n",
    "#         cat = torch.distributions.categorical.Categorical(\n",
    "#             torch.from_numpy(target)\n",
    "#         )\n",
    "#         x = cat.sample((N*D,)).view(N,D)\n",
    "#         x = x.to(device)\n",
    "#     elif initial_dist == 'absorbing':\n",
    "#         x = torch.ones((N, D)) * (S-1)\n",
    "#         x = x.to(device)\n",
    "#     else:\n",
    "#         raise NotImplementedError('Unrecognized initial dist ' + initial_dist)\n",
    "#     return x\n",
    "\n",
    "# def compute_backward(qt0, rate, p0t, in_x, denom_x=None, eps=1e-9):\n",
    "#     S = rate.shape[-1]\n",
    "#     N, D = in_x.shape\n",
    "#     device = in_x.device\n",
    "#     x_0max = torch.max(p0t, dim=2)[1]\n",
    "\n",
    "#     if denom_x is None:\n",
    "#         # When using the hollow transformer architecture,\n",
    "#         # the model p0t assumes the current location is mask\n",
    "#         # regardless of the true token\n",
    "#         denom_x = in_x\n",
    "\n",
    "#     qt0_denom = qt0[\n",
    "#         torch.arange(N, device=device).repeat_interleave(D*S),\n",
    "#         torch.arange(S, device=device).repeat(N*D),\n",
    "#         denom_x.long().flatten().repeat_interleave(S)\n",
    "#     ].view(N,D,S) + eps   \n",
    "#     # First S is x0 second S is x tilde \n",
    "#     qt0_numer = qt0 # (N, S, S) \n",
    "#     forward_rates = rate[\n",
    "#         torch.arange(N, device=device).repeat_interleave(D*S),\n",
    "#         torch.arange(S, device=device).repeat(N*D),\n",
    "#         in_x.long().flatten().repeat_interleave(S)\n",
    "#     ].view(N, D, S) \n",
    "#     scores = (p0t / qt0_denom) @ qt0_numer\n",
    "#     reverse_rates = forward_rates * scores # (N, D, S)  \n",
    "#     transpose_forward_rates = rate[\n",
    "#         torch.arange(N, device=device).repeat_interleave(D*S),\n",
    "#         in_x.long().flatten().repeat_interleave(S),\n",
    "#         torch.arange(S, device=device).repeat(N*D)\n",
    "#     ].view(N, D, S) \n",
    "\n",
    "#     return forward_rates, transpose_forward_rates, reverse_rates, x_0max, scores\n",
    "\n",
    "# class PCTauLeapingAbsorbingInformed():\n",
    "#     def __init__(self, cfg):\n",
    "#         self.cfg = cfg\n",
    "\n",
    "#     def sample(self, model, N, num_intermediates):\n",
    "#         t = 1.0\n",
    "\n",
    "#         D = np.prod(self.cfg.data.shape)\n",
    "#         S = self.cfg.data.S\n",
    "#         scfg = self.cfg.sampler\n",
    "#         num_steps = scfg.num_steps\n",
    "#         min_t = scfg.min_t\n",
    "#         eps_ratio = scfg.eps_ratio\n",
    "#         num_corrector_steps = scfg.num_corrector_steps\n",
    "#         corrector_step_size_multiplier = scfg.corrector_step_size_multiplier\n",
    "#         corrector_entry_time = scfg.corrector_entry_time\n",
    "        \n",
    "#         if scfg.balancing_function == \"barker\":\n",
    "#             balancing_function = lambda score: score / (1 + score) \n",
    "#         elif scfg.balancing_function == \"mpf\":\n",
    "#             balancing_function = lambda score: torch.sqrt(score)\n",
    "#         elif scfg.balancing_function == \"birthdeath\":\n",
    "#             balancing_function = None\n",
    "#         else:\n",
    "#             print(\"Balancing function not found: \" + scfg.balancing_function)\n",
    "#             return\n",
    "        \n",
    "#         device = model.device\n",
    "\n",
    "#         initial_dist = scfg.initial_dist\n",
    "#         if initial_dist == 'gaussian':\n",
    "#             initial_dist_std = model.Q_sigma\n",
    "#         else:\n",
    "#             initial_dist_std = None\n",
    "\n",
    "#         with torch.no_grad():\n",
    "#             x = get_initial_samples(N, D, device, S, initial_dist,\n",
    "#                 initial_dist_std)\n",
    "\n",
    "#             h = 1.0 / num_steps # approximately \n",
    "#             ts = np.linspace(1.0, min_t+h, num_steps)\n",
    "#             save_ts = ts[np.linspace(0, len(ts)-2, num_intermediates, dtype=int)]\n",
    "\n",
    "#             x_hist = []\n",
    "#             x0_hist = []\n",
    "#             c_rate_hist = []\n",
    "\n",
    "#             for idx, t in tqdm(enumerate(ts[0:-1])):\n",
    "\n",
    "#                 h = ts[idx] - ts[idx+1]\n",
    "\n",
    "#                 def get_rates(in_x, in_t):\n",
    "#                     qt0 = model.transition(in_t * torch.ones((N,), device=device)) # (N, S, S)\n",
    "#                     rate = model.rate(in_t * torch.ones((N,), device=device)) # (N, S, S)\n",
    "\n",
    "#                     p0t = F.softmax(model(in_x, in_t * torch.ones((N,), device=device)), dim=2) # (N, D, S)\n",
    "\n",
    "#                     denom_x = torch.ones_like(in_x) * (S-1)\n",
    "\n",
    "#                     forward_rates, transpose_forward_rates, reverse_rates, x_0max, scores = compute_backward(qt0, rate, p0t, in_x, denom_x=denom_x, eps=eps_ratio)\n",
    "                    \n",
    "#                     mask_positions = in_x == (S-1)\n",
    "#                     nonmask_positions = ~mask_positions\n",
    "\n",
    "#                     backward_score_to_curr = scores[\n",
    "#                         torch.arange(N, device=device).repeat_interleave(D),\n",
    "#                         torch.arange(D, device=device).repeat(N),\n",
    "#                         in_x.long().flatten()\n",
    "#                     ].view(N,D)\n",
    "#                     forward_score_from_curr = 1 / (backward_score_to_curr * nonmask_positions + mask_positions)\n",
    "#                     forward_score_from_curr *= nonmask_positions\n",
    "\n",
    "#                     scores = scores * mask_positions.unsqueeze(2)\n",
    "#                     scores[:,:,S-1] = forward_score_from_curr\n",
    "                    \n",
    "#                     forward_rates[\n",
    "#                         torch.arange(N, device=device).repeat_interleave(D),\n",
    "#                         torch.arange(D, device=device).repeat(N),\n",
    "#                         in_x.long().flatten()\n",
    "#                     ] = 0.0 \n",
    "#                     reverse_rates[\n",
    "#                         torch.arange(N, device=device).repeat_interleave(D),\n",
    "#                         torch.arange(D, device=device).repeat(N),\n",
    "#                         in_x.long().flatten()\n",
    "#                     ] = 0.0 \n",
    "                    \n",
    "#                     return forward_rates, transpose_forward_rates, reverse_rates, x_0max, scores\n",
    "                    \n",
    "#                 def take_poisson_step(in_x, in_reverse_rates, in_h):\n",
    "#                     diffs = torch.arange(S, device=device).view(1,1,S) - in_x.view(N,D,1)\n",
    "#                     poisson_dist = torch.distributions.poisson.Poisson(in_reverse_rates * in_h)\n",
    "#                     jump_nums = poisson_dist.sample()\n",
    "#                     adj_diffs = jump_nums * diffs\n",
    "#                     overall_jump = torch.sum(adj_diffs, dim=2)\n",
    "#                     unclip_x_new = in_x + overall_jump\n",
    "#                     x_new = torch.clamp(unclip_x_new, min=0, max=S-1)\n",
    "\n",
    "#                     return x_new\n",
    "\n",
    "#                 _, _, reverse_rates, x_0max, _ = get_rates(x, t)\n",
    "\n",
    "#                 if t in save_ts:\n",
    "#                     x_hist.append(x.detach().cpu().numpy())\n",
    "#                     x0_hist.append(x_0max.detach().cpu().numpy())\n",
    "\n",
    "#                 x = take_poisson_step(x, reverse_rates, h)\n",
    "\n",
    "#                 if t <= corrector_entry_time:\n",
    "#                     for cstep in range(num_corrector_steps):\n",
    "#                         forward_rates, transpose_forward_rates, reverse_rates, _, scores = get_rates(x, t-h)\n",
    "#                         if balancing_function is None:\n",
    "#                             # We're using the default corrector\n",
    "#                             # which corresponds to birth-death Stein operator\n",
    "#                             corrector_rate = transpose_forward_rates + reverse_rates\n",
    "#                         else:\n",
    "#                             # We removed the one half here because it makes more sense for the absorbing\n",
    "#                             corrector_rate = (transpose_forward_rates + forward_rates) * balancing_function(scores)\n",
    "                            \n",
    "#                         corrector_rate[\n",
    "#                             torch.arange(N, device=device).repeat_interleave(D),\n",
    "#                             torch.arange(D, device=device).repeat(N),\n",
    "#                             x.long().flatten()\n",
    "#                         ] = 0.0\n",
    "\n",
    "#                         if cstep == 0 and t in save_ts:\n",
    "#                             c_rate_hist.append(corrector_rate.detach().cpu().numpy())\n",
    "\n",
    "#                         x = take_poisson_step(x, corrector_rate, \n",
    "#                             corrector_step_size_multiplier * h)\n",
    "#                 elif t in save_ts:\n",
    "#                     c_rate_hist.append(np.zeros((N, D, S)))\n",
    "\n",
    "#             x_hist = np.array(x_hist).astype(int)\n",
    "#             x0_hist = np.array(x0_hist).astype(int)\n",
    "#             c_rate_hist = np.array(c_rate_hist)\n",
    "\n",
    "#             p_0gt = F.softmax(model(x, min_t * torch.ones((N,), device=device)), dim=2) # (N, D, S)\n",
    "#             x_0max = torch.max(p_0gt, dim=2)[1]\n",
    "\n",
    "#             mask_positions = x == (S-1)\n",
    "#             nonmask_positions = ~mask_positions\n",
    "#             samples = nonmask_positions * x + mask_positions * x_0max\n",
    "            \n",
    "#             hist = {\n",
    "#                 \"x\": x_hist,\n",
    "#                 \"x0\": x0_hist,\n",
    "#                 \"rc\": c_rate_hist\n",
    "#             }\n",
    "            \n",
    "#             return samples.detach().cpu().numpy().astype(int), hist"
   ]
  },
  {
   "cell_type": "code",
   "execution_count": 10,
   "metadata": {
    "scrolled": true
   },
   "outputs": [
    {
     "name": "stdout",
     "output_type": "stream",
     "text": [
      "<lib.sampling.sampling.PCTauLeapingAbsorbingInformed object at 0x7f7858702370>\n"
     ]
    },
    {
     "name": "stderr",
     "output_type": "stream",
     "text": [
      "499it [01:14,  6.69it/s]\n"
     ]
    }
   ],
   "source": [
    "num_samples = 100\n",
    "eval_cfg.sampler.name = 'PCTauLeapingAbsorbingInformed'\n",
    "eval_cfg.sampler.corrector_step_size_multiplier = 2.\n",
    "eval_cfg.sampler.balancing_function = \"mpf\"\n",
    "sampler = sampling_utils.get_sampler(eval_cfg)\n",
    "print(sampler)\n",
    "samples, hist = sampler.sample(model, num_samples, 500,)"
   ]
  },
  {
   "cell_type": "code",
   "execution_count": 11,
   "metadata": {},
   "outputs": [],
   "source": [
    "x_hist = hist[\"x\"]\n",
    "x0_hist = hist[\"x0\"]\n",
    "c_rate_hist = hist[\"rc\"]"
   ]
  },
  {
   "cell_type": "code",
   "execution_count": 12,
   "metadata": {},
   "outputs": [
    {
     "name": "stdout",
     "output_type": "stream",
     "text": [
      "0.0005078125\n",
      "0.0005078125\n"
     ]
    }
   ],
   "source": [
    "# patch: process the samples by combining model prediction and current location\n",
    "print(count_mistakes(samples))\n",
    "is_mask = x_hist[-1] == (S-1)\n",
    "corrected_samples = is_mask * samples + (1 - is_mask) * x_hist[-1]\n",
    "print(count_mistakes(corrected_samples))"
   ]
  },
  {
   "cell_type": "code",
   "execution_count": 17,
   "metadata": {},
   "outputs": [],
   "source": [
    "data_flat = dataset.data.flatten().cpu().numpy()\n",
    "samples_flat = corrected_samples.flatten()"
   ]
  },
  {
   "cell_type": "code",
   "execution_count": 18,
   "metadata": {},
   "outputs": [
    {
     "data": {
      "text/plain": [
       "0.04670345126994198"
      ]
     },
     "execution_count": 18,
     "metadata": {},
     "output_type": "execute_result"
    }
   ],
   "source": [
    "def get_dist(seq, S):\n",
    "    L = seq.shape[0]\n",
    "    one_hot = np.zeros((L, S))\n",
    "    seq = np.array(seq, dtype=int)\n",
    "    one_hot[np.arange(L), seq] = 1\n",
    "    return np.sum(one_hot, axis=0) / L\n",
    "\n",
    "def hellinger(seq1, seq2, S):\n",
    "    d1, d2 = get_dist(seq1, S), get_dist(seq2, S)\n",
    "    return np.sqrt(.5 * np.sum((d1 ** .5 - d2 ** .5) ** 2))\n",
    "\n",
    "hellinger(data_flat, samples_flat, eval_cfg.data.S-1)"
   ]
  },
  {
   "cell_type": "code",
   "execution_count": 15,
   "metadata": {},
   "outputs": [
    {
     "data": {
      "text/plain": [
       "balancing_function: mpf\n",
       "corrector_entry_time: 0.9\n",
       "corrector_step_size_multiplier: 2.0\n",
       "eps_ratio: 1.0e-09\n",
       "initial_dist: absorbing\n",
       "min_t: 0.01\n",
       "name: PCTauLeapingAbsorbingInformed\n",
       "num_corrector_steps: 2\n",
       "num_steps: 500\n",
       "reject_multiple_jumps: true"
      ]
     },
     "execution_count": 15,
     "metadata": {},
     "output_type": "execute_result"
    }
   ],
   "source": [
    "eval_cfg.sampler"
   ]
  },
  {
   "cell_type": "code",
   "execution_count": 39,
   "metadata": {},
   "outputs": [
    {
     "name": "stdout",
     "output_type": "stream",
     "text": [
      "<__main__.PCTauLeapingAbsorbingInformed object at 0x7faf180b7340>\n"
     ]
    },
    {
     "name": "stderr",
     "output_type": "stream",
     "text": [
      "499it [00:18, 26.54it/s]\n"
     ]
    }
   ],
   "source": [
    "# Using our sampler\n",
    "num_samples = 10\n",
    "eval_cfg.sampler.corrector_step_size_multiplier = 1.\n",
    "eval_cfg.sampler.balancing_function = \"barker\"\n",
    "sampler = PCTauLeapingAbsorbingInformed(eval_cfg)\n",
    "print(sampler)\n",
    "samples, hist = sampler.sample(model, num_samples, 500,)"
   ]
  },
  {
   "cell_type": "code",
   "execution_count": 40,
   "metadata": {},
   "outputs": [],
   "source": [
    "x_hist = hist[\"x\"]\n",
    "x0_hist = hist[\"x0\"]\n",
    "c_rate_hist = hist[\"rc\"]"
   ]
  },
  {
   "cell_type": "code",
   "execution_count": 41,
   "metadata": {},
   "outputs": [
    {
     "name": "stdout",
     "output_type": "stream",
     "text": [
      "0.009375\n",
      "0.009375\n"
     ]
    }
   ],
   "source": [
    "# patch: process the samples by combining model prediction and current location\n",
    "print(count_mistakes(samples))\n",
    "is_mask = x_hist[-1] == (S-1)\n",
    "corrected_samples = is_mask * samples + (1 - is_mask) * x_hist[-1]\n",
    "print(count_mistakes(corrected_samples))"
   ]
  },
  {
   "cell_type": "code",
   "execution_count": 19,
   "metadata": {},
   "outputs": [
    {
     "data": {
      "text/plain": [
       "[<matplotlib.lines.Line2D at 0x7f7720d4ca00>]"
      ]
     },
     "execution_count": 19,
     "metadata": {},
     "output_type": "execute_result"
    },
    {
     "data": {
      "image/png": "[encoded data removed]",
      "text/plain": [
       "<Figure size 432x288 with 1 Axes>"
      ]
     },
     "metadata": {
      "needs_background": "light"
     },
     "output_type": "display_data"
    }
   ],
   "source": [
    "d_sample = get_dist(samples_flat, eval_cfg.data.S-1)\n",
    "d_bd_sample = get_dist(bd_samples_flat, eval_cfg.data.S-1)\n",
    "d_data = get_dist(data_flat, eval_cfg.data.S-1)\n",
    "plt.plot(d_data, color=\"k\")\n",
    "plt.plot(d_sample)\n",
    "plt.plot(d_bd_sample)"
   ]
  },
  {
   "cell_type": "code",
   "execution_count": 20,
   "metadata": {},
   "outputs": [
    {
     "data": {
      "text/plain": [
       "0.04670345126994198"
      ]
     },
     "execution_count": 20,
     "metadata": {},
     "output_type": "execute_result"
    }
   ],
   "source": [
    "data_flat = dataset.data.flatten().cpu().numpy()\n",
    "# samples_flat = corrected_samples.flatten()\n",
    "hellinger(data_flat, samples_flat, eval_cfg.data.S-1)"
   ]
  },
  {
   "cell_type": "markdown",
   "metadata": {},
   "source": [
    "# Examine the samples"
   ]
  },
  {
   "cell_type": "code",
   "execution_count": 21,
   "metadata": {},
   "outputs": [
    {
     "data": {
      "text/plain": [
       "2.0"
      ]
     },
     "execution_count": 21,
     "metadata": {},
     "output_type": "execute_result"
    }
   ],
   "source": [
    "eval_cfg.sampler.corrector_step_size_multiplier"
   ]
  },
  {
   "cell_type": "code",
   "execution_count": 22,
   "metadata": {},
   "outputs": [],
   "source": [
    "x_hist = hist[\"x\"]\n",
    "x0_hist = hist[\"x0\"]\n",
    "c_rate_hist = hist[\"rc\"]"
   ]
  },
  {
   "cell_type": "code",
   "execution_count": 24,
   "metadata": {},
   "outputs": [],
   "source": [
    "# np.sum(((samples[id,:-1] - samples[id,1:]) != 1) * (samples[id,:-1] != 0))"
   ]
  },
  {
   "cell_type": "code",
   "execution_count": 25,
   "metadata": {},
   "outputs": [],
   "source": [
    "l = -1\n",
    "id = -1"
   ]
  },
  {
   "cell_type": "code",
   "execution_count": 27,
   "metadata": {},
   "outputs": [
    {
     "data": {
      "text/plain": [
       "<matplotlib.image.AxesImage at 0x7f772019a610>"
      ]
     },
     "execution_count": 27,
     "metadata": {},
     "output_type": "execute_result"
    },
    {
     "data": {
      "image/png": "[encoded data removed]",
      "text/plain": [
       "<Figure size 1440x720 with 1 Axes>"
      ]
     },
     "metadata": {
      "needs_background": "light"
     },
     "output_type": "display_data"
    }
   ],
   "source": [
    "id += 1\n",
    "plt.figure(figsize=(20, 10))\n",
    "plt.imshow(F.one_hot(torch.tensor(x_hist[-1, id]), S).T)"
   ]
  },
  {
   "cell_type": "code",
   "execution_count": 40,
   "metadata": {},
   "outputs": [
    {
     "data": {
      "image/png": "[encoded data removed]",
      "text/plain": [
       "<Figure size 1440x288 with 1 Axes>"
      ]
     },
     "metadata": {
      "needs_background": "light"
     },
     "output_type": "display_data"
    }
   ],
   "source": [
    "id += 1\n",
    "fig, ax1 = plt.subplots(nrows=1, ncols=1, figsize=(20, 4))\n",
    "visualize_diff(ax1, samples[id], corrected_samples[id])"
   ]
  },
  {
   "cell_type": "code",
   "execution_count": 197,
   "metadata": {
    "collapsed": true
   },
   "outputs": [
    {
     "name": "stdout",
     "output_type": "stream",
     "text": [
      "51\n",
      "53\n",
      "54\n",
      "55\n",
      "57\n",
      "58\n",
      "59\n",
      "60\n",
      "61\n",
      "63\n",
      "66\n",
      "67\n",
      "71\n",
      "75\n",
      "76\n",
      "77\n",
      "78\n",
      "79\n",
      "80\n",
      "83\n",
      "85\n",
      "86\n",
      "87\n",
      "88\n",
      "89\n",
      "90\n",
      "91\n",
      "94\n",
      "95\n",
      "96\n",
      "98\n",
      "99\n",
      "100\n",
      "102\n",
      "105\n",
      "107\n",
      "108\n",
      "109\n",
      "110\n",
      "116\n",
      "117\n",
      "118\n",
      "119\n",
      "122\n",
      "125\n",
      "127\n",
      "128\n",
      "129\n",
      "130\n",
      "132\n",
      "133\n",
      "136\n",
      "138\n",
      "139\n",
      "140\n",
      "141\n",
      "142\n",
      "143\n",
      "147\n",
      "154\n",
      "155\n",
      "158\n",
      "160\n",
      "161\n",
      "163\n",
      "166\n",
      "167\n",
      "168\n",
      "169\n",
      "172\n",
      "173\n",
      "175\n",
      "178\n",
      "179\n",
      "180\n",
      "182\n",
      "185\n",
      "186\n",
      "187\n",
      "188\n",
      "189\n",
      "190\n",
      "191\n",
      "192\n",
      "193\n",
      "194\n",
      "198\n",
      "199\n",
      "201\n",
      "202\n",
      "203\n",
      "204\n",
      "205\n",
      "206\n",
      "207\n",
      "208\n",
      "210\n",
      "211\n",
      "212\n",
      "213\n",
      "214\n",
      "216\n",
      "219\n",
      "222\n",
      "226\n",
      "227\n",
      "228\n",
      "229\n",
      "230\n",
      "232\n",
      "235\n",
      "236\n",
      "238\n",
      "239\n",
      "242\n",
      "243\n",
      "247\n",
      "248\n",
      "249\n",
      "251\n",
      "252\n",
      "253\n",
      "254\n",
      "255\n",
      "257\n",
      "258\n",
      "259\n",
      "260\n",
      "261\n",
      "262\n",
      "263\n",
      "264\n",
      "265\n",
      "266\n",
      "267\n",
      "268\n",
      "270\n",
      "271\n",
      "272\n",
      "273\n",
      "276\n",
      "277\n",
      "278\n",
      "281\n",
      "282\n",
      "284\n",
      "285\n",
      "288\n",
      "289\n",
      "291\n",
      "293\n",
      "296\n",
      "298\n",
      "299\n",
      "300\n",
      "303\n",
      "304\n",
      "305\n",
      "306\n",
      "307\n",
      "310\n",
      "312\n",
      "314\n",
      "316\n",
      "317\n",
      "319\n",
      "321\n",
      "322\n",
      "323\n",
      "324\n",
      "325\n",
      "327\n",
      "330\n",
      "331\n",
      "332\n",
      "333\n",
      "335\n",
      "336\n",
      "339\n",
      "340\n",
      "346\n",
      "348\n",
      "350\n",
      "351\n",
      "352\n",
      "353\n",
      "354\n",
      "355\n",
      "357\n",
      "358\n",
      "359\n",
      "361\n",
      "362\n",
      "363\n",
      "365\n",
      "366\n",
      "367\n",
      "368\n",
      "371\n",
      "375\n",
      "377\n",
      "378\n",
      "379\n",
      "384\n",
      "385\n",
      "386\n",
      "387\n",
      "389\n",
      "392\n",
      "394\n",
      "395\n",
      "396\n",
      "399\n",
      "402\n",
      "404\n",
      "405\n",
      "406\n",
      "407\n",
      "409\n",
      "410\n",
      "411\n",
      "415\n",
      "416\n",
      "419\n",
      "420\n",
      "421\n",
      "422\n",
      "423\n",
      "426\n",
      "427\n",
      "428\n",
      "429\n",
      "430\n",
      "431\n",
      "432\n",
      "433\n",
      "435\n",
      "436\n",
      "437\n",
      "440\n",
      "441\n",
      "442\n",
      "443\n",
      "444\n",
      "449\n",
      "450\n",
      "454\n",
      "455\n",
      "456\n",
      "457\n",
      "462\n",
      "464\n",
      "465\n",
      "467\n",
      "468\n",
      "469\n",
      "470\n",
      "471\n",
      "472\n",
      "473\n",
      "475\n",
      "476\n",
      "477\n",
      "478\n",
      "480\n",
      "482\n",
      "484\n",
      "486\n",
      "488\n",
      "490\n",
      "492\n",
      "493\n",
      "494\n",
      "495\n",
      "496\n"
     ]
    }
   ],
   "source": [
    "# for l in range(x_hist.shape[0]-1):\n",
    "#     if ((x_hist[l, id] != x_hist[l+1, id]) * (x_hist[l, id] != S-1)).any():\n",
    "#         print(l)"
   ]
  },
  {
   "cell_type": "code",
   "execution_count": 41,
   "metadata": {},
   "outputs": [],
   "source": [
    "l = 50"
   ]
  },
  {
   "cell_type": "code",
   "execution_count": 92,
   "metadata": {
    "scrolled": false
   },
   "outputs": [
    {
     "data": {
      "image/png": "[encoded data removed]",
      "text/plain": [
       "<Figure size 2880x432 with 2 Axes>"
      ]
     },
     "metadata": {},
     "output_type": "display_data"
    }
   ],
   "source": [
    "l += 1\n",
    "\n",
    "fig, ax2 = plt.subplots(nrows=1, ncols=1, figsize=(40, 6))\n",
    "# visualize_diff(ax1, x_hist[l, id], x_hist[l+1, id])\n",
    "ax2.set_title(\"step = {}/{}\".format(l, eval_cfg.sampler.num_steps))\n",
    "cr = c_rate_hist[l, id].T\n",
    "# one_hot = F.one_hot(torch.tensor(x_hist[l, id]), S).T.cpu().numpy()\n",
    "cat = ax2.imshow(cr, vmin=cr.min(), vmax=cr.max())\n",
    "\n",
    "x = x_hist[l, id]\n",
    "y = x_hist[l+1, id]\n",
    "diff_loc = x != y\n",
    "\n",
    "scale = (S-1) / eval_cfg.sampler.corrector_step_size_multiplier / 500\n",
    "# ax2.plot(S - 1 - cr[-1,:] * scale, color='c', alpha=.4)\n",
    "ax2.scatter(np.arange(cr.shape[1])[x<S-1], x[x<S-1], color=\"w\", marker=\"D\", s=10)\n",
    "ax2.scatter((np.arange(cr.shape[1]))[diff_loc * (x<S-1)], x[diff_loc * (x<S-1)], color=\"r\", marker=\"D\", s=10)\n",
    "ax2.scatter((np.arange(cr.shape[1]))[diff_loc * (y<S-1)], y[diff_loc * (y<S-1)], color=\"cyan\", marker=\"D\", s=10)\n",
    "fig.colorbar(cat, ax=ax2)\n",
    "fig.set_facecolor('white')"
   ]
  },
  {
   "cell_type": "code",
   "execution_count": 419,
   "metadata": {},
   "outputs": [
    {
     "data": {
      "text/plain": [
       "array([ 0,  0,  0,  0,  0,  0,  0,  0,  0,  0,  0,  0,  0,  0,  0,  0,  0,\n",
       "        0,  0,  0,  0,  0,  0,  0,  0,  0,  0,  0,  0,  0,  0,  0,  0,  0,\n",
       "        0, 23,  0,  0,  0,  0,  0,  0,  5,  0,  0,  0,  0,  0,  0,  0,  0,\n",
       "        0,  0,  0,  0,  0,  0,  0,  0,  0,  0,  0,  0,  0,  0,  0,  0,  0,\n",
       "        0,  0,  0,  0,  0,  0,  0,  0,  0,  0,  0,  0,  0,  0,  0])"
      ]
     },
     "execution_count": 419,
     "metadata": {},
     "output_type": "execute_result"
    }
   ],
   "source": [
    "(y*diff_loc)[y<S-1]"
   ]
  },
  {
   "cell_type": "code",
   "execution_count": 175,
   "metadata": {},
   "outputs": [
    {
     "data": {
      "text/plain": [
       "array([2.8319006 , 0.        , 2.80219769, 0.        , 0.        ,\n",
       "       3.3007226 , 0.        , 0.        , 0.        , 2.82313704,\n",
       "       0.        , 0.        , 0.        , 0.        , 0.        ,\n",
       "       0.        , 0.        , 0.        , 0.        , 0.        ,\n",
       "       0.        , 0.        , 0.        , 0.        , 3.11396408,\n",
       "       0.        , 0.        , 0.        , 0.        , 0.        ,\n",
       "       0.        , 0.        , 0.        , 0.        , 0.        ,\n",
       "       0.        , 0.        , 0.        , 0.        , 0.        ,\n",
       "       0.        , 0.        , 0.        , 0.        , 3.10531306,\n",
       "       0.        , 0.        , 2.81148458, 2.80131197, 2.80131292,\n",
       "       0.        , 2.80131221, 0.        , 0.        , 0.        ,\n",
       "       3.2999599 , 0.        , 0.        , 0.        , 3.29441381,\n",
       "       0.        , 0.        , 0.        , 0.        , 0.        ,\n",
       "       0.        , 0.        , 0.        , 0.        , 0.        ,\n",
       "       0.        , 0.        , 0.        , 3.13194895, 0.        ,\n",
       "       0.        , 0.        , 0.        , 0.        , 0.        ,\n",
       "       0.        , 0.        , 2.80237985, 0.        , 2.80131435,\n",
       "       0.        , 0.        , 0.        , 0.        , 0.        ,\n",
       "       2.94708157, 0.        , 0.        , 0.        , 0.        ,\n",
       "       0.        , 0.        , 0.        , 0.        , 0.        ,\n",
       "       0.        , 0.        , 0.        , 2.90423703, 0.        ,\n",
       "       0.        , 0.        , 0.        , 2.80131841, 0.        ,\n",
       "       0.        , 2.80131197, 0.        , 2.80131173, 2.80131221,\n",
       "       0.        , 0.        , 0.        , 0.        , 0.        ,\n",
       "       0.        , 0.        , 0.        , 0.        , 0.        ,\n",
       "       0.        , 0.        , 0.        , 0.        , 0.        ,\n",
       "       2.99300456, 0.        , 3.29204321, 0.        , 0.        ,\n",
       "       0.        , 0.        , 0.        , 3.28461909, 0.        ,\n",
       "       0.        , 0.        , 2.81597042, 2.80131173, 0.        ,\n",
       "       0.        , 0.        , 0.        , 0.        , 0.        ,\n",
       "       2.80131388, 0.        , 0.        , 0.        , 0.        ,\n",
       "       2.80638742, 0.        , 0.        , 0.        , 0.        ,\n",
       "       0.        , 0.        , 0.        , 0.        , 0.        ,\n",
       "       0.        , 0.        , 0.        , 0.        , 0.        ,\n",
       "       0.        , 0.        , 0.        , 0.        , 0.        ,\n",
       "       0.        , 3.27307534, 0.        , 0.        , 0.        ,\n",
       "       0.        , 0.        , 0.        , 0.        , 0.        ,\n",
       "       0.        , 0.        , 0.        , 0.        , 0.        ,\n",
       "       0.        , 0.        , 0.        , 3.27212   , 0.        ,\n",
       "       0.        , 0.        , 0.        , 0.        , 0.        ,\n",
       "       0.        , 0.        , 0.        , 0.        , 0.        ,\n",
       "       0.        , 0.        , 0.        , 0.        , 0.        ,\n",
       "       0.        , 0.        , 0.        , 0.        , 0.        ,\n",
       "       0.        , 0.        , 0.        , 0.        , 0.        ,\n",
       "       0.        , 0.        , 0.        , 0.        , 0.        ,\n",
       "       0.        , 0.        , 2.99271107, 0.        , 0.        ,\n",
       "       2.80132699, 0.        , 0.        , 0.        , 0.        ,\n",
       "       0.        , 0.        , 3.29908991, 0.        , 0.        ,\n",
       "       0.        , 0.        , 2.80138206, 0.        , 2.81632376,\n",
       "       0.        , 0.        , 3.30066943, 0.        , 0.        ,\n",
       "       0.        , 0.        , 0.        , 0.        , 0.        ,\n",
       "       0.        ])"
      ]
     },
     "execution_count": 175,
     "metadata": {},
     "output_type": "execute_result"
    }
   ],
   "source": [
    "cr[-1,:]"
   ]
  },
  {
   "cell_type": "code",
   "execution_count": 150,
   "metadata": {},
   "outputs": [
    {
     "data": {
      "text/plain": [
       "<matplotlib.colorbar.Colorbar at 0x7f5c3d36fb50>"
      ]
     },
     "execution_count": 150,
     "metadata": {},
     "output_type": "execute_result"
    },
    {
     "data": {
      "image/png": "[encoded data removed]",
      "text/plain": [
       "<Figure size 1440x288 with 2 Axes>"
      ]
     },
     "metadata": {
      "needs_background": "light"
     },
     "output_type": "display_data"
    }
   ],
   "source": [
    "fig, ax1 = plt.subplots(nrows=1, ncols=1, figsize=(20, 4))\n",
    "cr = c_rate_hist[l, id].T\n",
    "cat = ax1.imshow(cr, vmin=cr.min(), vmax=cr.max(), cmap=\"coolwarm\")\n",
    "fig.colorbar(cat, ax=ax1)"
   ]
  },
  {
   "cell_type": "code",
   "execution_count": 447,
   "metadata": {},
   "outputs": [
    {
     "data": {
      "text/plain": [
       "<matplotlib.image.AxesImage at 0x7fab53083340>"
      ]
     },
     "execution_count": 447,
     "metadata": {},
     "output_type": "execute_result"
    },
    {
     "data": {
      "image/png": "[encoded data removed]",
      "text/plain": [
       "<Figure size 1440x432 with 2 Axes>"
      ]
     },
     "metadata": {
      "needs_background": "light"
     },
     "output_type": "display_data"
    }
   ],
   "source": [
    "l -= 1\n",
    "fig, (ax1, ax2) = plt.subplots(nrows=2, ncols=1, figsize=(20, 6))\n",
    "\n",
    "# Plotting on the first axis\n",
    "ax1.imshow(F.one_hot(torch.tensor(x0_hist[l, id]), S).T)\n",
    "ax2.imshow(F.one_hot(torch.tensor(x_hist[l, id])).T)"
   ]
  },
  {
   "cell_type": "code",
   "execution_count": 194,
   "metadata": {},
   "outputs": [
    {
     "data": {
      "image/png": "[encoded data removed]",
      "text/plain": [
       "<Figure size 576x360 with 2 Axes>"
      ]
     },
     "metadata": {},
     "output_type": "display_data"
    }
   ],
   "source": [
    "fig, (ax1, ax2) = plt.subplots(nrows=1, ncols=2, figsize=(8, 5))\n",
    "\n",
    "# Plotting on the first axis\n",
    "ax1.imshow(F.one_hot(torch.tensor(x0_hist[id, 0, 80:100]), S).T)\n",
    "ax2.imshow(F.one_hot(torch.tensor(x_hist[id, 0, 80:100])).T)\n",
    "fig.set_facecolor('white')"
   ]
  },
  {
   "cell_type": "code",
   "execution_count": 184,
   "metadata": {
    "scrolled": true
   },
   "outputs": [
    {
     "data": {
      "text/plain": [
       "<matplotlib.image.AxesImage at 0x7f8f50c1c4f0>"
      ]
     },
     "execution_count": 184,
     "metadata": {},
     "output_type": "execute_result"
    },
    {
     "data": {
      "image/png": "[encoded data removed]",
      "text/plain": [
       "<Figure size 1440x720 with 1 Axes>"
      ]
     },
     "metadata": {
      "needs_background": "light"
     },
     "output_type": "display_data"
    },
    {
     "data": {
      "image/png": "[encoded data removed]",
      "text/plain": [
       "<Figure size 1440x720 with 1 Axes>"
      ]
     },
     "metadata": {
      "needs_background": "light"
     },
     "output_type": "display_data"
    }
   ],
   "source": [
    "# id += 1\n",
    "plt.figure(figsize=(20, 10))\n",
    "plt.imshow(F.one_hot(torch.tensor(x0_hist[id, 0, 80:100]), S).T)\n",
    "plt.figure(figsize=(20, 10))\n",
    "plt.imshow(F.one_hot(torch.tensor(x_hist[id, 0, 80:100])).T)"
   ]
  },
  {
   "cell_type": "code",
   "execution_count": null,
   "metadata": {},
   "outputs": [],
   "source": []
  }
 ],
 "metadata": {
  "kernelspec": {
   "display_name": "Python 3",
   "language": "python",
   "name": "python3"
  },
  "language_info": {
   "codemirror_mode": {
    "name": "ipython",
    "version": 3
   },
   "file_extension": ".py",
   "mimetype": "text/x-python",
   "name": "python",
   "nbconvert_exporter": "python",
   "pygments_lexer": "ipython3",
   "version": "3.9.0"
  }
 },
 "nbformat": 4,
 "nbformat_minor": 2
}
