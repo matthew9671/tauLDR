{
 "cells": [
  {
   "cell_type": "code",
   "execution_count": 1,
   "id": "d6224348",
   "metadata": {},
   "outputs": [],
   "source": [
    "import sys\n",
    "sys.path.insert(0, '../')\n",
    "\n",
    "# sys.path.remove(\"/home/users/yixiuz/.local/lib/python3.9/site-packages\")\n",
    "sys.path.append(\"/home/groups/swl1/yixiuz/torch_fid/lib/python3.9/site-packages\")\n",
    "sys.path.append(\"/home/groups/swl1/yixiuz/torch_fid/bin\")"
   ]
  },
  {
   "cell_type": "code",
   "execution_count": 2,
   "id": "b95e99b1",
   "metadata": {},
   "outputs": [],
   "source": [
    "from importlib import reload"
   ]
  },
  {
   "cell_type": "code",
   "execution_count": 3,
   "id": "5cd9e0f9",
   "metadata": {},
   "outputs": [],
   "source": [
    "# reload(model_utils)\n",
    "# reload(models)\n",
    "# reload(HT)"
   ]
  },
  {
   "cell_type": "code",
   "execution_count": 4,
   "id": "d7092fa9",
   "metadata": {},
   "outputs": [],
   "source": [
    "import torch\n",
    "import torch.nn as nn\n",
    "import torch.nn.functional as F\n",
    "from torch.distributions import Categorical\n",
    "\n",
    "from tqdm import trange\n",
    "import matplotlib.pyplot as plt\n",
    "\n",
    "device = torch.device('cuda')"
   ]
  },
  {
   "cell_type": "code",
   "execution_count": 5,
   "id": "79b922f3",
   "metadata": {},
   "outputs": [],
   "source": [
    "import lib.networks.hollow_transformers as HT\n",
    "HollowTransformerEncoder = HT.HollowTransformerEncoder\n",
    "HollowTransformerEncoderAlt = HT.HollowTransformerEncoderAlt"
   ]
  },
  {
   "cell_type": "markdown",
   "id": "bf1eedfa",
   "metadata": {},
   "source": [
    "# Hollow transformers architecture\n",
    "\n",
    "Two attention streams, padded and offset, mixed at the end."
   ]
  },
  {
   "cell_type": "code",
   "execution_count": 4,
   "id": "1291ccb9",
   "metadata": {},
   "outputs": [],
   "source": [
    "class DirectionalTransformerBlock(nn.Module):\n",
    "    def __init__(self, embed_size, heads, dropout, forward_expansion, direction='forward'):\n",
    "        super(DirectionalTransformerBlock, self).__init__()\n",
    "        self.direction = direction\n",
    "        self.attention = nn.MultiheadAttention(embed_dim=embed_size, num_heads=heads)\n",
    "        self.norm1 = nn.LayerNorm(embed_size)\n",
    "        self.norm2 = nn.LayerNorm(embed_size)\n",
    "\n",
    "        self.feed_forward = nn.Sequential(\n",
    "            nn.Linear(embed_size, forward_expansion * embed_size),\n",
    "            nn.ReLU(),\n",
    "            nn.Linear(forward_expansion * embed_size, embed_size)\n",
    "        )\n",
    "        self.dropout = nn.Dropout(dropout)\n",
    "\n",
    "    def forward(self, value, key, query, mask=None):\n",
    "        sz = query.size(0)\n",
    "        device = query.device\n",
    "        \n",
    "        if self.direction == 'forward':\n",
    "            mask = torch.triu(torch.ones(sz, sz) * float('-inf'), diagonal=1).to(device)\n",
    "        elif self.direction == 'backward':\n",
    "            mask = torch.tril(torch.ones(sz, sz) * float('-inf'), diagonal=-1).to(device)\n",
    "        elif self.direction == 'mixed':\n",
    "            # concatenate both the forward mask and the backward mask\n",
    "            # this time mask out the diagonals\n",
    "            forward_mask = torch.triu(torch.ones(sz, sz) * float('-inf'), diagonal=1).to(device)\n",
    "            backward_mask = torch.tril(torch.ones(sz, sz) * float('-inf'), diagonal=-1).to(device)\n",
    "            mask = torch.cat([forward_mask, backward_mask], dim=1)\n",
    "        else:\n",
    "            return None\n",
    "\n",
    "        attention = self.attention(query, key, value, attn_mask=mask)[0]\n",
    "        x = self.dropout(self.norm1(attention + query))\n",
    "        forward = self.feed_forward(x)\n",
    "        out = self.dropout(self.norm2(forward + x))\n",
    "        \n",
    "        # Probably also add a residual connection for the mixed case?\n",
    "        \n",
    "        return out\n",
    "    \n",
    "class HollowTransformer(nn.Module):\n",
    "    def __init__(self, embed_size, heads, depth, dropout, forward_expansion, offset=True):\n",
    "        \"\"\"\n",
    "        offset decides if the inputs in the two streams are offsetted \n",
    "        and therefore each output position doesn't gain information about the corresponding input position.\n",
    "        \"\"\"\n",
    "        super(HollowTransformer, self).__init__()\n",
    "        self.offset = offset\n",
    "        self.forward_layers = nn.ModuleList([\n",
    "            DirectionalTransformerBlock(embed_size, heads, dropout, forward_expansion, direction='forward')\n",
    "            for _ in range(depth)\n",
    "        ])\n",
    "        self.backward_layers = nn.ModuleList([\n",
    "            DirectionalTransformerBlock(embed_size, heads, dropout, forward_expansion, direction='backward')\n",
    "            for _ in range(depth)\n",
    "        ])\n",
    "\n",
    "        # Optional: Final layer to combine the outputs\n",
    "        self.output_layer = nn.Linear(embed_size, embed_size)  # Adjust depending on how you choose to combine\n",
    "\n",
    "    def forward(self, x):\n",
    "        zero_pad = torch.zeros(1, x.size(1), x.size(2)).to(x.device)\n",
    "        if self.offset:\n",
    "            forward_output = torch.cat([zero_pad, x[:-1]], dim=0)\n",
    "            backward_output = torch.cat([x[1:], zero_pad], dim=0)\n",
    "        else:\n",
    "            forward_output = x\n",
    "            backward_output = x\n",
    "\n",
    "        # Process through all forward layers\n",
    "        for layer in self.forward_layers:\n",
    "            forward_output = layer(forward_output, forward_output, forward_output)\n",
    "\n",
    "        # Process through all backward layers\n",
    "        for layer in self.backward_layers:\n",
    "            backward_output = layer(backward_output, backward_output, backward_output)\n",
    "\n",
    "        # Combine the outputs from the two directions\n",
    "        combined_output = forward_output + backward_output  # Example: simple addition\n",
    "\n",
    "        # Optional: pass through the final output layer\n",
    "        out = self.output_layer(combined_output)\n",
    "\n",
    "        return out\n",
    "\n",
    "# Model instantiation and example usage\n",
    "# model = HollowTransformer(embed_size=256, heads=8, depth=6, dropout=0.1, forward_expansion=4)\n",
    "# input_tensor = torch.randn(10, 1, 256)  # Example input [seq_length, batch_size, embed_size]\n",
    "# output = model(input_tensor)"
   ]
  },
  {
   "cell_type": "code",
   "execution_count": 280,
   "id": "3068795c",
   "metadata": {},
   "outputs": [],
   "source": [
    "embed_size = 5\n",
    "heads = 1\n",
    "dropout = 0.1\n",
    "forward_expansion = 2\n",
    "seq_length = 10\n",
    "batch_size = 100\n",
    "\n",
    "learning_rate = 1e-3\n",
    "num_epochs = 10000\n",
    "\n",
    "forward_block = DirectionalTransformerBlock(embed_size, heads, dropout, forward_expansion, direction='forward')\n",
    "backward_block = DirectionalTransformerBlock(embed_size, heads, dropout, forward_expansion, direction='backward')\n",
    "\n",
    "# Example tensor\n",
    "input_seq = torch.randn((seq_length, batch_size, embed_size))  # Adjust dimensions as needed\n",
    "target_seq = input_seq\n",
    "\n",
    "# Forward and backward passes\n",
    "forward_output = forward_block(input_seq, input_seq, input_seq)\n",
    "backward_output = backward_block(input_seq, input_seq, input_seq)\n",
    "\n",
    "# Combine outputs\n",
    "combined_output = forward_output + backward_output  # or other combination method"
   ]
  },
  {
   "cell_type": "code",
   "execution_count": 282,
   "id": "4018897b",
   "metadata": {
    "scrolled": true
   },
   "outputs": [
    {
     "data": {
      "text/plain": [
       "torch.float32"
      ]
     },
     "execution_count": 282,
     "metadata": {},
     "output_type": "execute_result"
    }
   ],
   "source": [
    "input_seq.dtype"
   ]
  },
  {
   "cell_type": "code",
   "execution_count": 149,
   "id": "29b71fb3",
   "metadata": {},
   "outputs": [],
   "source": [
    "# class HollowTransformer(nn.Module):\n",
    "#     def __init__(self, embed_size, heads, dropout, forward_expansion):\n",
    "#         super(HollowTransformer, self).__init__()\n",
    "#         self.forward_block = DirectionalTransformerBlock(embed_size, heads, dropout, forward_expansion, direction='forward')\n",
    "#         self.backward_block = DirectionalTransformerBlock(embed_size, heads, dropout, forward_expansion, direction='backward')\n",
    "\n",
    "#     def forward(self, x):\n",
    "#         forward_output = self.forward_block(x, x, x)\n",
    "#         backward_output = self.backward_block(x, x, x)\n",
    "#         output = forward_output + backward_output  # This is one way to combine them\n",
    "#         return output"
   ]
  },
  {
   "cell_type": "code",
   "execution_count": 153,
   "id": "cd73e2dd",
   "metadata": {},
   "outputs": [
    {
     "name": "stderr",
     "output_type": "stream",
     "text": [
      "Loss:0.9916: 100%|██████████| 10000/10000 [03:12<00:00, 52.07it/s]\n"
     ]
    }
   ],
   "source": [
    "model = HollowTransformer(depth=3,\n",
    "                          embed_size=embed_size, heads=heads, \n",
    "                          dropout=dropout, forward_expansion=forward_expansion,\n",
    "                          offset=True)\n",
    "params = model.parameters()\n",
    "criterion = torch.nn.MSELoss()  # Adjust based on data type\n",
    "optimizer = torch.optim.Adam(params, lr=learning_rate)  # Define your params and learning rate\n",
    "\n",
    "losses = []\n",
    "\n",
    "pbar = trange(num_epochs)\n",
    "# Training loop\n",
    "for epoch in pbar:\n",
    "    optimizer.zero_grad()\n",
    "    output = model(input_seq)\n",
    "    loss = criterion(output, target_seq)\n",
    "    loss.backward()\n",
    "    losses.append(loss.detach())\n",
    "    pbar.set_description(\"Loss:{:.4f}\".format(loss.detach().numpy()))\n",
    "    optimizer.step()\n"
   ]
  },
  {
   "cell_type": "code",
   "execution_count": 152,
   "id": "cd79a09f",
   "metadata": {},
   "outputs": [
    {
     "data": {
      "text/plain": [
       "[<matplotlib.lines.Line2D at 0x7f906efc72b0>]"
      ]
     },
     "execution_count": 152,
     "metadata": {},
     "output_type": "execute_result"
    },
    {
     "data": {
      "image/png": "[encoded data removed]",
      "text/plain": [
       "<Figure size 432x288 with 1 Axes>"
      ]
     },
     "metadata": {
      "needs_background": "light"
     },
     "output_type": "display_data"
    }
   ],
   "source": [
    "import matplotlib.pyplot as plt\n",
    "\n",
    "plt.plot(losses[2000:])"
   ]
  },
  {
   "cell_type": "code",
   "execution_count": 154,
   "id": "826f843e",
   "metadata": {},
   "outputs": [
    {
     "data": {
      "text/plain": [
       "[<matplotlib.lines.Line2D at 0x7f906f1b6520>]"
      ]
     },
     "execution_count": 154,
     "metadata": {},
     "output_type": "execute_result"
    },
    {
     "data": {
      "image/png": "[encoded data removed]",
      "text/plain": [
       "<Figure size 432x288 with 1 Axes>"
      ]
     },
     "metadata": {
      "needs_background": "light"
     },
     "output_type": "display_data"
    }
   ],
   "source": [
    "plt.plot(losses)"
   ]
  },
  {
   "cell_type": "code",
   "execution_count": 141,
   "id": "99d83186",
   "metadata": {},
   "outputs": [
    {
     "data": {
      "text/plain": [
       "[<matplotlib.lines.Line2D at 0x7f906f10cc70>,\n",
       " <matplotlib.lines.Line2D at 0x7f906f10ccd0>,\n",
       " <matplotlib.lines.Line2D at 0x7f906f10cdf0>,\n",
       " <matplotlib.lines.Line2D at 0x7f906f10cf10>,\n",
       " <matplotlib.lines.Line2D at 0x7f906f102070>]"
      ]
     },
     "execution_count": 141,
     "metadata": {},
     "output_type": "execute_result"
    },
    {
     "data": {
      "image/png": "[encoded data removed]",
      "text/plain": [
       "<Figure size 432x288 with 1 Axes>"
      ]
     },
     "metadata": {
      "needs_background": "light"
     },
     "output_type": "display_data"
    }
   ],
   "source": [
    "model.eval()\n",
    "\n",
    "with torch.no_grad():\n",
    "    out_seq = model(input_seq)\n",
    "    \n",
    "id = 3\n",
    "plt.plot((input_seq-out_seq).numpy()[:,id])"
   ]
  },
  {
   "cell_type": "code",
   "execution_count": 59,
   "id": "9a109b98",
   "metadata": {},
   "outputs": [
    {
     "data": {
      "text/plain": [
       "[<matplotlib.lines.Line2D at 0x7f906f7ff520>]"
      ]
     },
     "execution_count": 59,
     "metadata": {},
     "output_type": "execute_result"
    },
    {
     "data": {
      "image/png": "[encoded data removed]",
      "text/plain": [
       "<Figure size 432x288 with 1 Axes>"
      ]
     },
     "metadata": {
      "needs_background": "light"
     },
     "output_type": "display_data"
    }
   ],
   "source": [
    "import matplotlib.pyplot as plt\n",
    "\n",
    "plt.plot(losses)"
   ]
  },
  {
   "cell_type": "code",
   "execution_count": 110,
   "id": "2b382ebe",
   "metadata": {},
   "outputs": [
    {
     "data": {
      "text/plain": [
       "tensor([[-inf, 0., 0., 0., 0., 0.],\n",
       "        [-inf, -inf, 0., 0., 0., 0.],\n",
       "        [-inf, -inf, -inf, 0., 0., 0.],\n",
       "        [-inf, -inf, -inf, -inf, 0., 0.],\n",
       "        [-inf, -inf, -inf, -inf, -inf, 0.]])"
      ]
     },
     "execution_count": 110,
     "metadata": {},
     "output_type": "execute_result"
    }
   ],
   "source": [
    "torch.tril(torch.ones(5, 6) * float('-inf'), diagonal=0)"
   ]
  },
  {
   "cell_type": "code",
   "execution_count": 112,
   "id": "886cb47f",
   "metadata": {},
   "outputs": [
    {
     "data": {
      "text/plain": [
       "tensor([[0., -inf, -inf, -inf, -inf, -inf],\n",
       "        [0., 0., -inf, -inf, -inf, -inf],\n",
       "        [0., 0., 0., -inf, -inf, -inf],\n",
       "        [0., 0., 0., 0., -inf, -inf],\n",
       "        [0., 0., 0., 0., 0., -inf]])"
      ]
     },
     "execution_count": 112,
     "metadata": {},
     "output_type": "execute_result"
    }
   ],
   "source": [
    "torch.triu(torch.ones(5, 6) * float('-inf'), diagonal=1)"
   ]
  },
  {
   "cell_type": "markdown",
   "id": "a90d4b54",
   "metadata": {},
   "source": [
    "# Bi-XLNet architecture\n",
    "\n",
    "2 content streams, 1 query stream. Information is mixed at every level."
   ]
  },
  {
   "cell_type": "code",
   "execution_count": 45,
   "id": "df953e6a",
   "metadata": {},
   "outputs": [],
   "source": [
    "# For some reason this two stream setup just completely fails (is it due to the lack of positional embeddings?)\n",
    "class BiXLNet(nn.Module):\n",
    "    def __init__(self, seq_len, embed_size, heads, depth, dropout, forward_expansion):\n",
    "        super(BiXLNet, self).__init__()\n",
    "        self.num_layers = depth\n",
    "        self.forward_layers = nn.ModuleList([\n",
    "            DirectionalTransformerBlock(embed_size, heads, dropout, forward_expansion, direction='forward')\n",
    "            for _ in range(depth)\n",
    "        ])\n",
    "        self.backward_layers = nn.ModuleList([\n",
    "            DirectionalTransformerBlock(embed_size, heads, dropout, forward_expansion, direction='backward')\n",
    "            for _ in range(depth)\n",
    "        ])\n",
    "        self.mixed_layers = nn.ModuleList([\n",
    "            DirectionalTransformerBlock(embed_size, heads, dropout, forward_expansion, direction='mixed')\n",
    "            for _ in range(depth+1)\n",
    "        ])\n",
    "        \n",
    "        # Initial vector for the query stream is a trainable parameter\n",
    "        self.query_init = nn.Parameter(torch.randn(seq_len, embed_size))\n",
    "        \n",
    "        # Optional: Final layer to combine the outputs\n",
    "        self.output_layer = nn.Linear(embed_size, embed_size)  # Adjust depending on how you choose to combine\n",
    "\n",
    "    def forward(self, x):\n",
    "        bsz = x.size(1)\n",
    "        forward_output = x\n",
    "        backward_output = x\n",
    "        mixed_output = self.query_init[:,None,:].repeat(1, bsz, 1)\n",
    "        \n",
    "        # Process the content streams\n",
    "        for i in range(self.num_layers):\n",
    "            forward_backward = torch.concat([forward_output, backward_output], dim=0)\n",
    "            mixed_output = self.mixed_layers[i](forward_backward, forward_backward, mixed_output)\n",
    "#             mixed_output = mixed_output / torch.sqrt(torch.tensor(2))\n",
    "            forward_output = self.forward_layers[i](forward_output, forward_output, forward_output)\n",
    "            backward_output = self.backward_layers[i](backward_output, backward_output, backward_output)\n",
    "\n",
    "#         zero_pad = torch.zeros(1, forward_output.size(1), forward_output.size(2)).to(forward_output.device)\n",
    "#         forward_output = torch.cat([zero_pad, forward_output[:-1]], dim=0)\n",
    "#         backward_output = torch.cat([backward_output[1:], zero_pad], dim=0)\n",
    "            \n",
    "#         # Combine the outputs from the two directions\n",
    "#         combined_output = forward_output + backward_output + mixed_output # Example: simple addition\n",
    "        forward_backward = torch.concat([forward_output, backward_output], dim=0)\n",
    "        mixed_output = self.mixed_layers[-1](forward_backward, forward_backward, mixed_output)\n",
    "#         mixed_output = mixed_output / torch.sqrt(torch.tensor(2))\n",
    "        combined_output = mixed_output\n",
    "\n",
    "        # Optional: pass through the final output layer\n",
    "        out = self.output_layer(combined_output)\n",
    "\n",
    "        return out"
   ]
  },
  {
   "cell_type": "code",
   "execution_count": 46,
   "id": "4c5d86ab",
   "metadata": {},
   "outputs": [],
   "source": [
    "embed_size = 5\n",
    "heads = 1\n",
    "dropout = 0.1\n",
    "forward_expansion = 2\n",
    "seq_length = 10\n",
    "batch_size = 100\n",
    "\n",
    "learning_rate = 1e-3\n",
    "num_epochs = 5000\n",
    "\n",
    "forward_block = DirectionalTransformerBlock(embed_size, heads, dropout, forward_expansion, direction='forward')\n",
    "backward_block = DirectionalTransformerBlock(embed_size, heads, dropout, forward_expansion, direction='backward')\n",
    "\n",
    "# Example tensor\n",
    "input_seq = torch.randn((seq_length, batch_size, embed_size)).to(device)  # Adjust dimensions as needed\n",
    "target_seq = input_seq"
   ]
  },
  {
   "cell_type": "code",
   "execution_count": 47,
   "id": "57354012",
   "metadata": {
    "collapsed": true
   },
   "outputs": [
    {
     "name": "stderr",
     "output_type": "stream",
     "text": [
      "Loss:1.0371:   2%|▏         | 121/5000 [00:11<07:41, 10.57it/s]\n"
     ]
    },
    {
     "ename": "KeyboardInterrupt",
     "evalue": "",
     "output_type": "error",
     "traceback": [
      "\u001b[0;31m---------------------------------------------------------------------------\u001b[0m",
      "\u001b[0;31mKeyboardInterrupt\u001b[0m                         Traceback (most recent call last)",
      "\u001b[0;32m/tmp/ipykernel_28824/358899028.py\u001b[0m in \u001b[0;36m<module>\u001b[0;34m\u001b[0m\n\u001b[1;32m     12\u001b[0m \u001b[0;32mfor\u001b[0m \u001b[0mepoch\u001b[0m \u001b[0;32min\u001b[0m \u001b[0mpbar\u001b[0m\u001b[0;34m:\u001b[0m\u001b[0;34m\u001b[0m\u001b[0;34m\u001b[0m\u001b[0m\n\u001b[1;32m     13\u001b[0m     \u001b[0moptimizer\u001b[0m\u001b[0;34m.\u001b[0m\u001b[0mzero_grad\u001b[0m\u001b[0;34m(\u001b[0m\u001b[0;34m)\u001b[0m\u001b[0;34m\u001b[0m\u001b[0;34m\u001b[0m\u001b[0m\n\u001b[0;32m---> 14\u001b[0;31m     \u001b[0moutput\u001b[0m \u001b[0;34m=\u001b[0m \u001b[0mmodel\u001b[0m\u001b[0;34m(\u001b[0m\u001b[0minput_seq\u001b[0m\u001b[0;34m)\u001b[0m\u001b[0;34m\u001b[0m\u001b[0;34m\u001b[0m\u001b[0m\n\u001b[0m\u001b[1;32m     15\u001b[0m     \u001b[0mloss\u001b[0m \u001b[0;34m=\u001b[0m \u001b[0mcriterion\u001b[0m\u001b[0;34m(\u001b[0m\u001b[0moutput\u001b[0m\u001b[0;34m,\u001b[0m \u001b[0mtarget_seq\u001b[0m\u001b[0;34m)\u001b[0m\u001b[0;34m\u001b[0m\u001b[0;34m\u001b[0m\u001b[0m\n\u001b[1;32m     16\u001b[0m     \u001b[0mloss\u001b[0m\u001b[0;34m.\u001b[0m\u001b[0mbackward\u001b[0m\u001b[0;34m(\u001b[0m\u001b[0;34m)\u001b[0m\u001b[0;34m\u001b[0m\u001b[0;34m\u001b[0m\u001b[0m\n",
      "\u001b[0;32m/home/groups/swl1/yixiuz/torch_fid/lib/python3.9/site-packages/torch/nn/modules/module.py\u001b[0m in \u001b[0;36m_wrapped_call_impl\u001b[0;34m(self, *args, **kwargs)\u001b[0m\n\u001b[1;32m   1509\u001b[0m             \u001b[0;32mreturn\u001b[0m \u001b[0mself\u001b[0m\u001b[0;34m.\u001b[0m\u001b[0m_compiled_call_impl\u001b[0m\u001b[0;34m(\u001b[0m\u001b[0;34m*\u001b[0m\u001b[0margs\u001b[0m\u001b[0;34m,\u001b[0m \u001b[0;34m**\u001b[0m\u001b[0mkwargs\u001b[0m\u001b[0;34m)\u001b[0m  \u001b[0;31m# type: ignore[misc]\u001b[0m\u001b[0;34m\u001b[0m\u001b[0;34m\u001b[0m\u001b[0m\n\u001b[1;32m   1510\u001b[0m         \u001b[0;32melse\u001b[0m\u001b[0;34m:\u001b[0m\u001b[0;34m\u001b[0m\u001b[0;34m\u001b[0m\u001b[0m\n\u001b[0;32m-> 1511\u001b[0;31m             \u001b[0;32mreturn\u001b[0m \u001b[0mself\u001b[0m\u001b[0;34m.\u001b[0m\u001b[0m_call_impl\u001b[0m\u001b[0;34m(\u001b[0m\u001b[0;34m*\u001b[0m\u001b[0margs\u001b[0m\u001b[0;34m,\u001b[0m \u001b[0;34m**\u001b[0m\u001b[0mkwargs\u001b[0m\u001b[0;34m)\u001b[0m\u001b[0;34m\u001b[0m\u001b[0;34m\u001b[0m\u001b[0m\n\u001b[0m\u001b[1;32m   1512\u001b[0m \u001b[0;34m\u001b[0m\u001b[0m\n\u001b[1;32m   1513\u001b[0m     \u001b[0;32mdef\u001b[0m \u001b[0m_call_impl\u001b[0m\u001b[0;34m(\u001b[0m\u001b[0mself\u001b[0m\u001b[0;34m,\u001b[0m \u001b[0;34m*\u001b[0m\u001b[0margs\u001b[0m\u001b[0;34m,\u001b[0m \u001b[0;34m**\u001b[0m\u001b[0mkwargs\u001b[0m\u001b[0;34m)\u001b[0m\u001b[0;34m:\u001b[0m\u001b[0;34m\u001b[0m\u001b[0;34m\u001b[0m\u001b[0m\n",
      "\u001b[0;32m/home/groups/swl1/yixiuz/torch_fid/lib/python3.9/site-packages/torch/nn/modules/module.py\u001b[0m in \u001b[0;36m_call_impl\u001b[0;34m(self, *args, **kwargs)\u001b[0m\n\u001b[1;32m   1518\u001b[0m                 \u001b[0;32mor\u001b[0m \u001b[0m_global_backward_pre_hooks\u001b[0m \u001b[0;32mor\u001b[0m \u001b[0m_global_backward_hooks\u001b[0m\u001b[0;34m\u001b[0m\u001b[0;34m\u001b[0m\u001b[0m\n\u001b[1;32m   1519\u001b[0m                 or _global_forward_hooks or _global_forward_pre_hooks):\n\u001b[0;32m-> 1520\u001b[0;31m             \u001b[0;32mreturn\u001b[0m \u001b[0mforward_call\u001b[0m\u001b[0;34m(\u001b[0m\u001b[0;34m*\u001b[0m\u001b[0margs\u001b[0m\u001b[0;34m,\u001b[0m \u001b[0;34m**\u001b[0m\u001b[0mkwargs\u001b[0m\u001b[0;34m)\u001b[0m\u001b[0;34m\u001b[0m\u001b[0;34m\u001b[0m\u001b[0m\n\u001b[0m\u001b[1;32m   1521\u001b[0m \u001b[0;34m\u001b[0m\u001b[0m\n\u001b[1;32m   1522\u001b[0m         \u001b[0;32mtry\u001b[0m\u001b[0;34m:\u001b[0m\u001b[0;34m\u001b[0m\u001b[0;34m\u001b[0m\u001b[0m\n",
      "\u001b[0;32m/tmp/ipykernel_28824/2050361062.py\u001b[0m in \u001b[0;36mforward\u001b[0;34m(self, x)\u001b[0m\n\u001b[1;32m     33\u001b[0m             \u001b[0mmixed_output\u001b[0m \u001b[0;34m=\u001b[0m \u001b[0mself\u001b[0m\u001b[0;34m.\u001b[0m\u001b[0mmixed_layers\u001b[0m\u001b[0;34m[\u001b[0m\u001b[0mi\u001b[0m\u001b[0;34m]\u001b[0m\u001b[0;34m(\u001b[0m\u001b[0mforward_backward\u001b[0m\u001b[0;34m,\u001b[0m \u001b[0mforward_backward\u001b[0m\u001b[0;34m,\u001b[0m \u001b[0mmixed_output\u001b[0m\u001b[0;34m)\u001b[0m\u001b[0;34m\u001b[0m\u001b[0;34m\u001b[0m\u001b[0m\n\u001b[1;32m     34\u001b[0m \u001b[0;31m#             mixed_output = mixed_output / torch.sqrt(torch.tensor(2))\u001b[0m\u001b[0;34m\u001b[0m\u001b[0;34m\u001b[0m\u001b[0;34m\u001b[0m\u001b[0m\n\u001b[0;32m---> 35\u001b[0;31m             \u001b[0mforward_output\u001b[0m \u001b[0;34m=\u001b[0m \u001b[0mself\u001b[0m\u001b[0;34m.\u001b[0m\u001b[0mforward_layers\u001b[0m\u001b[0;34m[\u001b[0m\u001b[0mi\u001b[0m\u001b[0;34m]\u001b[0m\u001b[0;34m(\u001b[0m\u001b[0mforward_output\u001b[0m\u001b[0;34m,\u001b[0m \u001b[0mforward_output\u001b[0m\u001b[0;34m,\u001b[0m \u001b[0mforward_output\u001b[0m\u001b[0;34m)\u001b[0m\u001b[0;34m\u001b[0m\u001b[0;34m\u001b[0m\u001b[0m\n\u001b[0m\u001b[1;32m     36\u001b[0m             \u001b[0mbackward_output\u001b[0m \u001b[0;34m=\u001b[0m \u001b[0mself\u001b[0m\u001b[0;34m.\u001b[0m\u001b[0mbackward_layers\u001b[0m\u001b[0;34m[\u001b[0m\u001b[0mi\u001b[0m\u001b[0;34m]\u001b[0m\u001b[0;34m(\u001b[0m\u001b[0mbackward_output\u001b[0m\u001b[0;34m,\u001b[0m \u001b[0mbackward_output\u001b[0m\u001b[0;34m,\u001b[0m \u001b[0mbackward_output\u001b[0m\u001b[0;34m)\u001b[0m\u001b[0;34m\u001b[0m\u001b[0;34m\u001b[0m\u001b[0m\n\u001b[1;32m     37\u001b[0m \u001b[0;34m\u001b[0m\u001b[0m\n",
      "\u001b[0;32m/home/groups/swl1/yixiuz/torch_fid/lib/python3.9/site-packages/torch/nn/modules/module.py\u001b[0m in \u001b[0;36m_wrapped_call_impl\u001b[0;34m(self, *args, **kwargs)\u001b[0m\n\u001b[1;32m   1509\u001b[0m             \u001b[0;32mreturn\u001b[0m \u001b[0mself\u001b[0m\u001b[0;34m.\u001b[0m\u001b[0m_compiled_call_impl\u001b[0m\u001b[0;34m(\u001b[0m\u001b[0;34m*\u001b[0m\u001b[0margs\u001b[0m\u001b[0;34m,\u001b[0m \u001b[0;34m**\u001b[0m\u001b[0mkwargs\u001b[0m\u001b[0;34m)\u001b[0m  \u001b[0;31m# type: ignore[misc]\u001b[0m\u001b[0;34m\u001b[0m\u001b[0;34m\u001b[0m\u001b[0m\n\u001b[1;32m   1510\u001b[0m         \u001b[0;32melse\u001b[0m\u001b[0;34m:\u001b[0m\u001b[0;34m\u001b[0m\u001b[0;34m\u001b[0m\u001b[0m\n\u001b[0;32m-> 1511\u001b[0;31m             \u001b[0;32mreturn\u001b[0m \u001b[0mself\u001b[0m\u001b[0;34m.\u001b[0m\u001b[0m_call_impl\u001b[0m\u001b[0;34m(\u001b[0m\u001b[0;34m*\u001b[0m\u001b[0margs\u001b[0m\u001b[0;34m,\u001b[0m \u001b[0;34m**\u001b[0m\u001b[0mkwargs\u001b[0m\u001b[0;34m)\u001b[0m\u001b[0;34m\u001b[0m\u001b[0;34m\u001b[0m\u001b[0m\n\u001b[0m\u001b[1;32m   1512\u001b[0m \u001b[0;34m\u001b[0m\u001b[0m\n\u001b[1;32m   1513\u001b[0m     \u001b[0;32mdef\u001b[0m \u001b[0m_call_impl\u001b[0m\u001b[0;34m(\u001b[0m\u001b[0mself\u001b[0m\u001b[0;34m,\u001b[0m \u001b[0;34m*\u001b[0m\u001b[0margs\u001b[0m\u001b[0;34m,\u001b[0m \u001b[0;34m**\u001b[0m\u001b[0mkwargs\u001b[0m\u001b[0;34m)\u001b[0m\u001b[0;34m:\u001b[0m\u001b[0;34m\u001b[0m\u001b[0;34m\u001b[0m\u001b[0m\n",
      "\u001b[0;32m/home/groups/swl1/yixiuz/torch_fid/lib/python3.9/site-packages/torch/nn/modules/module.py\u001b[0m in \u001b[0;36m_call_impl\u001b[0;34m(self, *args, **kwargs)\u001b[0m\n\u001b[1;32m   1518\u001b[0m                 \u001b[0;32mor\u001b[0m \u001b[0m_global_backward_pre_hooks\u001b[0m \u001b[0;32mor\u001b[0m \u001b[0m_global_backward_hooks\u001b[0m\u001b[0;34m\u001b[0m\u001b[0;34m\u001b[0m\u001b[0m\n\u001b[1;32m   1519\u001b[0m                 or _global_forward_hooks or _global_forward_pre_hooks):\n\u001b[0;32m-> 1520\u001b[0;31m             \u001b[0;32mreturn\u001b[0m \u001b[0mforward_call\u001b[0m\u001b[0;34m(\u001b[0m\u001b[0;34m*\u001b[0m\u001b[0margs\u001b[0m\u001b[0;34m,\u001b[0m \u001b[0;34m**\u001b[0m\u001b[0mkwargs\u001b[0m\u001b[0;34m)\u001b[0m\u001b[0;34m\u001b[0m\u001b[0;34m\u001b[0m\u001b[0m\n\u001b[0m\u001b[1;32m   1521\u001b[0m \u001b[0;34m\u001b[0m\u001b[0m\n\u001b[1;32m   1522\u001b[0m         \u001b[0;32mtry\u001b[0m\u001b[0;34m:\u001b[0m\u001b[0;34m\u001b[0m\u001b[0;34m\u001b[0m\u001b[0m\n",
      "\u001b[0;32m/tmp/ipykernel_28824/2356917710.py\u001b[0m in \u001b[0;36mforward\u001b[0;34m(self, value, key, query, mask)\u001b[0m\n\u001b[1;32m     19\u001b[0m \u001b[0;34m\u001b[0m\u001b[0m\n\u001b[1;32m     20\u001b[0m         \u001b[0;32mif\u001b[0m \u001b[0mself\u001b[0m\u001b[0;34m.\u001b[0m\u001b[0mdirection\u001b[0m \u001b[0;34m==\u001b[0m \u001b[0;34m'forward'\u001b[0m\u001b[0;34m:\u001b[0m\u001b[0;34m\u001b[0m\u001b[0;34m\u001b[0m\u001b[0m\n\u001b[0;32m---> 21\u001b[0;31m             \u001b[0mmask\u001b[0m \u001b[0;34m=\u001b[0m \u001b[0mtorch\u001b[0m\u001b[0;34m.\u001b[0m\u001b[0mtriu\u001b[0m\u001b[0;34m(\u001b[0m\u001b[0mtorch\u001b[0m\u001b[0;34m.\u001b[0m\u001b[0mones\u001b[0m\u001b[0;34m(\u001b[0m\u001b[0msz\u001b[0m\u001b[0;34m,\u001b[0m \u001b[0msz\u001b[0m\u001b[0;34m)\u001b[0m \u001b[0;34m*\u001b[0m \u001b[0mfloat\u001b[0m\u001b[0;34m(\u001b[0m\u001b[0;34m'-inf'\u001b[0m\u001b[0;34m)\u001b[0m\u001b[0;34m,\u001b[0m \u001b[0mdiagonal\u001b[0m\u001b[0;34m=\u001b[0m\u001b[0;36m1\u001b[0m\u001b[0;34m)\u001b[0m\u001b[0;34m.\u001b[0m\u001b[0mto\u001b[0m\u001b[0;34m(\u001b[0m\u001b[0mdevice\u001b[0m\u001b[0;34m)\u001b[0m\u001b[0;34m\u001b[0m\u001b[0;34m\u001b[0m\u001b[0m\n\u001b[0m\u001b[1;32m     22\u001b[0m         \u001b[0;32melif\u001b[0m \u001b[0mself\u001b[0m\u001b[0;34m.\u001b[0m\u001b[0mdirection\u001b[0m \u001b[0;34m==\u001b[0m \u001b[0;34m'backward'\u001b[0m\u001b[0;34m:\u001b[0m\u001b[0;34m\u001b[0m\u001b[0;34m\u001b[0m\u001b[0m\n\u001b[1;32m     23\u001b[0m             \u001b[0mmask\u001b[0m \u001b[0;34m=\u001b[0m \u001b[0mtorch\u001b[0m\u001b[0;34m.\u001b[0m\u001b[0mtril\u001b[0m\u001b[0;34m(\u001b[0m\u001b[0mtorch\u001b[0m\u001b[0;34m.\u001b[0m\u001b[0mones\u001b[0m\u001b[0;34m(\u001b[0m\u001b[0msz\u001b[0m\u001b[0;34m,\u001b[0m \u001b[0msz\u001b[0m\u001b[0;34m)\u001b[0m \u001b[0;34m*\u001b[0m \u001b[0mfloat\u001b[0m\u001b[0;34m(\u001b[0m\u001b[0;34m'-inf'\u001b[0m\u001b[0;34m)\u001b[0m\u001b[0;34m,\u001b[0m \u001b[0mdiagonal\u001b[0m\u001b[0;34m=\u001b[0m\u001b[0;34m-\u001b[0m\u001b[0;36m1\u001b[0m\u001b[0;34m)\u001b[0m\u001b[0;34m.\u001b[0m\u001b[0mto\u001b[0m\u001b[0;34m(\u001b[0m\u001b[0mdevice\u001b[0m\u001b[0;34m)\u001b[0m\u001b[0;34m\u001b[0m\u001b[0;34m\u001b[0m\u001b[0m\n",
      "\u001b[0;31mKeyboardInterrupt\u001b[0m: "
     ]
    }
   ],
   "source": [
    "model = BiXLNet(seq_len=seq_length, depth=3,\n",
    "                embed_size=embed_size, heads=heads, \n",
    "                dropout=dropout, forward_expansion=forward_expansion).to(device)\n",
    "params = model.parameters()\n",
    "criterion = torch.nn.MSELoss()  # Adjust based on data type\n",
    "optimizer = torch.optim.Adam(params, lr=learning_rate)  # Define your params and learning rate\n",
    "\n",
    "losses = []\n",
    "\n",
    "pbar = trange(num_epochs)\n",
    "# Training loop\n",
    "for epoch in pbar:\n",
    "    optimizer.zero_grad()\n",
    "    output = model(input_seq)\n",
    "    loss = criterion(output, target_seq)\n",
    "    loss.backward()\n",
    "    losses.append(loss.detach())\n",
    "    pbar.set_description(\"Loss:{:.4f}\".format(loss.cpu().detach().numpy()))\n",
    "    optimizer.step()\n"
   ]
  },
  {
   "cell_type": "markdown",
   "id": "2a280bea",
   "metadata": {},
   "source": [
    "# Let's implement the toy sequence dataset"
   ]
  },
  {
   "cell_type": "code",
   "execution_count": 6,
   "id": "1da73c65",
   "metadata": {},
   "outputs": [],
   "source": [
    "def create_countdown_dataset(state_size, num_seqs, seq_len):\n",
    "    total_len = num_seqs * seq_len\n",
    "    data = torch.zeros((total_len,))\n",
    "    cat = Categorical(torch.ones(state_size,) / state_size)\n",
    "    starts = cat.sample((total_len,))\n",
    "    curr = 0\n",
    "    while curr < total_len:\n",
    "        x = starts[curr]\n",
    "        l = min(total_len-1, curr+x) - curr\n",
    "        data[curr:curr+l] = torch.arange(x, x-l, -1)\n",
    "        curr += x + 1\n",
    "    return data.reshape((num_seqs, seq_len)).to(torch.int64)"
   ]
  },
  {
   "cell_type": "code",
   "execution_count": 45,
   "id": "d7d90dc8",
   "metadata": {},
   "outputs": [],
   "source": [
    "states = 16\n",
    "seq_len = 100\n",
    "num_seqs = 200\n",
    "dataset = F.one_hot(create_countdown_dataset(states, num_seqs, seq_len))"
   ]
  },
  {
   "cell_type": "code",
   "execution_count": 46,
   "id": "4e338d3b",
   "metadata": {},
   "outputs": [],
   "source": [
    "id = 0"
   ]
  },
  {
   "cell_type": "code",
   "execution_count": 47,
   "id": "839d4d86",
   "metadata": {
    "scrolled": true
   },
   "outputs": [
    {
     "data": {
      "text/plain": [
       "<matplotlib.image.AxesImage at 0x7f07dd0b33d0>"
      ]
     },
     "execution_count": 47,
     "metadata": {},
     "output_type": "execute_result"
    },
    {
     "data": {
      "image/png": "[encoded data removed]",
      "text/plain": [
       "<Figure size 720x360 with 1 Axes>"
      ]
     },
     "metadata": {
      "needs_background": "light"
     },
     "output_type": "display_data"
    }
   ],
   "source": [
    "id += 1\n",
    "plt.figure(figsize=(10, 5))\n",
    "plt.imshow(dataset[id].T)"
   ]
  },
  {
   "cell_type": "markdown",
   "id": "3b600c1a",
   "metadata": {},
   "source": [
    "# See if our transformer can learn to reconstruct this dataset"
   ]
  },
  {
   "cell_type": "code",
   "execution_count": 49,
   "id": "9b0dbb16",
   "metadata": {
    "scrolled": true
   },
   "outputs": [],
   "source": [
    "# input_seq = torch.swapaxes(dataset, 0, 1).to(torch.float32).to(device)\n",
    "# input_seq.shape"
   ]
  },
  {
   "cell_type": "code",
   "execution_count": 50,
   "id": "db753652",
   "metadata": {},
   "outputs": [
    {
     "name": "stdout",
     "output_type": "stream",
     "text": [
      "torch.Size([200, 100])\n"
     ]
    }
   ],
   "source": [
    "# model = HollowTransformerEncoder(\n",
    "#             num_layers=4, d_model=8, num_heads=4, dim_feedforward=16, dropout=.1,\n",
    "#             num_output_FFresiduals=2, time_scale_factor=1, S=states, max_len=100,\n",
    "#             temb_dim=8, use_one_hot_input=True, num_layers_per_mixed=2, device=device\n",
    "#         ).to(device)\n",
    "model = HollowTransformerEncoderAlt(\n",
    "            num_layers=4, d_model=8, num_heads=1, dim_feedforward=16, dropout=.1,\n",
    "            num_output_FFresiduals=2, time_scale_factor=1, S=states, max_len=seq_len,\n",
    "            temb_dim=8, use_one_hot_input=True, num_layers_per_mixed=2, device=device\n",
    "        ).to(device)\n",
    "input_seq = dataset.to(torch.float32).to(device)\n",
    "target_seq = input_seq\n",
    "input_seq = torch.argmax(input_seq, axis=-1)\n",
    "print(input_seq.shape)"
   ]
  },
  {
   "cell_type": "code",
   "execution_count": 51,
   "id": "55ba4de4",
   "metadata": {},
   "outputs": [],
   "source": [
    "random_cat = torch.distributions.Categorical(torch.ones((states,)))\n",
    "rand_input_seq = random_cat.sample(input_seq.shape).to(torch.int64).to(device)  # Adjust dimensions as needed\n",
    "rand_target_seq = torch.zeros((num_seqs, seq_len, states)).to(device)\n",
    "for id in range(num_seqs):\n",
    "    rand_target_seq[id,torch.arange(seq_len),rand_input_seq[id]] = 1"
   ]
  },
  {
   "cell_type": "code",
   "execution_count": 52,
   "id": "12feab6f",
   "metadata": {},
   "outputs": [
    {
     "data": {
      "text/plain": [
       "torch.Size([200, 100, 16])"
      ]
     },
     "execution_count": 52,
     "metadata": {},
     "output_type": "execute_result"
    }
   ],
   "source": [
    "rand_target_seq.shape"
   ]
  },
  {
   "cell_type": "code",
   "execution_count": 53,
   "id": "f37c1528",
   "metadata": {},
   "outputs": [
    {
     "name": "stderr",
     "output_type": "stream",
     "text": [
      "Loss:0.0026: 100%|██████████| 1000/1000 [00:32<00:00, 31.02it/s]\n"
     ]
    }
   ],
   "source": [
    "embed_size = 10\n",
    "heads = 1\n",
    "dropout = 0.1\n",
    "forward_expansion = 2\n",
    "\n",
    "learning_rate = 2e-3\n",
    "num_epochs = 1000\n",
    "\n",
    "# model = HollowTransformer(depth=3,\n",
    "#                           embed_size=embed_size, heads=heads, \n",
    "#                           dropout=dropout, forward_expansion=forward_expansion,\n",
    "#                           offset=True).to(device)\n",
    "\n",
    "# model = BiXLNet(seq_len=seq_len, depth=3,\n",
    "#                 embed_size=embed_size, heads=heads, \n",
    "#                 dropout=dropout, forward_expansion=forward_expansion).to(device)\n",
    "\n",
    "params = model.parameters()\n",
    "criterion = torch.nn.MSELoss()  # Adjust based on data type\n",
    "optimizer = torch.optim.Adam(params, lr=learning_rate)  # Define your params and learning rate\n",
    "\n",
    "losses = []\n",
    "\n",
    "pbar = trange(num_epochs)\n",
    "# Training loop\n",
    "for epoch in pbar:\n",
    "    optimizer.zero_grad()\n",
    "    output = model(input_seq, torch.ones((num_seqs,)).to(device) * 0)\n",
    "    loss = criterion(output, target_seq)\n",
    "    loss.backward()\n",
    "    losses.append(loss.detach().cpu())\n",
    "    pbar.set_description(\"Loss:{:.4f}\".format(loss.detach().cpu().numpy()))\n",
    "    optimizer.step()"
   ]
  },
  {
   "cell_type": "code",
   "execution_count": 54,
   "id": "fd1e61f6",
   "metadata": {},
   "outputs": [
    {
     "data": {
      "text/plain": [
       "[<matplotlib.lines.Line2D at 0x7f07dce8fc70>]"
      ]
     },
     "execution_count": 54,
     "metadata": {},
     "output_type": "execute_result"
    },
    {
     "data": {
      "image/png": "[encoded data removed]",
      "text/plain": [
       "<Figure size 432x288 with 1 Axes>"
      ]
     },
     "metadata": {
      "needs_background": "light"
     },
     "output_type": "display_data"
    }
   ],
   "source": [
    "plt.plot(losses)"
   ]
  },
  {
   "cell_type": "code",
   "execution_count": 55,
   "id": "4de9bce3",
   "metadata": {},
   "outputs": [],
   "source": [
    "model.eval().to(device)\n",
    "input_seq = input_seq.to(device)\n",
    "model.device = device\n",
    "with torch.no_grad():\n",
    "    out_seq = model(input_seq, torch.ones((num_seqs,)).to(device) * 0)"
   ]
  },
  {
   "cell_type": "code",
   "execution_count": 56,
   "id": "ae4d0dff",
   "metadata": {},
   "outputs": [
    {
     "data": {
      "text/plain": [
       "torch.Size([200, 100, 16])"
      ]
     },
     "execution_count": 56,
     "metadata": {},
     "output_type": "execute_result"
    }
   ],
   "source": [
    "target_seq.shape"
   ]
  },
  {
   "cell_type": "code",
   "execution_count": 57,
   "id": "5bc5cd41",
   "metadata": {},
   "outputs": [],
   "source": [
    "id = 0"
   ]
  },
  {
   "cell_type": "code",
   "execution_count": 65,
   "id": "2e154878",
   "metadata": {},
   "outputs": [
    {
     "data": {
      "text/plain": [
       "<matplotlib.image.AxesImage at 0x7f07dcb291c0>"
      ]
     },
     "execution_count": 65,
     "metadata": {},
     "output_type": "execute_result"
    },
    {
     "data": {
      "image/png": "[encoded data removed]",
      "text/plain": [
       "<Figure size 432x288 with 1 Axes>"
      ]
     },
     "metadata": {
      "needs_background": "light"
     },
     "output_type": "display_data"
    },
    {
     "data": {
      "image/png": "[encoded data removed]",
      "text/plain": [
       "<Figure size 432x288 with 1 Axes>"
      ]
     },
     "metadata": {
      "needs_background": "light"
     },
     "output_type": "display_data"
    }
   ],
   "source": [
    "id += 1\n",
    "plt.imshow(out_seq.cpu().numpy()[id].T)\n",
    "plt.figure()\n",
    "plt.imshow(target_seq.cpu()[id].T)"
   ]
  },
  {
   "cell_type": "code",
   "execution_count": null,
   "id": "5d66881b",
   "metadata": {},
   "outputs": [],
   "source": []
  }
 ],
 "metadata": {
  "kernelspec": {
   "display_name": "Python 3",
   "language": "python",
   "name": "python3"
  },
  "language_info": {
   "codemirror_mode": {
    "name": "ipython",
    "version": 3
   },
   "file_extension": ".py",
   "mimetype": "text/x-python",
   "name": "python",
   "nbconvert_exporter": "python",
   "pygments_lexer": "ipython3",
   "version": "3.9.0"
  }
 },
 "nbformat": 4,
 "nbformat_minor": 5
}
